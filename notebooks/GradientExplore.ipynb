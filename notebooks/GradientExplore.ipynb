{
 "cells": [
  {
   "cell_type": "markdown",
   "metadata": {},
   "source": [
    "# Gradient Exploration"
   ]
  },
  {
   "cell_type": "markdown",
   "metadata": {},
   "source": [
    "The purpose of this notebook is to explore how gradients can be preserved on and off a GPU, accumulated *within* a batch, and be handled by multiple GPUs."
   ]
  },
  {
   "cell_type": "code",
   "execution_count": 1,
   "metadata": {},
   "outputs": [],
   "source": [
    "import os\n",
    "\n",
    "import torch\n",
    "import torch.nn as nn\n",
    "from torchviz import make_dot"
   ]
  },
  {
   "cell_type": "markdown",
   "metadata": {},
   "source": [
    "### TODO"
   ]
  },
  {
   "cell_type": "markdown",
   "metadata": {},
   "source": [
    "- [ ] Load a test dataset\n",
    "- [ ] Set up a reproducible training step\n",
    "- [ ] Ensure that I understand how the backwards step works!"
   ]
  },
  {
   "cell_type": "markdown",
   "metadata": {},
   "source": [
    "# Most Minimal Play"
   ]
  },
  {
   "cell_type": "markdown",
   "metadata": {},
   "source": [
    "- `retain_graph` allows multiple backward passes\n",
    "- The grad's are accumulated *on the leaf variables*\n",
    "- `backward` is run on an output variable"
   ]
  },
  {
   "cell_type": "markdown",
   "metadata": {
    "heading_collapsed": true
   },
   "source": [
    "## Basics"
   ]
  },
  {
   "cell_type": "code",
   "execution_count": 74,
   "metadata": {
    "hidden": true
   },
   "outputs": [],
   "source": [
    "x = torch.rand(4, requires_grad=True)\n",
    "y = torch.rand(4, requires_grad=True)"
   ]
  },
  {
   "cell_type": "code",
   "execution_count": 75,
   "metadata": {
    "hidden": true
   },
   "outputs": [
    {
     "data": {
      "text/plain": [
       "(tensor([0.4820, 0.1776, 0.9892, 0.9979], requires_grad=True),\n",
       " tensor([0.5668, 0.8687, 0.2601, 0.8752], requires_grad=True))"
      ]
     },
     "execution_count": 75,
     "metadata": {},
     "output_type": "execute_result"
    }
   ],
   "source": [
    "x, y"
   ]
  },
  {
   "cell_type": "code",
   "execution_count": 82,
   "metadata": {
    "hidden": true
   },
   "outputs": [],
   "source": [
    "z = x*y"
   ]
  },
  {
   "cell_type": "code",
   "execution_count": 83,
   "metadata": {
    "hidden": true
   },
   "outputs": [],
   "source": [
    "z.backward(torch.FloatTensor([1.0, 1.0, 1.0, 1.0]))"
   ]
  },
  {
   "cell_type": "code",
   "execution_count": 84,
   "metadata": {
    "hidden": true
   },
   "outputs": [
    {
     "data": {
      "text/plain": [
       "tensor([1.1336, 1.7374, 0.5203, 1.7504])"
      ]
     },
     "execution_count": 84,
     "metadata": {},
     "output_type": "execute_result"
    }
   ],
   "source": [
    "x.grad.data"
   ]
  },
  {
   "cell_type": "code",
   "execution_count": 85,
   "metadata": {
    "hidden": true
   },
   "outputs": [
    {
     "data": {
      "text/plain": [
       "tensor([0.9639, 0.3551, 1.9784, 1.9958])"
      ]
     },
     "execution_count": 85,
     "metadata": {},
     "output_type": "execute_result"
    }
   ],
   "source": [
    "y.grad.data"
   ]
  },
  {
   "cell_type": "markdown",
   "metadata": {
    "heading_collapsed": true
   },
   "source": [
    "## GPU on-and-off"
   ]
  },
  {
   "cell_type": "code",
   "execution_count": 131,
   "metadata": {
    "hidden": true
   },
   "outputs": [],
   "source": [
    "x1_cpu = torch.tensor([1., 1., 1., 1.], requires_grad=True)\n",
    "y1_cpu = torch.tensor([4., 4., 4., 4.], requires_grad=True)\n",
    "x2_cpu = torch.tensor([1., 1., 1., 1.], requires_grad=True)\n",
    "y2_cpu = torch.tensor([3., 3., 3., 3.], requires_grad=True)"
   ]
  },
  {
   "cell_type": "code",
   "execution_count": 132,
   "metadata": {
    "hidden": true
   },
   "outputs": [],
   "source": [
    "x1_cuda, y1_cuda = x1_cpu.to(\"cuda\"), y1_cpu.to(\"cuda\")"
   ]
  },
  {
   "cell_type": "code",
   "execution_count": 133,
   "metadata": {
    "hidden": true
   },
   "outputs": [],
   "source": [
    "z1_cuda = x1_cuda * y1_cuda"
   ]
  },
  {
   "cell_type": "code",
   "execution_count": 134,
   "metadata": {
    "hidden": true
   },
   "outputs": [],
   "source": [
    "z1_cpu = z1_cuda.to(\"cpu\")\n",
    "x1_cpu2, y1_cpu2 = x1_cuda.to(\"cpu\"), y1_cuda.to(\"cpu\")"
   ]
  },
  {
   "cell_type": "code",
   "execution_count": 135,
   "metadata": {
    "hidden": true
   },
   "outputs": [],
   "source": [
    "x2_cuda, y2_cuda = x2_cpu.to(\"cuda\"), y2_cpu.to(\"cuda\")"
   ]
  },
  {
   "cell_type": "code",
   "execution_count": 136,
   "metadata": {
    "hidden": true
   },
   "outputs": [],
   "source": [
    "z2_cuda = x2_cuda * y2_cuda"
   ]
  },
  {
   "cell_type": "code",
   "execution_count": 137,
   "metadata": {
    "hidden": true
   },
   "outputs": [],
   "source": [
    "z1_cuda2 = z1_cpu.to(\"cuda\")"
   ]
  },
  {
   "cell_type": "code",
   "execution_count": 138,
   "metadata": {
    "hidden": true
   },
   "outputs": [],
   "source": [
    "z_total = z1_cuda2 + z2_cuda"
   ]
  },
  {
   "cell_type": "code",
   "execution_count": 139,
   "metadata": {
    "hidden": true
   },
   "outputs": [],
   "source": [
    "del x1_cuda"
   ]
  },
  {
   "cell_type": "code",
   "execution_count": 140,
   "metadata": {
    "hidden": true
   },
   "outputs": [],
   "source": [
    "z_total.sum().backward()"
   ]
  },
  {
   "cell_type": "code",
   "execution_count": 141,
   "metadata": {
    "hidden": true
   },
   "outputs": [
    {
     "data": {
      "text/plain": [
       "tensor([4., 4., 4., 4.])"
      ]
     },
     "execution_count": 141,
     "metadata": {},
     "output_type": "execute_result"
    }
   ],
   "source": [
    "x1_cpu.grad"
   ]
  },
  {
   "cell_type": "code",
   "execution_count": 142,
   "metadata": {
    "hidden": true
   },
   "outputs": [
    {
     "data": {
      "text/plain": [
       "tensor([1., 1., 1., 1.])"
      ]
     },
     "execution_count": 142,
     "metadata": {},
     "output_type": "execute_result"
    }
   ],
   "source": [
    "y1_cpu.grad"
   ]
  },
  {
   "cell_type": "code",
   "execution_count": 143,
   "metadata": {
    "hidden": true
   },
   "outputs": [
    {
     "data": {
      "text/plain": [
       "tensor([3., 3., 3., 3.])"
      ]
     },
     "execution_count": 143,
     "metadata": {},
     "output_type": "execute_result"
    }
   ],
   "source": [
    "x2_cpu.grad"
   ]
  },
  {
   "cell_type": "code",
   "execution_count": 144,
   "metadata": {
    "hidden": true
   },
   "outputs": [
    {
     "data": {
      "text/plain": [
       "tensor([1., 1., 1., 1.])"
      ]
     },
     "execution_count": 144,
     "metadata": {},
     "output_type": "execute_result"
    }
   ],
   "source": [
    "y2_cpu.grad"
   ]
  },
  {
   "cell_type": "markdown",
   "metadata": {},
   "source": [
    "## Memory Test"
   ]
  },
  {
   "cell_type": "code",
   "execution_count": 2,
   "metadata": {},
   "outputs": [
    {
     "name": "stderr",
     "output_type": "stream",
     "text": [
      "/global/homes/d/danieltm/.conda/envs/exatrkx-test/lib/python3.7/site-packages/torch/cuda/memory.py:234: FutureWarning: torch.cuda.reset_max_memory_allocated now calls torch.cuda.reset_peak_memory_stats, which resets /all/ peak memory stats.\n",
      "  FutureWarning)\n",
      "/global/homes/d/danieltm/.conda/envs/exatrkx-test/lib/python3.7/site-packages/torch/cuda/memory.py:260: FutureWarning: torch.cuda.reset_max_memory_cached now calls torch.cuda.reset_peak_memory_stats, which resets /all/ peak memory stats.\n",
      "  FutureWarning)\n"
     ]
    }
   ],
   "source": [
    "torch.cuda.reset_max_memory_allocated()\n",
    "torch.cuda.reset_max_memory_cached()"
   ]
  },
  {
   "cell_type": "code",
   "execution_count": 3,
   "metadata": {},
   "outputs": [
    {
     "name": "stdout",
     "output_type": "stream",
     "text": [
      "|===========================================================================|\n",
      "|                  PyTorch CUDA memory summary, device ID 0                 |\n",
      "|---------------------------------------------------------------------------|\n",
      "|            CUDA OOMs: 0            |        cudaMalloc retries: 0         |\n",
      "|===========================================================================|\n",
      "|        Metric         | Cur Usage  | Peak Usage | Tot Alloc  | Tot Freed  |\n",
      "|---------------------------------------------------------------------------|\n",
      "| Allocated memory      |       0 B  |       0 B  |       0 B  |       0 B  |\n",
      "|       from large pool |       0 B  |       0 B  |       0 B  |       0 B  |\n",
      "|       from small pool |       0 B  |       0 B  |       0 B  |       0 B  |\n",
      "|---------------------------------------------------------------------------|\n",
      "| Active memory         |       0 B  |       0 B  |       0 B  |       0 B  |\n",
      "|       from large pool |       0 B  |       0 B  |       0 B  |       0 B  |\n",
      "|       from small pool |       0 B  |       0 B  |       0 B  |       0 B  |\n",
      "|---------------------------------------------------------------------------|\n",
      "| GPU reserved memory   |       0 B  |       0 B  |       0 B  |       0 B  |\n",
      "|       from large pool |       0 B  |       0 B  |       0 B  |       0 B  |\n",
      "|       from small pool |       0 B  |       0 B  |       0 B  |       0 B  |\n",
      "|---------------------------------------------------------------------------|\n",
      "| Non-releasable memory |       0 B  |       0 B  |       0 B  |       0 B  |\n",
      "|       from large pool |       0 B  |       0 B  |       0 B  |       0 B  |\n",
      "|       from small pool |       0 B  |       0 B  |       0 B  |       0 B  |\n",
      "|---------------------------------------------------------------------------|\n",
      "| Allocations           |       0    |       0    |       0    |       0    |\n",
      "|       from large pool |       0    |       0    |       0    |       0    |\n",
      "|       from small pool |       0    |       0    |       0    |       0    |\n",
      "|---------------------------------------------------------------------------|\n",
      "| Active allocs         |       0    |       0    |       0    |       0    |\n",
      "|       from large pool |       0    |       0    |       0    |       0    |\n",
      "|       from small pool |       0    |       0    |       0    |       0    |\n",
      "|---------------------------------------------------------------------------|\n",
      "| GPU reserved segments |       0    |       0    |       0    |       0    |\n",
      "|       from large pool |       0    |       0    |       0    |       0    |\n",
      "|       from small pool |       0    |       0    |       0    |       0    |\n",
      "|---------------------------------------------------------------------------|\n",
      "| Non-releasable allocs |       0    |       0    |       0    |       0    |\n",
      "|       from large pool |       0    |       0    |       0    |       0    |\n",
      "|       from small pool |       0    |       0    |       0    |       0    |\n",
      "|===========================================================================|\n",
      "\n"
     ]
    }
   ],
   "source": [
    "print(torch.cuda.memory_summary())"
   ]
  },
  {
   "cell_type": "code",
   "execution_count": 67,
   "metadata": {},
   "outputs": [],
   "source": [
    "torch.cuda.reset_max_memory_allocated()\n",
    "torch.cuda.reset_max_memory_cached()"
   ]
  },
  {
   "cell_type": "code",
   "execution_count": 68,
   "metadata": {},
   "outputs": [],
   "source": [
    "x1_size = (100000,1000)\n",
    "y1_size = (100000,1000)\n",
    "x1 = torch.rand(x1_size, requires_grad=True, device=\"cuda\")\n",
    "y1 = torch.rand(y1_size, requires_grad=True, device=\"cuda\")\n",
    "x2 = torch.rand(x1_size, requires_grad=True, device=\"cuda\")\n",
    "y2 = torch.rand(y1_size, requires_grad=True, device=\"cuda\")\n",
    "# x1 = torch.rand(x1_size, device=\"cuda\")\n",
    "# y1 = torch.rand(y1_size, device=\"cuda\")"
   ]
  },
  {
   "cell_type": "code",
   "execution_count": 69,
   "metadata": {},
   "outputs": [
    {
     "name": "stdout",
     "output_type": "stream",
     "text": [
      "1.865234375\n"
     ]
    }
   ],
   "source": [
    "print(torch.cuda.max_memory_allocated()/ 1024**3) "
   ]
  },
  {
   "cell_type": "code",
   "execution_count": 70,
   "metadata": {},
   "outputs": [],
   "source": [
    "torch.cuda.reset_max_memory_allocated()\n",
    "torch.cuda.reset_max_memory_cached()"
   ]
  },
  {
   "cell_type": "code",
   "execution_count": 71,
   "metadata": {},
   "outputs": [],
   "source": [
    "z = x1*y1"
   ]
  },
  {
   "cell_type": "code",
   "execution_count": 72,
   "metadata": {},
   "outputs": [
    {
     "name": "stdout",
     "output_type": "stream",
     "text": [
      "1.865234375\n"
     ]
    }
   ],
   "source": [
    "print(torch.cuda.max_memory_allocated()/ 1024**3) "
   ]
  },
  {
   "cell_type": "code",
   "execution_count": 73,
   "metadata": {},
   "outputs": [],
   "source": [
    "x1 = x1.to(\"cpu\")\n",
    "y1 = y1.to(\"cpu\")"
   ]
  },
  {
   "cell_type": "code",
   "execution_count": 75,
   "metadata": {},
   "outputs": [
    {
     "name": "stdout",
     "output_type": "stream",
     "text": [
      "1.865234375\n"
     ]
    }
   ],
   "source": [
    "print(torch.cuda.max_memory_allocated()/ 1024**3) "
   ]
  },
  {
   "cell_type": "code",
   "execution_count": 74,
   "metadata": {},
   "outputs": [],
   "source": [
    "torch.cuda.reset_max_memory_allocated()\n",
    "torch.cuda.reset_max_memory_cached()"
   ]
  },
  {
   "cell_type": "code",
   "execution_count": 76,
   "metadata": {},
   "outputs": [],
   "source": [
    "z.sum().backward()"
   ]
  },
  {
   "cell_type": "code",
   "execution_count": 77,
   "metadata": {},
   "outputs": [
    {
     "name": "stdout",
     "output_type": "stream",
     "text": [
      "2.6113290786743164\n"
     ]
    }
   ],
   "source": [
    "print(torch.cuda.max_memory_allocated()/ 1024**3) "
   ]
  },
  {
   "cell_type": "code",
   "execution_count": 78,
   "metadata": {},
   "outputs": [],
   "source": [
    "del z"
   ]
  },
  {
   "cell_type": "code",
   "execution_count": 79,
   "metadata": {},
   "outputs": [],
   "source": [
    "torch.cuda.reset_max_memory_allocated()\n",
    "torch.cuda.reset_max_memory_cached()"
   ]
  },
  {
   "cell_type": "code",
   "execution_count": 80,
   "metadata": {},
   "outputs": [
    {
     "name": "stdout",
     "output_type": "stream",
     "text": [
      "2.23828125\n"
     ]
    }
   ],
   "source": [
    "print(torch.cuda.max_memory_allocated()/ 1024**3) "
   ]
  },
  {
   "cell_type": "code",
   "execution_count": 29,
   "metadata": {},
   "outputs": [],
   "source": [
    "x1.grad=None\n",
    "y1.grad=None"
   ]
  },
  {
   "cell_type": "code",
   "execution_count": 30,
   "metadata": {},
   "outputs": [],
   "source": [
    "torch.cuda.reset_max_memory_allocated()\n",
    "torch.cuda.reset_max_memory_cached()"
   ]
  },
  {
   "cell_type": "code",
   "execution_count": 31,
   "metadata": {},
   "outputs": [
    {
     "name": "stdout",
     "output_type": "stream",
     "text": [
      "1.865234375\n"
     ]
    }
   ],
   "source": [
    "print(torch.cuda.max_memory_allocated()/ 1024**3) "
   ]
  },
  {
   "cell_type": "code",
   "execution_count": 132,
   "metadata": {},
   "outputs": [],
   "source": [
    "x1_cuda, y1_cuda = x1_cpu.to(\"cuda\"), y1_cpu.to(\"cuda\")"
   ]
  },
  {
   "cell_type": "code",
   "execution_count": 133,
   "metadata": {},
   "outputs": [],
   "source": [
    "z1_cuda = x1_cuda * y1_cuda"
   ]
  },
  {
   "cell_type": "code",
   "execution_count": 134,
   "metadata": {},
   "outputs": [],
   "source": [
    "z1_cpu = z1_cuda.to(\"cpu\")\n",
    "x1_cpu2, y1_cpu2 = x1_cuda.to(\"cpu\"), y1_cuda.to(\"cpu\")"
   ]
  },
  {
   "cell_type": "code",
   "execution_count": 135,
   "metadata": {},
   "outputs": [],
   "source": [
    "x2_cuda, y2_cuda = x2_cpu.to(\"cuda\"), y2_cpu.to(\"cuda\")"
   ]
  },
  {
   "cell_type": "code",
   "execution_count": 136,
   "metadata": {},
   "outputs": [],
   "source": [
    "z2_cuda = x2_cuda * y2_cuda"
   ]
  },
  {
   "cell_type": "code",
   "execution_count": 137,
   "metadata": {},
   "outputs": [],
   "source": [
    "z1_cuda2 = z1_cpu.to(\"cuda\")"
   ]
  },
  {
   "cell_type": "code",
   "execution_count": 138,
   "metadata": {},
   "outputs": [],
   "source": [
    "z_total = z1_cuda2 + z2_cuda"
   ]
  },
  {
   "cell_type": "markdown",
   "metadata": {},
   "source": [
    "# Sequential Model Play"
   ]
  },
  {
   "cell_type": "markdown",
   "metadata": {},
   "source": [
    "We create a sequential NN, then feed a variable through it"
   ]
  },
  {
   "cell_type": "code",
   "execution_count": 11,
   "metadata": {},
   "outputs": [],
   "source": [
    "model = nn.Sequential()"
   ]
  },
  {
   "cell_type": "code",
   "execution_count": 12,
   "metadata": {},
   "outputs": [],
   "source": [
    "model.add_module('W0', nn.Linear(3, 16))\n",
    "model.add_module('tanh', nn.Tanh())\n",
    "model.add_module('W1', nn.Linear(16, 1))"
   ]
  },
  {
   "cell_type": "code",
   "execution_count": 13,
   "metadata": {},
   "outputs": [],
   "source": [
    "x = torch.randn((1,3), requires_grad=True)"
   ]
  },
  {
   "cell_type": "code",
   "execution_count": 14,
   "metadata": {},
   "outputs": [
    {
     "data": {
      "text/plain": [
       "tensor([[ 1.0646,  0.7194, -0.4448]], requires_grad=True)"
      ]
     },
     "execution_count": 14,
     "metadata": {},
     "output_type": "execute_result"
    }
   ],
   "source": [
    "x"
   ]
  },
  {
   "cell_type": "code",
   "execution_count": 15,
   "metadata": {},
   "outputs": [],
   "source": [
    "y = model(x)"
   ]
  },
  {
   "cell_type": "code",
   "execution_count": 16,
   "metadata": {},
   "outputs": [
    {
     "data": {
      "text/plain": [
       "tensor([[-0.1016]], grad_fn=<AddmmBackward>)"
      ]
     },
     "execution_count": 16,
     "metadata": {},
     "output_type": "execute_result"
    }
   ],
   "source": [
    "y"
   ]
  },
  {
   "cell_type": "code",
   "execution_count": 17,
   "metadata": {},
   "outputs": [
    {
     "data": {
      "text/plain": [
       "{'W0.weight': Parameter containing:\n",
       " tensor([[ 0.2392,  0.3530, -0.0977],\n",
       "         [ 0.1958, -0.0073,  0.2408],\n",
       "         [ 0.0658,  0.4778,  0.1292],\n",
       "         [ 0.1938, -0.3796,  0.1065],\n",
       "         [-0.1575,  0.2916,  0.3924],\n",
       "         [-0.2167, -0.0704, -0.5197],\n",
       "         [ 0.4216,  0.1047,  0.5400],\n",
       "         [-0.4827,  0.4868, -0.5655],\n",
       "         [ 0.3096, -0.3725, -0.3382],\n",
       "         [ 0.0190, -0.3260, -0.0828],\n",
       "         [-0.1678,  0.4821,  0.1528],\n",
       "         [ 0.3671,  0.4760, -0.5092],\n",
       "         [ 0.2448,  0.2161, -0.1691],\n",
       "         [-0.4507,  0.2656,  0.4777],\n",
       "         [-0.1823, -0.2169,  0.4688],\n",
       "         [-0.2667,  0.5446,  0.2151]], requires_grad=True),\n",
       " 'W0.bias': Parameter containing:\n",
       " tensor([ 0.2466, -0.5018,  0.0103,  0.1711,  0.4140, -0.0998,  0.3709, -0.3463,\n",
       "          0.4880,  0.1452,  0.3080,  0.0793, -0.5400,  0.1486,  0.2751,  0.0492],\n",
       "        requires_grad=True),\n",
       " 'W1.weight': Parameter containing:\n",
       " tensor([[-0.1382,  0.0121,  0.1774,  0.1123, -0.0276,  0.1617,  0.0063,  0.2020,\n",
       "           0.0990, -0.1007, -0.1776, -0.0974, -0.1946, -0.1905, -0.0448,  0.1873]],\n",
       "        requires_grad=True),\n",
       " 'W1.bias': Parameter containing:\n",
       " tensor([-0.0114], requires_grad=True)}"
      ]
     },
     "execution_count": 17,
     "metadata": {},
     "output_type": "execute_result"
    }
   ],
   "source": [
    "dict(model.named_parameters())"
   ]
  },
  {
   "cell_type": "markdown",
   "metadata": {},
   "source": [
    "Now we can backprop with a scalar (e.g. mean of y) and check that each variable accumulated a gradient!"
   ]
  },
  {
   "cell_type": "code",
   "execution_count": 18,
   "metadata": {},
   "outputs": [],
   "source": [
    "y.mean().backward()"
   ]
  },
  {
   "cell_type": "code",
   "execution_count": 21,
   "metadata": {},
   "outputs": [
    {
     "data": {
      "text/plain": [
       "tensor([[-0.0893,  0.0204, -0.1982]])"
      ]
     },
     "execution_count": 21,
     "metadata": {},
     "output_type": "execute_result"
    }
   ],
   "source": [
    "x.grad.data"
   ]
  },
  {
   "cell_type": "code",
   "execution_count": 37,
   "metadata": {},
   "outputs": [
    {
     "data": {
      "text/plain": [
       "dict_items([('W0.weight', Parameter containing:\n",
       "tensor([[ 0.2392,  0.3530, -0.0977],\n",
       "        [ 0.1958, -0.0073,  0.2408],\n",
       "        [ 0.0658,  0.4778,  0.1292],\n",
       "        [ 0.1938, -0.3796,  0.1065],\n",
       "        [-0.1575,  0.2916,  0.3924],\n",
       "        [-0.2167, -0.0704, -0.5197],\n",
       "        [ 0.4216,  0.1047,  0.5400],\n",
       "        [-0.4827,  0.4868, -0.5655],\n",
       "        [ 0.3096, -0.3725, -0.3382],\n",
       "        [ 0.0190, -0.3260, -0.0828],\n",
       "        [-0.1678,  0.4821,  0.1528],\n",
       "        [ 0.3671,  0.4760, -0.5092],\n",
       "        [ 0.2448,  0.2161, -0.1691],\n",
       "        [-0.4507,  0.2656,  0.4777],\n",
       "        [-0.1823, -0.2169,  0.4688],\n",
       "        [-0.2667,  0.5446,  0.2151]], requires_grad=True)), ('W0.bias', Parameter containing:\n",
       "tensor([ 0.2466, -0.5018,  0.0103,  0.1711,  0.4140, -0.0998,  0.3709, -0.3463,\n",
       "         0.4880,  0.1452,  0.3080,  0.0793, -0.5400,  0.1486,  0.2751,  0.0492],\n",
       "       requires_grad=True)), ('W1.weight', Parameter containing:\n",
       "tensor([[-0.1382,  0.0121,  0.1774,  0.1123, -0.0276,  0.1617,  0.0063,  0.2020,\n",
       "          0.0990, -0.1007, -0.1776, -0.0974, -0.1946, -0.1905, -0.0448,  0.1873]],\n",
       "       requires_grad=True)), ('W1.bias', Parameter containing:\n",
       "tensor([-0.0114], requires_grad=True))])"
      ]
     },
     "execution_count": 37,
     "metadata": {},
     "output_type": "execute_result"
    }
   ],
   "source": [
    "dict(model.named_parameters()).items()"
   ]
  },
  {
   "cell_type": "code",
   "execution_count": 38,
   "metadata": {},
   "outputs": [
    {
     "name": "stdout",
     "output_type": "stream",
     "text": [
      "W0.weight tensor([[-0.0824, -0.0557,  0.0344],\n",
      "        [ 0.0110,  0.0074, -0.0046],\n",
      "        [ 0.1656,  0.1119, -0.0692],\n",
      "        [ 0.1192,  0.0806, -0.0498],\n",
      "        [-0.0272, -0.0183,  0.0113],\n",
      "        [ 0.1683,  0.1137, -0.0703],\n",
      "        [ 0.0045,  0.0030, -0.0019],\n",
      "        [ 0.2013,  0.1360, -0.0841],\n",
      "        [ 0.0669,  0.0452, -0.0279],\n",
      "        [-0.1071, -0.0724,  0.0447],\n",
      "        [-0.1608, -0.1086,  0.0672],\n",
      "        [-0.0410, -0.0277,  0.0171],\n",
      "        [-0.2067, -0.1397,  0.0864],\n",
      "        [-0.1796, -0.1213,  0.0750],\n",
      "        [-0.0441, -0.0298,  0.0184],\n",
      "        [ 0.1986,  0.1342, -0.0830]])\n",
      "W0.bias tensor([-0.0774,  0.0103,  0.1556,  0.1120, -0.0255,  0.1581,  0.0042,  0.1891,\n",
      "         0.0628, -0.1006, -0.1510, -0.0385, -0.1942, -0.1687, -0.0414,  0.1866])\n",
      "W1.weight tensor([[ 0.6633, -0.3848,  0.3510,  0.0568,  0.2743, -0.1488,  0.5750, -0.2529,\n",
      "          0.6044, -0.0322,  0.3869,  0.7775, -0.0487, -0.3388, -0.2762,  0.0613]])\n",
      "W1.bias tensor([1.])\n"
     ]
    }
   ],
   "source": [
    "for (k, v) in dict(model.named_parameters()).items():\n",
    "    print(k,v.grad)"
   ]
  },
  {
   "cell_type": "code",
   "execution_count": 39,
   "metadata": {},
   "outputs": [
    {
     "name": "stdout",
     "output_type": "stream",
     "text": [
      "W0.weight Parameter containing:\n",
      "tensor([[ 0.2392,  0.3530, -0.0977],\n",
      "        [ 0.1958, -0.0073,  0.2408],\n",
      "        [ 0.0658,  0.4778,  0.1292],\n",
      "        [ 0.1938, -0.3796,  0.1065],\n",
      "        [-0.1575,  0.2916,  0.3924],\n",
      "        [-0.2167, -0.0704, -0.5197],\n",
      "        [ 0.4216,  0.1047,  0.5400],\n",
      "        [-0.4827,  0.4868, -0.5655],\n",
      "        [ 0.3096, -0.3725, -0.3382],\n",
      "        [ 0.0190, -0.3260, -0.0828],\n",
      "        [-0.1678,  0.4821,  0.1528],\n",
      "        [ 0.3671,  0.4760, -0.5092],\n",
      "        [ 0.2448,  0.2161, -0.1691],\n",
      "        [-0.4507,  0.2656,  0.4777],\n",
      "        [-0.1823, -0.2169,  0.4688],\n",
      "        [-0.2667,  0.5446,  0.2151]], requires_grad=True)\n",
      "W0.bias Parameter containing:\n",
      "tensor([ 0.2466, -0.5018,  0.0103,  0.1711,  0.4140, -0.0998,  0.3709, -0.3463,\n",
      "         0.4880,  0.1452,  0.3080,  0.0793, -0.5400,  0.1486,  0.2751,  0.0492],\n",
      "       requires_grad=True)\n",
      "W1.weight Parameter containing:\n",
      "tensor([[-0.1382,  0.0121,  0.1774,  0.1123, -0.0276,  0.1617,  0.0063,  0.2020,\n",
      "          0.0990, -0.1007, -0.1776, -0.0974, -0.1946, -0.1905, -0.0448,  0.1873]],\n",
      "       requires_grad=True)\n",
      "W1.bias Parameter containing:\n",
      "tensor([-0.0114], requires_grad=True)\n"
     ]
    }
   ],
   "source": [
    "for (k, v) in dict(model.named_parameters()).items():\n",
    "    print(k,v)"
   ]
  },
  {
   "cell_type": "markdown",
   "metadata": {
    "heading_collapsed": true
   },
   "source": [
    "# Filter Gradient Play"
   ]
  },
  {
   "cell_type": "markdown",
   "metadata": {
    "hidden": true
   },
   "source": [
    "## Dataset"
   ]
  },
  {
   "cell_type": "code",
   "execution_count": 3,
   "metadata": {
    "hidden": true
   },
   "outputs": [],
   "source": [
    "input_dir = \"/global/cscratch1/sd/danieltm/ExaTrkX/trackml-codalab/embedding_processed/1_pt_cut_endcaps_unweighted/train/\"\n",
    "num_events = 20"
   ]
  },
  {
   "cell_type": "code",
   "execution_count": 5,
   "metadata": {
    "hidden": true
   },
   "outputs": [],
   "source": [
    "all_events = os.listdir(input_dir)\n",
    "all_events = sorted([os.path.join(input_dir, event) for event in all_events])\n",
    "loaded_events = []\n",
    "for event in all_events[:num_events]:\n",
    "    try:\n",
    "        loaded_event = torch.load(event, map_location=torch.device('cpu'))\n",
    "        loaded_events.append(loaded_event)\n",
    "    except:\n",
    "        pass"
   ]
  },
  {
   "cell_type": "markdown",
   "metadata": {
    "hidden": true
   },
   "source": [
    "## Model"
   ]
  },
  {
   "cell_type": "code",
   "execution_count": 9,
   "metadata": {
    "hidden": true
   },
   "outputs": [
    {
     "ename": "AttributeError",
     "evalue": "module 'torch.nn' has no attribute 'module'",
     "output_type": "error",
     "traceback": [
      "\u001b[0;31m---------------------------------------------------------------------------\u001b[0m",
      "\u001b[0;31mAttributeError\u001b[0m                            Traceback (most recent call last)",
      "\u001b[0;32m<ipython-input-9-0c224002e96e>\u001b[0m in \u001b[0;36m<module>\u001b[0;34m\u001b[0m\n\u001b[0;32m----> 1\u001b[0;31m \u001b[0;32mclass\u001b[0m \u001b[0mVanillaFilter\u001b[0m\u001b[0;34m(\u001b[0m\u001b[0mnn\u001b[0m\u001b[0;34m.\u001b[0m\u001b[0mmodule\u001b[0m\u001b[0;34m)\u001b[0m\u001b[0;34m:\u001b[0m\u001b[0;34m\u001b[0m\u001b[0;34m\u001b[0m\u001b[0m\n\u001b[0m\u001b[1;32m      2\u001b[0m \u001b[0;34m\u001b[0m\u001b[0m\n\u001b[1;32m      3\u001b[0m     \u001b[0;32mdef\u001b[0m \u001b[0m__init__\u001b[0m\u001b[0;34m(\u001b[0m\u001b[0mself\u001b[0m\u001b[0;34m,\u001b[0m \u001b[0mhparams\u001b[0m\u001b[0;34m)\u001b[0m\u001b[0;34m:\u001b[0m\u001b[0;34m\u001b[0m\u001b[0;34m\u001b[0m\u001b[0m\n\u001b[1;32m      4\u001b[0m         \u001b[0msuper\u001b[0m\u001b[0;34m(\u001b[0m\u001b[0;34m)\u001b[0m\u001b[0;34m.\u001b[0m\u001b[0m__init__\u001b[0m\u001b[0;34m(\u001b[0m\u001b[0mhparams\u001b[0m\u001b[0;34m)\u001b[0m\u001b[0;34m\u001b[0m\u001b[0;34m\u001b[0m\u001b[0m\n\u001b[1;32m      5\u001b[0m         '''\n",
      "\u001b[0;31mAttributeError\u001b[0m: module 'torch.nn' has no attribute 'module'"
     ]
    }
   ],
   "source": [
    "class VanillaFilter(nn.module):\n",
    "\n",
    "    def __init__(self, hparams):\n",
    "        super().__init__(hparams)\n",
    "        '''\n",
    "        Initialise the Lightning Module that can scan over different filter training regimes\n",
    "        '''\n",
    "\n",
    "        # Construct the MLP architecture\n",
    "        self.input_layer = Linear(hparams[\"in_channels\"]*2 + hparams[\"emb_channels\"]*2, hparams[\"hidden\"])\n",
    "        layers = [Linear(hparams[\"hidden\"], hparams[\"hidden\"]) for _ in range(hparams[\"nb_layer\"]-1)]\n",
    "        self.layers = nn.ModuleList(layers)\n",
    "        self.output_layer = nn.Linear(hparams[\"hidden\"], 1)\n",
    "        self.layernorm = nn.LayerNorm(hparams[\"hidden\"])\n",
    "        self.batchnorm = nn.BatchNorm1d(num_features=hparams[\"hidden\"], track_running_stats=False)\n",
    "        self.act = nn.Tanh()\n",
    "\n",
    "    def forward(self, x, e, emb=None):\n",
    "        if emb is not None:\n",
    "            x = self.input_layer(torch.cat([x[e[0]], emb[e[0]], x[e[1]], emb[e[1]]], dim=-1))\n",
    "        else:\n",
    "            x = self.input_layer(torch.cat([x[e[0]], x[e[1]]], dim=-1))\n",
    "        for l in self.layers:\n",
    "            x = l(x)\n",
    "            x = self.act(x)\n",
    "            if self.hparams[\"layernorm\"]: x = self.layernorm(x) #Option of LayerNorm\n",
    "            if self.hparams[\"batchnorm\"]: x = self.batchnorm(x) #Option of Batch\n",
    "        x = self.output_layer(x)\n",
    "        return x"
   ]
  },
  {
   "cell_type": "markdown",
   "metadata": {
    "hidden": true
   },
   "source": [
    "## Training Step"
   ]
  },
  {
   "cell_type": "code",
   "execution_count": null,
   "metadata": {
    "hidden": true
   },
   "outputs": [],
   "source": [
    "for batch in loaded_events:\n",
    "    "
   ]
  }
 ],
 "metadata": {
  "kernelspec": {
   "display_name": "ExatrkxTest",
   "language": "python",
   "name": "exatrkx-test"
  },
  "language_info": {
   "codemirror_mode": {
    "name": "ipython",
    "version": 3
   },
   "file_extension": ".py",
   "mimetype": "text/x-python",
   "name": "python",
   "nbconvert_exporter": "python",
   "pygments_lexer": "ipython3",
   "version": "3.7.7"
  }
 },
 "nbformat": 4,
 "nbformat_minor": 4
}
