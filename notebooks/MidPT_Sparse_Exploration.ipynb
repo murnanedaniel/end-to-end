{
 "cells": [
  {
   "cell_type": "markdown",
   "metadata": {},
   "source": [
    "# End-to-End Architecture Performance Comparisons"
   ]
  },
  {
   "cell_type": "code",
   "execution_count": 1,
   "metadata": {
    "code_folding": []
   },
   "outputs": [],
   "source": [
    "# System imports\n",
    "import os\n",
    "import sys\n",
    "from time import time as tt\n",
    "\n",
    "# External imports\n",
    "import matplotlib.pyplot as plt\n",
    "import scipy as sp\n",
    "import numpy as np\n",
    "import pandas as pd\n",
    "\n",
    "from itertools import chain\n",
    "from itertools import permutations\n",
    "\n",
    "import torch\n",
    "from torch_geometric.data import DataLoader\n",
    "from torch.nn import Linear\n",
    "import torch.nn.functional as F\n",
    "from torch_scatter import scatter, segment_csr, scatter_add\n",
    "from torch_geometric.nn.conv import MessagePassing\n",
    "from torch_cluster import knn_graph, radius_graph\n",
    "from torch_sparse import SparseTensor\n",
    "import torch_sparse\n",
    "import torch_geometric\n",
    "import torch_geometric.nn as pygnn\n",
    "\n",
    "import trackml.dataset\n",
    "\n",
    "# Limit CPU usage on Jupyter\n",
    "os.environ['OMP_NUM_THREADS'] = '4'\n",
    "\n",
    "# Pick up local packages\n",
    "sys.path.append('..')\n",
    "\n",
    "# Local imports\n",
    "from prepare_utils import prepare_event\n",
    "from toy_utils import *\n",
    "from models import *\n",
    "from trainers import *\n",
    "%matplotlib inline\n",
    "\n",
    "# Get rid of RuntimeWarnings, gross\n",
    "device = 'cuda' if torch.cuda.is_available() else 'cpu'\n",
    "import wandb\n",
    "import faiss\n",
    "props = dict(boxstyle='round', facecolor='wheat', alpha=0.5)\n",
    "torch_seed = 0"
   ]
  },
  {
   "cell_type": "code",
   "execution_count": 2,
   "metadata": {},
   "outputs": [],
   "source": [
    "from apex.parallel import DistributedDataParallel as DDP\n",
    "from apex.fp16_utils import *\n",
    "from apex import amp, optimizers"
   ]
  },
  {
   "cell_type": "code",
   "execution_count": 10,
   "metadata": {},
   "outputs": [],
   "source": [
    "importlib.reload(sys.modules['toy_utils'])\n",
    "from toy_utils import *"
   ]
  },
  {
   "cell_type": "code",
   "execution_count": 10,
   "metadata": {},
   "outputs": [],
   "source": [
    "importlib.reload(sys.modules['models'])\n",
    "from models import *"
   ]
  },
  {
   "cell_type": "markdown",
   "metadata": {},
   "source": [
    "### Load Graph Data"
   ]
  },
  {
   "cell_type": "code",
   "execution_count": 2,
   "metadata": {},
   "outputs": [],
   "source": [
    "pt_cut = 0.5\n",
    "train_number = 1000\n",
    "test_number = 100\n",
    "load_dir = \"/global/cscratch1/sd/danieltm/ExaTrkX/trackml_processed/\"\n",
    "gnn_train_path = os.path.join(load_dir, str(pt_cut) + \"_pt_cut\", str(train_number) + \"_graphs_train\")\n",
    "gnn_test_path = os.path.join(load_dir, str(pt_cut) + \"_pt_cut\", str(test_number) + \"_graphs_test\")"
   ]
  },
  {
   "cell_type": "code",
   "execution_count": 3,
   "metadata": {},
   "outputs": [
    {
     "name": "stdout",
     "output_type": "stream",
     "text": [
      "CPU times: user 154 ms, sys: 3.21 s, total: 3.36 s\n",
      "Wall time: 4.06 s\n"
     ]
    }
   ],
   "source": [
    "%%time\n",
    "gnn_train_dataset = torch.load(gnn_train_path)\n",
    "gnn_test_dataset = torch.load(gnn_test_path)\n",
    "gnn_train_loader = DataLoader(gnn_train_dataset, batch_size=1, shuffle=True)\n",
    "gnn_test_loader = DataLoader(gnn_test_dataset, batch_size=1, shuffle=True)"
   ]
  },
  {
   "cell_type": "markdown",
   "metadata": {
    "heading_collapsed": true
   },
   "source": [
    "### Train"
   ]
  },
  {
   "cell_type": "markdown",
   "metadata": {
    "hidden": true
   },
   "source": [
    "New model:"
   ]
  },
  {
   "cell_type": "code",
   "execution_count": 13,
   "metadata": {
    "hidden": true
   },
   "outputs": [
    {
     "data": {
      "text/html": [
       "\n",
       "                Logging results to <a href=\"https://wandb.com\" target=\"_blank\">Weights & Biases</a> <a href=\"https://docs.wandb.com/integrations/jupyter.html\" target=\"_blank\">(Documentation)</a>.<br/>\n",
       "                Project page: <a href=\"https://app.wandb.ai/murnanedaniel/GravNet\" target=\"_blank\">https://app.wandb.ai/murnanedaniel/GravNet</a><br/>\n",
       "                Run page: <a href=\"https://app.wandb.ai/murnanedaniel/GravNet/runs/edkif7ke\" target=\"_blank\">https://app.wandb.ai/murnanedaniel/GravNet/runs/edkif7ke</a><br/>\n",
       "            "
      ],
      "text/plain": [
       "<IPython.core.display.HTML object>"
      ]
     },
     "metadata": {},
     "output_type": "display_data"
    },
    {
     "name": "stderr",
     "output_type": "stream",
     "text": [
      "Failed to query for notebook name, you can set it manually with the WANDB_NOTEBOOK_NAME environment variable\n",
      "\u001b[34m\u001b[1mwandb\u001b[0m: Wandb version 0.9.1 is available!  To upgrade, please run:\n",
      "\u001b[34m\u001b[1mwandb\u001b[0m:  $ pip install wandb --upgrade\n"
     ]
    }
   ],
   "source": [
    "m_configs = {\"in_channels\": 3, \"hidden_dim\": 64, \"n_graph_iters\": 6}\n",
    "torch.manual_seed(torch_seed)\n",
    "model = ResAGNN(**m_configs).to(device)\n",
    "other_configs = {\"weight\": 2}\n",
    "m_configs.update(other_configs)\n",
    "model_name = wandb.init(project=\"GravNet\", group=\"ResAGNN\", config=m_configs)\n",
    "wandb.watch(model, log='all')\n",
    "optimizer = torch.optim.AdamW(model.parameters(), lr=0.001, weight_decay=1e-3, amsgrad=True)\n",
    "scheduler = torch.optim.lr_scheduler.ReduceLROnPlateau(optimizer, factor=0.3, patience=10)"
   ]
  },
  {
   "cell_type": "markdown",
   "metadata": {
    "hidden": true
   },
   "source": [
    "...or load model:"
   ]
  },
  {
   "cell_type": "code",
   "execution_count": 14,
   "metadata": {
    "hidden": true
   },
   "outputs": [
    {
     "data": {
      "text/html": [
       "\n",
       "                Logging results to <a href=\"https://wandb.com\" target=\"_blank\">Weights & Biases</a> <a href=\"https://docs.wandb.com/integrations/jupyter.html\" target=\"_blank\">(Documentation)</a>.<br/>\n",
       "                Project page: <a href=\"https://app.wandb.ai/murnanedaniel/GravNet\" target=\"_blank\">https://app.wandb.ai/murnanedaniel/GravNet</a><br/>\n",
       "                Run page: <a href=\"https://app.wandb.ai/murnanedaniel/GravNet/runs/04shu00d\" target=\"_blank\">https://app.wandb.ai/murnanedaniel/GravNet/runs/04shu00d</a><br/>\n",
       "            "
      ],
      "text/plain": [
       "<IPython.core.display.HTML object>"
      ]
     },
     "metadata": {},
     "output_type": "display_data"
    },
    {
     "name": "stderr",
     "output_type": "stream",
     "text": [
      "Failed to query for notebook name, you can set it manually with the WANDB_NOTEBOOK_NAME environment variable\n",
      "\u001b[34m\u001b[1mwandb\u001b[0m: Wandb version 0.9.1 is available!  To upgrade, please run:\n",
      "\u001b[34m\u001b[1mwandb\u001b[0m:  $ pip install wandb --upgrade\n"
     ]
    },
    {
     "data": {
      "text/plain": [
       "[<wandb.wandb_torch.TorchGraph at 0x2aab7ffc7b10>]"
      ]
     },
     "execution_count": 14,
     "metadata": {},
     "output_type": "execute_result"
    }
   ],
   "source": [
    "m_configs = {\"in_channels\": 3, \"hidden_dim\": 64, \"n_graph_iters\": 6}\n",
    "torch.manual_seed(torch_seed)\n",
    "model = ResAGNN(**m_configs).to(device)\n",
    "other_configs = {\"weight\": 2}\n",
    "m_configs.update(other_configs)\n",
    "checkpoint = torch.load('../model_comparisons/ResAGNN/ethereal-wood-503.tar')\n",
    "model.load_state_dict(checkpoint['model_state_dict'])\n",
    "model_name = wandb.init(project=\"GravNet\", group=\"ResAGNN\", config=m_configs)\n",
    "wandb.watch(model, log='all')"
   ]
  },
  {
   "cell_type": "code",
   "execution_count": 15,
   "metadata": {
    "hidden": true
   },
   "outputs": [],
   "source": [
    "optimizer = torch.optim.AdamW(model.parameters(), lr=0.001, weight_decay=1e-3, amsgrad=True)\n",
    "scheduler = torch.optim.lr_scheduler.ReduceLROnPlateau(optimizer, factor=0.3, patience=10)\n",
    "optimizer.load_state_dict(checkpoint['optimizer_state_dict'])\n",
    "scheduler.load_state_dict(checkpoint['scheduler_state_dict'])"
   ]
  },
  {
   "cell_type": "code",
   "execution_count": 16,
   "metadata": {
    "hidden": true,
    "scrolled": true
   },
   "outputs": [
    {
     "name": "stderr",
     "output_type": "stream",
     "text": [
      "Failed to query for notebook name, you can set it manually with the WANDB_NOTEBOOK_NAME environment variable\n",
      "\u001b[34m\u001b[1mwandb\u001b[0m: Wandb version 0.9.1 is available!  To upgrade, please run:\n",
      "\u001b[34m\u001b[1mwandb\u001b[0m:  $ pip install wandb --upgrade\n"
     ]
    },
    {
     "name": "stdout",
     "output_type": "stream",
     "text": [
      "Training loss: 25.063142077997327\n",
      "Epoch: 0, Accuracy: 0.9929, Purity: 0.9604, Efficiency: 0.9898, Loss: 2.3208, LR: 0.001 in time 211.51566171646118\n",
      "Training loss: 24.163852674886584\n",
      "Epoch: 1, Accuracy: 0.9930, Purity: 0.9612, Efficiency: 0.9890, Loss: 2.3506, LR: 0.001 in time 211.6275191307068\n",
      "Training loss: 23.775235688313842\n",
      "Epoch: 2, Accuracy: 0.9937, Purity: 0.9663, Efficiency: 0.9894, Loss: 2.1385, LR: 0.001 in time 211.61263060569763\n",
      "Training loss: 23.52497413009405\n",
      "Epoch: 3, Accuracy: 0.9879, Purity: 0.9304, Efficiency: 0.9864, Loss: 3.7791, LR: 0.001 in time 211.66961789131165\n",
      "Training loss: 23.31285702250898\n",
      "Epoch: 4, Accuracy: 0.9931, Purity: 0.9628, Efficiency: 0.9884, Loss: 2.3456, LR: 0.001 in time 211.37088584899902\n",
      "Training loss: 23.0078675923869\n",
      "Epoch: 5, Accuracy: 0.9938, Purity: 0.9652, Efficiency: 0.9910, Loss: 2.0477, LR: 0.001 in time 211.63346529006958\n",
      "Training loss: 22.563860021531582\n",
      "Epoch: 6, Accuracy: 0.9934, Purity: 0.9631, Efficiency: 0.9901, Loss: 2.2067, LR: 0.001 in time 211.4949290752411\n",
      "Training loss: 22.3869682662189\n",
      "Epoch: 7, Accuracy: 0.9931, Purity: 0.9622, Efficiency: 0.9892, Loss: 2.2784, LR: 0.001 in time 211.50483536720276\n",
      "Training loss: 22.072958749718964\n",
      "Epoch: 8, Accuracy: 0.9935, Purity: 0.9666, Efficiency: 0.9868, Loss: 2.3074, LR: 0.001 in time 211.28554511070251\n",
      "Training loss: 21.767722367309034\n",
      "Epoch: 9, Accuracy: 0.9942, Purity: 0.9693, Efficiency: 0.9894, Loss: 2.0300, LR: 0.001 in time 211.45901703834534\n",
      "Training loss: 21.647122226655483\n",
      "Epoch: 10, Accuracy: 0.9934, Purity: 0.9652, Efficiency: 0.9877, Loss: 2.3058, LR: 0.001 in time 211.45027661323547\n",
      "Training loss: 21.105086783878505\n",
      "Epoch: 11, Accuracy: 0.9941, Purity: 0.9685, Efficiency: 0.9899, Loss: 2.0072, LR: 0.001 in time 211.7552032470703\n",
      "Training loss: 21.231809652410448\n",
      "Epoch: 12, Accuracy: 0.9947, Purity: 0.9735, Efficiency: 0.9889, Loss: 1.9320, LR: 0.001 in time 211.81041741371155\n",
      "Training loss: 20.70195770356804\n",
      "Epoch: 13, Accuracy: 0.9943, Purity: 0.9695, Efficiency: 0.9897, Loss: 1.9904, LR: 0.001 in time 211.91563963890076\n",
      "Training loss: 20.52923735510558\n",
      "Epoch: 14, Accuracy: 0.9939, Purity: 0.9672, Efficiency: 0.9896, Loss: 2.0790, LR: 0.001 in time 211.59614968299866\n",
      "Training loss: 20.49484298657626\n",
      "Epoch: 15, Accuracy: 0.9941, Purity: 0.9688, Efficiency: 0.9892, Loss: 2.0624, LR: 0.001 in time 211.64261937141418\n",
      "Training loss: 20.062509536743164\n",
      "Epoch: 16, Accuracy: 0.9933, Purity: 0.9641, Efficiency: 0.9882, Loss: 2.3058, LR: 0.001 in time 211.45388984680176\n",
      "Training loss: 19.911372325383127\n",
      "Epoch: 17, Accuracy: 0.9940, Purity: 0.9661, Efficiency: 0.9914, Loss: 1.9677, LR: 0.001 in time 211.71480345726013\n",
      "Training loss: 19.436999411322176\n",
      "Epoch: 18, Accuracy: 0.9942, Purity: 0.9687, Efficiency: 0.9898, Loss: 2.0113, LR: 0.001 in time 211.48726558685303\n",
      "Training loss: 19.640552633441985\n",
      "Epoch: 19, Accuracy: 0.9946, Purity: 0.9706, Efficiency: 0.9912, Loss: 1.8197, LR: 0.001 in time 211.3999364376068\n",
      "Training loss: 19.448899035342038\n",
      "Epoch: 20, Accuracy: 0.9948, Purity: 0.9721, Efficiency: 0.9908, Loss: 1.8056, LR: 0.001 in time 211.40052032470703\n",
      "Training loss: 19.07460310868919\n",
      "Epoch: 21, Accuracy: 0.9950, Purity: 0.9727, Efficiency: 0.9915, Loss: 1.7307, LR: 0.001 in time 211.30075311660767\n",
      "Training loss: 18.730561712756753\n",
      "Epoch: 22, Accuracy: 0.9942, Purity: 0.9696, Efficiency: 0.9892, Loss: 2.0238, LR: 0.001 in time 211.33354330062866\n",
      "Training loss: 18.887419553473592\n",
      "Epoch: 23, Accuracy: 0.9946, Purity: 0.9705, Efficiency: 0.9909, Loss: 1.8617, LR: 0.001 in time 211.39725184440613\n",
      "Training loss: 18.53031276445836\n",
      "Epoch: 24, Accuracy: 0.9946, Purity: 0.9705, Efficiency: 0.9910, Loss: 1.8430, LR: 0.001 in time 211.51339149475098\n",
      "Training loss: 18.559652214869857\n",
      "Epoch: 25, Accuracy: 0.9950, Purity: 0.9735, Efficiency: 0.9906, Loss: 1.7442, LR: 0.001 in time 211.46139359474182\n",
      "Training loss: 18.029883097857237\n",
      "Epoch: 26, Accuracy: 0.9951, Purity: 0.9743, Efficiency: 0.9909, Loss: 1.7094, LR: 0.001 in time 211.47259068489075\n",
      "Training loss: 18.277735456824303\n",
      "Epoch: 27, Accuracy: 0.9949, Purity: 0.9727, Efficiency: 0.9907, Loss: 1.7918, LR: 0.001 in time 211.38833904266357\n",
      "Training loss: 18.052422777749598\n",
      "Epoch: 28, Accuracy: 0.9943, Purity: 0.9697, Efficiency: 0.9901, Loss: 1.9260, LR: 0.001 in time 211.42615604400635\n",
      "Training loss: 17.64347195252776\n",
      "Epoch: 29, Accuracy: 0.9945, Purity: 0.9705, Efficiency: 0.9906, Loss: 1.8890, LR: 0.001 in time 211.30760884284973\n",
      "Training loss: 17.858991398476064\n",
      "Epoch: 30, Accuracy: 0.9945, Purity: 0.9709, Efficiency: 0.9902, Loss: 1.8822, LR: 0.001 in time 211.4199938774109\n",
      "Training loss: 17.615839410573244\n",
      "Epoch: 31, Accuracy: 0.9952, Purity: 0.9745, Efficiency: 0.9915, Loss: 1.6651, LR: 0.001 in time 211.45146107673645\n",
      "Training loss: 17.32537085749209\n",
      "Epoch: 32, Accuracy: 0.9954, Purity: 0.9749, Efficiency: 0.9924, Loss: 1.5907, LR: 0.001 in time 214.95112943649292\n",
      "Training loss: 17.663130324333906\n",
      "Epoch: 33, Accuracy: 0.9952, Purity: 0.9745, Efficiency: 0.9912, Loss: 1.6989, LR: 0.001 in time 211.20474791526794\n",
      "Training loss: 17.40852375421673\n",
      "Epoch: 34, Accuracy: 0.9954, Purity: 0.9745, Efficiency: 0.9925, Loss: 1.5797, LR: 0.001 in time 211.363667011261\n",
      "Training loss: 16.993438905104995\n",
      "Epoch: 35, Accuracy: 0.9950, Purity: 0.9728, Efficiency: 0.9913, Loss: 1.7438, LR: 0.001 in time 211.2378273010254\n",
      "Training loss: 16.965738172642887\n",
      "Epoch: 36, Accuracy: 0.9951, Purity: 0.9736, Efficiency: 0.9915, Loss: 1.6841, LR: 0.001 in time 211.10089468955994\n",
      "Training loss: 16.804565113037825\n",
      "Epoch: 37, Accuracy: 0.9955, Purity: 0.9762, Efficiency: 0.9920, Loss: 1.5541, LR: 0.001 in time 211.4029939174652\n",
      "Training loss: 16.476992474868894\n",
      "Epoch: 38, Accuracy: 0.9951, Purity: 0.9737, Efficiency: 0.9918, Loss: 1.6733, LR: 0.001 in time 211.22866868972778\n",
      "Training loss: 16.83181445300579\n",
      "Epoch: 39, Accuracy: 0.9949, Purity: 0.9721, Efficiency: 0.9920, Loss: 1.7281, LR: 0.001 in time 211.26645350456238\n",
      "Training loss: 16.395101345144212\n",
      "Epoch: 40, Accuracy: 0.9953, Purity: 0.9748, Efficiency: 0.9913, Loss: 1.6440, LR: 0.001 in time 211.35136342048645\n",
      "Training loss: 16.44512451160699\n",
      "Epoch: 41, Accuracy: 0.9955, Purity: 0.9749, Efficiency: 0.9927, Loss: 1.5465, LR: 0.001 in time 211.25127911567688\n",
      "Training loss: 16.55293292272836\n",
      "Epoch: 42, Accuracy: 0.9953, Purity: 0.9751, Efficiency: 0.9916, Loss: 1.6587, LR: 0.001 in time 211.18855166435242\n",
      "Training loss: 16.076877303421497\n",
      "Epoch: 43, Accuracy: 0.9956, Purity: 0.9775, Efficiency: 0.9909, Loss: 1.6337, LR: 0.001 in time 211.16777992248535\n",
      "Training loss: 16.22437680605799\n",
      "Epoch: 44, Accuracy: 0.9949, Purity: 0.9726, Efficiency: 0.9911, Loss: 1.7801, LR: 0.001 in time 211.92070770263672\n",
      "Training loss: 16.04494675900787\n",
      "Epoch: 45, Accuracy: 0.9955, Purity: 0.9757, Efficiency: 0.9922, Loss: 1.5595, LR: 0.001 in time 211.2009358406067\n",
      "Training loss: 15.802577206864953\n",
      "Epoch: 46, Accuracy: 0.9955, Purity: 0.9753, Efficiency: 0.9925, Loss: 1.5242, LR: 0.001 in time 211.19397044181824\n",
      "Training loss: 15.65528264734894\n",
      "Epoch: 47, Accuracy: 0.9957, Purity: 0.9766, Efficiency: 0.9927, Loss: 1.4752, LR: 0.001 in time 211.2371904850006\n",
      "Training loss: 15.921709625050426\n",
      "Epoch: 48, Accuracy: 0.9959, Purity: 0.9782, Efficiency: 0.9924, Loss: 1.4442, LR: 0.001 in time 211.12917709350586\n",
      "Training loss: 15.638870569877326\n",
      "Epoch: 49, Accuracy: 0.9955, Purity: 0.9768, Efficiency: 0.9912, Loss: 1.5886, LR: 0.001 in time 211.27532696723938\n",
      "Training loss: 15.880149876698852\n",
      "Epoch: 50, Accuracy: 0.9951, Purity: 0.9729, Efficiency: 0.9926, Loss: 1.6318, LR: 0.001 in time 211.25448608398438\n",
      "Training loss: 15.563544905744493\n",
      "Epoch: 51, Accuracy: 0.9952, Purity: 0.9731, Efficiency: 0.9928, Loss: 1.6028, LR: 0.001 in time 211.26694178581238\n",
      "Training loss: 15.416720042005181\n",
      "Epoch: 52, Accuracy: 0.9958, Purity: 0.9769, Efficiency: 0.9929, Loss: 1.4533, LR: 0.001 in time 211.60607290267944\n"
     ]
    },
    {
     "ename": "KeyboardInterrupt",
     "evalue": "",
     "output_type": "error",
     "traceback": [
      "\u001b[0;31m---------------------------------------------------------------------------\u001b[0m",
      "\u001b[0;31mKeyboardInterrupt\u001b[0m                         Traceback (most recent call last)",
      "\u001b[0;32m<ipython-input-16-8d6e73d47909>\u001b[0m in \u001b[0;36m<module>\u001b[0;34m\u001b[0m\n\u001b[1;32m      2\u001b[0m     \u001b[0mtic\u001b[0m \u001b[0;34m=\u001b[0m \u001b[0mtt\u001b[0m\u001b[0;34m(\u001b[0m\u001b[0;34m)\u001b[0m\u001b[0;34m\u001b[0m\u001b[0;34m\u001b[0m\u001b[0m\n\u001b[1;32m      3\u001b[0m     \u001b[0mmodel\u001b[0m\u001b[0;34m.\u001b[0m\u001b[0mtrain\u001b[0m\u001b[0;34m(\u001b[0m\u001b[0;34m)\u001b[0m\u001b[0;34m\u001b[0m\u001b[0;34m\u001b[0m\u001b[0m\n\u001b[0;32m----> 4\u001b[0;31m     \u001b[0macc\u001b[0m\u001b[0;34m,\u001b[0m \u001b[0mtrain_loss\u001b[0m \u001b[0;34m=\u001b[0m \u001b[0mtrain_gnn\u001b[0m\u001b[0;34m(\u001b[0m\u001b[0mmodel\u001b[0m\u001b[0;34m,\u001b[0m \u001b[0mgnn_train_loader\u001b[0m\u001b[0;34m,\u001b[0m \u001b[0moptimizer\u001b[0m\u001b[0;34m,\u001b[0m \u001b[0mm_configs\u001b[0m\u001b[0;34m)\u001b[0m\u001b[0;34m\u001b[0m\u001b[0;34m\u001b[0m\u001b[0m\n\u001b[0m\u001b[1;32m      5\u001b[0m     \u001b[0mprint\u001b[0m\u001b[0;34m(\u001b[0m\u001b[0;34m\"Training loss:\"\u001b[0m\u001b[0;34m,\u001b[0m \u001b[0mtrain_loss\u001b[0m\u001b[0;34m)\u001b[0m\u001b[0;34m\u001b[0m\u001b[0;34m\u001b[0m\u001b[0m\n\u001b[1;32m      6\u001b[0m \u001b[0;34m\u001b[0m\u001b[0m\n",
      "\u001b[0;32m/global/u2/d/danieltm/ExaTrkX/end-to-end/trainers.py\u001b[0m in \u001b[0;36mtrain_gnn\u001b[0;34m(model, gnn_train_loader, optimizer, m_configs)\u001b[0m\n\u001b[1;32m    320\u001b[0m         \u001b[0moptimizer\u001b[0m\u001b[0;34m.\u001b[0m\u001b[0mzero_grad\u001b[0m\u001b[0;34m(\u001b[0m\u001b[0;34m)\u001b[0m\u001b[0;34m\u001b[0m\u001b[0;34m\u001b[0m\u001b[0m\n\u001b[1;32m    321\u001b[0m         \u001b[0mdata\u001b[0m \u001b[0;34m=\u001b[0m \u001b[0mbatch\u001b[0m\u001b[0;34m.\u001b[0m\u001b[0mto\u001b[0m\u001b[0;34m(\u001b[0m\u001b[0mdevice\u001b[0m\u001b[0;34m)\u001b[0m\u001b[0;34m\u001b[0m\u001b[0;34m\u001b[0m\u001b[0m\n\u001b[0;32m--> 322\u001b[0;31m         \u001b[0mpred\u001b[0m \u001b[0;34m=\u001b[0m \u001b[0mmodel\u001b[0m\u001b[0;34m(\u001b[0m\u001b[0mdata\u001b[0m\u001b[0;34m)\u001b[0m\u001b[0;34m\u001b[0m\u001b[0;34m\u001b[0m\u001b[0m\n\u001b[0m\u001b[1;32m    323\u001b[0m \u001b[0;34m\u001b[0m\u001b[0m\n\u001b[1;32m    324\u001b[0m         \u001b[0my\u001b[0m \u001b[0;34m=\u001b[0m \u001b[0mbatch\u001b[0m\u001b[0;34m.\u001b[0m\u001b[0mpid\u001b[0m\u001b[0;34m[\u001b[0m\u001b[0mbatch\u001b[0m\u001b[0;34m.\u001b[0m\u001b[0me\u001b[0m\u001b[0;34m[\u001b[0m\u001b[0;36m0\u001b[0m\u001b[0;34m]\u001b[0m\u001b[0;34m]\u001b[0m \u001b[0;34m==\u001b[0m \u001b[0mbatch\u001b[0m\u001b[0;34m.\u001b[0m\u001b[0mpid\u001b[0m\u001b[0;34m[\u001b[0m\u001b[0mbatch\u001b[0m\u001b[0;34m.\u001b[0m\u001b[0me\u001b[0m\u001b[0;34m[\u001b[0m\u001b[0;36m1\u001b[0m\u001b[0;34m]\u001b[0m\u001b[0;34m]\u001b[0m\u001b[0;34m\u001b[0m\u001b[0;34m\u001b[0m\u001b[0m\n",
      "\u001b[0;32m~/.local/lib/python3.7/site-packages/torch/nn/modules/module.py\u001b[0m in \u001b[0;36m__call__\u001b[0;34m(self, *input, **kwargs)\u001b[0m\n\u001b[1;32m    548\u001b[0m             \u001b[0mresult\u001b[0m \u001b[0;34m=\u001b[0m \u001b[0mself\u001b[0m\u001b[0;34m.\u001b[0m\u001b[0m_slow_forward\u001b[0m\u001b[0;34m(\u001b[0m\u001b[0;34m*\u001b[0m\u001b[0minput\u001b[0m\u001b[0;34m,\u001b[0m \u001b[0;34m**\u001b[0m\u001b[0mkwargs\u001b[0m\u001b[0;34m)\u001b[0m\u001b[0;34m\u001b[0m\u001b[0;34m\u001b[0m\u001b[0m\n\u001b[1;32m    549\u001b[0m         \u001b[0;32melse\u001b[0m\u001b[0;34m:\u001b[0m\u001b[0;34m\u001b[0m\u001b[0;34m\u001b[0m\u001b[0m\n\u001b[0;32m--> 550\u001b[0;31m             \u001b[0mresult\u001b[0m \u001b[0;34m=\u001b[0m \u001b[0mself\u001b[0m\u001b[0;34m.\u001b[0m\u001b[0mforward\u001b[0m\u001b[0;34m(\u001b[0m\u001b[0;34m*\u001b[0m\u001b[0minput\u001b[0m\u001b[0;34m,\u001b[0m \u001b[0;34m**\u001b[0m\u001b[0mkwargs\u001b[0m\u001b[0;34m)\u001b[0m\u001b[0;34m\u001b[0m\u001b[0;34m\u001b[0m\u001b[0m\n\u001b[0m\u001b[1;32m    551\u001b[0m         \u001b[0;32mfor\u001b[0m \u001b[0mhook\u001b[0m \u001b[0;32min\u001b[0m \u001b[0mself\u001b[0m\u001b[0;34m.\u001b[0m\u001b[0m_forward_hooks\u001b[0m\u001b[0;34m.\u001b[0m\u001b[0mvalues\u001b[0m\u001b[0;34m(\u001b[0m\u001b[0;34m)\u001b[0m\u001b[0;34m:\u001b[0m\u001b[0;34m\u001b[0m\u001b[0;34m\u001b[0m\u001b[0m\n\u001b[1;32m    552\u001b[0m             \u001b[0mhook_result\u001b[0m \u001b[0;34m=\u001b[0m \u001b[0mhook\u001b[0m\u001b[0;34m(\u001b[0m\u001b[0mself\u001b[0m\u001b[0;34m,\u001b[0m \u001b[0minput\u001b[0m\u001b[0;34m,\u001b[0m \u001b[0mresult\u001b[0m\u001b[0;34m)\u001b[0m\u001b[0;34m\u001b[0m\u001b[0;34m\u001b[0m\u001b[0m\n",
      "\u001b[0;32m/global/u2/d/danieltm/ExaTrkX/end-to-end/models.py\u001b[0m in \u001b[0;36mforward\u001b[0;34m(self, inputs)\u001b[0m\n\u001b[1;32m    128\u001b[0m \u001b[0;34m\u001b[0m\u001b[0m\n\u001b[1;32m    129\u001b[0m             \u001b[0;31m# Apply edge network\u001b[0m\u001b[0;34m\u001b[0m\u001b[0;34m\u001b[0m\u001b[0;34m\u001b[0m\u001b[0m\n\u001b[0;32m--> 130\u001b[0;31m             \u001b[0me\u001b[0m \u001b[0;34m=\u001b[0m \u001b[0mtorch\u001b[0m\u001b[0;34m.\u001b[0m\u001b[0msigmoid\u001b[0m\u001b[0;34m(\u001b[0m\u001b[0mself\u001b[0m\u001b[0;34m.\u001b[0m\u001b[0medge_network\u001b[0m\u001b[0;34m(\u001b[0m\u001b[0mx\u001b[0m\u001b[0;34m,\u001b[0m \u001b[0medge_index\u001b[0m\u001b[0;34m)\u001b[0m\u001b[0;34m)\u001b[0m\u001b[0;34m\u001b[0m\u001b[0;34m\u001b[0m\u001b[0m\n\u001b[0m\u001b[1;32m    131\u001b[0m \u001b[0;34m\u001b[0m\u001b[0m\n\u001b[1;32m    132\u001b[0m             \u001b[0;31m# Apply node network\u001b[0m\u001b[0;34m\u001b[0m\u001b[0;34m\u001b[0m\u001b[0;34m\u001b[0m\u001b[0m\n",
      "\u001b[0;32m~/.local/lib/python3.7/site-packages/torch/nn/modules/module.py\u001b[0m in \u001b[0;36m__call__\u001b[0;34m(self, *input, **kwargs)\u001b[0m\n\u001b[1;32m    548\u001b[0m             \u001b[0mresult\u001b[0m \u001b[0;34m=\u001b[0m \u001b[0mself\u001b[0m\u001b[0;34m.\u001b[0m\u001b[0m_slow_forward\u001b[0m\u001b[0;34m(\u001b[0m\u001b[0;34m*\u001b[0m\u001b[0minput\u001b[0m\u001b[0;34m,\u001b[0m \u001b[0;34m**\u001b[0m\u001b[0mkwargs\u001b[0m\u001b[0;34m)\u001b[0m\u001b[0;34m\u001b[0m\u001b[0;34m\u001b[0m\u001b[0m\n\u001b[1;32m    549\u001b[0m         \u001b[0;32melse\u001b[0m\u001b[0;34m:\u001b[0m\u001b[0;34m\u001b[0m\u001b[0;34m\u001b[0m\u001b[0m\n\u001b[0;32m--> 550\u001b[0;31m             \u001b[0mresult\u001b[0m \u001b[0;34m=\u001b[0m \u001b[0mself\u001b[0m\u001b[0;34m.\u001b[0m\u001b[0mforward\u001b[0m\u001b[0;34m(\u001b[0m\u001b[0;34m*\u001b[0m\u001b[0minput\u001b[0m\u001b[0;34m,\u001b[0m \u001b[0;34m**\u001b[0m\u001b[0mkwargs\u001b[0m\u001b[0;34m)\u001b[0m\u001b[0;34m\u001b[0m\u001b[0;34m\u001b[0m\u001b[0m\n\u001b[0m\u001b[1;32m    551\u001b[0m         \u001b[0;32mfor\u001b[0m \u001b[0mhook\u001b[0m \u001b[0;32min\u001b[0m \u001b[0mself\u001b[0m\u001b[0;34m.\u001b[0m\u001b[0m_forward_hooks\u001b[0m\u001b[0;34m.\u001b[0m\u001b[0mvalues\u001b[0m\u001b[0;34m(\u001b[0m\u001b[0;34m)\u001b[0m\u001b[0;34m:\u001b[0m\u001b[0;34m\u001b[0m\u001b[0;34m\u001b[0m\u001b[0m\n\u001b[1;32m    552\u001b[0m             \u001b[0mhook_result\u001b[0m \u001b[0;34m=\u001b[0m \u001b[0mhook\u001b[0m\u001b[0;34m(\u001b[0m\u001b[0mself\u001b[0m\u001b[0;34m,\u001b[0m \u001b[0minput\u001b[0m\u001b[0;34m,\u001b[0m \u001b[0mresult\u001b[0m\u001b[0;34m)\u001b[0m\u001b[0;34m\u001b[0m\u001b[0;34m\u001b[0m\u001b[0m\n",
      "\u001b[0;32m/global/u2/d/danieltm/ExaTrkX/end-to-end/models.py\u001b[0m in \u001b[0;36mforward\u001b[0;34m(self, x, edge_index)\u001b[0m\n\u001b[1;32m     67\u001b[0m         \u001b[0mx1\u001b[0m\u001b[0;34m,\u001b[0m \u001b[0mx2\u001b[0m \u001b[0;34m=\u001b[0m \u001b[0mx\u001b[0m\u001b[0;34m[\u001b[0m\u001b[0mstart\u001b[0m\u001b[0;34m]\u001b[0m\u001b[0;34m,\u001b[0m \u001b[0mx\u001b[0m\u001b[0;34m[\u001b[0m\u001b[0mend\u001b[0m\u001b[0;34m]\u001b[0m\u001b[0;34m\u001b[0m\u001b[0;34m\u001b[0m\u001b[0m\n\u001b[1;32m     68\u001b[0m         \u001b[0medge_inputs\u001b[0m \u001b[0;34m=\u001b[0m \u001b[0mtorch\u001b[0m\u001b[0;34m.\u001b[0m\u001b[0mcat\u001b[0m\u001b[0;34m(\u001b[0m\u001b[0;34m[\u001b[0m\u001b[0mx\u001b[0m\u001b[0;34m[\u001b[0m\u001b[0mstart\u001b[0m\u001b[0;34m]\u001b[0m\u001b[0;34m,\u001b[0m \u001b[0mx\u001b[0m\u001b[0;34m[\u001b[0m\u001b[0mend\u001b[0m\u001b[0;34m]\u001b[0m\u001b[0;34m]\u001b[0m\u001b[0;34m,\u001b[0m \u001b[0mdim\u001b[0m\u001b[0;34m=\u001b[0m\u001b[0;36m1\u001b[0m\u001b[0;34m)\u001b[0m\u001b[0;34m\u001b[0m\u001b[0;34m\u001b[0m\u001b[0m\n\u001b[0;32m---> 69\u001b[0;31m         \u001b[0;32mreturn\u001b[0m \u001b[0mself\u001b[0m\u001b[0;34m.\u001b[0m\u001b[0mnetwork\u001b[0m\u001b[0;34m(\u001b[0m\u001b[0medge_inputs\u001b[0m\u001b[0;34m)\u001b[0m\u001b[0;34m.\u001b[0m\u001b[0msqueeze\u001b[0m\u001b[0;34m(\u001b[0m\u001b[0;34m-\u001b[0m\u001b[0;36m1\u001b[0m\u001b[0;34m)\u001b[0m\u001b[0;34m\u001b[0m\u001b[0;34m\u001b[0m\u001b[0m\n\u001b[0m\u001b[1;32m     70\u001b[0m \u001b[0;34m\u001b[0m\u001b[0m\n\u001b[1;32m     71\u001b[0m \u001b[0;32mclass\u001b[0m \u001b[0mNodeNetwork\u001b[0m\u001b[0;34m(\u001b[0m\u001b[0mnn\u001b[0m\u001b[0;34m.\u001b[0m\u001b[0mModule\u001b[0m\u001b[0;34m)\u001b[0m\u001b[0;34m:\u001b[0m\u001b[0;34m\u001b[0m\u001b[0;34m\u001b[0m\u001b[0m\n",
      "\u001b[0;32m~/.local/lib/python3.7/site-packages/torch/nn/modules/module.py\u001b[0m in \u001b[0;36m__call__\u001b[0;34m(self, *input, **kwargs)\u001b[0m\n\u001b[1;32m    548\u001b[0m             \u001b[0mresult\u001b[0m \u001b[0;34m=\u001b[0m \u001b[0mself\u001b[0m\u001b[0;34m.\u001b[0m\u001b[0m_slow_forward\u001b[0m\u001b[0;34m(\u001b[0m\u001b[0;34m*\u001b[0m\u001b[0minput\u001b[0m\u001b[0;34m,\u001b[0m \u001b[0;34m**\u001b[0m\u001b[0mkwargs\u001b[0m\u001b[0;34m)\u001b[0m\u001b[0;34m\u001b[0m\u001b[0;34m\u001b[0m\u001b[0m\n\u001b[1;32m    549\u001b[0m         \u001b[0;32melse\u001b[0m\u001b[0;34m:\u001b[0m\u001b[0;34m\u001b[0m\u001b[0;34m\u001b[0m\u001b[0m\n\u001b[0;32m--> 550\u001b[0;31m             \u001b[0mresult\u001b[0m \u001b[0;34m=\u001b[0m \u001b[0mself\u001b[0m\u001b[0;34m.\u001b[0m\u001b[0mforward\u001b[0m\u001b[0;34m(\u001b[0m\u001b[0;34m*\u001b[0m\u001b[0minput\u001b[0m\u001b[0;34m,\u001b[0m \u001b[0;34m**\u001b[0m\u001b[0mkwargs\u001b[0m\u001b[0;34m)\u001b[0m\u001b[0;34m\u001b[0m\u001b[0;34m\u001b[0m\u001b[0m\n\u001b[0m\u001b[1;32m    551\u001b[0m         \u001b[0;32mfor\u001b[0m \u001b[0mhook\u001b[0m \u001b[0;32min\u001b[0m \u001b[0mself\u001b[0m\u001b[0;34m.\u001b[0m\u001b[0m_forward_hooks\u001b[0m\u001b[0;34m.\u001b[0m\u001b[0mvalues\u001b[0m\u001b[0;34m(\u001b[0m\u001b[0;34m)\u001b[0m\u001b[0;34m:\u001b[0m\u001b[0;34m\u001b[0m\u001b[0;34m\u001b[0m\u001b[0m\n\u001b[1;32m    552\u001b[0m             \u001b[0mhook_result\u001b[0m \u001b[0;34m=\u001b[0m \u001b[0mhook\u001b[0m\u001b[0;34m(\u001b[0m\u001b[0mself\u001b[0m\u001b[0;34m,\u001b[0m \u001b[0minput\u001b[0m\u001b[0;34m,\u001b[0m \u001b[0mresult\u001b[0m\u001b[0;34m)\u001b[0m\u001b[0;34m\u001b[0m\u001b[0;34m\u001b[0m\u001b[0m\n",
      "\u001b[0;32m~/.local/lib/python3.7/site-packages/torch/nn/modules/container.py\u001b[0m in \u001b[0;36mforward\u001b[0;34m(self, input)\u001b[0m\n\u001b[1;32m     98\u001b[0m     \u001b[0;32mdef\u001b[0m \u001b[0mforward\u001b[0m\u001b[0;34m(\u001b[0m\u001b[0mself\u001b[0m\u001b[0;34m,\u001b[0m \u001b[0minput\u001b[0m\u001b[0;34m)\u001b[0m\u001b[0;34m:\u001b[0m\u001b[0;34m\u001b[0m\u001b[0;34m\u001b[0m\u001b[0m\n\u001b[1;32m     99\u001b[0m         \u001b[0;32mfor\u001b[0m \u001b[0mmodule\u001b[0m \u001b[0;32min\u001b[0m \u001b[0mself\u001b[0m\u001b[0;34m:\u001b[0m\u001b[0;34m\u001b[0m\u001b[0;34m\u001b[0m\u001b[0m\n\u001b[0;32m--> 100\u001b[0;31m             \u001b[0minput\u001b[0m \u001b[0;34m=\u001b[0m \u001b[0mmodule\u001b[0m\u001b[0;34m(\u001b[0m\u001b[0minput\u001b[0m\u001b[0;34m)\u001b[0m\u001b[0;34m\u001b[0m\u001b[0;34m\u001b[0m\u001b[0m\n\u001b[0m\u001b[1;32m    101\u001b[0m         \u001b[0;32mreturn\u001b[0m \u001b[0minput\u001b[0m\u001b[0;34m\u001b[0m\u001b[0;34m\u001b[0m\u001b[0m\n\u001b[1;32m    102\u001b[0m \u001b[0;34m\u001b[0m\u001b[0m\n",
      "\u001b[0;32m~/.local/lib/python3.7/site-packages/torch/nn/modules/module.py\u001b[0m in \u001b[0;36m__call__\u001b[0;34m(self, *input, **kwargs)\u001b[0m\n\u001b[1;32m    548\u001b[0m             \u001b[0mresult\u001b[0m \u001b[0;34m=\u001b[0m \u001b[0mself\u001b[0m\u001b[0;34m.\u001b[0m\u001b[0m_slow_forward\u001b[0m\u001b[0;34m(\u001b[0m\u001b[0;34m*\u001b[0m\u001b[0minput\u001b[0m\u001b[0;34m,\u001b[0m \u001b[0;34m**\u001b[0m\u001b[0mkwargs\u001b[0m\u001b[0;34m)\u001b[0m\u001b[0;34m\u001b[0m\u001b[0;34m\u001b[0m\u001b[0m\n\u001b[1;32m    549\u001b[0m         \u001b[0;32melse\u001b[0m\u001b[0;34m:\u001b[0m\u001b[0;34m\u001b[0m\u001b[0;34m\u001b[0m\u001b[0m\n\u001b[0;32m--> 550\u001b[0;31m             \u001b[0mresult\u001b[0m \u001b[0;34m=\u001b[0m \u001b[0mself\u001b[0m\u001b[0;34m.\u001b[0m\u001b[0mforward\u001b[0m\u001b[0;34m(\u001b[0m\u001b[0;34m*\u001b[0m\u001b[0minput\u001b[0m\u001b[0;34m,\u001b[0m \u001b[0;34m**\u001b[0m\u001b[0mkwargs\u001b[0m\u001b[0;34m)\u001b[0m\u001b[0;34m\u001b[0m\u001b[0;34m\u001b[0m\u001b[0m\n\u001b[0m\u001b[1;32m    551\u001b[0m         \u001b[0;32mfor\u001b[0m \u001b[0mhook\u001b[0m \u001b[0;32min\u001b[0m \u001b[0mself\u001b[0m\u001b[0;34m.\u001b[0m\u001b[0m_forward_hooks\u001b[0m\u001b[0;34m.\u001b[0m\u001b[0mvalues\u001b[0m\u001b[0;34m(\u001b[0m\u001b[0;34m)\u001b[0m\u001b[0;34m:\u001b[0m\u001b[0;34m\u001b[0m\u001b[0;34m\u001b[0m\u001b[0m\n\u001b[1;32m    552\u001b[0m             \u001b[0mhook_result\u001b[0m \u001b[0;34m=\u001b[0m \u001b[0mhook\u001b[0m\u001b[0;34m(\u001b[0m\u001b[0mself\u001b[0m\u001b[0;34m,\u001b[0m \u001b[0minput\u001b[0m\u001b[0;34m,\u001b[0m \u001b[0mresult\u001b[0m\u001b[0;34m)\u001b[0m\u001b[0;34m\u001b[0m\u001b[0;34m\u001b[0m\u001b[0m\n",
      "\u001b[0;32m~/.local/lib/python3.7/site-packages/torch/nn/modules/linear.py\u001b[0m in \u001b[0;36mforward\u001b[0;34m(self, input)\u001b[0m\n\u001b[1;32m     85\u001b[0m \u001b[0;34m\u001b[0m\u001b[0m\n\u001b[1;32m     86\u001b[0m     \u001b[0;32mdef\u001b[0m \u001b[0mforward\u001b[0m\u001b[0;34m(\u001b[0m\u001b[0mself\u001b[0m\u001b[0;34m,\u001b[0m \u001b[0minput\u001b[0m\u001b[0;34m)\u001b[0m\u001b[0;34m:\u001b[0m\u001b[0;34m\u001b[0m\u001b[0;34m\u001b[0m\u001b[0m\n\u001b[0;32m---> 87\u001b[0;31m         \u001b[0;32mreturn\u001b[0m \u001b[0mF\u001b[0m\u001b[0;34m.\u001b[0m\u001b[0mlinear\u001b[0m\u001b[0;34m(\u001b[0m\u001b[0minput\u001b[0m\u001b[0;34m,\u001b[0m \u001b[0mself\u001b[0m\u001b[0;34m.\u001b[0m\u001b[0mweight\u001b[0m\u001b[0;34m,\u001b[0m \u001b[0mself\u001b[0m\u001b[0;34m.\u001b[0m\u001b[0mbias\u001b[0m\u001b[0;34m)\u001b[0m\u001b[0;34m\u001b[0m\u001b[0;34m\u001b[0m\u001b[0m\n\u001b[0m\u001b[1;32m     88\u001b[0m \u001b[0;34m\u001b[0m\u001b[0m\n\u001b[1;32m     89\u001b[0m     \u001b[0;32mdef\u001b[0m \u001b[0mextra_repr\u001b[0m\u001b[0;34m(\u001b[0m\u001b[0mself\u001b[0m\u001b[0;34m)\u001b[0m\u001b[0;34m:\u001b[0m\u001b[0;34m\u001b[0m\u001b[0;34m\u001b[0m\u001b[0m\n",
      "\u001b[0;32m~/.local/lib/python3.7/site-packages/torch/nn/functional.py\u001b[0m in \u001b[0;36mlinear\u001b[0;34m(input, weight, bias)\u001b[0m\n\u001b[1;32m   1608\u001b[0m     \u001b[0;32mif\u001b[0m \u001b[0minput\u001b[0m\u001b[0;34m.\u001b[0m\u001b[0mdim\u001b[0m\u001b[0;34m(\u001b[0m\u001b[0;34m)\u001b[0m \u001b[0;34m==\u001b[0m \u001b[0;36m2\u001b[0m \u001b[0;32mand\u001b[0m \u001b[0mbias\u001b[0m \u001b[0;32mis\u001b[0m \u001b[0;32mnot\u001b[0m \u001b[0;32mNone\u001b[0m\u001b[0;34m:\u001b[0m\u001b[0;34m\u001b[0m\u001b[0;34m\u001b[0m\u001b[0m\n\u001b[1;32m   1609\u001b[0m         \u001b[0;31m# fused op is marginally faster\u001b[0m\u001b[0;34m\u001b[0m\u001b[0;34m\u001b[0m\u001b[0;34m\u001b[0m\u001b[0m\n\u001b[0;32m-> 1610\u001b[0;31m         \u001b[0mret\u001b[0m \u001b[0;34m=\u001b[0m \u001b[0mtorch\u001b[0m\u001b[0;34m.\u001b[0m\u001b[0maddmm\u001b[0m\u001b[0;34m(\u001b[0m\u001b[0mbias\u001b[0m\u001b[0;34m,\u001b[0m \u001b[0minput\u001b[0m\u001b[0;34m,\u001b[0m \u001b[0mweight\u001b[0m\u001b[0;34m.\u001b[0m\u001b[0mt\u001b[0m\u001b[0;34m(\u001b[0m\u001b[0;34m)\u001b[0m\u001b[0;34m)\u001b[0m\u001b[0;34m\u001b[0m\u001b[0;34m\u001b[0m\u001b[0m\n\u001b[0m\u001b[1;32m   1611\u001b[0m     \u001b[0;32melse\u001b[0m\u001b[0;34m:\u001b[0m\u001b[0;34m\u001b[0m\u001b[0;34m\u001b[0m\u001b[0m\n\u001b[1;32m   1612\u001b[0m         \u001b[0moutput\u001b[0m \u001b[0;34m=\u001b[0m \u001b[0minput\u001b[0m\u001b[0;34m.\u001b[0m\u001b[0mmatmul\u001b[0m\u001b[0;34m(\u001b[0m\u001b[0mweight\u001b[0m\u001b[0;34m.\u001b[0m\u001b[0mt\u001b[0m\u001b[0;34m(\u001b[0m\u001b[0;34m)\u001b[0m\u001b[0;34m)\u001b[0m\u001b[0;34m\u001b[0m\u001b[0;34m\u001b[0m\u001b[0m\n",
      "\u001b[0;31mKeyboardInterrupt\u001b[0m: "
     ]
    },
    {
     "name": "stdout",
     "output_type": "stream",
     "text": [
      "Error in callback <function _init_jupyter.<locals>.cleanup at 0x2aab7fe45d40> (for post_run_cell):\n"
     ]
    },
    {
     "ename": "KeyboardInterrupt",
     "evalue": "",
     "output_type": "error",
     "traceback": [
      "\u001b[0;31m---------------------------------------------------------------------------\u001b[0m",
      "\u001b[0;31mKeyboardInterrupt\u001b[0m                         Traceback (most recent call last)",
      "\u001b[0;32m~/.local/lib/python3.7/site-packages/backcall/backcall.py\u001b[0m in \u001b[0;36madapted\u001b[0;34m(*args, **kwargs)\u001b[0m\n\u001b[1;32m    102\u001b[0m                 \u001b[0mkwargs\u001b[0m\u001b[0;34m.\u001b[0m\u001b[0mpop\u001b[0m\u001b[0;34m(\u001b[0m\u001b[0mname\u001b[0m\u001b[0;34m)\u001b[0m\u001b[0;34m\u001b[0m\u001b[0;34m\u001b[0m\u001b[0m\n\u001b[1;32m    103\u001b[0m \u001b[0;31m#            print(args, kwargs, unmatched_pos, cut_positional, unmatched_kw)\u001b[0m\u001b[0;34m\u001b[0m\u001b[0;34m\u001b[0m\u001b[0;34m\u001b[0m\u001b[0m\n\u001b[0;32m--> 104\u001b[0;31m             \u001b[0;32mreturn\u001b[0m \u001b[0mcallback\u001b[0m\u001b[0;34m(\u001b[0m\u001b[0;34m*\u001b[0m\u001b[0margs\u001b[0m\u001b[0;34m,\u001b[0m \u001b[0;34m**\u001b[0m\u001b[0mkwargs\u001b[0m\u001b[0;34m)\u001b[0m\u001b[0;34m\u001b[0m\u001b[0;34m\u001b[0m\u001b[0m\n\u001b[0m\u001b[1;32m    105\u001b[0m \u001b[0;34m\u001b[0m\u001b[0m\n\u001b[1;32m    106\u001b[0m         \u001b[0;32mreturn\u001b[0m \u001b[0madapted\u001b[0m\u001b[0;34m\u001b[0m\u001b[0;34m\u001b[0m\u001b[0m\n",
      "\u001b[0;32m~/.conda/envs/exatrkx-test/lib/python3.7/site-packages/wandb/__init__.py\u001b[0m in \u001b[0;36mcleanup\u001b[0;34m()\u001b[0m\n\u001b[1;32m    504\u001b[0m         \u001b[0;31m# shutdown async logger because _user_process_finished isn't called in jupyter\u001b[0m\u001b[0;34m\u001b[0m\u001b[0;34m\u001b[0m\u001b[0;34m\u001b[0m\u001b[0m\n\u001b[1;32m    505\u001b[0m         \u001b[0mshutdown_async_log_thread\u001b[0m\u001b[0;34m(\u001b[0m\u001b[0;34m)\u001b[0m\u001b[0;34m\u001b[0m\u001b[0;34m\u001b[0m\u001b[0m\n\u001b[0;32m--> 506\u001b[0;31m         \u001b[0mrun\u001b[0m\u001b[0;34m.\u001b[0m\u001b[0m_stop_jupyter_agent\u001b[0m\u001b[0;34m(\u001b[0m\u001b[0;34m)\u001b[0m\u001b[0;34m\u001b[0m\u001b[0;34m\u001b[0m\u001b[0m\n\u001b[0m\u001b[1;32m    507\u001b[0m     \u001b[0;32mif\u001b[0m \u001b[0mhasattr\u001b[0m\u001b[0;34m(\u001b[0m\u001b[0mipython\u001b[0m\u001b[0;34m.\u001b[0m\u001b[0mevents\u001b[0m\u001b[0;34m,\u001b[0m \u001b[0;34m\"_orig_post_run\"\u001b[0m\u001b[0;34m)\u001b[0m\u001b[0;34m:\u001b[0m\u001b[0;34m\u001b[0m\u001b[0;34m\u001b[0m\u001b[0m\n\u001b[1;32m    508\u001b[0m         \u001b[0mipython\u001b[0m\u001b[0;34m.\u001b[0m\u001b[0mevents\u001b[0m\u001b[0;34m.\u001b[0m\u001b[0munregister\u001b[0m\u001b[0;34m(\u001b[0m\u001b[0;34m\"post_run_cell\"\u001b[0m\u001b[0;34m,\u001b[0m \u001b[0mipython\u001b[0m\u001b[0;34m.\u001b[0m\u001b[0mevents\u001b[0m\u001b[0;34m.\u001b[0m\u001b[0m_orig_post_run\u001b[0m\u001b[0;34m)\u001b[0m\u001b[0;34m\u001b[0m\u001b[0;34m\u001b[0m\u001b[0m\n",
      "\u001b[0;32m~/.conda/envs/exatrkx-test/lib/python3.7/site-packages/wandb/wandb_run.py\u001b[0m in \u001b[0;36m_stop_jupyter_agent\u001b[0;34m(self)\u001b[0m\n\u001b[1;32m    198\u001b[0m \u001b[0;34m\u001b[0m\u001b[0m\n\u001b[1;32m    199\u001b[0m     \u001b[0;32mdef\u001b[0m \u001b[0m_stop_jupyter_agent\u001b[0m\u001b[0;34m(\u001b[0m\u001b[0mself\u001b[0m\u001b[0;34m)\u001b[0m\u001b[0;34m:\u001b[0m\u001b[0;34m\u001b[0m\u001b[0;34m\u001b[0m\u001b[0m\n\u001b[0;32m--> 200\u001b[0;31m         \u001b[0mself\u001b[0m\u001b[0;34m.\u001b[0m\u001b[0m_jupyter_agent\u001b[0m\u001b[0;34m.\u001b[0m\u001b[0mstop\u001b[0m\u001b[0;34m(\u001b[0m\u001b[0;34m)\u001b[0m\u001b[0;34m\u001b[0m\u001b[0;34m\u001b[0m\u001b[0m\n\u001b[0m\u001b[1;32m    201\u001b[0m \u001b[0;34m\u001b[0m\u001b[0m\n\u001b[1;32m    202\u001b[0m     \u001b[0;32mdef\u001b[0m \u001b[0msend_message\u001b[0m\u001b[0;34m(\u001b[0m\u001b[0mself\u001b[0m\u001b[0;34m,\u001b[0m \u001b[0moptions\u001b[0m\u001b[0;34m)\u001b[0m\u001b[0;34m:\u001b[0m\u001b[0;34m\u001b[0m\u001b[0;34m\u001b[0m\u001b[0m\n",
      "\u001b[0;32m~/.conda/envs/exatrkx-test/lib/python3.7/site-packages/wandb/jupyter.py\u001b[0m in \u001b[0;36mstop\u001b[0;34m(self)\u001b[0m\n\u001b[1;32m    140\u001b[0m             \u001b[0mself\u001b[0m\u001b[0;34m.\u001b[0m\u001b[0mrm\u001b[0m\u001b[0;34m.\u001b[0m\u001b[0munmirror_stdout_stderr\u001b[0m\u001b[0;34m(\u001b[0m\u001b[0;34m)\u001b[0m\u001b[0;34m\u001b[0m\u001b[0;34m\u001b[0m\u001b[0m\n\u001b[1;32m    141\u001b[0m             \u001b[0mwandb\u001b[0m\u001b[0;34m.\u001b[0m\u001b[0mrun\u001b[0m\u001b[0;34m.\u001b[0m\u001b[0mclose_files\u001b[0m\u001b[0;34m(\u001b[0m\u001b[0;34m)\u001b[0m\u001b[0;34m\u001b[0m\u001b[0;34m\u001b[0m\u001b[0m\n\u001b[0;32m--> 142\u001b[0;31m             \u001b[0mself\u001b[0m\u001b[0;34m.\u001b[0m\u001b[0mrm\u001b[0m\u001b[0;34m.\u001b[0m\u001b[0mshutdown\u001b[0m\u001b[0;34m(\u001b[0m\u001b[0;34m)\u001b[0m\u001b[0;34m\u001b[0m\u001b[0;34m\u001b[0m\u001b[0m\n\u001b[0m\u001b[1;32m    143\u001b[0m             \u001b[0mself\u001b[0m\u001b[0;34m.\u001b[0m\u001b[0mpaused\u001b[0m \u001b[0;34m=\u001b[0m \u001b[0;32mTrue\u001b[0m\u001b[0;34m\u001b[0m\u001b[0;34m\u001b[0m\u001b[0m\n\u001b[1;32m    144\u001b[0m \u001b[0;34m\u001b[0m\u001b[0m\n",
      "\u001b[0;32m~/.conda/envs/exatrkx-test/lib/python3.7/site-packages/wandb/run_manager.py\u001b[0m in \u001b[0;36mshutdown\u001b[0;34m(self, exitcode)\u001b[0m\n\u001b[1;32m   1070\u001b[0m         \u001b[0;34m\"\"\"Stops system stats, streaming handlers, and uploads files without output, used by wandb.monitor\"\"\"\u001b[0m\u001b[0;34m\u001b[0m\u001b[0;34m\u001b[0m\u001b[0m\n\u001b[1;32m   1071\u001b[0m         \u001b[0mlogger\u001b[0m\u001b[0;34m.\u001b[0m\u001b[0minfo\u001b[0m\u001b[0;34m(\u001b[0m\u001b[0;34m\"shutting down system stats and metadata service\"\u001b[0m\u001b[0;34m)\u001b[0m\u001b[0;34m\u001b[0m\u001b[0;34m\u001b[0m\u001b[0m\n\u001b[0;32m-> 1072\u001b[0;31m         \u001b[0mself\u001b[0m\u001b[0;34m.\u001b[0m\u001b[0m_system_stats\u001b[0m\u001b[0;34m.\u001b[0m\u001b[0mshutdown\u001b[0m\u001b[0;34m(\u001b[0m\u001b[0;34m)\u001b[0m\u001b[0;34m\u001b[0m\u001b[0;34m\u001b[0m\u001b[0m\n\u001b[0m\u001b[1;32m   1073\u001b[0m         \u001b[0mself\u001b[0m\u001b[0;34m.\u001b[0m\u001b[0m_meta\u001b[0m\u001b[0;34m.\u001b[0m\u001b[0mshutdown\u001b[0m\u001b[0;34m(\u001b[0m\u001b[0;34m)\u001b[0m\u001b[0;34m\u001b[0m\u001b[0;34m\u001b[0m\u001b[0m\n\u001b[1;32m   1074\u001b[0m         \u001b[0;32mfor\u001b[0m \u001b[0mwatcher\u001b[0m \u001b[0;32min\u001b[0m \u001b[0mself\u001b[0m\u001b[0;34m.\u001b[0m\u001b[0m_tensorboard_watchers\u001b[0m\u001b[0;34m:\u001b[0m\u001b[0;34m\u001b[0m\u001b[0;34m\u001b[0m\u001b[0m\n",
      "\u001b[0;32m~/.conda/envs/exatrkx-test/lib/python3.7/site-packages/wandb/stats.py\u001b[0m in \u001b[0;36mshutdown\u001b[0;34m(self)\u001b[0m\n\u001b[1;32m    110\u001b[0m         \u001b[0mself\u001b[0m\u001b[0;34m.\u001b[0m\u001b[0m_shutdown\u001b[0m \u001b[0;34m=\u001b[0m \u001b[0;32mTrue\u001b[0m\u001b[0;34m\u001b[0m\u001b[0;34m\u001b[0m\u001b[0m\n\u001b[1;32m    111\u001b[0m         \u001b[0;32mtry\u001b[0m\u001b[0;34m:\u001b[0m\u001b[0;34m\u001b[0m\u001b[0;34m\u001b[0m\u001b[0m\n\u001b[0;32m--> 112\u001b[0;31m             \u001b[0mself\u001b[0m\u001b[0;34m.\u001b[0m\u001b[0m_thread\u001b[0m\u001b[0;34m.\u001b[0m\u001b[0mjoin\u001b[0m\u001b[0;34m(\u001b[0m\u001b[0;34m)\u001b[0m\u001b[0;34m\u001b[0m\u001b[0;34m\u001b[0m\u001b[0m\n\u001b[0m\u001b[1;32m    113\u001b[0m         \u001b[0;31m# Incase we never start it\u001b[0m\u001b[0;34m\u001b[0m\u001b[0;34m\u001b[0m\u001b[0;34m\u001b[0m\u001b[0m\n\u001b[1;32m    114\u001b[0m         \u001b[0;32mexcept\u001b[0m \u001b[0mRuntimeError\u001b[0m\u001b[0;34m:\u001b[0m\u001b[0;34m\u001b[0m\u001b[0;34m\u001b[0m\u001b[0m\n",
      "\u001b[0;32m~/.conda/envs/exatrkx-test/lib/python3.7/threading.py\u001b[0m in \u001b[0;36mjoin\u001b[0;34m(self, timeout)\u001b[0m\n\u001b[1;32m   1042\u001b[0m \u001b[0;34m\u001b[0m\u001b[0m\n\u001b[1;32m   1043\u001b[0m         \u001b[0;32mif\u001b[0m \u001b[0mtimeout\u001b[0m \u001b[0;32mis\u001b[0m \u001b[0;32mNone\u001b[0m\u001b[0;34m:\u001b[0m\u001b[0;34m\u001b[0m\u001b[0;34m\u001b[0m\u001b[0m\n\u001b[0;32m-> 1044\u001b[0;31m             \u001b[0mself\u001b[0m\u001b[0;34m.\u001b[0m\u001b[0m_wait_for_tstate_lock\u001b[0m\u001b[0;34m(\u001b[0m\u001b[0;34m)\u001b[0m\u001b[0;34m\u001b[0m\u001b[0;34m\u001b[0m\u001b[0m\n\u001b[0m\u001b[1;32m   1045\u001b[0m         \u001b[0;32melse\u001b[0m\u001b[0;34m:\u001b[0m\u001b[0;34m\u001b[0m\u001b[0;34m\u001b[0m\u001b[0m\n\u001b[1;32m   1046\u001b[0m             \u001b[0;31m# the behavior of a negative timeout isn't documented, but\u001b[0m\u001b[0;34m\u001b[0m\u001b[0;34m\u001b[0m\u001b[0;34m\u001b[0m\u001b[0m\n",
      "\u001b[0;32m~/.conda/envs/exatrkx-test/lib/python3.7/threading.py\u001b[0m in \u001b[0;36m_wait_for_tstate_lock\u001b[0;34m(self, block, timeout)\u001b[0m\n\u001b[1;32m   1058\u001b[0m         \u001b[0;32mif\u001b[0m \u001b[0mlock\u001b[0m \u001b[0;32mis\u001b[0m \u001b[0;32mNone\u001b[0m\u001b[0;34m:\u001b[0m  \u001b[0;31m# already determined that the C code is done\u001b[0m\u001b[0;34m\u001b[0m\u001b[0;34m\u001b[0m\u001b[0m\n\u001b[1;32m   1059\u001b[0m             \u001b[0;32massert\u001b[0m \u001b[0mself\u001b[0m\u001b[0;34m.\u001b[0m\u001b[0m_is_stopped\u001b[0m\u001b[0;34m\u001b[0m\u001b[0;34m\u001b[0m\u001b[0m\n\u001b[0;32m-> 1060\u001b[0;31m         \u001b[0;32melif\u001b[0m \u001b[0mlock\u001b[0m\u001b[0;34m.\u001b[0m\u001b[0macquire\u001b[0m\u001b[0;34m(\u001b[0m\u001b[0mblock\u001b[0m\u001b[0;34m,\u001b[0m \u001b[0mtimeout\u001b[0m\u001b[0;34m)\u001b[0m\u001b[0;34m:\u001b[0m\u001b[0;34m\u001b[0m\u001b[0;34m\u001b[0m\u001b[0m\n\u001b[0m\u001b[1;32m   1061\u001b[0m             \u001b[0mlock\u001b[0m\u001b[0;34m.\u001b[0m\u001b[0mrelease\u001b[0m\u001b[0;34m(\u001b[0m\u001b[0;34m)\u001b[0m\u001b[0;34m\u001b[0m\u001b[0;34m\u001b[0m\u001b[0m\n\u001b[1;32m   1062\u001b[0m             \u001b[0mself\u001b[0m\u001b[0;34m.\u001b[0m\u001b[0m_stop\u001b[0m\u001b[0;34m(\u001b[0m\u001b[0;34m)\u001b[0m\u001b[0;34m\u001b[0m\u001b[0;34m\u001b[0m\u001b[0m\n",
      "\u001b[0;31mKeyboardInterrupt\u001b[0m: "
     ]
    }
   ],
   "source": [
    "for epoch in range(100):\n",
    "    tic = tt()  \n",
    "    model.train()\n",
    "    acc, train_loss = train_gnn(model, gnn_train_loader, optimizer, m_configs)\n",
    "    print(\"Training loss:\", train_loss)\n",
    "\n",
    "    model.eval()\n",
    "    with torch.no_grad():\n",
    "        acc, eff, pur, val_loss = evaluate_gnn(model, gnn_test_loader, m_configs)\n",
    "    scheduler.step(val_loss)\n",
    "    wandb.log({\"val_loss\": val_loss, \"train_loss\": train_loss, \"val_acc\": acc, \"val_pur\": pur, \"val_eff\": eff, \"lr\": scheduler._last_lr[0]})\n",
    "\n",
    "    save_model(epoch, model, optimizer, scheduler, val_loss, m_configs, 'ResAGNN/'+model_name._name+'.tar')\n",
    "\n",
    "    print('Epoch: {}, Accuracy: {:.4f}, Purity: {:.4f}, Efficiency: {:.4f}, Loss: {:.4f}, LR: {} in time {}'.format(epoch, acc, pur, eff, val_loss, scheduler._last_lr[0], tt()-tic))"
   ]
  },
  {
   "cell_type": "markdown",
   "metadata": {
    "heading_collapsed": true
   },
   "source": [
    "### ROC Results"
   ]
  },
  {
   "cell_type": "code",
   "execution_count": 17,
   "metadata": {
    "code_folding": [],
    "hidden": true,
    "scrolled": true
   },
   "outputs": [],
   "source": [
    "model.eval()\n",
    "\n",
    "total_pred = []\n",
    "total_y = []\n",
    "\n",
    "for batch in gnn_test_loader:\n",
    "    data = batch.to(device)\n",
    "    with torch.no_grad():\n",
    "        pred = model(data)   \n",
    "    y = batch.pid[batch.e[0]] == batch.pid[batch.e[1]]\n",
    "\n",
    "    total_pred += pred.detach().cpu().numpy().tolist()\n",
    "    total_y += y.cpu().numpy().tolist()"
   ]
  },
  {
   "cell_type": "code",
   "execution_count": 18,
   "metadata": {
    "hidden": true
   },
   "outputs": [],
   "source": [
    "fpr, tpr, _ = metrics.roc_curve(total_y, total_pred)"
   ]
  },
  {
   "cell_type": "code",
   "execution_count": 19,
   "metadata": {
    "hidden": true,
    "scrolled": true
   },
   "outputs": [
    {
     "data": {
      "text/plain": [
       "Text(0.5, 1.0, 'AGNN over Biadjacent Embedding')"
      ]
     },
     "execution_count": 19,
     "metadata": {},
     "output_type": "execute_result"
    },
    {
     "data": {
      "image/png": "[encoded data removed]",
      "text/plain": [
       "<Figure size 432x288 with 1 Axes>"
      ]
     },
     "metadata": {
      "needs_background": "light"
     },
     "output_type": "display_data"
    }
   ],
   "source": [
    "fig, ax = plt.subplots()\n",
    "ax.plot(fpr, tpr)\n",
    "ax.text(0.4, 0.95, \"AUC: {:.4f}\".format(metrics.roc_auc_score(total_y, total_pred)), transform=ax.transAxes, fontsize=14,\n",
    "        verticalalignment='top', bbox=props)\n",
    "ax.set_xlabel(\"fpr\"), ax.set_ylabel(\"tpr\")\n",
    "ax.set_title(\"AGNN over Biadjacent Embedding\")"
   ]
  },
  {
   "cell_type": "code",
   "execution_count": 20,
   "metadata": {
    "hidden": true,
    "scrolled": true
   },
   "outputs": [
    {
     "data": {
      "text/plain": [
       "Text(0.5, 1.0, 'AGNN over Biadjacent Embedding')"
      ]
     },
     "execution_count": 20,
     "metadata": {},
     "output_type": "execute_result"
    },
    {
     "data": {
      "image/png": "[encoded data removed]",
      "text/plain": [
       "<Figure size 432x288 with 1 Axes>"
      ]
     },
     "metadata": {
      "needs_background": "light"
     },
     "output_type": "display_data"
    }
   ],
   "source": [
    "fig, ax = plt.subplots()\n",
    "ax.plot(fpr, tpr*cluster_eff)\n",
    "ax.text(0.2, 0.8, \"AUC (with cluster eff.): {:.4f}\".format(metrics.roc_auc_score(total_y, total_pred)*cluster_eff), transform=ax.transAxes, fontsize=14,\n",
    "        verticalalignment='top', bbox=props)\n",
    "ax.set_xlabel(\"fpr\"), ax.set_ylabel(\"tpr\")\n",
    "ax.set_title(\"AGNN over Biadjacent Embedding\")"
   ]
  },
  {
   "cell_type": "markdown",
   "metadata": {
    "heading_collapsed": true
   },
   "source": [
    "### F1 Results"
   ]
  },
  {
   "cell_type": "code",
   "execution_count": 124,
   "metadata": {
    "hidden": true,
    "scrolled": true
   },
   "outputs": [
    {
     "data": {
      "text/plain": [
       "[(0.4455550437586366, 0.9999556613115385),\n",
       " (0.445601105481345, 0.9999556613115385),\n",
       " (0.45520497466605253, 0.9999556613115385),\n",
       " (0.45525103638876097, 0.9999556613115385),\n",
       " (0.45794564716720404, 0.9999556613115385),\n",
       " (0.4579917088899125, 0.9999556613115385),\n",
       " (0.46722708429295257, 0.9999556613115385),\n",
       " (0.467273146015661, 0.9999556613115385),\n",
       " (0.48224320589590053, 0.9999556613115385),\n",
       " (0.48224320589590053, 0.9999704408743589),\n",
       " (0.4847305389221557, 0.9999704408743589),\n",
       " (0.4847766006448641, 0.9999704408743589),\n",
       " (0.49456471672040536, 0.9999704408743589),\n",
       " (0.4946107784431138, 0.9999704408743589),\n",
       " (0.5251497005988024, 0.9999704408743589),\n",
       " (0.5251957623215108, 0.9999704408743589),\n",
       " (0.5346614463380931, 0.9999704408743589),\n",
       " (0.5347075080608015, 0.9999704408743589),\n",
       " (0.5854905573468447, 0.9999704408743589),\n",
       " (0.5855366190695532, 0.9999704408743589),\n",
       " (0.5894288346384154, 0.9999704408743589),\n",
       " (0.5894748963611239, 0.9999704408743589),\n",
       " (0.5923767848917549, 0.9999704408743589),\n",
       " (0.5924228466144634, 0.9999704408743589),\n",
       " (0.5979041916167664, 0.9999704408743589),\n",
       " (0.5979502533394749, 0.9999704408743589),\n",
       " (0.6018654997696914, 0.9999704408743589),\n",
       " (0.6019115614923998, 0.9999704408743589),\n",
       " (0.6043528327959465, 0.9999704408743589),\n",
       " (0.604398894518655, 0.9999704408743589),\n",
       " (0.607623215108245, 0.9999704408743589),\n",
       " (0.607623215108245, 0.9999852204371795),\n",
       " (0.6121142330723169, 0.9999852204371795),\n",
       " (0.6121602947950253, 0.9999852204371795),\n",
       " (0.6194610778443114, 0.9999852204371795),\n",
       " (0.6195071395670199, 0.9999852204371795),\n",
       " (0.6223859972362966, 0.9999852204371795),\n",
       " (0.6224320589590051, 0.9999852204371795),\n",
       " (0.6239981575310917, 0.9999852204371795),\n",
       " (0.6240442192538, 0.9999852204371795),\n",
       " (0.6342008291110087, 0.9999852204371795),\n",
       " (0.6342468908337172, 0.9999852204371795),\n",
       " (0.6361354214647628, 0.9999852204371795),\n",
       " (0.6361814831874713, 0.9999852204371795),\n",
       " (0.6370566559189313, 0.9999852204371795),\n",
       " (0.6371027176416398, 0.9999852204371795),\n",
       " (0.6423307231690465, 0.9999852204371795),\n",
       " (0.642376784891755, 0.9999852204371795),\n",
       " (0.6565868263473054, 0.9999852204371795),\n",
       " (0.6566328880700139, 0.9999852204371795),\n",
       " (0.6668585905112852, 0.9999852204371795),\n",
       " (0.6669046522339935, 0.9999852204371795),\n",
       " (0.67081989866421, 0.9999852204371795),\n",
       " (0.6708659603869185, 0.9999852204371795),\n",
       " (0.6725011515430677, 0.9999852204371795),\n",
       " (0.6725472132657762, 0.9999852204371795),\n",
       " (0.6729387379087978, 0.9999852204371795),\n",
       " (0.6729847996315063, 0.9999852204371795),\n",
       " (0.6732151082450484, 0.9999852204371795),\n",
       " (0.6732611699677568, 0.9999852204371795),\n",
       " (0.6792491939198526, 0.9999852204371795),\n",
       " (0.6793182865039152, 0.9999852204371795),\n",
       " (0.6797789037309996, 0.9999852204371795),\n",
       " (0.679824965453708, 0.9999852204371795),\n",
       " (0.6800092123445417, 0.9999852204371795),\n",
       " (0.6800552740672501, 0.9999852204371795),\n",
       " (0.6887379087977891, 0.9999852204371795),\n",
       " (0.6887839705204974, 0.9999852204371795),\n",
       " (0.6891294334408107, 0.9999852204371795),\n",
       " (0.6891754951635192, 0.9999852204371795),\n",
       " (0.6944495624136343, 0.9999852204371795),\n",
       " (0.6944956241363427, 0.9999852204371795),\n",
       " (0.7038461538461539, 0.9999852204371795),\n",
       " (0.7038922155688623, 0.9999852204371795),\n",
       " (0.7085214187010594, 0.9999852204371795),\n",
       " (0.7085674804237678, 0.9999852204371795),\n",
       " (0.711262091202211, 0.9999852204371795),\n",
       " (0.7113081529249194, 0.9999852204371795),\n",
       " (0.718770152003685, 0.9999852204371795),\n",
       " (0.7188162137263934, 0.9999852204371795),\n",
       " (0.7225472132657761, 0.9999852204371795),\n",
       " (0.7225932749884846, 0.9999852204371795),\n",
       " (0.7226623675725472, 0.9999852204371795),\n",
       " (0.7227084292952557, 0.9999852204371795),\n",
       " (0.7241824044219254, 0.9999852204371795),\n",
       " (0.7242284661446338, 0.9999852204371795),\n",
       " (0.7251266697374482, 0.9999852204371795),\n",
       " (0.7251727314601566, 0.9999852204371795),\n",
       " (0.7266236757254722, 0.9999852204371795),\n",
       " (0.7266697374481805, 0.9999852204371795),\n",
       " (0.7271533855366191, 0.9999852204371795),\n",
       " (0.7271994472593275, 0.9999852204371795),\n",
       " (0.7313680331644403, 0.9999852204371795),\n",
       " (0.7313680331644403, 1.0),\n",
       " (0.7332335329341317, 1.0),\n",
       " (0.7332795946568401, 1.0),\n",
       " (0.7347305389221557, 1.0),\n",
       " (0.7347766006448642, 1.0),\n",
       " (0.7583141409488715, 1.0),\n",
       " (0.7583602026715799, 1.0),\n",
       " (0.759649930907416, 1.0),\n",
       " (0.7596959926301243, 1.0),\n",
       " (0.768125287885767, 1.0),\n",
       " (0.7681713496084753, 1.0),\n",
       " (0.7689543988945187, 1.0),\n",
       " (0.769000460617227, 1.0),\n",
       " (0.7741133118378627, 1.0),\n",
       " (0.7741593735605712, 1.0),\n",
       " (0.775103638876094, 1.0),\n",
       " (0.7751497005988024, 1.0),\n",
       " (0.7798710271764164, 1.0),\n",
       " (0.7799170888991248, 1.0),\n",
       " (0.7847996315062183, 1.0),\n",
       " (0.7848456932289267, 1.0),\n",
       " (0.7852372178719484, 1.0),\n",
       " (0.7852832795946568, 1.0),\n",
       " (0.787770612620912, 1.0),\n",
       " (0.7878166743436205, 1.0),\n",
       " (0.7909488714877937, 1.0),\n",
       " (0.7909949332105021, 1.0),\n",
       " (0.8015430677107324, 1.0),\n",
       " (0.8015891294334409, 1.0),\n",
       " (0.8025103638876094, 1.0),\n",
       " (0.8025564256103178, 1.0),\n",
       " (0.8064947029018885, 1.0),\n",
       " (0.806540764624597, 1.0),\n",
       " (0.8179410409949333, 1.0),\n",
       " (0.8179871027176416, 1.0),\n",
       " (0.8196453247351451, 1.0),\n",
       " (0.8196913864578536, 1.0),\n",
       " (0.822201750345463, 1.0),\n",
       " (0.8222478120681713, 1.0),\n",
       " (0.8339705204974666, 1.0),\n",
       " (0.834016582220175, 1.0),\n",
       " (0.8390142791340396, 1.0),\n",
       " (0.8390603408567481, 1.0),\n",
       " (0.8420082911100876, 1.0),\n",
       " (0.842054352832796, 1.0),\n",
       " (0.84398894518655, 1.0),\n",
       " (0.8440350069092584, 1.0),\n",
       " (0.8494933210502073, 1.0),\n",
       " (0.8495393827729157, 1.0),\n",
       " (0.8519115614923998, 1.0),\n",
       " (0.8519576232151083, 1.0),\n",
       " (0.8535237217871948, 1.0),\n",
       " (0.8535697835099033, 1.0),\n",
       " (0.8656149239981575, 1.0),\n",
       " (0.8656609857208659, 1.0),\n",
       " (0.8657070474435744, 1.0),\n",
       " (0.8657531091662828, 1.0),\n",
       " (0.8687931828650391, 1.0),\n",
       " (0.8688392445877475, 1.0),\n",
       " (0.8778673422385997, 1.0),\n",
       " (0.8779134039613081, 1.0),\n",
       " (0.8782358360202671, 1.0),\n",
       " (0.8782818977429756, 1.0),\n",
       " (0.8820128972823583, 1.0),\n",
       " (0.8820589590050668, 1.0),\n",
       " (0.8827959465684017, 1.0),\n",
       " (0.88284200829111, 1.0),\n",
       " (0.8915707047443574, 1.0),\n",
       " (0.8916167664670659, 1.0),\n",
       " (0.8951404882542607, 1.0),\n",
       " (0.8951865499769691, 1.0),\n",
       " (0.8977199447259328, 1.0),\n",
       " (0.8977660064486411, 1.0),\n",
       " (0.8998848456932289, 1.0),\n",
       " (0.8999309074159374, 1.0),\n",
       " (0.9133118378627361, 1.0),\n",
       " (0.9133578995854444, 1.0),\n",
       " (0.9242745278673422, 1.0),\n",
       " (0.9243205895900507, 1.0),\n",
       " (0.9300552740672501, 1.0),\n",
       " (0.9301013357899586, 1.0),\n",
       " (0.9367572547213265, 1.0),\n",
       " (0.936803316444035, 1.0),\n",
       " (0.9386688162137264, 1.0),\n",
       " (0.9387148779364348, 1.0),\n",
       " (0.9478120681713496, 1.0),\n",
       " (0.947858129894058, 1.0),\n",
       " (0.9608245048364809, 1.0),\n",
       " (0.9608705665591893, 1.0),\n",
       " (0.9640948871487793, 1.0),\n",
       " (0.9641409488714878, 1.0),\n",
       " (0.983694150161216, 1.0),\n",
       " (0.9837402118839245, 1.0),\n",
       " (1.0, 1.0)]"
      ]
     },
     "execution_count": 124,
     "metadata": {},
     "output_type": "execute_result"
    }
   ],
   "source": [
    "thresh = 0.4\n",
    "list(zip(fpr[(fpr) > thresh], tpr[fpr > thresh]))"
   ]
  },
  {
   "cell_type": "code",
   "execution_count": 21,
   "metadata": {
    "hidden": true
   },
   "outputs": [],
   "source": [
    "model.eval()\n",
    "\n",
    "total_pred = []\n",
    "total_y = []\n",
    "\n",
    "for batch in gnn_test_loader:\n",
    "    data = batch.to(device)\n",
    "    with torch.no_grad():\n",
    "        pred = model(data)   \n",
    "    y = batch.pid[batch.e[0]] == batch.pid[batch.e[1]]\n",
    "\n",
    "    total_pred += sig(pred).detach().cpu().numpy().tolist()\n",
    "    total_y += y.cpu().numpy().tolist()"
   ]
  },
  {
   "cell_type": "code",
   "execution_count": 27,
   "metadata": {
    "hidden": true,
    "scrolled": true
   },
   "outputs": [
    {
     "data": {
      "text/plain": [
       "Text(0.5, 1.0, 'GNN on Biadjacent Embedding')"
      ]
     },
     "execution_count": 27,
     "metadata": {},
     "output_type": "execute_result"
    },
    {
     "data": {
      "image/png": "[encoded data removed]",
      "text/plain": [
       "<Figure size 432x288 with 1 Axes>"
      ]
     },
     "metadata": {
      "needs_background": "light"
     },
     "output_type": "display_data"
    }
   ],
   "source": [
    "fig, ax = plt.subplots()\n",
    "f1 = [metrics.f1_score(total_y, np.array(total_pred)>thresh) for thresh in np.arange(0,1,0.1)]\n",
    "ax.plot(np.arange(0,1,0.1), f1)\n",
    "ax.text(0.4, 0.2, \"Best F1: {:.4f} @ r= {:.2f}\".format(max(f1), 0.1*np.argmax(f1)), transform=ax.transAxes, fontsize=14,\n",
    "        verticalalignment='top', bbox=props)\n",
    "ax.set_xlabel(\"edge score threshold\"), ax.set_ylabel(\"F1 measure\")\n",
    "ax.set_title(\"GNN on Biadjacent Embedding\")"
   ]
  },
  {
   "cell_type": "markdown",
   "metadata": {},
   "source": [
    "## Scatter-Gather PyG Original Representation"
   ]
  },
  {
   "cell_type": "code",
   "execution_count": 52,
   "metadata": {
    "code_folding": []
   },
   "outputs": [],
   "source": [
    "class EdgeNetwork(nn.Module):\n",
    "    \"\"\"\n",
    "    A module which computes weights for edges of the graph.\n",
    "    For each edge, it selects the associated nodes' features\n",
    "    and applies some fully-connected network layers with a final\n",
    "    sigmoid activation.\n",
    "    \"\"\"\n",
    "    def __init__(self, input_dim, hidden_dim=8, hidden_activation='Tanh',\n",
    "                 layer_norm=True):\n",
    "        super(EdgeNetwork, self).__init__()\n",
    "        self.network = make_mlp(input_dim*2,\n",
    "                                [hidden_dim, hidden_dim, hidden_dim, 1],\n",
    "                                hidden_activation=hidden_activation,\n",
    "                                output_activation=None,\n",
    "                                layer_norm=layer_norm)\n",
    "\n",
    "    def forward(self, x, edge_index):\n",
    "        # Select the features of the associated nodes\n",
    "        start, end = edge_index\n",
    "        x1, x2 = x[start], x[end]\n",
    "        edge_inputs = torch.cat([x[start], x[end]], dim=1)\n",
    "        return self.network(edge_inputs).squeeze(-1)\n",
    "\n",
    "class NodeNetwork(nn.Module):\n",
    "    \"\"\"\n",
    "    A module which computes new node features on the graph.\n",
    "    For each node, it aggregates the neighbor node features\n",
    "    (separately on the input and output side), and combines\n",
    "    them with the node's previous features in a fully-connected\n",
    "    network to compute the new features.\n",
    "    \"\"\"\n",
    "    def __init__(self, input_dim, output_dim, hidden_activation='Tanh',\n",
    "                 layer_norm=True):\n",
    "        super(NodeNetwork, self).__init__()\n",
    "        self.network = make_mlp(input_dim*3, [output_dim]*4,\n",
    "                                hidden_activation=hidden_activation,\n",
    "                                output_activation=None,\n",
    "                                layer_norm=layer_norm)\n",
    "\n",
    "    def forward(self, x, e, edge_index):\n",
    "        start, end = edge_index\n",
    "        # Aggregate edge-weighted incoming/outgoing features\n",
    "        mi = scatter_add(e[:, None] * x[start], end, dim=0, dim_size=x.shape[0])\n",
    "        mo = scatter_add(e[:, None] * x[end], start, dim=0, dim_size=x.shape[0])\n",
    "        node_inputs = torch.cat([mi, mo, x], dim=1)\n",
    "        return self.network(node_inputs)\n",
    "    \n",
    "class GATGNN(nn.Module):\n",
    "    \"\"\"\n",
    "    Segment classification graph neural network model.\n",
    "    Consists of an input network, an edge network, and a node network.\n",
    "    \"\"\"\n",
    "    def __init__(self, in_channels=3, hidden_dim=8, n_graph_iters=3,\n",
    "                 hidden_activation=torch.nn.Tanh, layer_norm=True):\n",
    "        super(GATGNN, self).__init__()\n",
    "        self.n_graph_iters = n_graph_iters\n",
    "        # Setup the input network\n",
    "        self.input_network = make_mlp(in_channels, [hidden_dim],\n",
    "                                      output_activation=hidden_activation,\n",
    "                                      layer_norm=layer_norm)\n",
    "        # Setup the edge network\n",
    "        self.edge_network = EdgeNetwork(in_channels + hidden_dim, in_channels + hidden_dim,\n",
    "                                        hidden_activation, layer_norm=layer_norm)\n",
    "        # Setup the node layers\n",
    "        self.node_network = NodeNetwork(in_channels + hidden_dim, hidden_dim,\n",
    "                                        hidden_activation, layer_norm=layer_norm)\n",
    "        \n",
    "    def forward(self, x, edge_index):\n",
    "        \"\"\"Apply forward pass of the model\"\"\"\n",
    "        x_in = x\n",
    "        x = self.input_network(x)\n",
    "        # Shortcut connect the inputs onto the hidden representation\n",
    "        x = torch.cat([x, x_in], dim=-1)\n",
    "#         print(x.shape)\n",
    "        \n",
    "        # Loop over iterations of edge and node networks\n",
    "        for i in range(self.n_graph_iters):\n",
    "            x_inital = x\n",
    "            \n",
    "            # Apply edge network\n",
    "            e = torch.sigmoid(self.edge_network(x, edge_index))\n",
    "        \n",
    "            # Apply node network\n",
    "            x = self.node_network(x, e, edge_index)\n",
    "            \n",
    "            # Shortcut connect the inputs onto the hidden representation\n",
    "            x = torch.cat([x, x_in], dim=-1)  \n",
    "            \n",
    "            x = x_inital + x\n",
    "        \n",
    "        return self.edge_network(x, edge_index)"
   ]
  },
  {
   "cell_type": "code",
   "execution_count": 53,
   "metadata": {
    "code_folding": [
     0,
     51
    ]
   },
   "outputs": [],
   "source": [
    "def train_gnn(model, gnn_train_loader, optimizer, m_configs):\n",
    "    correct = 0\n",
    "    total = 0\n",
    "    total_loss = 0\n",
    "    data_time, pred_time, loss_time, loss_back_time, optimizer_step = 0, 0, 0, 0, 0\n",
    "    for i, batch in enumerate(gnn_train_loader):\n",
    "        optimizer.zero_grad()\n",
    "        tic = tt()\n",
    "        data = batch.to(device)\n",
    "        data_time += tt()-tic\n",
    "        tic = tt()\n",
    "        pred = model(data.x, data.edge_index)\n",
    "        pred_time += tt()-tic\n",
    "        \n",
    "        y = batch.y\n",
    "        tic = tt()\n",
    "        loss = F.binary_cross_entropy_with_logits(pred.float(), y, pos_weight=torch.tensor(m_configs[\"weight\"]))\n",
    "        loss_time += tt()-tic\n",
    "        tic = tt()\n",
    "        loss.backward()\n",
    "        loss_back_time += tt()-tic\n",
    "        tic = tt()\n",
    "        optimizer.step()\n",
    "        optimizer_step += tt()-tic\n",
    "        \n",
    "        total_loss += loss.item()\n",
    "\n",
    "        true, false = y.float() > 0.5, y.float() < 0.5\n",
    "        positive, negative = sig(pred) > 0.5, sig(pred) < 0.5\n",
    "\n",
    "        correct += ((sig(pred) > 0.5) == (y.float() > 0.5)).sum().item()\n",
    "        total += len(pred)\n",
    "        if(i%200==0): print(i, \"batches\")\n",
    "        \n",
    "    acc = correct/max(total, 1)\n",
    "    print(\"data_time, pred_time, loss_time, loss_back_time, optimizer_step\")\n",
    "    print(data_time, pred_time, loss_time, loss_back_time, optimizer_step)\n",
    "    return acc, total_loss\n",
    "\n",
    "def evaluate_gnn(model, gnn_test_loader, m_configs):\n",
    "    correct, total_positive, total_true, true_positive, total, total_loss = 0, 1, 0, 0, 0, 0\n",
    "    \n",
    "    for batch in gnn_test_loader:\n",
    "        data = batch.to(device)\n",
    "#         pred = model(data.x, data.edge_index.int())\n",
    "        pred = model(data.x, data.edge_index)\n",
    "              \n",
    "        y = batch.y\n",
    "        loss = F.binary_cross_entropy_with_logits(pred.float(), y.float(), pos_weight=torch.tensor(m_configs[\"weight\"]))\n",
    "        total_loss += loss.item()\n",
    "\n",
    "        true, false = y.float() > 0.5, y.float() < 0.5\n",
    "        positive, negative = sig(pred) > 0.5, sig(pred) < 0.5\n",
    "        true_positive += (true & positive).sum().item()\n",
    "        total_positive += max(positive.sum().item(), 1)\n",
    "\n",
    "        correct += ((sig(pred) > 0.5) == (y.float() > 0.5)).sum().item()\n",
    "        total_true += max(true.sum().item(), 1)\n",
    "        total += len(pred)\n",
    "\n",
    "    acc = correct/max(total, 1)\n",
    "    eff = (true_positive / max(total_true, 1))\n",
    "    pur = (true_positive / max(total_positive, 1))\n",
    "     \n",
    "    return acc, eff, pur, total_loss"
   ]
  },
  {
   "cell_type": "code",
   "execution_count": 57,
   "metadata": {},
   "outputs": [],
   "source": [
    "m_configs = {\"in_channels\": 3, \"hidden_dim\": 32, \"n_graph_iters\": 8}\n",
    "model = GATGNN(**m_configs).to(device)\n",
    "other_configs = {\"weight\": 3}\n",
    "torch.manual_seed(torch_seed)\n",
    "m_configs.update(other_configs)\n",
    "optimizer = torch.optim.Adam(model.parameters(), lr=0.001, weight_decay=1e-3, amsgrad=True)\n",
    "# optimizer = optimizers.FusedAdam(model.parameters(), lr = 0.001, weight_decay=1e-3)\n",
    "scheduler = torch.optim.lr_scheduler.ReduceLROnPlateau(optimizer, factor=0.3, patience=10)\n",
    "torch.cuda.reset_max_memory_cached(device=device)"
   ]
  },
  {
   "cell_type": "code",
   "execution_count": 58,
   "metadata": {
    "scrolled": true
   },
   "outputs": [
    {
     "name": "stdout",
     "output_type": "stream",
     "text": [
      "0 batches\n",
      "200 batches\n",
      "400 batches\n",
      "600 batches\n",
      "800 batches\n",
      "data_time, pred_time, loss_time, loss_back_time, optimizer_step\n",
      "1.9896533489227295 13.077362775802612 0.39206933975219727 181.28339552879333 4.446962356567383\n",
      "Training loss: 340.7721998691559\n",
      "End of epoch mem: 6.1396484375 MB\n",
      "Epoch: 0, Accuracy: 0.9348, Purity: 0.6970, Efficiency: 0.9367, Loss: 19.7048, LR: 0.001 in time 208.73812127113342\n",
      "0 batches\n",
      "200 batches\n",
      "600 batches\n",
      "800 batches\n",
      "data_time, pred_time, loss_time, loss_back_time, optimizer_step\n",
      "1.9938678741455078 12.994366645812988 0.39365077018737793 181.22496461868286 4.3604230880737305\n",
      "Training loss: 181.9768833965063\n",
      "End of epoch mem: 6.1396484375 MB\n",
      "Epoch: 1, Accuracy: 0.9377, Purity: 0.7030, Efficiency: 0.9527, Loss: 17.9121, LR: 0.001 in time 208.51447772979736\n",
      "0 batches\n",
      "200 batches\n",
      "400 batches\n",
      "600 batches\n",
      "800 batches\n",
      "data_time, pred_time, loss_time, loss_back_time, optimizer_step\n",
      "1.998703956604004 12.937515497207642 0.3961021900177002 181.26568222045898 4.330440521240234\n",
      "Training loss: 177.05522321164608\n",
      "End of epoch mem: 6.1396484375 MB\n",
      "Epoch: 2, Accuracy: 0.9535, Purity: 0.7642, Efficiency: 0.9607, Loss: 13.9892, LR: 0.001 in time 208.40431952476501\n",
      "0 batches\n"
     ]
    },
    {
     "ename": "KeyboardInterrupt",
     "evalue": "",
     "output_type": "error",
     "traceback": [
      "\u001b[0;31m---------------------------------------------------------------------------\u001b[0m",
      "\u001b[0;31mKeyboardInterrupt\u001b[0m                         Traceback (most recent call last)",
      "\u001b[0;32m<ipython-input-58-419928ee1b43>\u001b[0m in \u001b[0;36m<module>\u001b[0;34m\u001b[0m\n\u001b[1;32m      2\u001b[0m     \u001b[0mtic\u001b[0m \u001b[0;34m=\u001b[0m \u001b[0mtt\u001b[0m\u001b[0;34m(\u001b[0m\u001b[0;34m)\u001b[0m\u001b[0;34m\u001b[0m\u001b[0;34m\u001b[0m\u001b[0m\n\u001b[1;32m      3\u001b[0m     \u001b[0mmodel\u001b[0m\u001b[0;34m.\u001b[0m\u001b[0mtrain\u001b[0m\u001b[0;34m(\u001b[0m\u001b[0;34m)\u001b[0m\u001b[0;34m\u001b[0m\u001b[0;34m\u001b[0m\u001b[0m\n\u001b[0;32m----> 4\u001b[0;31m     \u001b[0macc\u001b[0m\u001b[0;34m,\u001b[0m \u001b[0mtrain_loss\u001b[0m \u001b[0;34m=\u001b[0m \u001b[0mtrain_gnn\u001b[0m\u001b[0;34m(\u001b[0m\u001b[0mmodel\u001b[0m\u001b[0;34m,\u001b[0m \u001b[0mgnn_train_loader\u001b[0m\u001b[0;34m,\u001b[0m \u001b[0moptimizer\u001b[0m\u001b[0;34m,\u001b[0m \u001b[0mm_configs\u001b[0m\u001b[0;34m)\u001b[0m\u001b[0;34m\u001b[0m\u001b[0;34m\u001b[0m\u001b[0m\n\u001b[0m\u001b[1;32m      5\u001b[0m     \u001b[0mprint\u001b[0m\u001b[0;34m(\u001b[0m\u001b[0;34m\"Training loss:\"\u001b[0m\u001b[0;34m,\u001b[0m \u001b[0mtrain_loss\u001b[0m\u001b[0;34m)\u001b[0m\u001b[0;34m\u001b[0m\u001b[0;34m\u001b[0m\u001b[0m\n\u001b[1;32m      6\u001b[0m \u001b[0;34m\u001b[0m\u001b[0m\n",
      "\u001b[0;32m<ipython-input-53-31d20dfeaaf0>\u001b[0m in \u001b[0;36mtrain_gnn\u001b[0;34m(model, gnn_train_loader, optimizer, m_configs)\u001b[0m\n\u001b[1;32m     27\u001b[0m \u001b[0;31m#             scaled_loss.backward()\u001b[0m\u001b[0;34m\u001b[0m\u001b[0;34m\u001b[0m\u001b[0;34m\u001b[0m\u001b[0m\n\u001b[1;32m     28\u001b[0m         \u001b[0mtic\u001b[0m \u001b[0;34m=\u001b[0m \u001b[0mtt\u001b[0m\u001b[0;34m(\u001b[0m\u001b[0;34m)\u001b[0m\u001b[0;34m\u001b[0m\u001b[0;34m\u001b[0m\u001b[0m\n\u001b[0;32m---> 29\u001b[0;31m         \u001b[0mloss\u001b[0m\u001b[0;34m.\u001b[0m\u001b[0mbackward\u001b[0m\u001b[0;34m(\u001b[0m\u001b[0;34m)\u001b[0m\u001b[0;34m\u001b[0m\u001b[0;34m\u001b[0m\u001b[0m\n\u001b[0m\u001b[1;32m     30\u001b[0m         \u001b[0mloss_back_time\u001b[0m \u001b[0;34m+=\u001b[0m \u001b[0mtt\u001b[0m\u001b[0;34m(\u001b[0m\u001b[0;34m)\u001b[0m\u001b[0;34m-\u001b[0m\u001b[0mtic\u001b[0m\u001b[0;34m\u001b[0m\u001b[0;34m\u001b[0m\u001b[0m\n\u001b[1;32m     31\u001b[0m \u001b[0;31m#         torch.nn.utils.clip_grad_norm_(model.parameters(), m_configs[\"clip\"])\u001b[0m\u001b[0;34m\u001b[0m\u001b[0;34m\u001b[0m\u001b[0;34m\u001b[0m\u001b[0m\n",
      "\u001b[0;32m~/.conda/envs/latest-pyg/lib/python3.8/site-packages/torch/tensor.py\u001b[0m in \u001b[0;36mbackward\u001b[0;34m(self, gradient, retain_graph, create_graph)\u001b[0m\n\u001b[1;32m    196\u001b[0m                 \u001b[0mproducts\u001b[0m\u001b[0;34m.\u001b[0m \u001b[0mDefaults\u001b[0m \u001b[0mto\u001b[0m\u001b[0;31m \u001b[0m\u001b[0;31m`\u001b[0m\u001b[0;31m`\u001b[0m\u001b[0;32mFalse\u001b[0m\u001b[0;31m`\u001b[0m\u001b[0;31m`\u001b[0m\u001b[0;34m.\u001b[0m\u001b[0;34m\u001b[0m\u001b[0;34m\u001b[0m\u001b[0m\n\u001b[1;32m    197\u001b[0m         \"\"\"\n\u001b[0;32m--> 198\u001b[0;31m         \u001b[0mtorch\u001b[0m\u001b[0;34m.\u001b[0m\u001b[0mautograd\u001b[0m\u001b[0;34m.\u001b[0m\u001b[0mbackward\u001b[0m\u001b[0;34m(\u001b[0m\u001b[0mself\u001b[0m\u001b[0;34m,\u001b[0m \u001b[0mgradient\u001b[0m\u001b[0;34m,\u001b[0m \u001b[0mretain_graph\u001b[0m\u001b[0;34m,\u001b[0m \u001b[0mcreate_graph\u001b[0m\u001b[0;34m)\u001b[0m\u001b[0;34m\u001b[0m\u001b[0;34m\u001b[0m\u001b[0m\n\u001b[0m\u001b[1;32m    199\u001b[0m \u001b[0;34m\u001b[0m\u001b[0m\n\u001b[1;32m    200\u001b[0m     \u001b[0;32mdef\u001b[0m \u001b[0mregister_hook\u001b[0m\u001b[0;34m(\u001b[0m\u001b[0mself\u001b[0m\u001b[0;34m,\u001b[0m \u001b[0mhook\u001b[0m\u001b[0;34m)\u001b[0m\u001b[0;34m:\u001b[0m\u001b[0;34m\u001b[0m\u001b[0;34m\u001b[0m\u001b[0m\n",
      "\u001b[0;32m~/.conda/envs/latest-pyg/lib/python3.8/site-packages/torch/autograd/__init__.py\u001b[0m in \u001b[0;36mbackward\u001b[0;34m(tensors, grad_tensors, retain_graph, create_graph, grad_variables)\u001b[0m\n\u001b[1;32m     96\u001b[0m         \u001b[0mretain_graph\u001b[0m \u001b[0;34m=\u001b[0m \u001b[0mcreate_graph\u001b[0m\u001b[0;34m\u001b[0m\u001b[0;34m\u001b[0m\u001b[0m\n\u001b[1;32m     97\u001b[0m \u001b[0;34m\u001b[0m\u001b[0m\n\u001b[0;32m---> 98\u001b[0;31m     Variable._execution_engine.run_backward(\n\u001b[0m\u001b[1;32m     99\u001b[0m         \u001b[0mtensors\u001b[0m\u001b[0;34m,\u001b[0m \u001b[0mgrad_tensors\u001b[0m\u001b[0;34m,\u001b[0m \u001b[0mretain_graph\u001b[0m\u001b[0;34m,\u001b[0m \u001b[0mcreate_graph\u001b[0m\u001b[0;34m,\u001b[0m\u001b[0;34m\u001b[0m\u001b[0;34m\u001b[0m\u001b[0m\n\u001b[1;32m    100\u001b[0m         allow_unreachable=True)  # allow_unreachable flag\n",
      "\u001b[0;31mKeyboardInterrupt\u001b[0m: "
     ]
    }
   ],
   "source": [
    "for epoch in range(10):\n",
    "    tic = tt()  \n",
    "    model.train()\n",
    "    acc, train_loss = train_gnn(model, gnn_train_loader, optimizer, m_configs)\n",
    "    print(\"Training loss:\", train_loss)\n",
    "\n",
    "    model.eval()\n",
    "    with torch.no_grad():\n",
    "        acc, eff, pur, val_loss = evaluate_gnn(model, gnn_test_loader, m_configs)\n",
    "    scheduler.step(val_loss)\n",
    "#     wandb.log({\"val_loss\": val_loss, \"train_loss\": train_loss, \"val_acc\": acc, \"val_pur\": pur, \"val_eff\": eff, \"lr\": scheduler._last_lr[0]})\n",
    "\n",
    "#     save_model(epoch, model, optimizer, scheduler, val_loss, m_configs, 'ResAGNN/'+model_name._name+'.tar')\n",
    "    print(\"End of epoch mem:\", torch.cuda.memory_allocated(device=device)/(1024**2), \"MB\")\n",
    "    print('Epoch: {}, Accuracy: {:.4f}, Purity: {:.4f}, Efficiency: {:.4f}, Loss: {:.4f}, LR: {} in time {}'.format(epoch, acc, pur, eff, val_loss, scheduler._last_lr[0], tt()-tic))"
   ]
  },
  {
   "cell_type": "code",
   "execution_count": 143,
   "metadata": {},
   "outputs": [
    {
     "name": "stdout",
     "output_type": "stream",
     "text": [
      "|===========================================================================|\n",
      "|                  PyTorch CUDA memory summary, device ID 0                 |\n",
      "|---------------------------------------------------------------------------|\n",
      "|            CUDA OOMs: 0            |        cudaMalloc retries: 0         |\n",
      "|===========================================================================|\n",
      "|        Metric         | Cur Usage  | Peak Usage | Tot Alloc  | Tot Freed  |\n",
      "|---------------------------------------------------------------------------|\n",
      "| Allocated memory      |    1704 MB |    2364 MB |  110892 GB |  110890 GB |\n",
      "|---------------------------------------------------------------------------|\n",
      "| Active memory         |    1704 MB |    2364 MB |  110892 GB |  110890 GB |\n",
      "|---------------------------------------------------------------------------|\n",
      "| GPU reserved memory   |   10120 MB |   10120 MB |   10120 MB |       0 B  |\n",
      "|---------------------------------------------------------------------------|\n",
      "| Non-releasable memory |  110338 KB |  227577 KB |   82418 GB |   82418 GB |\n",
      "|---------------------------------------------------------------------------|\n",
      "| Allocations           |    1654    |    1791    |   61297 K  |   61296 K  |\n",
      "|---------------------------------------------------------------------------|\n",
      "| Active allocs         |    1654    |    1791    |   61297 K  |   61296 K  |\n",
      "|---------------------------------------------------------------------------|\n",
      "| GPU reserved segments |     378    |     378    |     378    |       0    |\n",
      "|---------------------------------------------------------------------------|\n",
      "| Non-releasable allocs |     153    |     189    |   28576 K  |   28576 K  |\n",
      "|===========================================================================|\n",
      "\n"
     ]
    }
   ],
   "source": [
    "print(torch.cuda.memory_summary(device=device, abbreviated=True))"
   ]
  },
  {
   "cell_type": "markdown",
   "metadata": {
    "heading_collapsed": true
   },
   "source": [
    "## Scatter-Gather PyG Representation"
   ]
  },
  {
   "cell_type": "code",
   "execution_count": 48,
   "metadata": {
    "code_folding": [],
    "hidden": true
   },
   "outputs": [],
   "source": [
    "class EdgeNetwork(nn.Module):\n",
    "    \"\"\"\n",
    "    A module which computes weights for edges of the graph.\n",
    "    For each edge, it selects the associated nodes' features\n",
    "    and applies some fully-connected network layers with a final\n",
    "    sigmoid activation.\n",
    "    \"\"\"\n",
    "    def __init__(self, input_dim, hidden_dim=8, hidden_activation='Tanh',\n",
    "                 layer_norm=True):\n",
    "        super(EdgeNetwork, self).__init__()\n",
    "        self.network = make_mlp(input_dim*2,\n",
    "                                [hidden_dim, hidden_dim, hidden_dim, 1],\n",
    "                                hidden_activation=hidden_activation,\n",
    "                                output_activation=None,\n",
    "                                layer_norm=layer_norm)\n",
    "\n",
    "    def forward(self, x, edge_index):\n",
    "        # Select the features of the associated nodes\n",
    "        start, end = edge_index\n",
    "        x1, x2 = x[start], x[end]\n",
    "        edge_inputs = torch.cat([x[start], x[end]], dim=1)\n",
    "        return self.network(edge_inputs).squeeze(-1)\n",
    "\n",
    "class NodeNetwork(nn.Module):\n",
    "    \"\"\"\n",
    "    A module which computes new node features on the graph.\n",
    "    For each node, it aggregates the neighbor node features\n",
    "    (separately on the input and output side), and combines\n",
    "    them with the node's previous features in a fully-connected\n",
    "    network to compute the new features.\n",
    "    \"\"\"\n",
    "    def __init__(self, input_dim, output_dim, hidden_activation='Tanh',\n",
    "                 layer_norm=True):\n",
    "        super(NodeNetwork, self).__init__()\n",
    "        self.network = make_mlp(input_dim*3, [output_dim]*4,\n",
    "                                hidden_activation=hidden_activation,\n",
    "                                output_activation=None,\n",
    "                                layer_norm=layer_norm)\n",
    "\n",
    "    def forward(self, x, e, edge_index):\n",
    "        start, end = edge_index\n",
    "        # Aggregate edge-weighted incoming/outgoing features\n",
    "        mi = scatter_add(e[:, None] * x[start], end, dim=0, dim_size=x.shape[0])\n",
    "        mo = scatter_add(e[:, None] * x[end], start, dim=0, dim_size=x.shape[0])\n",
    "        node_inputs = torch.cat([mi, mo, x], dim=1)\n",
    "        return self.network(node_inputs)\n",
    "    \n",
    "class GATGNN(nn.Module):\n",
    "    \"\"\"\n",
    "    Segment classification graph neural network model.\n",
    "    Consists of an input network, an edge network, and a node network.\n",
    "    \"\"\"\n",
    "    def __init__(self, in_channels=3, hidden_dim=8, n_graph_iters=3,\n",
    "                 hidden_activation=torch.nn.Tanh, layer_norm=True):\n",
    "        super(GATGNN, self).__init__()\n",
    "        self.n_graph_iters = n_graph_iters\n",
    "        # Setup the input network\n",
    "        self.input_network = make_mlp(in_channels, [hidden_dim],\n",
    "                                      output_activation=hidden_activation,\n",
    "                                      layer_norm=layer_norm)\n",
    "        \n",
    "        self.GATConv = pygnn.GATConv(hidden_dim, hidden_dim)\n",
    "        \n",
    "        # Setup the node layers\n",
    "        self.node_network = make_mlp(hidden_dim,\n",
    "                                        [hidden_dim]*4,\n",
    "                                        output_activation=None,\n",
    "                                           layer_norm=layer_norm)\n",
    "        \n",
    "        # The edge classifier computes final edge scores\n",
    "        self.edge_classifier = make_mlp(2*hidden_dim,\n",
    "                                        [hidden_dim, hidden_dim, hidden_dim, 1],\n",
    "                                        output_activation=None)\n",
    "        \n",
    "    def forward(self, x, edge_index):\n",
    "        \"\"\"Apply forward pass of the model\"\"\"\n",
    "\n",
    "        x = self.input_network(x)\n",
    "\n",
    "        # Loop over iterations of edge and node networks\n",
    "        for i in range(self.n_graph_iters):\n",
    "            x_inital = x\n",
    "            \n",
    "            # Apply edge network\n",
    "            x = self.GATConv(x, edge_index)\n",
    "            x = self.node_network(x)\n",
    "            \n",
    "            x = x_inital + x        \n",
    "    \n",
    "        start_idx, end_idx = edge_index\n",
    "        return self.edge_classifier(torch.cat([x[start_idx], x[end_idx]], dim=1)).squeeze(-1)"
   ]
  },
  {
   "cell_type": "code",
   "execution_count": 49,
   "metadata": {
    "code_folding": [
     0,
     51
    ],
    "hidden": true
   },
   "outputs": [],
   "source": [
    "def train_gnn(model, gnn_train_loader, optimizer, m_configs):\n",
    "    correct = 0\n",
    "    total = 0\n",
    "    total_loss = 0\n",
    "    data_time, pred_time, loss_time, loss_back_time, optimizer_step = 0, 0, 0, 0, 0\n",
    "    for i, batch in enumerate(gnn_train_loader):\n",
    "        optimizer.zero_grad()\n",
    "        tic = tt()\n",
    "        data = batch.to(device)\n",
    "        data_time += tt()-tic\n",
    "#         print(\"Edge float\", data.e.max().item(), data.e)\n",
    "#         print(\"Edge long\", data.e.long().max().item(), data.e.long())\n",
    "#         print(\"Edge shape\", data.e.shape)\n",
    "        \n",
    "#         pred = model(data.x, data.edge_index.int())\n",
    "        tic = tt()\n",
    "        pred = model(data.x, data.edge_index)\n",
    "        pred_time += tt()-tic\n",
    "        \n",
    "        y = batch.y\n",
    "#         print(\"y\", np.isnan(y.cpu().detach().numpy()).sum())\n",
    "#         if (np.isnan(pred.cpu().detach().numpy()).sum() == 0):\n",
    "        tic = tt()\n",
    "        loss = F.binary_cross_entropy_with_logits(pred.float(), y, pos_weight=torch.tensor(m_configs[\"weight\"]))\n",
    "        loss_time += tt()-tic\n",
    "#         with amp.scale_loss(loss, optimizer) as scaled_loss:\n",
    "#             scaled_loss.backward()\n",
    "        tic = tt()\n",
    "        loss.backward()\n",
    "        loss_back_time += tt()-tic\n",
    "#         torch.nn.utils.clip_grad_norm_(model.parameters(), m_configs[\"clip\"])\n",
    "        tic = tt()\n",
    "        optimizer.step()\n",
    "        optimizer_step += tt()-tic\n",
    "        \n",
    "        total_loss += loss.item()\n",
    "\n",
    "        true, false = y.float() > 0.5, y.float() < 0.5\n",
    "        positive, negative = sig(pred) > 0.5, sig(pred) < 0.5\n",
    "\n",
    "        correct += ((sig(pred) > 0.5) == (y.float() > 0.5)).sum().item()\n",
    "        total += len(pred)\n",
    "#         else:\n",
    "#             print(\"Broke!\")\n",
    "        if(i%200==0): print(i, \"batches\")\n",
    "        \n",
    "    acc = correct/max(total, 1)\n",
    "    print(\"data_time, pred_time, loss_time, loss_back_time, optimizer_step\")\n",
    "    print(data_time, pred_time, loss_time, loss_back_time, optimizer_step)\n",
    "    return acc, total_loss\n",
    "\n",
    "def evaluate_gnn(model, gnn_test_loader, m_configs):\n",
    "    correct, total_positive, total_true, true_positive, total, total_loss = 0, 1, 0, 0, 0, 0\n",
    "    \n",
    "    for batch in gnn_test_loader:\n",
    "        data = batch.to(device)\n",
    "#         pred = model(data.x, data.edge_index.int())\n",
    "        pred = model(data.x, data.edge_index)\n",
    "              \n",
    "        y = batch.y\n",
    "\n",
    "#         print(\"y\", y, \"length\", len(y))\n",
    "#         if (np.isnan(pred.cpu().detach().numpy()).sum() == 0):\n",
    "        loss = F.binary_cross_entropy_with_logits(pred.float(), y.float(), pos_weight=torch.tensor(m_configs[\"weight\"]))\n",
    "        total_loss += loss.item()\n",
    "\n",
    "        true, false = y.float() > 0.5, y.float() < 0.5\n",
    "#         print(\"true\", true, \"sum\", true.float().sum().item())\n",
    "        positive, negative = sig(pred) > 0.5, sig(pred) < 0.5\n",
    "        true_positive += (true & positive).sum().item()\n",
    "        total_positive += max(positive.sum().item(), 1)\n",
    "\n",
    "        correct += ((sig(pred) > 0.5) == (y.float() > 0.5)).sum().item()\n",
    "        total_true += max(true.sum().item(), 1)\n",
    "\n",
    "#         print(\"True positive:\", (true & positive).sum().item(), \"True:\", true.sum().item(), \"Positive\", positive.sum().item())\n",
    "\n",
    "        total += len(pred)\n",
    "\n",
    "    acc = correct/max(total, 1)\n",
    "    eff = (true_positive / max(total_true, 1))\n",
    "    pur = (true_positive / max(total_positive, 1))\n",
    "    \n",
    "#     print(\"Num total_true:\", total_true, \"Num total_positive:\", total_positive, \"Num true_positive:\", true_positive, \"Total edges:\", total)\n",
    "        \n",
    "    return acc, eff, pur, total_loss"
   ]
  },
  {
   "cell_type": "code",
   "execution_count": 50,
   "metadata": {
    "hidden": true
   },
   "outputs": [],
   "source": [
    "m_configs = {\"in_channels\": 3, \"hidden_dim\": 32, \"n_graph_iters\": 8}\n",
    "model = GATGNN(**m_configs).to(device)\n",
    "other_configs = {\"weight\": 3}\n",
    "torch.manual_seed(torch_seed)\n",
    "m_configs.update(other_configs)\n",
    "optimizer = torch.optim.Adam(model.parameters(), lr=0.001, weight_decay=1e-3, amsgrad=True)\n",
    "# optimizer = optimizers.FusedAdam(model.parameters(), lr = 0.001, weight_decay=1e-3)\n",
    "scheduler = torch.optim.lr_scheduler.ReduceLROnPlateau(optimizer, factor=0.3, patience=10)"
   ]
  },
  {
   "cell_type": "code",
   "execution_count": 51,
   "metadata": {
    "hidden": true,
    "scrolled": true
   },
   "outputs": [
    {
     "name": "stdout",
     "output_type": "stream",
     "text": [
      "0 batches\n",
      "200 batches\n",
      "400 batches\n",
      "600 batches\n",
      "800 batches\n",
      "data_time, pred_time, loss_time, loss_back_time, optimizer_step\n",
      "1.820138931274414 12.623053789138794 0.35951733589172363 28.219863653182983 3.8809192180633545\n",
      "Training loss: 758.5221596360207\n",
      "End of epoch mem: 97.51318359375 MB\n",
      "Epoch: 0, Accuracy: 0.8217, Purity: 0.2654, Efficiency: 0.1629, Loss: 72.1881, LR: 0.001 in time 51.52574038505554\n",
      "0 batches\n",
      "200 batches\n",
      "400 batches\n",
      "600 batches\n",
      "800 batches\n",
      "data_time, pred_time, loss_time, loss_back_time, optimizer_step\n",
      "1.8527512550354004 12.566985368728638 0.3548462390899658 28.18063735961914 3.8620123863220215\n",
      "Training loss: 691.3220467567444\n",
      "End of epoch mem: 97.51318359375 MB\n",
      "Epoch: 1, Accuracy: 0.7814, Purity: 0.3583, Efficiency: 0.7312, Loss: 57.0352, LR: 0.001 in time 51.51437950134277\n",
      "0 batches\n",
      "200 batches\n",
      "400 batches\n",
      "600 batches\n",
      "800 batches\n",
      "data_time, pred_time, loss_time, loss_back_time, optimizer_step\n",
      "1.8375728130340576 12.673328638076782 0.3487412929534912 28.170597314834595 3.8666555881500244\n",
      "Training loss: 465.4721156358719\n",
      "End of epoch mem: 97.51318359375 MB\n",
      "Epoch: 2, Accuracy: 0.8281, Purity: 0.4402, Efficiency: 0.8889, Loss: 42.4142, LR: 0.001 in time 51.64340281486511\n",
      "0 batches\n",
      "200 batches\n",
      "400 batches\n",
      "600 batches\n",
      "800 batches\n",
      "data_time, pred_time, loss_time, loss_back_time, optimizer_step\n",
      "1.8451581001281738 12.598452091217041 0.3412959575653076 28.211230039596558 3.8940415382385254\n",
      "Training loss: 407.7664702832699\n",
      "End of epoch mem: 97.51318359375 MB\n",
      "Epoch: 3, Accuracy: 0.8331, Purity: 0.4497, Efficiency: 0.9189, Loss: 39.6646, LR: 0.001 in time 51.54716515541077\n",
      "0 batches\n",
      "200 batches\n",
      "400 batches\n",
      "600 batches\n",
      "800 batches\n",
      "data_time, pred_time, loss_time, loss_back_time, optimizer_step\n",
      "1.836395263671875 12.600089311599731 0.33626866340637207 28.20947027206421 3.8589627742767334\n",
      "Training loss: 385.2891854047775\n",
      "End of epoch mem: 97.51318359375 MB\n",
      "Epoch: 4, Accuracy: 0.8481, Purity: 0.4751, Efficiency: 0.9281, Loss: 36.8494, LR: 0.001 in time 51.34600496292114\n",
      "0 batches\n",
      "200 batches\n",
      "400 batches\n",
      "600 batches\n",
      "800 batches\n",
      "data_time, pred_time, loss_time, loss_back_time, optimizer_step\n",
      "1.8267459869384766 12.603410482406616 0.3415544033050537 28.139522552490234 3.848558187484741\n",
      "Training loss: 359.11473593115807\n",
      "End of epoch mem: 97.51318359375 MB\n",
      "Epoch: 5, Accuracy: 0.8672, Purity: 0.5112, Efficiency: 0.9246, Loss: 34.2250, LR: 0.001 in time 51.493857860565186\n",
      "0 batches\n",
      "200 batches\n",
      "400 batches\n",
      "600 batches\n",
      "800 batches\n",
      "data_time, pred_time, loss_time, loss_back_time, optimizer_step\n",
      "1.8356373310089111 12.589422941207886 0.34561848640441895 28.170442581176758 3.8716061115264893\n",
      "Training loss: 336.28184017539024\n",
      "End of epoch mem: 97.51318359375 MB\n",
      "Epoch: 6, Accuracy: 0.8807, Purity: 0.5400, Efficiency: 0.9344, Loss: 32.1562, LR: 0.001 in time 51.52289056777954\n",
      "0 batches\n"
     ]
    },
    {
     "name": "stderr",
     "output_type": "stream",
     "text": [
      "ERROR:root:Internal Python error in the inspect module.\n",
      "Below is the traceback from this internal error.\n",
      "\n"
     ]
    },
    {
     "name": "stdout",
     "output_type": "stream",
     "text": [
      "Traceback (most recent call last):\n",
      "  File \"/global/homes/d/danieltm/.conda/envs/latest-pyg/lib/python3.8/site-packages/IPython/core/interactiveshell.py\", line 3343, in run_code\n",
      "    exec(code_obj, self.user_global_ns, self.user_ns)\n",
      "  File \"<ipython-input-51-419928ee1b43>\", line 4, in <module>\n",
      "    acc, train_loss = train_gnn(model, gnn_train_loader, optimizer, m_configs)\n",
      "  File \"<ipython-input-49-31d20dfeaaf0>\", line 29, in train_gnn\n",
      "    loss.backward()\n",
      "  File \"/global/homes/d/danieltm/.conda/envs/latest-pyg/lib/python3.8/site-packages/torch/tensor.py\", line 198, in backward\n",
      "    torch.autograd.backward(self, gradient, retain_graph, create_graph)\n",
      "  File \"/global/homes/d/danieltm/.conda/envs/latest-pyg/lib/python3.8/site-packages/torch/autograd/__init__.py\", line 98, in backward\n",
      "    Variable._execution_engine.run_backward(\n",
      "KeyboardInterrupt\n",
      "\n",
      "During handling of the above exception, another exception occurred:\n",
      "\n",
      "Traceback (most recent call last):\n",
      "  File \"/global/homes/d/danieltm/.conda/envs/latest-pyg/lib/python3.8/site-packages/IPython/core/interactiveshell.py\", line 2044, in showtraceback\n",
      "    stb = value._render_traceback_()\n",
      "AttributeError: 'KeyboardInterrupt' object has no attribute '_render_traceback_'\n",
      "\n",
      "During handling of the above exception, another exception occurred:\n",
      "\n",
      "Traceback (most recent call last):\n",
      "  File \"/global/homes/d/danieltm/.conda/envs/latest-pyg/lib/python3.8/site-packages/IPython/core/ultratb.py\", line 1169, in get_records\n",
      "    return _fixed_getinnerframes(etb, number_of_lines_of_context, tb_offset)\n",
      "  File \"/global/homes/d/danieltm/.conda/envs/latest-pyg/lib/python3.8/site-packages/IPython/core/ultratb.py\", line 316, in wrapped\n",
      "    return f(*args, **kwargs)\n",
      "  File \"/global/homes/d/danieltm/.conda/envs/latest-pyg/lib/python3.8/site-packages/IPython/core/ultratb.py\", line 350, in _fixed_getinnerframes\n",
      "    records = fix_frame_records_filenames(inspect.getinnerframes(etb, context))\n",
      "  File \"/global/homes/d/danieltm/.conda/envs/latest-pyg/lib/python3.8/inspect.py\", line 1503, in getinnerframes\n",
      "    frameinfo = (tb.tb_frame,) + getframeinfo(tb, context)\n",
      "  File \"/global/homes/d/danieltm/.conda/envs/latest-pyg/lib/python3.8/inspect.py\", line 1461, in getframeinfo\n",
      "    filename = getsourcefile(frame) or getfile(frame)\n",
      "  File \"/global/homes/d/danieltm/.conda/envs/latest-pyg/lib/python3.8/inspect.py\", line 708, in getsourcefile\n",
      "    if getattr(getmodule(object, filename), '__loader__', None) is not None:\n",
      "  File \"/global/homes/d/danieltm/.conda/envs/latest-pyg/lib/python3.8/inspect.py\", line 745, in getmodule\n",
      "    if ismodule(module) and hasattr(module, '__file__'):\n",
      "KeyboardInterrupt\n"
     ]
    },
    {
     "ename": "TypeError",
     "evalue": "object of type 'NoneType' has no len()",
     "output_type": "error",
     "traceback": [
      "\u001b[0;31m---------------------------------------------------------------------------\u001b[0m",
      "\u001b[0;31mKeyboardInterrupt\u001b[0m                         Traceback (most recent call last)",
      "    \u001b[0;31m[... skipping hidden 1 frame]\u001b[0m\n",
      "\u001b[0;32m<ipython-input-51-419928ee1b43>\u001b[0m in \u001b[0;36m<module>\u001b[0;34m\u001b[0m\n\u001b[1;32m      3\u001b[0m     \u001b[0mmodel\u001b[0m\u001b[0;34m.\u001b[0m\u001b[0mtrain\u001b[0m\u001b[0;34m(\u001b[0m\u001b[0;34m)\u001b[0m\u001b[0;34m\u001b[0m\u001b[0;34m\u001b[0m\u001b[0m\n\u001b[0;32m----> 4\u001b[0;31m     \u001b[0macc\u001b[0m\u001b[0;34m,\u001b[0m \u001b[0mtrain_loss\u001b[0m \u001b[0;34m=\u001b[0m \u001b[0mtrain_gnn\u001b[0m\u001b[0;34m(\u001b[0m\u001b[0mmodel\u001b[0m\u001b[0;34m,\u001b[0m \u001b[0mgnn_train_loader\u001b[0m\u001b[0;34m,\u001b[0m \u001b[0moptimizer\u001b[0m\u001b[0;34m,\u001b[0m \u001b[0mm_configs\u001b[0m\u001b[0;34m)\u001b[0m\u001b[0;34m\u001b[0m\u001b[0;34m\u001b[0m\u001b[0m\n\u001b[0m\u001b[1;32m      5\u001b[0m     \u001b[0mprint\u001b[0m\u001b[0;34m(\u001b[0m\u001b[0;34m\"Training loss:\"\u001b[0m\u001b[0;34m,\u001b[0m \u001b[0mtrain_loss\u001b[0m\u001b[0;34m)\u001b[0m\u001b[0;34m\u001b[0m\u001b[0;34m\u001b[0m\u001b[0m\n",
      "\u001b[0;32m<ipython-input-49-31d20dfeaaf0>\u001b[0m in \u001b[0;36mtrain_gnn\u001b[0;34m(model, gnn_train_loader, optimizer, m_configs)\u001b[0m\n\u001b[1;32m     28\u001b[0m         \u001b[0mtic\u001b[0m \u001b[0;34m=\u001b[0m \u001b[0mtt\u001b[0m\u001b[0;34m(\u001b[0m\u001b[0;34m)\u001b[0m\u001b[0;34m\u001b[0m\u001b[0;34m\u001b[0m\u001b[0m\n\u001b[0;32m---> 29\u001b[0;31m         \u001b[0mloss\u001b[0m\u001b[0;34m.\u001b[0m\u001b[0mbackward\u001b[0m\u001b[0;34m(\u001b[0m\u001b[0;34m)\u001b[0m\u001b[0;34m\u001b[0m\u001b[0;34m\u001b[0m\u001b[0m\n\u001b[0m\u001b[1;32m     30\u001b[0m         \u001b[0mloss_back_time\u001b[0m \u001b[0;34m+=\u001b[0m \u001b[0mtt\u001b[0m\u001b[0;34m(\u001b[0m\u001b[0;34m)\u001b[0m\u001b[0;34m-\u001b[0m\u001b[0mtic\u001b[0m\u001b[0;34m\u001b[0m\u001b[0;34m\u001b[0m\u001b[0m\n",
      "\u001b[0;32m~/.conda/envs/latest-pyg/lib/python3.8/site-packages/torch/tensor.py\u001b[0m in \u001b[0;36mbackward\u001b[0;34m(self, gradient, retain_graph, create_graph)\u001b[0m\n\u001b[1;32m    197\u001b[0m         \"\"\"\n\u001b[0;32m--> 198\u001b[0;31m         \u001b[0mtorch\u001b[0m\u001b[0;34m.\u001b[0m\u001b[0mautograd\u001b[0m\u001b[0;34m.\u001b[0m\u001b[0mbackward\u001b[0m\u001b[0;34m(\u001b[0m\u001b[0mself\u001b[0m\u001b[0;34m,\u001b[0m \u001b[0mgradient\u001b[0m\u001b[0;34m,\u001b[0m \u001b[0mretain_graph\u001b[0m\u001b[0;34m,\u001b[0m \u001b[0mcreate_graph\u001b[0m\u001b[0;34m)\u001b[0m\u001b[0;34m\u001b[0m\u001b[0;34m\u001b[0m\u001b[0m\n\u001b[0m\u001b[1;32m    199\u001b[0m \u001b[0;34m\u001b[0m\u001b[0m\n",
      "\u001b[0;32m~/.conda/envs/latest-pyg/lib/python3.8/site-packages/torch/autograd/__init__.py\u001b[0m in \u001b[0;36mbackward\u001b[0;34m(tensors, grad_tensors, retain_graph, create_graph, grad_variables)\u001b[0m\n\u001b[1;32m     97\u001b[0m \u001b[0;34m\u001b[0m\u001b[0m\n\u001b[0;32m---> 98\u001b[0;31m     Variable._execution_engine.run_backward(\n\u001b[0m\u001b[1;32m     99\u001b[0m         \u001b[0mtensors\u001b[0m\u001b[0;34m,\u001b[0m \u001b[0mgrad_tensors\u001b[0m\u001b[0;34m,\u001b[0m \u001b[0mretain_graph\u001b[0m\u001b[0;34m,\u001b[0m \u001b[0mcreate_graph\u001b[0m\u001b[0;34m,\u001b[0m\u001b[0;34m\u001b[0m\u001b[0;34m\u001b[0m\u001b[0m\n",
      "\u001b[0;31mKeyboardInterrupt\u001b[0m: ",
      "\nDuring handling of the above exception, another exception occurred:\n",
      "\u001b[0;31mAttributeError\u001b[0m                            Traceback (most recent call last)",
      "\u001b[0;32m~/.conda/envs/latest-pyg/lib/python3.8/site-packages/IPython/core/interactiveshell.py\u001b[0m in \u001b[0;36mshowtraceback\u001b[0;34m(self, exc_tuple, filename, tb_offset, exception_only, running_compiled_code)\u001b[0m\n\u001b[1;32m   2043\u001b[0m                         \u001b[0;31m# in the engines. This should return a list of strings.\u001b[0m\u001b[0;34m\u001b[0m\u001b[0;34m\u001b[0m\u001b[0;34m\u001b[0m\u001b[0m\n\u001b[0;32m-> 2044\u001b[0;31m                         \u001b[0mstb\u001b[0m \u001b[0;34m=\u001b[0m \u001b[0mvalue\u001b[0m\u001b[0;34m.\u001b[0m\u001b[0m_render_traceback_\u001b[0m\u001b[0;34m(\u001b[0m\u001b[0;34m)\u001b[0m\u001b[0;34m\u001b[0m\u001b[0;34m\u001b[0m\u001b[0m\n\u001b[0m\u001b[1;32m   2045\u001b[0m                     \u001b[0;32mexcept\u001b[0m \u001b[0mException\u001b[0m\u001b[0;34m:\u001b[0m\u001b[0;34m\u001b[0m\u001b[0;34m\u001b[0m\u001b[0m\n",
      "\u001b[0;31mAttributeError\u001b[0m: 'KeyboardInterrupt' object has no attribute '_render_traceback_'",
      "\nDuring handling of the above exception, another exception occurred:\n",
      "\u001b[0;31mTypeError\u001b[0m                                 Traceback (most recent call last)",
      "    \u001b[0;31m[... skipping hidden 1 frame]\u001b[0m\n",
      "\u001b[0;32m~/.conda/envs/latest-pyg/lib/python3.8/site-packages/IPython/core/interactiveshell.py\u001b[0m in \u001b[0;36mshowtraceback\u001b[0;34m(self, exc_tuple, filename, tb_offset, exception_only, running_compiled_code)\u001b[0m\n\u001b[1;32m   2044\u001b[0m                         \u001b[0mstb\u001b[0m \u001b[0;34m=\u001b[0m \u001b[0mvalue\u001b[0m\u001b[0;34m.\u001b[0m\u001b[0m_render_traceback_\u001b[0m\u001b[0;34m(\u001b[0m\u001b[0;34m)\u001b[0m\u001b[0;34m\u001b[0m\u001b[0;34m\u001b[0m\u001b[0m\n\u001b[1;32m   2045\u001b[0m                     \u001b[0;32mexcept\u001b[0m \u001b[0mException\u001b[0m\u001b[0;34m:\u001b[0m\u001b[0;34m\u001b[0m\u001b[0;34m\u001b[0m\u001b[0m\n\u001b[0;32m-> 2046\u001b[0;31m                         stb = self.InteractiveTB.structured_traceback(etype,\n\u001b[0m\u001b[1;32m   2047\u001b[0m                                             value, tb, tb_offset=tb_offset)\n\u001b[1;32m   2048\u001b[0m \u001b[0;34m\u001b[0m\u001b[0m\n",
      "\u001b[0;32m~/.conda/envs/latest-pyg/lib/python3.8/site-packages/IPython/core/ultratb.py\u001b[0m in \u001b[0;36mstructured_traceback\u001b[0;34m(self, etype, value, tb, tb_offset, number_of_lines_of_context)\u001b[0m\n\u001b[1;32m   1433\u001b[0m         \u001b[0;32melse\u001b[0m\u001b[0;34m:\u001b[0m\u001b[0;34m\u001b[0m\u001b[0;34m\u001b[0m\u001b[0m\n\u001b[1;32m   1434\u001b[0m             \u001b[0mself\u001b[0m\u001b[0;34m.\u001b[0m\u001b[0mtb\u001b[0m \u001b[0;34m=\u001b[0m \u001b[0mtb\u001b[0m\u001b[0;34m\u001b[0m\u001b[0;34m\u001b[0m\u001b[0m\n\u001b[0;32m-> 1435\u001b[0;31m         return FormattedTB.structured_traceback(\n\u001b[0m\u001b[1;32m   1436\u001b[0m             self, etype, value, tb, tb_offset, number_of_lines_of_context)\n\u001b[1;32m   1437\u001b[0m \u001b[0;34m\u001b[0m\u001b[0m\n",
      "\u001b[0;32m~/.conda/envs/latest-pyg/lib/python3.8/site-packages/IPython/core/ultratb.py\u001b[0m in \u001b[0;36mstructured_traceback\u001b[0;34m(self, etype, value, tb, tb_offset, number_of_lines_of_context)\u001b[0m\n\u001b[1;32m   1333\u001b[0m         \u001b[0;32mif\u001b[0m \u001b[0mmode\u001b[0m \u001b[0;32min\u001b[0m \u001b[0mself\u001b[0m\u001b[0;34m.\u001b[0m\u001b[0mverbose_modes\u001b[0m\u001b[0;34m:\u001b[0m\u001b[0;34m\u001b[0m\u001b[0;34m\u001b[0m\u001b[0m\n\u001b[1;32m   1334\u001b[0m             \u001b[0;31m# Verbose modes need a full traceback\u001b[0m\u001b[0;34m\u001b[0m\u001b[0;34m\u001b[0m\u001b[0;34m\u001b[0m\u001b[0m\n\u001b[0;32m-> 1335\u001b[0;31m             return VerboseTB.structured_traceback(\n\u001b[0m\u001b[1;32m   1336\u001b[0m                 \u001b[0mself\u001b[0m\u001b[0;34m,\u001b[0m \u001b[0metype\u001b[0m\u001b[0;34m,\u001b[0m \u001b[0mvalue\u001b[0m\u001b[0;34m,\u001b[0m \u001b[0mtb\u001b[0m\u001b[0;34m,\u001b[0m \u001b[0mtb_offset\u001b[0m\u001b[0;34m,\u001b[0m \u001b[0mnumber_of_lines_of_context\u001b[0m\u001b[0;34m\u001b[0m\u001b[0;34m\u001b[0m\u001b[0m\n\u001b[1;32m   1337\u001b[0m             )\n",
      "\u001b[0;32m~/.conda/envs/latest-pyg/lib/python3.8/site-packages/IPython/core/ultratb.py\u001b[0m in \u001b[0;36mstructured_traceback\u001b[0;34m(self, etype, evalue, etb, tb_offset, number_of_lines_of_context)\u001b[0m\n\u001b[1;32m   1190\u001b[0m         \u001b[0;34m\"\"\"Return a nice text document describing the traceback.\"\"\"\u001b[0m\u001b[0;34m\u001b[0m\u001b[0;34m\u001b[0m\u001b[0m\n\u001b[1;32m   1191\u001b[0m \u001b[0;34m\u001b[0m\u001b[0m\n\u001b[0;32m-> 1192\u001b[0;31m         formatted_exception = self.format_exception_as_a_whole(etype, evalue, etb, number_of_lines_of_context,\n\u001b[0m\u001b[1;32m   1193\u001b[0m                                                                tb_offset)\n\u001b[1;32m   1194\u001b[0m \u001b[0;34m\u001b[0m\u001b[0m\n",
      "\u001b[0;32m~/.conda/envs/latest-pyg/lib/python3.8/site-packages/IPython/core/ultratb.py\u001b[0m in \u001b[0;36mformat_exception_as_a_whole\u001b[0;34m(self, etype, evalue, etb, number_of_lines_of_context, tb_offset)\u001b[0m\n\u001b[1;32m   1148\u001b[0m \u001b[0;34m\u001b[0m\u001b[0m\n\u001b[1;32m   1149\u001b[0m \u001b[0;34m\u001b[0m\u001b[0m\n\u001b[0;32m-> 1150\u001b[0;31m         \u001b[0mlast_unique\u001b[0m\u001b[0;34m,\u001b[0m \u001b[0mrecursion_repeat\u001b[0m \u001b[0;34m=\u001b[0m \u001b[0mfind_recursion\u001b[0m\u001b[0;34m(\u001b[0m\u001b[0morig_etype\u001b[0m\u001b[0;34m,\u001b[0m \u001b[0mevalue\u001b[0m\u001b[0;34m,\u001b[0m \u001b[0mrecords\u001b[0m\u001b[0;34m)\u001b[0m\u001b[0;34m\u001b[0m\u001b[0;34m\u001b[0m\u001b[0m\n\u001b[0m\u001b[1;32m   1151\u001b[0m \u001b[0;34m\u001b[0m\u001b[0m\n\u001b[1;32m   1152\u001b[0m         \u001b[0mframes\u001b[0m \u001b[0;34m=\u001b[0m \u001b[0mself\u001b[0m\u001b[0;34m.\u001b[0m\u001b[0mformat_records\u001b[0m\u001b[0;34m(\u001b[0m\u001b[0mrecords\u001b[0m\u001b[0;34m,\u001b[0m \u001b[0mlast_unique\u001b[0m\u001b[0;34m,\u001b[0m \u001b[0mrecursion_repeat\u001b[0m\u001b[0;34m)\u001b[0m\u001b[0;34m\u001b[0m\u001b[0;34m\u001b[0m\u001b[0m\n",
      "\u001b[0;32m~/.conda/envs/latest-pyg/lib/python3.8/site-packages/IPython/core/ultratb.py\u001b[0m in \u001b[0;36mfind_recursion\u001b[0;34m(etype, value, records)\u001b[0m\n\u001b[1;32m    449\u001b[0m     \u001b[0;31m# first frame (from in to out) that looks different.\u001b[0m\u001b[0;34m\u001b[0m\u001b[0;34m\u001b[0m\u001b[0;34m\u001b[0m\u001b[0m\n\u001b[1;32m    450\u001b[0m     \u001b[0;32mif\u001b[0m \u001b[0;32mnot\u001b[0m \u001b[0mis_recursion_error\u001b[0m\u001b[0;34m(\u001b[0m\u001b[0metype\u001b[0m\u001b[0;34m,\u001b[0m \u001b[0mvalue\u001b[0m\u001b[0;34m,\u001b[0m \u001b[0mrecords\u001b[0m\u001b[0;34m)\u001b[0m\u001b[0;34m:\u001b[0m\u001b[0;34m\u001b[0m\u001b[0;34m\u001b[0m\u001b[0m\n\u001b[0;32m--> 451\u001b[0;31m         \u001b[0;32mreturn\u001b[0m \u001b[0mlen\u001b[0m\u001b[0;34m(\u001b[0m\u001b[0mrecords\u001b[0m\u001b[0;34m)\u001b[0m\u001b[0;34m,\u001b[0m \u001b[0;36m0\u001b[0m\u001b[0;34m\u001b[0m\u001b[0;34m\u001b[0m\u001b[0m\n\u001b[0m\u001b[1;32m    452\u001b[0m \u001b[0;34m\u001b[0m\u001b[0m\n\u001b[1;32m    453\u001b[0m     \u001b[0;31m# Select filename, lineno, func_name to track frames with\u001b[0m\u001b[0;34m\u001b[0m\u001b[0;34m\u001b[0m\u001b[0;34m\u001b[0m\u001b[0m\n",
      "\u001b[0;31mTypeError\u001b[0m: object of type 'NoneType' has no len()"
     ]
    }
   ],
   "source": [
    "for epoch in range(10):\n",
    "    tic = tt()  \n",
    "    model.train()\n",
    "    acc, train_loss = train_gnn(model, gnn_train_loader, optimizer, m_configs)\n",
    "    print(\"Training loss:\", train_loss)\n",
    "\n",
    "    model.eval()\n",
    "    with torch.no_grad():\n",
    "        acc, eff, pur, val_loss = evaluate_gnn(model, gnn_test_loader, m_configs)\n",
    "    scheduler.step(val_loss)\n",
    "#     wandb.log({\"val_loss\": val_loss, \"train_loss\": train_loss, \"val_acc\": acc, \"val_pur\": pur, \"val_eff\": eff, \"lr\": scheduler._last_lr[0]})\n",
    "\n",
    "#     save_model(epoch, model, optimizer, scheduler, val_loss, m_configs, 'ResAGNN/'+model_name._name+'.tar')\n",
    "    print(\"End of epoch mem:\", torch.cuda.memory_allocated(device=device)/(1024**2), \"MB\")\n",
    "    print('Epoch: {}, Accuracy: {:.4f}, Purity: {:.4f}, Efficiency: {:.4f}, Loss: {:.4f}, LR: {} in time {}'.format(epoch, acc, pur, eff, val_loss, scheduler._last_lr[0], tt()-tic))"
   ]
  },
  {
   "cell_type": "markdown",
   "metadata": {
    "hidden": true
   },
   "source": [
    "### Memory Report"
   ]
  },
  {
   "cell_type": "code",
   "execution_count": 38,
   "metadata": {
    "hidden": true
   },
   "outputs": [
    {
     "name": "stdout",
     "output_type": "stream",
     "text": [
      "|===========================================================================|\n",
      "|                  PyTorch CUDA memory summary, device ID 0                 |\n",
      "|---------------------------------------------------------------------------|\n",
      "|            CUDA OOMs: 0            |        cudaMalloc retries: 0         |\n",
      "|===========================================================================|\n",
      "|        Metric         | Cur Usage  | Peak Usage | Tot Alloc  | Tot Freed  |\n",
      "|---------------------------------------------------------------------------|\n",
      "| Allocated memory      |    4927 KB |  754480 KB |   21728 GB |   21728 GB |\n",
      "|       from large pool |    2847 KB |  748023 KB |   19646 GB |   19646 GB |\n",
      "|       from small pool |    2080 KB |   46028 KB |    2081 GB |    2081 GB |\n",
      "|---------------------------------------------------------------------------|\n",
      "| Active memory         |    4927 KB |  754480 KB |   21728 GB |   21728 GB |\n",
      "|       from large pool |    2847 KB |  748023 KB |   19646 GB |   19646 GB |\n",
      "|       from small pool |    2080 KB |   46028 KB |    2081 GB |    2081 GB |\n",
      "|---------------------------------------------------------------------------|\n",
      "| GPU reserved memory   |    1662 MB |    1662 MB |    1662 MB |       0 B  |\n",
      "|       from large pool |    1614 MB |    1614 MB |    1614 MB |       0 B  |\n",
      "|       from small pool |      48 MB |      48 MB |      48 MB |       0 B  |\n",
      "|---------------------------------------------------------------------------|\n",
      "| Non-releasable memory |   25792 KB |  201894 KB |   16541 GB |   16541 GB |\n",
      "|       from large pool |   17632 KB |  195186 KB |   14289 GB |   14289 GB |\n",
      "|       from small pool |    8160 KB |   16058 KB |    2251 GB |    2251 GB |\n",
      "|---------------------------------------------------------------------------|\n",
      "| Allocations           |     182    |     325    |   12474 K  |   12474 K  |\n",
      "|       from large pool |       1    |     112    |    4002 K  |    4002 K  |\n",
      "|       from small pool |     181    |     259    |    8471 K  |    8471 K  |\n",
      "|---------------------------------------------------------------------------|\n",
      "| Active allocs         |     182    |     325    |   12474 K  |   12474 K  |\n",
      "|       from large pool |       1    |     112    |    4002 K  |    4002 K  |\n",
      "|       from small pool |     181    |     259    |    8471 K  |    8471 K  |\n",
      "|---------------------------------------------------------------------------|\n",
      "| GPU reserved segments |      71    |      71    |      71    |       0    |\n",
      "|       from large pool |      47    |      47    |      47    |       0    |\n",
      "|       from small pool |      24    |      24    |      24    |       0    |\n",
      "|---------------------------------------------------------------------------|\n",
      "| Non-releasable allocs |      11    |      56    |    5827 K  |    5827 K  |\n",
      "|       from large pool |       2    |      24    |    2448 K  |    2448 K  |\n",
      "|       from small pool |       9    |      37    |    3378 K  |    3378 K  |\n",
      "|===========================================================================|\n",
      "\n"
     ]
    }
   ],
   "source": [
    "print(torch.cuda.memory_summary(device=device, abbreviated=False))"
   ]
  },
  {
   "cell_type": "code",
   "execution_count": 62,
   "metadata": {
    "hidden": true
   },
   "outputs": [],
   "source": [
    "torch.cuda.reset_max_memory_cached(device=device)"
   ]
  },
  {
   "cell_type": "code",
   "execution_count": 14,
   "metadata": {
    "hidden": true
   },
   "outputs": [
    {
     "name": "stdout",
     "output_type": "stream",
     "text": [
      "0.0 MB\n"
     ]
    }
   ],
   "source": [
    "# torch.cuda.empty_cache()\n",
    "print(torch.cuda.memory_allocated(device=device)/(1024**2), \"MB\")"
   ]
  },
  {
   "cell_type": "markdown",
   "metadata": {
    "hidden": true
   },
   "source": [
    "### Test Batch Memory"
   ]
  },
  {
   "cell_type": "code",
   "execution_count": 10,
   "metadata": {
    "hidden": true
   },
   "outputs": [],
   "source": [
    "def fix_y_batch(batch):\n",
    "    \n",
    "    data = Data(x = batch.x, y = batch.y, edge_index = batch.e.long())\n",
    "    \n",
    "    return data"
   ]
  },
  {
   "cell_type": "code",
   "execution_count": 11,
   "metadata": {
    "hidden": true
   },
   "outputs": [
    {
     "name": "stdout",
     "output_type": "stream",
     "text": [
      "CPU times: user 607 ms, sys: 1.33 s, total: 1.94 s\n",
      "Wall time: 1.07 s\n"
     ]
    }
   ],
   "source": [
    "%%time\n",
    "gnn_train_dataset_fix = [fix_y_batch(batch) for batch in gnn_train_dataset]\n",
    "gnn_test_dataset_fix = [fix_y_batch(batch) for batch in gnn_test_dataset]"
   ]
  },
  {
   "cell_type": "code",
   "execution_count": 12,
   "metadata": {
    "hidden": true
   },
   "outputs": [
    {
     "name": "stdout",
     "output_type": "stream",
     "text": [
      "CPU times: user 87 µs, sys: 0 ns, total: 87 µs\n",
      "Wall time: 89.9 µs\n"
     ]
    }
   ],
   "source": [
    "%%time\n",
    "gnn_train_loader = DataLoader(gnn_train_dataset_fix, batch_size=1, shuffle=False, num_workers=1)\n",
    "gnn_test_loader = DataLoader(gnn_test_dataset_fix, batch_size=1, shuffle=False, num_workers=1)"
   ]
  },
  {
   "cell_type": "code",
   "execution_count": 27,
   "metadata": {
    "hidden": true
   },
   "outputs": [
    {
     "name": "stdout",
     "output_type": "stream",
     "text": [
      "0 samples evaluated\n",
      "CPU times: user 31.3 s, sys: 11.4 s, total: 42.7 s\n",
      "Wall time: 43.7 s\n"
     ]
    }
   ],
   "source": [
    "%%time\n",
    "model.eval()\n",
    "with torch.no_grad():\n",
    "    for i, batch in enumerate(gnn_train_loader):            \n",
    "#             print(batch)\n",
    "            data = batch.to(device)\n",
    "            pred = model(data.x, data.edge_index.int())\n",
    "            if(i%100==0): print(i, \"samples evaluated\")"
   ]
  },
  {
   "cell_type": "markdown",
   "metadata": {},
   "source": [
    "## Scatter-Gather Built-in PyG Representation"
   ]
  },
  {
   "cell_type": "code",
   "execution_count": 127,
   "metadata": {
    "code_folding": []
   },
   "outputs": [],
   "source": [
    "class GATGNN(nn.Module):\n",
    "    \"\"\"\n",
    "    Segment classification graph neural network model.\n",
    "    Consists of an input network, an edge network, and a node network.\n",
    "    \"\"\"\n",
    "    def __init__(self, in_channels=3, hidden_dim=8, n_graph_iters=3,\n",
    "                 hidden_activation=torch.nn.Tanh, layer_norm=True):\n",
    "        super(GATGNN, self).__init__()\n",
    "        self.n_graph_iters = n_graph_iters\n",
    "        # Setup the input network\n",
    "        self.input_network = make_mlp(in_channels, [hidden_dim],\n",
    "                                      output_activation=hidden_activation,\n",
    "                                      layer_norm=layer_norm)\n",
    "        \n",
    "        self.GATConv = pygnn.GATConv(hidden_dim, hidden_dim, add_self_loops=True)\n",
    "        \n",
    "        # Setup the node layers\n",
    "        self.node_network = node_network = make_mlp(hidden_dim,\n",
    "                                        [hidden_dim]*2,\n",
    "                                        output_activation=None,\n",
    "                                           layer_norm=layer_norm)\n",
    "        \n",
    "        # The edge classifier computes final edge scores\n",
    "        self.edge_classifier = make_mlp(2*hidden_dim,\n",
    "                                        [hidden_dim, 1],\n",
    "                                        output_activation=None)\n",
    "        \n",
    "    def forward(self, x, edge_index):\n",
    "        \"\"\"Apply forward pass of the model\"\"\"\n",
    "\n",
    "        x_in = x\n",
    "        x = self.input_network(x)\n",
    "\n",
    "        # Loop over iterations of edge and node networks\n",
    "        for i in range(self.n_graph_iters):\n",
    "            x_inital = x\n",
    "            \n",
    "            # Apply edge network\n",
    "            x = self.GATConv(x, edge_index)\n",
    "            x = self.node_network(x)\n",
    "            \n",
    "            x = x_inital + x        \n",
    "    \n",
    "        _, weights = self.GATConv(x, edge_index, return_attention_weights=True)\n",
    "        \n",
    "        return weights[0], weights[1].squeeze(-1)"
   ]
  },
  {
   "cell_type": "code",
   "execution_count": 140,
   "metadata": {
    "code_folding": [
     0,
     51
    ]
   },
   "outputs": [],
   "source": [
    "def train_gnn(model, gnn_train_loader, optimizer, m_configs):\n",
    "    correct = 0\n",
    "    total = 0\n",
    "    total_loss = 0\n",
    "    data_time, pred_time, loss_time, loss_back_time, optimizer_step = 0, 0, 0, 0, 0\n",
    "    for i, batch in enumerate(gnn_train_loader):\n",
    "        optimizer.zero_grad()\n",
    "        tic = tt()\n",
    "        data = batch.to(device)\n",
    "        data_time += tt()-tic\n",
    "#         print(\"Edge float\", data.e.max().item(), data.e)\n",
    "#         print(\"Edge long\", data.e.long().max().item(), data.e.long())\n",
    "#         print(\"Edge shape\", data.e.shape)\n",
    "        \n",
    "#         pred = model(data.x, data.edge_index.int())\n",
    "        tic = tt()\n",
    "        edges, pred = model(data.x, data.edge_index)\n",
    "        pred_time += tt()-tic\n",
    "        \n",
    "        pred = pred[edges[0] != edges[1]]\n",
    "        edges = edges[:, edges[0] != edges[1]]\n",
    "        y = batch.y\n",
    "        \n",
    "\n",
    "#         print(edges.shape, pred.shape, data.edge_index.shape, y.shape)\n",
    "        weight = y + (y==0).float()*(1/m_configs[\"weight\"])\n",
    "#         print(weight)\n",
    "        \n",
    "        tic = tt()\n",
    "        loss = F.binary_cross_entropy(pred.float(), y, weight=weight)\n",
    "        loss_time += tt()-tic\n",
    "        tic = tt()\n",
    "        loss.backward()\n",
    "        loss_back_time += tt()-tic\n",
    "        tic = tt()\n",
    "        optimizer.step()\n",
    "        optimizer_step += tt()-tic\n",
    "        \n",
    "        total_loss += loss.item()\n",
    "\n",
    "        true, false = y.float() > 0.5, y.float() < 0.5\n",
    "        positive, negative = pred > 0.5, pred < 0.5\n",
    "\n",
    "        correct += ((pred > 0.5) == (y.float() > 0.5)).sum().item()\n",
    "        total += len(pred)\n",
    "#         else:\n",
    "#             print(\"Broke!\")\n",
    "        if(i%200==0): print(i, \"batches\")\n",
    "        \n",
    "    acc = correct/max(total, 1)\n",
    "    print(\"data_time, pred_time, loss_time, loss_back_time, optimizer_step\")\n",
    "    print(data_time, pred_time, loss_time, loss_back_time, optimizer_step)\n",
    "    return acc, total_loss\n",
    "\n",
    "def evaluate_gnn(model, gnn_test_loader, m_configs):\n",
    "    correct, total_positive, total_true, true_positive, total, total_loss = 0, 1, 0, 0, 0, 0\n",
    "    \n",
    "    for batch in gnn_test_loader:\n",
    "        data = batch.to(device)\n",
    "#         pred = model(data.x, data.edge_index.int())\n",
    "        edges, pred = model(data.x, data.edge_index)\n",
    "        pred = pred[edges[0] != edges[1]]\n",
    "        edges = edges[:, edges[0] != edges[1]]\n",
    "        y = batch.y\n",
    "\n",
    "#         print(\"y\", y, \"length\", len(y))\n",
    "#         if (np.isnan(pred.cpu().detach().numpy()).sum() == 0):\n",
    "        weight = y + (y==0).float()*(1/m_configs[\"weight\"])\n",
    "        loss = F.binary_cross_entropy(pred.float(), y, weight=weight)\n",
    "        total_loss += loss.item()\n",
    "\n",
    "        true, false = y.float() > 0.5, y.float() < 0.5\n",
    "#         print(\"true\", true, \"sum\", true.float().sum().item())\n",
    "        positive, negative = pred > 0.5, pred < 0.5\n",
    "        true_positive += (true & positive).sum().item()\n",
    "        total_positive += max(positive.sum().item(), 1)\n",
    "\n",
    "        correct += ((pred > 0.5) == (y.float() > 0.5)).sum().item()\n",
    "        total_true += max(true.sum().item(), 1)\n",
    "\n",
    "#         print(\"True positive:\", (true & positive).sum().item(), \"True:\", true.sum().item(), \"Positive\", positive.sum().item())\n",
    "\n",
    "        total += len(pred)\n",
    "\n",
    "    acc = correct/max(total, 1)\n",
    "    eff = (true_positive / max(total_true, 1))\n",
    "    pur = (true_positive / max(total_positive, 1))\n",
    "    \n",
    "#     print(\"Num total_true:\", total_true, \"Num total_positive:\", total_positive, \"Num true_positive:\", true_positive, \"Total edges:\", total)\n",
    "        \n",
    "    return acc, eff, pur, total_loss"
   ]
  },
  {
   "cell_type": "code",
   "execution_count": 141,
   "metadata": {},
   "outputs": [],
   "source": [
    "m_configs = {\"in_channels\": 3, \"hidden_dim\": 32, \"n_graph_iters\": 8}\n",
    "model = GATGNN(**m_configs).to(device)\n",
    "other_configs = {\"weight\": 3}\n",
    "torch.manual_seed(torch_seed)\n",
    "m_configs.update(other_configs)\n",
    "optimizer = torch.optim.Adam(model.parameters(), lr=0.001, weight_decay=1e-3, amsgrad=True)\n",
    "# optimizer = optimizers.FusedAdam(model.parameters(), lr = 0.001, weight_decay=1e-3)\n",
    "scheduler = torch.optim.lr_scheduler.ReduceLROnPlateau(optimizer, factor=0.3, patience=10)\n",
    "torch.cuda.reset_max_memory_cached(device=device)"
   ]
  },
  {
   "cell_type": "code",
   "execution_count": 142,
   "metadata": {
    "scrolled": true
   },
   "outputs": [
    {
     "name": "stdout",
     "output_type": "stream",
     "text": [
      "0 batches\n",
      "200 batches\n",
      "400 batches\n",
      "600 batches\n",
      "800 batches\n",
      "data_time, pred_time, loss_time, loss_back_time, optimizer_step\n",
      "1.8630015850067139 11.298678159713745 0.16671490669250488 17.794898748397827 1.762826919555664\n",
      "Training loss: 321.11012029647827\n",
      "End of epoch mem: 1693.509765625 MB\n",
      "Epoch: 0, Accuracy: 0.8618, Purity: 0.5254, Efficiency: 0.0187, Loss: 32.1886, LR: 0.001 in time 37.27451252937317\n",
      "0 batches\n",
      "200 batches\n",
      "400 batches\n",
      "600 batches\n",
      "800 batches\n",
      "data_time, pred_time, loss_time, loss_back_time, optimizer_step\n",
      "1.9733922481536865 11.325664520263672 0.1690375804901123 17.76284694671631 1.7714216709136963\n",
      "Training loss: 319.9882273674011\n",
      "End of epoch mem: 1693.509765625 MB\n",
      "Epoch: 1, Accuracy: 0.8618, Purity: 0.5276, Efficiency: 0.0190, Loss: 32.1732, LR: 0.001 in time 37.467103242874146\n",
      "0 batches\n",
      "200 batches\n",
      "400 batches\n",
      "600 batches\n",
      "800 batches\n",
      "data_time, pred_time, loss_time, loss_back_time, optimizer_step\n",
      "1.9007835388183594 11.335787534713745 0.1678924560546875 17.780579328536987 1.7727999687194824\n",
      "Training loss: 319.9193052351475\n",
      "End of epoch mem: 1693.509765625 MB\n",
      "Epoch: 2, Accuracy: 0.8619, Purity: 0.5295, Efficiency: 0.0193, Loss: 32.1649, LR: 0.001 in time 37.39362716674805\n",
      "0 batches\n",
      "200 batches\n",
      "400 batches\n",
      "600 batches\n"
     ]
    },
    {
     "name": "stderr",
     "output_type": "stream",
     "text": [
      "Exception ignored in: <function _MultiProcessingDataLoaderIter.__del__ at 0x2aab21f61280>\n",
      "Traceback (most recent call last):\n",
      "  File \"/global/homes/d/danieltm/.conda/envs/latest-pyg/lib/python3.8/site-packages/torch/utils/data/dataloader.py\", line 962, in __del__\n",
      "    self._shutdown_workers()\n",
      "  File \"/global/homes/d/danieltm/.conda/envs/latest-pyg/lib/python3.8/site-packages/torch/utils/data/dataloader.py\", line 942, in _shutdown_workers\n",
      "    w.join()\n",
      "  File \"/global/homes/d/danieltm/.conda/envs/latest-pyg/lib/python3.8/multiprocessing/process.py\", line 149, in join\n",
      "    res = self._popen.wait(timeout)\n",
      "  File \"/global/homes/d/danieltm/.conda/envs/latest-pyg/lib/python3.8/multiprocessing/popen_fork.py\", line 47, in wait\n",
      "    return self.poll(os.WNOHANG if timeout == 0.0 else 0)\n",
      "  File \"/global/homes/d/danieltm/.conda/envs/latest-pyg/lib/python3.8/multiprocessing/popen_fork.py\", line 27, in poll\n",
      "    pid, sts = os.waitpid(self.pid, flag)\n",
      "KeyboardInterrupt: \n"
     ]
    },
    {
     "ename": "KeyboardInterrupt",
     "evalue": "",
     "output_type": "error",
     "traceback": [
      "\u001b[0;31m---------------------------------------------------------------------------\u001b[0m",
      "\u001b[0;31mKeyboardInterrupt\u001b[0m                         Traceback (most recent call last)",
      "\u001b[0;32m<ipython-input-142-419928ee1b43>\u001b[0m in \u001b[0;36m<module>\u001b[0;34m\u001b[0m\n\u001b[1;32m      2\u001b[0m     \u001b[0mtic\u001b[0m \u001b[0;34m=\u001b[0m \u001b[0mtt\u001b[0m\u001b[0;34m(\u001b[0m\u001b[0;34m)\u001b[0m\u001b[0;34m\u001b[0m\u001b[0;34m\u001b[0m\u001b[0m\n\u001b[1;32m      3\u001b[0m     \u001b[0mmodel\u001b[0m\u001b[0;34m.\u001b[0m\u001b[0mtrain\u001b[0m\u001b[0;34m(\u001b[0m\u001b[0;34m)\u001b[0m\u001b[0;34m\u001b[0m\u001b[0;34m\u001b[0m\u001b[0m\n\u001b[0;32m----> 4\u001b[0;31m     \u001b[0macc\u001b[0m\u001b[0;34m,\u001b[0m \u001b[0mtrain_loss\u001b[0m \u001b[0;34m=\u001b[0m \u001b[0mtrain_gnn\u001b[0m\u001b[0;34m(\u001b[0m\u001b[0mmodel\u001b[0m\u001b[0;34m,\u001b[0m \u001b[0mgnn_train_loader\u001b[0m\u001b[0;34m,\u001b[0m \u001b[0moptimizer\u001b[0m\u001b[0;34m,\u001b[0m \u001b[0mm_configs\u001b[0m\u001b[0;34m)\u001b[0m\u001b[0;34m\u001b[0m\u001b[0;34m\u001b[0m\u001b[0m\n\u001b[0m\u001b[1;32m      5\u001b[0m     \u001b[0mprint\u001b[0m\u001b[0;34m(\u001b[0m\u001b[0;34m\"Training loss:\"\u001b[0m\u001b[0;34m,\u001b[0m \u001b[0mtrain_loss\u001b[0m\u001b[0;34m)\u001b[0m\u001b[0;34m\u001b[0m\u001b[0;34m\u001b[0m\u001b[0m\n\u001b[1;32m      6\u001b[0m \u001b[0;34m\u001b[0m\u001b[0m\n",
      "\u001b[0;32m<ipython-input-140-1e4e7d64d1f0>\u001b[0m in \u001b[0;36mtrain_gnn\u001b[0;34m(model, gnn_train_loader, optimizer, m_configs)\u001b[0m\n\u001b[1;32m     31\u001b[0m         \u001b[0mloss_time\u001b[0m \u001b[0;34m+=\u001b[0m \u001b[0mtt\u001b[0m\u001b[0;34m(\u001b[0m\u001b[0;34m)\u001b[0m\u001b[0;34m-\u001b[0m\u001b[0mtic\u001b[0m\u001b[0;34m\u001b[0m\u001b[0;34m\u001b[0m\u001b[0m\n\u001b[1;32m     32\u001b[0m         \u001b[0mtic\u001b[0m \u001b[0;34m=\u001b[0m \u001b[0mtt\u001b[0m\u001b[0;34m(\u001b[0m\u001b[0;34m)\u001b[0m\u001b[0;34m\u001b[0m\u001b[0;34m\u001b[0m\u001b[0m\n\u001b[0;32m---> 33\u001b[0;31m         \u001b[0mloss\u001b[0m\u001b[0;34m.\u001b[0m\u001b[0mbackward\u001b[0m\u001b[0;34m(\u001b[0m\u001b[0;34m)\u001b[0m\u001b[0;34m\u001b[0m\u001b[0;34m\u001b[0m\u001b[0m\n\u001b[0m\u001b[1;32m     34\u001b[0m         \u001b[0mloss_back_time\u001b[0m \u001b[0;34m+=\u001b[0m \u001b[0mtt\u001b[0m\u001b[0;34m(\u001b[0m\u001b[0;34m)\u001b[0m\u001b[0;34m-\u001b[0m\u001b[0mtic\u001b[0m\u001b[0;34m\u001b[0m\u001b[0;34m\u001b[0m\u001b[0m\n\u001b[1;32m     35\u001b[0m         \u001b[0mtic\u001b[0m \u001b[0;34m=\u001b[0m \u001b[0mtt\u001b[0m\u001b[0;34m(\u001b[0m\u001b[0;34m)\u001b[0m\u001b[0;34m\u001b[0m\u001b[0;34m\u001b[0m\u001b[0m\n",
      "\u001b[0;32m~/.conda/envs/latest-pyg/lib/python3.8/site-packages/torch/tensor.py\u001b[0m in \u001b[0;36mbackward\u001b[0;34m(self, gradient, retain_graph, create_graph)\u001b[0m\n\u001b[1;32m    196\u001b[0m                 \u001b[0mproducts\u001b[0m\u001b[0;34m.\u001b[0m \u001b[0mDefaults\u001b[0m \u001b[0mto\u001b[0m\u001b[0;31m \u001b[0m\u001b[0;31m`\u001b[0m\u001b[0;31m`\u001b[0m\u001b[0;32mFalse\u001b[0m\u001b[0;31m`\u001b[0m\u001b[0;31m`\u001b[0m\u001b[0;34m.\u001b[0m\u001b[0;34m\u001b[0m\u001b[0;34m\u001b[0m\u001b[0m\n\u001b[1;32m    197\u001b[0m         \"\"\"\n\u001b[0;32m--> 198\u001b[0;31m         \u001b[0mtorch\u001b[0m\u001b[0;34m.\u001b[0m\u001b[0mautograd\u001b[0m\u001b[0;34m.\u001b[0m\u001b[0mbackward\u001b[0m\u001b[0;34m(\u001b[0m\u001b[0mself\u001b[0m\u001b[0;34m,\u001b[0m \u001b[0mgradient\u001b[0m\u001b[0;34m,\u001b[0m \u001b[0mretain_graph\u001b[0m\u001b[0;34m,\u001b[0m \u001b[0mcreate_graph\u001b[0m\u001b[0;34m)\u001b[0m\u001b[0;34m\u001b[0m\u001b[0;34m\u001b[0m\u001b[0m\n\u001b[0m\u001b[1;32m    199\u001b[0m \u001b[0;34m\u001b[0m\u001b[0m\n\u001b[1;32m    200\u001b[0m     \u001b[0;32mdef\u001b[0m \u001b[0mregister_hook\u001b[0m\u001b[0;34m(\u001b[0m\u001b[0mself\u001b[0m\u001b[0;34m,\u001b[0m \u001b[0mhook\u001b[0m\u001b[0;34m)\u001b[0m\u001b[0;34m:\u001b[0m\u001b[0;34m\u001b[0m\u001b[0;34m\u001b[0m\u001b[0m\n",
      "\u001b[0;32m~/.conda/envs/latest-pyg/lib/python3.8/site-packages/torch/autograd/__init__.py\u001b[0m in \u001b[0;36mbackward\u001b[0;34m(tensors, grad_tensors, retain_graph, create_graph, grad_variables)\u001b[0m\n\u001b[1;32m     96\u001b[0m         \u001b[0mretain_graph\u001b[0m \u001b[0;34m=\u001b[0m \u001b[0mcreate_graph\u001b[0m\u001b[0;34m\u001b[0m\u001b[0;34m\u001b[0m\u001b[0m\n\u001b[1;32m     97\u001b[0m \u001b[0;34m\u001b[0m\u001b[0m\n\u001b[0;32m---> 98\u001b[0;31m     Variable._execution_engine.run_backward(\n\u001b[0m\u001b[1;32m     99\u001b[0m         \u001b[0mtensors\u001b[0m\u001b[0;34m,\u001b[0m \u001b[0mgrad_tensors\u001b[0m\u001b[0;34m,\u001b[0m \u001b[0mretain_graph\u001b[0m\u001b[0;34m,\u001b[0m \u001b[0mcreate_graph\u001b[0m\u001b[0;34m,\u001b[0m\u001b[0;34m\u001b[0m\u001b[0;34m\u001b[0m\u001b[0m\n\u001b[1;32m    100\u001b[0m         allow_unreachable=True)  # allow_unreachable flag\n",
      "\u001b[0;31mKeyboardInterrupt\u001b[0m: "
     ]
    }
   ],
   "source": [
    "for epoch in range(10):\n",
    "    tic = tt()  \n",
    "    model.train()\n",
    "    acc, train_loss = train_gnn(model, gnn_train_loader, optimizer, m_configs)\n",
    "    print(\"Training loss:\", train_loss)\n",
    "\n",
    "    model.eval()\n",
    "    with torch.no_grad():\n",
    "        acc, eff, pur, val_loss = evaluate_gnn(model, gnn_test_loader, m_configs)\n",
    "    scheduler.step(val_loss)\n",
    "#     wandb.log({\"val_loss\": val_loss, \"train_loss\": train_loss, \"val_acc\": acc, \"val_pur\": pur, \"val_eff\": eff, \"lr\": scheduler._last_lr[0]})\n",
    "\n",
    "#     save_model(epoch, model, optimizer, scheduler, val_loss, m_configs, 'ResAGNN/'+model_name._name+'.tar')\n",
    "    print(\"End of epoch mem:\", torch.cuda.memory_allocated(device=device)/(1024**2), \"MB\")\n",
    "    print('Epoch: {}, Accuracy: {:.4f}, Purity: {:.4f}, Efficiency: {:.4f}, Loss: {:.4f}, LR: {} in time {}'.format(epoch, acc, pur, eff, val_loss, scheduler._last_lr[0], tt()-tic))"
   ]
  },
  {
   "cell_type": "markdown",
   "metadata": {},
   "source": [
    "## Sparse PyG Representation"
   ]
  },
  {
   "cell_type": "code",
   "execution_count": 6,
   "metadata": {},
   "outputs": [],
   "source": [
    "def fix_y_batch(batch):\n",
    "    \n",
    "    data = Data(x = batch.x, y = batch.y, edge_index = batch.e.long())\n",
    "    \n",
    "    return data"
   ]
  },
  {
   "cell_type": "code",
   "execution_count": 7,
   "metadata": {},
   "outputs": [
    {
     "name": "stdout",
     "output_type": "stream",
     "text": [
      "CPU times: user 640 ms, sys: 1.26 s, total: 1.9 s\n",
      "Wall time: 994 ms\n"
     ]
    }
   ],
   "source": [
    "%%time\n",
    "gnn_train_dataset_fix = [fix_y_batch(batch) for batch in gnn_train_dataset]\n",
    "gnn_test_dataset_fix = [fix_y_batch(batch) for batch in gnn_test_dataset]"
   ]
  },
  {
   "cell_type": "code",
   "execution_count": 8,
   "metadata": {},
   "outputs": [
    {
     "name": "stdout",
     "output_type": "stream",
     "text": [
      "CPU times: user 70 µs, sys: 0 ns, total: 70 µs\n",
      "Wall time: 73 µs\n"
     ]
    }
   ],
   "source": [
    "%%time\n",
    "gnn_train_loader = DataLoader(gnn_train_dataset_fix, batch_size=1, shuffle=False, num_workers=1)\n",
    "gnn_test_loader = DataLoader(gnn_test_dataset_fix, batch_size=1, shuffle=False, num_workers=1)"
   ]
  },
  {
   "cell_type": "code",
   "execution_count": 13,
   "metadata": {},
   "outputs": [],
   "source": [
    "def add_sparse(batch):\n",
    "    e = batch.e.long()\n",
    "    data = Data(x = batch.x, y = batch.y, edge_index = e, adj_t = SparseTensor(row=e[0], col=e[1]).t())\n",
    "    \n",
    "    return data"
   ]
  },
  {
   "cell_type": "code",
   "execution_count": 27,
   "metadata": {},
   "outputs": [],
   "source": [
    "def add_sparse(batch):\n",
    "    \n",
    "    data = Data(x = batch.x, y = batch.y, edge_index = batch.e.long(), \n",
    "                adj_t = SparseTensor(row=batch.e.long()[0], col=batch.e.long()[1], sparse_sizes=(len(batch.x), len(batch.x))).t())\n",
    "    \n",
    "    return data"
   ]
  },
  {
   "cell_type": "code",
   "execution_count": 28,
   "metadata": {},
   "outputs": [
    {
     "name": "stdout",
     "output_type": "stream",
     "text": [
      "CPU times: user 1min 2s, sys: 13.9 s, total: 1min 15s\n",
      "Wall time: 56 s\n"
     ]
    }
   ],
   "source": [
    "%%time\n",
    "gnn_train_dataset_fix = [add_sparse(batch) for batch in gnn_train_dataset]\n",
    "gnn_test_dataset_fix = [add_sparse(batch) for batch in gnn_test_dataset]"
   ]
  },
  {
   "cell_type": "code",
   "execution_count": 29,
   "metadata": {},
   "outputs": [
    {
     "name": "stdout",
     "output_type": "stream",
     "text": [
      "CPU times: user 24.6 ms, sys: 26.4 ms, total: 50.9 ms\n",
      "Wall time: 461 ms\n"
     ]
    }
   ],
   "source": [
    "%%time\n",
    "gnn_train_loader = DataLoader(gnn_train_dataset_fix, batch_size=1, shuffle=False, num_workers=1)\n",
    "gnn_test_loader = DataLoader(gnn_test_dataset_fix, batch_size=1, shuffle=False, num_workers=1)"
   ]
  },
  {
   "cell_type": "code",
   "execution_count": 64,
   "metadata": {
    "code_folding": []
   },
   "outputs": [],
   "source": [
    "def train_gnn(model, gnn_train_loader, optimizer, m_configs):\n",
    "    correct = 0\n",
    "    total = 0\n",
    "    total_loss = 0\n",
    "    data_time, pred_time, loss_time, loss_back_time, optimizer_step = 0, 0, 0, 0, 0\n",
    "    for i, batch in enumerate(gnn_train_loader):\n",
    "        optimizer.zero_grad()\n",
    "        tic = tt()\n",
    "        data = batch.to(device)\n",
    "        data_time += tt()-tic\n",
    "#         print(\"Edge float\", data.e.max().item(), data.e)\n",
    "#         print(\"Edge long\", data.e.long().max().item(), data.e.long())\n",
    "#         print(\"Edge shape\", data.e.shape)\n",
    "        \n",
    "#         pred = model(data.x, data.edge_index.int())\n",
    "        tic = tt()\n",
    "#         pred = model(data.x, data.edge_index)\n",
    "        pred = model(data.x, data.adj_t, data.edge_index)\n",
    "        pred_time += tt()-tic\n",
    "#         print(\"Pred type\", pred.type())\n",
    "        y = batch.y\n",
    "#         print(\"y\", np.isnan(y.cpu().detach().numpy()).sum())\n",
    "#         if (np.isnan(pred.cpu().detach().numpy()).sum() == 0):\n",
    "        tic = tt()\n",
    "        loss = F.binary_cross_entropy_with_logits(pred.float(), y, pos_weight=torch.tensor(m_configs[\"weight\"]))\n",
    "        loss_time += tt()-tic\n",
    "        tic = tt()\n",
    "#         with amp.scale_loss(loss, optimizer) as scaled_loss:\n",
    "#             scaled_loss.backward()\n",
    "        loss.backward()\n",
    "        loss_back_time += tt()-tic\n",
    "#         torch.nn.utils.clip_grad_norm_(model.parameters(), m_configs[\"clip\"])\n",
    "        tic = tt()\n",
    "        optimizer.step()\n",
    "        optimizer_step += tt()-tic\n",
    "        \n",
    "        total_loss += loss.item()\n",
    "\n",
    "        true, false = y.float() > 0.5, y.float() < 0.5\n",
    "        positive, negative = sig(pred) > 0.5, sig(pred) < 0.5\n",
    "\n",
    "        correct += ((sig(pred) > 0.5) == (y.float() > 0.5)).sum().item()\n",
    "        total += len(pred)\n",
    "#         else:\n",
    "#             print(\"Broke!\")\n",
    "#         if(i%50==0): print(i, \"batches\")\n",
    "        \n",
    "    acc = correct/max(total, 1)\n",
    "    print(\"data_time, pred_time, loss_time, loss_back_time, optimizer_step\")\n",
    "    print(data_time, pred_time, loss_time, loss_back_time, optimizer_step)\n",
    "    return acc, total_loss\n",
    "\n",
    "def evaluate_gnn(model, gnn_test_loader, m_configs):\n",
    "    correct, total_positive, total_true, true_positive, total, total_loss = 0, 1, 0, 0, 0, 0\n",
    "    \n",
    "    for batch in gnn_test_loader:\n",
    "        data = batch.to(device)\n",
    "#         pred = model(data.x, data.edge_index.int())\n",
    "#         pred = model(data.x, data.edge_index)\n",
    "        pred = model(data.x, data.adj_t, data.edge_index)\n",
    "              \n",
    "        y = batch.y\n",
    "\n",
    "#         print(\"y\", y, \"length\", len(y))\n",
    "#         if (np.isnan(pred.cpu().detach().numpy()).sum() == 0):\n",
    "        loss = F.binary_cross_entropy_with_logits(pred.float(), y.float(), pos_weight=torch.tensor(m_configs[\"weight\"]))\n",
    "        total_loss += loss.item()\n",
    "\n",
    "        true, false = y.float() > 0.5, y.float() < 0.5\n",
    "#         print(\"true\", true, \"sum\", true.float().sum().item())\n",
    "        positive, negative = sig(pred) > 0.5, sig(pred) < 0.5\n",
    "        true_positive += (true & positive).sum().item()\n",
    "        total_positive += max(positive.sum().item(), 1)\n",
    "\n",
    "        correct += ((sig(pred) > 0.5) == (y.float() > 0.5)).sum().item()\n",
    "        total_true += max(true.sum().item(), 1)\n",
    "\n",
    "#         print(\"True positive:\", (true & positive).sum().item(), \"True:\", true.sum().item(), \"Positive\", positive.sum().item())\n",
    "\n",
    "        total += len(pred)\n",
    "\n",
    "    acc = correct/max(total, 1)\n",
    "    eff = (true_positive / max(total_true, 1))\n",
    "    pur = (true_positive / max(total_positive, 1))\n",
    "    \n",
    "#     print(\"Num total_true:\", total_true, \"Num total_positive:\", total_positive, \"Num true_positive:\", true_positive, \"Total edges:\", total)\n",
    "        \n",
    "    return acc, eff, pur, total_loss"
   ]
  },
  {
   "cell_type": "code",
   "execution_count": 65,
   "metadata": {
    "code_folding": []
   },
   "outputs": [],
   "source": [
    "class GinGNN(nn.Module):\n",
    "    \"\"\"\n",
    "    Segment classification graph neural network model.\n",
    "    Consists of an input network, an edge network, and a node network.\n",
    "    \"\"\"\n",
    "    def __init__(self, in_channels=3, hidden_dim=8, n_graph_iters=3,\n",
    "                 hidden_activation=torch.nn.Tanh, layer_norm=True):\n",
    "        super(GinGNN, self).__init__()\n",
    "        self.n_graph_iters = n_graph_iters\n",
    "        # Setup the input network\n",
    "        self.input_network = make_mlp(in_channels, [hidden_dim],\n",
    "                                      output_activation=hidden_activation,\n",
    "                                      layer_norm=layer_norm)\n",
    "        \n",
    "        # Setup the node layers\n",
    "        node_network = make_mlp(hidden_dim,\n",
    "                                        [hidden_dim]*2,\n",
    "                                        output_activation=None,\n",
    "                                           layer_norm=layer_norm)\n",
    "        \n",
    "        # The GIN Conv layer\n",
    "        self.gin_conv = pygnn.GINConv(nn=node_network)\n",
    "                \n",
    "        # The edge classifier computes final edge scores\n",
    "        self.edge_classifier = make_mlp(2*hidden_dim,\n",
    "                                        [hidden_dim, 1],\n",
    "                                        output_activation=None)\n",
    "        \n",
    "    def forward(self, x, adj_t, edge_index):\n",
    "        \n",
    "        \"\"\"Apply forward pass of the model\"\"\"\n",
    "        \n",
    "        x = self.input_network(x)\n",
    "        \n",
    "        # Loop over iterations of edge and node networks\n",
    "        for i in range(self.n_graph_iters):\n",
    "            x_inital = x\n",
    "            \n",
    "            # Apply GIN Conv\n",
    "            x = self.gin_conv(x, edge_index)\n",
    "#             print(x.shape)\n",
    "#                                 \n",
    "            x = x_inital + x\n",
    "#         if type(adj_t) is SparseTensor:\n",
    "#             end_idx, start_idx, _ = adj_t.coo()\n",
    "#         else:\n",
    "        start_idx, end_idx = edge_index\n",
    "#         clf_inputs = torch.cat([x[start_idx], x[end_idx]], dim=1)\n",
    "#         print(x.shape)\n",
    "#         print(clf_inputs.shape)\n",
    "        return self.edge_classifier(torch.cat([x[start_idx], x[end_idx]], dim=1)).squeeze(-1)"
   ]
  },
  {
   "cell_type": "code",
   "execution_count": 66,
   "metadata": {},
   "outputs": [],
   "source": [
    "m_configs = {\"in_channels\": 3, \"hidden_dim\": 512, \"n_graph_iters\": 6}\n",
    "model = GinGNN(**m_configs).to(device)\n",
    "other_configs = {\"weight\": 3}\n",
    "torch.manual_seed(torch_seed)\n",
    "m_configs.update(other_configs)\n",
    "optimizer = torch.optim.Adam(model.parameters(), lr=0.001, weight_decay=1e-3, amsgrad=True)\n",
    "# optimizer = optimizers.FusedAdam(model.parameters(), lr = 0.001, weight_decay=1e-3)\n",
    "scheduler = torch.optim.lr_scheduler.ReduceLROnPlateau(optimizer, factor=0.3, patience=10)"
   ]
  },
  {
   "cell_type": "code",
   "execution_count": 67,
   "metadata": {},
   "outputs": [
    {
     "name": "stdout",
     "output_type": "stream",
     "text": [
      "data_time, pred_time, loss_time, loss_back_time, optimizer_step\n",
      "4.200277805328369 3.403604030609131 0.29317760467529297 64.32442736625671 1.3901522159576416\n",
      "Training loss: 744.6156910657883\n",
      "Epoch: 0, Accuracy: 0.8275, Purity: 0.3730, Efficiency: 0.3615, Loss: 65.1918, LR: 0.001 in time 118.89290928840637\n"
     ]
    },
    {
     "name": "stderr",
     "output_type": "stream",
     "text": [
      "Exception ignored in: <function _MultiProcessingDataLoaderIter.__del__ at 0x2aab33250820>\n",
      "Traceback (most recent call last):\n",
      "  File \"/global/homes/d/danieltm/.conda/envs/latest-pyg/lib/python3.8/site-packages/torch/utils/data/dataloader.py\", line 962, in __del__\n",
      "    self._shutdown_workers()\n",
      "  File \"/global/homes/d/danieltm/.conda/envs/latest-pyg/lib/python3.8/site-packages/torch/utils/data/dataloader.py\", line 942, in _shutdown_workers\n",
      "    w.join()\n",
      "  File \"/global/homes/d/danieltm/.conda/envs/latest-pyg/lib/python3.8/multiprocessing/process.py\", line 149, in join\n",
      "    res = self._popen.wait(timeout)\n",
      "  File \"/global/homes/d/danieltm/.conda/envs/latest-pyg/lib/python3.8/multiprocessing/popen_fork.py\", line 47, in wait\n",
      "    return self.poll(os.WNOHANG if timeout == 0.0 else 0)\n",
      "  File \"/global/homes/d/danieltm/.conda/envs/latest-pyg/lib/python3.8/multiprocessing/popen_fork.py\", line 27, in poll\n",
      "    pid, sts = os.waitpid(self.pid, flag)\n",
      "KeyboardInterrupt: \n"
     ]
    },
    {
     "ename": "KeyboardInterrupt",
     "evalue": "",
     "output_type": "error",
     "traceback": [
      "\u001b[0;31m---------------------------------------------------------------------------\u001b[0m",
      "\u001b[0;31mKeyboardInterrupt\u001b[0m                         Traceback (most recent call last)",
      "\u001b[0;32m<ipython-input-67-7b9e12308348>\u001b[0m in \u001b[0;36m<module>\u001b[0;34m\u001b[0m\n\u001b[1;32m      3\u001b[0m     \u001b[0mtic\u001b[0m \u001b[0;34m=\u001b[0m \u001b[0mtt\u001b[0m\u001b[0;34m(\u001b[0m\u001b[0;34m)\u001b[0m\u001b[0;34m\u001b[0m\u001b[0;34m\u001b[0m\u001b[0m\n\u001b[1;32m      4\u001b[0m     \u001b[0mmodel\u001b[0m\u001b[0;34m.\u001b[0m\u001b[0mtrain\u001b[0m\u001b[0;34m(\u001b[0m\u001b[0;34m)\u001b[0m\u001b[0;34m\u001b[0m\u001b[0;34m\u001b[0m\u001b[0m\n\u001b[0;32m----> 5\u001b[0;31m     \u001b[0macc\u001b[0m\u001b[0;34m,\u001b[0m \u001b[0mtrain_loss\u001b[0m \u001b[0;34m=\u001b[0m \u001b[0mtrain_gnn\u001b[0m\u001b[0;34m(\u001b[0m\u001b[0mmodel\u001b[0m\u001b[0;34m,\u001b[0m \u001b[0mgnn_train_loader\u001b[0m\u001b[0;34m,\u001b[0m \u001b[0moptimizer\u001b[0m\u001b[0;34m,\u001b[0m \u001b[0mm_configs\u001b[0m\u001b[0;34m)\u001b[0m\u001b[0;34m\u001b[0m\u001b[0;34m\u001b[0m\u001b[0m\n\u001b[0m\u001b[1;32m      6\u001b[0m     \u001b[0mprint\u001b[0m\u001b[0;34m(\u001b[0m\u001b[0;34m\"Training loss:\"\u001b[0m\u001b[0;34m,\u001b[0m \u001b[0mtrain_loss\u001b[0m\u001b[0;34m)\u001b[0m\u001b[0;34m\u001b[0m\u001b[0;34m\u001b[0m\u001b[0m\n\u001b[1;32m      7\u001b[0m \u001b[0;34m\u001b[0m\u001b[0m\n",
      "\u001b[0;32m<ipython-input-64-a088b0391e3c>\u001b[0m in \u001b[0;36mtrain_gnn\u001b[0;34m(model, gnn_train_loader, optimizer, m_configs)\u001b[0m\n\u001b[1;32m     28\u001b[0m \u001b[0;31m#         with amp.scale_loss(loss, optimizer) as scaled_loss:\u001b[0m\u001b[0;34m\u001b[0m\u001b[0;34m\u001b[0m\u001b[0;34m\u001b[0m\u001b[0m\n\u001b[1;32m     29\u001b[0m \u001b[0;31m#             scaled_loss.backward()\u001b[0m\u001b[0;34m\u001b[0m\u001b[0;34m\u001b[0m\u001b[0;34m\u001b[0m\u001b[0m\n\u001b[0;32m---> 30\u001b[0;31m         \u001b[0mloss\u001b[0m\u001b[0;34m.\u001b[0m\u001b[0mbackward\u001b[0m\u001b[0;34m(\u001b[0m\u001b[0;34m)\u001b[0m\u001b[0;34m\u001b[0m\u001b[0;34m\u001b[0m\u001b[0m\n\u001b[0m\u001b[1;32m     31\u001b[0m         \u001b[0mloss_back_time\u001b[0m \u001b[0;34m+=\u001b[0m \u001b[0mtt\u001b[0m\u001b[0;34m(\u001b[0m\u001b[0;34m)\u001b[0m\u001b[0;34m-\u001b[0m\u001b[0mtic\u001b[0m\u001b[0;34m\u001b[0m\u001b[0;34m\u001b[0m\u001b[0m\n\u001b[1;32m     32\u001b[0m \u001b[0;31m#         torch.nn.utils.clip_grad_norm_(model.parameters(), m_configs[\"clip\"])\u001b[0m\u001b[0;34m\u001b[0m\u001b[0;34m\u001b[0m\u001b[0;34m\u001b[0m\u001b[0m\n",
      "\u001b[0;32m~/.conda/envs/latest-pyg/lib/python3.8/site-packages/torch/tensor.py\u001b[0m in \u001b[0;36mbackward\u001b[0;34m(self, gradient, retain_graph, create_graph)\u001b[0m\n\u001b[1;32m    196\u001b[0m                 \u001b[0mproducts\u001b[0m\u001b[0;34m.\u001b[0m \u001b[0mDefaults\u001b[0m \u001b[0mto\u001b[0m\u001b[0;31m \u001b[0m\u001b[0;31m`\u001b[0m\u001b[0;31m`\u001b[0m\u001b[0;32mFalse\u001b[0m\u001b[0;31m`\u001b[0m\u001b[0;31m`\u001b[0m\u001b[0;34m.\u001b[0m\u001b[0;34m\u001b[0m\u001b[0;34m\u001b[0m\u001b[0m\n\u001b[1;32m    197\u001b[0m         \"\"\"\n\u001b[0;32m--> 198\u001b[0;31m         \u001b[0mtorch\u001b[0m\u001b[0;34m.\u001b[0m\u001b[0mautograd\u001b[0m\u001b[0;34m.\u001b[0m\u001b[0mbackward\u001b[0m\u001b[0;34m(\u001b[0m\u001b[0mself\u001b[0m\u001b[0;34m,\u001b[0m \u001b[0mgradient\u001b[0m\u001b[0;34m,\u001b[0m \u001b[0mretain_graph\u001b[0m\u001b[0;34m,\u001b[0m \u001b[0mcreate_graph\u001b[0m\u001b[0;34m)\u001b[0m\u001b[0;34m\u001b[0m\u001b[0;34m\u001b[0m\u001b[0m\n\u001b[0m\u001b[1;32m    199\u001b[0m \u001b[0;34m\u001b[0m\u001b[0m\n\u001b[1;32m    200\u001b[0m     \u001b[0;32mdef\u001b[0m \u001b[0mregister_hook\u001b[0m\u001b[0;34m(\u001b[0m\u001b[0mself\u001b[0m\u001b[0;34m,\u001b[0m \u001b[0mhook\u001b[0m\u001b[0;34m)\u001b[0m\u001b[0;34m:\u001b[0m\u001b[0;34m\u001b[0m\u001b[0;34m\u001b[0m\u001b[0m\n",
      "\u001b[0;32m~/.conda/envs/latest-pyg/lib/python3.8/site-packages/torch/autograd/__init__.py\u001b[0m in \u001b[0;36mbackward\u001b[0;34m(tensors, grad_tensors, retain_graph, create_graph, grad_variables)\u001b[0m\n\u001b[1;32m     96\u001b[0m         \u001b[0mretain_graph\u001b[0m \u001b[0;34m=\u001b[0m \u001b[0mcreate_graph\u001b[0m\u001b[0;34m\u001b[0m\u001b[0;34m\u001b[0m\u001b[0m\n\u001b[1;32m     97\u001b[0m \u001b[0;34m\u001b[0m\u001b[0m\n\u001b[0;32m---> 98\u001b[0;31m     Variable._execution_engine.run_backward(\n\u001b[0m\u001b[1;32m     99\u001b[0m         \u001b[0mtensors\u001b[0m\u001b[0;34m,\u001b[0m \u001b[0mgrad_tensors\u001b[0m\u001b[0;34m,\u001b[0m \u001b[0mretain_graph\u001b[0m\u001b[0;34m,\u001b[0m \u001b[0mcreate_graph\u001b[0m\u001b[0;34m,\u001b[0m\u001b[0;34m\u001b[0m\u001b[0;34m\u001b[0m\u001b[0m\n\u001b[1;32m    100\u001b[0m         allow_unreachable=True)  # allow_unreachable flag\n",
      "\u001b[0;31mKeyboardInterrupt\u001b[0m: "
     ]
    }
   ],
   "source": [
    "# torch.backends.cudnn.benchmark = True\n",
    "for epoch in range(100):\n",
    "    tic = tt()  \n",
    "    model.train()\n",
    "    acc, train_loss = train_gnn(model, gnn_train_loader, optimizer, m_configs)\n",
    "    print(\"Training loss:\", train_loss)\n",
    "\n",
    "    model.eval()\n",
    "    with torch.no_grad():\n",
    "        acc, eff, pur, val_loss = evaluate_gnn(model, gnn_test_loader, m_configs)\n",
    "    scheduler.step(val_loss)\n",
    "#     wandb.log({\"val_loss\": val_loss, \"train_loss\": train_loss, \"val_acc\": acc, \"val_pur\": pur, \"val_eff\": eff, \"lr\": scheduler._last_lr[0]})\n",
    "\n",
    "#     save_model(epoch, model, optimizer, scheduler, val_loss, m_configs, 'ResAGNN/'+model_name._name+'.tar')\n",
    "#     print(\"End of epoch mem:\", torch.cuda.memory_allocated(device=device)/(1024**2), \"MB\")\n",
    "    print('Epoch: {}, Accuracy: {:.4f}, Purity: {:.4f}, Efficiency: {:.4f}, Loss: {:.4f}, LR: {} in time {}'.format(epoch, acc, pur, eff, val_loss, scheduler._last_lr[0], tt()-tic))"
   ]
  },
  {
   "cell_type": "markdown",
   "metadata": {},
   "source": [
    "### Sparse Tensors"
   ]
  },
  {
   "cell_type": "code",
   "execution_count": 19,
   "metadata": {},
   "outputs": [
    {
     "name": "stdout",
     "output_type": "stream",
     "text": [
      "CPU times: user 10.9 ms, sys: 212 ms, total: 223 ms\n",
      "Wall time: 687 ms\n"
     ]
    }
   ],
   "source": [
    "%%time\n",
    "batch = next(iter(gnn_train_loader))\n",
    "data = batch.to(device)"
   ]
  },
  {
   "cell_type": "code",
   "execution_count": 20,
   "metadata": {},
   "outputs": [
    {
     "name": "stdout",
     "output_type": "stream",
     "text": [
      "CPU times: user 19 µs, sys: 3 µs, total: 22 µs\n",
      "Wall time: 24.3 µs\n"
     ]
    }
   ],
   "source": [
    "%%time\n",
    "x = batch.x\n",
    "e = batch.edge_index"
   ]
  },
  {
   "cell_type": "code",
   "execution_count": 24,
   "metadata": {},
   "outputs": [
    {
     "name": "stdout",
     "output_type": "stream",
     "text": [
      "CPU times: user 2.68 ms, sys: 434 µs, total: 3.12 ms\n",
      "Wall time: 3.17 ms\n"
     ]
    }
   ],
   "source": [
    "%%time\n",
    "num_nodes = len(x)\n",
    "adj_t = SparseTensor(row=e[0], col=e[1], sparse_sizes=(num_nodes, num_nodes)).t()"
   ]
  },
  {
   "cell_type": "code",
   "execution_count": 25,
   "metadata": {},
   "outputs": [
    {
     "data": {
      "text/plain": [
       "torch.Size([22780, 3])"
      ]
     },
     "execution_count": 25,
     "metadata": {},
     "output_type": "execute_result"
    }
   ],
   "source": [
    "x.shape"
   ]
  },
  {
   "cell_type": "code",
   "execution_count": 26,
   "metadata": {},
   "outputs": [
    {
     "data": {
      "text/plain": [
       "SparseTensor(row=tensor([ 4061,  4061,  4061,  ..., 22779, 22779, 22779], device='cuda:0'),\n",
       "             col=tensor([   88,    98,   110,  ..., 21655, 21656, 21657], device='cuda:0'),\n",
       "             size=(22780, 22780), nnz=179362, density=0.03%)"
      ]
     },
     "execution_count": 26,
     "metadata": {},
     "output_type": "execute_result"
    }
   ],
   "source": [
    "adj_t"
   ]
  },
  {
   "cell_type": "code",
   "execution_count": 51,
   "metadata": {},
   "outputs": [],
   "source": [
    "start, end, _ = adj_t.t().coo()"
   ]
  },
  {
   "cell_type": "code",
   "execution_count": 58,
   "metadata": {},
   "outputs": [
    {
     "data": {
      "text/plain": [
       "tensor(21747, device='cuda:0')"
      ]
     },
     "execution_count": 58,
     "metadata": {},
     "output_type": "execute_result"
    }
   ],
   "source": [
    "start.max()"
   ]
  },
  {
   "cell_type": "code",
   "execution_count": 59,
   "metadata": {},
   "outputs": [
    {
     "data": {
      "text/plain": [
       "SparseTensor(row=tensor([ 4061,  4061,  4061,  ..., 22779, 22779, 22779], device='cuda:0'),\n",
       "             col=tensor([   88,    98,   110,  ..., 21655, 21656, 21657], device='cuda:0'),\n",
       "             size=(22780, 21748), nnz=179362, density=0.04%)"
      ]
     },
     "execution_count": 59,
     "metadata": {},
     "output_type": "execute_result"
    }
   ],
   "source": [
    "adj_t"
   ]
  },
  {
   "cell_type": "code",
   "execution_count": 26,
   "metadata": {},
   "outputs": [
    {
     "data": {
      "text/plain": [
       "True"
      ]
     },
     "execution_count": 26,
     "metadata": {},
     "output_type": "execute_result"
    }
   ],
   "source": [
    "type(adj_t) is SparseTensor"
   ]
  },
  {
   "cell_type": "code",
   "execution_count": 159,
   "metadata": {},
   "outputs": [
    {
     "name": "stdout",
     "output_type": "stream",
     "text": [
      "CPU times: user 985 µs, sys: 0 ns, total: 985 µs\n",
      "Wall time: 2.49 ms\n"
     ]
    },
    {
     "data": {
      "text/plain": [
       "(tensor([    0,     0,     0,  ..., 21746, 21746, 21747], device='cuda:0'),\n",
       " tensor([ 4089,  4097,  4105,  ..., 22743, 22744, 22506], device='cuda:0'),\n",
       " None)"
      ]
     },
     "execution_count": 159,
     "metadata": {},
     "output_type": "execute_result"
    }
   ],
   "source": [
    "%%time\n",
    "adj_t.t().coo()"
   ]
  },
  {
   "cell_type": "code",
   "execution_count": 134,
   "metadata": {},
   "outputs": [],
   "source": [
    "# Setup the node layers\n",
    "node_network = make_mlp(3, [512]*2, output_activation=None, layer_norm=True)\n",
    "\n",
    "# The GIN Conv layer\n",
    "gin_conv = pygnn.GINConv(nn=node_network).to(device)"
   ]
  },
  {
   "cell_type": "code",
   "execution_count": 143,
   "metadata": {},
   "outputs": [
    {
     "name": "stdout",
     "output_type": "stream",
     "text": [
      "CPU times: user 1.67 ms, sys: 156 µs, total: 1.82 ms\n",
      "Wall time: 1.64 ms\n"
     ]
    },
    {
     "data": {
      "text/plain": [
       "tensor([[ 0.6134, -0.0714,  1.0419,  ...,  0.1455, -0.2651, -0.1499],\n",
       "        [ 0.2874,  0.2170,  0.9679,  ...,  0.0421, -0.1022, -0.1671],\n",
       "        [ 0.6880, -0.2493,  0.3290,  ...,  0.0938, -0.4068,  0.4703],\n",
       "        ...,\n",
       "        [ 0.2621,  0.6093,  0.2323,  ..., -0.1145, -0.3346,  0.4759],\n",
       "        [ 0.2544,  0.6024,  0.2821,  ..., -0.0802, -0.3579,  0.4966],\n",
       "        [ 0.2563,  0.6002,  0.2796,  ..., -0.0773, -0.3572,  0.4993]],\n",
       "       device='cuda:0', grad_fn=<AddmmBackward>)"
      ]
     },
     "execution_count": 143,
     "metadata": {},
     "output_type": "execute_result"
    }
   ],
   "source": [
    "%%time\n",
    "gin_conv(x, e)"
   ]
  },
  {
   "cell_type": "code",
   "execution_count": 144,
   "metadata": {},
   "outputs": [
    {
     "name": "stdout",
     "output_type": "stream",
     "text": [
      "CPU times: user 1.39 ms, sys: 0 ns, total: 1.39 ms\n",
      "Wall time: 1.29 ms\n"
     ]
    },
    {
     "data": {
      "text/plain": [
       "tensor([[ 0.6134, -0.0714,  1.0419,  ...,  0.1455, -0.2651, -0.1499],\n",
       "        [ 0.2874,  0.2170,  0.9679,  ...,  0.0421, -0.1022, -0.1671],\n",
       "        [ 0.6880, -0.2493,  0.3290,  ...,  0.0938, -0.4068,  0.4703],\n",
       "        ...,\n",
       "        [ 0.2621,  0.6093,  0.2323,  ..., -0.1145, -0.3346,  0.4759],\n",
       "        [ 0.2544,  0.6024,  0.2821,  ..., -0.0802, -0.3579,  0.4966],\n",
       "        [ 0.2563,  0.6002,  0.2796,  ..., -0.0773, -0.3572,  0.4993]],\n",
       "       device='cuda:0', grad_fn=<AddmmBackward>)"
      ]
     },
     "execution_count": 144,
     "metadata": {},
     "output_type": "execute_result"
    }
   ],
   "source": [
    "%%time\n",
    "gin_conv(x, adj_t)"
   ]
  },
  {
   "cell_type": "code",
   "execution_count": null,
   "metadata": {},
   "outputs": [],
   "source": []
  },
  {
   "cell_type": "markdown",
   "metadata": {},
   "source": [
    "## DGL Representation"
   ]
  },
  {
   "cell_type": "code",
   "execution_count": 20,
   "metadata": {},
   "outputs": [],
   "source": [
    "import dgl\n",
    "import dgl.function as dglfn\n",
    "from dgl import DGLGraph"
   ]
  },
  {
   "cell_type": "code",
   "execution_count": 9,
   "metadata": {},
   "outputs": [
    {
     "name": "stdout",
     "output_type": "stream",
     "text": [
      "CPU times: user 447 µs, sys: 134 ms, total: 134 ms\n",
      "Wall time: 337 ms\n"
     ]
    }
   ],
   "source": [
    "%%time\n",
    "batch = next(iter(gnn_train_loader))\n",
    "# data = batch.to(device)"
   ]
  },
  {
   "cell_type": "code",
   "execution_count": 10,
   "metadata": {},
   "outputs": [
    {
     "name": "stdout",
     "output_type": "stream",
     "text": [
      "CPU times: user 3 µs, sys: 6 µs, total: 9 µs\n",
      "Wall time: 12.9 µs\n"
     ]
    }
   ],
   "source": [
    "%%time\n",
    "x = batch.x\n",
    "e = batch.edge_index"
   ]
  },
  {
   "cell_type": "code",
   "execution_count": 11,
   "metadata": {},
   "outputs": [
    {
     "data": {
      "text/plain": [
       "tensor([[ 0.0316, -0.2973, -0.3713],\n",
       "        [ 0.0336, -0.9930, -0.3232],\n",
       "        [ 0.0343,  0.9876, -0.2920],\n",
       "        ...,\n",
       "        [ 1.0184,  0.8549,  0.9814],\n",
       "        [ 1.0223,  0.8899,  1.0030],\n",
       "        [ 1.0234,  0.9314,  0.9922]])"
      ]
     },
     "execution_count": 11,
     "metadata": {},
     "output_type": "execute_result"
    }
   ],
   "source": [
    "x"
   ]
  },
  {
   "cell_type": "code",
   "execution_count": 12,
   "metadata": {},
   "outputs": [
    {
     "data": {
      "text/plain": [
       "tensor([[   88,    98,   110,  ..., 21655, 21656, 21657],\n",
       "        [ 4061,  4061,  4061,  ..., 22779, 22779, 22779]])"
      ]
     },
     "execution_count": 12,
     "metadata": {},
     "output_type": "execute_result"
    }
   ],
   "source": [
    "e"
   ]
  },
  {
   "cell_type": "code",
   "execution_count": 21,
   "metadata": {},
   "outputs": [],
   "source": [
    "G = DGLGraph((e[0], e[1]))"
   ]
  },
  {
   "cell_type": "code",
   "execution_count": 16,
   "metadata": {},
   "outputs": [],
   "source": [
    "G.ndata['x'] = x"
   ]
  },
  {
   "cell_type": "code",
   "execution_count": 17,
   "metadata": {},
   "outputs": [
    {
     "data": {
      "text/plain": [
       "DGLGraph(num_nodes=22780, num_edges=179362,\n",
       "         ndata_schemes={'x': Scheme(shape=(3,), dtype=torch.float32)}\n",
       "         edata_schemes={})"
      ]
     },
     "execution_count": 17,
     "metadata": {},
     "output_type": "execute_result"
    }
   ],
   "source": [
    "G"
   ]
  },
  {
   "cell_type": "code",
   "execution_count": 19,
   "metadata": {},
   "outputs": [
    {
     "data": {
      "text/plain": [
       "tensor([ 0.0316, -0.2973, -0.3713])"
      ]
     },
     "execution_count": 19,
     "metadata": {},
     "output_type": "execute_result"
    }
   ],
   "source": [
    "G.ndata['x'][0]"
   ]
  },
  {
   "cell_type": "code",
   "execution_count": null,
   "metadata": {},
   "outputs": [],
   "source": []
  }
 ],
 "metadata": {
  "kernelspec": {
   "display_name": "Latest-PyG",
   "language": "python",
   "name": "latest-pyg"
  }
 },
 "nbformat": 4,
 "nbformat_minor": 4
}
