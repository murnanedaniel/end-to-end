{
 "cells": [
  {
   "cell_type": "markdown",
   "metadata": {},
   "source": [
    "# Hierarchical Graph Pooling"
   ]
  },
  {
   "cell_type": "markdown",
   "metadata": {},
   "source": [
    "This is a notebook exploring the architecture described in https://arxiv.org/pdf/1911.05954.pdf"
   ]
  },
  {
   "cell_type": "code",
   "execution_count": 8,
   "metadata": {},
   "outputs": [],
   "source": [
    "import sys\n",
    "\n",
    "import numpy as np\n",
    "import torch\n",
    "\n",
    "sys.path.append(\"..\")"
   ]
  },
  {
   "cell_type": "code",
   "execution_count": 19,
   "metadata": {},
   "outputs": [],
   "source": [
    "from lightning_modules.utils import make_mlp\n",
    "from torch_scatter import scatter_mean"
   ]
  },
  {
   "cell_type": "markdown",
   "metadata": {},
   "source": [
    "## Roadmap"
   ]
  },
  {
   "cell_type": "markdown",
   "metadata": {},
   "source": [
    "1. Set up fake graph, with node features $x$ and edge indices $e$\n",
    "2. Set up node network $M_n$ as $d \\rightarrow d$ MLP, and edge attention network $M_e$ as $2d \\rightarrow 1$ MLP\n",
    "3. Make Manhattan distance function $D$\n",
    "4. Make node information score function $p$\n",
    "5. Rank top-k most informative nodes\n",
    "-- Stop here and test that this trains!"
   ]
  },
  {
   "cell_type": "markdown",
   "metadata": {},
   "source": [
    "### 1. Set up fake graph"
   ]
  },
  {
   "cell_type": "code",
   "execution_count": 39,
   "metadata": {},
   "outputs": [],
   "source": [
    "x = torch.randint(0, 5, (40, 3)).float()\n",
    "e = torch.randint(0, len(x), (2, 1000))"
   ]
  },
  {
   "cell_type": "code",
   "execution_count": 40,
   "metadata": {},
   "outputs": [],
   "source": [
    "hidden_channels = 32"
   ]
  },
  {
   "cell_type": "markdown",
   "metadata": {},
   "source": [
    "### 2. Set up networks"
   ]
  },
  {
   "cell_type": "code",
   "execution_count": 41,
   "metadata": {},
   "outputs": [],
   "source": [
    "input_network = make_mlp(x.shape[1], [hidden_channels]*3,\n",
    "             hidden_activation='ReLU',\n",
    "             output_activation='ReLU',\n",
    "             layer_norm=True)\n",
    "\n",
    "node_network = make_mlp(hidden_channels, [hidden_channels]*3,\n",
    "             hidden_activation='ReLU',\n",
    "             output_activation='ReLU',\n",
    "             layer_norm=True)\n",
    "\n",
    "edge_network = make_mlp(2*x.shape[1], [hidden_channels]*3+[1],\n",
    "             hidden_activation='ReLU',\n",
    "             output_activation=None)"
   ]
  },
  {
   "cell_type": "code",
   "execution_count": 42,
   "metadata": {},
   "outputs": [],
   "source": [
    "x = input_network(x)"
   ]
  },
  {
   "cell_type": "markdown",
   "metadata": {},
   "source": [
    "### 3. Make distance function"
   ]
  },
  {
   "cell_type": "code",
   "execution_count": 43,
   "metadata": {},
   "outputs": [],
   "source": [
    "src = torch.cat([e, e.flip(1)], axis=-1)\n",
    "reconstructed_x = scatter_mean(x[src[0]], src[1], dim=0, dim_size=x.shape[0])"
   ]
  },
  {
   "cell_type": "code",
   "execution_count": 61,
   "metadata": {},
   "outputs": [],
   "source": [
    "D = torch.abs(x - reconstructed_x)"
   ]
  },
  {
   "cell_type": "markdown",
   "metadata": {},
   "source": [
    "### 4. Sum distance for node information score"
   ]
  },
  {
   "cell_type": "code",
   "execution_count": 62,
   "metadata": {},
   "outputs": [],
   "source": [
    "p = torch.sum(D, dim=1)"
   ]
  },
  {
   "cell_type": "code",
   "execution_count": 63,
   "metadata": {},
   "outputs": [
    {
     "data": {
      "text/plain": [
       "tensor([ 4.1535,  9.7257,  5.0085,  6.2467,  7.0837,  4.9354,  4.7244,  6.7053,\n",
       "         4.6235,  6.7910,  6.7414,  9.4983,  8.7384,  5.6556,  8.0180,  4.7247,\n",
       "         4.6897,  7.0028,  3.8158,  5.8215,  7.2737, 12.0679,  6.2713, 10.5605,\n",
       "         4.5469,  9.0993,  4.1239,  8.4504,  8.0633,  9.1488,  5.8921,  8.5343,\n",
       "         8.1766,  7.5356,  8.8293,  5.1800,  4.7730,  5.8813,  4.2438,  8.2299],\n",
       "       grad_fn=<SumBackward1>)"
      ]
     },
     "execution_count": 63,
     "metadata": {},
     "output_type": "execute_result"
    }
   ],
   "source": [
    "p"
   ]
  },
  {
   "cell_type": "markdown",
   "metadata": {},
   "source": [
    "### 5. Rank most informative nodes"
   ]
  },
  {
   "cell_type": "code",
   "execution_count": 68,
   "metadata": {},
   "outputs": [],
   "source": [
    "rank_idx = torch.argsort(p, descending=True)"
   ]
  },
  {
   "cell_type": "code",
   "execution_count": 70,
   "metadata": {},
   "outputs": [],
   "source": [
    "top_k = 10\n",
    "top_k_idx = rank_idx[top_k]"
   ]
  },
  {
   "cell_type": "code",
   "execution_count": null,
   "metadata": {},
   "outputs": [],
   "source": []
  }
 ],
 "metadata": {
  "kernelspec": {
   "display_name": "ExatrkxTest",
   "language": "python",
   "name": "exatrkx-test"
  },
  "language_info": {
   "codemirror_mode": {
    "name": "ipython",
    "version": 3
   },
   "file_extension": ".py",
   "mimetype": "text/x-python",
   "name": "python",
   "nbconvert_exporter": "python",
   "pygments_lexer": "ipython3",
   "version": "3.7.7"
  }
 },
 "nbformat": 4,
 "nbformat_minor": 4
}
