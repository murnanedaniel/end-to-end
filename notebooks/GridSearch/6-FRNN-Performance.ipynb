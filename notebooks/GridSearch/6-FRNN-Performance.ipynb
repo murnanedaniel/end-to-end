{
 "cells": [
  {
   "cell_type": "markdown",
   "metadata": {},
   "source": [
    "# Benchmarking FRNN Performance"
   ]
  },
  {
   "cell_type": "markdown",
   "metadata": {},
   "source": [
    "Explore the techniques described in [this paper](https://reader.elsevier.com/reader/sd/pii/0020019077900709?token=E45C0E1870EA26C21C1F149B6090CE4630A51269D324BE1206B7BF2764FB48B2DDC93F4B86FBFBD8CBDED63B15BBC6DA&originRegion=us-east-1&originCreation=20210428165528)."
   ]
  },
  {
   "cell_type": "code",
   "execution_count": 1,
   "metadata": {},
   "outputs": [],
   "source": [
    "%load_ext autoreload\n",
    "%autoreload 2"
   ]
  },
  {
   "cell_type": "code",
   "execution_count": 2,
   "metadata": {
    "code_folding": []
   },
   "outputs": [],
   "source": [
    "# System imports\n",
    "import os\n",
    "import sys\n",
    "from time import time as tt\n",
    "import importlib\n",
    "\n",
    "# External imports\n",
    "import matplotlib.pyplot as plt\n",
    "import scipy as sp\n",
    "import numpy as np\n",
    "import pandas as pd\n",
    "import seaborn as sns\n",
    "import torch\n",
    "# from torch_geometric.data import DataLoader\n",
    "\n",
    "from itertools import chain\n",
    "from random import shuffle, sample\n",
    "from scipy.optimize import root_scalar as root\n",
    "\n",
    "from torch.nn import Linear\n",
    "import torch.nn.functional as F\n",
    "import trackml.dataset\n",
    "from itertools import permutations\n",
    "import itertools\n",
    "from sklearn import metrics, decomposition\n",
    "from torch.utils.checkpoint import checkpoint\n",
    "\n",
    "import faiss\n",
    "\n",
    "device = \"cuda\" if torch.cuda.is_available() else \"cpu\"\n",
    "\n",
    "exatrkx_pipeline = '/global/homes/d/danieltm/ExaTrkX/Tracking-ML-Exa.TrkX/Pipelines/TrackML_Example'\n",
    "sys.path.append(exatrkx_pipeline)\n",
    "\n",
    "from LightningModules.Embedding.utils import graph_intersection, build_edges\n",
    "\n",
    "%matplotlib inline"
   ]
  },
  {
   "cell_type": "markdown",
   "metadata": {
    "heading_collapsed": true
   },
   "source": [
    "# Load Model and Dataset"
   ]
  },
  {
   "cell_type": "markdown",
   "metadata": {
    "hidden": true
   },
   "source": [
    "Load the lightning module and setup the model to get the dataset"
   ]
  },
  {
   "cell_type": "markdown",
   "metadata": {
    "hidden": true
   },
   "source": [
    "CHANGE THE EXATRKX PIPELINE LOCATION TO YOUR PARTICULAR LOCATION"
   ]
  },
  {
   "cell_type": "code",
   "execution_count": null,
   "metadata": {
    "hidden": true
   },
   "outputs": [
    {
     "name": "stderr",
     "output_type": "stream",
     "text": [
      "[autoreload of torch.serialization failed: Traceback (most recent call last):\n",
      "  File \"/global/homes/d/danieltm/.conda/envs/frnn-test/lib/python3.8/site-packages/IPython/extensions/autoreload.py\", line 245, in check\n",
      "    superreload(m, reload, self.old_objects)\n",
      "  File \"/global/homes/d/danieltm/.conda/envs/frnn-test/lib/python3.8/site-packages/IPython/extensions/autoreload.py\", line 394, in superreload\n",
      "    module = reload(module)\n",
      "  File \"/global/homes/d/danieltm/.conda/envs/frnn-test/lib/python3.8/imp.py\", line 314, in reload\n",
      "    return importlib.reload(module)\n",
      "  File \"/global/homes/d/danieltm/.conda/envs/frnn-test/lib/python3.8/importlib/__init__.py\", line 169, in reload\n",
      "    _bootstrap._exec(spec, module)\n",
      "  File \"<frozen importlib._bootstrap>\", line 604, in _exec\n",
      "  File \"<frozen importlib._bootstrap_external>\", line 848, in exec_module\n",
      "  File \"<frozen importlib._bootstrap>\", line 219, in _call_with_frames_removed\n",
      "  File \"/global/homes/d/danieltm/.conda/envs/frnn-test/lib/python3.8/site-packages/torch/serialization.py\", line 15, in <module>\n",
      "    from torch.types import Storage\n",
      "ImportError: cannot import name 'Storage' from 'torch.types' (/global/homes/d/danieltm/.conda/envs/frnn-test/lib/python3.8/site-packages/torch/types.py)\n",
      "]\n",
      "[autoreload of torch.tensor failed: Traceback (most recent call last):\n",
      "  File \"/global/homes/d/danieltm/.conda/envs/frnn-test/lib/python3.8/site-packages/IPython/extensions/autoreload.py\", line 245, in check\n",
      "    superreload(m, reload, self.old_objects)\n",
      "  File \"/global/homes/d/danieltm/.conda/envs/frnn-test/lib/python3.8/site-packages/IPython/extensions/autoreload.py\", line 394, in superreload\n",
      "    module = reload(module)\n",
      "  File \"/global/homes/d/danieltm/.conda/envs/frnn-test/lib/python3.8/imp.py\", line 314, in reload\n",
      "    return importlib.reload(module)\n",
      "  File \"/global/homes/d/danieltm/.conda/envs/frnn-test/lib/python3.8/importlib/__init__.py\", line 169, in reload\n",
      "    _bootstrap._exec(spec, module)\n",
      "  File \"<frozen importlib._bootstrap>\", line 604, in _exec\n",
      "  File \"<frozen importlib._bootstrap_external>\", line 848, in exec_module\n",
      "  File \"<frozen importlib._bootstrap>\", line 219, in _call_with_frames_removed\n",
      "  File \"/global/homes/d/danieltm/.conda/envs/frnn-test/lib/python3.8/site-packages/torch/tensor.py\", line 40, in <module>\n",
      "    class Tensor(torch._C._TensorBase):\n",
      "  File \"/global/homes/d/danieltm/.conda/envs/frnn-test/lib/python3.8/site-packages/torch/tensor.py\", line 294, in Tensor\n",
      "    detach = _add_docstr(_C._TensorBase.detach, r\"\"\"\n",
      "RuntimeError: method 'detach' already has a docstring\n",
      "]\n"
     ]
    }
   ],
   "source": [
    "exatrkx_pipeline = '/global/homes/d/danieltm/ExaTrkX/Tracking-ML-Exa.TrkX/Pipelines/TrackML_Example'\n",
    "sys.path.append(exatrkx_pipeline)"
   ]
  },
  {
   "cell_type": "code",
   "execution_count": null,
   "metadata": {
    "hidden": true
   },
   "outputs": [],
   "source": [
    "from LightningModules.Embedding.Models.layerless_embedding import LayerlessEmbedding\n",
    "from LightningModules.Embedding.utils import graph_intersection, build_edges"
   ]
  },
  {
   "cell_type": "markdown",
   "metadata": {
    "hidden": true
   },
   "source": [
    "## Load model for inference (if data not already saved)"
   ]
  },
  {
   "cell_type": "markdown",
   "metadata": {
    "hidden": true
   },
   "source": [
    "CHANGE THE CHECKPOINT DIRECTORY TO YOUR PARTICULAR LOCATION"
   ]
  },
  {
   "cell_type": "code",
   "execution_count": 4,
   "metadata": {
    "hidden": true
   },
   "outputs": [],
   "source": [
    "chkpt_dir = \"/global/cscratch1/sd/danieltm/ExaTrkX/lightning_checkpoints/CodaEmbeddingStudy/pbn07koj\"\n",
    "chkpt_file = \"last.ckpt\"\n",
    "chkpt_path = os.path.join(chkpt_dir, chkpt_file)"
   ]
  },
  {
   "cell_type": "code",
   "execution_count": 5,
   "metadata": {
    "hidden": true
   },
   "outputs": [],
   "source": [
    "model = LayerlessEmbedding.load_from_checkpoint(chkpt_path)"
   ]
  },
  {
   "cell_type": "code",
   "execution_count": 6,
   "metadata": {
    "hidden": true
   },
   "outputs": [],
   "source": [
    "model.hparams[\"train_split\"] = [100,10,10]"
   ]
  },
  {
   "cell_type": "code",
   "execution_count": 7,
   "metadata": {
    "hidden": true
   },
   "outputs": [],
   "source": [
    "model.setup(stage=\"fit\")"
   ]
  },
  {
   "cell_type": "code",
   "execution_count": 8,
   "metadata": {
    "hidden": true
   },
   "outputs": [],
   "source": [
    "model = model.to(device)"
   ]
  },
  {
   "cell_type": "markdown",
   "metadata": {},
   "source": [
    "# FRNN Testing"
   ]
  },
  {
   "cell_type": "markdown",
   "metadata": {
    "heading_collapsed": true
   },
   "source": [
    "## Prepare and save input data"
   ]
  },
  {
   "cell_type": "code",
   "execution_count": 82,
   "metadata": {
    "hidden": true
   },
   "outputs": [],
   "source": [
    "batch = model.trainset[0].to(device)\n",
    "with torch.no_grad():\n",
    "    spatial = model(torch.cat([batch.cell_data, batch.x], axis=-1))"
   ]
  },
  {
   "cell_type": "code",
   "execution_count": 87,
   "metadata": {
    "hidden": true
   },
   "outputs": [],
   "source": [
    "batch.spatial = spatial\n",
    "torch.save(batch, \"example_event.pkl\")"
   ]
  },
  {
   "cell_type": "markdown",
   "metadata": {},
   "source": [
    "## Load saved input data"
   ]
  },
  {
   "cell_type": "code",
   "execution_count": 3,
   "metadata": {},
   "outputs": [],
   "source": [
    "batch = torch.load(\"example_event.pkl\")"
   ]
  },
  {
   "cell_type": "code",
   "execution_count": 4,
   "metadata": {},
   "outputs": [],
   "source": [
    "spatial = batch.spatial"
   ]
  },
  {
   "cell_type": "markdown",
   "metadata": {},
   "source": [
    "## Run FRNN algorithm"
   ]
  },
  {
   "cell_type": "code",
   "execution_count": 5,
   "metadata": {},
   "outputs": [],
   "source": [
    "import frnn"
   ]
  },
  {
   "cell_type": "code",
   "execution_count": 116,
   "metadata": {},
   "outputs": [],
   "source": [
    "r = 1.8\n",
    "K = 500"
   ]
  },
  {
   "cell_type": "code",
   "execution_count": 105,
   "metadata": {
    "scrolled": true
   },
   "outputs": [
    {
     "name": "stdout",
     "output_type": "stream",
     "text": [
      "CPU times: user 3.91 ms, sys: 0 ns, total: 3.91 ms\n",
      "Wall time: 3.37 ms\n"
     ]
    }
   ],
   "source": [
    "%%time\n",
    "# first time there is no cached grid\n",
    "dists, idxs, nn, grid = frnn.frnn_grid_points(\n",
    "    points1=spatial.unsqueeze(0), points2=spatial.unsqueeze(0), lengths1=None, lengths2=None, K=K, r=r, grid=None, return_nn=False, return_sorted=True\n",
    ")"
   ]
  },
  {
   "cell_type": "code",
   "execution_count": 117,
   "metadata": {},
   "outputs": [
    {
     "name": "stdout",
     "output_type": "stream",
     "text": [
      "Time taken: 31.633ms\n"
     ]
    }
   ],
   "source": [
    "start = torch.cuda.Event(enable_timing=True)\n",
    "end = torch.cuda.Event(enable_timing=True)\n",
    "\n",
    "start.record()\n",
    "\n",
    "dists, idxs, nn, grid = frnn.frnn_grid_points(\n",
    "    points1=spatial.unsqueeze(0), points2=spatial.unsqueeze(0), lengths1=None, lengths2=None, K=K, r=r, grid=None, return_nn=False, return_sorted=True\n",
    ")\n",
    "\n",
    "# Remove the unneccessary batch dimension\n",
    "idxs = idxs.squeeze()\n",
    "\n",
    "ind = torch.Tensor.repeat(torch.arange(idxs.shape[0], device=device), (idxs.shape[1], 1), 1).T\n",
    "positive_idxs = idxs >= 0\n",
    "edge_list = torch.stack([ind[positive_idxs], idxs[positive_idxs]])\n",
    "\n",
    "# Remove self-loops\n",
    "e_spatial = edge_list[:, edge_list[0] != edge_list[1]]\n",
    "\n",
    "torch.cuda.synchronize()\n",
    "end.record()\n",
    "time = start.elapsed_time(end)\n",
    "print(f\"Time taken: {time:.5}ms\")"
   ]
  },
  {
   "cell_type": "markdown",
   "metadata": {},
   "source": [
    "## Accuracy Performance"
   ]
  },
  {
   "cell_type": "markdown",
   "metadata": {},
   "source": [
    "Find truth"
   ]
  },
  {
   "cell_type": "code",
   "execution_count": 118,
   "metadata": {},
   "outputs": [],
   "source": [
    "e_bidir = torch.cat([batch.layerless_true_edges, batch.layerless_true_edges.flip(0)], axis=-1) \n",
    "e_spatial, y_cluster = graph_intersection(e_spatial, e_bidir, using_weights=False)"
   ]
  },
  {
   "cell_type": "code",
   "execution_count": 119,
   "metadata": {},
   "outputs": [],
   "source": [
    "t = e_bidir.shape[1]\n",
    "tp = y_cluster.sum()\n",
    "p = e_spatial.shape[1]"
   ]
  },
  {
   "cell_type": "code",
   "execution_count": 120,
   "metadata": {},
   "outputs": [
    {
     "name": "stdout",
     "output_type": "stream",
     "text": [
      "Efficiency: 0.9716544151306152, Purity: 0.018690980970859528\n"
     ]
    }
   ],
   "source": [
    "print(f'Efficiency: {tp / t}, Purity: {tp / p}')"
   ]
  },
  {
   "cell_type": "code",
   "execution_count": 35,
   "metadata": {},
   "outputs": [],
   "source": [
    "def get_metrics(e_spatial):\n",
    "    \n",
    "    e_bidir = torch.cat([batch.layerless_true_edges, batch.layerless_true_edges.flip(0)], axis=-1) \n",
    "    e_spatial, y_cluster = graph_intersection(e_spatial, e_bidir, using_weights=False)\n",
    "    \n",
    "    t = e_bidir.shape[1]\n",
    "    tp = y_cluster.sum()\n",
    "    p = e_spatial.shape[1]\n",
    "    \n",
    "    eff, pur = tp/t, tp/p\n",
    "    return eff, pur"
   ]
  },
  {
   "cell_type": "markdown",
   "metadata": {},
   "source": [
    "# Scan over R, K"
   ]
  },
  {
   "cell_type": "code",
   "execution_count": 112,
   "metadata": {},
   "outputs": [],
   "source": [
    "r_list = np.arange(1, 2.2, 0.1)\n",
    "K_list = np.arange(10, 1000, 100)"
   ]
  },
  {
   "cell_type": "code",
   "execution_count": 113,
   "metadata": {
    "scrolled": true
   },
   "outputs": [
    {
     "name": "stdout",
     "output_type": "stream",
     "text": [
      "Time taken: 0.0097446s for r=1.0, K=10\n",
      "Time taken: 0.010106s for r=1.0, K=110\n",
      "Time taken: 0.010646s for r=1.0, K=210\n",
      "Time taken: 0.01128s for r=1.0, K=310\n",
      "Time taken: 0.011791s for r=1.0, K=410\n",
      "Time taken: 0.01243s for r=1.0, K=510\n",
      "Time taken: 0.01307s for r=1.0, K=610\n",
      "Time taken: 0.013704s for r=1.0, K=710\n",
      "Time taken: 0.014295s for r=1.0, K=810\n",
      "Time taken: 0.014928s for r=1.0, K=910\n",
      "Time taken: 0.010247s for r=1.1, K=10\n",
      "Time taken: 0.010936s for r=1.1, K=110\n",
      "Time taken: 0.011745s for r=1.1, K=210\n",
      "Time taken: 0.01232s for r=1.1, K=310\n",
      "Time taken: 0.012893s for r=1.1, K=410\n",
      "Time taken: 0.013579s for r=1.1, K=510\n",
      "Time taken: 0.014127s for r=1.1, K=610\n",
      "Time taken: 0.014684s for r=1.1, K=710\n",
      "Time taken: 0.015215s for r=1.1, K=810\n",
      "Time taken: 0.015755s for r=1.1, K=910\n",
      "Time taken: 0.011786s for r=1.2000000000000002, K=10\n",
      "Time taken: 0.012863s for r=1.2000000000000002, K=110\n",
      "Time taken: 0.013455s for r=1.2000000000000002, K=210\n",
      "Time taken: 0.013994s for r=1.2000000000000002, K=310\n",
      "Time taken: 0.014551s for r=1.2000000000000002, K=410\n",
      "Time taken: 0.016382s for r=1.2000000000000002, K=510\n",
      "Time taken: 0.015907s for r=1.2000000000000002, K=610\n",
      "Time taken: 0.016577s for r=1.2000000000000002, K=710\n",
      "Time taken: 0.017047s for r=1.2000000000000002, K=810\n",
      "Time taken: 0.017744s for r=1.2000000000000002, K=910\n",
      "Time taken: 0.014065s for r=1.3000000000000003, K=10\n",
      "Time taken: 0.015216s for r=1.3000000000000003, K=110\n",
      "Time taken: 0.015978s for r=1.3000000000000003, K=210\n",
      "Time taken: 0.016575s for r=1.3000000000000003, K=310\n",
      "Time taken: 0.017078s for r=1.3000000000000003, K=410\n",
      "Time taken: 0.022124s for r=1.3000000000000003, K=510\n",
      "Time taken: 0.019092s for r=1.3000000000000003, K=610\n",
      "Time taken: 0.018792s for r=1.3000000000000003, K=710\n",
      "Time taken: 0.019519s for r=1.3000000000000003, K=810\n",
      "Time taken: 0.020058s for r=1.3000000000000003, K=910\n",
      "Time taken: 0.014995s for r=1.4000000000000004, K=10\n",
      "Time taken: 0.016812s for r=1.4000000000000004, K=110\n",
      "Time taken: 0.017493s for r=1.4000000000000004, K=210\n",
      "Time taken: 0.018054s for r=1.4000000000000004, K=310\n",
      "Time taken: 0.01874s for r=1.4000000000000004, K=410\n",
      "Time taken: 0.019425s for r=1.4000000000000004, K=510\n",
      "Time taken: 0.019934s for r=1.4000000000000004, K=610\n",
      "Time taken: 0.020894s for r=1.4000000000000004, K=710\n",
      "Time taken: 0.021459s for r=1.4000000000000004, K=810\n",
      "Time taken: 0.022157s for r=1.4000000000000004, K=910\n",
      "Time taken: 0.017601s for r=1.5000000000000004, K=10\n",
      "Time taken: 0.020536s for r=1.5000000000000004, K=110\n",
      "Time taken: 0.021254s for r=1.5000000000000004, K=210\n",
      "Time taken: 0.021976s for r=1.5000000000000004, K=310\n",
      "Time taken: 0.022489s for r=1.5000000000000004, K=410\n",
      "Time taken: 0.023173s for r=1.5000000000000004, K=510\n",
      "Time taken: 0.023613s for r=1.5000000000000004, K=610\n",
      "Time taken: 0.024465s for r=1.5000000000000004, K=710\n",
      "Time taken: 0.024864s for r=1.5000000000000004, K=810\n",
      "Time taken: 0.025492s for r=1.5000000000000004, K=910\n",
      "Time taken: 0.019267s for r=1.6000000000000005, K=10\n",
      "Time taken: 0.021947s for r=1.6000000000000005, K=110\n",
      "Time taken: 0.023163s for r=1.6000000000000005, K=210\n",
      "Time taken: 0.023565s for r=1.6000000000000005, K=310\n",
      "Time taken: 0.024506s for r=1.6000000000000005, K=410\n",
      "Time taken: 0.02515s for r=1.6000000000000005, K=510\n",
      "Time taken: 0.025492s for r=1.6000000000000005, K=610\n",
      "Time taken: 0.026443s for r=1.6000000000000005, K=710\n",
      "Time taken: 0.02664s for r=1.6000000000000005, K=810\n",
      "Time taken: 0.027606s for r=1.6000000000000005, K=910\n",
      "Time taken: 0.021805s for r=1.7000000000000006, K=10\n",
      "Time taken: 0.02551s for r=1.7000000000000006, K=110\n",
      "Time taken: 0.026335s for r=1.7000000000000006, K=210\n",
      "Time taken: 0.027615s for r=1.7000000000000006, K=310\n",
      "Time taken: 0.028278s for r=1.7000000000000006, K=410\n",
      "Time taken: 0.028527s for r=1.7000000000000006, K=510\n",
      "Time taken: 0.029139s for r=1.7000000000000006, K=610\n",
      "Time taken: 0.029863s for r=1.7000000000000006, K=710\n",
      "Time taken: 0.030792s for r=1.7000000000000006, K=810\n",
      "Time taken: 0.031856s for r=1.7000000000000006, K=910\n",
      "Time taken: 0.021973s for r=1.8000000000000007, K=10\n",
      "Time taken: 0.026638s for r=1.8000000000000007, K=110\n",
      "Time taken: 0.028851s for r=1.8000000000000007, K=210\n",
      "Time taken: 0.030078s for r=1.8000000000000007, K=310\n",
      "Time taken: 0.03133s for r=1.8000000000000007, K=410\n",
      "Time taken: 0.032101s for r=1.8000000000000007, K=510\n",
      "Time taken: 0.032202s for r=1.8000000000000007, K=610\n",
      "Time taken: 0.033155s for r=1.8000000000000007, K=710\n",
      "Time taken: 0.033591s for r=1.8000000000000007, K=810\n",
      "Time taken: 0.0343s for r=1.8000000000000007, K=910\n",
      "Time taken: 0.027489s for r=1.9000000000000008, K=10\n",
      "Time taken: 0.031735s for r=1.9000000000000008, K=110\n",
      "Time taken: 0.034319s for r=1.9000000000000008, K=210\n",
      "Time taken: 0.03585s for r=1.9000000000000008, K=310\n",
      "Time taken: 0.036951s for r=1.9000000000000008, K=410\n",
      "Time taken: 0.037913s for r=1.9000000000000008, K=510\n",
      "Time taken: 0.03874s for r=1.9000000000000008, K=610\n",
      "Time taken: 0.039356s for r=1.9000000000000008, K=710\n",
      "Time taken: 0.039801s for r=1.9000000000000008, K=810\n",
      "Time taken: 0.041147s for r=1.9000000000000008, K=910\n",
      "Time taken: 0.028971s for r=2.000000000000001, K=10\n",
      "Time taken: 0.033705s for r=2.000000000000001, K=110\n",
      "Time taken: 0.036716s for r=2.000000000000001, K=210\n",
      "Time taken: 0.03906s for r=2.000000000000001, K=310\n",
      "Time taken: 0.040541s for r=2.000000000000001, K=410\n",
      "Time taken: 0.041827s for r=2.000000000000001, K=510\n",
      "Time taken: 0.042863s for r=2.000000000000001, K=610\n",
      "Time taken: 0.04368s for r=2.000000000000001, K=710\n",
      "Time taken: 0.04434s for r=2.000000000000001, K=810\n",
      "Time taken: 0.044969s for r=2.000000000000001, K=910\n",
      "Time taken: 0.025802s for r=2.100000000000001, K=10\n",
      "Time taken: 0.031648s for r=2.100000000000001, K=110\n",
      "Time taken: 0.035707s for r=2.100000000000001, K=210\n",
      "Time taken: 0.038992s for r=2.100000000000001, K=310\n",
      "Time taken: 0.041037s for r=2.100000000000001, K=410\n",
      "Time taken: 0.042459s for r=2.100000000000001, K=510\n",
      "Time taken: 0.043968s for r=2.100000000000001, K=610\n",
      "Time taken: 0.046226s for r=2.100000000000001, K=710\n",
      "Time taken: 0.046057s for r=2.100000000000001, K=810\n",
      "Time taken: 0.047057s for r=2.100000000000001, K=910\n",
      "Time taken: 0.029984s for r=2.200000000000001, K=10\n",
      "Time taken: 0.035319s for r=2.200000000000001, K=110\n",
      "Time taken: 0.039886s for r=2.200000000000001, K=210\n",
      "Time taken: 0.042881s for r=2.200000000000001, K=310\n",
      "Time taken: 0.04512s for r=2.200000000000001, K=410\n",
      "Time taken: 0.047369s for r=2.200000000000001, K=510\n",
      "Time taken: 0.049046s for r=2.200000000000001, K=610\n",
      "Time taken: 0.050605s for r=2.200000000000001, K=710\n",
      "Time taken: 0.052278s for r=2.200000000000001, K=810\n",
      "Time taken: 0.053386s for r=2.200000000000001, K=910\n"
     ]
    }
   ],
   "source": [
    "timings = []\n",
    "effs = []\n",
    "purs = []\n",
    "\n",
    "start = torch.cuda.Event(enable_timing=True)\n",
    "end = torch.cuda.Event(enable_timing=True)\n",
    "\n",
    "for r in r_list:\n",
    "    for K in K_list:\n",
    "        torch.cuda.synchronize()\n",
    "#         start.record()\n",
    "#         torch.cuda.synchronize()\n",
    "        tic = tt()\n",
    "        dists, idxs, nn, grid = frnn.frnn_grid_points(\n",
    "            points1=spatial.unsqueeze(0), points2=spatial.unsqueeze(0), lengths1=None, lengths2=None, K=K, r=r, grid=None, return_nn=False, return_sorted=True\n",
    "        )\n",
    "\n",
    "        # Remove the unneccessary batch dimension\n",
    "        idxs = idxs.squeeze()\n",
    "\n",
    "        ind = torch.Tensor.repeat(torch.arange(idxs.shape[0], device=device), (idxs.shape[1], 1), 1).T\n",
    "        positive_idxs = idxs >= 0\n",
    "        edge_list = torch.stack([ind[positive_idxs], idxs[positive_idxs]])\n",
    "\n",
    "        # Remove self-loops\n",
    "        e_spatial = edge_list[:, edge_list[0] != edge_list[1]]\n",
    "\n",
    "        torch.cuda.synchronize()\n",
    "#         end.record()\n",
    "#         time = start.elapsed_time(end)\n",
    "        time = tt() - tic\n",
    "        timings.append(time)\n",
    "        \n",
    "        print(f\"Time taken: {time:.5}s for r={r}, K={K}\")\n",
    "        \n",
    "        eff, pur = get_metrics(e_spatial)\n",
    "        effs.append(eff)\n",
    "        purs.append(pur)\n",
    "        torch.cuda.synchronize()"
   ]
  },
  {
   "cell_type": "code",
   "execution_count": 114,
   "metadata": {},
   "outputs": [],
   "source": [
    "timings = np.array(timings).reshape((13, 10))\n",
    "effs = np.array(effs).reshape((13, 10))\n",
    "purs = np.array(purs).reshape((13, 10))"
   ]
  },
  {
   "cell_type": "code",
   "execution_count": 115,
   "metadata": {},
   "outputs": [
    {
     "data": {
      "text/plain": [
       "[Text(69.0, 0.5, 'r (radius)'),\n",
       " Text(0.5, 69.0, 'k (num neighbors)'),\n",
       " Text(0.5, 1.0, 'Timings')]"
      ]
     },
     "execution_count": 115,
     "metadata": {},
     "output_type": "execute_result"
    },
    {
     "data": {
      "image/png": "[encoded data removed]",
      "text/plain": [
       "<Figure size 720x720 with 2 Axes>"
      ]
     },
     "metadata": {
      "needs_background": "light"
     },
     "output_type": "display_data"
    }
   ],
   "source": [
    "plt.figure(figsize=(10,10))\n",
    "ax =sns.heatmap(timings, xticklabels = K_list, yticklabels = np.around(r_list, 1))\n",
    "ax.set(ylabel='r (radius)', xlabel='k (num neighbors)', title=\"Timings\")"
   ]
  },
  {
   "cell_type": "code",
   "execution_count": 122,
   "metadata": {},
   "outputs": [
    {
     "data": {
      "text/plain": [
       "[Text(69.0, 0.5, 'r (radius)'),\n",
       " Text(0.5, 69.0, 'k (num neighbors)'),\n",
       " Text(0.5, 1.0, 'Efficiencies')]"
      ]
     },
     "execution_count": 122,
     "metadata": {},
     "output_type": "execute_result"
    },
    {
     "data": {
      "image/png": "[encoded data removed]",
      "text/plain": [
       "<Figure size 720x720 with 2 Axes>"
      ]
     },
     "metadata": {
      "needs_background": "light"
     },
     "output_type": "display_data"
    }
   ],
   "source": [
    "plt.figure(figsize=(10,10))\n",
    "ax =sns.heatmap(effs, xticklabels = K_list, yticklabels = np.around(r_list, 1))\n",
    "ax.set(ylabel='r (radius)', xlabel='k (num neighbors)', title=\"Efficiencies\")"
   ]
  },
  {
   "cell_type": "code",
   "execution_count": 90,
   "metadata": {},
   "outputs": [
    {
     "data": {
      "text/plain": [
       "[Text(69.0, 0.5, 'r (radius)'),\n",
       " Text(0.5, 69.0, 'k (num neighbors)'),\n",
       " Text(0.5, 1.0, 'Purities')]"
      ]
     },
     "execution_count": 90,
     "metadata": {},
     "output_type": "execute_result"
    },
    {
     "data": {
      "image/png": "[encoded data removed]",
      "text/plain": [
       "<Figure size 720x720 with 2 Axes>"
      ]
     },
     "metadata": {
      "needs_background": "light"
     },
     "output_type": "display_data"
    }
   ],
   "source": [
    "plt.figure(figsize=(10,10))\n",
    "ax =sns.heatmap(purs, xticklabels = K_list, yticklabels = np.around(r_list, 1))\n",
    "ax.set(ylabel='r (radius)', xlabel='k (num neighbors)', title=\"Purities\")"
   ]
  }
 ],
 "metadata": {
  "kernelspec": {
   "display_name": "FRNNTest",
   "language": "python",
   "name": "frnn-test"
  },
  "language_info": {
   "codemirror_mode": {
    "name": "ipython",
    "version": 3
   },
   "file_extension": ".py",
   "mimetype": "text/x-python",
   "name": "python",
   "nbconvert_exporter": "python",
   "pygments_lexer": "ipython3",
   "version": "3.8.10"
  }
 },
 "nbformat": 4,
 "nbformat_minor": 4
}
