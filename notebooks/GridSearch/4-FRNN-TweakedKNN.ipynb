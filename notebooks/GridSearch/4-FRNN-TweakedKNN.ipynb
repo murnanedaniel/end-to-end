{
 "cells": [
  {
   "cell_type": "markdown",
   "metadata": {},
   "source": [
    "# Benchmarking FRNN Performance"
   ]
  },
  {
   "cell_type": "markdown",
   "metadata": {},
   "source": [
    "Explore the techniques described in [this paper](https://reader.elsevier.com/reader/sd/pii/0020019077900709?token=E45C0E1870EA26C21C1F149B6090CE4630A51269D324BE1206B7BF2764FB48B2DDC93F4B86FBFBD8CBDED63B15BBC6DA&originRegion=us-east-1&originCreation=20210428165528)."
   ]
  },
  {
   "cell_type": "code",
   "execution_count": 1,
   "metadata": {},
   "outputs": [],
   "source": [
    "%load_ext autoreload\n",
    "%autoreload 2"
   ]
  },
  {
   "cell_type": "code",
   "execution_count": 2,
   "metadata": {
    "code_folding": []
   },
   "outputs": [],
   "source": [
    "# System imports\n",
    "import os\n",
    "import sys\n",
    "from time import time as tt\n",
    "import importlib\n",
    "\n",
    "# External imports\n",
    "import matplotlib.pyplot as plt\n",
    "import scipy as sp\n",
    "import numpy as np\n",
    "import pandas as pd\n",
    "import seaborn as sns\n",
    "import torch\n",
    "# from torch_geometric.data import DataLoader\n",
    "\n",
    "from itertools import chain\n",
    "from random import shuffle, sample\n",
    "from scipy.optimize import root_scalar as root\n",
    "\n",
    "from torch.nn import Linear\n",
    "import torch.nn.functional as F\n",
    "import trackml.dataset\n",
    "from itertools import permutations\n",
    "import itertools\n",
    "from sklearn import metrics, decomposition\n",
    "from torch.utils.checkpoint import checkpoint\n",
    "\n",
    "import faiss\n",
    "\n",
    "device = \"cuda\" if torch.cuda.is_available() else \"cpu\"\n",
    "\n",
    "exatrkx_pipeline = '/global/homes/d/danieltm/ExaTrkX/Tracking-ML-Exa.TrkX/Pipelines/TrackML_Example'\n",
    "sys.path.append(exatrkx_pipeline)\n",
    "\n",
    "from LightningModules.Embedding.utils import graph_intersection, build_edges\n",
    "\n",
    "%matplotlib inline"
   ]
  },
  {
   "cell_type": "markdown",
   "metadata": {
    "heading_collapsed": true
   },
   "source": [
    "# Load Model and Dataset"
   ]
  },
  {
   "cell_type": "markdown",
   "metadata": {
    "hidden": true
   },
   "source": [
    "Load the lightning module and setup the model to get the dataset"
   ]
  },
  {
   "cell_type": "markdown",
   "metadata": {
    "hidden": true
   },
   "source": [
    "CHANGE THE EXATRKX PIPELINE LOCATION TO YOUR PARTICULAR LOCATION"
   ]
  },
  {
   "cell_type": "code",
   "execution_count": null,
   "metadata": {
    "hidden": true
   },
   "outputs": [
    {
     "name": "stderr",
     "output_type": "stream",
     "text": [
      "[autoreload of torch.serialization failed: Traceback (most recent call last):\n",
      "  File \"/global/homes/d/danieltm/.conda/envs/frnn-test/lib/python3.8/site-packages/IPython/extensions/autoreload.py\", line 245, in check\n",
      "    superreload(m, reload, self.old_objects)\n",
      "  File \"/global/homes/d/danieltm/.conda/envs/frnn-test/lib/python3.8/site-packages/IPython/extensions/autoreload.py\", line 394, in superreload\n",
      "    module = reload(module)\n",
      "  File \"/global/homes/d/danieltm/.conda/envs/frnn-test/lib/python3.8/imp.py\", line 314, in reload\n",
      "    return importlib.reload(module)\n",
      "  File \"/global/homes/d/danieltm/.conda/envs/frnn-test/lib/python3.8/importlib/__init__.py\", line 169, in reload\n",
      "    _bootstrap._exec(spec, module)\n",
      "  File \"<frozen importlib._bootstrap>\", line 604, in _exec\n",
      "  File \"<frozen importlib._bootstrap_external>\", line 848, in exec_module\n",
      "  File \"<frozen importlib._bootstrap>\", line 219, in _call_with_frames_removed\n",
      "  File \"/global/homes/d/danieltm/.conda/envs/frnn-test/lib/python3.8/site-packages/torch/serialization.py\", line 15, in <module>\n",
      "    from torch.types import Storage\n",
      "ImportError: cannot import name 'Storage' from 'torch.types' (/global/homes/d/danieltm/.conda/envs/frnn-test/lib/python3.8/site-packages/torch/types.py)\n",
      "]\n",
      "[autoreload of torch.tensor failed: Traceback (most recent call last):\n",
      "  File \"/global/homes/d/danieltm/.conda/envs/frnn-test/lib/python3.8/site-packages/IPython/extensions/autoreload.py\", line 245, in check\n",
      "    superreload(m, reload, self.old_objects)\n",
      "  File \"/global/homes/d/danieltm/.conda/envs/frnn-test/lib/python3.8/site-packages/IPython/extensions/autoreload.py\", line 394, in superreload\n",
      "    module = reload(module)\n",
      "  File \"/global/homes/d/danieltm/.conda/envs/frnn-test/lib/python3.8/imp.py\", line 314, in reload\n",
      "    return importlib.reload(module)\n",
      "  File \"/global/homes/d/danieltm/.conda/envs/frnn-test/lib/python3.8/importlib/__init__.py\", line 169, in reload\n",
      "    _bootstrap._exec(spec, module)\n",
      "  File \"<frozen importlib._bootstrap>\", line 604, in _exec\n",
      "  File \"<frozen importlib._bootstrap_external>\", line 848, in exec_module\n",
      "  File \"<frozen importlib._bootstrap>\", line 219, in _call_with_frames_removed\n",
      "  File \"/global/homes/d/danieltm/.conda/envs/frnn-test/lib/python3.8/site-packages/torch/tensor.py\", line 40, in <module>\n",
      "    class Tensor(torch._C._TensorBase):\n",
      "  File \"/global/homes/d/danieltm/.conda/envs/frnn-test/lib/python3.8/site-packages/torch/tensor.py\", line 294, in Tensor\n",
      "    detach = _add_docstr(_C._TensorBase.detach, r\"\"\"\n",
      "RuntimeError: method 'detach' already has a docstring\n",
      "]\n"
     ]
    }
   ],
   "source": [
    "exatrkx_pipeline = '/global/homes/d/danieltm/ExaTrkX/Tracking-ML-Exa.TrkX/Pipelines/TrackML_Example'\n",
    "sys.path.append(exatrkx_pipeline)"
   ]
  },
  {
   "cell_type": "code",
   "execution_count": null,
   "metadata": {
    "hidden": true
   },
   "outputs": [],
   "source": [
    "from LightningModules.Embedding.Models.layerless_embedding import LayerlessEmbedding\n",
    "from LightningModules.Embedding.utils import graph_intersection, build_edges"
   ]
  },
  {
   "cell_type": "markdown",
   "metadata": {
    "hidden": true
   },
   "source": [
    "## Load model for inference (if data not already saved)"
   ]
  },
  {
   "cell_type": "markdown",
   "metadata": {
    "hidden": true
   },
   "source": [
    "CHANGE THE CHECKPOINT DIRECTORY TO YOUR PARTICULAR LOCATION"
   ]
  },
  {
   "cell_type": "code",
   "execution_count": 4,
   "metadata": {
    "hidden": true
   },
   "outputs": [],
   "source": [
    "chkpt_dir = \"/global/cscratch1/sd/danieltm/ExaTrkX/lightning_checkpoints/CodaEmbeddingStudy/pbn07koj\"\n",
    "chkpt_file = \"last.ckpt\"\n",
    "chkpt_path = os.path.join(chkpt_dir, chkpt_file)"
   ]
  },
  {
   "cell_type": "code",
   "execution_count": 5,
   "metadata": {
    "hidden": true
   },
   "outputs": [],
   "source": [
    "model = LayerlessEmbedding.load_from_checkpoint(chkpt_path)"
   ]
  },
  {
   "cell_type": "code",
   "execution_count": 6,
   "metadata": {
    "hidden": true
   },
   "outputs": [],
   "source": [
    "model.hparams[\"train_split\"] = [100,10,10]"
   ]
  },
  {
   "cell_type": "code",
   "execution_count": 7,
   "metadata": {
    "hidden": true
   },
   "outputs": [],
   "source": [
    "model.setup(stage=\"fit\")"
   ]
  },
  {
   "cell_type": "code",
   "execution_count": 8,
   "metadata": {
    "hidden": true
   },
   "outputs": [],
   "source": [
    "model = model.to(device)"
   ]
  },
  {
   "cell_type": "markdown",
   "metadata": {},
   "source": [
    "# FRNN Testing"
   ]
  },
  {
   "cell_type": "markdown",
   "metadata": {
    "heading_collapsed": true
   },
   "source": [
    "## Prepare and save input data"
   ]
  },
  {
   "cell_type": "code",
   "execution_count": 82,
   "metadata": {
    "hidden": true
   },
   "outputs": [],
   "source": [
    "batch = model.trainset[0].to(device)\n",
    "with torch.no_grad():\n",
    "    spatial = model(torch.cat([batch.cell_data, batch.x], axis=-1))"
   ]
  },
  {
   "cell_type": "code",
   "execution_count": 87,
   "metadata": {
    "hidden": true
   },
   "outputs": [],
   "source": [
    "batch.spatial = spatial\n",
    "torch.save(batch, \"example_event.pkl\")"
   ]
  },
  {
   "cell_type": "markdown",
   "metadata": {},
   "source": [
    "## Load saved input data"
   ]
  },
  {
   "cell_type": "code",
   "execution_count": 3,
   "metadata": {},
   "outputs": [],
   "source": [
    "batch = torch.load(\"example_event.pkl\")"
   ]
  },
  {
   "cell_type": "code",
   "execution_count": 4,
   "metadata": {},
   "outputs": [],
   "source": [
    "spatial = batch.spatial"
   ]
  },
  {
   "cell_type": "markdown",
   "metadata": {},
   "source": [
    "## Run FRNN algorithm"
   ]
  },
  {
   "cell_type": "code",
   "execution_count": 5,
   "metadata": {},
   "outputs": [],
   "source": [
    "import frnn"
   ]
  },
  {
   "cell_type": "code",
   "execution_count": 22,
   "metadata": {},
   "outputs": [],
   "source": [
    "r = 1.7\n",
    "K = 500"
   ]
  },
  {
   "cell_type": "code",
   "execution_count": 23,
   "metadata": {
    "scrolled": true
   },
   "outputs": [
    {
     "name": "stdout",
     "output_type": "stream",
     "text": [
      "CPU times: user 0 ns, sys: 3.66 ms, total: 3.66 ms\n",
      "Wall time: 3.22 ms\n"
     ]
    }
   ],
   "source": [
    "%%time\n",
    "# first time there is no cached grid\n",
    "dists, idxs, nn, grid = frnn.frnn_grid_points(\n",
    "    points1=spatial.unsqueeze(0), points2=spatial.unsqueeze(0), lengths1=None, lengths2=None, K=K, r=r, grid=None, return_nn=False, return_sorted=True\n",
    ")"
   ]
  },
  {
   "cell_type": "code",
   "execution_count": 25,
   "metadata": {},
   "outputs": [
    {
     "name": "stdout",
     "output_type": "stream",
     "text": [
      "Time taken: 26.757ms\n"
     ]
    }
   ],
   "source": [
    "start = torch.cuda.Event(enable_timing=True)\n",
    "end = torch.cuda.Event(enable_timing=True)\n",
    "\n",
    "start.record()\n",
    "\n",
    "dists, idxs, nn, grid = frnn.frnn_grid_points(\n",
    "    points1=spatial.unsqueeze(0), points2=spatial.unsqueeze(0), lengths1=None, lengths2=None, K=K, r=r, grid=grid, return_nn=False, return_sorted=True\n",
    ")\n",
    "\n",
    "# Remove the unneccessary batch dimension\n",
    "idxs = idxs.squeeze()\n",
    "\n",
    "ind = torch.Tensor.repeat(torch.arange(idxs.shape[0], device=device), (idxs.shape[1], 1), 1).T\n",
    "positive_idxs = idxs >= 0\n",
    "edge_list = torch.stack([ind[positive_idxs], idxs[positive_idxs]])\n",
    "\n",
    "# Remove self-loops\n",
    "e_spatial = edge_list[:, edge_list[0] != edge_list[1]]\n",
    "\n",
    "torch.cuda.synchronize()\n",
    "end.record()\n",
    "time = start.elapsed_time(end)\n",
    "print(f\"Time taken: {time:.5}ms\")"
   ]
  },
  {
   "cell_type": "markdown",
   "metadata": {},
   "source": [
    "## Accuracy Performance"
   ]
  },
  {
   "cell_type": "markdown",
   "metadata": {},
   "source": [
    "Find truth"
   ]
  },
  {
   "cell_type": "code",
   "execution_count": 26,
   "metadata": {},
   "outputs": [],
   "source": [
    "e_bidir = torch.cat([batch.layerless_true_edges, batch.layerless_true_edges.flip(0)], axis=-1) \n",
    "e_spatial, y_cluster = graph_intersection(e_spatial, e_bidir, using_weights=False)"
   ]
  },
  {
   "cell_type": "code",
   "execution_count": 27,
   "metadata": {},
   "outputs": [],
   "source": [
    "t = e_bidir.shape[1]\n",
    "tp = y_cluster.sum()\n",
    "p = e_spatial.shape[1]"
   ]
  },
  {
   "cell_type": "code",
   "execution_count": 28,
   "metadata": {},
   "outputs": [
    {
     "name": "stdout",
     "output_type": "stream",
     "text": [
      "Efficiency: 0.9626750946044922, Purity: 0.025947330519557\n"
     ]
    }
   ],
   "source": [
    "print(f'Efficiency: {tp / t}, Purity: {tp / p}')"
   ]
  },
  {
   "cell_type": "code",
   "execution_count": 35,
   "metadata": {},
   "outputs": [],
   "source": [
    "def get_metrics(e_spatial):\n",
    "    \n",
    "    e_bidir = torch.cat([batch.layerless_true_edges, batch.layerless_true_edges.flip(0)], axis=-1) \n",
    "    e_spatial, y_cluster = graph_intersection(e_spatial, e_bidir, using_weights=False)\n",
    "    \n",
    "    t = e_bidir.shape[1]\n",
    "    tp = y_cluster.sum()\n",
    "    p = e_spatial.shape[1]\n",
    "    \n",
    "    eff, pur = tp/t, tp/p\n",
    "    return eff, pur"
   ]
  },
  {
   "cell_type": "markdown",
   "metadata": {},
   "source": [
    "# Scan over R, K"
   ]
  },
  {
   "cell_type": "markdown",
   "metadata": {},
   "source": [
    "## Scan over R"
   ]
  },
  {
   "cell_type": "code",
   "execution_count": 22,
   "metadata": {},
   "outputs": [],
   "source": [
    "r = 1.7\n",
    "K = 500"
   ]
  },
  {
   "cell_type": "code",
   "execution_count": 44,
   "metadata": {},
   "outputs": [
    {
     "name": "stdout",
     "output_type": "stream",
     "text": [
      "Time taken: 22.616ms\n"
     ]
    }
   ],
   "source": [
    "start = torch.cuda.Event(enable_timing=True)\n",
    "end = torch.cuda.Event(enable_timing=True)\n",
    "\n",
    "start.record()\n",
    "\n",
    "dists, idxs, nn, grid = frnn.frnn_grid_points(\n",
    "    points1=spatial.unsqueeze(0), points2=spatial.unsqueeze(0), lengths1=None, lengths2=None, K=K, r=r, grid=grid, return_nn=False, return_sorted=True\n",
    ")\n",
    "\n",
    "# Remove the unneccessary batch dimension\n",
    "idxs = idxs.squeeze()\n",
    "\n",
    "ind = torch.Tensor.repeat(torch.arange(idxs.shape[0], device=device), (idxs.shape[1], 1), 1).T\n",
    "positive_idxs = idxs >= 0\n",
    "edge_list = torch.stack([ind[positive_idxs], idxs[positive_idxs]])\n",
    "\n",
    "# Remove self-loops\n",
    "e_spatial = edge_list[:, edge_list[0] != edge_list[1]]\n",
    "\n",
    "torch.cuda.synchronize()\n",
    "end.record()\n",
    "time = start.elapsed_time(end)\n",
    "print(f\"Time taken: {time:.5}ms\")"
   ]
  },
  {
   "cell_type": "markdown",
   "metadata": {},
   "source": [
    "## Scan over R*K"
   ]
  },
  {
   "cell_type": "code",
   "execution_count": 81,
   "metadata": {},
   "outputs": [],
   "source": [
    "r_list = np.arange(1, 2.2, 0.1)\n",
    "K_list = np.arange(10, 1000, 100)"
   ]
  },
  {
   "cell_type": "code",
   "execution_count": 82,
   "metadata": {
    "scrolled": true
   },
   "outputs": [
    {
     "name": "stdout",
     "output_type": "stream",
     "text": [
      "Time taken: 0.021738s for r=1.0, K=10\n",
      "Time taken: 0.022358s for r=1.0, K=110\n",
      "Time taken: 0.022914s for r=1.0, K=210\n",
      "Time taken: 0.023666s for r=1.0, K=310\n",
      "Time taken: 0.024047s for r=1.0, K=410\n",
      "Time taken: 0.024658s for r=1.0, K=510\n",
      "Time taken: 0.025182s for r=1.0, K=610\n",
      "Time taken: 0.025573s for r=1.0, K=710\n",
      "Time taken: 0.025994s for r=1.0, K=810\n",
      "Time taken: 0.027021s for r=1.0, K=910\n",
      "Time taken: 0.026039s for r=1.1, K=10\n",
      "Time taken: 0.026146s for r=1.1, K=110\n",
      "Time taken: 0.026519s for r=1.1, K=210\n",
      "Time taken: 0.02715s for r=1.1, K=310\n",
      "Time taken: 0.028001s for r=1.1, K=410\n",
      "Time taken: 0.028743s for r=1.1, K=510\n",
      "Time taken: 0.02936s for r=1.1, K=610\n",
      "Time taken: 0.03027s for r=1.1, K=710\n",
      "Time taken: 0.031438s for r=1.1, K=810\n",
      "Time taken: 0.030946s for r=1.1, K=910\n",
      "Time taken: 0.028278s for r=1.2000000000000002, K=10\n",
      "Time taken: 0.029022s for r=1.2000000000000002, K=110\n",
      "Time taken: 0.030064s for r=1.2000000000000002, K=210\n",
      "Time taken: 0.030327s for r=1.2000000000000002, K=310\n",
      "Time taken: 0.030965s for r=1.2000000000000002, K=410\n",
      "Time taken: 0.031636s for r=1.2000000000000002, K=510\n",
      "Time taken: 0.032211s for r=1.2000000000000002, K=610\n",
      "Time taken: 0.032777s for r=1.2000000000000002, K=710\n",
      "Time taken: 0.033306s for r=1.2000000000000002, K=810\n",
      "Time taken: 0.033986s for r=1.2000000000000002, K=910\n",
      "Time taken: 0.034912s for r=1.3000000000000003, K=10\n",
      "Time taken: 0.035939s for r=1.3000000000000003, K=110\n",
      "Time taken: 0.036554s for r=1.3000000000000003, K=210\n",
      "Time taken: 0.036401s for r=1.3000000000000003, K=310\n",
      "Time taken: 0.037318s for r=1.3000000000000003, K=410\n",
      "Time taken: 0.037538s for r=1.3000000000000003, K=510\n",
      "Time taken: 0.038596s for r=1.3000000000000003, K=610\n",
      "Time taken: 0.039013s for r=1.3000000000000003, K=710\n",
      "Time taken: 0.040023s for r=1.3000000000000003, K=810\n",
      "Time taken: 0.041109s for r=1.3000000000000003, K=910\n",
      "Time taken: 0.037235s for r=1.4000000000000004, K=10\n",
      "Time taken: 0.038873s for r=1.4000000000000004, K=110\n",
      "Time taken: 0.039631s for r=1.4000000000000004, K=210\n",
      "Time taken: 0.039872s for r=1.4000000000000004, K=310\n",
      "Time taken: 0.042221s for r=1.4000000000000004, K=410\n",
      "Time taken: 0.043082s for r=1.4000000000000004, K=510\n",
      "Time taken: 0.043138s for r=1.4000000000000004, K=610\n",
      "Time taken: 0.043818s for r=1.4000000000000004, K=710\n",
      "Time taken: 0.044287s for r=1.4000000000000004, K=810\n",
      "Time taken: 0.045516s for r=1.4000000000000004, K=910\n",
      "Time taken: 0.036453s for r=1.5000000000000004, K=10\n",
      "Time taken: 0.038441s for r=1.5000000000000004, K=110\n",
      "Time taken: 0.039513s for r=1.5000000000000004, K=210\n",
      "Time taken: 0.040298s for r=1.5000000000000004, K=310\n",
      "Time taken: 0.041136s for r=1.5000000000000004, K=410\n",
      "Time taken: 0.040969s for r=1.5000000000000004, K=510\n",
      "Time taken: 0.042371s for r=1.5000000000000004, K=610\n",
      "Time taken: 0.043994s for r=1.5000000000000004, K=710\n",
      "Time taken: 0.042496s for r=1.5000000000000004, K=810\n",
      "Time taken: 0.043327s for r=1.5000000000000004, K=910\n",
      "Time taken: 0.0323s for r=1.6000000000000005, K=10\n",
      "Time taken: 0.036544s for r=1.6000000000000005, K=110\n",
      "Time taken: 0.037399s for r=1.6000000000000005, K=210\n",
      "Time taken: 0.037051s for r=1.6000000000000005, K=310\n",
      "Time taken: 0.038137s for r=1.6000000000000005, K=410\n",
      "Time taken: 0.039064s for r=1.6000000000000005, K=510\n",
      "Time taken: 0.040076s for r=1.6000000000000005, K=610\n",
      "Time taken: 0.040441s for r=1.6000000000000005, K=710\n",
      "Time taken: 0.04079s for r=1.6000000000000005, K=810\n",
      "Time taken: 0.041318s for r=1.6000000000000005, K=910\n",
      "Time taken: 0.02039s for r=1.7000000000000006, K=10\n",
      "Time taken: 0.023448s for r=1.7000000000000006, K=110\n",
      "Time taken: 0.024849s for r=1.7000000000000006, K=210\n",
      "Time taken: 0.025733s for r=1.7000000000000006, K=310\n",
      "Time taken: 0.026436s for r=1.7000000000000006, K=410\n",
      "Time taken: 0.027145s for r=1.7000000000000006, K=510\n",
      "Time taken: 0.027638s for r=1.7000000000000006, K=610\n",
      "Time taken: 0.028296s for r=1.7000000000000006, K=710\n",
      "Time taken: 0.028512s for r=1.7000000000000006, K=810\n",
      "Time taken: 0.029299s for r=1.7000000000000006, K=910\n",
      "Time taken: 0.046899s for r=1.8000000000000007, K=10\n",
      "Time taken: 0.04784s for r=1.8000000000000007, K=110\n",
      "Time taken: 0.051772s for r=1.8000000000000007, K=210\n",
      "Time taken: 0.052973s for r=1.8000000000000007, K=310\n",
      "Time taken: 0.053291s for r=1.8000000000000007, K=410\n",
      "Time taken: 0.053042s for r=1.8000000000000007, K=510\n",
      "Time taken: 0.054612s for r=1.8000000000000007, K=610\n",
      "Time taken: 0.055099s for r=1.8000000000000007, K=710\n",
      "Time taken: 0.055722s for r=1.8000000000000007, K=810\n",
      "Time taken: 0.05515s for r=1.8000000000000007, K=910\n",
      "Time taken: 0.056594s for r=1.9000000000000008, K=10\n",
      "Time taken: 0.060437s for r=1.9000000000000008, K=110\n",
      "Time taken: 0.062477s for r=1.9000000000000008, K=210\n",
      "Time taken: 0.064162s for r=1.9000000000000008, K=310\n",
      "Time taken: 0.066186s for r=1.9000000000000008, K=410\n",
      "Time taken: 0.060174s for r=1.9000000000000008, K=510\n",
      "Time taken: 0.059312s for r=1.9000000000000008, K=610\n",
      "Time taken: 0.060035s for r=1.9000000000000008, K=710\n",
      "Time taken: 0.059904s for r=1.9000000000000008, K=810\n",
      "Time taken: 0.059529s for r=1.9000000000000008, K=910\n",
      "Time taken: 0.052555s for r=2.000000000000001, K=10\n",
      "Time taken: 0.057029s for r=2.000000000000001, K=110\n",
      "Time taken: 0.05964s for r=2.000000000000001, K=210\n",
      "Time taken: 0.061055s for r=2.000000000000001, K=310\n",
      "Time taken: 0.06323s for r=2.000000000000001, K=410\n",
      "Time taken: 0.06515s for r=2.000000000000001, K=510\n",
      "Time taken: 0.066027s for r=2.000000000000001, K=610\n",
      "Time taken: 0.066823s for r=2.000000000000001, K=710\n",
      "Time taken: 0.066859s for r=2.000000000000001, K=810\n",
      "Time taken: 0.076409s for r=2.000000000000001, K=910\n",
      "Time taken: 0.054461s for r=2.100000000000001, K=10\n",
      "Time taken: 0.058714s for r=2.100000000000001, K=110\n",
      "Time taken: 0.062352s for r=2.100000000000001, K=210\n",
      "Time taken: 0.064089s for r=2.100000000000001, K=310\n",
      "Time taken: 0.066504s for r=2.100000000000001, K=410\n",
      "Time taken: 0.067835s for r=2.100000000000001, K=510\n",
      "Time taken: 0.069781s for r=2.100000000000001, K=610\n",
      "Time taken: 0.070531s for r=2.100000000000001, K=710\n",
      "Time taken: 0.070835s for r=2.100000000000001, K=810\n",
      "Time taken: 0.072422s for r=2.100000000000001, K=910\n",
      "Time taken: 0.058153s for r=2.200000000000001, K=10\n",
      "Time taken: 0.061832s for r=2.200000000000001, K=110\n",
      "Time taken: 0.065348s for r=2.200000000000001, K=210\n",
      "Time taken: 0.06942s for r=2.200000000000001, K=310\n",
      "Time taken: 0.069587s for r=2.200000000000001, K=410\n",
      "Time taken: 0.072904s for r=2.200000000000001, K=510\n",
      "Time taken: 0.074634s for r=2.200000000000001, K=610\n",
      "Time taken: 0.085907s for r=2.200000000000001, K=710\n",
      "Time taken: 0.080134s for r=2.200000000000001, K=810\n",
      "Time taken: 0.077537s for r=2.200000000000001, K=910\n"
     ]
    }
   ],
   "source": [
    "timings = []\n",
    "effs = []\n",
    "purs = []\n",
    "\n",
    "start = torch.cuda.Event(enable_timing=True)\n",
    "end = torch.cuda.Event(enable_timing=True)\n",
    "\n",
    "for r in r_list:\n",
    "    for K in K_list:\n",
    "        torch.cuda.synchronize()\n",
    "#         start.record()\n",
    "#         torch.cuda.synchronize()\n",
    "        tic = tt()\n",
    "        dists, idxs, nn, grid = frnn.frnn_grid_points(\n",
    "            points1=spatial.unsqueeze(0), points2=spatial.unsqueeze(0), lengths1=None, lengths2=None, K=K, r=r, grid=grid, return_nn=False, return_sorted=True\n",
    "        )\n",
    "\n",
    "        # Remove the unneccessary batch dimension\n",
    "        idxs = idxs.squeeze()\n",
    "\n",
    "        ind = torch.Tensor.repeat(torch.arange(idxs.shape[0], device=device), (idxs.shape[1], 1), 1).T\n",
    "        positive_idxs = idxs >= 0\n",
    "        edge_list = torch.stack([ind[positive_idxs], idxs[positive_idxs]])\n",
    "\n",
    "        # Remove self-loops\n",
    "        e_spatial = edge_list[:, edge_list[0] != edge_list[1]]\n",
    "\n",
    "        torch.cuda.synchronize()\n",
    "#         end.record()\n",
    "#         time = start.elapsed_time(end)\n",
    "        time = tt() - tic\n",
    "        timings.append(time)\n",
    "        \n",
    "        print(f\"Time taken: {time:.5}s for r={r}, K={K}\")\n",
    "        \n",
    "        eff, pur = get_metrics(e_spatial)\n",
    "        effs.append(eff)\n",
    "        purs.append(pur)\n",
    "        torch.cuda.synchronize()"
   ]
  },
  {
   "cell_type": "code",
   "execution_count": 83,
   "metadata": {},
   "outputs": [],
   "source": [
    "timings = np.array(timings).reshape((13, 10))\n",
    "effs = np.array(effs).reshape((13, 10))\n",
    "purs = np.array(purs).reshape((13, 10))"
   ]
  },
  {
   "cell_type": "code",
   "execution_count": 85,
   "metadata": {},
   "outputs": [
    {
     "data": {
      "text/plain": [
       "[Text(0.5, 69.0, 'r (radius)'),\n",
       " Text(69.0, 0.5, 'k (num neighbors)'),\n",
       " Text(0.5, 1.0, 'Timings')]"
      ]
     },
     "execution_count": 85,
     "metadata": {},
     "output_type": "execute_result"
    },
    {
     "data": {
      "image/png": "[encoded data removed]",
      "text/plain": [
       "<Figure size 720x720 with 2 Axes>"
      ]
     },
     "metadata": {
      "needs_background": "light"
     },
     "output_type": "display_data"
    }
   ],
   "source": [
    "plt.figure(figsize=(10,10))\n",
    "ax =sns.heatmap(timings, xticklabels = K_list, yticklabels = np.around(r_list, 1))\n",
    "ax.set(xlabel='r (radius)', xlabel='k (num neighbors)', title=\"Timings\")"
   ]
  },
  {
   "cell_type": "code",
   "execution_count": 86,
   "metadata": {},
   "outputs": [
    {
     "data": {
      "text/plain": [
       "[Text(0.5, 69.0, 'r (radius)'),\n",
       " Text(69.0, 0.5, 'k (num neighbors)'),\n",
       " Text(0.5, 1.0, 'Efficiencies')]"
      ]
     },
     "execution_count": 86,
     "metadata": {},
     "output_type": "execute_result"
    },
    {
     "data": {
      "image/png": "[encoded data removed]",
      "text/plain": [
       "<Figure size 720x720 with 2 Axes>"
      ]
     },
     "metadata": {
      "needs_background": "light"
     },
     "output_type": "display_data"
    }
   ],
   "source": [
    "plt.figure(figsize=(10,10))\n",
    "ax =sns.heatmap(effs, xticklabels = K_list, yticklabels = np.around(r_list, 1))\n",
    "ax.set(xlabel='r (radius)', ylabel='k (num neighbors)', title=\"Efficiencies\")"
   ]
  },
  {
   "cell_type": "code",
   "execution_count": 87,
   "metadata": {},
   "outputs": [
    {
     "data": {
      "text/plain": [
       "[Text(0.5, 69.0, 'r (radius)'),\n",
       " Text(69.0, 0.5, 'k (num neighbors)'),\n",
       " Text(0.5, 1.0, 'Purities')]"
      ]
     },
     "execution_count": 87,
     "metadata": {},
     "output_type": "execute_result"
    },
    {
     "data": {
      "image/png": "[encoded data removed]",
      "text/plain": [
       "<Figure size 720x720 with 2 Axes>"
      ]
     },
     "metadata": {
      "needs_background": "light"
     },
     "output_type": "display_data"
    }
   ],
   "source": [
    "plt.figure(figsize=(10,10))\n",
    "ax =sns.heatmap(purs, xticklabels = K_list, yticklabels = np.around(r_list, 1))\n",
    "ax.set(xlabel='r (radius)', ylabel='k (num neighbors)', title=\"Purities\")"
   ]
  },
  {
   "cell_type": "markdown",
   "metadata": {
    "heading_collapsed": true
   },
   "source": [
    "# FAISS Compare"
   ]
  },
  {
   "cell_type": "code",
   "execution_count": 74,
   "metadata": {
    "hidden": true
   },
   "outputs": [],
   "source": [
    "import faiss\n",
    "import torch\n",
    "import faiss.contrib.torch_utils"
   ]
  },
  {
   "cell_type": "code",
   "execution_count": 113,
   "metadata": {
    "hidden": true
   },
   "outputs": [
    {
     "name": "stdout",
     "output_type": "stream",
     "text": [
      "Time taken: 386.58ms\n"
     ]
    }
   ],
   "source": [
    "start = torch.cuda.Event(enable_timing=True)\n",
    "end = torch.cuda.Event(enable_timing=True)\n",
    "\n",
    "start.record()\n",
    "\n",
    "res = faiss.StandardGpuResources()\n",
    "D, I = faiss.knn_gpu(res, spatial, spatial, K)\n",
    "\n",
    "ind = torch.Tensor.repeat(\n",
    "    torch.arange(I.shape[0], device=device), (I.shape[1], 1), 1\n",
    ").T\n",
    "edge_truth = torch.stack([ind[D <= r ** 2], I[D <= r ** 2]])\n",
    "\n",
    "# Remove self-loops\n",
    "e_spatial = edge_truth[:, edge_truth[0] != edge_truth[1]]\n",
    "\n",
    "torch.cuda.synchronize()\n",
    "end.record()\n",
    "time = start.elapsed_time(end)\n",
    "print(f\"Time taken: {time:.5}ms\")"
   ]
  },
  {
   "cell_type": "markdown",
   "metadata": {
    "heading_collapsed": true
   },
   "source": [
    "# Tweaking FRNN Library"
   ]
  },
  {
   "cell_type": "markdown",
   "metadata": {
    "hidden": true
   },
   "source": [
    "## Generate Data"
   ]
  },
  {
   "cell_type": "code",
   "execution_count": 6,
   "metadata": {
    "hidden": true
   },
   "outputs": [],
   "source": [
    "import frnn"
   ]
  },
  {
   "cell_type": "code",
   "execution_count": 7,
   "metadata": {
    "hidden": true
   },
   "outputs": [],
   "source": [
    "N = 100000\n",
    "d = 8\n",
    "spatial = torch.rand(N, d).to(device)"
   ]
  },
  {
   "cell_type": "code",
   "execution_count": 8,
   "metadata": {
    "hidden": true
   },
   "outputs": [],
   "source": [
    "r = 0.4\n",
    "K = 500"
   ]
  },
  {
   "cell_type": "markdown",
   "metadata": {
    "heading_collapsed": true,
    "hidden": true
   },
   "source": [
    "### Sorted"
   ]
  },
  {
   "cell_type": "code",
   "execution_count": 73,
   "metadata": {
    "hidden": true,
    "scrolled": true
   },
   "outputs": [
    {
     "name": "stdout",
     "output_type": "stream",
     "text": [
      "Time taken: 1312.5ms\n"
     ]
    }
   ],
   "source": [
    "start = torch.cuda.Event(enable_timing=True)\n",
    "end = torch.cuda.Event(enable_timing=True)\n",
    "\n",
    "start.record()\n",
    "\n",
    "# first time there is no cached grid\n",
    "dists, idxs, nn, grid = frnn.frnn_grid_points(\n",
    "    points1=spatial.unsqueeze(0), points2=spatial.unsqueeze(0), lengths1=None, lengths2=None, K=K, r=r, grid=None, return_nn=False, return_sorted=True\n",
    ")\n",
    "\n",
    "torch.cuda.synchronize()\n",
    "end.record()\n",
    "time = start.elapsed_time(end)\n",
    "print(f\"Time taken: {time:.5}ms\")"
   ]
  },
  {
   "cell_type": "code",
   "execution_count": 74,
   "metadata": {
    "hidden": true
   },
   "outputs": [
    {
     "name": "stdout",
     "output_type": "stream",
     "text": [
      "Time taken: 1291.1ms\n"
     ]
    }
   ],
   "source": [
    "start = torch.cuda.Event(enable_timing=True)\n",
    "end = torch.cuda.Event(enable_timing=True)\n",
    "\n",
    "start.record()\n",
    "\n",
    "dists, idxs, nn, grid = frnn.frnn_grid_points(\n",
    "    points1=spatial.unsqueeze(0), points2=spatial.unsqueeze(0), lengths1=None, lengths2=None, K=K, r=r, grid=grid, return_nn=False, return_sorted=True\n",
    ")\n",
    "\n",
    "torch.cuda.synchronize()\n",
    "end.record()\n",
    "time = start.elapsed_time(end)\n",
    "print(f\"Time taken: {time:.5}ms\")"
   ]
  },
  {
   "cell_type": "markdown",
   "metadata": {
    "heading_collapsed": true,
    "hidden": true
   },
   "source": [
    "### Unsorted"
   ]
  },
  {
   "cell_type": "code",
   "execution_count": 6,
   "metadata": {
    "hidden": true,
    "scrolled": true
   },
   "outputs": [
    {
     "name": "stdout",
     "output_type": "stream",
     "text": [
      "Time taken: 216.5ms\n"
     ]
    }
   ],
   "source": [
    "start = torch.cuda.Event(enable_timing=True)\n",
    "end = torch.cuda.Event(enable_timing=True)\n",
    "\n",
    "start.record()\n",
    "\n",
    "# first time there is no cached grid\n",
    "dists, idxs, nn, grid = frnn.frnn_grid_points(\n",
    "    points1=spatial.unsqueeze(0), points2=spatial.unsqueeze(0), lengths1=None, lengths2=None, K=K, r=r, grid=None, return_nn=False, return_sorted=True\n",
    ")\n",
    "\n",
    "torch.cuda.synchronize()\n",
    "end.record()\n",
    "time = start.elapsed_time(end)\n",
    "print(f\"Time taken: {time:.5}ms\")"
   ]
  },
  {
   "cell_type": "code",
   "execution_count": 7,
   "metadata": {
    "hidden": true
   },
   "outputs": [
    {
     "name": "stdout",
     "output_type": "stream",
     "text": [
      "Time taken: 202.67ms\n"
     ]
    }
   ],
   "source": [
    "start = torch.cuda.Event(enable_timing=True)\n",
    "end = torch.cuda.Event(enable_timing=True)\n",
    "\n",
    "start.record()\n",
    "\n",
    "dists, idxs, nn, grid = frnn.frnn_grid_points(\n",
    "    points1=spatial.unsqueeze(0), points2=spatial.unsqueeze(0), lengths1=None, lengths2=None, K=K, r=r, grid=grid, return_nn=False, return_sorted=True\n",
    ")\n",
    "\n",
    "torch.cuda.synchronize()\n",
    "end.record()\n",
    "time = start.elapsed_time(end)\n",
    "print(f\"Time taken: {time:.5}ms\")"
   ]
  },
  {
   "cell_type": "markdown",
   "metadata": {
    "heading_collapsed": true,
    "hidden": true
   },
   "source": [
    "### No KNN"
   ]
  },
  {
   "cell_type": "code",
   "execution_count": 69,
   "metadata": {
    "hidden": true,
    "scrolled": true
   },
   "outputs": [
    {
     "name": "stdout",
     "output_type": "stream",
     "text": [
      "Time taken: 55.207ms\n"
     ]
    }
   ],
   "source": [
    "start = torch.cuda.Event(enable_timing=True)\n",
    "end = torch.cuda.Event(enable_timing=True)\n",
    "\n",
    "start.record()\n",
    "\n",
    "# first time there is no cached grid\n",
    "dists, idxs, nn, grid = frnn.frnn_grid_points(\n",
    "    points1=spatial.unsqueeze(0), points2=spatial.unsqueeze(0), lengths1=None, lengths2=None, K=K, r=r, grid=None, return_nn=False, return_sorted=True\n",
    ")\n",
    "\n",
    "torch.cuda.synchronize()\n",
    "end.record()\n",
    "time = start.elapsed_time(end)\n",
    "print(f\"Time taken: {time:.5}ms\")"
   ]
  },
  {
   "cell_type": "code",
   "execution_count": 70,
   "metadata": {
    "hidden": true
   },
   "outputs": [
    {
     "name": "stdout",
     "output_type": "stream",
     "text": [
      "Time taken: 54.697ms\n"
     ]
    }
   ],
   "source": [
    "start = torch.cuda.Event(enable_timing=True)\n",
    "end = torch.cuda.Event(enable_timing=True)\n",
    "\n",
    "start.record()\n",
    "\n",
    "dists, idxs, nn, grid = frnn.frnn_grid_points(\n",
    "    points1=spatial.unsqueeze(0), points2=spatial.unsqueeze(0), lengths1=None, lengths2=None, K=K, r=r, grid=grid, return_nn=False, return_sorted=True\n",
    ")\n",
    "\n",
    "torch.cuda.synchronize()\n",
    "end.record()\n",
    "time = start.elapsed_time(end)\n",
    "print(f\"Time taken: {time:.5}ms\")"
   ]
  },
  {
   "cell_type": "markdown",
   "metadata": {
    "heading_collapsed": true
   },
   "source": [
    "# FAISS vs FRNN"
   ]
  },
  {
   "cell_type": "markdown",
   "metadata": {
    "hidden": true
   },
   "source": [
    "### FRNN"
   ]
  },
  {
   "cell_type": "code",
   "execution_count": 13,
   "metadata": {
    "hidden": true,
    "scrolled": true
   },
   "outputs": [
    {
     "name": "stdout",
     "output_type": "stream",
     "text": [
      "PC2 Grid Off: tensor([[    0,   769,  1561,  2373,  3164,  3958,  4683,  5453,  6253,  7067,\n",
      "          7880,  8689,  9444, 10262, 11047, 11816, 12575, 13327, 14099, 14877,\n",
      "         15662, 16505, 17311, 18184, 19016, 19807, 20544, 21323, 22165, 22971,\n",
      "         23740, 24534, 25293, 26078, 26863, 27658, 28468, 29296, 30101, 30956,\n",
      "         31747, 32525, 33307, 34093, 34981, 35734, 36558, 37289, 38057, 38859,\n",
      "         39676, 40519, 41318, 42167, 42997, 43767, 44595, 45380, 46197, 47001,\n",
      "         47777, 48581, 49401, 50200, 51001, 51836, 52624, 53430, 54179, 54951,\n",
      "         55744, 56565, 57368, 58163, 59017, 59798, 60656, 61466, 62262, 63047,\n",
      "         63868, 64674, 65527, 66332, 67143, 67956, 68743, 69583, 70415, 71238,\n",
      "         72072, 72897, 73738, 74565, 75324, 76108, 76925, 77746, 78570, 79359,\n",
      "         80136, 80945, 81779, 82566, 83325, 84087, 84894, 85681, 86496, 87305,\n",
      "         88144, 88976, 89807, 90596, 91377, 92150, 92954, 93741, 94585, 95338,\n",
      "         96077, 96826, 97637, 98431, 99225]], device='cuda:0',\n",
      "       dtype=torch.int32)\n",
      "Time taken: 43.23ms\n"
     ]
    }
   ],
   "source": [
    "start = torch.cuda.Event(enable_timing=True)\n",
    "end = torch.cuda.Event(enable_timing=True)\n",
    "\n",
    "start.record()\n",
    "\n",
    "# first time there is no cached grid\n",
    "dists, idxs, nn, grid = frnn.frnn_grid_points(\n",
    "    points1=spatial.unsqueeze(0), points2=spatial.unsqueeze(0), lengths1=None, lengths2=None, K=K, r=r, grid=None, return_nn=False, return_sorted=True\n",
    ")\n",
    "\n",
    "torch.cuda.synchronize()\n",
    "end.record()\n",
    "time = start.elapsed_time(end)\n",
    "print(f\"Time taken: {time:.5}ms\")"
   ]
  },
  {
   "cell_type": "code",
   "execution_count": 14,
   "metadata": {
    "hidden": true
   },
   "outputs": [
    {
     "name": "stdout",
     "output_type": "stream",
     "text": [
      "CPU times: user 4.15 ms, sys: 4.22 ms, total: 8.37 ms\n",
      "Wall time: 6.86 ms\n"
     ]
    }
   ],
   "source": [
    "%%time\n",
    "idxs = idxs.squeeze()\n",
    "ind = torch.Tensor.repeat(torch.arange(idxs.shape[0], device=device), (idxs.shape[1], 1), 1).T\n",
    "positive_idxs = idxs >= 0\n",
    "edge_list = torch.stack([ind[positive_idxs], idxs[positive_idxs]])\n",
    "\n",
    "# Remove self-loops\n",
    "edge_pred = edge_list[:, edge_list[0] != edge_list[1]]"
   ]
  },
  {
   "cell_type": "markdown",
   "metadata": {
    "hidden": true
   },
   "source": [
    "### FAISS"
   ]
  },
  {
   "cell_type": "code",
   "execution_count": 24,
   "metadata": {
    "hidden": true
   },
   "outputs": [
    {
     "name": "stdout",
     "output_type": "stream",
     "text": [
      "Time taken: 512.49ms\n"
     ]
    }
   ],
   "source": [
    "start = torch.cuda.Event(enable_timing=True)\n",
    "end = torch.cuda.Event(enable_timing=True)\n",
    "\n",
    "start.record()\n",
    "\n",
    "res = faiss.StandardGpuResources()\n",
    "D, I = faiss.knn_gpu(res, spatial, spatial, K)\n",
    "\n",
    "torch.cuda.synchronize()\n",
    "end.record()\n",
    "time = start.elapsed_time(end)\n",
    "print(f\"Time taken: {time:.5}ms\")"
   ]
  },
  {
   "cell_type": "code",
   "execution_count": 25,
   "metadata": {
    "hidden": true
   },
   "outputs": [
    {
     "name": "stdout",
     "output_type": "stream",
     "text": [
      "CPU times: user 9.82 ms, sys: 7.63 ms, total: 17.5 ms\n",
      "Wall time: 17.6 ms\n"
     ]
    }
   ],
   "source": [
    "%%time\n",
    "ind = torch.Tensor.repeat(\n",
    "    torch.arange(I.shape[0], device=device), (I.shape[1], 1), 1\n",
    ").T\n",
    "edge_truth = torch.stack([ind[D <= r ** 2], I[D <= r ** 2]])\n",
    "\n",
    "# Remove self-loops\n",
    "edge_truth = edge_truth[:, edge_truth[0] != edge_truth[1]]"
   ]
  },
  {
   "cell_type": "markdown",
   "metadata": {
    "hidden": true
   },
   "source": [
    "### Compare Perf"
   ]
  },
  {
   "cell_type": "code",
   "execution_count": 26,
   "metadata": {
    "hidden": true
   },
   "outputs": [],
   "source": [
    "edge_pred, y_cluster = graph_intersection(edge_pred, edge_truth, using_weights=False)"
   ]
  },
  {
   "cell_type": "code",
   "execution_count": 27,
   "metadata": {
    "hidden": true
   },
   "outputs": [],
   "source": [
    "t = edge_truth.shape[1]\n",
    "tp = y_cluster.sum().item()\n",
    "p = edge_pred.shape[1]"
   ]
  },
  {
   "cell_type": "code",
   "execution_count": 28,
   "metadata": {
    "hidden": true
   },
   "outputs": [
    {
     "name": "stdout",
     "output_type": "stream",
     "text": [
      "Efficiency: 0.9999970670879795, Purity: 0.999998166927971\n"
     ]
    }
   ],
   "source": [
    "print(f'Efficiency: {tp / t}, Purity: {tp / p}')"
   ]
  },
  {
   "cell_type": "code",
   "execution_count": null,
   "metadata": {
    "hidden": true
   },
   "outputs": [],
   "source": []
  }
 ],
 "metadata": {
  "kernelspec": {
   "display_name": "FRNNTest",
   "language": "python",
   "name": "frnn-test"
  },
  "language_info": {
   "codemirror_mode": {
    "name": "ipython",
    "version": 3
   },
   "file_extension": ".py",
   "mimetype": "text/x-python",
   "name": "python",
   "nbconvert_exporter": "python",
   "pygments_lexer": "ipython3",
   "version": "3.8.10"
  }
 },
 "nbformat": 4,
 "nbformat_minor": 4
}
