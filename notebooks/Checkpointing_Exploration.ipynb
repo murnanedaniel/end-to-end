{
 "cells": [
  {
   "cell_type": "markdown",
   "metadata": {},
   "source": [
    "# Memory Impact from Checkpointing"
   ]
  },
  {
   "cell_type": "code",
   "execution_count": 1,
   "metadata": {
    "code_folding": []
   },
   "outputs": [],
   "source": [
    "# System imports\n",
    "import os\n",
    "import sys\n",
    "from pprint import pprint as pp\n",
    "from time import time as tt\n",
    "\n",
    "# External imports\n",
    "import matplotlib.pyplot as plt\n",
    "import matplotlib.colors\n",
    "import scipy as sp\n",
    "import numpy as np\n",
    "import pandas as pd\n",
    "import torch\n",
    "from torch_geometric.data import DataLoader\n",
    "from torch_scatter import scatter_add\n",
    "\n",
    "from torch.nn import Linear\n",
    "import torch.nn.functional as F\n",
    "from torch_scatter import scatter, segment_csr, scatter_add\n",
    "from torch_geometric.nn.conv import MessagePassing\n",
    "from torch_cluster import knn_graph, radius_graph\n",
    "import trackml.dataset\n",
    "import torch_geometric\n",
    "\n",
    "from torch.utils.checkpoint import checkpoint\n",
    "\n",
    "# Pick up local packages\n",
    "sys.path.append('..')\n",
    "\n",
    "# Local imports\n",
    "from prepare_utils import *\n",
    "from performance_utils import *\n",
    "from toy_utils import *\n",
    "from models import *\n",
    "from trainers import *\n",
    "%matplotlib inline\n",
    "\n",
    "# Get rid of RuntimeWarnings, gross\n",
    "import warnings\n",
    "warnings.filterwarnings(\"ignore\", category=RuntimeWarning)\n",
    "device = 'cuda' if torch.cuda.is_available() else 'cpu'\n",
    "import wandb\n",
    "import faiss\n",
    "props = dict(boxstyle='round', facecolor='wheat', alpha=0.5)\n",
    "torch_seed = 0"
   ]
  },
  {
   "cell_type": "code",
   "execution_count": 10,
   "metadata": {},
   "outputs": [],
   "source": [
    "importlib.reload(sys.modules['toy_utils'])\n",
    "from toy_utils import *"
   ]
  },
  {
   "cell_type": "code",
   "execution_count": 43,
   "metadata": {},
   "outputs": [],
   "source": [
    "importlib.reload(sys.modules['models'])\n",
    "from models import *"
   ]
  },
  {
   "cell_type": "markdown",
   "metadata": {},
   "source": [
    "## Data Preparation"
   ]
  },
  {
   "cell_type": "markdown",
   "metadata": {},
   "source": [
    "### Load Scrubbed Filter-ready Events"
   ]
  },
  {
   "cell_type": "code",
   "execution_count": 2,
   "metadata": {},
   "outputs": [],
   "source": [
    "pt_cut = 0.5\n",
    "train_number = 1000\n",
    "test_number = 100\n",
    "load_dir = \"/global/cscratch1/sd/danieltm/ExaTrkX/trackml_processed/filter_processed/\"\n",
    "basename = os.path.join(load_dir, str(pt_cut) + \"_pt_cut\")\n",
    "train_path = os.path.join(basename, str(train_number) + \"_events_train.pkl\")\n",
    "test_path = os.path.join(basename, str(test_number) + \"_events_test.pkl\")"
   ]
  },
  {
   "cell_type": "code",
   "execution_count": 3,
   "metadata": {},
   "outputs": [
    {
     "name": "stdout",
     "output_type": "stream",
     "text": [
      "CPU times: user 171 ms, sys: 11.6 s, total: 11.8 s\n",
      "Wall time: 15.3 s\n"
     ]
    }
   ],
   "source": [
    "%%time \n",
    "train_dataset = torch.load(train_path)\n",
    "test_dataset = torch.load(test_path)\n",
    "train_loader = DataLoader(train_dataset[:], batch_size=1, shuffle=True)\n",
    "test_loader = DataLoader(test_dataset[:], batch_size=1, shuffle=True)"
   ]
  },
  {
   "cell_type": "markdown",
   "metadata": {},
   "source": [
    "## GNN Memory Tests"
   ]
  },
  {
   "cell_type": "code",
   "execution_count": 4,
   "metadata": {
    "code_folding": [
     0,
     22,
     46,
     92
    ]
   },
   "outputs": [],
   "source": [
    "class EdgeNetwork(nn.Module):\n",
    "    \"\"\"\n",
    "    A module which computes weights for edges of the graph.\n",
    "    For each edge, it selects the associated nodes' features\n",
    "    and applies some fully-connected network layers with a final\n",
    "    sigmoid activation.\n",
    "    \"\"\"\n",
    "    def __init__(self, input_dim, hidden_dim=8, hidden_activation='Tanh',\n",
    "                 layer_norm=True):\n",
    "        super(EdgeNetwork, self).__init__()\n",
    "        self.network = make_mlp(input_dim*2,\n",
    "                                [hidden_dim, hidden_dim, hidden_dim, 1],\n",
    "                                hidden_activation=hidden_activation,\n",
    "                                output_activation=None,\n",
    "                                layer_norm=layer_norm)\n",
    "\n",
    "    def forward(self, inputs):\n",
    "        # Select the features of the associated nodes\n",
    "        start, end = inputs[1]\n",
    "        edge_inputs = torch.cat([inputs[0][start], inputs[0][end]], dim=1)\n",
    "        return self.network(edge_inputs).squeeze(-1)\n",
    "\n",
    "class NodeNetwork(nn.Module):\n",
    "    \"\"\"\n",
    "    A module which computes new node features on the graph.\n",
    "    For each node, it aggregates the neighbor node features\n",
    "    (separately on the input and output side), and combines\n",
    "    them with the node's previous features in a fully-connected\n",
    "    network to compute the new features.\n",
    "    \"\"\"\n",
    "    def __init__(self, input_dim, output_dim, hidden_activation='Tanh',\n",
    "                 layer_norm=True):\n",
    "        super(NodeNetwork, self).__init__()\n",
    "        self.network = make_mlp(input_dim*3, [output_dim]*4,\n",
    "                                hidden_activation=hidden_activation,\n",
    "                                output_activation=None,\n",
    "                                layer_norm=layer_norm)\n",
    "\n",
    "    def forward(self, inputs):\n",
    "        start, end = inputs[2]\n",
    "        # Aggregate edge-weighted incoming/outgoing features\n",
    "        mi = scatter_add(inputs[1][:, None] * inputs[0][start], end, dim=0, dim_size=inputs[0].shape[0])\n",
    "        mo = scatter_add(inputs[1][:, None] * inputs[0][end], start, dim=0, dim_size=inputs[0].shape[0])\n",
    "        node_inputs = torch.cat([mi, mo, inputs[0]], dim=1)\n",
    "        return self.network(node_inputs)\n",
    "\n",
    "class ResAGNN(nn.Module):\n",
    "    \"\"\"\n",
    "    Segment classification graph neural network model.\n",
    "    Consists of an input network, an edge network, and a node network.\n",
    "    \"\"\"\n",
    "    def __init__(self, in_channels=3, hidden_dim=8, n_graph_iters=3,\n",
    "                 hidden_activation=torch.nn.Tanh, layer_norm=True):\n",
    "        super(ResAGNN, self).__init__()\n",
    "        self.n_graph_iters = n_graph_iters\n",
    "        # Setup the input network\n",
    "        self.input_network = make_mlp(in_channels, [hidden_dim],\n",
    "                                      output_activation=hidden_activation,\n",
    "                                      layer_norm=layer_norm)\n",
    "        # Setup the edge network\n",
    "        self.edge_network = EdgeNetwork(in_channels + hidden_dim, in_channels + hidden_dim,\n",
    "                                        hidden_activation, layer_norm=layer_norm)\n",
    "        # Setup the node layers\n",
    "        self.node_network = NodeNetwork(in_channels + hidden_dim, hidden_dim,\n",
    "                                        hidden_activation, layer_norm=layer_norm)\n",
    "        \n",
    "    def forward(self, x, edge_index):\n",
    "        \"\"\"Apply forward pass of the model\"\"\"\n",
    "        input_x = x\n",
    "        x = self.input_network(x)\n",
    "        # Shortcut connect the inputs onto the hidden representation\n",
    "        x = torch.cat([x, input_x], dim=-1)\n",
    "#         print(x.shape)\n",
    "        \n",
    "        # Loop over iterations of edge and node networks\n",
    "        for i in range(self.n_graph_iters):\n",
    "            x_inital = x\n",
    "            \n",
    "            # Apply edge network\n",
    "            e = torch.sigmoid(self.edge_network((x, edge_index)))\n",
    "        \n",
    "            # Apply node network\n",
    "            x = self.node_network((x, e, edge_index))\n",
    "            \n",
    "            # Shortcut connect the inputs onto the hidden representation\n",
    "            x = torch.cat([x, input_x], dim=-1)  \n",
    "            \n",
    "            x = x_inital + x\n",
    "        \n",
    "        return self.edge_network((x, edge_index))\n",
    "\n",
    "\n",
    "class CheckResAGNN(nn.Module):\n",
    "    \"\"\"\n",
    "    Segment classification graph neural network model.\n",
    "    Consists of an input network, an edge network, and a node network.\n",
    "    \"\"\"\n",
    "    def __init__(self, in_channels=3, hidden_dim=8, n_graph_iters=3,\n",
    "                 hidden_activation=torch.nn.Tanh, layer_norm=True):\n",
    "        super(CheckResAGNN, self).__init__()\n",
    "        self.n_graph_iters = n_graph_iters\n",
    "        # Setup the input network\n",
    "        self.input_network = make_mlp(in_channels, [hidden_dim],\n",
    "                                      output_activation=hidden_activation,\n",
    "                                      layer_norm=layer_norm)\n",
    "        # Setup the edge network\n",
    "        self.edge_network = EdgeNetwork(in_channels + hidden_dim, in_channels + hidden_dim,\n",
    "                                        hidden_activation, layer_norm=layer_norm)\n",
    "        # Setup the node layers\n",
    "        self.node_network = NodeNetwork(in_channels + hidden_dim, hidden_dim,\n",
    "                                        hidden_activation, layer_norm=layer_norm)\n",
    "        self.dummy_tensor = torch.ones(1, dtype=torch.float32, requires_grad=True)\n",
    "        \n",
    "    def custom_forward(self, inputs):\n",
    "        # Apply edge network\n",
    "        print(\"x in check (before)\", inputs[0], inputs[0].requires_grad)\n",
    "        e = self.edge_network((inputs[0], inputs[1]))\n",
    "        e = torch.sigmoid(e)\n",
    "        x = self.node_network((inputs[0], e, inputs[1]))\n",
    "        print(\"e in check\", e, e.requires_grad)\n",
    "        print(\"x in check (after)\", x, x.requires_grad)\n",
    "        # Apply node network\n",
    "        return x\n",
    "    \n",
    "    def forward(self, x, edge_index):\n",
    "        \"\"\"Apply forward pass of the model\"\"\"\n",
    "        input_x = x\n",
    "        x = self.input_network(x)\n",
    "        # Shortcut connect the inputs onto the hidden representation\n",
    "        x = torch.cat([x, input_x], dim=-1)\n",
    "#         print(x.shape)\n",
    "        \n",
    "        # Loop over iterations of edge and node networks\n",
    "        for i in range(self.n_graph_iters):\n",
    "            \n",
    "            x_inital = x\n",
    "            print(\"x before check\", x, x.requires_grad)\n",
    "            x = checkpoint(self.custom_forward, (x, edge_index, self.dummy_tensor))\n",
    "#             x = self.custom_forward((x, edge_index))\n",
    "            print(\"x after check\", x, x.requires_grad)\n",
    "#             x.requires_grad_(True)\n",
    "            # Apply edge network\n",
    "#             e = checkpoint(self.edge_network, (x, edge_index))\n",
    "#             e = self.edge_network((x, edge_index))\n",
    "#             e = torch.sigmoid(e)\n",
    "        \n",
    "            # Apply node network\n",
    "#             x = checkpoint(self.node_network, (x, e, edge_index))\n",
    "#             x = self.node_network((x, e, edge_index))\n",
    "            \n",
    "            # Shortcut connect the inputs onto the hidden representation\n",
    "            x = torch.cat([x, input_x], dim=-1)  \n",
    "            \n",
    "            x = x_inital + x\n",
    "            \n",
    "        e = self.edge_network((x, edge_index))\n",
    "#         e = torch.sigmoid(e)\n",
    "        \n",
    "        return e\n",
    "    \n",
    "class MPNN_Network(nn.Module):\n",
    "    \"\"\"\n",
    "    A message-passing graph network which takes a graph with:\n",
    "    - bi-directional edges\n",
    "    - node features, no edge features\n",
    "\n",
    "    and applies the following modules:\n",
    "    - a graph encoder (no message passing)\n",
    "    - recurrent edge and node networks\n",
    "    - an edge classifier\n",
    "    \"\"\"\n",
    "\n",
    "    def __init__(self, input_dim, hidden_node_dim, hidden_edge_dim, in_layers, node_layers, edge_layers,\n",
    "                 n_graph_iters=1, layer_norm=True):\n",
    "        super(MPNN_Network, self).__init__()\n",
    "        self.n_graph_iters = n_graph_iters\n",
    "\n",
    "        # The node encoder transforms input node features to the hidden space\n",
    "        self.node_encoder = make_mlp(input_dim, [hidden_node_dim]*in_layers)\n",
    "\n",
    "        # The edge network computes new edge features from connected nodes\n",
    "        self.edge_network = make_mlp(2*hidden_node_dim,\n",
    "                                     [hidden_edge_dim]*edge_layers,\n",
    "                                     layer_norm=layer_norm)\n",
    "\n",
    "        # The node network computes new node features\n",
    "        self.node_network = make_mlp(hidden_node_dim + hidden_edge_dim,\n",
    "                                     [hidden_node_dim]*node_layers,\n",
    "                                     layer_norm=layer_norm)\n",
    "\n",
    "        # The edge classifier computes final edge scores\n",
    "        self.edge_classifier = make_mlp(2*hidden_node_dim,\n",
    "                                        [hidden_edge_dim, 1],\n",
    "                                        output_activation=None)\n",
    "\n",
    "    def forward(self, x, edge_index):\n",
    "\n",
    "        # Encode the graph features into the hidden space\n",
    "        x = self.node_encoder(x)\n",
    "\n",
    "        # Loop over graph iterations\n",
    "        for i in range(self.n_graph_iters):\n",
    "\n",
    "            # Previous hidden state\n",
    "            x0 = x\n",
    "\n",
    "            # Compute new edge features\n",
    "            edge_inputs = torch.cat([x[edge_index[0]], x[edge_index[1]]], dim=1)\n",
    "            e = self.edge_network(edge_inputs)\n",
    "\n",
    "            # Sum edge features coming into each node\n",
    "            aggr_messages = scatter_add(e, edge_index[1], dim=0, dim_size=x.shape[0])\n",
    "\n",
    "            # Compute new node features\n",
    "            node_inputs = torch.cat([x, aggr_messages], dim=1)\n",
    "            x = self.node_network(node_inputs)\n",
    "\n",
    "            # Residual connection\n",
    "            x = x + x0\n",
    "\n",
    "        # Compute final edge scores; use original edge directions only\n",
    "        start_idx, end_idx = edge_index\n",
    "        clf_inputs = torch.cat([x[start_idx], x[end_idx]], dim=1)\n",
    "        return self.edge_classifier(clf_inputs).squeeze(-1)\n",
    "    \n",
    "class CheckMPNN_Network(nn.Module):\n",
    "    \"\"\"\n",
    "    A message-passing graph network which takes a graph with:\n",
    "    - bi-directional edges\n",
    "    - node features, no edge features\n",
    "\n",
    "    and applies the following modules:\n",
    "    - a graph encoder (no message passing)\n",
    "    - recurrent edge and node networks\n",
    "    - an edge classifier\n",
    "    \"\"\"\n",
    "\n",
    "    def __init__(self, input_dim, hidden_node_dim, hidden_edge_dim, in_layers, node_layers, edge_layers,\n",
    "                 n_graph_iters=1, layer_norm=True):\n",
    "        super(CheckMPNN_Network, self).__init__()\n",
    "        self.n_graph_iters = n_graph_iters\n",
    "\n",
    "        # The node encoder transforms input node features to the hidden space\n",
    "        self.node_encoder = make_mlp(input_dim, [hidden_node_dim]*in_layers)\n",
    "\n",
    "        # The edge network computes new edge features from connected nodes\n",
    "        self.edge_network = make_mlp(2*hidden_node_dim,\n",
    "                                     [hidden_edge_dim]*edge_layers,\n",
    "                                     layer_norm=layer_norm)\n",
    "\n",
    "        # The node network computes new node features\n",
    "        self.node_network = make_mlp(hidden_node_dim + hidden_edge_dim,\n",
    "                                     [hidden_node_dim]*node_layers,\n",
    "                                     layer_norm=layer_norm)\n",
    "\n",
    "        # The edge classifier computes final edge scores\n",
    "        self.edge_classifier = make_mlp(2*hidden_node_dim,\n",
    "                                        [hidden_edge_dim, 1],\n",
    "                                        output_activation=None)\n",
    "\n",
    "    def forward(self, x, edge_index):\n",
    "\n",
    "        # Encode the graph features into the hidden space\n",
    "        x = self.node_encoder(x)\n",
    "\n",
    "        # Loop over graph iterations\n",
    "        for i in range(self.n_graph_iters):\n",
    "\n",
    "            # Previous hidden state\n",
    "            x0 = x\n",
    "\n",
    "            # Compute new edge features\n",
    "            edge_inputs = torch.cat([x[edge_index[0]], x[edge_index[1]]], dim=1)\n",
    "            e = checkpoint(self.edge_network, edge_inputs)\n",
    "\n",
    "            # Sum edge features coming into each node\n",
    "            aggr_messages = scatter_add(e, edge_index[1], dim=0, dim_size=x.shape[0])\n",
    "\n",
    "            # Compute new node features\n",
    "            node_inputs = torch.cat([x, aggr_messages], dim=1)\n",
    "            x = checkpoint(self.node_network, node_inputs)\n",
    "\n",
    "            # Residual connection\n",
    "            x = x + x0\n",
    "\n",
    "        # Compute final edge scores; use original edge directions only\n",
    "        start_idx, end_idx = edge_index\n",
    "        clf_inputs = torch.cat([x[start_idx], x[end_idx]], dim=1)\n",
    "        return checkpoint(self.edge_classifier, clf_inputs).squeeze(-1)"
   ]
  },
  {
   "cell_type": "code",
   "execution_count": 5,
   "metadata": {
    "code_folding": [
     0
    ]
   },
   "outputs": [],
   "source": [
    "class Filter(torch.nn.Module):\n",
    "    def __init__(self, in_channels, emb_channels, hidden, nb_layer):\n",
    "        super(Filter, self).__init__()\n",
    "        self.input_layer = Linear(in_channels*2 + emb_channels*2, hidden)\n",
    "        layers = [Linear(hidden, hidden) for _ in range(nb_layer-1)]\n",
    "        self.layers = nn.ModuleList(layers)\n",
    "        self.output_layer = nn.Linear(hidden, 1)\n",
    "        self.norm = nn.LayerNorm(hidden)\n",
    "        self.act = nn.Tanh()\n",
    "\n",
    "    def forward(self, x, e, emb=None):\n",
    "        if emb is not None:\n",
    "            x = self.input_layer(torch.cat([x[e[0]], emb[e[0]], x[e[1]], emb[e[1]]], dim=-1))\n",
    "        else:\n",
    "            x = self.input_layer(torch.cat([x[e[0]], x[e[1]]], dim=-1))\n",
    "        for l in self.layers:\n",
    "            x = l(x)\n",
    "            x = self.act(x)\n",
    "#         x = self.norm(x) #Option of LayerNorm\n",
    "        x = self.output_layer(x)\n",
    "        return x"
   ]
  },
  {
   "cell_type": "code",
   "execution_count": 5,
   "metadata": {
    "code_folding": []
   },
   "outputs": [],
   "source": [
    "def train_gnn(model, train_loader, optimizer, m_configs):\n",
    "    \n",
    "    total_loss = 0\n",
    "    \n",
    "    for i, batch in enumerate(train_loader):\n",
    "        optimizer.zero_grad()\n",
    "        \n",
    "        if m_configs['ratio'] != 0:\n",
    "            num_true = batch.y.sum()\n",
    "            fake_indices = np.random.choice(np.where(~batch.y.bool())[0], int(num_true*m_configs['ratio']), replace=True)\n",
    "            true_indices = np.where(batch.y.bool())[0]\n",
    "            combined_indices = np.concatenate([true_indices, fake_indices])\n",
    "\n",
    "            x, e = batch.x.to(device), batch.e_radius[:,combined_indices].to(device)\n",
    "            weight = torch.tensor(m_configs['ratio'])\n",
    "            combined_y = batch.y[combined_indices]   \n",
    "        \n",
    "        else:\n",
    "            x, e = batch.x.to(device), batch.e_radius.to(device)\n",
    "            weight = torch.tensor((~batch.y.bool()).sum() / batch.y.sum())\n",
    "            combined_y = batch.y         \n",
    "        \n",
    "        output = model(x, e).squeeze()\n",
    "        \n",
    "        y_pid = (batch.pid[batch.e_radius[0]] == batch.pid[batch.e_radius[1]]).float()\n",
    "                \n",
    "#         loss = F.binary_cross_entropy_with_logits(output.cpu(), combined_y, pos_weight = weight)\n",
    "        loss = F.binary_cross_entropy_with_logits(output.cpu(), y_pid, pos_weight = torch.tensor(3))\n",
    "        total_loss += loss.item()\n",
    "#         print(i, loss)\n",
    "        loss.backward()\n",
    "        optimizer.step()\n",
    "    \n",
    "    return total_loss\n",
    "\n",
    "def evaluate_gnn(model, test_loader, m_configs):\n",
    "    \n",
    "    edge_true, edge_true_positive, edge_positive, edge_total_positive, edge_total_true, edge_total_true_positive = [0]*6\n",
    "    total_loss = 0\n",
    "    \n",
    "    for i, batch in enumerate(test_loader):\n",
    "            \n",
    "#         subset_ind = np.random.choice(np.arange(0, batch.e_radius.shape[1]), int(m_configs['test_subset']*batch.e_radius.shape[1]), replace=False)\n",
    "        if m_configs['ratio'] != 0:\n",
    "            subset_ind = np.random.randint(0, batch.e_radius.shape[1], 10000)\n",
    "        else:\n",
    "            subset_ind = np.arange(0, batch.e_radius.shape[1])\n",
    "        x, e = batch.x.to(device), batch.e_radius[:, subset_ind].to(device)\n",
    "        output = model(x, e).squeeze()\n",
    "        \n",
    "        y_pid = (batch.pid[batch.e_radius[0]] == batch.pid[batch.e_radius[1]]).float()\n",
    "        \n",
    "#         loss = F.binary_cross_entropy_with_logits(output.cpu(), batch.y[subset_ind])\n",
    "        loss = F.binary_cross_entropy_with_logits(output.cpu(), y_pid)\n",
    "        total_loss += loss.item()\n",
    "        \n",
    "        preds = F.sigmoid(output.cpu()) > 0.5\n",
    "        \n",
    "        #Edge filter performance\n",
    "#         edge_true = batch.y[subset_ind].sum()\n",
    "        edge_true = y_pid.sum()\n",
    "#         edge_true_positive = (batch.y[subset_ind].bool() & preds).sum()\n",
    "        edge_true_positive = (y_pid.bool() & preds).sum()\n",
    "        edge_positive = preds.sum()\n",
    "        \n",
    "        edge_total_true_positive += edge_true_positive\n",
    "        edge_total_positive += edge_positive\n",
    "        edge_total_true += edge_true\n",
    "        \n",
    "#         print(\"True positive:\", edge_true_positive, \"True:\", edge_true, \"Positive:\", edge_positive)\n",
    "\n",
    "    edge_eff = edge_total_true_positive.float() / max(edge_total_true.float(), 1)\n",
    "    edge_pur = edge_total_true_positive.float() / max(edge_total_positive.float(), 1)\n",
    "\n",
    "    return edge_pur, edge_eff, total_loss\n"
   ]
  },
  {
   "cell_type": "markdown",
   "metadata": {},
   "source": [
    "### Benchmark Tests"
   ]
  },
  {
   "cell_type": "code",
   "execution_count": 6,
   "metadata": {},
   "outputs": [
    {
     "data": {
      "text/html": [
       "\n",
       "                Logging results to <a href=\"https://wandb.com\" target=\"_blank\">Weights & Biases</a> <a href=\"https://docs.wandb.com/integrations/jupyter.html\" target=\"_blank\">(Documentation)</a>.<br/>\n",
       "                Project page: <a href=\"https://app.wandb.ai/murnanedaniel/CheckpointExploration\" target=\"_blank\">https://app.wandb.ai/murnanedaniel/CheckpointExploration</a><br/>\n",
       "                Run page: <a href=\"https://app.wandb.ai/murnanedaniel/CheckpointExploration/runs/s295b4x2\" target=\"_blank\">https://app.wandb.ai/murnanedaniel/CheckpointExploration/runs/s295b4x2</a><br/>\n",
       "            "
      ],
      "text/plain": [
       "<IPython.core.display.HTML object>"
      ]
     },
     "metadata": {},
     "output_type": "display_data"
    },
    {
     "name": "stderr",
     "output_type": "stream",
     "text": [
      "Failed to query for notebook name, you can set it manually with the WANDB_NOTEBOOK_NAME environment variable\n",
      "\u001b[34m\u001b[1mwandb\u001b[0m: Wandb version 0.9.7 is available!  To upgrade, please run:\n",
      "\u001b[34m\u001b[1mwandb\u001b[0m:  $ pip install wandb --upgrade\n"
     ]
    }
   ],
   "source": [
    "torch.manual_seed(0)\n",
    "\n",
    "# m_configs = {\"in_channels\": 3, \"hidden_dim\": 32, \"n_graph_iters\": 6}\n",
    "# model = ResAGNN(**m_configs).to(device)\n",
    "\n",
    "m_configs = {\"input_dim\": 3, \"hidden_node_dim\": 64, \"hidden_edge_dim\": 128, \"in_layers\": 2, \"node_layers\": 4, \"edge_layers\": 4, \"n_graph_iters\": 8, \"layer_norm\": True}\n",
    "model = MPNN_Network(**m_configs).to(device)\n",
    "\n",
    "other_configs = {'ratio': 0, 'test_subset': 0.001}\n",
    "m_configs.update(other_configs)\n",
    "model_name = wandb.init(project=\"CheckpointExploration\", config=m_configs)\n",
    "wandb.watch(model, log='all')\n",
    "optimizer = torch.optim.AdamW(model.parameters(), lr=0.001, weight_decay=1e-3, amsgrad=True)\n",
    "scheduler = torch.optim.lr_scheduler.ReduceLROnPlateau(optimizer, factor=0.3, patience=5)\n",
    "\n",
    "torch.cuda.reset_max_memory_allocated()"
   ]
  },
  {
   "cell_type": "code",
   "execution_count": 7,
   "metadata": {},
   "outputs": [
    {
     "name": "stderr",
     "output_type": "stream",
     "text": [
      "Failed to query for notebook name, you can set it manually with the WANDB_NOTEBOOK_NAME environment variable\n",
      "\u001b[34m\u001b[1mwandb\u001b[0m: Wandb version 0.9.7 is available!  To upgrade, please run:\n",
      "\u001b[34m\u001b[1mwandb\u001b[0m:  $ pip install wandb --upgrade\n"
     ]
    },
    {
     "name": "stdout",
     "output_type": "stream",
     "text": [
      "Memory max (GB): 9.888021469116211 - time: 1.5440750122070312\n"
     ]
    }
   ],
   "source": [
    "model.train()\n",
    "\n",
    "total_loss = 0\n",
    "tic = tt()\n",
    "for i, batch in enumerate(train_loader):\n",
    "    optimizer.zero_grad()\n",
    "\n",
    "    if m_configs['ratio'] != 0:\n",
    "        num_true = batch.y.sum()\n",
    "        fake_indices = np.random.choice(np.where(~batch.y.bool())[0], int(num_true*m_configs['ratio']), replace=True)\n",
    "        true_indices = np.where(batch.y.bool())[0]\n",
    "        combined_indices = np.concatenate([true_indices, fake_indices])\n",
    "\n",
    "        x, e = batch.x.to(device), batch.e_radius[:,combined_indices].to(device)\n",
    "        weight = torch.tensor(m_configs['ratio'])\n",
    "        combined_y = batch.y[combined_indices]   \n",
    "\n",
    "    else:\n",
    "        x, e = batch.x.to(device), batch.e_radius.to(device)\n",
    "        weight = torch.tensor((~batch.y.bool()).sum() / batch.y.sum())\n",
    "        combined_y = batch.y         \n",
    "    x.requires_grad_(True)\n",
    "    \n",
    "    output = model(x, e)\n",
    "\n",
    "    loss = F.binary_cross_entropy_with_logits(output, combined_y.to(device), pos_weight = weight)\n",
    "    total_loss += loss.item()\n",
    "#         print(i, loss)\n",
    "    loss.backward()\n",
    "    optimizer.step()\n",
    "    \n",
    "    break\n",
    "print(\"Memory max (GB):\", torch.cuda.max_memory_allocated() / 1024**3, \"- time:\", tt()-tic)"
   ]
  },
  {
   "cell_type": "code",
   "execution_count": 61,
   "metadata": {},
   "outputs": [],
   "source": [
    "output_not_checkpointed = output.data.clone()\n",
    "grad_not_checkpointed = {}\n",
    "for name, param in model.named_parameters():\n",
    "    if param.grad is not None:\n",
    "        grad_not_checkpointed[name] = param.grad.data.clone()\n",
    "    else:\n",
    "        print(name, \"is NONE!\")"
   ]
  },
  {
   "cell_type": "code",
   "execution_count": 65,
   "metadata": {},
   "outputs": [
    {
     "data": {
      "text/plain": [
       "tensor([0.6636, 0.6636, 0.6636,  ..., 0.9206, 1.1540, 1.1405], device='cuda:0')"
      ]
     },
     "execution_count": 65,
     "metadata": {},
     "output_type": "execute_result"
    }
   ],
   "source": [
    "output_not_checkpointed"
   ]
  },
  {
   "cell_type": "code",
   "execution_count": 66,
   "metadata": {},
   "outputs": [
    {
     "data": {
      "text/plain": [
       "tensor([0.6636, 0.6636, 0.6636,  ..., 0.9206, 1.1540, 1.1405], device='cuda:0')"
      ]
     },
     "execution_count": 66,
     "metadata": {},
     "output_type": "execute_result"
    }
   ],
   "source": [
    "output_checkpointed"
   ]
  },
  {
   "cell_type": "code",
   "execution_count": null,
   "metadata": {},
   "outputs": [],
   "source": [
    "grad_not_checkpointed"
   ]
  },
  {
   "cell_type": "code",
   "execution_count": null,
   "metadata": {},
   "outputs": [],
   "source": [
    "grad_checkpointed"
   ]
  },
  {
   "cell_type": "code",
   "execution_count": 90,
   "metadata": {},
   "outputs": [
    {
     "name": "stdout",
     "output_type": "stream",
     "text": [
      "Memory max (GB): 1.2986721992492676\n"
     ]
    }
   ],
   "source": [
    "print(\"Memory max (GB):\", torch.cuda.max_memory_allocated() / 1024**3)"
   ]
  },
  {
   "cell_type": "markdown",
   "metadata": {},
   "source": [
    "### Checkpointed Tests"
   ]
  },
  {
   "cell_type": "code",
   "execution_count": 12,
   "metadata": {},
   "outputs": [
    {
     "data": {
      "text/html": [
       "\n",
       "                Logging results to <a href=\"https://wandb.com\" target=\"_blank\">Weights & Biases</a> <a href=\"https://docs.wandb.com/integrations/jupyter.html\" target=\"_blank\">(Documentation)</a>.<br/>\n",
       "                Project page: <a href=\"https://app.wandb.ai/murnanedaniel/CheckpointExploration\" target=\"_blank\">https://app.wandb.ai/murnanedaniel/CheckpointExploration</a><br/>\n",
       "                Run page: <a href=\"https://app.wandb.ai/murnanedaniel/CheckpointExploration/runs/ec29q17z\" target=\"_blank\">https://app.wandb.ai/murnanedaniel/CheckpointExploration/runs/ec29q17z</a><br/>\n",
       "            "
      ],
      "text/plain": [
       "<IPython.core.display.HTML object>"
      ]
     },
     "metadata": {},
     "output_type": "display_data"
    },
    {
     "name": "stderr",
     "output_type": "stream",
     "text": [
      "Failed to query for notebook name, you can set it manually with the WANDB_NOTEBOOK_NAME environment variable\n",
      "\u001b[34m\u001b[1mwandb\u001b[0m: Wandb version 0.9.7 is available!  To upgrade, please run:\n",
      "\u001b[34m\u001b[1mwandb\u001b[0m:  $ pip install wandb --upgrade\n"
     ]
    }
   ],
   "source": [
    "torch.manual_seed(0)\n",
    "\n",
    "# m_configs = {\"in_channels\": 3, \"hidden_dim\": 32, \"n_graph_iters\": 6}\n",
    "# model = CheckResAGNN(**m_configs).to(device)\n",
    "\n",
    "m_configs = {\"input_dim\": 3, \"hidden_node_dim\": 64, \"hidden_edge_dim\": 128, \"in_layers\": 2, \"node_layers\": 4, \"edge_layers\": 4, \"n_graph_iters\": 8, \"layer_norm\": True}\n",
    "model = CheckMPNN_Network(**m_configs).to(device)\n",
    "\n",
    "other_configs = {'ratio': 0, 'test_subset': 0.001}\n",
    "m_configs.update(other_configs)\n",
    "model_name = wandb.init(project=\"CheckpointExploration\", config=m_configs)\n",
    "wandb.watch(model, log='all')\n",
    "optimizer = torch.optim.AdamW(model.parameters(), lr=0.001, weight_decay=1e-3, amsgrad=True)\n",
    "scheduler = torch.optim.lr_scheduler.ReduceLROnPlateau(optimizer, factor=0.3, patience=5)\n",
    "\n",
    "torch.cuda.reset_max_memory_allocated()"
   ]
  },
  {
   "cell_type": "code",
   "execution_count": 11,
   "metadata": {},
   "outputs": [
    {
     "name": "stderr",
     "output_type": "stream",
     "text": [
      "Failed to query for notebook name, you can set it manually with the WANDB_NOTEBOOK_NAME environment variable\n",
      "\u001b[34m\u001b[1mwandb\u001b[0m: Wandb version 0.9.7 is available!  To upgrade, please run:\n",
      "\u001b[34m\u001b[1mwandb\u001b[0m:  $ pip install wandb --upgrade\n"
     ]
    },
    {
     "name": "stdout",
     "output_type": "stream",
     "text": [
      "Memory max (GB): 6.213899612426758 - time: 1.9646477699279785\n"
     ]
    }
   ],
   "source": [
    "model.train()\n",
    "\n",
    "total_loss = 0\n",
    "tic = tt()\n",
    "for i, batch in enumerate(train_loader):\n",
    "    optimizer.zero_grad()\n",
    "\n",
    "    if m_configs['ratio'] != 0:\n",
    "        num_true = batch.y.sum()\n",
    "        fake_indices = np.random.choice(np.where(~batch.y.bool())[0], int(num_true*m_configs['ratio']), replace=True)\n",
    "        true_indices = np.where(batch.y.bool())[0]\n",
    "        combined_indices = np.concatenate([true_indices, fake_indices])\n",
    "\n",
    "        x, e = batch.x.to(device), batch.e_radius[:,combined_indices].to(device)\n",
    "        weight = torch.tensor(m_configs['ratio'])\n",
    "        combined_y = batch.y[combined_indices]   \n",
    "\n",
    "    else:\n",
    "        x, e = batch.x.to(device), batch.e_radius.to(device)\n",
    "        weight = torch.tensor((~batch.y.bool()).sum() / batch.y.sum())\n",
    "        combined_y = batch.y         \n",
    "#     x.requires_grad_(True)\n",
    "    output = model(x, e)\n",
    "    \n",
    "    loss = F.binary_cross_entropy_with_logits(output, combined_y.to(device), pos_weight = weight)\n",
    "    total_loss += loss.item()\n",
    "#         print(i, loss)\n",
    "    loss.backward()\n",
    "    \n",
    "#     output.mean().backward()\n",
    "    optimizer.step()\n",
    "    \n",
    "    break\n",
    "print(\"Memory max (GB):\", torch.cuda.max_memory_allocated() / 1024**3, \"- time:\", tt()-tic)"
   ]
  },
  {
   "cell_type": "code",
   "execution_count": 64,
   "metadata": {},
   "outputs": [],
   "source": [
    "output_checkpointed = output.data.clone()\n",
    "grad_checkpointed = {}\n",
    "for name, param in model.named_parameters():\n",
    "    if param.grad is not None:\n",
    "        grad_checkpointed[name] = param.grad.data.clone()\n",
    "    else:\n",
    "        print(name, \"is NONE!\")"
   ]
  },
  {
   "cell_type": "markdown",
   "metadata": {},
   "source": [
    "### Memory Grid Scan"
   ]
  },
  {
   "cell_type": "markdown",
   "metadata": {},
   "source": [
    "Want to scan over MP iterations, network size (width), and MLP layers."
   ]
  },
  {
   "cell_type": "code",
   "execution_count": 17,
   "metadata": {},
   "outputs": [],
   "source": [
    "layer_set = 1, 7, 1\n",
    "iteration_set = 1, 9, 1\n",
    "channel_set = 8, 128, 8"
   ]
  },
  {
   "cell_type": "code",
   "execution_count": 18,
   "metadata": {},
   "outputs": [],
   "source": [
    "def train_step(input_data, model, optimizer):\n",
    "    optimizer.zero_grad()\n",
    "\n",
    "    x, e = input_data.x.to(device), input_data.e_radius.to(device)\n",
    "    weight = torch.tensor((~input_data.y.bool()).sum() / input_data.y.sum())\n",
    "    combined_y = input_data.y         \n",
    "    x.requires_grad_(True)\n",
    "\n",
    "    output = model(x, e)\n",
    "\n",
    "    loss = F.binary_cross_entropy_with_logits(output, combined_y.to(device), pos_weight = weight)\n",
    "    loss.backward()\n",
    "    optimizer.step()"
   ]
  },
  {
   "cell_type": "code",
   "execution_count": 19,
   "metadata": {},
   "outputs": [],
   "source": [
    "input_data = train_dataset[0]"
   ]
  },
  {
   "cell_type": "code",
   "execution_count": null,
   "metadata": {
    "scrolled": true
   },
   "outputs": [],
   "source": [
    "%%time\n",
    "memory_uncheck = np.empty(((layer_set[1] - layer_set[0])//layer_set[2], (iteration_set[1] - iteration_set[0])//iteration_set[2], (channel_set[1] - channel_set[0])//channel_set[2]))\n",
    "memory_check = np.empty(((layer_set[1] - layer_set[0])//layer_set[2], (iteration_set[1] - iteration_set[0])//iteration_set[2], (channel_set[1] - channel_set[0])//channel_set[2]))\n",
    "time_uncheck = np.empty(((layer_set[1] - layer_set[0])//layer_set[2], (iteration_set[1] - iteration_set[0])//iteration_set[2], (channel_set[1] - channel_set[0])//channel_set[2]))\n",
    "time_check = np.empty(((layer_set[1] - layer_set[0])//layer_set[2], (iteration_set[1] - iteration_set[0])//iteration_set[2], (channel_set[1] - channel_set[0])//channel_set[2]))\n",
    "\n",
    "\n",
    "for i, layers in enumerate(np.arange(*layer_set)):\n",
    "    for j, iterations in enumerate(np.arange(*iteration_set)):\n",
    "        for k, channels in enumerate(np.arange(*channel_set)):\n",
    "            \n",
    "            torch.cuda.reset_max_memory_allocated()\n",
    "            torch.manual_seed(0)\n",
    "\n",
    "            m_configs = {\"input_dim\": 3, \"hidden_node_dim\": channels, \"hidden_edge_dim\": channels, \"in_layers\": layers, \"node_layers\": layers, \"edge_layers\": layers, \"n_graph_iters\": iterations, \"layer_norm\": True}\n",
    "            model = MPNN_Network(**m_configs).to(device)\n",
    "            optimizer = torch.optim.AdamW(model.parameters(), lr=0.001, weight_decay=1e-3, amsgrad=True)\n",
    "            \n",
    "            tic = tt()\n",
    "            train_step(input_data, model, optimizer)\n",
    "            tic_uncheck = tt() - tic\n",
    "            time_uncheck[i, j, k] = tic_uncheck\n",
    "            max_mem_uncheck = torch.cuda.max_memory_allocated() / 1024**3\n",
    "            memory_uncheck[i, j, k] = max_mem_uncheck\n",
    "            \n",
    "                        \n",
    "            torch.cuda.reset_max_memory_allocated()\n",
    "            torch.manual_seed(0)\n",
    "            \n",
    "            model = CheckMPNN_Network(**m_configs).to(device)\n",
    "            optimizer = torch.optim.AdamW(model.parameters(), lr=0.001, weight_decay=1e-3, amsgrad=True)\n",
    "            \n",
    "            tic = tt()\n",
    "            train_step(input_data, model, optimizer)\n",
    "            tic_check = tt() - tic\n",
    "            time_check[i, j, k] = tic_check\n",
    "            max_mem_check = torch.cuda.max_memory_allocated() / 1024**3\n",
    "            memory_check[i, j, k] = max_mem_check\n",
    "            print(\"Step:\", (i, j, k), \"- Memory (unchecked):\", max_mem_uncheck, \"(checked):\", max_mem_check)"
   ]
  },
  {
   "cell_type": "markdown",
   "metadata": {},
   "source": [
    "#### Compare Checked and Unchecked"
   ]
  },
  {
   "cell_type": "code",
   "execution_count": 52,
   "metadata": {},
   "outputs": [],
   "source": [
    "mem_ratio = memory_uncheck / memory_check\n",
    "time_ratio = time_check / time_uncheck"
   ]
  },
  {
   "cell_type": "code",
   "execution_count": 53,
   "metadata": {},
   "outputs": [],
   "source": [
    "layer_list = np.arange(*layer_set)\n",
    "iteration_list = np.arange(*iteration_set)\n",
    "channel_list = np.arange(*channel_set)"
   ]
  },
  {
   "cell_type": "code",
   "execution_count": 161,
   "metadata": {},
   "outputs": [],
   "source": [
    "mean_mem_ratio = np.mean(mem_ratio, axis=2)\n",
    "max_mem_ratio = np.max(mem_ratio, axis=2)\n",
    "mean_time_ratio = np.mean(time_ratio, axis=2)\n",
    "max_time_ratio = np.max(time_ratio, axis=2)"
   ]
  },
  {
   "cell_type": "code",
   "execution_count": 158,
   "metadata": {},
   "outputs": [
    {
     "data": {
      "image/png": "[encoded data removed]",
      "text/plain": [
       "<Figure size 720x720 with 1 Axes>"
      ]
     },
     "metadata": {
      "needs_background": "light"
     },
     "output_type": "display_data"
    }
   ],
   "source": [
    "fig, ax = plt.subplots(figsize = (10,10))\n",
    "im = ax.imshow(max_mem_ratio)\n",
    "\n",
    "ax.set_xticklabels(np.arange(0, 9))\n",
    "ax.set_yticklabels(np.arange(0, 8))\n",
    "\n",
    "# Rotate the tick labels and set their alignment.\n",
    "plt.setp(ax.get_xticklabels(), rotation=45, ha=\"right\",\n",
    "         rotation_mode=\"anchor\")\n",
    "\n",
    "# Loop over data dimensions and create text annotations.\n",
    "for i in range(len(layer_list)):\n",
    "    for j in range(len(iteration_list)):\n",
    "        text = ax.text(j, i, str('{:.1f}').format(max_mem_ratio[i, j]),\n",
    "                       ha=\"center\", va=\"center\", color=\"w\")\n",
    "\n",
    "ax.set_title(\"Memory Improvement (Maxed over Channels)\")\n",
    "plt.xlabel(\"Iterations\")\n",
    "plt.ylabel(\"Layers\")\n",
    "fig.tight_layout()\n",
    "plt.show()"
   ]
  },
  {
   "cell_type": "code",
   "execution_count": 159,
   "metadata": {},
   "outputs": [
    {
     "data": {
      "image/png": "[encoded data removed]",
      "text/plain": [
       "<Figure size 720x720 with 1 Axes>"
      ]
     },
     "metadata": {
      "needs_background": "light"
     },
     "output_type": "display_data"
    }
   ],
   "source": [
    "fig, ax = plt.subplots(figsize = (10,10))\n",
    "im = ax.imshow(max_time_ratio)\n",
    "\n",
    "ax.set_xticklabels(np.arange(0, 9))\n",
    "ax.set_yticklabels(np.arange(0, 8))\n",
    "\n",
    "# Rotate the tick labels and set their alignment.\n",
    "plt.setp(ax.get_xticklabels(), rotation=45, ha=\"right\",\n",
    "         rotation_mode=\"anchor\")\n",
    "\n",
    "# Loop over data dimensions and create text annotations.\n",
    "for i in range(len(layer_list)):\n",
    "    for j in range(len(iteration_list)):\n",
    "        text = ax.text(j, i, str('{:.1f}').format(max_time_ratio[i, j]),\n",
    "                       ha=\"center\", va=\"center\", color=\"w\")\n",
    "\n",
    "ax.set_title(\"Speed Penalty (Maxed over Channels)\")\n",
    "plt.xlabel(\"Iterations\")\n",
    "plt.ylabel(\"Layers\")\n",
    "fig.tight_layout()\n",
    "plt.show()"
   ]
  },
  {
   "cell_type": "markdown",
   "metadata": {},
   "source": [
    "### Regular Training"
   ]
  },
  {
   "cell_type": "code",
   "execution_count": null,
   "metadata": {
    "scrolled": true
   },
   "outputs": [],
   "source": [
    "for epoch in range(100):\n",
    "    tic = tt() \n",
    "    model.train()\n",
    "    train_loss = train_gnn(model, train_loader, optimizer, m_configs)\n",
    "    print('Training loss: {:.4f} in time {}'.format(train_loss, tt() - tic))\n",
    "\n",
    "    model.eval()\n",
    "    with torch.no_grad():\n",
    "        edge_pur, edge_eff, val_loss = evaluate_gnn(model, test_loader, m_configs)\n",
    "    wandb.log({\"val_loss\": val_loss, \"train_loss\": train_loss, \"edge_pur\": edge_pur, \"edge_eff\": edge_eff, \"lr\": optimizer.param_groups[0]['lr']})\n",
    "    scheduler.step(val_loss)\n",
    "\n",
    "    save_model(epoch, model, optimizer, scheduler, val_loss, m_configs, 'ResAGNN/'+model_name._name+'.tar')\n",
    "\n",
    "    print('Epoch: {}, Eff: {:.4f}, Pur: {:.4f}, Loss: {:.4f}, LR: {} in time {}'.format(epoch, edge_eff, edge_pur, val_loss, optimizer.param_groups[0]['lr'], tt()-tic))"
   ]
  }
 ],
 "metadata": {
  "kernelspec": {
   "display_name": "ExatrkxTest",
   "language": "python",
   "name": "exatrkx-test"
  },
  "language_info": {
   "codemirror_mode": {
    "name": "ipython",
    "version": 3
   },
   "file_extension": ".py",
   "mimetype": "text/x-python",
   "name": "python",
   "nbconvert_exporter": "python",
   "pygments_lexer": "ipython3",
   "version": "3.7.7"
  }
 },
 "nbformat": 4,
 "nbformat_minor": 4
}
