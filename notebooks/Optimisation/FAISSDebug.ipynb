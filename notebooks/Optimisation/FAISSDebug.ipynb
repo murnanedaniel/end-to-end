{
 "cells": [
  {
   "cell_type": "markdown",
   "metadata": {},
   "source": [
    "# Debug FAISS Performance"
   ]
  },
  {
   "cell_type": "code",
   "execution_count": 1,
   "metadata": {},
   "outputs": [],
   "source": [
    "%load_ext autoreload\n",
    "%autoreload 2"
   ]
  },
  {
   "cell_type": "code",
   "execution_count": 2,
   "metadata": {
    "code_folding": []
   },
   "outputs": [],
   "source": [
    "# System imports\n",
    "import os\n",
    "import sys\n",
    "from time import time as tt\n",
    "import importlib\n",
    "\n",
    "# External imports\n",
    "import matplotlib.pyplot as plt\n",
    "import scipy as sp\n",
    "import numpy as np\n",
    "import pandas as pd\n",
    "import seaborn as sns\n",
    "import torch\n",
    "from torch_geometric.data import DataLoader\n",
    "\n",
    "from itertools import chain\n",
    "from random import shuffle, sample\n",
    "from scipy.optimize import root_scalar as root\n",
    "\n",
    "from torch.nn import Linear\n",
    "import torch.nn.functional as F\n",
    "from torch_cluster import knn_graph, radius_graph\n",
    "import trackml.dataset\n",
    "import torch_geometric\n",
    "from itertools import permutations\n",
    "import itertools\n",
    "from sklearn import metrics\n",
    "import pytorch_lightning as pl\n",
    "from pytorch_lightning import LightningModule, Trainer\n",
    "from pytorch_lightning.loggers import WandbLogger\n",
    "from torch.utils.checkpoint import checkpoint\n",
    "\n",
    "import faiss\n",
    "\n",
    "sys.path.append('/global/homes/d/danieltm/ExaTrkX/Tracking-ML-Exa.TrkX/src/Pipelines/TrackML_Example')\n",
    "device = \"cuda\" if torch.cuda.is_available() else \"cpu\""
   ]
  },
  {
   "cell_type": "code",
   "execution_count": 3,
   "metadata": {},
   "outputs": [],
   "source": [
    "from utils.stage_utils import get_resume_id, load_config, combo_config, dict_to_args, get_logger, build_model, build_trainer, autocast\n",
    "from LightningModules.Embedding.Models.layerless_embedding import LayerlessEmbedding\n",
    "from LightningModules.Embedding.utils import filter_hit_pt, fetch_pt, fetch_type, load_dataset, graph_intersection, build_edges"
   ]
  },
  {
   "cell_type": "markdown",
   "metadata": {
    "heading_collapsed": true
   },
   "source": [
    "## Exploration"
   ]
  },
  {
   "cell_type": "code",
   "execution_count": 96,
   "metadata": {
    "hidden": true
   },
   "outputs": [],
   "source": [
    "def build_edges(spatial, r_max, k_max, return_indices=False):\n",
    "    \n",
    "    if device == \"cuda\":\n",
    "        res = faiss.StandardGpuResources()\n",
    "        D, I = faiss.knn_gpu(res, spatial, spatial, k_max)\n",
    "    elif device == \"cpu\":\n",
    "        index = faiss.IndexFlatL2(spatial.shape[1])\n",
    "        index.add(spatial)\n",
    "        D, I = index.search(spatial, k_max)\n",
    "        \n",
    "    D, I = D[:,1:], I[:,1:]\n",
    "    ind = torch.Tensor.repeat(torch.arange(I.shape[0], device=device), (I.shape[1], 1), 1).T\n",
    "\n",
    "    edge_list = torch.stack([ind[D <= r_max**2], I[D <= r_max**2]])\n",
    "\n",
    "    if return_indices:\n",
    "        return edge_list, D, I, ind\n",
    "    else:\n",
    "        return edge_list\n",
    "    \n",
    "def build_edges_with_index(spatial, index, r_max, k_max, return_indices=False):\n",
    "    \n",
    "    D, I = index.search(spatial, k_max)\n",
    "        \n",
    "    D, I = D[:,1:], I[:,1:]\n",
    "    ind = torch.Tensor.repeat(torch.arange(I.shape[0], device=device), (I.shape[1], 1), 1).T\n",
    "\n",
    "    edge_list = torch.stack([ind[D <= r_max**2], I[D <= r_max**2]])\n",
    "\n",
    "    if return_indices:\n",
    "        return edge_list, D, I, ind\n",
    "    else:\n",
    "        return edge_list\n",
    "\n",
    "def search_index_pytorch(index, x, k, D=None, I=None):\n",
    "    \"\"\"call the search function of an index with pytorch tensor I/O (CPU\n",
    "    and GPU supported)\"\"\"\n",
    "    assert x.is_contiguous()\n",
    "    n, d = x.size()\n",
    "    assert d == index.d\n",
    "\n",
    "    if D is None:\n",
    "        D = torch.empty((n, k), dtype=torch.float32, device=x.device)\n",
    "    else:\n",
    "        assert D.size() == (n, k)\n",
    "\n",
    "    if I is None:\n",
    "        I = torch.empty((n, k), dtype=torch.int64, device=x.device)\n",
    "    else:\n",
    "        assert I.size() == (n, k)\n",
    "    torch.cuda.synchronize()\n",
    "    xptr = swig_ptr_from_FloatTensor(x)\n",
    "    Iptr = swig_ptr_from_LongTensor(I)\n",
    "    Dptr = swig_ptr_from_FloatTensor(D)\n",
    "    index.search_c(n, xptr,\n",
    "                   k, Dptr, Iptr)\n",
    "    torch.cuda.synchronize()\n",
    "    return D, I\n",
    "\n",
    "def swig_ptr_from_FloatTensor(x):\n",
    "    assert x.is_contiguous()\n",
    "    assert x.dtype == torch.float32\n",
    "    return faiss.cast_integer_to_float_ptr(\n",
    "        x.storage().data_ptr() + x.storage_offset() * 4)\n",
    "\n",
    "def swig_ptr_from_LongTensor(x):\n",
    "    assert x.is_contiguous()\n",
    "    assert x.dtype == torch.int64, 'dtype=%s' % x.dtype\n",
    "    return faiss.cast_integer_to_long_ptr(\n",
    "        x.storage().data_ptr() + x.storage_offset() * 8)"
   ]
  },
  {
   "cell_type": "code",
   "execution_count": 4,
   "metadata": {
    "hidden": true
   },
   "outputs": [],
   "source": [
    "import faiss.contrib.torch_utils"
   ]
  },
  {
   "cell_type": "code",
   "execution_count": 113,
   "metadata": {
    "hidden": true
   },
   "outputs": [],
   "source": [
    "torch.manual_seed(10)\n",
    "d = 8\n",
    "nb = 100000\n",
    "nq = 10\n",
    "k = 500\n",
    "r = 0.1"
   ]
  },
  {
   "cell_type": "code",
   "execution_count": 106,
   "metadata": {
    "hidden": true
   },
   "outputs": [
    {
     "name": "stdout",
     "output_type": "stream",
     "text": [
      "CPU times: user 76 µs, sys: 90 µs, total: 166 µs\n",
      "Wall time: 172 µs\n"
     ]
    }
   ],
   "source": [
    "%%time\n",
    "spatial = torch.rand(nb, d, dtype=torch.float32, device=torch.device('cuda'))"
   ]
  },
  {
   "cell_type": "code",
   "execution_count": 102,
   "metadata": {
    "hidden": true
   },
   "outputs": [
    {
     "name": "stdout",
     "output_type": "stream",
     "text": [
      "CPU times: user 168 ms, sys: 205 ms, total: 373 ms\n",
      "Wall time: 372 ms\n"
     ]
    }
   ],
   "source": [
    "%%time\n",
    "edge_list = build_edges(spatial, r, k)"
   ]
  },
  {
   "cell_type": "code",
   "execution_count": 107,
   "metadata": {
    "hidden": true
   },
   "outputs": [
    {
     "name": "stdout",
     "output_type": "stream",
     "text": [
      "CPU times: user 0 ns, sys: 1.47 ms, total: 1.47 ms\n",
      "Wall time: 1.21 ms\n"
     ]
    }
   ],
   "source": [
    "%%time\n",
    "gpu_index = faiss.GpuIndexFlatL2(res, d)\n",
    "gpu_index.add(spatial)"
   ]
  },
  {
   "cell_type": "code",
   "execution_count": 105,
   "metadata": {
    "hidden": true
   },
   "outputs": [
    {
     "name": "stdout",
     "output_type": "stream",
     "text": [
      "CPU times: user 190 ms, sys: 75 ms, total: 265 ms\n",
      "Wall time: 265 ms\n"
     ]
    }
   ],
   "source": [
    "%%time\n",
    "edge_list = build_edges_with_index(spatial, gpu_index, r, k)"
   ]
  },
  {
   "cell_type": "code",
   "execution_count": 108,
   "metadata": {
    "hidden": true
   },
   "outputs": [
    {
     "name": "stdout",
     "output_type": "stream",
     "text": [
      "CPU times: user 2.29 ms, sys: 0 ns, total: 2.29 ms\n",
      "Wall time: 1.92 ms\n"
     ]
    }
   ],
   "source": [
    "%%time\n",
    "D, I = gpu_index.search(spatial, k)"
   ]
  },
  {
   "cell_type": "code",
   "execution_count": 88,
   "metadata": {
    "hidden": true
   },
   "outputs": [
    {
     "name": "stdout",
     "output_type": "stream",
     "text": [
      "CPU times: user 86.4 ms, sys: 66.3 ms, total: 153 ms\n",
      "Wall time: 90.8 ms\n"
     ]
    }
   ],
   "source": [
    "%%time\n",
    "D, I = D[:,1:], I[:,1:]\n",
    "ind = torch.Tensor.repeat(torch.arange(I.shape[0]), (I.shape[1], 1), 1).T.to(device)\n",
    "edge_list = torch.stack([ind[D <= r**2], I[D <= r**2]])"
   ]
  },
  {
   "cell_type": "code",
   "execution_count": 109,
   "metadata": {
    "hidden": true
   },
   "outputs": [
    {
     "name": "stdout",
     "output_type": "stream",
     "text": [
      "CPU times: user 1.94 ms, sys: 0 ns, total: 1.94 ms\n",
      "Wall time: 1.53 ms\n"
     ]
    }
   ],
   "source": [
    "%%time\n",
    "D, I = D[:,1:], I[:,1:]\n",
    "ind = torch.Tensor.repeat(torch.arange(I.shape[0], device=device), (I.shape[1], 1), 1).T\n",
    "edge_list = torch.stack([ind[D <= r**2], I[D <= r**2]])"
   ]
  },
  {
   "cell_type": "code",
   "execution_count": 121,
   "metadata": {
    "hidden": true
   },
   "outputs": [],
   "source": [
    "spatial = torch.rand(nb, d, dtype=torch.float32, device=torch.device('cuda'))"
   ]
  },
  {
   "cell_type": "code",
   "execution_count": 122,
   "metadata": {
    "hidden": true
   },
   "outputs": [
    {
     "name": "stdout",
     "output_type": "stream",
     "text": [
      "CPU times: user 1.48 ms, sys: 0 ns, total: 1.48 ms\n",
      "Wall time: 1.18 ms\n"
     ]
    }
   ],
   "source": [
    "%%time\n",
    "gpu_index = faiss.GpuIndexFlatL2(res, d)\n",
    "gpu_index.add(spatial)\n",
    "\n"
   ]
  },
  {
   "cell_type": "code",
   "execution_count": 124,
   "metadata": {
    "hidden": true
   },
   "outputs": [
    {
     "name": "stdout",
     "output_type": "stream",
     "text": [
      "CPU times: user 2.75 ms, sys: 0 ns, total: 2.75 ms\n",
      "Wall time: 2.32 ms\n"
     ]
    }
   ],
   "source": [
    "%%time\n",
    "D, I = gpu_index.search(spatial, k)\n",
    "\n",
    "D, I = D[:,1:], I[:,1:]\n"
   ]
  },
  {
   "cell_type": "code",
   "execution_count": 126,
   "metadata": {
    "hidden": true
   },
   "outputs": [
    {
     "name": "stdout",
     "output_type": "stream",
     "text": [
      "CPU times: user 3.22 ms, sys: 0 ns, total: 3.22 ms\n",
      "Wall time: 2.77 ms\n"
     ]
    }
   ],
   "source": [
    "%%time\n",
    "ind = torch.Tensor.repeat(torch.arange(I.shape[0], device=device), (I.shape[1], 1), 1).T\n",
    "edge_list = torch.stack([ind[D <= r**2], I[D <= r**2]])"
   ]
  },
  {
   "cell_type": "markdown",
   "metadata": {},
   "source": [
    "# Indexing"
   ]
  },
  {
   "cell_type": "markdown",
   "metadata": {
    "heading_collapsed": true
   },
   "source": [
    "## Flat Index on CPU"
   ]
  },
  {
   "cell_type": "markdown",
   "metadata": {
    "hidden": true
   },
   "source": [
    "Make dataset"
   ]
  },
  {
   "cell_type": "code",
   "execution_count": 3,
   "metadata": {
    "hidden": true
   },
   "outputs": [],
   "source": [
    "d = 8                           # dimension\n",
    "nb = 100000                      # database size\n",
    "nq = 10000                       # nb of queries\n",
    "np.random.seed(0)             # make reproducible\n",
    "xb = np.random.random((nb, d)).astype('float32')\n",
    "xb[:, 0] += np.arange(nb) / 1000.\n",
    "xq = np.random.random((nq, d)).astype('float32')\n",
    "xq[:, 0] += np.arange(nq) / 1000."
   ]
  },
  {
   "cell_type": "markdown",
   "metadata": {
    "hidden": true
   },
   "source": [
    "Build index"
   ]
  },
  {
   "cell_type": "code",
   "execution_count": 5,
   "metadata": {
    "hidden": true
   },
   "outputs": [
    {
     "name": "stdout",
     "output_type": "stream",
     "text": [
      "True\n",
      "100000\n",
      "CPU times: user 0 ns, sys: 2.05 ms, total: 2.05 ms\n",
      "Wall time: 1.61 ms\n"
     ]
    }
   ],
   "source": [
    "%%time\n",
    "index = faiss.IndexFlatL2(d)   # build the index\n",
    "print(index.is_trained)\n",
    "index.add(xb)                  # add vectors to the index\n",
    "print(index.ntotal)"
   ]
  },
  {
   "cell_type": "markdown",
   "metadata": {
    "hidden": true
   },
   "source": [
    "Run search"
   ]
  },
  {
   "cell_type": "code",
   "execution_count": 188,
   "metadata": {
    "hidden": true
   },
   "outputs": [
    {
     "ename": "TypeError",
     "evalue": "in method 'IndexFlat_search', argument 4 of type 'faiss::Index::idx_t'",
     "output_type": "error",
     "traceback": [
      "\u001b[0;31m---------------------------------------------------------------------------\u001b[0m",
      "\u001b[0;31mTypeError\u001b[0m                                 Traceback (most recent call last)",
      "\u001b[0;32m<timed exec>\u001b[0m in \u001b[0;36m<module>\u001b[0;34m\u001b[0m\n",
      "\u001b[0;32m~/.conda/envs/exatrkx-test/lib/python3.7/site-packages/faiss/contrib/torch_utils.py\u001b[0m in \u001b[0;36mtorch_replacement_search\u001b[0;34m(self, x, k, D, I)\u001b[0m\n\u001b[1;32m    187\u001b[0m         \u001b[0;32mif\u001b[0m \u001b[0mtype\u001b[0m\u001b[0;34m(\u001b[0m\u001b[0mx\u001b[0m\u001b[0;34m)\u001b[0m \u001b[0;32mis\u001b[0m \u001b[0mnp\u001b[0m\u001b[0;34m.\u001b[0m\u001b[0mndarray\u001b[0m\u001b[0;34m:\u001b[0m\u001b[0;34m\u001b[0m\u001b[0;34m\u001b[0m\u001b[0m\n\u001b[1;32m    188\u001b[0m             \u001b[0;31m# forward to faiss __init__.py base method\u001b[0m\u001b[0;34m\u001b[0m\u001b[0;34m\u001b[0m\u001b[0;34m\u001b[0m\u001b[0m\n\u001b[0;32m--> 189\u001b[0;31m             \u001b[0;32mreturn\u001b[0m \u001b[0mself\u001b[0m\u001b[0;34m.\u001b[0m\u001b[0msearch_numpy\u001b[0m\u001b[0;34m(\u001b[0m\u001b[0mx\u001b[0m\u001b[0;34m,\u001b[0m \u001b[0mk\u001b[0m\u001b[0;34m,\u001b[0m \u001b[0mD\u001b[0m\u001b[0;34m,\u001b[0m \u001b[0mI\u001b[0m\u001b[0;34m)\u001b[0m\u001b[0;34m\u001b[0m\u001b[0;34m\u001b[0m\u001b[0m\n\u001b[0m\u001b[1;32m    190\u001b[0m \u001b[0;34m\u001b[0m\u001b[0m\n\u001b[1;32m    191\u001b[0m         \u001b[0;32massert\u001b[0m \u001b[0mtype\u001b[0m\u001b[0;34m(\u001b[0m\u001b[0mx\u001b[0m\u001b[0;34m)\u001b[0m \u001b[0;32mis\u001b[0m \u001b[0mtorch\u001b[0m\u001b[0;34m.\u001b[0m\u001b[0mTensor\u001b[0m\u001b[0;34m\u001b[0m\u001b[0;34m\u001b[0m\u001b[0m\n",
      "\u001b[0;32m~/.conda/envs/exatrkx-test/lib/python3.7/site-packages/faiss/__init__.py\u001b[0m in \u001b[0;36mreplacement_search\u001b[0;34m(self, x, k, D, I)\u001b[0m\n\u001b[1;32m    142\u001b[0m             \u001b[0;32massert\u001b[0m \u001b[0mI\u001b[0m\u001b[0;34m.\u001b[0m\u001b[0mshape\u001b[0m \u001b[0;34m==\u001b[0m \u001b[0;34m(\u001b[0m\u001b[0mn\u001b[0m\u001b[0;34m,\u001b[0m \u001b[0mk\u001b[0m\u001b[0;34m)\u001b[0m\u001b[0;34m\u001b[0m\u001b[0;34m\u001b[0m\u001b[0m\n\u001b[1;32m    143\u001b[0m \u001b[0;34m\u001b[0m\u001b[0m\n\u001b[0;32m--> 144\u001b[0;31m         \u001b[0mself\u001b[0m\u001b[0;34m.\u001b[0m\u001b[0msearch_c\u001b[0m\u001b[0;34m(\u001b[0m\u001b[0mn\u001b[0m\u001b[0;34m,\u001b[0m \u001b[0mswig_ptr\u001b[0m\u001b[0;34m(\u001b[0m\u001b[0mx\u001b[0m\u001b[0;34m)\u001b[0m\u001b[0;34m,\u001b[0m \u001b[0mk\u001b[0m\u001b[0;34m,\u001b[0m \u001b[0mswig_ptr\u001b[0m\u001b[0;34m(\u001b[0m\u001b[0mD\u001b[0m\u001b[0;34m)\u001b[0m\u001b[0;34m,\u001b[0m \u001b[0mswig_ptr\u001b[0m\u001b[0;34m(\u001b[0m\u001b[0mI\u001b[0m\u001b[0;34m)\u001b[0m\u001b[0;34m)\u001b[0m\u001b[0;34m\u001b[0m\u001b[0;34m\u001b[0m\u001b[0m\n\u001b[0m\u001b[1;32m    145\u001b[0m         \u001b[0;32mreturn\u001b[0m \u001b[0mD\u001b[0m\u001b[0;34m,\u001b[0m \u001b[0mI\u001b[0m\u001b[0;34m\u001b[0m\u001b[0;34m\u001b[0m\u001b[0m\n\u001b[1;32m    146\u001b[0m \u001b[0;34m\u001b[0m\u001b[0m\n",
      "\u001b[0;32m~/.conda/envs/exatrkx-test/lib/python3.7/site-packages/faiss/swigfaiss.py\u001b[0m in \u001b[0;36msearch\u001b[0;34m(self, n, x, k, distances, labels)\u001b[0m\n\u001b[1;32m   1929\u001b[0m \u001b[0;34m\u001b[0m\u001b[0m\n\u001b[1;32m   1930\u001b[0m     \u001b[0;32mdef\u001b[0m \u001b[0msearch\u001b[0m\u001b[0;34m(\u001b[0m\u001b[0mself\u001b[0m\u001b[0;34m,\u001b[0m \u001b[0mn\u001b[0m\u001b[0;34m,\u001b[0m \u001b[0mx\u001b[0m\u001b[0;34m,\u001b[0m \u001b[0mk\u001b[0m\u001b[0;34m,\u001b[0m \u001b[0mdistances\u001b[0m\u001b[0;34m,\u001b[0m \u001b[0mlabels\u001b[0m\u001b[0;34m)\u001b[0m\u001b[0;34m:\u001b[0m\u001b[0;34m\u001b[0m\u001b[0;34m\u001b[0m\u001b[0m\n\u001b[0;32m-> 1931\u001b[0;31m         \u001b[0;32mreturn\u001b[0m \u001b[0m_swigfaiss\u001b[0m\u001b[0;34m.\u001b[0m\u001b[0mIndexFlat_search\u001b[0m\u001b[0;34m(\u001b[0m\u001b[0mself\u001b[0m\u001b[0;34m,\u001b[0m \u001b[0mn\u001b[0m\u001b[0;34m,\u001b[0m \u001b[0mx\u001b[0m\u001b[0;34m,\u001b[0m \u001b[0mk\u001b[0m\u001b[0;34m,\u001b[0m \u001b[0mdistances\u001b[0m\u001b[0;34m,\u001b[0m \u001b[0mlabels\u001b[0m\u001b[0;34m)\u001b[0m\u001b[0;34m\u001b[0m\u001b[0;34m\u001b[0m\u001b[0m\n\u001b[0m\u001b[1;32m   1932\u001b[0m \u001b[0;34m\u001b[0m\u001b[0m\n\u001b[1;32m   1933\u001b[0m     \u001b[0;32mdef\u001b[0m \u001b[0mrange_search\u001b[0m\u001b[0;34m(\u001b[0m\u001b[0mself\u001b[0m\u001b[0;34m,\u001b[0m \u001b[0mn\u001b[0m\u001b[0;34m,\u001b[0m \u001b[0mx\u001b[0m\u001b[0;34m,\u001b[0m \u001b[0mradius\u001b[0m\u001b[0;34m,\u001b[0m \u001b[0mresult\u001b[0m\u001b[0;34m)\u001b[0m\u001b[0;34m:\u001b[0m\u001b[0;34m\u001b[0m\u001b[0;34m\u001b[0m\u001b[0m\n",
      "\u001b[0;31mTypeError\u001b[0m: in method 'IndexFlat_search', argument 4 of type 'faiss::Index::idx_t'"
     ]
    }
   ],
   "source": [
    "%%time\n",
    "for k in np.arange(1, 100, 5):\n",
    "    tic = tt()\n",
    "    D, I = index.search(xb, k)     # actual search\n",
    "    print(\"{} neighbours @ {} seconds\".format(k, tt()-tic))"
   ]
  },
  {
   "cell_type": "code",
   "execution_count": 7,
   "metadata": {
    "hidden": true
   },
   "outputs": [],
   "source": [
    "k = 4\n",
    "D, I = index.search(xb, k)     # actual search"
   ]
  },
  {
   "cell_type": "markdown",
   "metadata": {
    "heading_collapsed": true
   },
   "source": [
    "## Flat Index on GPU"
   ]
  },
  {
   "cell_type": "code",
   "execution_count": 92,
   "metadata": {
    "hidden": true
   },
   "outputs": [],
   "source": [
    "import faiss.contrib.torch_utils"
   ]
  },
  {
   "cell_type": "code",
   "execution_count": 93,
   "metadata": {
    "hidden": true
   },
   "outputs": [],
   "source": [
    "res = faiss.StandardGpuResources()"
   ]
  },
  {
   "cell_type": "code",
   "execution_count": 42,
   "metadata": {
    "hidden": true,
    "scrolled": true
   },
   "outputs": [
    {
     "name": "stdout",
     "output_type": "stream",
     "text": [
      "1.0 neighbours @ 0.17615818977355957 seconds\n",
      "1.4384498882876628 neighbours @ 0.17444539070129395 seconds\n",
      "2.0691380811147897 neighbours @ 0.18125152587890625 seconds\n",
      "2.976351441631318 neighbours @ 0.1811387538909912 seconds\n",
      "4.281332398719393 neighbours @ 0.18437409400939941 seconds\n",
      "6.158482110660264 neighbours @ 0.1883237361907959 seconds\n",
      "8.858667904100825 neighbours @ 0.18972206115722656 seconds\n",
      "12.742749857031335 neighbours @ 0.19418931007385254 seconds\n",
      "18.329807108324356 neighbours @ 0.20281219482421875 seconds\n",
      "26.366508987303583 neighbours @ 0.21146202087402344 seconds\n",
      "37.926901907322495 neighbours @ 0.22797703742980957 seconds\n",
      "54.55594781168517 neighbours @ 0.25095248222351074 seconds\n",
      "78.47599703514611 neighbours @ 0.28458690643310547 seconds\n",
      "112.88378916846884 neighbours @ 0.3595256805419922 seconds\n",
      "162.3776739188721 neighbours @ 0.4506218433380127 seconds\n",
      "233.57214690901213 neighbours @ 0.5582706928253174 seconds\n",
      "335.9818286283781 neighbours @ 0.8598945140838623 seconds\n",
      "483.2930238571752 neighbours @ 1.0994524955749512 seconds\n",
      "695.1927961775606 neighbours @ 1.9993810653686523 seconds\n",
      "1000.0 neighbours @ 2.5213897228240967 seconds\n",
      "CPU times: user 6.59 s, sys: 3.93 s, total: 10.5 s\n",
      "Wall time: 10.5 s\n"
     ]
    }
   ],
   "source": [
    "%%time\n",
    "k_timings = []\n",
    "k_ticks = np.logspace(0, 3, num=20, base=10)\n",
    "for k in k_ticks:\n",
    "    tic = tt()\n",
    "    D, I = faiss.knn_gpu(res, xb, xb, int(k))\n",
    "    k_timing = tt()-tic\n",
    "    k_timings.append(k_timing)\n",
    "    print(\"{} neighbours @ {} seconds\".format(k, k_timing))"
   ]
  },
  {
   "cell_type": "code",
   "execution_count": 43,
   "metadata": {
    "hidden": true
   },
   "outputs": [
    {
     "data": {
      "image/png": "[encoded data removed]",
      "text/plain": [
       "<Figure size 432x288 with 1 Axes>"
      ]
     },
     "metadata": {
      "needs_background": "light"
     },
     "output_type": "display_data"
    }
   ],
   "source": [
    "plt.scatter(k_ticks, k_timings)\n",
    "plt.plot(k_ticks, k_timings)\n",
    "plt.xscale(\"log\")\n",
    "plt.yscale(\"log\")"
   ]
  },
  {
   "cell_type": "code",
   "execution_count": 44,
   "metadata": {
    "hidden": true
   },
   "outputs": [],
   "source": [
    "k_brute_gpu_timings = k_timings"
   ]
  },
  {
   "cell_type": "markdown",
   "metadata": {
    "hidden": true
   },
   "source": [
    "So already we're down two orders of magnitude, but we want ONE more order of magnitude speed-up!"
   ]
  },
  {
   "cell_type": "markdown",
   "metadata": {
    "heading_collapsed": true
   },
   "source": [
    "## Voronoi Index on CPU"
   ]
  },
  {
   "cell_type": "markdown",
   "metadata": {
    "hidden": true
   },
   "source": [
    "Build index:"
   ]
  },
  {
   "cell_type": "code",
   "execution_count": 69,
   "metadata": {
    "hidden": true
   },
   "outputs": [
    {
     "name": "stdout",
     "output_type": "stream",
     "text": [
      "CPU times: user 493 ms, sys: 721 µs, total: 494 ms\n",
      "Wall time: 418 ms\n"
     ]
    }
   ],
   "source": [
    "%%time\n",
    "nlist = 100\n",
    "quantizer = faiss.IndexFlatL2(d)  # the other index\n",
    "index = faiss.IndexIVFFlat(quantizer, d, nlist)\n",
    "assert not index.is_trained\n",
    "index.train(xb)\n",
    "assert index.is_trained"
   ]
  },
  {
   "cell_type": "markdown",
   "metadata": {
    "hidden": true
   },
   "source": [
    "Add to index:"
   ]
  },
  {
   "cell_type": "code",
   "execution_count": 70,
   "metadata": {
    "hidden": true
   },
   "outputs": [
    {
     "name": "stdout",
     "output_type": "stream",
     "text": [
      "CPU times: user 44.9 ms, sys: 551 µs, total: 45.5 ms\n",
      "Wall time: 30.9 ms\n"
     ]
    }
   ],
   "source": [
    "%%time\n",
    "index.add(xb)                  # add may be a bit slower as well"
   ]
  },
  {
   "cell_type": "markdown",
   "metadata": {
    "hidden": true
   },
   "source": [
    "Search index"
   ]
  },
  {
   "cell_type": "code",
   "execution_count": 71,
   "metadata": {
    "hidden": true,
    "scrolled": true
   },
   "outputs": [
    {
     "name": "stdout",
     "output_type": "stream",
     "text": [
      "1.0 neighbours @ 0.8938710689544678 seconds\n",
      "1.4384498882876628 neighbours @ 0.876331090927124 seconds\n",
      "2.0691380811147897 neighbours @ 0.8825416564941406 seconds\n",
      "2.976351441631318 neighbours @ 0.8898870944976807 seconds\n",
      "4.281332398719393 neighbours @ 0.9190943241119385 seconds\n",
      "6.158482110660264 neighbours @ 0.922710657119751 seconds\n",
      "8.858667904100825 neighbours @ 0.9409420490264893 seconds\n",
      "12.742749857031335 neighbours @ 1.041151523590088 seconds\n",
      "18.329807108324356 neighbours @ 1.109616994857788 seconds\n",
      "26.366508987303583 neighbours @ 1.2541930675506592 seconds\n",
      "37.926901907322495 neighbours @ 1.4665491580963135 seconds\n",
      "54.55594781168517 neighbours @ 1.615947961807251 seconds\n",
      "78.47599703514611 neighbours @ 1.97585129737854 seconds\n",
      "112.88378916846884 neighbours @ 2.3631577491760254 seconds\n",
      "162.3776739188721 neighbours @ 2.9718120098114014 seconds\n",
      "233.57214690901213 neighbours @ 3.639375925064087 seconds\n",
      "335.9818286283781 neighbours @ 4.468969106674194 seconds\n",
      "483.2930238571752 neighbours @ 5.6040122509002686 seconds\n",
      "695.1927961775606 neighbours @ 6.9021501541137695 seconds\n",
      "1000.0 neighbours @ 8.645973205566406 seconds\n",
      "CPU times: user 1min 33s, sys: 1.69 s, total: 1min 34s\n",
      "Wall time: 49.4 s\n"
     ]
    }
   ],
   "source": [
    "%%time\n",
    "k_timings = []\n",
    "for k in k_ticks:\n",
    "    tic = tt()\n",
    "    index.remove_ids(np.arange(index.ntotal, dtype='int64'))\n",
    "    index.add(xb)                  # add may be a bit slower as well\n",
    "    \n",
    "    index.nprobe = 1              # default nprobe is 1, try a few more\n",
    "    D, I = index.search(xb, int(k))\n",
    "    \n",
    "    k_timing = tt()-tic\n",
    "    k_timings.append(k_timing)\n",
    "    \n",
    "    print(\"{} neighbours @ {} seconds\".format(k, k_timing))"
   ]
  },
  {
   "cell_type": "code",
   "execution_count": 72,
   "metadata": {
    "hidden": true
   },
   "outputs": [
    {
     "data": {
      "image/png": "[encoded data removed]",
      "text/plain": [
       "<Figure size 432x288 with 1 Axes>"
      ]
     },
     "metadata": {
      "needs_background": "light"
     },
     "output_type": "display_data"
    }
   ],
   "source": [
    "plt.scatter(k_ticks, k_timings)\n",
    "plt.plot(k_ticks, k_timings)\n",
    "plt.xscale(\"log\")\n",
    "plt.yscale(\"log\")"
   ]
  },
  {
   "cell_type": "code",
   "execution_count": 73,
   "metadata": {
    "hidden": true
   },
   "outputs": [],
   "source": [
    "k_voronoi_cpu_timings = k_timings"
   ]
  },
  {
   "cell_type": "code",
   "execution_count": 67,
   "metadata": {
    "hidden": true
   },
   "outputs": [
    {
     "data": {
      "image/png": "[encoded data removed]",
      "text/plain": [
       "<Figure size 432x288 with 1 Axes>"
      ]
     },
     "metadata": {
      "needs_background": "light"
     },
     "output_type": "display_data"
    }
   ],
   "source": [
    "plt.scatter(k_ticks, k_voronoi_cpu_timings)\n",
    "plt.plot(k_ticks, k_voronoi_cpu_timings)\n",
    "plt.scatter(k_ticks, k_flat_gpu_timings)\n",
    "plt.plot(k_ticks, k_flat_gpu_timings)\n",
    "plt.xscale(\"log\")\n",
    "plt.yscale(\"log\")"
   ]
  },
  {
   "cell_type": "markdown",
   "metadata": {
    "hidden": true
   },
   "source": [
    "About one order of magnitude improvement."
   ]
  },
  {
   "cell_type": "markdown",
   "metadata": {
    "heading_collapsed": true
   },
   "source": [
    "## Voronoi Index on GPU"
   ]
  },
  {
   "cell_type": "code",
   "execution_count": 117,
   "metadata": {
    "hidden": true
   },
   "outputs": [],
   "source": [
    "res = faiss.StandardGpuResources()"
   ]
  },
  {
   "cell_type": "code",
   "execution_count": 118,
   "metadata": {
    "hidden": true
   },
   "outputs": [],
   "source": [
    "index = faiss.index_factory(d, \"IVF16384,PQ8\")"
   ]
  },
  {
   "cell_type": "code",
   "execution_count": 76,
   "metadata": {
    "hidden": true
   },
   "outputs": [],
   "source": [
    "index = faiss.index_factory(d, \"IVF16384, Flat\")"
   ]
  },
  {
   "cell_type": "code",
   "execution_count": 119,
   "metadata": {
    "hidden": true
   },
   "outputs": [],
   "source": [
    "co = faiss.GpuClonerOptions()\n",
    "co.useFloat16 = True"
   ]
  },
  {
   "cell_type": "code",
   "execution_count": 120,
   "metadata": {
    "hidden": true
   },
   "outputs": [
    {
     "name": "stdout",
     "output_type": "stream",
     "text": [
      "CPU times: user 445 µs, sys: 104 ms, total: 105 ms\n",
      "Wall time: 104 ms\n"
     ]
    }
   ],
   "source": [
    "%%time\n",
    "index = faiss.index_cpu_to_gpu(res, 0, index, co)"
   ]
  },
  {
   "cell_type": "code",
   "execution_count": 32,
   "metadata": {
    "hidden": true
   },
   "outputs": [
    {
     "name": "stdout",
     "output_type": "stream",
     "text": [
      "CPU times: user 1.46 ms, sys: 0 ns, total: 1.46 ms\n",
      "Wall time: 1.05 ms\n"
     ]
    }
   ],
   "source": [
    "%%time\n",
    "# xb_pt = torch.from_numpy(xb).half().to(device)\n",
    "xb_pt = torch.from_numpy(xb).to(device)"
   ]
  },
  {
   "cell_type": "code",
   "execution_count": 33,
   "metadata": {
    "hidden": true,
    "scrolled": true
   },
   "outputs": [
    {
     "ename": "ValueError",
     "evalue": "input not a numpy array",
     "output_type": "error",
     "traceback": [
      "\u001b[0;31m---------------------------------------------------------------------------\u001b[0m",
      "\u001b[0;31mValueError\u001b[0m                                Traceback (most recent call last)",
      "\u001b[0;32m<timed eval>\u001b[0m in \u001b[0;36m<module>\u001b[0;34m\u001b[0m\n",
      "\u001b[0;32m~/.conda/envs/exatrkx-test/lib/python3.7/site-packages/faiss/__init__.py\u001b[0m in \u001b[0;36mreplacement_train\u001b[0;34m(self, x)\u001b[0m\n\u001b[1;32m    126\u001b[0m         \u001b[0mn\u001b[0m\u001b[0;34m,\u001b[0m \u001b[0md\u001b[0m \u001b[0;34m=\u001b[0m \u001b[0mx\u001b[0m\u001b[0;34m.\u001b[0m\u001b[0mshape\u001b[0m\u001b[0;34m\u001b[0m\u001b[0;34m\u001b[0m\u001b[0m\n\u001b[1;32m    127\u001b[0m         \u001b[0;32massert\u001b[0m \u001b[0md\u001b[0m \u001b[0;34m==\u001b[0m \u001b[0mself\u001b[0m\u001b[0;34m.\u001b[0m\u001b[0md\u001b[0m\u001b[0;34m\u001b[0m\u001b[0;34m\u001b[0m\u001b[0m\n\u001b[0;32m--> 128\u001b[0;31m         \u001b[0mself\u001b[0m\u001b[0;34m.\u001b[0m\u001b[0mtrain_c\u001b[0m\u001b[0;34m(\u001b[0m\u001b[0mn\u001b[0m\u001b[0;34m,\u001b[0m \u001b[0mswig_ptr\u001b[0m\u001b[0;34m(\u001b[0m\u001b[0mx\u001b[0m\u001b[0;34m)\u001b[0m\u001b[0;34m)\u001b[0m\u001b[0;34m\u001b[0m\u001b[0;34m\u001b[0m\u001b[0m\n\u001b[0m\u001b[1;32m    129\u001b[0m \u001b[0;34m\u001b[0m\u001b[0m\n\u001b[1;32m    130\u001b[0m     \u001b[0;32mdef\u001b[0m \u001b[0mreplacement_search\u001b[0m\u001b[0;34m(\u001b[0m\u001b[0mself\u001b[0m\u001b[0;34m,\u001b[0m \u001b[0mx\u001b[0m\u001b[0;34m,\u001b[0m \u001b[0mk\u001b[0m\u001b[0;34m,\u001b[0m \u001b[0mD\u001b[0m\u001b[0;34m=\u001b[0m\u001b[0;32mNone\u001b[0m\u001b[0;34m,\u001b[0m \u001b[0mI\u001b[0m\u001b[0;34m=\u001b[0m\u001b[0;32mNone\u001b[0m\u001b[0;34m)\u001b[0m\u001b[0;34m:\u001b[0m\u001b[0;34m\u001b[0m\u001b[0;34m\u001b[0m\u001b[0m\n",
      "\u001b[0;32m~/.conda/envs/exatrkx-test/lib/python3.7/site-packages/faiss/swigfaiss.py\u001b[0m in \u001b[0;36mswig_ptr\u001b[0;34m(a)\u001b[0m\n\u001b[1;32m   5571\u001b[0m \u001b[0;34m\u001b[0m\u001b[0m\n\u001b[1;32m   5572\u001b[0m \u001b[0;32mdef\u001b[0m \u001b[0mswig_ptr\u001b[0m\u001b[0;34m(\u001b[0m\u001b[0ma\u001b[0m\u001b[0;34m)\u001b[0m\u001b[0;34m:\u001b[0m\u001b[0;34m\u001b[0m\u001b[0;34m\u001b[0m\u001b[0m\n\u001b[0;32m-> 5573\u001b[0;31m     \u001b[0;32mreturn\u001b[0m \u001b[0m_swigfaiss\u001b[0m\u001b[0;34m.\u001b[0m\u001b[0mswig_ptr\u001b[0m\u001b[0;34m(\u001b[0m\u001b[0ma\u001b[0m\u001b[0;34m)\u001b[0m\u001b[0;34m\u001b[0m\u001b[0;34m\u001b[0m\u001b[0m\n\u001b[0m\u001b[1;32m   5574\u001b[0m \u001b[0;34m\u001b[0m\u001b[0m\n\u001b[1;32m   5575\u001b[0m \u001b[0;32mdef\u001b[0m \u001b[0mrev_swig_ptr\u001b[0m\u001b[0;34m(\u001b[0m\u001b[0;34m*\u001b[0m\u001b[0margs\u001b[0m\u001b[0;34m)\u001b[0m\u001b[0;34m:\u001b[0m\u001b[0;34m\u001b[0m\u001b[0;34m\u001b[0m\u001b[0m\n",
      "\u001b[0;31mValueError\u001b[0m: input not a numpy array"
     ]
    }
   ],
   "source": [
    "%%time\n",
    "# print(\"train\")\n",
    "index.train(xb_pt)"
   ]
  },
  {
   "cell_type": "code",
   "execution_count": 121,
   "metadata": {
    "hidden": true
   },
   "outputs": [
    {
     "name": "stdout",
     "output_type": "stream",
     "text": [
      "CPU times: user 5.78 s, sys: 67.7 ms, total: 5.85 s\n",
      "Wall time: 3.22 s\n"
     ]
    }
   ],
   "source": [
    "%%time\n",
    "# print(\"train\")\n",
    "index.train(xb)"
   ]
  },
  {
   "cell_type": "code",
   "execution_count": 75,
   "metadata": {
    "hidden": true
   },
   "outputs": [
    {
     "name": "stdout",
     "output_type": "stream",
     "text": [
      "CPU times: user 51 ms, sys: 0 ns, total: 51 ms\n",
      "Wall time: 50.3 ms\n"
     ]
    }
   ],
   "source": [
    "%%time\n",
    "# print(\"add vectors to index\")\n",
    "index.add(xb_pt)"
   ]
  },
  {
   "cell_type": "code",
   "execution_count": 122,
   "metadata": {
    "hidden": true
   },
   "outputs": [
    {
     "name": "stdout",
     "output_type": "stream",
     "text": [
      "CPU times: user 223 ms, sys: 3.84 ms, total: 227 ms\n",
      "Wall time: 227 ms\n"
     ]
    }
   ],
   "source": [
    "%%time\n",
    "# print(\"add vectors to index\")\n",
    "index.add(xb)"
   ]
  },
  {
   "cell_type": "code",
   "execution_count": 123,
   "metadata": {
    "hidden": true
   },
   "outputs": [
    {
     "name": "stdout",
     "output_type": "stream",
     "text": [
      "warmup\n",
      "CPU times: user 123 ms, sys: 96.8 ms, total: 220 ms\n",
      "Wall time: 219 ms\n"
     ]
    },
    {
     "data": {
      "text/plain": [
       "(array([[2.14576721e-06, 2.39330292e-01, 3.43187094e-01, ...,\n",
       "         3.40282347e+38, 3.40282347e+38, 3.40282347e+38],\n",
       "        [3.75509262e-06, 1.24549985e-01, 1.83267117e-01, ...,\n",
       "         3.40282347e+38, 3.40282347e+38, 3.40282347e+38],\n",
       "        [2.82645226e-04, 3.82205963e-01, 6.83759809e-01, ...,\n",
       "         3.40282347e+38, 3.40282347e+38, 3.40282347e+38],\n",
       "        ...,\n",
       "        [1.07288361e-06, 1.51507139e-01, 1.66429520e-01, ...,\n",
       "         3.40282347e+38, 3.40282347e+38, 3.40282347e+38],\n",
       "        [5.42402267e-06, 1.88787460e-01, 5.22396088e-01, ...,\n",
       "         3.40282347e+38, 3.40282347e+38, 3.40282347e+38],\n",
       "        [1.13248825e-06, 1.45956993e-01, 1.66389108e-01, ...,\n",
       "         3.40282347e+38, 3.40282347e+38, 3.40282347e+38]], dtype=float32),\n",
       " array([[    0,    13,    27, ...,    -1,    -1,    -1],\n",
       "        [    1,   221,   824, ...,    -1,    -1,    -1],\n",
       "        [    2,   197,   174, ...,    -1,    -1,    -1],\n",
       "        ...,\n",
       "        [99997, 99179, 99844, ...,    -1,    -1,    -1],\n",
       "        [99998, 99785, 99790, ...,    -1,    -1,    -1],\n",
       "        [99999, 99964, 99385, ...,    -1,    -1,    -1]]))"
      ]
     },
     "execution_count": 123,
     "metadata": {},
     "output_type": "execute_result"
    }
   ],
   "source": [
    "%%time\n",
    "print(\"warmup\")\n",
    "index.search(xb, 123)"
   ]
  },
  {
   "cell_type": "code",
   "execution_count": 124,
   "metadata": {
    "hidden": true
   },
   "outputs": [
    {
     "name": "stdout",
     "output_type": "stream",
     "text": [
      "1.0 neighbours @ 0.05383181571960449 seconds\n",
      "1.4384498882876628 neighbours @ 0.05355072021484375 seconds\n",
      "2.0691380811147897 neighbours @ 0.055022478103637695 seconds\n",
      "2.976351441631318 neighbours @ 0.05550742149353027 seconds\n",
      "4.281332398719393 neighbours @ 0.05641770362854004 seconds\n",
      "6.158482110660264 neighbours @ 0.05749797821044922 seconds\n",
      "8.858667904100825 neighbours @ 0.058641910552978516 seconds\n",
      "12.742749857031335 neighbours @ 0.059667348861694336 seconds\n",
      "18.329807108324356 neighbours @ 0.06262660026550293 seconds\n",
      "26.366508987303583 neighbours @ 0.06692790985107422 seconds\n",
      "37.926901907322495 neighbours @ 0.07254457473754883 seconds\n",
      "54.55594781168517 neighbours @ 0.11180305480957031 seconds\n",
      "78.47599703514611 neighbours @ 0.13988804817199707 seconds\n",
      "112.88378916846884 neighbours @ 0.20987677574157715 seconds\n",
      "162.3776739188721 neighbours @ 0.28052544593811035 seconds\n",
      "233.57214690901213 neighbours @ 0.37480878829956055 seconds\n",
      "335.9818286283781 neighbours @ 0.5387451648712158 seconds\n",
      "483.2930238571752 neighbours @ 0.7371046543121338 seconds\n",
      "695.1927961775606 neighbours @ 1.042445421218872 seconds\n",
      "1000.0 neighbours @ 1.456979513168335 seconds\n"
     ]
    }
   ],
   "source": [
    "k_timings = []\n",
    "for k in k_ticks:\n",
    "    tic = tt()\n",
    "    index.setNumProbes(1)\n",
    "    \n",
    "    index.search(xb, int(k))\n",
    "    k_timing = tt()-tic\n",
    "    k_timings.append(k_timing)\n",
    "    print(\"{} neighbours @ {} seconds\".format(k, k_timing))"
   ]
  },
  {
   "cell_type": "code",
   "execution_count": 125,
   "metadata": {
    "hidden": true
   },
   "outputs": [
    {
     "data": {
      "image/png": "[encoded data removed]",
      "text/plain": [
       "<Figure size 432x288 with 1 Axes>"
      ]
     },
     "metadata": {
      "needs_background": "light"
     },
     "output_type": "display_data"
    }
   ],
   "source": [
    "plt.scatter(k_ticks, k_timings)\n",
    "plt.plot(k_ticks, k_timings)\n",
    "plt.xscale(\"log\")\n",
    "plt.yscale(\"log\")"
   ]
  },
  {
   "cell_type": "code",
   "execution_count": 126,
   "metadata": {
    "hidden": true
   },
   "outputs": [],
   "source": [
    "k_voronoiPQ_big_gpu_timings = k_timings"
   ]
  },
  {
   "cell_type": "code",
   "execution_count": 127,
   "metadata": {
    "hidden": true
   },
   "outputs": [
    {
     "data": {
      "image/png": "[encoded data removed]",
      "text/plain": [
       "<Figure size 864x864 with 1 Axes>"
      ]
     },
     "metadata": {
      "needs_background": "light"
     },
     "output_type": "display_data"
    }
   ],
   "source": [
    "plt.figure(figsize=(12,12))\n",
    "ax = plt.subplot()\n",
    "ax.scatter(k_ticks, k_voronoi_cpu_timings, label=\"CPU Voronoi\")\n",
    "ax.plot(k_ticks, k_voronoi_cpu_timings)\n",
    "ax.scatter(k_ticks, k_brute_gpu_timings, label=\"GPU Brute-force\")\n",
    "ax.plot(k_ticks, k_brute_gpu_timings)\n",
    "ax.scatter(k_ticks, k_voronoi_big_gpu_timings, label=\"GPU Voronoi (big mem)\")\n",
    "ax.plot(k_ticks, k_voronoi_big_gpu_timings)\n",
    "ax.scatter(k_ticks, k_voronoi_small_gpu_timings, label=\"GPU Voronoi (small mem)\")\n",
    "ax.plot(k_ticks, k_voronoi_small_gpu_timings)\n",
    "ax.scatter(k_ticks, k_voronoiPQ_small_gpu_timings, label=\"GPU PQ-Voronoi (small mem)\")\n",
    "ax.plot(k_ticks, k_voronoiPQ_small_gpu_timings)\n",
    "ax.scatter(k_ticks, k_voronoiPQ_big_gpu_timings, label=\"GPU PQ-Voronoi (big mem)\")\n",
    "ax.plot(k_ticks, k_voronoiPQ_big_gpu_timings)\n",
    "plt.xscale(\"log\")\n",
    "plt.yscale(\"log\")\n",
    "\n",
    "ax.set_xlabel(\"k neighbors\")\n",
    "ax.set_ylabel(\"Timing (s)\")\n",
    "legend = ax.legend(loc='lower right')"
   ]
  },
  {
   "cell_type": "code",
   "execution_count": 177,
   "metadata": {
    "hidden": true
   },
   "outputs": [
    {
     "name": "stdout",
     "output_type": "stream",
     "text": [
      "benchmark\n",
      "1 probes takes 39.51668739318848ms\n",
      "2 probes takes 41.14842414855957ms\n",
      "4 probes takes 46.82207107543945ms\n",
      "8 probes takes 62.059640884399414ms\n",
      "16 probes takes 86.59911155700684ms\n",
      "32 probes takes 124.85814094543457ms\n",
      "64 probes takes 219.1922664642334ms\n",
      "CPU times: user 487 ms, sys: 136 ms, total: 623 ms\n",
      "Wall time: 621 ms\n"
     ]
    }
   ],
   "source": [
    "%%time\n",
    "print(\"benchmark\")\n",
    "\n",
    "for lnprobe in range(7):\n",
    "    tic = tt()\n",
    "    \n",
    "    nprobe = 1 << lnprobe\n",
    "    index.setNumProbes(nprobe)\n",
    "    \n",
    "    index.search(xb, k)\n",
    "    \n",
    "    print(\"{} probes takes {}ms\".format(nprobe, (tt() - tic)*1000))"
   ]
  },
  {
   "cell_type": "code",
   "execution_count": 137,
   "metadata": {
    "hidden": true
   },
   "outputs": [
    {
     "name": "stdout",
     "output_type": "stream",
     "text": [
      "benchmark\n",
      "1 probes takes 39.84403610229492ms\n",
      "2 probes takes 43.28656196594238ms\n",
      "4 probes takes 48.033952713012695ms\n",
      "8 probes takes 52.45804786682129ms\n",
      "16 probes takes 62.23893165588379ms\n",
      "32 probes takes 78.81927490234375ms\n",
      "64 probes takes 119.86136436462402ms\n",
      "CPU times: user 362 ms, sys: 84.2 ms, total: 446 ms\n",
      "Wall time: 445 ms\n"
     ]
    }
   ],
   "source": [
    "%%time\n",
    "print(\"benchmark\")\n",
    "\n",
    "for lnprobe in range(7):\n",
    "    tic = tt()\n",
    "    \n",
    "    nprobe = 1 << lnprobe\n",
    "    index.setNumProbes(nprobe)\n",
    "    \n",
    "    index.search(xb_pt, k)\n",
    "    \n",
    "    print(\"{} probes takes {}ms\".format(nprobe, (tt() - tic)*1000))"
   ]
  },
  {
   "cell_type": "markdown",
   "metadata": {},
   "source": [
    "# Pytorch3D KNN"
   ]
  },
  {
   "cell_type": "code",
   "execution_count": 4,
   "metadata": {},
   "outputs": [],
   "source": [
    "from pytorch3d import ops"
   ]
  },
  {
   "cell_type": "code",
   "execution_count": 5,
   "metadata": {},
   "outputs": [],
   "source": [
    "d = 8                           # dimension\n",
    "nb = 100000                      # database size\n",
    "nq = 10000                       # nb of queries\n",
    "np.random.seed(0)             # make reproducible\n",
    "xb = np.random.random((nb, d)).astype('float32')\n",
    "xb[:, 0] += np.arange(nb) / 1000.\n",
    "xq = np.random.random((nq, d)).astype('float32')\n",
    "xq[:, 0] += np.arange(nq) / 1000.\n",
    "\n",
    "xb_pt = torch.from_numpy(xb).to(\"cuda\")\n",
    "p1 = p2 = xb_pt.unsqueeze(0)"
   ]
  },
  {
   "cell_type": "code",
   "execution_count": 326,
   "metadata": {},
   "outputs": [],
   "source": [
    "xb_concat = torch.from_numpy(np.random.random((20, nb, d)).astype('float32')).to(\"cuda\")"
   ]
  },
  {
   "cell_type": "code",
   "execution_count": 64,
   "metadata": {},
   "outputs": [
    {
     "data": {
      "text/plain": [
       "torch.Size([2, 100000])"
      ]
     },
     "execution_count": 64,
     "metadata": {},
     "output_type": "execute_result"
    }
   ],
   "source": [
    "edge_list.shape"
   ]
  },
  {
   "cell_type": "code",
   "execution_count": 65,
   "metadata": {},
   "outputs": [
    {
     "data": {
      "text/plain": [
       "tensor([[    0,     1,     2,  ..., 99997, 99998, 99999],\n",
       "        [    0,     1,     2,  ..., 99997, 99998, 99999]], device='cuda:0')"
      ]
     },
     "execution_count": 65,
     "metadata": {},
     "output_type": "execute_result"
    }
   ],
   "source": [
    "edge_list"
   ]
  },
  {
   "cell_type": "code",
   "execution_count": 62,
   "metadata": {},
   "outputs": [
    {
     "data": {
      "text/plain": [
       "torch.Size([1, 100000, 1000])"
      ]
     },
     "execution_count": 62,
     "metadata": {},
     "output_type": "execute_result"
    }
   ],
   "source": [
    "knn.idx.shape"
   ]
  },
  {
   "cell_type": "code",
   "execution_count": 56,
   "metadata": {},
   "outputs": [
    {
     "name": "stdout",
     "output_type": "stream",
     "text": [
      "1.0 nbs in 0.00031948089599609375 seconds\n",
      "1.4384498882876628 nbs in 0.0003018379211425781 seconds\n",
      "2.0691380811147897 nbs in 0.00032401084899902344 seconds\n",
      "2.976351441631318 nbs in 0.00019359588623046875 seconds\n",
      "4.281332398719393 nbs in 0.0001819133758544922 seconds\n",
      "6.158482110660264 nbs in 0.00018310546875 seconds\n",
      "8.858667904100825 nbs in 0.0001785755157470703 seconds\n",
      "12.742749857031335 nbs in 0.0001800060272216797 seconds\n",
      "18.329807108324356 nbs in 0.00017333030700683594 seconds\n",
      "26.366508987303583 nbs in 0.00018072128295898438 seconds\n",
      "37.926901907322495 nbs in 0.00017023086547851562 seconds\n",
      "54.55594781168517 nbs in 0.0002117156982421875 seconds\n",
      "78.47599703514611 nbs in 0.00018024444580078125 seconds\n",
      "112.88378916846884 nbs in 0.00017833709716796875 seconds\n",
      "162.3776739188721 nbs in 0.00017762184143066406 seconds\n",
      "233.57214690901213 nbs in 0.0001735687255859375 seconds\n",
      "335.9818286283781 nbs in 0.00019025802612304688 seconds\n",
      "483.2930238571752 nbs in 0.00016379356384277344 seconds\n",
      "695.1927961775606 nbs in 0.0001652240753173828 seconds\n",
      "1000.0 nbs in 0.0001804828643798828 seconds\n"
     ]
    }
   ],
   "source": [
    "k_timings = []\n",
    "k_ticks = np.logspace(0, 3, num=20, base=10)\n",
    "for k in k_ticks:\n",
    "    tic = tt()\n",
    "    knn = ops.knn_points(xb_pt, xb_pt, K=int(k), return_sorted=False)\n",
    "    k_timing = tt() - tic\n",
    "    k_timings.append(k_timing)\n",
    "    \n",
    "    print(\"{} nbs in {} seconds\".format(k, k_timing))"
   ]
  },
  {
   "cell_type": "code",
   "execution_count": 57,
   "metadata": {},
   "outputs": [],
   "source": [
    "k_3d_unsorted_timings = k_timings"
   ]
  },
  {
   "cell_type": "code",
   "execution_count": 53,
   "metadata": {},
   "outputs": [],
   "source": [
    "k_3d_sorted_timings = k_timings"
   ]
  },
  {
   "cell_type": "code",
   "execution_count": 58,
   "metadata": {},
   "outputs": [
    {
     "data": {
      "image/png": "[encoded data removed]",
      "text/plain": [
       "<Figure size 720x720 with 1 Axes>"
      ]
     },
     "metadata": {
      "needs_background": "light"
     },
     "output_type": "display_data"
    }
   ],
   "source": [
    "plt.figure(figsize=(10,10))\n",
    "ax = plt.subplot()\n",
    "plt.scatter(k_ticks, k_brute_gpu_timings, label=\"FAISS KNN\")\n",
    "plt.plot(k_ticks, k_brute_gpu_timings)\n",
    "plt.scatter(k_ticks, k_3d_sorted_timings, label=\"Pytorch3D KNN\")\n",
    "plt.plot(k_ticks, k_3d_sorted_timings)\n",
    "plt.scatter(k_ticks, k_3d_unsorted_timings, label=\"Pytorch3D KNN Unsorted\")\n",
    "plt.plot(k_ticks, k_3d_unsorted_timings)\n",
    "plt.xscale(\"log\")\n",
    "plt.yscale(\"log\")\n",
    "ax.set_xlabel(\"k neighbors\")\n",
    "ax.set_ylabel(\"Timing (s)\")\n",
    "legend = ax.legend(loc='upper left')"
   ]
  },
  {
   "cell_type": "markdown",
   "metadata": {},
   "source": [
    "## Total Equivalency??"
   ]
  },
  {
   "cell_type": "code",
   "execution_count": 64,
   "metadata": {},
   "outputs": [],
   "source": [
    "_, I = faiss.knn_gpu(res, xb_pt.squeeze(), xb_pt.squeeze(), 100)"
   ]
  },
  {
   "cell_type": "code",
   "execution_count": 65,
   "metadata": {},
   "outputs": [],
   "source": [
    "I, _ = torch.sort(I, axis=1)"
   ]
  },
  {
   "cell_type": "code",
   "execution_count": 66,
   "metadata": {},
   "outputs": [],
   "source": [
    "knn_unsorted = ops.knn_points(xb_pt, xb_pt, K=100, return_sorted=False)"
   ]
  },
  {
   "cell_type": "code",
   "execution_count": 67,
   "metadata": {},
   "outputs": [],
   "source": [
    "knn_sorted = ops.knn_points(xb_pt, xb_pt, K=100, return_sorted=True)"
   ]
  },
  {
   "cell_type": "code",
   "execution_count": 68,
   "metadata": {},
   "outputs": [],
   "source": [
    "knn_unsorted, _ = torch.sort(knn_unsorted.idx[0], axis=1)"
   ]
  },
  {
   "cell_type": "code",
   "execution_count": 69,
   "metadata": {},
   "outputs": [],
   "source": [
    "knn_sorted, _ = torch.sort(knn_sorted.idx[0], axis=1)"
   ]
  },
  {
   "cell_type": "code",
   "execution_count": 70,
   "metadata": {},
   "outputs": [
    {
     "data": {
      "text/plain": [
       "True"
      ]
     },
     "execution_count": 70,
     "metadata": {},
     "output_type": "execute_result"
    }
   ],
   "source": [
    "torch.equal(knn_unsorted, knn_sorted)"
   ]
  },
  {
   "cell_type": "code",
   "execution_count": 71,
   "metadata": {},
   "outputs": [
    {
     "data": {
      "text/plain": [
       "False"
      ]
     },
     "execution_count": 71,
     "metadata": {},
     "output_type": "execute_result"
    }
   ],
   "source": [
    "torch.equal(knn_unsorted, I)"
   ]
  },
  {
   "cell_type": "code",
   "execution_count": 72,
   "metadata": {},
   "outputs": [
    {
     "data": {
      "text/plain": [
       "(tensor([12216, 12216, 12216, 12216, 12216, 12216, 12216, 12216, 12216, 12216,\n",
       "         12216, 12216, 12216, 12216, 12216, 12216, 12216, 12216, 12216, 12216,\n",
       "         12216, 12216, 12216, 12216, 12216, 12216, 12216, 12216, 12216, 12216,\n",
       "         12216, 12216, 12216, 12216, 12216, 12216, 12216, 12216, 12216, 12216,\n",
       "         12216, 12216, 12216, 12216, 12216, 12216, 12216, 12216, 12216, 12216,\n",
       "         12216, 12216, 12216, 12216, 12216, 12216, 12216, 12216, 12216, 12216,\n",
       "         15469, 15469, 15469, 15469, 15469, 15469, 15469, 15469, 15469, 15469,\n",
       "         15469, 15469, 15469, 15469, 15469, 15469, 15469, 15469, 15469, 15469,\n",
       "         15469, 15469, 15469, 15469, 15469, 15469, 15469, 15469, 15469, 17794,\n",
       "         17794, 17794, 17794, 17794, 17794, 17794, 17794, 17794, 17794, 17794,\n",
       "         17794, 17794, 17794, 17794, 17794, 17794, 17794, 17794, 17794, 17794,\n",
       "         17794, 17794, 17794, 17794, 17794, 17794, 17794, 17794, 17794, 17794,\n",
       "         17794, 17794, 17794, 17794, 17794, 17794, 17794, 17794, 17794, 17794,\n",
       "         17794, 17794, 17794, 17794, 17794, 17794, 17794, 17794, 17794, 17794,\n",
       "         17794, 17794, 17794, 17794, 17794, 17794, 17794, 17794, 17794, 17794,\n",
       "         17794, 17794, 17794, 17794, 17794, 17794, 17794, 17794, 17794, 17794,\n",
       "         17794, 17794, 17794, 17794, 17794, 17794, 17794, 17794, 17794, 17794,\n",
       "         20085, 21694, 21694, 21694, 21694, 21694, 21694, 21694, 21694, 21694,\n",
       "         21694, 21694, 21694, 21694, 21694, 21694, 21694, 21694, 21694, 21694,\n",
       "         21694, 21694, 21694, 21694, 21694, 21694, 21694, 21694, 21694, 21694,\n",
       "         21694, 21694, 21694, 21694, 21694, 21694, 21694, 21694, 21694, 21694,\n",
       "         21694, 21694, 21694, 21694, 21694, 21694, 21694, 21694, 21694, 21694,\n",
       "         21694, 21694, 21694, 21694, 21694, 21694, 21694, 21694, 21694, 21694,\n",
       "         21694, 21694, 21694, 21694, 35650, 35650, 35650, 35650, 35650, 35650,\n",
       "         35650, 35650, 35650, 35650, 35650, 35650, 35650, 35650, 35650, 35650,\n",
       "         35650, 35650, 35650, 35650, 35650, 35650, 35650, 35650, 35650, 35650,\n",
       "         35650, 35650, 35650, 35650, 35650, 35650, 35650, 35650, 35650, 35650,\n",
       "         35650, 35650, 35650, 35650, 35650, 35650, 35650, 35650, 35650, 35650,\n",
       "         35650, 35650, 35650, 35650, 35650, 35650, 35650, 43493, 43493, 43493,\n",
       "         43493, 43493, 43493, 43493, 43493, 43493, 43493, 43493, 43493, 43493,\n",
       "         43493, 43493, 43493, 43493, 43493, 43493, 43493, 43493, 43493, 43493,\n",
       "         43493, 43493, 43493, 43493, 43493, 43493, 43493, 43493, 53427, 53427,\n",
       "         53427, 53427, 53427, 53427, 53427, 53427, 53427, 53427, 53427, 53427,\n",
       "         53427, 53427, 53427, 53427, 53427, 53427, 53427, 53427, 53427, 53427,\n",
       "         53427, 53427, 53427, 53830, 53830, 53830, 53830, 53830, 53830, 53830,\n",
       "         53830, 53830, 53830, 53830, 53830, 53830, 53830, 53830, 53830, 53830,\n",
       "         53830, 53830, 53830, 53830, 53830, 53830, 53830, 53830, 53830, 53830,\n",
       "         53830, 53830, 53830, 53830, 53830, 53830, 53830, 53830, 53830, 53830,\n",
       "         56376, 56376, 56376, 56376, 56376, 56376, 56376, 56376, 56376, 58179,\n",
       "         58179, 58179, 58179, 58179, 58179, 58179, 58179, 58179, 58179, 58179,\n",
       "         58179, 58179, 58179, 58300, 58300, 58300, 58300, 58300, 58300, 58300,\n",
       "         58300, 58300, 58300, 62759, 62759, 62759, 62759, 62759, 62759, 62759,\n",
       "         62759, 62759, 62759, 62759, 62759, 62759, 62759, 62759, 62759, 62759,\n",
       "         62759, 62759, 62759, 62759, 62759, 62759, 62759, 62759, 62759, 62759,\n",
       "         62759, 62759, 62759, 62759, 62759, 62759, 62759, 62759, 62759, 62759,\n",
       "         62759, 62759, 62759, 62759, 62759, 62759, 62759, 62759, 62759, 62759,\n",
       "         62759, 62759, 62759, 62759, 62759, 62759, 63258, 63258, 63258, 63258,\n",
       "         63258, 63258, 63258, 63258, 63258, 63258, 63258, 63258, 63258, 63258,\n",
       "         63258, 63258, 63258, 63258, 63258, 63258, 63258, 63258, 63258, 63258,\n",
       "         63258, 63258, 63258, 63258, 63258, 63258, 63258, 63258, 63258, 63258,\n",
       "         63258, 63258, 63258, 63258, 63258, 63258, 63258, 64362, 64362, 64362,\n",
       "         64362, 64362, 64362, 64362, 64362, 64362, 64362, 64362, 64362, 64362,\n",
       "         64362, 64362, 64362, 64362, 64362, 64362, 64362, 64362, 64362, 64362,\n",
       "         64362, 64362, 64362, 64362, 67822, 67822, 67822, 67822, 67822, 67822,\n",
       "         67822, 67822, 67822, 67822, 67822, 67822, 67822, 67822, 67822, 67822,\n",
       "         67822, 67822, 67822, 67822, 67822, 67822, 67822, 67822, 67822, 67822,\n",
       "         67822, 67822, 67822, 67822, 67822, 67822, 67822, 67822, 67822, 67822,\n",
       "         67822, 67822, 67822, 67822, 67822, 67822, 67822, 67822, 67822, 67822,\n",
       "         67822, 67822, 67822, 67822, 67822, 67822, 67822, 67822, 67822, 67822,\n",
       "         67822, 67822, 67822, 67822, 67822, 67822, 67822, 67822, 67822, 67822,\n",
       "         67822, 67822, 67822, 67822, 67822, 67822, 67822, 67822, 67822, 67822,\n",
       "         76173, 76173, 76173, 76173, 76173, 76173, 76173, 76173, 76173, 76173,\n",
       "         76173, 76173, 76173, 76173, 76173, 76173, 76173, 76173, 76173, 83986,\n",
       "         83986, 83986, 83986, 83986, 83986, 83986, 83986, 83986, 83986, 83986,\n",
       "         83986, 83986, 83986, 83986, 83986, 83986, 83986, 83986, 83986, 83986,\n",
       "         83986, 83986, 83986, 83986, 83986, 83986, 83986, 83986, 83986, 83986,\n",
       "         83986, 83986, 83986, 83986, 83986, 83986, 83986, 83986, 83986, 83986,\n",
       "         83986, 83986, 83986, 83986, 83986, 83986, 83986, 83986, 83986, 83986,\n",
       "         83986, 83986, 83986, 83986, 83986, 85129, 85129, 85129, 85129, 85129,\n",
       "         85129, 85129, 85129, 85129, 85129, 85129, 85129, 85129, 85129, 85129,\n",
       "         89852, 89852, 89852, 89852, 89852, 89852, 89852, 89852, 89852, 89852,\n",
       "         89852, 89852, 89852, 89852, 89852, 89852, 89852, 89852, 89852, 89852,\n",
       "         89852, 89852, 89852, 89852, 89852, 89852, 89852, 89852, 89852, 89852,\n",
       "         89852, 89852, 89852, 89852, 89852, 91769, 91769, 91769, 91769, 91769,\n",
       "         91769, 91769, 91769, 91769, 91769, 91769, 91769, 91769, 91769, 91769,\n",
       "         91769, 91769, 91769, 91769, 91769, 91769, 91769, 91769, 91769, 91769,\n",
       "         91769, 91769, 91769, 91769, 91769, 91769, 91769, 91769, 91769, 91769,\n",
       "         91769, 91769, 91769, 91769, 91769, 91769, 91769, 91769, 92200, 92200,\n",
       "         92200, 92200, 92200, 93306, 93306, 93306, 93306, 93306, 93306, 93306,\n",
       "         93306, 93306, 93306, 93306, 93306, 93306, 93306, 93306, 93306, 93306,\n",
       "         93306, 93306, 94497, 94497, 94497, 94497, 94497, 94497, 94497, 94497,\n",
       "         94497, 94497, 94497, 94497, 94497, 94497, 94497, 94497, 94497, 94497,\n",
       "         94497, 94497, 94497, 94497, 94497, 94497, 94497, 94497, 94497, 94497,\n",
       "         94497, 94497, 94497, 94497, 94497, 94497, 94497, 94497, 94497, 94497,\n",
       "         94497, 94497, 94497, 94497, 94497, 94497, 94497, 94497, 94984, 94984,\n",
       "         94984, 94984, 94984, 94984, 94984, 94984, 94984, 94984, 94984, 94984,\n",
       "         96790, 96790, 96790, 96790, 96790, 96790, 96790, 96790, 96790, 96790,\n",
       "         96790, 96790, 96790, 96790, 96790, 96790, 96790, 96790, 96790, 96790,\n",
       "         96790, 96790, 96790, 96790, 96790, 96790, 96790, 96790, 96790, 96790,\n",
       "         96790, 96790, 96790, 96790, 96790, 96790, 96790, 96790, 96790, 96790,\n",
       "         96790, 96790, 96790, 96790, 96790, 96790, 96790, 96790, 96790, 96790,\n",
       "         96790, 96790, 96790, 96790, 96790, 96790, 96790, 96790, 96790, 96790,\n",
       "         96790, 96790, 96790, 96790, 96790, 96790, 96790, 96790, 96790, 96790,\n",
       "         96790, 96790, 96790, 96790, 96790, 96790, 96790, 96790, 96790, 96790,\n",
       "         96790, 96790, 96790, 97272, 97272, 97272, 97272, 97272, 97272, 97272,\n",
       "         97272, 97272, 97272, 97272, 97272, 97272, 97272, 97272, 97272, 97272,\n",
       "         97272, 97272, 97272, 97272, 97272, 97272, 97272, 97272, 97272, 97272,\n",
       "         97272, 97272, 97272, 97272, 97272, 97272, 97272, 97272, 97272, 97272],\n",
       "        device='cuda:0'),\n",
       " tensor([20, 21, 22, 23, 24, 25, 26, 27, 28, 29, 30, 31, 32, 33, 34, 35, 36, 37,\n",
       "         38, 39, 40, 41, 42, 43, 44, 45, 46, 47, 48, 49, 50, 51, 52, 53, 54, 55,\n",
       "         56, 57, 58, 59, 60, 61, 62, 63, 64, 65, 66, 67, 68, 69, 70, 71, 72, 73,\n",
       "         74, 75, 76, 77, 78, 79,  3,  4,  5,  6,  7,  8,  9, 10, 11, 12, 13, 14,\n",
       "         15, 16, 17, 18, 19, 20, 21, 22, 23, 24, 25, 26, 27, 28, 29, 30, 31, 13,\n",
       "         14, 15, 16, 17, 18, 19, 20, 21, 22, 23, 24, 25, 26, 27, 28, 29, 30, 31,\n",
       "         32, 33, 34, 35, 36, 37, 38, 39, 40, 41, 42, 43, 44, 45, 46, 47, 48, 49,\n",
       "         50, 51, 52, 53, 54, 55, 56, 57, 58, 59, 60, 61, 62, 63, 64, 65, 66, 67,\n",
       "         68, 69, 70, 71, 72, 73, 74, 75, 76, 77, 78, 79, 80, 81, 82, 83, 84, 85,\n",
       "         86, 87, 88, 89, 90, 91, 92, 93, 60, 16, 17, 18, 19, 20, 21, 22, 23, 24,\n",
       "         25, 26, 27, 28, 29, 30, 31, 32, 33, 34, 35, 36, 37, 38, 39, 40, 41, 42,\n",
       "         43, 44, 45, 46, 47, 48, 49, 50, 51, 52, 53, 54, 55, 56, 57, 58, 59, 60,\n",
       "         61, 62, 63, 64, 65, 66, 67, 68, 69, 70, 71, 72, 73, 74, 75, 76, 77, 78,\n",
       "          1,  2,  3,  4,  5,  6,  7,  8,  9, 10, 11, 12, 13, 14, 15, 16, 17, 18,\n",
       "         19, 20, 21, 22, 23, 24, 25, 26, 27, 28, 29, 30, 31, 32, 33, 34, 35, 36,\n",
       "         37, 38, 39, 40, 41, 42, 43, 44, 45, 46, 47, 48, 49, 50, 51, 52, 53,  7,\n",
       "          8,  9, 10, 11, 12, 13, 14, 15, 16, 17, 18, 19, 20, 21, 22, 23, 24, 25,\n",
       "         26, 27, 28, 29, 30, 31, 32, 33, 34, 35, 36, 37, 51, 52, 53, 54, 55, 56,\n",
       "         57, 58, 59, 60, 61, 62, 63, 64, 65, 66, 67, 68, 69, 70, 71, 72, 73, 74,\n",
       "         75, 39, 40, 41, 42, 43, 44, 45, 46, 47, 48, 49, 50, 51, 52, 53, 54, 55,\n",
       "         56, 57, 58, 59, 60, 61, 62, 63, 64, 65, 66, 67, 68, 69, 70, 71, 72, 73,\n",
       "         74, 75,  6,  7,  8,  9, 10, 11, 12, 13, 14,  8,  9, 10, 11, 12, 13, 14,\n",
       "         15, 16, 17, 18, 19, 20, 21, 80, 81, 82, 83, 84, 85, 86, 87, 88, 89, 34,\n",
       "         35, 36, 37, 38, 39, 40, 41, 42, 43, 44, 45, 46, 47, 48, 49, 50, 51, 52,\n",
       "         53, 54, 55, 56, 57, 58, 59, 60, 61, 62, 63, 64, 65, 66, 67, 68, 69, 70,\n",
       "         71, 72, 73, 74, 75, 76, 77, 78, 79, 80, 81, 82, 83, 84, 85, 86, 22, 23,\n",
       "         24, 25, 26, 27, 28, 29, 30, 31, 32, 33, 34, 35, 36, 37, 38, 39, 40, 41,\n",
       "         42, 43, 44, 45, 46, 47, 48, 49, 50, 51, 52, 53, 54, 55, 56, 57, 58, 59,\n",
       "         60, 61, 62,  1,  2,  3,  4,  5,  6,  7,  8,  9, 10, 11, 12, 13, 14, 15,\n",
       "         16, 17, 18, 19, 20, 21, 22, 23, 24, 25, 26, 27, 22, 23, 24, 25, 26, 27,\n",
       "         28, 29, 30, 31, 32, 33, 34, 35, 36, 37, 38, 39, 40, 41, 42, 43, 44, 45,\n",
       "         46, 47, 48, 49, 50, 51, 52, 53, 54, 55, 56, 57, 58, 59, 60, 61, 62, 63,\n",
       "         64, 65, 66, 67, 68, 69, 70, 71, 72, 73, 74, 75, 76, 77, 78, 79, 80, 81,\n",
       "         82, 83, 84, 85, 86, 87, 88, 89, 90, 91, 92, 93, 94, 95, 96, 97, 75, 76,\n",
       "         77, 78, 79, 80, 81, 82, 83, 84, 85, 86, 87, 88, 89, 90, 91, 92, 93,  5,\n",
       "          6,  7,  8,  9, 10, 11, 12, 13, 14, 15, 16, 17, 18, 19, 20, 21, 22, 23,\n",
       "         24, 25, 26, 27, 28, 29, 30, 31, 32, 33, 34, 35, 36, 37, 38, 39, 40, 41,\n",
       "         42, 43, 44, 45, 46, 47, 48, 49, 50, 51, 52, 53, 54, 55, 56, 57, 58, 59,\n",
       "         60,  4,  5,  6,  7,  8,  9, 10, 11, 12, 13, 14, 15, 16, 17, 18, 19, 20,\n",
       "         21, 22, 23, 24, 25, 26, 27, 28, 29, 30, 31, 32, 33, 34, 35, 36, 37, 38,\n",
       "         39, 40, 41, 42, 43, 44, 45, 46, 47, 48, 49, 50, 51, 52, 53,  3,  4,  5,\n",
       "          6,  7,  8,  9, 10, 11, 12, 13, 14, 15, 16, 17, 18, 19, 20, 21, 22, 23,\n",
       "         24, 25, 26, 27, 28, 29, 30, 31, 32, 33, 34, 35, 36, 37, 38, 39, 40, 41,\n",
       "         42, 43, 44, 45, 93, 94, 95, 96, 97, 78, 79, 80, 81, 82, 83, 84, 85, 86,\n",
       "         87, 88, 89, 90, 91, 92, 93, 94, 95, 96, 23, 24, 25, 26, 27, 28, 29, 30,\n",
       "         31, 32, 33, 34, 35, 36, 37, 38, 39, 40, 41, 42, 43, 44, 45, 46, 47, 48,\n",
       "         49, 50, 51, 52, 53, 54, 55, 56, 57, 58, 59, 60, 61, 62, 63, 64, 65, 66,\n",
       "         67, 68, 60, 61, 62, 63, 64, 65, 66, 67, 68, 69, 70, 71,  2,  3,  4,  5,\n",
       "          6,  7,  8,  9, 10, 11, 12, 13, 14, 15, 16, 17, 18, 19, 20, 21, 22, 23,\n",
       "         24, 25, 26, 27, 28, 29, 30, 31, 32, 33, 34, 35, 36, 37, 38, 39, 40, 41,\n",
       "         42, 43, 44, 45, 46, 47, 48, 49, 50, 51, 52, 53, 54, 55, 56, 57, 58, 59,\n",
       "         60, 61, 62, 63, 64, 65, 66, 67, 68, 69, 70, 71, 72, 73, 74, 75, 76, 77,\n",
       "         78, 79, 80, 81, 82, 83, 84, 31, 32, 33, 34, 35, 36, 37, 38, 39, 40, 41,\n",
       "         42, 43, 44, 45, 46, 47, 48, 49, 50, 51, 52, 53, 54, 55, 56, 57, 58, 59,\n",
       "         60, 61, 62, 63, 64, 65, 66, 67], device='cuda:0'))"
      ]
     },
     "execution_count": 72,
     "metadata": {},
     "output_type": "execute_result"
    }
   ],
   "source": [
    "torch.where(knn_unsorted != I)"
   ]
  },
  {
   "cell_type": "markdown",
   "metadata": {},
   "source": [
    "## Edge Making Equivalency"
   ]
  },
  {
   "cell_type": "code",
   "execution_count": 6,
   "metadata": {},
   "outputs": [],
   "source": [
    "import faiss.contrib.torch_utils"
   ]
  },
  {
   "cell_type": "code",
   "execution_count": 330,
   "metadata": {},
   "outputs": [],
   "source": [
    "from pytorch3d import _C"
   ]
  },
  {
   "cell_type": "code",
   "execution_count": 429,
   "metadata": {},
   "outputs": [
    {
     "name": "stdout",
     "output_type": "stream",
     "text": [
      "CPU times: user 282 ms, sys: 91 ms, total: 373 ms\n",
      "Wall time: 372 ms\n"
     ]
    },
    {
     "data": {
      "text/plain": [
       "tensor([    0,     1,     2,  ..., 99997, 99998, 99999], device='cuda:0')"
      ]
     },
     "execution_count": 429,
     "metadata": {},
     "output_type": "execute_result"
    }
   ],
   "source": [
    "%%time\n",
    "idx, dists = _C.knn_points_idx(p1, p2, lengths1, lengths2, 30, -1)\n",
    "idx[0][dists[0] <= r_max**2]"
   ]
  },
  {
   "cell_type": "code",
   "execution_count": 426,
   "metadata": {},
   "outputs": [
    {
     "name": "stdout",
     "output_type": "stream",
     "text": [
      "CPU times: user 119 µs, sys: 0 ns, total: 119 µs\n",
      "Wall time: 123 µs\n"
     ]
    }
   ],
   "source": [
    "%%time\n",
    "P1 = p1.shape[1]\n",
    "P2 = p2.shape[1]\n",
    "lengths1 = torch.full((p1.shape[0],), P1, dtype=torch.int64, device=p1.device)\n",
    "lengths2 = torch.full((p1.shape[0],), P2, dtype=torch.int64, device=p1.device)"
   ]
  },
  {
   "cell_type": "code",
   "execution_count": 108,
   "metadata": {},
   "outputs": [],
   "source": [
    "res = faiss.StandardGpuResources()"
   ]
  },
  {
   "cell_type": "code",
   "execution_count": 313,
   "metadata": {},
   "outputs": [],
   "source": [
    "r_max = 0.3"
   ]
  },
  {
   "cell_type": "code",
   "execution_count": 324,
   "metadata": {},
   "outputs": [
    {
     "name": "stdout",
     "output_type": "stream",
     "text": [
      "CPU times: user 3.29 ms, sys: 0 ns, total: 3.29 ms\n",
      "Wall time: 2.87 ms\n"
     ]
    }
   ],
   "source": [
    "%%time\n",
    "xb = np.random.random((nb, d)).astype('float32')\n",
    "xb_pt = torch.from_numpy(xb).to(\"cuda\")"
   ]
  },
  {
   "cell_type": "code",
   "execution_count": 325,
   "metadata": {},
   "outputs": [
    {
     "name": "stdout",
     "output_type": "stream",
     "text": [
      "tensor([[[    0, 10254, 92187,  ..., 10297, 22869, 28228],\n",
      "         [10051,     1, 13303,  ..., 76185, 91054, 64175],\n",
      "         [ 1988, 12788,     2,  ..., 33214, 63443, 86827],\n",
      "         ...,\n",
      "         [94398, 82126, 70967,  ..., 17696, 52275,  3420],\n",
      "         [17041, 67339, 52803,  ...,  5976, 51510, 57131],\n",
      "         [51452, 46358, 48241,  ..., 72212, 96468, 33632]]], device='cuda:0')\n",
      "CPU times: user 152 ms, sys: 52.2 ms, total: 205 ms\n",
      "Wall time: 204 ms\n"
     ]
    }
   ],
   "source": [
    "%%time\n",
    "\n",
    "knn_object = ops.knn_points(xb_pt.unsqueeze(0), xb_pt.unsqueeze(0), K=100, return_sorted=False)\n",
    "print(knn_object.idx)\n",
    "# I = knn_object.idx[0]\n",
    "# D = knn_object.dists[0]\n",
    "# ind = torch.Tensor.repeat(torch.arange(I.shape[0], device=device), (I.shape[1], 1), 1).T\n",
    "# in_radius = D <= r_max**2\n",
    "# edge_list = torch.stack([ind[D <= r_max**2], I[D <= r_max**2]])"
   ]
  },
  {
   "cell_type": "code",
   "execution_count": 329,
   "metadata": {},
   "outputs": [
    {
     "name": "stdout",
     "output_type": "stream",
     "text": [
      "tensor([[    0, 97338, 83293,  ...,  2209, 71958, 12035],\n",
      "        [78731,     1, 75095,  ..., 46003, 33042, 20302],\n",
      "        [94440, 64814,     2,  ..., 49306, 64743, 73062],\n",
      "        ...,\n",
      "        [41074, 14368, 16743,  ..., 74606, 13156, 76279],\n",
      "        [18671, 39613, 36430,  ..., 48452,  5066, 18505],\n",
      "        [79542, 57357, 26416,  ..., 83471,  1282, 72407]], device='cuda:0')\n",
      "CPU times: user 2.64 s, sys: 776 ms, total: 3.42 s\n",
      "Wall time: 3.42 s\n"
     ]
    }
   ],
   "source": [
    "%%time\n",
    "\n",
    "knn_object = ops.knn_points(xb_concat, xb_concat, K=100, return_sorted=False)\n",
    "print(knn_object.idx[0])\n",
    "# I = knn_object.idx[0]\n",
    "# D = knn_object.dists[0]\n",
    "# ind = torch.Tensor.repeat(torch.arange(I.shape[0], device=device), (I.shape[1], 1), 1).T\n",
    "# in_radius = D <= r_max**2\n",
    "# edge_list = torch.stack([ind[D <= r_max**2], I[D <= r_max**2]])"
   ]
  },
  {
   "cell_type": "code",
   "execution_count": 296,
   "metadata": {},
   "outputs": [
    {
     "name": "stdout",
     "output_type": "stream",
     "text": [
      "tensor([[[    0, 77253, 93244,  ..., 94116, 41362, 48348],\n",
      "         [66102,     1, 21511,  ..., 51498, 82276, 54818],\n",
      "         [96924, 61209,     2,  ..., 44820, 96316,  7229],\n",
      "         ...,\n",
      "         [51307,  7360, 43426,  ...,  9164, 99078, 55078],\n",
      "         [47920, 80765, 10133,  ...,  2923, 46027, 44837],\n",
      "         [37062, 54467, 99999,  ..., 56134, 39525, 87827]]], device='cuda:0')\n",
      "CPU times: user 1.33 ms, sys: 653 µs, total: 1.98 ms\n",
      "Wall time: 1.66 ms\n"
     ]
    }
   ],
   "source": [
    "%%time\n",
    "print(knn_object.idx)"
   ]
  },
  {
   "cell_type": "code",
   "execution_count": 254,
   "metadata": {},
   "outputs": [
    {
     "name": "stdout",
     "output_type": "stream",
     "text": [
      "CPU times: user 114 ms, sys: 153 ms, total: 266 ms\n",
      "Wall time: 265 ms\n"
     ]
    }
   ],
   "source": [
    "%%time\n",
    "I_cpu = I.to(\"cpu\")\n",
    "D_cpu = D.to(\"cpu\")\n",
    "ind_cpu = ind.to(\"cpu\")"
   ]
  },
  {
   "cell_type": "code",
   "execution_count": 262,
   "metadata": {},
   "outputs": [
    {
     "name": "stdout",
     "output_type": "stream",
     "text": [
      "CPU times: user 161 ms, sys: 484 µs, total: 162 ms\n",
      "Wall time: 103 ms\n"
     ]
    },
    {
     "data": {
      "text/plain": [
       "tensor([    0,     0,     0,  ..., 99999, 99999, 99999])"
      ]
     },
     "execution_count": 262,
     "metadata": {},
     "output_type": "execute_result"
    }
   ],
   "source": [
    "%%time\n",
    "ind_cpu[D_cpu <= r_max**2]"
   ]
  },
  {
   "cell_type": "code",
   "execution_count": 236,
   "metadata": {},
   "outputs": [
    {
     "name": "stdout",
     "output_type": "stream",
     "text": [
      "CPU times: user 439 ms, sys: 124 ms, total: 563 ms\n",
      "Wall time: 562 ms\n"
     ]
    }
   ],
   "source": [
    "%%time\n",
    "knn_object = ops.knn_points(xb_pt.unsqueeze(0), xb_pt.unsqueeze(0), K=200, return_sorted=False, return_nn=True)"
   ]
  },
  {
   "cell_type": "code",
   "execution_count": 228,
   "metadata": {},
   "outputs": [
    {
     "name": "stdout",
     "output_type": "stream",
     "text": [
      "tensor([[[0.0000, 0.2504, 0.2281,  ..., 0.2557, 0.2420, 0.1677],\n",
      "         [0.1699, 0.0000, 0.0653,  ..., 0.1864, 0.1070, 0.1468],\n",
      "         [0.1492, 0.1345, 0.0000,  ..., 0.2129, 0.2714, 0.2543],\n",
      "         ...,\n",
      "         [0.1886, 0.1908, 0.1716,  ..., 0.1228, 0.1673, 0.1810],\n",
      "         [0.1251, 0.1739, 0.1624,  ..., 0.1567, 0.1720, 0.1733],\n",
      "         [0.1586, 0.2160, 0.2659,  ..., 0.1545, 0.1833, 0.2281]]],\n",
      "       device='cuda:0')\n",
      "CPU times: user 329 ms, sys: 113 ms, total: 442 ms\n",
      "Wall time: 441 ms\n"
     ]
    }
   ],
   "source": [
    "%%time\n",
    "print(knn_object[0])"
   ]
  },
  {
   "cell_type": "code",
   "execution_count": 211,
   "metadata": {},
   "outputs": [
    {
     "name": "stdout",
     "output_type": "stream",
     "text": [
      "CPU times: user 20 µs, sys: 10 µs, total: 30 µs\n",
      "Wall time: 31.9 µs\n"
     ]
    },
    {
     "data": {
      "text/plain": [
       "tensor([[0.0000, 0.2767, 0.3177,  ..., 0.1754, 0.2580, 0.3317],\n",
       "        [0.2505, 0.0000, 0.2266,  ..., 0.1616, 0.2388, 0.1991],\n",
       "        [0.3576, 0.3259, 0.0000,  ..., 0.2855, 0.3752, 0.2697],\n",
       "        ...,\n",
       "        [0.2356, 0.1651, 0.2214,  ..., 0.2082, 0.1545, 0.2206],\n",
       "        [0.0515, 0.2430, 0.2357,  ..., 0.2008, 0.1911, 0.1864],\n",
       "        [0.2134, 0.2127, 0.3615,  ..., 0.3402, 0.1883, 0.3476]],\n",
       "       device='cuda:0')"
      ]
     },
     "execution_count": 211,
     "metadata": {},
     "output_type": "execute_result"
    }
   ],
   "source": [
    "%%time\n",
    "knn_object.dists[0]"
   ]
  },
  {
   "cell_type": "code",
   "execution_count": 212,
   "metadata": {},
   "outputs": [
    {
     "name": "stdout",
     "output_type": "stream",
     "text": [
      "CPU times: user 2 µs, sys: 1e+03 ns, total: 3 µs\n",
      "Wall time: 5.01 µs\n"
     ]
    },
    {
     "data": {
      "text/plain": [
       "(tensor([[    0, 14881, 65497,  ...,   913, 22800, 79311],\n",
       "         [97777,     1, 44033,  ..., 46287, 64841, 57255],\n",
       "         [98379,  2961,     2,  ..., 51836, 71521, 54336],\n",
       "         ...,\n",
       "         [33218, 74590, 36060,  ..., 14629, 70337, 55657],\n",
       "         [ 2923, 40832, 10583,  ..., 84957, 92123, 58598],\n",
       "         [91895, 29504, 75248,  ..., 58607, 50481, 10077]], device='cuda:0'),\n",
       " tensor([[0.0000, 0.2767, 0.3177,  ..., 0.1754, 0.2580, 0.3317],\n",
       "         [0.2505, 0.0000, 0.2266,  ..., 0.1616, 0.2388, 0.1991],\n",
       "         [0.3576, 0.3259, 0.0000,  ..., 0.2855, 0.3752, 0.2697],\n",
       "         ...,\n",
       "         [0.2356, 0.1651, 0.2214,  ..., 0.2082, 0.1545, 0.2206],\n",
       "         [0.0515, 0.2430, 0.2357,  ..., 0.2008, 0.1911, 0.1864],\n",
       "         [0.2134, 0.2127, 0.3615,  ..., 0.3402, 0.1883, 0.3476]],\n",
       "        device='cuda:0'))"
      ]
     },
     "execution_count": 212,
     "metadata": {},
     "output_type": "execute_result"
    }
   ],
   "source": [
    "%%time\n",
    "I, D"
   ]
  },
  {
   "cell_type": "code",
   "execution_count": 213,
   "metadata": {},
   "outputs": [
    {
     "name": "stdout",
     "output_type": "stream",
     "text": [
      "CPU times: user 0 ns, sys: 1.36 ms, total: 1.36 ms\n",
      "Wall time: 1.08 ms\n"
     ]
    }
   ],
   "source": [
    "%%time\n",
    "ind = torch.Tensor.repeat(torch.arange(I.shape[0], device=device), (I.shape[1], 1), 1).T"
   ]
  },
  {
   "cell_type": "code",
   "execution_count": 201,
   "metadata": {},
   "outputs": [
    {
     "data": {
      "text/plain": [
       "tensor([[    0,     0,     0,  ...,     0,     0,     0],\n",
       "        [    1,     1,     1,  ...,     1,     1,     1],\n",
       "        [    2,     2,     2,  ...,     2,     2,     2],\n",
       "        ...,\n",
       "        [99997, 99997, 99997,  ..., 99997, 99997, 99997],\n",
       "        [99998, 99998, 99998,  ..., 99998, 99998, 99998],\n",
       "        [99999, 99999, 99999,  ..., 99999, 99999, 99999]], device='cuda:0')"
      ]
     },
     "execution_count": 201,
     "metadata": {},
     "output_type": "execute_result"
    }
   ],
   "source": [
    "ind"
   ]
  },
  {
   "cell_type": "code",
   "execution_count": 194,
   "metadata": {},
   "outputs": [
    {
     "name": "stdout",
     "output_type": "stream",
     "text": [
      "CPU times: user 2.16 ms, sys: 1.04 ms, total: 3.19 ms\n",
      "Wall time: 2.79 ms\n"
     ]
    }
   ],
   "source": [
    "%%time\n",
    "edge_list = torch.stack([ind[D <= r_max**2], I[D <= r_max**2]])\n",
    "# Remove self-loops\n",
    "edge_list = edge_list[:, edge_list[0] != edge_list[1]]"
   ]
  },
  {
   "cell_type": "code",
   "execution_count": 195,
   "metadata": {},
   "outputs": [
    {
     "data": {
      "text/plain": [
       "torch.Size([2, 1381130])"
      ]
     },
     "execution_count": 195,
     "metadata": {},
     "output_type": "execute_result"
    }
   ],
   "source": [
    "edge_list.shape"
   ]
  },
  {
   "cell_type": "code",
   "execution_count": 322,
   "metadata": {},
   "outputs": [],
   "source": [
    "xb = np.random.random((nb, d)).astype('float32')\n",
    "xb_pt = torch.from_numpy(xb).to(\"cuda\")"
   ]
  },
  {
   "cell_type": "code",
   "execution_count": 323,
   "metadata": {},
   "outputs": [
    {
     "name": "stdout",
     "output_type": "stream",
     "text": [
      "tensor([[    0, 88906, 75235,  ..., 83399, 43286, 83023],\n",
      "        [    1, 97447, 70750,  ..., 17177, 18546, 91704],\n",
      "        [    2,  5301, 89930,  ..., 97846, 73235, 23308],\n",
      "        ...,\n",
      "        [99997, 42925, 18030,  ..., 77772, 45766, 16716],\n",
      "        [99998, 93619, 71839,  ..., 65737, 99443,  9563],\n",
      "        [99999, 44145, 56005,  ..., 47270, 33549, 67971]], device='cuda:0')\n",
      "CPU times: user 156 ms, sys: 56.2 ms, total: 213 ms\n",
      "Wall time: 212 ms\n"
     ]
    }
   ],
   "source": [
    "%%time\n",
    "D, I = faiss.knn_gpu(res, xb_pt.squeeze(), xb_pt.squeeze(), 100)\n",
    "print(I)"
   ]
  },
  {
   "cell_type": "code",
   "execution_count": 180,
   "metadata": {},
   "outputs": [
    {
     "name": "stdout",
     "output_type": "stream",
     "text": [
      "CPU times: user 3.24 ms, sys: 0 ns, total: 3.24 ms\n",
      "Wall time: 2.86 ms\n"
     ]
    }
   ],
   "source": [
    "%%time\n",
    "ind = torch.Tensor.repeat(torch.arange(I.shape[0], device=device), (I.shape[1], 1), 1).T\n",
    "edge_list = torch.stack([ind[D <= r_max**2], I[D <= r_max**2]])"
   ]
  },
  {
   "cell_type": "code",
   "execution_count": 185,
   "metadata": {},
   "outputs": [
    {
     "data": {
      "text/plain": [
       "tensor([[    0,     0,     0,  ...,     0,     0,     0],\n",
       "        [    1,     1,     1,  ...,     1,     1,     1],\n",
       "        [    2,     2,     2,  ...,     2,     2,     2],\n",
       "        ...,\n",
       "        [99997, 99997, 99997,  ..., 99997, 99997, 99997],\n",
       "        [99998, 99998, 99998,  ..., 99998, 99998, 99998],\n",
       "        [99999, 99999, 99999,  ..., 99999, 99999, 99999]], device='cuda:0')"
      ]
     },
     "execution_count": 185,
     "metadata": {},
     "output_type": "execute_result"
    }
   ],
   "source": [
    "ind"
   ]
  },
  {
   "cell_type": "code",
   "execution_count": 181,
   "metadata": {},
   "outputs": [
    {
     "name": "stdout",
     "output_type": "stream",
     "text": [
      "CPU times: user 276 µs, sys: 132 µs, total: 408 µs\n",
      "Wall time: 261 µs\n"
     ]
    }
   ],
   "source": [
    "%%time\n",
    "# Remove self-loops\n",
    "edge_list = edge_list[:, edge_list[0] != edge_list[1]]"
   ]
  },
  {
   "cell_type": "code",
   "execution_count": null,
   "metadata": {},
   "outputs": [],
   "source": []
  },
  {
   "cell_type": "code",
   "execution_count": 131,
   "metadata": {},
   "outputs": [
    {
     "data": {
      "text/plain": [
       "torch.Size([2, 1375012])"
      ]
     },
     "execution_count": 131,
     "metadata": {},
     "output_type": "execute_result"
    }
   ],
   "source": [
    "edge_list.shape"
   ]
  },
  {
   "cell_type": "code",
   "execution_count": 145,
   "metadata": {},
   "outputs": [],
   "source": [
    "xb = np.random.random((nb, d)).astype('float32')\n",
    "xb_pt = torch.from_numpy(xb).to(\"cuda\")"
   ]
  },
  {
   "cell_type": "code",
   "execution_count": 152,
   "metadata": {},
   "outputs": [
    {
     "name": "stdout",
     "output_type": "stream",
     "text": [
      "CPU times: user 19 s, sys: 6.45 s, total: 25.4 s\n",
      "Wall time: 25.4 s\n"
     ]
    }
   ],
   "source": [
    "%%time\n",
    "for i in range(10):\n",
    "    edge_list = build_edges(xb_pt, 0.3, 200)"
   ]
  },
  {
   "cell_type": "code",
   "execution_count": 415,
   "metadata": {},
   "outputs": [],
   "source": [
    "xb = np.random.random((nb, d)).astype('float32')\n",
    "xb_pt = torch.from_numpy(xb).to(\"cuda\")"
   ]
  },
  {
   "cell_type": "code",
   "execution_count": 428,
   "metadata": {},
   "outputs": [
    {
     "name": "stdout",
     "output_type": "stream",
     "text": [
      "CPU times: user 140 ms, sys: 184 ms, total: 323 ms\n",
      "Wall time: 323 ms\n"
     ]
    }
   ],
   "source": [
    "%%time\n",
    "for k in np.arange()\n",
    "edge_list = build_edges(xb_pt, 0.3, 20, use_faiss=True)"
   ]
  },
  {
   "cell_type": "code",
   "execution_count": 11,
   "metadata": {},
   "outputs": [
    {
     "name": "stdout",
     "output_type": "stream",
     "text": [
      "1.0 nbs in 0.06000471115112305 seconds\n",
      "1.404004245548316 nbs in 0.059882164001464844 seconds\n",
      "1.9712279215176958 nbs in 0.0597994327545166 seconds\n",
      "2.767612370754227 nbs in 0.06099104881286621 seconds\n",
      "3.885739518570975 nbs in 0.06192827224731445 seconds\n",
      "5.455594781168519 nbs in 0.08217763900756836 seconds\n",
      "7.659678234751834 nbs in 0.08052968978881836 seconds\n",
      "10.754220761125605 nbs in 0.0870206356048584 seconds\n",
      "15.098971606184193 nbs in 0.12217330932617188 seconds\n",
      "21.199020238496082 nbs in 0.21349859237670898 seconds\n",
      "29.76351441631318 nbs in 0.3493661880493164 seconds\n",
      "41.78810060294221 nbs in 0.38930773735046387 seconds\n",
      "58.67067065993098 nbs in 0.39064860343933105 seconds\n",
      "82.37387069571011 nbs in 0.4042544364929199 seconds\n",
      "115.65326417902502 nbs in 0.4029724597930908 seconds\n",
      "162.3776739188721 nbs in 0.4707655906677246 seconds\n",
      "227.97894356435648 nbs in 0.47101807594299316 seconds\n",
      "320.08340465997645 nbs in 0.6698033809661865 seconds\n",
      "449.3984590721666 nbs in 0.6734185218811035 seconds\n",
      "630.957344480193 nbs in 1.2904984951019287 seconds\n"
     ]
    }
   ],
   "source": [
    "k_timings = []\n",
    "k_ticks = np.logspace(0, 2.8, num=20, base=10)\n",
    "for k in k_ticks:\n",
    "    tic = tt()\n",
    "    edge_list = build_edges(xb_pt, 0.3, int(k))\n",
    "    k_timing = tt() - tic\n",
    "    k_timings.append(k_timing)\n",
    "    \n",
    "    print(\"{} nbs in {} seconds\".format(k, k_timing))"
   ]
  },
  {
   "cell_type": "code",
   "execution_count": 15,
   "metadata": {},
   "outputs": [
    {
     "data": {
      "image/png": "[encoded data removed]",
      "text/plain": [
       "<Figure size 432x288 with 1 Axes>"
      ]
     },
     "metadata": {
      "needs_background": "light"
     },
     "output_type": "display_data"
    }
   ],
   "source": [
    "plt.scatter(k_ticks, k_timings)\n",
    "plt.plot(k_ticks, k_timings)\n",
    "plt.xscale(\"log\")\n",
    "plt.yscale(\"log\")"
   ]
  },
  {
   "cell_type": "code",
   "execution_count": null,
   "metadata": {},
   "outputs": [],
   "source": []
  }
 ],
 "metadata": {
  "kernelspec": {
   "display_name": "ExatrkxTest",
   "language": "python",
   "name": "exatrkx-test"
  },
  "language_info": {
   "codemirror_mode": {
    "name": "ipython",
    "version": 3
   },
   "file_extension": ".py",
   "mimetype": "text/x-python",
   "name": "python",
   "nbconvert_exporter": "python",
   "pygments_lexer": "ipython3",
   "version": "3.7.7"
  }
 },
 "nbformat": 4,
 "nbformat_minor": 4
}
