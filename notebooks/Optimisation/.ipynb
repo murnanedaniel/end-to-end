{
 "cells": [
  {
   "cell_type": "markdown",
   "metadata": {},
   "source": [
    "# Compare Hashing with FAISS"
   ]
  },
  {
   "cell_type": "code",
   "execution_count": 3,
   "metadata": {},
   "outputs": [],
   "source": [
    "%load_ext autoreload\n",
    "%autoreload 2"
   ]
  },
  {
   "cell_type": "code",
   "execution_count": 4,
   "metadata": {
    "code_folding": []
   },
   "outputs": [],
   "source": [
    "# System imports\n",
    "import os\n",
    "import sys\n",
    "from time import time as tt\n",
    "import importlib\n",
    "\n",
    "# External imports\n",
    "import matplotlib.pyplot as plt\n",
    "import scipy as sp\n",
    "import numpy as np\n",
    "import pandas as pd\n",
    "import seaborn as sns\n",
    "import torch\n",
    "from torch_geometric.data import DataLoader\n",
    "\n",
    "from itertools import chain\n",
    "from random import shuffle, sample\n",
    "from scipy.optimize import root_scalar as root\n",
    "\n",
    "from torch.nn import Linear\n",
    "import torch.nn.functional as F\n",
    "from torch_cluster import knn_graph, radius_graph\n",
    "import trackml.dataset\n",
    "import torch_geometric\n",
    "from itertools import permutations\n",
    "import itertools\n",
    "from sklearn import metrics\n",
    "import pytorch_lightning as pl\n",
    "from pytorch_lightning import LightningModule, Trainer\n",
    "from pytorch_lightning.loggers import WandbLogger\n",
    "from torch.utils.checkpoint import checkpoint\n",
    "\n",
    "import faiss\n",
    "\n",
    "sys.path.append('/global/homes/d/danieltm/ExaTrkX/Tracking-ML-Exa.TrkX/src/Pipelines/TrackML_Example')\n",
    "device = \"cuda\" if torch.cuda.is_available() else \"cpu\""
   ]
  },
  {
   "cell_type": "code",
   "execution_count": 5,
   "metadata": {},
   "outputs": [],
   "source": [
    "from LightningModules.Embedding.Models.layerless_embedding import LayerlessEmbedding\n",
    "from LightningModules.Embedding.utils import filter_hit_pt, fetch_pt, fetch_type, load_dataset, graph_intersection, build_edges"
   ]
  },
  {
   "cell_type": "markdown",
   "metadata": {},
   "source": [
    "# Bucketing/Hashing Explore"
   ]
  },
  {
   "cell_type": "markdown",
   "metadata": {},
   "source": [
    "## KeOps"
   ]
  },
  {
   "cell_type": "code",
   "execution_count": 4,
   "metadata": {},
   "outputs": [],
   "source": [
    "!module load cudatoolkit/10.2.89_3.28-7.0.1.1_2.1__g88d3d59"
   ]
  },
  {
   "cell_type": "code",
   "execution_count": 2,
   "metadata": {},
   "outputs": [
    {
     "name": "stdout",
     "output_type": "stream",
     "text": [
      "Cleaning /global/u2/d/danieltm/.cache/pykeops-1.5-cpython-37-gpu0/...\n",
      "    - /global/u2/d/danieltm/.cache/pykeops-1.5-cpython-37-gpu0/libKeOpstorch81e422afc4 has been removed.\n",
      "    - /global/u2/d/danieltm/.cache/pykeops-1.5-cpython-37-gpu0/build-b05ab2324d has been removed.\n",
      "    - /global/u2/d/danieltm/.cache/pykeops-1.5-cpython-37-gpu0/keops_hash.log has been removed.\n",
      "    - /global/u2/d/danieltm/.cache/pykeops-1.5-cpython-37-gpu0/build-c75dc5d853 has been removed.\n",
      "    - /global/u2/d/danieltm/.cache/pykeops-1.5-cpython-37-gpu0/build-pybind11_template-libKeOps_template_90eb971f10 has been removed.\n",
      "    - /global/u2/d/danieltm/.cache/pykeops-1.5-cpython-37-gpu0/build-pybind11_template-libKeOps_template_479aecd36f has been removed.\n",
      "[pyKeOps] Initializing build folder for dtype=float32 and lang=torch in /global/u2/d/danieltm/.cache/pykeops-1.5-cpython-37-gpu0 ... done.\n",
      "[pyKeOps] Compiling libKeOpstorch81e422afc4 in /global/u2/d/danieltm/.cache/pykeops-1.5-cpython-37-gpu0:\n",
      "       formula: Sum_Reduction(SqNorm2(x - y),1)\n",
      "       aliases: x = Vi(0,3); y = Vj(1,3); \n",
      "       dtype  : float32\n",
      "... \n",
      "[pyKeOps] Compiling pybind11 template libKeOps_template_479aecd36f in /global/u2/d/danieltm/.cache/pykeops-1.5-cpython-37-gpu0 ... done.\n",
      "Done.\n",
      "[pyKeOps] Initializing build folder for dtype=float32 and lang=torch in /global/u2/d/danieltm/.cache/pykeops-1.5-cpython-37-gpu0 ... -- The CXX compiler identification is GNU 7.4.1\n",
      "-- Check for working CXX compiler: /usr/bin/c++\n",
      "-- Check for working CXX compiler: /usr/bin/c++ -- works\n",
      "-- Detecting CXX compiler ABI info\n",
      "-- Detecting CXX compiler ABI info - done\n",
      "-- Detecting CXX compile features\n",
      "-- Detecting CXX compile features - done\n",
      "-- Looking for a CUDA compiler\n",
      "-- Looking for a CUDA compiler - NOTFOUND\n",
      "-- No CUDA support\n",
      "-- Configuring done\n",
      "-- Generating done\n",
      "-- Build files have been written to: /global/u2/d/danieltm/.cache/pykeops-1.5-cpython-37-gpu0/build-b05ab2324d\n",
      "\n",
      "done.\n",
      "[pyKeOps] Compiling libKeOpstorch81e422afc4 in /global/u2/d/danieltm/.cache/pykeops-1.5-cpython-37-gpu0:\n",
      "       formula: Sum_Reduction(SqNorm2(x - y),1)\n",
      "       aliases: x = Vi(0,3); y = Vj(1,3); \n",
      "       dtype  : float32\n",
      "... \n",
      "/usr/bin/cmake -H/global/homes/d/danieltm/.conda/envs/exatrkx-test/lib/python3.7/site-packages/pykeops/cmake_scripts/script_keops_formula -B/global/u2/d/danieltm/.cache/pykeops-1.5-cpython-37-gpu0/build-b05ab2324d --check-build-system CMakeFiles/Makefile.cmake 0\n",
      "/usr/bin/gmake -f CMakeFiles/Makefile2 KeOps_formula\n",
      "gmake[1]: Entering directory '/global/u2/d/danieltm/.cache/pykeops-1.5-cpython-37-gpu0/build-b05ab2324d'\n",
      "/usr/bin/cmake -H/global/homes/d/danieltm/.conda/envs/exatrkx-test/lib/python3.7/site-packages/pykeops/cmake_scripts/script_keops_formula -B/global/u2/d/danieltm/.cache/pykeops-1.5-cpython-37-gpu0/build-b05ab2324d --check-build-system CMakeFiles/Makefile.cmake 0\n",
      "/usr/bin/cmake -E cmake_progress_start /global/u2/d/danieltm/.cache/pykeops-1.5-cpython-37-gpu0/build-b05ab2324d/CMakeFiles 1\n",
      "/usr/bin/gmake -f CMakeFiles/Makefile2 CMakeFiles/KeOps_formula.dir/all\n",
      "gmake[2]: Entering directory '/global/u2/d/danieltm/.cache/pykeops-1.5-cpython-37-gpu0/build-b05ab2324d'\n",
      "/usr/bin/gmake -f CMakeFiles/copy_KeOps_formula.dir/build.make CMakeFiles/copy_KeOps_formula.dir/depend\n",
      "gmake[3]: Entering directory '/global/u2/d/danieltm/.cache/pykeops-1.5-cpython-37-gpu0/build-b05ab2324d'\n",
      "cd /global/u2/d/danieltm/.cache/pykeops-1.5-cpython-37-gpu0/build-b05ab2324d && /usr/bin/cmake -E cmake_depends \"Unix Makefiles\" /global/homes/d/danieltm/.conda/envs/exatrkx-test/lib/python3.7/site-packages/pykeops/cmake_scripts/script_keops_formula /global/homes/d/danieltm/.conda/envs/exatrkx-test/lib/python3.7/site-packages/pykeops/cmake_scripts/script_keops_formula /global/u2/d/danieltm/.cache/pykeops-1.5-cpython-37-gpu0/build-b05ab2324d /global/u2/d/danieltm/.cache/pykeops-1.5-cpython-37-gpu0/build-b05ab2324d /global/u2/d/danieltm/.cache/pykeops-1.5-cpython-37-gpu0/build-b05ab2324d/CMakeFiles/copy_KeOps_formula.dir/DependInfo.cmake --color=\n",
      "Dependee \"/global/u2/d/danieltm/.cache/pykeops-1.5-cpython-37-gpu0/build-b05ab2324d/CMakeFiles/copy_KeOps_formula.dir/DependInfo.cmake\" is newer than depender \"/global/u2/d/danieltm/.cache/pykeops-1.5-cpython-37-gpu0/build-b05ab2324d/CMakeFiles/copy_KeOps_formula.dir/depend.internal\".\n",
      "Dependee \"/global/u2/d/danieltm/.cache/pykeops-1.5-cpython-37-gpu0/build-b05ab2324d/CMakeFiles/CMakeDirectoryInformation.cmake\" is newer than depender \"/global/u2/d/danieltm/.cache/pykeops-1.5-cpython-37-gpu0/build-b05ab2324d/CMakeFiles/copy_KeOps_formula.dir/depend.internal\".\n",
      "Scanning dependencies of target copy_KeOps_formula\n",
      "gmake[3]: Leaving directory '/global/u2/d/danieltm/.cache/pykeops-1.5-cpython-37-gpu0/build-b05ab2324d'\n",
      "/usr/bin/gmake -f CMakeFiles/copy_KeOps_formula.dir/build.make CMakeFiles/copy_KeOps_formula.dir/build\n",
      "gmake[3]: Entering directory '/global/u2/d/danieltm/.cache/pykeops-1.5-cpython-37-gpu0/build-b05ab2324d'\n",
      "[100%] Building CXX object CMakeFiles/copy_KeOps_formula.dir/global/homes/d/danieltm/.conda/envs/exatrkx-test/lib/python3.7/site-packages/pykeops/keops/core/link_autodiff.cpp.o\n",
      "/usr/bin/c++  -DC_CONTIGUOUS=1 -DUSE_CUDA=0 -DUSE_DOUBLE=0 -DUSE_HALF=0 -D_GLIBCXX_USE_CXX11_ABI=0 -D__TYPE__=float -I/global/homes/d/danieltm/.conda/envs/exatrkx-test/lib/python3.7/site-packages/pykeops/cmake_scripts/script_keops_formula/../.. -I/global/u2/d/danieltm/.cache/pykeops-1.5-cpython-37-gpu0/build-b05ab2324d -I/global/homes/d/danieltm/.conda/envs/exatrkx-test/lib/python3.7/site-packages/pykeops/cmake_scripts/script_keops_formula/../../keops  -DUSE_OPENMP -fopenmp -Wall -Wno-unknown-pragmas -fmax-errors=2 -g -O0 -g -fPIC   -include KeOps_formula.h -std=gnu++14 -o CMakeFiles/copy_KeOps_formula.dir/global/homes/d/danieltm/.conda/envs/exatrkx-test/lib/python3.7/site-packages/pykeops/keops/core/link_autodiff.cpp.o -c /global/homes/d/danieltm/.conda/envs/exatrkx-test/lib/python3.7/site-packages/pykeops/keops/core/link_autodiff.cpp\n",
      "gmake[3]: Leaving directory '/global/u2/d/danieltm/.cache/pykeops-1.5-cpython-37-gpu0/build-b05ab2324d'\n",
      "[100%] Built target copy_KeOps_formula\n",
      "/usr/bin/gmake -f CMakeFiles/KeOps_formula.dir/build.make CMakeFiles/KeOps_formula.dir/depend\n",
      "gmake[3]: Entering directory '/global/u2/d/danieltm/.cache/pykeops-1.5-cpython-37-gpu0/build-b05ab2324d'\n",
      "cd /global/u2/d/danieltm/.cache/pykeops-1.5-cpython-37-gpu0/build-b05ab2324d && /usr/bin/cmake -E cmake_depends \"Unix Makefiles\" /global/homes/d/danieltm/.conda/envs/exatrkx-test/lib/python3.7/site-packages/pykeops/cmake_scripts/script_keops_formula /global/homes/d/danieltm/.conda/envs/exatrkx-test/lib/python3.7/site-packages/pykeops/cmake_scripts/script_keops_formula /global/u2/d/danieltm/.cache/pykeops-1.5-cpython-37-gpu0/build-b05ab2324d /global/u2/d/danieltm/.cache/pykeops-1.5-cpython-37-gpu0/build-b05ab2324d /global/u2/d/danieltm/.cache/pykeops-1.5-cpython-37-gpu0/build-b05ab2324d/CMakeFiles/KeOps_formula.dir/DependInfo.cmake --color=\n",
      "Dependee \"/global/u2/d/danieltm/.cache/pykeops-1.5-cpython-37-gpu0/build-b05ab2324d/CMakeFiles/KeOps_formula.dir/DependInfo.cmake\" is newer than depender \"/global/u2/d/danieltm/.cache/pykeops-1.5-cpython-37-gpu0/build-b05ab2324d/CMakeFiles/KeOps_formula.dir/depend.internal\".\n",
      "Dependee \"/global/u2/d/danieltm/.cache/pykeops-1.5-cpython-37-gpu0/build-b05ab2324d/CMakeFiles/CMakeDirectoryInformation.cmake\" is newer than depender \"/global/u2/d/danieltm/.cache/pykeops-1.5-cpython-37-gpu0/build-b05ab2324d/CMakeFiles/KeOps_formula.dir/depend.internal\".\n",
      "Scanning dependencies of target KeOps_formula\n",
      "gmake[3]: Leaving directory '/global/u2/d/danieltm/.cache/pykeops-1.5-cpython-37-gpu0/build-b05ab2324d'\n",
      "/usr/bin/gmake -f CMakeFiles/KeOps_formula.dir/build.make CMakeFiles/KeOps_formula.dir/build\n",
      "gmake[3]: Entering directory '/global/u2/d/danieltm/.cache/pykeops-1.5-cpython-37-gpu0/build-b05ab2324d'\n",
      "/usr/bin/cmake -E copy /global/u2/d/danieltm/.cache/pykeops-1.5-cpython-37-gpu0/build-b05ab2324d/CMakeFiles/copy_KeOps_formula.dir/global/homes/d/danieltm/.conda/envs/exatrkx-test/lib/python3.7/site-packages/pykeops/keops/core/link_autodiff.cpp.o /global/u2/d/danieltm/.cache/pykeops-1.5-cpython-37-gpu0/build-b05ab2324d/..//KeOps_formula.o\n",
      "gmake[3]: Leaving directory '/global/u2/d/danieltm/.cache/pykeops-1.5-cpython-37-gpu0/build-b05ab2324d'\n",
      "[100%] Built target KeOps_formula\n",
      "gmake[2]: Leaving directory '/global/u2/d/danieltm/.cache/pykeops-1.5-cpython-37-gpu0/build-b05ab2324d'\n",
      "/usr/bin/cmake -E cmake_progress_start /global/u2/d/danieltm/.cache/pykeops-1.5-cpython-37-gpu0/build-b05ab2324d/CMakeFiles 0\n",
      "gmake[1]: Leaving directory '/global/u2/d/danieltm/.cache/pykeops-1.5-cpython-37-gpu0/build-b05ab2324d'\n",
      "\n"
     ]
    },
    {
     "name": "stdout",
     "output_type": "stream",
     "text": [
      "[pyKeOps] Compiling pybind11 template libKeOps_template_90eb971f10 in /global/u2/d/danieltm/.cache/pykeops-1.5-cpython-37-gpu0 ... -- The CXX compiler identification is GNU 7.4.1\n",
      "-- Check for working CXX compiler: /usr/bin/c++\n",
      "-- Check for working CXX compiler: /usr/bin/c++ -- works\n",
      "-- Detecting CXX compiler ABI info\n",
      "-- Detecting CXX compiler ABI info - done\n",
      "-- Detecting CXX compile features\n",
      "-- Detecting CXX compile features - done\n",
      "-- Looking for a CUDA compiler\n",
      "-- Looking for a CUDA compiler - NOTFOUND\n",
      "-- No CUDA support\n",
      "-- pybind11 v2.6.1 \n",
      "-- Found PythonInterp: /global/homes/d/danieltm/.conda/envs/exatrkx-test/bin/python (found suitable version \"3.7.7\", minimum required is \"3.7\") \n",
      "-- Found PythonLibs: /global/homes/d/danieltm/.conda/envs/exatrkx-test/lib/libpython3.7m.so\n",
      "-- Performing Test HAS_FLTO\n",
      "-- Performing Test HAS_FLTO - Success\n",
      "-- Configuring done\n",
      "-- Generating done\n",
      "-- Build files have been written to: /global/u2/d/danieltm/.cache/pykeops-1.5-cpython-37-gpu0/build-pybind11_template-libKeOps_template_90eb971f10\n",
      "\n",
      "/usr/bin/cmake -H/global/homes/d/danieltm/.conda/envs/exatrkx-test/lib/python3.7/site-packages/pykeops/cmake_scripts/script_template -B/global/u2/d/danieltm/.cache/pykeops-1.5-cpython-37-gpu0/build-pybind11_template-libKeOps_template_90eb971f10 --check-build-system CMakeFiles/Makefile.cmake 0\n",
      "/usr/bin/gmake -f CMakeFiles/Makefile2 libKeOps_template_90eb971f10\n",
      "gmake[1]: Entering directory '/global/u2/d/danieltm/.cache/pykeops-1.5-cpython-37-gpu0/build-pybind11_template-libKeOps_template_90eb971f10'\n",
      "/usr/bin/cmake -H/global/homes/d/danieltm/.conda/envs/exatrkx-test/lib/python3.7/site-packages/pykeops/cmake_scripts/script_template -B/global/u2/d/danieltm/.cache/pykeops-1.5-cpython-37-gpu0/build-pybind11_template-libKeOps_template_90eb971f10 --check-build-system CMakeFiles/Makefile.cmake 0\n",
      "/usr/bin/cmake -E cmake_progress_start /global/u2/d/danieltm/.cache/pykeops-1.5-cpython-37-gpu0/build-pybind11_template-libKeOps_template_90eb971f10/CMakeFiles 2\n",
      "/usr/bin/gmake -f CMakeFiles/Makefile2 CMakeFiles/libKeOps_template_90eb971f10.dir/all\n",
      "gmake[2]: Entering directory '/global/u2/d/danieltm/.cache/pykeops-1.5-cpython-37-gpu0/build-pybind11_template-libKeOps_template_90eb971f10'\n",
      "/usr/bin/gmake -f CMakeFiles/libKeOps_template_90eb971f10.dir/build.make CMakeFiles/libKeOps_template_90eb971f10.dir/depend\n",
      "gmake[3]: Entering directory '/global/u2/d/danieltm/.cache/pykeops-1.5-cpython-37-gpu0/build-pybind11_template-libKeOps_template_90eb971f10'\n",
      "cd /global/u2/d/danieltm/.cache/pykeops-1.5-cpython-37-gpu0/build-pybind11_template-libKeOps_template_90eb971f10 && /usr/bin/cmake -E cmake_depends \"Unix Makefiles\" /global/homes/d/danieltm/.conda/envs/exatrkx-test/lib/python3.7/site-packages/pykeops/cmake_scripts/script_template /global/homes/d/danieltm/.conda/envs/exatrkx-test/lib/python3.7/site-packages/pykeops/cmake_scripts/script_template /global/u2/d/danieltm/.cache/pykeops-1.5-cpython-37-gpu0/build-pybind11_template-libKeOps_template_90eb971f10 /global/u2/d/danieltm/.cache/pykeops-1.5-cpython-37-gpu0/build-pybind11_template-libKeOps_template_90eb971f10 /global/u2/d/danieltm/.cache/pykeops-1.5-cpython-37-gpu0/build-pybind11_template-libKeOps_template_90eb971f10/CMakeFiles/libKeOps_template_90eb971f10.dir/DependInfo.cmake --color=\n",
      "Dependee \"/global/u2/d/danieltm/.cache/pykeops-1.5-cpython-37-gpu0/build-pybind11_template-libKeOps_template_90eb971f10/CMakeFiles/libKeOps_template_90eb971f10.dir/DependInfo.cmake\" is newer than depender \"/global/u2/d/danieltm/.cache/pykeops-1.5-cpython-37-gpu0/build-pybind11_template-libKeOps_template_90eb971f10/CMakeFiles/libKeOps_template_90eb971f10.dir/depend.internal\".\n",
      "Dependee \"/global/u2/d/danieltm/.cache/pykeops-1.5-cpython-37-gpu0/build-pybind11_template-libKeOps_template_90eb971f10/CMakeFiles/CMakeDirectoryInformation.cmake\" is newer than depender \"/global/u2/d/danieltm/.cache/pykeops-1.5-cpython-37-gpu0/build-pybind11_template-libKeOps_template_90eb971f10/CMakeFiles/libKeOps_template_90eb971f10.dir/depend.internal\".\n",
      "Scanning dependencies of target libKeOps_template_90eb971f10\n",
      "gmake[3]: Leaving directory '/global/u2/d/danieltm/.cache/pykeops-1.5-cpython-37-gpu0/build-pybind11_template-libKeOps_template_90eb971f10'\n",
      "/usr/bin/gmake -f CMakeFiles/libKeOps_template_90eb971f10.dir/build.make CMakeFiles/libKeOps_template_90eb971f10.dir/build\n",
      "gmake[3]: Entering directory '/global/u2/d/danieltm/.cache/pykeops-1.5-cpython-37-gpu0/build-pybind11_template-libKeOps_template_90eb971f10'\n",
      "[ 50%] Building CXX object CMakeFiles/libKeOps_template_90eb971f10.dir/global/homes/d/danieltm/.conda/envs/exatrkx-test/lib/python3.7/site-packages/pykeops/torch/generic/generic_red.cpp.o\n",
      "/usr/bin/c++  -DC_CONTIGUOUS=1 -DMODULE_NAME=libKeOps_template_90eb971f10 -DUSE_CUDA=0 -DUSE_DOUBLE=0 -DUSE_HALF=0 -D_GLIBCXX_USE_CXX11_ABI=0 -D__TYPE__=float -DlibKeOps_template_90eb971f10_EXPORTS -I/global/homes/d/danieltm/.conda/envs/exatrkx-test/lib/python3.7/site-packages/pykeops/cmake_scripts/script_template/../.. -I/global/u2/d/danieltm/.cache/pykeops-1.5-cpython-37-gpu0/build-pybind11_template-libKeOps_template_90eb971f10 -I/global/homes/d/danieltm/.conda/envs/exatrkx-test/lib/python3.7/site-packages/pykeops/cmake_scripts/script_template/../../keops -I/global/homes/d/danieltm/.conda/envs/exatrkx-test/lib/python3.7/site-packages/torch/include -I/global/homes/d/danieltm/.conda/envs/exatrkx-test/lib/python3.7/site-packages/torch/include/torch/csrc/api/include -isystem /global/homes/d/danieltm/.conda/envs/exatrkx-test/include/python3.7m -isystem /global/homes/d/danieltm/.conda/envs/exatrkx-test/lib/python3.7/site-packages/pykeops/pybind11/include  -DUSE_OPENMP -fopenmp -Wall -Wno-unknown-pragmas -fmax-errors=2 -g -O0 -g -fPIC -fvisibility=hidden   -include torch_headers.h -std=gnu++14 -o CMakeFiles/libKeOps_template_90eb971f10.dir/global/homes/d/danieltm/.conda/envs/exatrkx-test/lib/python3.7/site-packages/pykeops/torch/generic/generic_red.cpp.o -c /global/homes/d/danieltm/.conda/envs/exatrkx-test/lib/python3.7/site-packages/pykeops/torch/generic/generic_red.cpp\n",
      "[100%] Linking CXX shared module libKeOps_template_90eb971f10.cpython-37m-x86_64-linux-gnu.so\n",
      "/usr/bin/cmake -E cmake_link_script CMakeFiles/libKeOps_template_90eb971f10.dir/link.txt --verbose=1\n",
      "/usr/bin/c++ -fPIC  -DUSE_OPENMP -fopenmp -Wall -Wno-unknown-pragmas -fmax-errors=2 -g -O0 -g -fopenmp -Wl,-rpath,$ORIGIN -shared  -o libKeOps_template_90eb971f10.cpython-37m-x86_64-linux-gnu.so CMakeFiles/libKeOps_template_90eb971f10.dir/global/homes/d/danieltm/.conda/envs/exatrkx-test/lib/python3.7/site-packages/pykeops/torch/generic/generic_red.cpp.o KeOps_formula.o -Wl,-rpath,/global/homes/d/danieltm/.conda/envs/exatrkx-test/lib/python3.7/site-packages/torch/lib /global/homes/d/danieltm/.conda/envs/exatrkx-test/lib/python3.7/site-packages/torch/lib/libtorch_python.so \n",
      "gmake[3]: Leaving directory '/global/u2/d/danieltm/.cache/pykeops-1.5-cpython-37-gpu0/build-pybind11_template-libKeOps_template_90eb971f10'\n",
      "[100%] Built target libKeOps_template_90eb971f10\n",
      "gmake[2]: Leaving directory '/global/u2/d/danieltm/.cache/pykeops-1.5-cpython-37-gpu0/build-pybind11_template-libKeOps_template_90eb971f10'\n",
      "/usr/bin/cmake -E cmake_progress_start /global/u2/d/danieltm/.cache/pykeops-1.5-cpython-37-gpu0/build-pybind11_template-libKeOps_template_90eb971f10/CMakeFiles 0\n",
      "gmake[1]: Leaving directory '/global/u2/d/danieltm/.cache/pykeops-1.5-cpython-37-gpu0/build-pybind11_template-libKeOps_template_90eb971f10'\n",
      "\n",
      "done.\n",
      "Done.\n"
     ]
    },
    {
     "ename": "RuntimeError",
     "evalue": "[KeOps] This KeOps shared object has been compiled without cuda support: \n 1) to perform computations on CPU, simply set tagHostDevice to 0\n 2) to perform computations on GPU, please recompile the formula with a working version of cuda.",
     "output_type": "error",
     "traceback": [
      "\u001b[0;31m---------------------------------------------------------------------------\u001b[0m",
      "\u001b[0;31mRuntimeError\u001b[0m                              Traceback (most recent call last)",
      "\u001b[0;32m~/.conda/envs/exatrkx-test/lib/python3.7/site-packages/pykeops/test/install.py\u001b[0m in \u001b[0;36mtest_torch_bindings\u001b[0;34m()\u001b[0m\n\u001b[1;32m     61\u001b[0m         if torch.allclose(\n\u001b[0;32m---> 62\u001b[0;31m             \u001b[0mmy_conv\u001b[0m\u001b[0;34m(\u001b[0m\u001b[0mx\u001b[0m\u001b[0;34m,\u001b[0m \u001b[0my\u001b[0m\u001b[0;34m)\u001b[0m\u001b[0;34m.\u001b[0m\u001b[0mview\u001b[0m\u001b[0;34m(\u001b[0m\u001b[0;34m-\u001b[0m\u001b[0;36m1\u001b[0m\u001b[0;34m)\u001b[0m\u001b[0;34m,\u001b[0m \u001b[0mtorch\u001b[0m\u001b[0;34m.\u001b[0m\u001b[0mtensor\u001b[0m\u001b[0;34m(\u001b[0m\u001b[0mexpected_res\u001b[0m\u001b[0;34m)\u001b[0m\u001b[0;34m.\u001b[0m\u001b[0mtype\u001b[0m\u001b[0;34m(\u001b[0m\u001b[0mtorch\u001b[0m\u001b[0;34m.\u001b[0m\u001b[0mfloat32\u001b[0m\u001b[0;34m)\u001b[0m\u001b[0;34m\u001b[0m\u001b[0;34m\u001b[0m\u001b[0m\n\u001b[0m\u001b[1;32m     63\u001b[0m         ):\n",
      "\u001b[0;32m~/.conda/envs/exatrkx-test/lib/python3.7/site-packages/pykeops/torch/generic/generic_red.py\u001b[0m in \u001b[0;36m__call__\u001b[0;34m(self, backend, device_id, ranges, *args)\u001b[0m\n\u001b[1;32m    578\u001b[0m             \u001b[0mny\u001b[0m\u001b[0;34m,\u001b[0m\u001b[0;34m\u001b[0m\u001b[0;34m\u001b[0m\u001b[0m\n\u001b[0;32m--> 579\u001b[0;31m             \u001b[0;34m*\u001b[0m\u001b[0margs\u001b[0m\u001b[0;34m\u001b[0m\u001b[0;34m\u001b[0m\u001b[0m\n\u001b[0m\u001b[1;32m    580\u001b[0m         )\n",
      "\u001b[0;32m~/.conda/envs/exatrkx-test/lib/python3.7/site-packages/pykeops/torch/generic/generic_red.py\u001b[0m in \u001b[0;36mforward\u001b[0;34m(ctx, formula, aliases, backend, dtype, device_id, ranges, optional_flags, rec_multVar_highdim, nx, ny, *args)\u001b[0m\n\u001b[1;32m     79\u001b[0m         result = myconv.genred_pytorch(\n\u001b[0;32m---> 80\u001b[0;31m             \u001b[0mtagCPUGPU\u001b[0m\u001b[0;34m,\u001b[0m \u001b[0mtag1D2D\u001b[0m\u001b[0;34m,\u001b[0m \u001b[0mtagHostDevice\u001b[0m\u001b[0;34m,\u001b[0m \u001b[0mdevice_id\u001b[0m\u001b[0;34m,\u001b[0m \u001b[0mranges\u001b[0m\u001b[0;34m,\u001b[0m \u001b[0mnx\u001b[0m\u001b[0;34m,\u001b[0m \u001b[0mny\u001b[0m\u001b[0;34m,\u001b[0m \u001b[0;34m*\u001b[0m\u001b[0margs\u001b[0m\u001b[0;34m\u001b[0m\u001b[0;34m\u001b[0m\u001b[0m\n\u001b[0m\u001b[1;32m     81\u001b[0m         )\n",
      "\u001b[0;31mRuntimeError\u001b[0m: [KeOps] This KeOps shared object has been compiled without cuda support: \n 1) to perform computations on CPU, simply set tagHostDevice to 0\n 2) to perform computations on GPU, please recompile the formula with a working version of cuda.",
      "\nDuring handling of the above exception, another exception occurred:\n",
      "\u001b[0;31mRuntimeError\u001b[0m                              Traceback (most recent call last)",
      "\u001b[0;32m<ipython-input-2-9c28a002d77a>\u001b[0m in \u001b[0;36m<module>\u001b[0;34m\u001b[0m\n\u001b[1;32m      1\u001b[0m \u001b[0;32mimport\u001b[0m \u001b[0mpykeops\u001b[0m\u001b[0;34m\u001b[0m\u001b[0;34m\u001b[0m\u001b[0m\n\u001b[1;32m      2\u001b[0m \u001b[0mpykeops\u001b[0m\u001b[0;34m.\u001b[0m\u001b[0mclean_pykeops\u001b[0m\u001b[0;34m(\u001b[0m\u001b[0;34m)\u001b[0m          \u001b[0;31m# just in case old build files are still present\u001b[0m\u001b[0;34m\u001b[0m\u001b[0;34m\u001b[0m\u001b[0m\n\u001b[0;32m----> 3\u001b[0;31m \u001b[0mpykeops\u001b[0m\u001b[0;34m.\u001b[0m\u001b[0mtest_torch_bindings\u001b[0m\u001b[0;34m(\u001b[0m\u001b[0;34m)\u001b[0m    \u001b[0;31m# perform the compilation\u001b[0m\u001b[0;34m\u001b[0m\u001b[0;34m\u001b[0m\u001b[0m\n\u001b[0m",
      "\u001b[0;32m~/.conda/envs/exatrkx-test/lib/python3.7/site-packages/pykeops/test/install.py\u001b[0m in \u001b[0;36mtest_torch_bindings\u001b[0;34m()\u001b[0m\n\u001b[1;32m     72\u001b[0m         \u001b[0mpykeops\u001b[0m\u001b[0;34m.\u001b[0m\u001b[0mconfig\u001b[0m\u001b[0;34m.\u001b[0m\u001b[0mbuild_type\u001b[0m \u001b[0;34m=\u001b[0m \u001b[0;34m\"Debug\"\u001b[0m\u001b[0;34m\u001b[0m\u001b[0;34m\u001b[0m\u001b[0m\n\u001b[1;32m     73\u001b[0m         \u001b[0mmy_conv\u001b[0m \u001b[0;34m=\u001b[0m \u001b[0mpktorch\u001b[0m\u001b[0;34m.\u001b[0m\u001b[0mGenred\u001b[0m\u001b[0;34m(\u001b[0m\u001b[0mformula\u001b[0m\u001b[0;34m,\u001b[0m \u001b[0mvar\u001b[0m\u001b[0;34m)\u001b[0m\u001b[0;34m\u001b[0m\u001b[0;34m\u001b[0m\u001b[0m\n\u001b[0;32m---> 74\u001b[0;31m         \u001b[0mprint\u001b[0m\u001b[0;34m(\u001b[0m\u001b[0mmy_conv\u001b[0m\u001b[0;34m(\u001b[0m\u001b[0mx\u001b[0m\u001b[0;34m,\u001b[0m \u001b[0my\u001b[0m\u001b[0;34m)\u001b[0m\u001b[0;34m)\u001b[0m\u001b[0;34m\u001b[0m\u001b[0;34m\u001b[0m\u001b[0m\n\u001b[0m",
      "\u001b[0;32m~/.conda/envs/exatrkx-test/lib/python3.7/site-packages/pykeops/torch/generic/generic_red.py\u001b[0m in \u001b[0;36m__call__\u001b[0;34m(self, backend, device_id, ranges, *args)\u001b[0m\n\u001b[1;32m    577\u001b[0m             \u001b[0mnx\u001b[0m\u001b[0;34m,\u001b[0m\u001b[0;34m\u001b[0m\u001b[0;34m\u001b[0m\u001b[0m\n\u001b[1;32m    578\u001b[0m             \u001b[0mny\u001b[0m\u001b[0;34m,\u001b[0m\u001b[0;34m\u001b[0m\u001b[0;34m\u001b[0m\u001b[0m\n\u001b[0;32m--> 579\u001b[0;31m             \u001b[0;34m*\u001b[0m\u001b[0margs\u001b[0m\u001b[0;34m\u001b[0m\u001b[0;34m\u001b[0m\u001b[0m\n\u001b[0m\u001b[1;32m    580\u001b[0m         )\n\u001b[1;32m    581\u001b[0m \u001b[0;34m\u001b[0m\u001b[0m\n",
      "\u001b[0;32m~/.conda/envs/exatrkx-test/lib/python3.7/site-packages/pykeops/torch/generic/generic_red.py\u001b[0m in \u001b[0;36mforward\u001b[0;34m(ctx, formula, aliases, backend, dtype, device_id, ranges, optional_flags, rec_multVar_highdim, nx, ny, *args)\u001b[0m\n\u001b[1;32m     78\u001b[0m \u001b[0;34m\u001b[0m\u001b[0m\n\u001b[1;32m     79\u001b[0m         result = myconv.genred_pytorch(\n\u001b[0;32m---> 80\u001b[0;31m             \u001b[0mtagCPUGPU\u001b[0m\u001b[0;34m,\u001b[0m \u001b[0mtag1D2D\u001b[0m\u001b[0;34m,\u001b[0m \u001b[0mtagHostDevice\u001b[0m\u001b[0;34m,\u001b[0m \u001b[0mdevice_id\u001b[0m\u001b[0;34m,\u001b[0m \u001b[0mranges\u001b[0m\u001b[0;34m,\u001b[0m \u001b[0mnx\u001b[0m\u001b[0;34m,\u001b[0m \u001b[0mny\u001b[0m\u001b[0;34m,\u001b[0m \u001b[0;34m*\u001b[0m\u001b[0margs\u001b[0m\u001b[0;34m\u001b[0m\u001b[0;34m\u001b[0m\u001b[0m\n\u001b[0m\u001b[1;32m     81\u001b[0m         )\n\u001b[1;32m     82\u001b[0m \u001b[0;34m\u001b[0m\u001b[0m\n",
      "\u001b[0;31mRuntimeError\u001b[0m: [KeOps] This KeOps shared object has been compiled without cuda support: \n 1) to perform computations on CPU, simply set tagHostDevice to 0\n 2) to perform computations on GPU, please recompile the formula with a working version of cuda."
     ]
    }
   ],
   "source": [
    "import pykeops\n",
    "pykeops.clean_pykeops()          # just in case old build files are still present\n",
    "pykeops.test_torch_bindings()    # perform the compilation"
   ]
  },
  {
   "cell_type": "code",
   "execution_count": 4,
   "metadata": {},
   "outputs": [],
   "source": [
    "import pykeops\n",
    "from pykeops.torch import LazyTensor"
   ]
  },
  {
   "cell_type": "code",
   "execution_count": 5,
   "metadata": {},
   "outputs": [],
   "source": [
    "use_cuda = torch.cuda.is_available()\n",
    "dtype = torch.cuda.FloatTensor if use_cuda else torch.FloatTensor"
   ]
  },
  {
   "cell_type": "code",
   "execution_count": 6,
   "metadata": {},
   "outputs": [],
   "source": [
    "d = 2                           # dimension\n",
    "nb = 10000                      # database size\n",
    "np.random.seed(0)             # make reproducible\n",
    "xb = torch.rand(nb, d).type(dtype)"
   ]
  },
  {
   "cell_type": "code",
   "execution_count": 7,
   "metadata": {},
   "outputs": [],
   "source": [
    "M = 1000 if use_cuda else 100\n",
    "tmp = torch.linspace(0, 1, M).type(dtype)\n",
    "g2, g1 = torch.meshgrid(tmp, tmp)\n",
    "g = torch.cat((g1.contiguous().view(-1, 1), g2.contiguous().view(-1, 1)), dim=1)"
   ]
  },
  {
   "cell_type": "code",
   "execution_count": 8,
   "metadata": {
    "scrolled": true
   },
   "outputs": [
    {
     "ename": "RuntimeError",
     "evalue": "[KeOps] This KeOps shared object has been compiled without cuda support: \n 1) to perform computations on CPU, simply set tagHostDevice to 0\n 2) to perform computations on GPU, please recompile the formula with a working version of cuda.",
     "output_type": "error",
     "traceback": [
      "\u001b[0;31m---------------------------------------------------------------------------\u001b[0m",
      "\u001b[0;31mRuntimeError\u001b[0m                              Traceback (most recent call last)",
      "\u001b[0;32m<ipython-input-8-a8b84713a631>\u001b[0m in \u001b[0;36m<module>\u001b[0;34m\u001b[0m\n\u001b[1;32m      2\u001b[0m \u001b[0mX_j\u001b[0m \u001b[0;34m=\u001b[0m \u001b[0mLazyTensor\u001b[0m\u001b[0;34m(\u001b[0m\u001b[0mxb\u001b[0m\u001b[0;34m[\u001b[0m\u001b[0;32mNone\u001b[0m\u001b[0;34m,\u001b[0m \u001b[0;34m:\u001b[0m\u001b[0;34m,\u001b[0m \u001b[0;34m:\u001b[0m\u001b[0;34m]\u001b[0m\u001b[0;34m)\u001b[0m  \u001b[0;31m# (1, N, 2)\u001b[0m\u001b[0;34m\u001b[0m\u001b[0;34m\u001b[0m\u001b[0m\n\u001b[1;32m      3\u001b[0m \u001b[0mD_ij\u001b[0m \u001b[0;34m=\u001b[0m \u001b[0;34m(\u001b[0m\u001b[0;34m(\u001b[0m\u001b[0mG_i\u001b[0m \u001b[0;34m-\u001b[0m \u001b[0mX_j\u001b[0m\u001b[0;34m)\u001b[0m \u001b[0;34m**\u001b[0m \u001b[0;36m2\u001b[0m\u001b[0;34m)\u001b[0m\u001b[0;34m.\u001b[0m\u001b[0msum\u001b[0m\u001b[0;34m(\u001b[0m\u001b[0;34m-\u001b[0m\u001b[0;36m1\u001b[0m\u001b[0;34m)\u001b[0m  \u001b[0;31m# (M**2, N) symbolic matrix of squared distances\u001b[0m\u001b[0;34m\u001b[0m\u001b[0;34m\u001b[0m\u001b[0m\n\u001b[0;32m----> 4\u001b[0;31m \u001b[0mindKNN\u001b[0m \u001b[0;34m=\u001b[0m \u001b[0mD_ij\u001b[0m\u001b[0;34m.\u001b[0m\u001b[0margKmin\u001b[0m\u001b[0;34m(\u001b[0m\u001b[0;36m1\u001b[0m\u001b[0;34m,\u001b[0m \u001b[0mdim\u001b[0m\u001b[0;34m=\u001b[0m\u001b[0;36m1\u001b[0m\u001b[0;34m)\u001b[0m  \u001b[0;31m# Grid <-> Samples, (M**2, K) integer tensor\u001b[0m\u001b[0;34m\u001b[0m\u001b[0;34m\u001b[0m\u001b[0m\n\u001b[0m",
      "\u001b[0;32m~/.conda/envs/exatrkx-test/lib/python3.7/site-packages/pykeops/common/lazy_tensor.py\u001b[0m in \u001b[0;36margKmin\u001b[0;34m(self, K, axis, dim, **kwargs)\u001b[0m\n\u001b[1;32m   2129\u001b[0m \u001b[0;34m\u001b[0m\u001b[0m\n\u001b[1;32m   2130\u001b[0m         \"\"\"\n\u001b[0;32m-> 2131\u001b[0;31m         \u001b[0;32mreturn\u001b[0m \u001b[0mself\u001b[0m\u001b[0;34m.\u001b[0m\u001b[0mreduction\u001b[0m\u001b[0;34m(\u001b[0m\u001b[0;34m\"ArgKMin\"\u001b[0m\u001b[0;34m,\u001b[0m \u001b[0mopt_arg\u001b[0m\u001b[0;34m=\u001b[0m\u001b[0mK\u001b[0m\u001b[0;34m,\u001b[0m \u001b[0maxis\u001b[0m\u001b[0;34m=\u001b[0m\u001b[0maxis\u001b[0m\u001b[0;34m,\u001b[0m \u001b[0mdim\u001b[0m\u001b[0;34m=\u001b[0m\u001b[0mdim\u001b[0m\u001b[0;34m,\u001b[0m \u001b[0;34m**\u001b[0m\u001b[0mkwargs\u001b[0m\u001b[0;34m)\u001b[0m\u001b[0;34m\u001b[0m\u001b[0;34m\u001b[0m\u001b[0m\n\u001b[0m\u001b[1;32m   2132\u001b[0m \u001b[0;34m\u001b[0m\u001b[0m\n\u001b[1;32m   2133\u001b[0m     \u001b[0;32mdef\u001b[0m \u001b[0margKmin_reduction\u001b[0m\u001b[0;34m(\u001b[0m\u001b[0mself\u001b[0m\u001b[0;34m,\u001b[0m \u001b[0;34m**\u001b[0m\u001b[0mkwargs\u001b[0m\u001b[0;34m)\u001b[0m\u001b[0;34m:\u001b[0m\u001b[0;34m\u001b[0m\u001b[0;34m\u001b[0m\u001b[0m\n",
      "\u001b[0;32m~/.conda/envs/exatrkx-test/lib/python3.7/site-packages/pykeops/common/lazy_tensor.py\u001b[0m in \u001b[0;36mreduction\u001b[0;34m(self, reduction_op, other, opt_arg, axis, dim, call, is_complex, **kwargs)\u001b[0m\n\u001b[1;32m    742\u001b[0m             )\n\u001b[1;32m    743\u001b[0m         \u001b[0;32mif\u001b[0m \u001b[0mcall\u001b[0m \u001b[0;32mand\u001b[0m \u001b[0mlen\u001b[0m\u001b[0;34m(\u001b[0m\u001b[0mres\u001b[0m\u001b[0;34m.\u001b[0m\u001b[0msymbolic_variables\u001b[0m\u001b[0;34m)\u001b[0m \u001b[0;34m==\u001b[0m \u001b[0;36m0\u001b[0m \u001b[0;32mand\u001b[0m \u001b[0mres\u001b[0m\u001b[0;34m.\u001b[0m\u001b[0m_dtype\u001b[0m \u001b[0;32mis\u001b[0m \u001b[0;32mnot\u001b[0m \u001b[0;32mNone\u001b[0m\u001b[0;34m:\u001b[0m\u001b[0;34m\u001b[0m\u001b[0;34m\u001b[0m\u001b[0m\n\u001b[0;32m--> 744\u001b[0;31m             \u001b[0;32mreturn\u001b[0m \u001b[0mres\u001b[0m\u001b[0;34m(\u001b[0m\u001b[0;34m)\u001b[0m\u001b[0;34m\u001b[0m\u001b[0;34m\u001b[0m\u001b[0m\n\u001b[0m\u001b[1;32m    745\u001b[0m         \u001b[0;32melse\u001b[0m\u001b[0;34m:\u001b[0m\u001b[0;34m\u001b[0m\u001b[0;34m\u001b[0m\u001b[0m\n\u001b[1;32m    746\u001b[0m             \u001b[0;32mreturn\u001b[0m \u001b[0mres\u001b[0m\u001b[0;34m\u001b[0m\u001b[0;34m\u001b[0m\u001b[0m\n",
      "\u001b[0;32m~/.conda/envs/exatrkx-test/lib/python3.7/site-packages/pykeops/common/lazy_tensor.py\u001b[0m in \u001b[0;36m__call__\u001b[0;34m(self, *args, **kwargs)\u001b[0m\n\u001b[1;32m    927\u001b[0m             \u001b[0margs\u001b[0m \u001b[0;34m=\u001b[0m \u001b[0;34m(\u001b[0m\u001b[0mself\u001b[0m\u001b[0;34m.\u001b[0m\u001b[0mother\u001b[0m\u001b[0;34m.\u001b[0m\u001b[0mvariables\u001b[0m\u001b[0;34m[\u001b[0m\u001b[0;36m0\u001b[0m\u001b[0;34m]\u001b[0m\u001b[0;34m,\u001b[0m\u001b[0;34m)\u001b[0m\u001b[0;34m\u001b[0m\u001b[0;34m\u001b[0m\u001b[0m\n\u001b[1;32m    928\u001b[0m \u001b[0;34m\u001b[0m\u001b[0m\n\u001b[0;32m--> 929\u001b[0;31m         \u001b[0;32mreturn\u001b[0m \u001b[0mself\u001b[0m\u001b[0;34m.\u001b[0m\u001b[0mcallfun\u001b[0m\u001b[0;34m(\u001b[0m\u001b[0;34m*\u001b[0m\u001b[0margs\u001b[0m\u001b[0;34m,\u001b[0m \u001b[0;34m*\u001b[0m\u001b[0mself\u001b[0m\u001b[0;34m.\u001b[0m\u001b[0mvariables\u001b[0m\u001b[0;34m,\u001b[0m \u001b[0;34m**\u001b[0m\u001b[0mself\u001b[0m\u001b[0;34m.\u001b[0m\u001b[0mkwargs\u001b[0m\u001b[0;34m)\u001b[0m\u001b[0;34m\u001b[0m\u001b[0;34m\u001b[0m\u001b[0m\n\u001b[0m\u001b[1;32m    930\u001b[0m \u001b[0;34m\u001b[0m\u001b[0m\n\u001b[1;32m    931\u001b[0m     \u001b[0;32mdef\u001b[0m \u001b[0m__str__\u001b[0m\u001b[0;34m(\u001b[0m\u001b[0mself\u001b[0m\u001b[0;34m)\u001b[0m\u001b[0;34m:\u001b[0m\u001b[0;34m\u001b[0m\u001b[0;34m\u001b[0m\u001b[0m\n",
      "\u001b[0;32m~/.conda/envs/exatrkx-test/lib/python3.7/site-packages/pykeops/torch/generic/generic_red.py\u001b[0m in \u001b[0;36m__call__\u001b[0;34m(self, backend, device_id, ranges, *args)\u001b[0m\n\u001b[1;32m    577\u001b[0m             \u001b[0mnx\u001b[0m\u001b[0;34m,\u001b[0m\u001b[0;34m\u001b[0m\u001b[0;34m\u001b[0m\u001b[0m\n\u001b[1;32m    578\u001b[0m             \u001b[0mny\u001b[0m\u001b[0;34m,\u001b[0m\u001b[0;34m\u001b[0m\u001b[0;34m\u001b[0m\u001b[0m\n\u001b[0;32m--> 579\u001b[0;31m             \u001b[0;34m*\u001b[0m\u001b[0margs\u001b[0m\u001b[0;34m\u001b[0m\u001b[0;34m\u001b[0m\u001b[0m\n\u001b[0m\u001b[1;32m    580\u001b[0m         )\n\u001b[1;32m    581\u001b[0m \u001b[0;34m\u001b[0m\u001b[0m\n",
      "\u001b[0;32m~/.conda/envs/exatrkx-test/lib/python3.7/site-packages/pykeops/torch/generic/generic_red.py\u001b[0m in \u001b[0;36mforward\u001b[0;34m(ctx, formula, aliases, backend, dtype, device_id, ranges, optional_flags, rec_multVar_highdim, nx, ny, *args)\u001b[0m\n\u001b[1;32m     78\u001b[0m \u001b[0;34m\u001b[0m\u001b[0m\n\u001b[1;32m     79\u001b[0m         result = myconv.genred_pytorch(\n\u001b[0;32m---> 80\u001b[0;31m             \u001b[0mtagCPUGPU\u001b[0m\u001b[0;34m,\u001b[0m \u001b[0mtag1D2D\u001b[0m\u001b[0;34m,\u001b[0m \u001b[0mtagHostDevice\u001b[0m\u001b[0;34m,\u001b[0m \u001b[0mdevice_id\u001b[0m\u001b[0;34m,\u001b[0m \u001b[0mranges\u001b[0m\u001b[0;34m,\u001b[0m \u001b[0mnx\u001b[0m\u001b[0;34m,\u001b[0m \u001b[0mny\u001b[0m\u001b[0;34m,\u001b[0m \u001b[0;34m*\u001b[0m\u001b[0margs\u001b[0m\u001b[0;34m\u001b[0m\u001b[0;34m\u001b[0m\u001b[0m\n\u001b[0m\u001b[1;32m     81\u001b[0m         )\n\u001b[1;32m     82\u001b[0m \u001b[0;34m\u001b[0m\u001b[0m\n",
      "\u001b[0;31mRuntimeError\u001b[0m: [KeOps] This KeOps shared object has been compiled without cuda support: \n 1) to perform computations on CPU, simply set tagHostDevice to 0\n 2) to perform computations on GPU, please recompile the formula with a working version of cuda."
     ]
    }
   ],
   "source": [
    "G_i = LazyTensor(g[:, None, :])  # (M**2, 1, 2)\n",
    "X_j = LazyTensor(xb[None, :, :])  # (1, N, 2)\n",
    "D_ij = ((G_i - X_j) ** 2).sum(-1)  # (M**2, N) symbolic matrix of squared distances\n",
    "indKNN = D_ij.argKmin(1, dim=1)  # Grid <-> Samples, (M**2, K) integer tensor"
   ]
  },
  {
   "cell_type": "code",
   "execution_count": null,
   "metadata": {},
   "outputs": [],
   "source": [
    "indKNN"
   ]
  },
  {
   "cell_type": "code",
   "execution_count": 86,
   "metadata": {},
   "outputs": [],
   "source": [
    "d = 2                           # dimension\n",
    "nb = 100000                      # database size\n",
    "np.random.seed(0)             # make reproducible\n",
    "xb = torch.rand(nb, d).to(0)"
   ]
  },
  {
   "cell_type": "code",
   "execution_count": 87,
   "metadata": {},
   "outputs": [],
   "source": [
    "num_nb = 100\n",
    "K = int(nb / num_nb)"
   ]
  },
  {
   "cell_type": "code",
   "execution_count": 88,
   "metadata": {},
   "outputs": [],
   "source": [
    "cl = torch.randint(0, K, (nb,)).to(0)\n",
    "c = torch.rand(K, d).to(0)"
   ]
  },
  {
   "cell_type": "code",
   "execution_count": 89,
   "metadata": {},
   "outputs": [
    {
     "data": {
      "text/plain": [
       "tensor([[0.4288, 0.3445],\n",
       "        [0.1214, 0.5917],\n",
       "        [0.7262, 0.2054],\n",
       "        ...,\n",
       "        [0.7788, 0.3213],\n",
       "        [0.5778, 0.9420],\n",
       "        [0.2007, 0.7922]], device='cuda:0')"
      ]
     },
     "execution_count": 89,
     "metadata": {},
     "output_type": "execute_result"
    }
   ],
   "source": [
    "xb"
   ]
  },
  {
   "cell_type": "code",
   "execution_count": 34,
   "metadata": {},
   "outputs": [],
   "source": [
    "test = torch.tensor([0, 3, 1, 1, 0, 3])"
   ]
  },
  {
   "cell_type": "code",
   "execution_count": 92,
   "metadata": {},
   "outputs": [
    {
     "name": "stdout",
     "output_type": "stream",
     "text": [
      "CPU times: user 302 µs, sys: 310 µs, total: 612 µs\n",
      "Wall time: 381 µs\n"
     ]
    }
   ],
   "source": [
    "%%time\n",
    "cl_indices = torch.argsort(cl)"
   ]
  },
  {
   "cell_type": "code",
   "execution_count": 51,
   "metadata": {},
   "outputs": [
    {
     "data": {
      "text/plain": [
       "tensor([26740, 82431, 42013,  ..., 18735, 68340, 35830])"
      ]
     },
     "execution_count": 51,
     "metadata": {},
     "output_type": "execute_result"
    }
   ],
   "source": [
    "cl_indices"
   ]
  },
  {
   "cell_type": "code",
   "execution_count": 93,
   "metadata": {},
   "outputs": [
    {
     "name": "stdout",
     "output_type": "stream",
     "text": [
      "CPU times: user 71 µs, sys: 74 µs, total: 145 µs\n",
      "Wall time: 150 µs\n"
     ]
    }
   ],
   "source": [
    "%%time\n",
    "cl_sorted = cl[cl_indices]"
   ]
  },
  {
   "cell_type": "code",
   "execution_count": 95,
   "metadata": {},
   "outputs": [
    {
     "name": "stdout",
     "output_type": "stream",
     "text": [
      "CPU times: user 621 µs, sys: 646 µs, total: 1.27 ms\n",
      "Wall time: 939 µs\n"
     ]
    }
   ],
   "source": [
    "%%time\n",
    "_, counts = torch.unique(cl_sorted, return_counts=True, sorted=True)"
   ]
  },
  {
   "cell_type": "code",
   "execution_count": 98,
   "metadata": {},
   "outputs": [
    {
     "name": "stdout",
     "output_type": "stream",
     "text": [
      "CPU times: user 15.5 ms, sys: 0 ns, total: 15.5 ms\n",
      "Wall time: 14.9 ms\n"
     ]
    }
   ],
   "source": [
    "%%time\n",
    "cl_indices_split =  cl_indices.split(tuple(counts))"
   ]
  },
  {
   "cell_type": "code",
   "execution_count": 107,
   "metadata": {},
   "outputs": [
    {
     "name": "stdout",
     "output_type": "stream",
     "text": [
      "CPU times: user 291 ms, sys: 10 ms, total: 301 ms\n",
      "Wall time: 510 ms\n"
     ]
    }
   ],
   "source": [
    "%%time\n",
    "buckets = []\n",
    "for bucket in cl_indices_split:\n",
    "    buckets.append(torch.combinations(bucket))"
   ]
  },
  {
   "cell_type": "code",
   "execution_count": 108,
   "metadata": {},
   "outputs": [
    {
     "name": "stdout",
     "output_type": "stream",
     "text": [
      "CPU times: user 304 ms, sys: 19.6 ms, total: 324 ms\n",
      "Wall time: 460 ms\n"
     ]
    }
   ],
   "source": [
    "%%time\n",
    "buckets = torch.combinations(cl_indices_split[0])\n",
    "for bucket in cl_indices_split[1:]:\n",
    "    torch.cat([buckets, torch.combinations(bucket)])"
   ]
  },
  {
   "cell_type": "code",
   "execution_count": 103,
   "metadata": {},
   "outputs": [
    {
     "name": "stdout",
     "output_type": "stream",
     "text": [
      "CPU times: user 0 ns, sys: 6.27 ms, total: 6.27 ms\n",
      "Wall time: 5.75 ms\n"
     ]
    }
   ],
   "source": [
    "%%time\n",
    "buckets_cat = torch.cat(buckets).t()"
   ]
  },
  {
   "cell_type": "code",
   "execution_count": 104,
   "metadata": {},
   "outputs": [
    {
     "name": "stdout",
     "output_type": "stream",
     "text": [
      "CPU times: user 1.04 ms, sys: 1.08 ms, total: 2.12 ms\n",
      "Wall time: 1.76 ms\n"
     ]
    }
   ],
   "source": [
    "%%time\n",
    "dist = torch.sum((xb[buckets_cat[0]] - xb[buckets_cat[1]])**2, axis=-1)"
   ]
  },
  {
   "cell_type": "code",
   "execution_count": 83,
   "metadata": {},
   "outputs": [
    {
     "name": "stdout",
     "output_type": "stream",
     "text": [
      "CPU times: user 3.64 ms, sys: 0 ns, total: 3.64 ms\n",
      "Wall time: 2.32 ms\n"
     ]
    }
   ],
   "source": [
    "%%time\n",
    "r = 0.3\n",
    "r_mask = dist < r**2"
   ]
  },
  {
   "cell_type": "code",
   "execution_count": 85,
   "metadata": {},
   "outputs": [
    {
     "name": "stdout",
     "output_type": "stream",
     "text": [
      "CPU times: user 46.6 ms, sys: 0 ns, total: 46.6 ms\n",
      "Wall time: 32 ms\n"
     ]
    }
   ],
   "source": [
    "%%time\n",
    "edges = buckets_cat[:, r_mask]"
   ]
  },
  {
   "cell_type": "code",
   "execution_count": 18,
   "metadata": {},
   "outputs": [],
   "source": [
    "idx = torch.arange(1000, device=0)"
   ]
  },
  {
   "cell_type": "code",
   "execution_count": 27,
   "metadata": {},
   "outputs": [
    {
     "name": "stdout",
     "output_type": "stream",
     "text": [
      "CPU times: user 22.9 ms, sys: 6.89 ms, total: 29.8 ms\n",
      "Wall time: 29.2 ms\n"
     ]
    }
   ],
   "source": [
    "%%time\n",
    "for _ in range(100):\n",
    "    idx_combos = torch.combinations(idx)"
   ]
  },
  {
   "cell_type": "code",
   "execution_count": 12,
   "metadata": {},
   "outputs": [
    {
     "data": {
      "text/plain": [
       "tensor([89, 26,  1,  ..., 83, 42, 61])"
      ]
     },
     "execution_count": 12,
     "metadata": {},
     "output_type": "execute_result"
    }
   ],
   "source": [
    "cl"
   ]
  },
  {
   "cell_type": "markdown",
   "metadata": {
    "heading_collapsed": true
   },
   "source": [
    "## All Combos"
   ]
  },
  {
   "cell_type": "code",
   "execution_count": 34,
   "metadata": {
    "hidden": true
   },
   "outputs": [],
   "source": [
    "d = 8                           # dimension\n",
    "nb = 10000                      # database size\n",
    "np.random.seed(0)             # make reproducible\n",
    "xb = torch.from_numpy(np.random.random((nb, d)).astype('float32')).to(0)"
   ]
  },
  {
   "cell_type": "code",
   "execution_count": 35,
   "metadata": {
    "hidden": true
   },
   "outputs": [
    {
     "name": "stdout",
     "output_type": "stream",
     "text": [
      "CPU times: user 57 µs, sys: 64 µs, total: 121 µs\n",
      "Wall time: 127 µs\n"
     ]
    }
   ],
   "source": [
    "%%time\n",
    "idx = torch.arange(len(xb), device=0)"
   ]
  },
  {
   "cell_type": "code",
   "execution_count": 36,
   "metadata": {
    "hidden": true
   },
   "outputs": [
    {
     "name": "stdout",
     "output_type": "stream",
     "text": [
      "CPU times: user 11.6 ms, sys: 0 ns, total: 11.6 ms\n",
      "Wall time: 11 ms\n"
     ]
    }
   ],
   "source": [
    "%%time\n",
    "idx_combos = torch.combinations(idx).t()"
   ]
  },
  {
   "cell_type": "code",
   "execution_count": 37,
   "metadata": {
    "hidden": true
   },
   "outputs": [
    {
     "name": "stdout",
     "output_type": "stream",
     "text": [
      "|===========================================================================|\n",
      "|                  PyTorch CUDA memory summary, device ID 0                 |\n",
      "|---------------------------------------------------------------------------|\n",
      "|            CUDA OOMs: 2            |        cudaMalloc retries: 2         |\n",
      "|===========================================================================|\n",
      "|        Metric         | Cur Usage  | Peak Usage | Tot Alloc  | Tot Freed  |\n",
      "|---------------------------------------------------------------------------|\n",
      "| Allocated memory      |  781563 KB |    9541 MB |   57369 MB |   56606 MB |\n",
      "|       from large pool |  781172 KB |    9539 MB |   57363 MB |   56600 MB |\n",
      "|       from small pool |     391 KB |       1 MB |       6 MB |       5 MB |\n",
      "|---------------------------------------------------------------------------|\n",
      "| Active memory         |  781563 KB |    9541 MB |   57369 MB |   56606 MB |\n",
      "|       from large pool |  781172 KB |    9539 MB |   57363 MB |   56600 MB |\n",
      "|       from small pool |     391 KB |       1 MB |       6 MB |       5 MB |\n",
      "|---------------------------------------------------------------------------|\n",
      "| GPU reserved memory   |    9540 MB |   11086 MB |   11086 MB |    1546 MB |\n",
      "|       from large pool |    9538 MB |   11084 MB |   11084 MB |    1546 MB |\n",
      "|       from small pool |       2 MB |       2 MB |       2 MB |       0 MB |\n",
      "|---------------------------------------------------------------------------|\n",
      "| Non-releasable memory |    8776 MB |    9444 MB |   55028 MB |   46252 MB |\n",
      "|       from large pool |    8775 MB |    9442 MB |   55021 MB |   46246 MB |\n",
      "|       from small pool |       1 MB |       1 MB |       7 MB |       5 MB |\n",
      "|---------------------------------------------------------------------------|\n",
      "| Allocations           |       3    |       9    |     134    |     131    |\n",
      "|       from large pool |       1    |       5    |      76    |      75    |\n",
      "|       from small pool |       2    |       4    |      58    |      56    |\n",
      "|---------------------------------------------------------------------------|\n",
      "| Active allocs         |       3    |       9    |     134    |     131    |\n",
      "|       from large pool |       1    |       5    |      76    |      75    |\n",
      "|       from small pool |       2    |       4    |      58    |      56    |\n",
      "|---------------------------------------------------------------------------|\n",
      "| GPU reserved segments |       2    |       4    |       4    |       2    |\n",
      "|       from large pool |       1    |       3    |       3    |       2    |\n",
      "|       from small pool |       1    |       1    |       1    |       0    |\n",
      "|---------------------------------------------------------------------------|\n",
      "| Non-releasable allocs |       4    |       6    |      47    |      43    |\n",
      "|       from large pool |       2    |       4    |      42    |      40    |\n",
      "|       from small pool |       2    |       2    |       5    |       3    |\n",
      "|===========================================================================|\n",
      "\n"
     ]
    }
   ],
   "source": [
    "print(torch.cuda.memory_summary())"
   ]
  },
  {
   "cell_type": "code",
   "execution_count": 114,
   "metadata": {
    "hidden": true
   },
   "outputs": [
    {
     "name": "stdout",
     "output_type": "stream",
     "text": [
      "CPU times: user 0 ns, sys: 7.39 ms, total: 7.39 ms\n",
      "Wall time: 6.73 ms\n"
     ]
    }
   ],
   "source": [
    "%%time\n",
    "dist = torch.sum((xb[idx_combos[0]] - xb[idx_combos[1]])**2, axis=-1)"
   ]
  },
  {
   "cell_type": "code",
   "execution_count": 115,
   "metadata": {
    "hidden": true
   },
   "outputs": [],
   "source": [
    "r = 0.4\n",
    "r_mask = dist < r**2"
   ]
  },
  {
   "cell_type": "code",
   "execution_count": 116,
   "metadata": {
    "hidden": true
   },
   "outputs": [
    {
     "data": {
      "text/plain": [
       "torch.Size([2, 53782])"
      ]
     },
     "execution_count": 116,
     "metadata": {},
     "output_type": "execute_result"
    }
   ],
   "source": [
    "idx_combos[:, r_mask].shape"
   ]
  },
  {
   "cell_type": "markdown",
   "metadata": {
    "heading_collapsed": true
   },
   "source": [
    "## NearPy"
   ]
  },
  {
   "cell_type": "code",
   "execution_count": 4,
   "metadata": {
    "hidden": true
   },
   "outputs": [],
   "source": [
    "from nearpy import Engine\n",
    "from nearpy.hashes import RandomBinaryProjections\n",
    "from nearpy.distances import EuclideanDistance"
   ]
  },
  {
   "cell_type": "code",
   "execution_count": 5,
   "metadata": {
    "hidden": true
   },
   "outputs": [],
   "source": [
    "distance=EuclideanDistance()"
   ]
  },
  {
   "cell_type": "code",
   "execution_count": 6,
   "metadata": {
    "hidden": true
   },
   "outputs": [],
   "source": [
    "d = 8                           # dimension\n",
    "nb = 100000                      # database size\n",
    "np.random.seed(0)             # make reproducible\n",
    "xb = np.random.random((nb, d)).astype('float32')"
   ]
  },
  {
   "cell_type": "code",
   "execution_count": 7,
   "metadata": {
    "hidden": true
   },
   "outputs": [
    {
     "name": "stdout",
     "output_type": "stream",
     "text": [
      "CPU times: user 206 µs, sys: 139 µs, total: 345 µs\n",
      "Wall time: 324 µs\n"
     ]
    }
   ],
   "source": [
    "%%time\n",
    "rbp = RandomBinaryProjections('rbp', 20)"
   ]
  },
  {
   "cell_type": "code",
   "execution_count": 8,
   "metadata": {
    "hidden": true
   },
   "outputs": [
    {
     "name": "stdout",
     "output_type": "stream",
     "text": [
      "CPU times: user 53 µs, sys: 37 µs, total: 90 µs\n",
      "Wall time: 94.2 µs\n"
     ]
    }
   ],
   "source": [
    "%%time\n",
    "engine = Engine(d, lshashes=[rbp])"
   ]
  },
  {
   "cell_type": "code",
   "execution_count": 9,
   "metadata": {
    "hidden": true
   },
   "outputs": [
    {
     "name": "stdout",
     "output_type": "stream",
     "text": [
      "CPU times: user 1.83 s, sys: 27.1 ms, total: 1.85 s\n",
      "Wall time: 1.85 s\n"
     ]
    }
   ],
   "source": [
    "%%time\n",
    "for idx, vec in enumerate(xb):\n",
    "    engine.store_vector(vec, idx)"
   ]
  },
  {
   "cell_type": "code",
   "execution_count": 16,
   "metadata": {
    "hidden": true
   },
   "outputs": [
    {
     "name": "stdout",
     "output_type": "stream",
     "text": [
      "CPU times: user 9.46 s, sys: 352 ms, total: 9.81 s\n",
      "Wall time: 9.82 s\n"
     ]
    }
   ],
   "source": [
    "%%time\n",
    "ann_vecs = []\n",
    "source_vecs = []\n",
    "\n",
    "for vec in xb[:100000]:\n",
    "    ann_vecs.append(engine._get_candidates(vec))\n",
    "    source_vecs.append(torch.tensor(idx).repeat(len(ann_vecs[-1])))"
   ]
  },
  {
   "cell_type": "code",
   "execution_count": 13,
   "metadata": {
    "hidden": true
   },
   "outputs": [
    {
     "name": "stdout",
     "output_type": "stream",
     "text": [
      "CPU times: user 13 s, sys: 97.3 ms, total: 13.1 s\n",
      "Wall time: 13.1 s\n"
     ]
    }
   ],
   "source": [
    "%%time\n",
    "ann_vecs = []\n",
    "source_vecs = []\n",
    "\n",
    "for idx, vec in enumerate(xb[:30000]):\n",
    "    ann_vecs.append(torch.from_numpy(np.array(engine._get_candidates(vec))[:, 1].astype(int)))\n",
    "    source_vecs.append(torch.tensor(idx).repeat(len(ann_vecs[-1])))"
   ]
  },
  {
   "cell_type": "code",
   "execution_count": null,
   "metadata": {
    "hidden": true,
    "scrolled": true
   },
   "outputs": [],
   "source": [
    "%%time\n",
    "source_vecs = torch.cat(source_vecs).to(0)"
   ]
  },
  {
   "cell_type": "code",
   "execution_count": null,
   "metadata": {
    "hidden": true
   },
   "outputs": [],
   "source": [
    "%%time\n",
    "ann_vecs = torch.cat(ann_vecs).to(0)"
   ]
  },
  {
   "cell_type": "code",
   "execution_count": null,
   "metadata": {
    "hidden": true
   },
   "outputs": [],
   "source": [
    "xb = torch.from_numpy(xb).to(0)"
   ]
  },
  {
   "cell_type": "code",
   "execution_count": null,
   "metadata": {
    "hidden": true
   },
   "outputs": [],
   "source": [
    "%%time\n",
    "source_x = xb[source_vecs]\n",
    "target_x = xb[ann_vecs]"
   ]
  },
  {
   "cell_type": "code",
   "execution_count": null,
   "metadata": {
    "hidden": true
   },
   "outputs": [],
   "source": [
    "%%time\n",
    "dist = torch.sum((source_x - target_x)**2, dim=-1)"
   ]
  },
  {
   "cell_type": "code",
   "execution_count": null,
   "metadata": {
    "hidden": true
   },
   "outputs": [],
   "source": [
    "dist"
   ]
  },
  {
   "cell_type": "code",
   "execution_count": null,
   "metadata": {
    "hidden": true
   },
   "outputs": [],
   "source": [
    "%%time\n",
    "r = 0.4\n",
    "r_mask = dist < r**2"
   ]
  },
  {
   "cell_type": "code",
   "execution_count": null,
   "metadata": {
    "hidden": true
   },
   "outputs": [],
   "source": [
    "r_mask.sum()"
   ]
  },
  {
   "cell_type": "code",
   "execution_count": null,
   "metadata": {
    "hidden": true
   },
   "outputs": [],
   "source": [
    "%%time\n",
    "edges = torch.stack([source_vecs[r_mask], ann_vecs[r_mask]])"
   ]
  },
  {
   "cell_type": "code",
   "execution_count": 135,
   "metadata": {
    "hidden": true
   },
   "outputs": [
    {
     "name": "stdout",
     "output_type": "stream",
     "text": [
      "CPU times: user 5.98 s, sys: 74.9 ms, total: 6.06 s\n",
      "Wall time: 5.95 s\n"
     ]
    }
   ],
   "source": [
    "%%time\n",
    "ann_vecs = []\n",
    "for vec in xb[:1000]:\n",
    "    ann_vecs.append(engine.neighbours(vec))"
   ]
  },
  {
   "cell_type": "markdown",
   "metadata": {
    "heading_collapsed": true
   },
   "source": [
    "## ScaNN"
   ]
  },
  {
   "cell_type": "code",
   "execution_count": 17,
   "metadata": {
    "hidden": true
   },
   "outputs": [
    {
     "name": "stderr",
     "output_type": "stream",
     "text": [
      "[autoreload of tensorboard.compat.proto.event_pb2 failed: Traceback (most recent call last):\n",
      "  File \"/global/homes/d/danieltm/.local/lib/python3.7/site-packages/IPython/extensions/autoreload.py\", line 245, in check\n",
      "    superreload(m, reload, self.old_objects)\n",
      "  File \"/global/homes/d/danieltm/.local/lib/python3.7/site-packages/IPython/extensions/autoreload.py\", line 394, in superreload\n",
      "    module = reload(module)\n",
      "  File \"/global/homes/d/danieltm/.conda/envs/exatrkx-test/lib/python3.7/imp.py\", line 314, in reload\n",
      "    return importlib.reload(module)\n",
      "  File \"/global/homes/d/danieltm/.conda/envs/exatrkx-test/lib/python3.7/importlib/__init__.py\", line 169, in reload\n",
      "    _bootstrap._exec(spec, module)\n",
      "  File \"<frozen importlib._bootstrap>\", line 630, in _exec\n",
      "  File \"<frozen importlib._bootstrap_external>\", line 728, in exec_module\n",
      "  File \"<frozen importlib._bootstrap>\", line 219, in _call_with_frames_removed\n",
      "  File \"/global/homes/d/danieltm/.conda/envs/exatrkx-test/lib/python3.7/site-packages/tensorboard/compat/proto/event_pb2.py\", line 27, in <module>\n",
      "    dependencies=[tensorboard_dot_compat_dot_proto_dot_summary__pb2.DESCRIPTOR,])\n",
      "  File \"/global/homes/d/danieltm/.conda/envs/exatrkx-test/lib/python3.7/site-packages/google/protobuf/descriptor.py\", line 941, in __new__\n",
      "    return _message.default_pool.AddSerializedFile(serialized_pb)\n",
      "TypeError: Couldn't build proto file into descriptor pool!\n",
      "Invalid proto descriptor for file \"tensorboard/compat/proto/event.proto\":\n",
      "  tensorboard/compat/proto/event.proto: A file with this name is already in the pool.\n",
      "\n",
      "]\n",
      "[autoreload of tensorboard.compat.proto.resource_handle_pb2 failed: Traceback (most recent call last):\n",
      "  File \"/global/homes/d/danieltm/.local/lib/python3.7/site-packages/IPython/extensions/autoreload.py\", line 245, in check\n",
      "    superreload(m, reload, self.old_objects)\n",
      "  File \"/global/homes/d/danieltm/.local/lib/python3.7/site-packages/IPython/extensions/autoreload.py\", line 394, in superreload\n",
      "    module = reload(module)\n",
      "  File \"/global/homes/d/danieltm/.conda/envs/exatrkx-test/lib/python3.7/imp.py\", line 314, in reload\n",
      "    return importlib.reload(module)\n",
      "  File \"/global/homes/d/danieltm/.conda/envs/exatrkx-test/lib/python3.7/importlib/__init__.py\", line 169, in reload\n",
      "    _bootstrap._exec(spec, module)\n",
      "  File \"<frozen importlib._bootstrap>\", line 630, in _exec\n",
      "  File \"<frozen importlib._bootstrap_external>\", line 728, in exec_module\n",
      "  File \"<frozen importlib._bootstrap>\", line 219, in _call_with_frames_removed\n",
      "  File \"/global/homes/d/danieltm/.conda/envs/exatrkx-test/lib/python3.7/site-packages/tensorboard/compat/proto/resource_handle_pb2.py\", line 27, in <module>\n",
      "    dependencies=[tensorboard_dot_compat_dot_proto_dot_tensor__shape__pb2.DESCRIPTOR,tensorboard_dot_compat_dot_proto_dot_types__pb2.DESCRIPTOR,])\n",
      "  File \"/global/homes/d/danieltm/.conda/envs/exatrkx-test/lib/python3.7/site-packages/google/protobuf/descriptor.py\", line 941, in __new__\n",
      "    return _message.default_pool.AddSerializedFile(serialized_pb)\n",
      "TypeError: Couldn't build proto file into descriptor pool!\n",
      "Invalid proto descriptor for file \"tensorboard/compat/proto/resource_handle.proto\":\n",
      "  tensorboard/compat/proto/resource_handle.proto: A file with this name is already in the pool.\n",
      "\n",
      "]\n",
      "[autoreload of tensorboard.compat.proto.types_pb2 failed: Traceback (most recent call last):\n",
      "  File \"/global/homes/d/danieltm/.local/lib/python3.7/site-packages/IPython/extensions/autoreload.py\", line 245, in check\n",
      "    superreload(m, reload, self.old_objects)\n",
      "  File \"/global/homes/d/danieltm/.local/lib/python3.7/site-packages/IPython/extensions/autoreload.py\", line 394, in superreload\n",
      "    module = reload(module)\n",
      "  File \"/global/homes/d/danieltm/.conda/envs/exatrkx-test/lib/python3.7/imp.py\", line 314, in reload\n",
      "    return importlib.reload(module)\n",
      "  File \"/global/homes/d/danieltm/.conda/envs/exatrkx-test/lib/python3.7/importlib/__init__.py\", line 169, in reload\n",
      "    _bootstrap._exec(spec, module)\n",
      "  File \"<frozen importlib._bootstrap>\", line 630, in _exec\n",
      "  File \"<frozen importlib._bootstrap_external>\", line 728, in exec_module\n",
      "  File \"<frozen importlib._bootstrap>\", line 219, in _call_with_frames_removed\n",
      "  File \"/global/homes/d/danieltm/.conda/envs/exatrkx-test/lib/python3.7/site-packages/tensorboard/compat/proto/types_pb2.py\", line 24, in <module>\n",
      "    serialized_pb=_b('\\n$tensorboard/compat/proto/types.proto\\x12\\x0btensorboard*\\xaa\\x06\\n\\x08\\x44\\x61taType\\x12\\x0e\\n\\nDT_INVALID\\x10\\x00\\x12\\x0c\\n\\x08\\x44T_FLOAT\\x10\\x01\\x12\\r\\n\\tDT_DOUBLE\\x10\\x02\\x12\\x0c\\n\\x08\\x44T_INT32\\x10\\x03\\x12\\x0c\\n\\x08\\x44T_UINT8\\x10\\x04\\x12\\x0c\\n\\x08\\x44T_INT16\\x10\\x05\\x12\\x0b\\n\\x07\\x44T_INT8\\x10\\x06\\x12\\r\\n\\tDT_STRING\\x10\\x07\\x12\\x10\\n\\x0c\\x44T_COMPLEX64\\x10\\x08\\x12\\x0c\\n\\x08\\x44T_INT64\\x10\\t\\x12\\x0b\\n\\x07\\x44T_BOOL\\x10\\n\\x12\\x0c\\n\\x08\\x44T_QINT8\\x10\\x0b\\x12\\r\\n\\tDT_QUINT8\\x10\\x0c\\x12\\r\\n\\tDT_QINT32\\x10\\r\\x12\\x0f\\n\\x0b\\x44T_BFLOAT16\\x10\\x0e\\x12\\r\\n\\tDT_QINT16\\x10\\x0f\\x12\\x0e\\n\\nDT_QUINT16\\x10\\x10\\x12\\r\\n\\tDT_UINT16\\x10\\x11\\x12\\x11\\n\\rDT_COMPLEX128\\x10\\x12\\x12\\x0b\\n\\x07\\x44T_HALF\\x10\\x13\\x12\\x0f\\n\\x0b\\x44T_RESOURCE\\x10\\x14\\x12\\x0e\\n\\nDT_VARIANT\\x10\\x15\\x12\\r\\n\\tDT_UINT32\\x10\\x16\\x12\\r\\n\\tDT_UINT64\\x10\\x17\\x12\\x10\\n\\x0c\\x44T_FLOAT_REF\\x10\\x65\\x12\\x11\\n\\rDT_DOUBLE_REF\\x10\\x66\\x12\\x10\\n\\x0c\\x44T_INT32_REF\\x10g\\x12\\x10\\n\\x0c\\x44T_UINT8_REF\\x10h\\x12\\x10\\n\\x0c\\x44T_INT16_REF\\x10i\\x12\\x0f\\n\\x0b\\x44T_INT8_REF\\x10j\\x12\\x11\\n\\rDT_STRING_REF\\x10k\\x12\\x14\\n\\x10\\x44T_COMPLEX64_REF\\x10l\\x12\\x10\\n\\x0c\\x44T_INT64_REF\\x10m\\x12\\x0f\\n\\x0b\\x44T_BOOL_REF\\x10n\\x12\\x10\\n\\x0c\\x44T_QINT8_REF\\x10o\\x12\\x11\\n\\rDT_QUINT8_REF\\x10p\\x12\\x11\\n\\rDT_QINT32_REF\\x10q\\x12\\x13\\n\\x0f\\x44T_BFLOAT16_REF\\x10r\\x12\\x11\\n\\rDT_QINT16_REF\\x10s\\x12\\x12\\n\\x0e\\x44T_QUINT16_REF\\x10t\\x12\\x11\\n\\rDT_UINT16_REF\\x10u\\x12\\x15\\n\\x11\\x44T_COMPLEX128_REF\\x10v\\x12\\x0f\\n\\x0b\\x44T_HALF_REF\\x10w\\x12\\x13\\n\\x0f\\x44T_RESOURCE_REF\\x10x\\x12\\x12\\n\\x0e\\x44T_VARIANT_REF\\x10y\\x12\\x11\\n\\rDT_UINT32_REF\\x10z\\x12\\x11\\n\\rDT_UINT64_REF\\x10{*5\\n\\x0fSpecializedType\\x12\\x0e\\n\\nST_INVALID\\x10\\x00\\x12\\x12\\n\\x0eST_TENSOR_LIST\\x10\\x01\\x42z\\n\\x18org.tensorflow.frameworkB\\x0bTypesProtosP\\x01ZLgithub.com/tensorflow/tensorflow/tensorflow/go/core/framework/types_go_proto\\xf8\\x01\\x01\\x62\\x06proto3')\n",
      "  File \"/global/homes/d/danieltm/.conda/envs/exatrkx-test/lib/python3.7/site-packages/google/protobuf/descriptor.py\", line 941, in __new__\n",
      "    return _message.default_pool.AddSerializedFile(serialized_pb)\n",
      "TypeError: Couldn't build proto file into descriptor pool!\n",
      "Invalid proto descriptor for file \"tensorboard/compat/proto/types.proto\":\n",
      "  tensorboard/compat/proto/types.proto: A file with this name is already in the pool.\n",
      "\n",
      "]\n",
      "[autoreload of tensorboard.compat.proto.config_pb2 failed: Traceback (most recent call last):\n",
      "  File \"/global/homes/d/danieltm/.local/lib/python3.7/site-packages/IPython/extensions/autoreload.py\", line 245, in check\n",
      "    superreload(m, reload, self.old_objects)\n",
      "  File \"/global/homes/d/danieltm/.local/lib/python3.7/site-packages/IPython/extensions/autoreload.py\", line 394, in superreload\n",
      "    module = reload(module)\n",
      "  File \"/global/homes/d/danieltm/.conda/envs/exatrkx-test/lib/python3.7/imp.py\", line 314, in reload\n",
      "    return importlib.reload(module)\n",
      "  File \"/global/homes/d/danieltm/.conda/envs/exatrkx-test/lib/python3.7/importlib/__init__.py\", line 169, in reload\n",
      "    _bootstrap._exec(spec, module)\n",
      "  File \"<frozen importlib._bootstrap>\", line 630, in _exec\n",
      "  File \"<frozen importlib._bootstrap_external>\", line 728, in exec_module\n",
      "  File \"<frozen importlib._bootstrap>\", line 219, in _call_with_frames_removed\n",
      "  File \"/global/homes/d/danieltm/.conda/envs/exatrkx-test/lib/python3.7/site-packages/tensorboard/compat/proto/config_pb2.py\", line 31, in <module>\n",
      "    dependencies=[tensorboard_dot_compat_dot_proto_dot_cost__graph__pb2.DESCRIPTOR,tensorboard_dot_compat_dot_proto_dot_graph__pb2.DESCRIPTOR,tensorboard_dot_compat_dot_proto_dot_step__stats__pb2.DESCRIPTOR,tensorboard_dot_compat_dot_proto_dot_cluster__pb2.DESCRIPTOR,tensorboard_dot_compat_dot_proto_dot_debug__pb2.DESCRIPTOR,tensorboard_dot_compat_dot_proto_dot_rewriter__config__pb2.DESCRIPTOR,])\n",
      "  File \"/global/homes/d/danieltm/.conda/envs/exatrkx-test/lib/python3.7/site-packages/google/protobuf/descriptor.py\", line 941, in __new__\n",
      "    return _message.default_pool.AddSerializedFile(serialized_pb)\n",
      "TypeError: Couldn't build proto file into descriptor pool!\n",
      "Invalid proto descriptor for file \"tensorboard/compat/proto/config.proto\":\n",
      "  tensorboard/compat/proto/config.proto: A file with this name is already in the pool.\n",
      "\n",
      "]\n",
      "[autoreload of tensorboard.compat.proto.cost_graph_pb2 failed: Traceback (most recent call last):\n",
      "  File \"/global/homes/d/danieltm/.local/lib/python3.7/site-packages/IPython/extensions/autoreload.py\", line 245, in check\n",
      "    superreload(m, reload, self.old_objects)\n",
      "  File \"/global/homes/d/danieltm/.local/lib/python3.7/site-packages/IPython/extensions/autoreload.py\", line 394, in superreload\n",
      "    module = reload(module)\n",
      "  File \"/global/homes/d/danieltm/.conda/envs/exatrkx-test/lib/python3.7/imp.py\", line 314, in reload\n",
      "    return importlib.reload(module)\n",
      "  File \"/global/homes/d/danieltm/.conda/envs/exatrkx-test/lib/python3.7/importlib/__init__.py\", line 169, in reload\n",
      "    _bootstrap._exec(spec, module)\n",
      "  File \"<frozen importlib._bootstrap>\", line 630, in _exec\n",
      "  File \"<frozen importlib._bootstrap_external>\", line 728, in exec_module\n",
      "  File \"<frozen importlib._bootstrap>\", line 219, in _call_with_frames_removed\n",
      "  File \"/global/homes/d/danieltm/.conda/envs/exatrkx-test/lib/python3.7/site-packages/tensorboard/compat/proto/cost_graph_pb2.py\", line 27, in <module>\n",
      "    dependencies=[tensorboard_dot_compat_dot_proto_dot_tensor__shape__pb2.DESCRIPTOR,tensorboard_dot_compat_dot_proto_dot_types__pb2.DESCRIPTOR,])\n",
      "  File \"/global/homes/d/danieltm/.conda/envs/exatrkx-test/lib/python3.7/site-packages/google/protobuf/descriptor.py\", line 941, in __new__\n",
      "    return _message.default_pool.AddSerializedFile(serialized_pb)\n",
      "TypeError: Couldn't build proto file into descriptor pool!\n",
      "Invalid proto descriptor for file \"tensorboard/compat/proto/cost_graph.proto\":\n",
      "  tensorboard/compat/proto/cost_graph.proto: A file with this name is already in the pool.\n",
      "\n",
      "]\n"
     ]
    },
    {
     "name": "stderr",
     "output_type": "stream",
     "text": [
      "[autoreload of tensorboard.compat.proto.cluster_pb2 failed: Traceback (most recent call last):\n",
      "  File \"/global/homes/d/danieltm/.local/lib/python3.7/site-packages/IPython/extensions/autoreload.py\", line 245, in check\n",
      "    superreload(m, reload, self.old_objects)\n",
      "  File \"/global/homes/d/danieltm/.local/lib/python3.7/site-packages/IPython/extensions/autoreload.py\", line 394, in superreload\n",
      "    module = reload(module)\n",
      "  File \"/global/homes/d/danieltm/.conda/envs/exatrkx-test/lib/python3.7/imp.py\", line 314, in reload\n",
      "    return importlib.reload(module)\n",
      "  File \"/global/homes/d/danieltm/.conda/envs/exatrkx-test/lib/python3.7/importlib/__init__.py\", line 169, in reload\n",
      "    _bootstrap._exec(spec, module)\n",
      "  File \"<frozen importlib._bootstrap>\", line 630, in _exec\n",
      "  File \"<frozen importlib._bootstrap_external>\", line 728, in exec_module\n",
      "  File \"<frozen importlib._bootstrap>\", line 219, in _call_with_frames_removed\n",
      "  File \"/global/homes/d/danieltm/.conda/envs/exatrkx-test/lib/python3.7/site-packages/tensorboard/compat/proto/cluster_pb2.py\", line 23, in <module>\n",
      "    serialized_pb=_b('\\n&tensorboard/compat/proto/cluster.proto\\x12\\x0btensorboard\\\"s\\n\\x06JobDef\\x12\\x0c\\n\\x04name\\x18\\x01 \\x01(\\t\\x12-\\n\\x05tasks\\x18\\x02 \\x03(\\x0b\\x32\\x1e.tensorboard.JobDef.TasksEntry\\x1a,\\n\\nTasksEntry\\x12\\x0b\\n\\x03key\\x18\\x01 \\x01(\\x05\\x12\\r\\n\\x05value\\x18\\x02 \\x01(\\t:\\x02\\x38\\x01\\\".\\n\\nClusterDef\\x12 \\n\\x03job\\x18\\x01 \\x03(\\x0b\\x32\\x13.tensorboard.JobDefB\\x87\\x01\\n\\x1aorg.tensorflow.distruntimeB\\rClusterProtosP\\x01ZUgithub.com/tensorflow/tensorflow/tensorflow/go/core/protobuf/for_core_protos_go_proto\\xf8\\x01\\x01\\x62\\x06proto3')\n",
      "  File \"/global/homes/d/danieltm/.conda/envs/exatrkx-test/lib/python3.7/site-packages/google/protobuf/descriptor.py\", line 941, in __new__\n",
      "    return _message.default_pool.AddSerializedFile(serialized_pb)\n",
      "TypeError: Couldn't build proto file into descriptor pool!\n",
      "Invalid proto descriptor for file \"tensorboard/compat/proto/cluster.proto\":\n",
      "  tensorboard/compat/proto/cluster.proto: A file with this name is already in the pool.\n",
      "\n",
      "]\n",
      "[autoreload of tensorboard.compat.proto.debug_pb2 failed: Traceback (most recent call last):\n",
      "  File \"/global/homes/d/danieltm/.local/lib/python3.7/site-packages/IPython/extensions/autoreload.py\", line 245, in check\n",
      "    superreload(m, reload, self.old_objects)\n",
      "  File \"/global/homes/d/danieltm/.local/lib/python3.7/site-packages/IPython/extensions/autoreload.py\", line 394, in superreload\n",
      "    module = reload(module)\n",
      "  File \"/global/homes/d/danieltm/.conda/envs/exatrkx-test/lib/python3.7/imp.py\", line 314, in reload\n",
      "    return importlib.reload(module)\n",
      "  File \"/global/homes/d/danieltm/.conda/envs/exatrkx-test/lib/python3.7/importlib/__init__.py\", line 169, in reload\n",
      "    _bootstrap._exec(spec, module)\n",
      "  File \"<frozen importlib._bootstrap>\", line 630, in _exec\n",
      "  File \"<frozen importlib._bootstrap_external>\", line 728, in exec_module\n",
      "  File \"<frozen importlib._bootstrap>\", line 219, in _call_with_frames_removed\n",
      "  File \"/global/homes/d/danieltm/.conda/envs/exatrkx-test/lib/python3.7/site-packages/tensorboard/compat/proto/debug_pb2.py\", line 23, in <module>\n",
      "    serialized_pb=_b('\\n$tensorboard/compat/proto/debug.proto\\x12\\x0btensorboard\\\"\\x8e\\x01\\n\\x10\\x44\\x65\\x62ugTensorWatch\\x12\\x11\\n\\tnode_name\\x18\\x01 \\x01(\\t\\x12\\x13\\n\\x0boutput_slot\\x18\\x02 \\x01(\\x05\\x12\\x11\\n\\tdebug_ops\\x18\\x03 \\x03(\\t\\x12\\x12\\n\\ndebug_urls\\x18\\x04 \\x03(\\t\\x12+\\n#tolerate_debug_op_creation_failures\\x18\\x05 \\x01(\\x08\\\"\\x82\\x01\\n\\x0c\\x44\\x65\\x62ugOptions\\x12>\\n\\x17\\x64\\x65\\x62ug_tensor_watch_opts\\x18\\x04 \\x03(\\x0b\\x32\\x1d.tensorboard.DebugTensorWatch\\x12\\x13\\n\\x0bglobal_step\\x18\\n \\x01(\\x03\\x12\\x1d\\n\\x15reset_disk_byte_usage\\x18\\x0b \\x01(\\x08\\\"j\\n\\x12\\x44\\x65\\x62uggedSourceFile\\x12\\x0c\\n\\x04host\\x18\\x01 \\x01(\\t\\x12\\x11\\n\\tfile_path\\x18\\x02 \\x01(\\t\\x12\\x15\\n\\rlast_modified\\x18\\x03 \\x01(\\x03\\x12\\r\\n\\x05\\x62ytes\\x18\\x04 \\x01(\\x03\\x12\\r\\n\\x05lines\\x18\\x05 \\x03(\\t\\\"L\\n\\x13\\x44\\x65\\x62uggedSourceFiles\\x12\\x35\\n\\x0csource_files\\x18\\x01 \\x03(\\x0b\\x32\\x1f.tensorboard.DebuggedSourceFileB\\x83\\x01\\n\\x18org.tensorflow.frameworkB\\x0b\\x44\\x65\\x62ugProtosP\\x01ZUgithub.com/tensorflow/tensorflow/tensorflow/go/core/protobuf/for_core_protos_go_proto\\xf8\\x01\\x01\\x62\\x06proto3')\n",
      "  File \"/global/homes/d/danieltm/.conda/envs/exatrkx-test/lib/python3.7/site-packages/google/protobuf/descriptor.py\", line 941, in __new__\n",
      "    return _message.default_pool.AddSerializedFile(serialized_pb)\n",
      "TypeError: Couldn't build proto file into descriptor pool!\n",
      "Invalid proto descriptor for file \"tensorboard/compat/proto/debug.proto\":\n",
      "  tensorboard/compat/proto/debug.proto: A file with this name is already in the pool.\n",
      "\n",
      "]\n",
      "[autoreload of tensorboard.compat.proto.rewriter_config_pb2 failed: Traceback (most recent call last):\n",
      "  File \"/global/homes/d/danieltm/.local/lib/python3.7/site-packages/IPython/extensions/autoreload.py\", line 245, in check\n",
      "    superreload(m, reload, self.old_objects)\n",
      "  File \"/global/homes/d/danieltm/.local/lib/python3.7/site-packages/IPython/extensions/autoreload.py\", line 394, in superreload\n",
      "    module = reload(module)\n",
      "  File \"/global/homes/d/danieltm/.conda/envs/exatrkx-test/lib/python3.7/imp.py\", line 314, in reload\n",
      "    return importlib.reload(module)\n",
      "  File \"/global/homes/d/danieltm/.conda/envs/exatrkx-test/lib/python3.7/importlib/__init__.py\", line 169, in reload\n",
      "    _bootstrap._exec(spec, module)\n",
      "  File \"<frozen importlib._bootstrap>\", line 630, in _exec\n",
      "  File \"<frozen importlib._bootstrap_external>\", line 728, in exec_module\n",
      "  File \"<frozen importlib._bootstrap>\", line 219, in _call_with_frames_removed\n",
      "  File \"/global/homes/d/danieltm/.conda/envs/exatrkx-test/lib/python3.7/site-packages/tensorboard/compat/proto/rewriter_config_pb2.py\", line 27, in <module>\n",
      "    dependencies=[tensorboard_dot_compat_dot_proto_dot_attr__value__pb2.DESCRIPTOR,tensorboard_dot_compat_dot_proto_dot_verifier__config__pb2.DESCRIPTOR,])\n",
      "  File \"/global/homes/d/danieltm/.conda/envs/exatrkx-test/lib/python3.7/site-packages/google/protobuf/descriptor.py\", line 941, in __new__\n",
      "    return _message.default_pool.AddSerializedFile(serialized_pb)\n",
      "TypeError: Couldn't build proto file into descriptor pool!\n",
      "Invalid proto descriptor for file \"tensorboard/compat/proto/rewriter_config.proto\":\n",
      "  tensorboard/compat/proto/rewriter_config.proto: A file with this name is already in the pool.\n",
      "\n",
      "]\n",
      "[autoreload of tensorboard.compat.proto.verifier_config_pb2 failed: Traceback (most recent call last):\n",
      "  File \"/global/homes/d/danieltm/.local/lib/python3.7/site-packages/IPython/extensions/autoreload.py\", line 245, in check\n",
      "    superreload(m, reload, self.old_objects)\n",
      "  File \"/global/homes/d/danieltm/.local/lib/python3.7/site-packages/IPython/extensions/autoreload.py\", line 394, in superreload\n",
      "    module = reload(module)\n",
      "  File \"/global/homes/d/danieltm/.conda/envs/exatrkx-test/lib/python3.7/imp.py\", line 314, in reload\n",
      "    return importlib.reload(module)\n",
      "  File \"/global/homes/d/danieltm/.conda/envs/exatrkx-test/lib/python3.7/importlib/__init__.py\", line 169, in reload\n",
      "    _bootstrap._exec(spec, module)\n",
      "  File \"<frozen importlib._bootstrap>\", line 630, in _exec\n",
      "  File \"<frozen importlib._bootstrap_external>\", line 728, in exec_module\n",
      "  File \"<frozen importlib._bootstrap>\", line 219, in _call_with_frames_removed\n",
      "  File \"/global/homes/d/danieltm/.conda/envs/exatrkx-test/lib/python3.7/site-packages/tensorboard/compat/proto/verifier_config_pb2.py\", line 23, in <module>\n",
      "    serialized_pb=_b('\\n.tensorboard/compat/proto/verifier_config.proto\\x12\\x0btensorboard\\\"\\x9c\\x01\\n\\x0eVerifierConfig\\x12\\\"\\n\\x1averification_timeout_in_ms\\x18\\x01 \\x01(\\x03\\x12>\\n\\x12structure_verifier\\x18\\x02 \\x01(\\x0e\\x32\\\".tensorboard.VerifierConfig.Toggle\\\"&\\n\\x06Toggle\\x12\\x0b\\n\\x07\\x44\\x45\\x46\\x41ULT\\x10\\x00\\x12\\x06\\n\\x02ON\\x10\\x01\\x12\\x07\\n\\x03OFF\\x10\\x02\\x42\\x8c\\x01\\n\\x18org.tensorflow.frameworkB\\x14VerifierConfigProtosP\\x01ZUgithub.com/tensorflow/tensorflow/tensorflow/go/core/protobuf/for_core_protos_go_proto\\xf8\\x01\\x01\\x62\\x06proto3')\n",
      "  File \"/global/homes/d/danieltm/.conda/envs/exatrkx-test/lib/python3.7/site-packages/google/protobuf/descriptor.py\", line 941, in __new__\n",
      "    return _message.default_pool.AddSerializedFile(serialized_pb)\n",
      "TypeError: Couldn't build proto file into descriptor pool!\n",
      "Invalid proto descriptor for file \"tensorboard/compat/proto/verifier_config.proto\":\n",
      "  tensorboard/compat/proto/verifier_config.proto: A file with this name is already in the pool.\n",
      "\n",
      "]\n",
      "[autoreload of tensorboard.compat.proto.meta_graph_pb2 failed: Traceback (most recent call last):\n",
      "  File \"/global/homes/d/danieltm/.local/lib/python3.7/site-packages/IPython/extensions/autoreload.py\", line 245, in check\n",
      "    superreload(m, reload, self.old_objects)\n",
      "  File \"/global/homes/d/danieltm/.local/lib/python3.7/site-packages/IPython/extensions/autoreload.py\", line 394, in superreload\n",
      "    module = reload(module)\n",
      "  File \"/global/homes/d/danieltm/.conda/envs/exatrkx-test/lib/python3.7/imp.py\", line 314, in reload\n",
      "    return importlib.reload(module)\n",
      "  File \"/global/homes/d/danieltm/.conda/envs/exatrkx-test/lib/python3.7/importlib/__init__.py\", line 169, in reload\n",
      "    _bootstrap._exec(spec, module)\n",
      "  File \"<frozen importlib._bootstrap>\", line 630, in _exec\n",
      "  File \"<frozen importlib._bootstrap_external>\", line 728, in exec_module\n",
      "  File \"<frozen importlib._bootstrap>\", line 219, in _call_with_frames_removed\n",
      "  File \"/global/homes/d/danieltm/.conda/envs/exatrkx-test/lib/python3.7/site-packages/tensorboard/compat/proto/meta_graph_pb2.py\", line 33, in <module>\n",
      "    dependencies=[google_dot_protobuf_dot_any__pb2.DESCRIPTOR,tensorboard_dot_compat_dot_proto_dot_graph__pb2.DESCRIPTOR,tensorboard_dot_compat_dot_proto_dot_op__def__pb2.DESCRIPTOR,tensorboard_dot_compat_dot_proto_dot_tensor__shape__pb2.DESCRIPTOR,tensorboard_dot_compat_dot_proto_dot_types__pb2.DESCRIPTOR,tensorboard_dot_compat_dot_proto_dot_saved__object__graph__pb2.DESCRIPTOR,tensorboard_dot_compat_dot_proto_dot_saver__pb2.DESCRIPTOR,tensorboard_dot_compat_dot_proto_dot_struct__pb2.DESCRIPTOR,])\n",
      "  File \"/global/homes/d/danieltm/.conda/envs/exatrkx-test/lib/python3.7/site-packages/google/protobuf/descriptor.py\", line 941, in __new__\n",
      "    return _message.default_pool.AddSerializedFile(serialized_pb)\n",
      "TypeError: Couldn't build proto file into descriptor pool!\n",
      "Invalid proto descriptor for file \"tensorboard/compat/proto/meta_graph.proto\":\n",
      "  tensorboard/compat/proto/meta_graph.proto: A file with this name is already in the pool.\n",
      "\n",
      "]\n",
      "[autoreload of tensorboard.compat.proto.saved_object_graph_pb2 failed: Traceback (most recent call last):\n",
      "  File \"/global/homes/d/danieltm/.local/lib/python3.7/site-packages/IPython/extensions/autoreload.py\", line 245, in check\n",
      "    superreload(m, reload, self.old_objects)\n",
      "  File \"/global/homes/d/danieltm/.local/lib/python3.7/site-packages/IPython/extensions/autoreload.py\", line 394, in superreload\n",
      "    module = reload(module)\n",
      "  File \"/global/homes/d/danieltm/.conda/envs/exatrkx-test/lib/python3.7/imp.py\", line 314, in reload\n",
      "    return importlib.reload(module)\n",
      "  File \"/global/homes/d/danieltm/.conda/envs/exatrkx-test/lib/python3.7/importlib/__init__.py\", line 169, in reload\n",
      "    _bootstrap._exec(spec, module)\n",
      "  File \"<frozen importlib._bootstrap>\", line 630, in _exec\n",
      "  File \"<frozen importlib._bootstrap_external>\", line 728, in exec_module\n",
      "  File \"<frozen importlib._bootstrap>\", line 219, in _call_with_frames_removed\n",
      "  File \"/global/homes/d/danieltm/.conda/envs/exatrkx-test/lib/python3.7/site-packages/tensorboard/compat/proto/saved_object_graph_pb2.py\", line 31, in <module>\n",
      "    dependencies=[tensorboard_dot_compat_dot_proto_dot_tensor__shape__pb2.DESCRIPTOR,tensorboard_dot_compat_dot_proto_dot_types__pb2.DESCRIPTOR,tensorboard_dot_compat_dot_proto_dot_variable__pb2.DESCRIPTOR,tensorboard_dot_compat_dot_proto_dot_versions__pb2.DESCRIPTOR,tensorboard_dot_compat_dot_proto_dot_struct__pb2.DESCRIPTOR,tensorboard_dot_compat_dot_proto_dot_trackable__object__graph__pb2.DESCRIPTOR,])\n",
      "  File \"/global/homes/d/danieltm/.conda/envs/exatrkx-test/lib/python3.7/site-packages/google/protobuf/descriptor.py\", line 941, in __new__\n",
      "    return _message.default_pool.AddSerializedFile(serialized_pb)\n",
      "TypeError: Couldn't build proto file into descriptor pool!\n",
      "Invalid proto descriptor for file \"tensorboard/compat/proto/saved_object_graph.proto\":\n",
      "  tensorboard/compat/proto/saved_object_graph.proto: A file with this name is already in the pool.\n",
      "\n",
      "]\n"
     ]
    },
    {
     "name": "stderr",
     "output_type": "stream",
     "text": [
      "[autoreload of tensorboard.compat.proto.struct_pb2 failed: Traceback (most recent call last):\n",
      "  File \"/global/homes/d/danieltm/.local/lib/python3.7/site-packages/IPython/extensions/autoreload.py\", line 245, in check\n",
      "    superreload(m, reload, self.old_objects)\n",
      "  File \"/global/homes/d/danieltm/.local/lib/python3.7/site-packages/IPython/extensions/autoreload.py\", line 394, in superreload\n",
      "    module = reload(module)\n",
      "  File \"/global/homes/d/danieltm/.conda/envs/exatrkx-test/lib/python3.7/imp.py\", line 314, in reload\n",
      "    return importlib.reload(module)\n",
      "  File \"/global/homes/d/danieltm/.conda/envs/exatrkx-test/lib/python3.7/importlib/__init__.py\", line 169, in reload\n",
      "    _bootstrap._exec(spec, module)\n",
      "  File \"<frozen importlib._bootstrap>\", line 630, in _exec\n",
      "  File \"<frozen importlib._bootstrap_external>\", line 728, in exec_module\n",
      "  File \"<frozen importlib._bootstrap>\", line 219, in _call_with_frames_removed\n",
      "  File \"/global/homes/d/danieltm/.conda/envs/exatrkx-test/lib/python3.7/site-packages/tensorboard/compat/proto/struct_pb2.py\", line 28, in <module>\n",
      "    dependencies=[tensorboard_dot_compat_dot_proto_dot_tensor__pb2.DESCRIPTOR,tensorboard_dot_compat_dot_proto_dot_tensor__shape__pb2.DESCRIPTOR,tensorboard_dot_compat_dot_proto_dot_types__pb2.DESCRIPTOR,])\n",
      "  File \"/global/homes/d/danieltm/.conda/envs/exatrkx-test/lib/python3.7/site-packages/google/protobuf/descriptor.py\", line 941, in __new__\n",
      "    return _message.default_pool.AddSerializedFile(serialized_pb)\n",
      "TypeError: Couldn't build proto file into descriptor pool!\n",
      "Invalid proto descriptor for file \"tensorboard/compat/proto/struct.proto\":\n",
      "  tensorboard/compat/proto/struct.proto: A file with this name is already in the pool.\n",
      "\n",
      "]\n",
      "[autoreload of tensorboard.compat.proto.trackable_object_graph_pb2 failed: Traceback (most recent call last):\n",
      "  File \"/global/homes/d/danieltm/.local/lib/python3.7/site-packages/IPython/extensions/autoreload.py\", line 245, in check\n",
      "    superreload(m, reload, self.old_objects)\n",
      "  File \"/global/homes/d/danieltm/.local/lib/python3.7/site-packages/IPython/extensions/autoreload.py\", line 394, in superreload\n",
      "    module = reload(module)\n",
      "  File \"/global/homes/d/danieltm/.conda/envs/exatrkx-test/lib/python3.7/imp.py\", line 314, in reload\n",
      "    return importlib.reload(module)\n",
      "  File \"/global/homes/d/danieltm/.conda/envs/exatrkx-test/lib/python3.7/importlib/__init__.py\", line 169, in reload\n",
      "    _bootstrap._exec(spec, module)\n",
      "  File \"<frozen importlib._bootstrap>\", line 630, in _exec\n",
      "  File \"<frozen importlib._bootstrap_external>\", line 728, in exec_module\n",
      "  File \"<frozen importlib._bootstrap>\", line 219, in _call_with_frames_removed\n",
      "  File \"/global/homes/d/danieltm/.conda/envs/exatrkx-test/lib/python3.7/site-packages/tensorboard/compat/proto/trackable_object_graph_pb2.py\", line 23, in <module>\n",
      "    serialized_pb=_b('\\n5tensorboard/compat/proto/trackable_object_graph.proto\\x12\\x0btensorboard\\\"\\x87\\x05\\n\\x14TrackableObjectGraph\\x12@\\n\\x05nodes\\x18\\x01 \\x03(\\x0b\\x32\\x31.tensorboard.TrackableObjectGraph.TrackableObject\\x1a\\xac\\x04\\n\\x0fTrackableObject\\x12S\\n\\x08\\x63hildren\\x18\\x01 \\x03(\\x0b\\x32\\x41.tensorboard.TrackableObjectGraph.TrackableObject.ObjectReference\\x12V\\n\\nattributes\\x18\\x02 \\x03(\\x0b\\x32\\x42.tensorboard.TrackableObjectGraph.TrackableObject.SerializedTensor\\x12_\\n\\x0eslot_variables\\x18\\x03 \\x03(\\x0b\\x32G.tensorboard.TrackableObjectGraph.TrackableObject.SlotVariableReference\\x1a\\x36\\n\\x0fObjectReference\\x12\\x0f\\n\\x07node_id\\x18\\x01 \\x01(\\x05\\x12\\x12\\n\\nlocal_name\\x18\\x02 \\x01(\\t\\x1a\\x65\\n\\x10SerializedTensor\\x12\\x0c\\n\\x04name\\x18\\x01 \\x01(\\t\\x12\\x11\\n\\tfull_name\\x18\\x02 \\x01(\\t\\x12\\x16\\n\\x0e\\x63heckpoint_key\\x18\\x03 \\x01(\\t\\x12\\x18\\n\\x10optional_restore\\x18\\x04 \\x01(\\x08\\x1al\\n\\x15SlotVariableReference\\x12!\\n\\x19original_variable_node_id\\x18\\x01 \\x01(\\x05\\x12\\x11\\n\\tslot_name\\x18\\x02 \\x01(\\t\\x12\\x1d\\n\\x15slot_variable_node_id\\x18\\x03 \\x01(\\x05\\x42ZZUgithub.com/tensorflow/tensorflow/tensorflow/go/core/protobuf/for_core_protos_go_proto\\xf8\\x01\\x01\\x62\\x06proto3')\n",
      "  File \"/global/homes/d/danieltm/.conda/envs/exatrkx-test/lib/python3.7/site-packages/google/protobuf/descriptor.py\", line 941, in __new__\n",
      "    return _message.default_pool.AddSerializedFile(serialized_pb)\n",
      "TypeError: Couldn't build proto file into descriptor pool!\n",
      "Invalid proto descriptor for file \"tensorboard/compat/proto/trackable_object_graph.proto\":\n",
      "  tensorboard/compat/proto/trackable_object_graph.proto: A file with this name is already in the pool.\n",
      "\n",
      "]\n",
      "[autoreload of tensorboard.compat.proto.saver_pb2 failed: Traceback (most recent call last):\n",
      "  File \"/global/homes/d/danieltm/.local/lib/python3.7/site-packages/IPython/extensions/autoreload.py\", line 245, in check\n",
      "    superreload(m, reload, self.old_objects)\n",
      "  File \"/global/homes/d/danieltm/.local/lib/python3.7/site-packages/IPython/extensions/autoreload.py\", line 394, in superreload\n",
      "    module = reload(module)\n",
      "  File \"/global/homes/d/danieltm/.conda/envs/exatrkx-test/lib/python3.7/imp.py\", line 314, in reload\n",
      "    return importlib.reload(module)\n",
      "  File \"/global/homes/d/danieltm/.conda/envs/exatrkx-test/lib/python3.7/importlib/__init__.py\", line 169, in reload\n",
      "    _bootstrap._exec(spec, module)\n",
      "  File \"<frozen importlib._bootstrap>\", line 630, in _exec\n",
      "  File \"<frozen importlib._bootstrap_external>\", line 728, in exec_module\n",
      "  File \"<frozen importlib._bootstrap>\", line 219, in _call_with_frames_removed\n",
      "  File \"/global/homes/d/danieltm/.conda/envs/exatrkx-test/lib/python3.7/site-packages/tensorboard/compat/proto/saver_pb2.py\", line 23, in <module>\n",
      "    serialized_pb=_b('\\n$tensorboard/compat/proto/saver.proto\\x12\\x0btensorboard\\\"\\x9f\\x02\\n\\x08SaverDef\\x12\\x1c\\n\\x14\\x66ilename_tensor_name\\x18\\x01 \\x01(\\t\\x12\\x18\\n\\x10save_tensor_name\\x18\\x02 \\x01(\\t\\x12\\x17\\n\\x0frestore_op_name\\x18\\x03 \\x01(\\t\\x12\\x13\\n\\x0bmax_to_keep\\x18\\x04 \\x01(\\x05\\x12\\x0f\\n\\x07sharded\\x18\\x05 \\x01(\\x08\\x12%\\n\\x1dkeep_checkpoint_every_n_hours\\x18\\x06 \\x01(\\x02\\x12>\\n\\x07version\\x18\\x07 \\x01(\\x0e\\x32-.tensorboard.SaverDef.CheckpointFormatVersion\\\"5\\n\\x17\\x43heckpointFormatVersion\\x12\\n\\n\\x06LEGACY\\x10\\x00\\x12\\x06\\n\\x02V1\\x10\\x01\\x12\\x06\\n\\x02V2\\x10\\x02\\x42~\\n\\x13org.tensorflow.utilB\\x0bSaverProtosP\\x01ZUgithub.com/tensorflow/tensorflow/tensorflow/go/core/protobuf/for_core_protos_go_proto\\xf8\\x01\\x01\\x62\\x06proto3')\n",
      "  File \"/global/homes/d/danieltm/.conda/envs/exatrkx-test/lib/python3.7/site-packages/google/protobuf/descriptor.py\", line 941, in __new__\n",
      "    return _message.default_pool.AddSerializedFile(serialized_pb)\n",
      "TypeError: Couldn't build proto file into descriptor pool!\n",
      "Invalid proto descriptor for file \"tensorboard/compat/proto/saver.proto\":\n",
      "  tensorboard/compat/proto/saver.proto: A file with this name is already in the pool.\n",
      "\n",
      "]\n",
      "[autoreload of tensorboard.compat.tensorflow_stub.flags failed: Traceback (most recent call last):\n",
      "  File \"/global/homes/d/danieltm/.local/lib/python3.7/site-packages/IPython/extensions/autoreload.py\", line 245, in check\n",
      "    superreload(m, reload, self.old_objects)\n",
      "  File \"/global/homes/d/danieltm/.local/lib/python3.7/site-packages/IPython/extensions/autoreload.py\", line 410, in superreload\n",
      "    update_generic(old_obj, new_obj)\n",
      "  File \"/global/homes/d/danieltm/.local/lib/python3.7/site-packages/IPython/extensions/autoreload.py\", line 347, in update_generic\n",
      "    update(a, b)\n",
      "  File \"/global/homes/d/danieltm/.local/lib/python3.7/site-packages/IPython/extensions/autoreload.py\", line 317, in update_class\n",
      "    update_instances(old, new)\n",
      "  File \"/global/homes/d/danieltm/.local/lib/python3.7/site-packages/IPython/extensions/autoreload.py\", line 280, in update_instances\n",
      "    ref.__class__ = new\n",
      "  File \"/global/homes/d/danieltm/.conda/envs/exatrkx-test/lib/python3.7/site-packages/tensorboard/compat/tensorflow_stub/flags.py\", line 90, in __setattr__\n",
      "    return self.__dict__[\"__wrapped\"].__setattr__(name, value)\n",
      "  File \"/global/homes/d/danieltm/.conda/envs/exatrkx-test/lib/python3.7/site-packages/tensorboard/compat/tensorflow_stub/flags.py\", line 78, in __getattribute__\n",
      "    return super(_FlagValuesWrapper, self).__getattribute__(name)\n",
      "TypeError: super(type, obj): obj must be an instance or subtype of type\n",
      "]\n"
     ]
    }
   ],
   "source": [
    "import scann"
   ]
  },
  {
   "cell_type": "code",
   "execution_count": 27,
   "metadata": {
    "hidden": true
   },
   "outputs": [],
   "source": [
    "d = 8                           # dimension\n",
    "nb = 100000                      # database size\n",
    "np.random.seed(0)             # make reproducible\n",
    "xb = np.random.random((nb, d)).astype('float32')"
   ]
  },
  {
   "cell_type": "code",
   "execution_count": 29,
   "metadata": {
    "hidden": true
   },
   "outputs": [
    {
     "name": "stdout",
     "output_type": "stream",
     "text": [
      "CPU times: user 5.75 s, sys: 145 ms, total: 5.89 s\n",
      "Wall time: 3.11 s\n"
     ]
    }
   ],
   "source": [
    "%%time\n",
    "searcher = scann.scann_ops_pybind.builder(xb, 10, \"dot_product\").tree(\n",
    "    num_leaves=2000, num_leaves_to_search=100, training_sample_size=250000).score_ah(\n",
    "    2, anisotropic_quantization_threshold=0.2).reorder(100).build()"
   ]
  },
  {
   "cell_type": "code",
   "execution_count": 30,
   "metadata": {
    "hidden": true
   },
   "outputs": [],
   "source": [
    "def compute_recall(neighbors, true_neighbors):\n",
    "    total = 0\n",
    "    for gt_row, row in zip(true_neighbors, neighbors):\n",
    "        total += np.intersect1d(gt_row, row).shape[0]\n",
    "    return total / true_neighbors.size"
   ]
  },
  {
   "cell_type": "code",
   "execution_count": 34,
   "metadata": {
    "hidden": true
   },
   "outputs": [
    {
     "name": "stdout",
     "output_type": "stream",
     "text": [
      "CPU times: user 5.72 s, sys: 108 ms, total: 5.83 s\n",
      "Wall time: 5.82 s\n"
     ]
    }
   ],
   "source": [
    "%%time\n",
    "neighbors, distances = searcher.search_batched(xb, final_num_neighbors=10)"
   ]
  },
  {
   "cell_type": "code",
   "execution_count": 35,
   "metadata": {
    "hidden": true
   },
   "outputs": [
    {
     "name": "stdout",
     "output_type": "stream",
     "text": [
      "CPU times: user 5.83 s, sys: 40.3 ms, total: 5.87 s\n",
      "Wall time: 5.85 s\n"
     ]
    }
   ],
   "source": [
    "%%time\n",
    "neighbors, distances = searcher.search_batched(xb, final_num_neighbors=100)"
   ]
  },
  {
   "cell_type": "code",
   "execution_count": 37,
   "metadata": {
    "hidden": true
   },
   "outputs": [
    {
     "data": {
      "text/plain": [
       "array([[4.2531753, 4.2527475, 4.246648 , ..., 3.7566278, 3.7564266,\n",
       "        3.7522976],\n",
       "       [3.9915264, 3.8872807, 3.8776352, ..., 3.4887424, 3.4722333,\n",
       "        3.469664 ],\n",
       "       [5.0225854, 4.929641 , 4.877786 , ..., 4.3768253, 4.370807 ,\n",
       "        4.3238397],\n",
       "       ...,\n",
       "       [3.6380053, 3.630241 , 3.606303 , ..., 3.2287574, 3.2250485,\n",
       "        3.2042282],\n",
       "       [4.0943565, 3.9901698, 3.9748697, ..., 3.6052427, 3.5958347,\n",
       "        3.5414903],\n",
       "       [3.4797297, 3.4750583, 3.4729688, ..., 3.0968218, 3.0833898,\n",
       "        3.0329294]], dtype=float32)"
      ]
     },
     "execution_count": 37,
     "metadata": {},
     "output_type": "execute_result"
    }
   ],
   "source": [
    "distances"
   ]
  },
  {
   "cell_type": "markdown",
   "metadata": {
    "heading_collapsed": true
   },
   "source": [
    "## Scikit Learn"
   ]
  },
  {
   "cell_type": "code",
   "execution_count": 40,
   "metadata": {
    "hidden": true
   },
   "outputs": [],
   "source": [
    "from sklearn.neighbors import KDTree"
   ]
  },
  {
   "cell_type": "code",
   "execution_count": 67,
   "metadata": {
    "hidden": true
   },
   "outputs": [],
   "source": [
    "d = 8                           # dimension\n",
    "nb = 100000                      # database size\n",
    "np.random.seed(0)             # make reproducible\n",
    "xb = np.random.random((nb, d)).astype('float32')"
   ]
  },
  {
   "cell_type": "code",
   "execution_count": 68,
   "metadata": {
    "hidden": true
   },
   "outputs": [
    {
     "name": "stdout",
     "output_type": "stream",
     "text": [
      "CPU times: user 118 ms, sys: 212 µs, total: 118 ms\n",
      "Wall time: 118 ms\n"
     ]
    }
   ],
   "source": [
    "%%time\n",
    "tree = KDTree(xb, leaf_size=20)"
   ]
  },
  {
   "cell_type": "code",
   "execution_count": 71,
   "metadata": {
    "hidden": true
   },
   "outputs": [
    {
     "name": "stdout",
     "output_type": "stream",
     "text": [
      "CPU times: user 19.2 s, sys: 3.65 ms, total: 19.2 s\n",
      "Wall time: 19.2 s\n"
     ]
    }
   ],
   "source": [
    "%%time\n",
    "ind = tree.query_radius(xb, r=0.3) "
   ]
  },
  {
   "cell_type": "code",
   "execution_count": 72,
   "metadata": {
    "hidden": true
   },
   "outputs": [
    {
     "data": {
      "text/plain": [
       "14.82498"
      ]
     },
     "execution_count": 72,
     "metadata": {},
     "output_type": "execute_result"
    }
   ],
   "source": [
    "np.mean([len(i) for i in ind])"
   ]
  },
  {
   "cell_type": "markdown",
   "metadata": {},
   "source": [
    "# Annoy"
   ]
  },
  {
   "cell_type": "markdown",
   "metadata": {},
   "source": [
    "# FAISS"
   ]
  },
  {
   "cell_type": "markdown",
   "metadata": {},
   "source": [
    "## Flat Index on CPU"
   ]
  },
  {
   "cell_type": "markdown",
   "metadata": {},
   "source": [
    "Make dataset"
   ]
  },
  {
   "cell_type": "code",
   "execution_count": 109,
   "metadata": {},
   "outputs": [],
   "source": [
    "d = 8                           # dimension\n",
    "nb = 100000                      # database size\n",
    "nq = 10000                       # nb of queries\n",
    "np.random.seed(0)             # make reproducible\n",
    "xb = np.random.random((nb, d)).astype('float32')\n",
    "# xb[:, 0] += np.arange(nb) / 1000.\n",
    "xq = np.random.random((nq, d)).astype('float32')\n",
    "# xq[:, 0] += np.arange(nq) / 1000."
   ]
  },
  {
   "cell_type": "markdown",
   "metadata": {},
   "source": [
    "Build index"
   ]
  },
  {
   "cell_type": "code",
   "execution_count": 110,
   "metadata": {},
   "outputs": [
    {
     "name": "stdout",
     "output_type": "stream",
     "text": [
      "True\n",
      "100000\n",
      "CPU times: user 3.82 ms, sys: 221 µs, total: 4.04 ms\n",
      "Wall time: 141 ms\n"
     ]
    }
   ],
   "source": [
    "%%time\n",
    "index = faiss.IndexFlatL2(d)   # build the index\n",
    "print(index.is_trained)\n",
    "index.add(xb)                  # add vectors to the index\n",
    "print(index.ntotal)"
   ]
  },
  {
   "cell_type": "markdown",
   "metadata": {},
   "source": [
    "Run search"
   ]
  },
  {
   "cell_type": "code",
   "execution_count": 10,
   "metadata": {},
   "outputs": [
    {
     "name": "stdout",
     "output_type": "stream",
     "text": [
      "CPU times: user 1min 33s, sys: 23.7 ms, total: 1min 33s\n",
      "Wall time: 1min 33s\n"
     ]
    }
   ],
   "source": [
    "%%time\n",
    "D, I = index.search(xb, 50)"
   ]
  },
  {
   "cell_type": "code",
   "execution_count": 188,
   "metadata": {
    "scrolled": true
   },
   "outputs": [
    {
     "ename": "TypeError",
     "evalue": "in method 'IndexFlat_search', argument 4 of type 'faiss::Index::idx_t'",
     "output_type": "error",
     "traceback": [
      "\u001b[0;31m---------------------------------------------------------------------------\u001b[0m",
      "\u001b[0;31mTypeError\u001b[0m                                 Traceback (most recent call last)",
      "\u001b[0;32m<timed exec>\u001b[0m in \u001b[0;36m<module>\u001b[0;34m\u001b[0m\n",
      "\u001b[0;32m~/.conda/envs/exatrkx-test/lib/python3.7/site-packages/faiss/contrib/torch_utils.py\u001b[0m in \u001b[0;36mtorch_replacement_search\u001b[0;34m(self, x, k, D, I)\u001b[0m\n\u001b[1;32m    187\u001b[0m         \u001b[0;32mif\u001b[0m \u001b[0mtype\u001b[0m\u001b[0;34m(\u001b[0m\u001b[0mx\u001b[0m\u001b[0;34m)\u001b[0m \u001b[0;32mis\u001b[0m \u001b[0mnp\u001b[0m\u001b[0;34m.\u001b[0m\u001b[0mndarray\u001b[0m\u001b[0;34m:\u001b[0m\u001b[0;34m\u001b[0m\u001b[0;34m\u001b[0m\u001b[0m\n\u001b[1;32m    188\u001b[0m             \u001b[0;31m# forward to faiss __init__.py base method\u001b[0m\u001b[0;34m\u001b[0m\u001b[0;34m\u001b[0m\u001b[0;34m\u001b[0m\u001b[0m\n\u001b[0;32m--> 189\u001b[0;31m             \u001b[0;32mreturn\u001b[0m \u001b[0mself\u001b[0m\u001b[0;34m.\u001b[0m\u001b[0msearch_numpy\u001b[0m\u001b[0;34m(\u001b[0m\u001b[0mx\u001b[0m\u001b[0;34m,\u001b[0m \u001b[0mk\u001b[0m\u001b[0;34m,\u001b[0m \u001b[0mD\u001b[0m\u001b[0;34m,\u001b[0m \u001b[0mI\u001b[0m\u001b[0;34m)\u001b[0m\u001b[0;34m\u001b[0m\u001b[0;34m\u001b[0m\u001b[0m\n\u001b[0m\u001b[1;32m    190\u001b[0m \u001b[0;34m\u001b[0m\u001b[0m\n\u001b[1;32m    191\u001b[0m         \u001b[0;32massert\u001b[0m \u001b[0mtype\u001b[0m\u001b[0;34m(\u001b[0m\u001b[0mx\u001b[0m\u001b[0;34m)\u001b[0m \u001b[0;32mis\u001b[0m \u001b[0mtorch\u001b[0m\u001b[0;34m.\u001b[0m\u001b[0mTensor\u001b[0m\u001b[0;34m\u001b[0m\u001b[0;34m\u001b[0m\u001b[0m\n",
      "\u001b[0;32m~/.conda/envs/exatrkx-test/lib/python3.7/site-packages/faiss/__init__.py\u001b[0m in \u001b[0;36mreplacement_search\u001b[0;34m(self, x, k, D, I)\u001b[0m\n\u001b[1;32m    142\u001b[0m             \u001b[0;32massert\u001b[0m \u001b[0mI\u001b[0m\u001b[0;34m.\u001b[0m\u001b[0mshape\u001b[0m \u001b[0;34m==\u001b[0m \u001b[0;34m(\u001b[0m\u001b[0mn\u001b[0m\u001b[0;34m,\u001b[0m \u001b[0mk\u001b[0m\u001b[0;34m)\u001b[0m\u001b[0;34m\u001b[0m\u001b[0;34m\u001b[0m\u001b[0m\n\u001b[1;32m    143\u001b[0m \u001b[0;34m\u001b[0m\u001b[0m\n\u001b[0;32m--> 144\u001b[0;31m         \u001b[0mself\u001b[0m\u001b[0;34m.\u001b[0m\u001b[0msearch_c\u001b[0m\u001b[0;34m(\u001b[0m\u001b[0mn\u001b[0m\u001b[0;34m,\u001b[0m \u001b[0mswig_ptr\u001b[0m\u001b[0;34m(\u001b[0m\u001b[0mx\u001b[0m\u001b[0;34m)\u001b[0m\u001b[0;34m,\u001b[0m \u001b[0mk\u001b[0m\u001b[0;34m,\u001b[0m \u001b[0mswig_ptr\u001b[0m\u001b[0;34m(\u001b[0m\u001b[0mD\u001b[0m\u001b[0;34m)\u001b[0m\u001b[0;34m,\u001b[0m \u001b[0mswig_ptr\u001b[0m\u001b[0;34m(\u001b[0m\u001b[0mI\u001b[0m\u001b[0;34m)\u001b[0m\u001b[0;34m)\u001b[0m\u001b[0;34m\u001b[0m\u001b[0;34m\u001b[0m\u001b[0m\n\u001b[0m\u001b[1;32m    145\u001b[0m         \u001b[0;32mreturn\u001b[0m \u001b[0mD\u001b[0m\u001b[0;34m,\u001b[0m \u001b[0mI\u001b[0m\u001b[0;34m\u001b[0m\u001b[0;34m\u001b[0m\u001b[0m\n\u001b[1;32m    146\u001b[0m \u001b[0;34m\u001b[0m\u001b[0m\n",
      "\u001b[0;32m~/.conda/envs/exatrkx-test/lib/python3.7/site-packages/faiss/swigfaiss.py\u001b[0m in \u001b[0;36msearch\u001b[0;34m(self, n, x, k, distances, labels)\u001b[0m\n\u001b[1;32m   1929\u001b[0m \u001b[0;34m\u001b[0m\u001b[0m\n\u001b[1;32m   1930\u001b[0m     \u001b[0;32mdef\u001b[0m \u001b[0msearch\u001b[0m\u001b[0;34m(\u001b[0m\u001b[0mself\u001b[0m\u001b[0;34m,\u001b[0m \u001b[0mn\u001b[0m\u001b[0;34m,\u001b[0m \u001b[0mx\u001b[0m\u001b[0;34m,\u001b[0m \u001b[0mk\u001b[0m\u001b[0;34m,\u001b[0m \u001b[0mdistances\u001b[0m\u001b[0;34m,\u001b[0m \u001b[0mlabels\u001b[0m\u001b[0;34m)\u001b[0m\u001b[0;34m:\u001b[0m\u001b[0;34m\u001b[0m\u001b[0;34m\u001b[0m\u001b[0m\n\u001b[0;32m-> 1931\u001b[0;31m         \u001b[0;32mreturn\u001b[0m \u001b[0m_swigfaiss\u001b[0m\u001b[0;34m.\u001b[0m\u001b[0mIndexFlat_search\u001b[0m\u001b[0;34m(\u001b[0m\u001b[0mself\u001b[0m\u001b[0;34m,\u001b[0m \u001b[0mn\u001b[0m\u001b[0;34m,\u001b[0m \u001b[0mx\u001b[0m\u001b[0;34m,\u001b[0m \u001b[0mk\u001b[0m\u001b[0;34m,\u001b[0m \u001b[0mdistances\u001b[0m\u001b[0;34m,\u001b[0m \u001b[0mlabels\u001b[0m\u001b[0;34m)\u001b[0m\u001b[0;34m\u001b[0m\u001b[0;34m\u001b[0m\u001b[0m\n\u001b[0m\u001b[1;32m   1932\u001b[0m \u001b[0;34m\u001b[0m\u001b[0m\n\u001b[1;32m   1933\u001b[0m     \u001b[0;32mdef\u001b[0m \u001b[0mrange_search\u001b[0m\u001b[0;34m(\u001b[0m\u001b[0mself\u001b[0m\u001b[0;34m,\u001b[0m \u001b[0mn\u001b[0m\u001b[0;34m,\u001b[0m \u001b[0mx\u001b[0m\u001b[0;34m,\u001b[0m \u001b[0mradius\u001b[0m\u001b[0;34m,\u001b[0m \u001b[0mresult\u001b[0m\u001b[0;34m)\u001b[0m\u001b[0;34m:\u001b[0m\u001b[0;34m\u001b[0m\u001b[0;34m\u001b[0m\u001b[0m\n",
      "\u001b[0;31mTypeError\u001b[0m: in method 'IndexFlat_search', argument 4 of type 'faiss::Index::idx_t'"
     ]
    }
   ],
   "source": [
    "%%time\n",
    "for k in np.arange(1, 100, 5):\n",
    "    tic = tt()\n",
    "    D, I = index.search(xb, k)     # actual search\n",
    "    print(\"{} neighbours @ {} seconds\".format(k, tt()-tic))"
   ]
  },
  {
   "cell_type": "code",
   "execution_count": 7,
   "metadata": {},
   "outputs": [],
   "source": [
    "k = 4\n",
    "D, I = index.search(xb, k)     # actual search"
   ]
  },
  {
   "cell_type": "markdown",
   "metadata": {},
   "source": [
    "## Flat Index on GPU"
   ]
  },
  {
   "cell_type": "code",
   "execution_count": 7,
   "metadata": {},
   "outputs": [],
   "source": [
    "import faiss.contrib.torch_utils"
   ]
  },
  {
   "cell_type": "code",
   "execution_count": 111,
   "metadata": {},
   "outputs": [],
   "source": [
    "res = faiss.StandardGpuResources()"
   ]
  },
  {
   "cell_type": "code",
   "execution_count": 114,
   "metadata": {},
   "outputs": [],
   "source": [
    "d = 8                           # dimension\n",
    "nb = 100000                      # database size\n",
    "xb = torch.rand(nb, d).to(0)"
   ]
  },
  {
   "cell_type": "code",
   "execution_count": 122,
   "metadata": {},
   "outputs": [
    {
     "data": {
      "text/plain": [
       "107.05189"
      ]
     },
     "execution_count": 122,
     "metadata": {},
     "output_type": "execute_result"
    }
   ],
   "source": [
    "build_edges(xb, 0.4, 200).shape[1]/nb"
   ]
  },
  {
   "cell_type": "code",
   "execution_count": 14,
   "metadata": {},
   "outputs": [
    {
     "ename": "AttributeError",
     "evalue": "module 'faiss' has no attribute 'knn'",
     "output_type": "error",
     "traceback": [
      "\u001b[0;31m---------------------------------------------------------------------------\u001b[0m",
      "\u001b[0;31mAttributeError\u001b[0m                            Traceback (most recent call last)",
      "\u001b[0;32m<timed eval>\u001b[0m in \u001b[0;36m<module>\u001b[0;34m\u001b[0m\n",
      "\u001b[0;31mAttributeError\u001b[0m: module 'faiss' has no attribute 'knn'"
     ]
    }
   ],
   "source": [
    "%%time\n",
    "faiss.knn(res, xb, xb, int(300))"
   ]
  },
  {
   "cell_type": "code",
   "execution_count": 42,
   "metadata": {
    "scrolled": true
   },
   "outputs": [
    {
     "name": "stdout",
     "output_type": "stream",
     "text": [
      "1.0 neighbours @ 0.17615818977355957 seconds\n",
      "1.4384498882876628 neighbours @ 0.17444539070129395 seconds\n",
      "2.0691380811147897 neighbours @ 0.18125152587890625 seconds\n",
      "2.976351441631318 neighbours @ 0.1811387538909912 seconds\n",
      "4.281332398719393 neighbours @ 0.18437409400939941 seconds\n",
      "6.158482110660264 neighbours @ 0.1883237361907959 seconds\n",
      "8.858667904100825 neighbours @ 0.18972206115722656 seconds\n",
      "12.742749857031335 neighbours @ 0.19418931007385254 seconds\n",
      "18.329807108324356 neighbours @ 0.20281219482421875 seconds\n",
      "26.366508987303583 neighbours @ 0.21146202087402344 seconds\n",
      "37.926901907322495 neighbours @ 0.22797703742980957 seconds\n",
      "54.55594781168517 neighbours @ 0.25095248222351074 seconds\n",
      "78.47599703514611 neighbours @ 0.28458690643310547 seconds\n",
      "112.88378916846884 neighbours @ 0.3595256805419922 seconds\n",
      "162.3776739188721 neighbours @ 0.4506218433380127 seconds\n",
      "233.57214690901213 neighbours @ 0.5582706928253174 seconds\n",
      "335.9818286283781 neighbours @ 0.8598945140838623 seconds\n",
      "483.2930238571752 neighbours @ 1.0994524955749512 seconds\n",
      "695.1927961775606 neighbours @ 1.9993810653686523 seconds\n",
      "1000.0 neighbours @ 2.5213897228240967 seconds\n",
      "CPU times: user 6.59 s, sys: 3.93 s, total: 10.5 s\n",
      "Wall time: 10.5 s\n"
     ]
    }
   ],
   "source": [
    "%%time\n",
    "k_timings = []\n",
    "k_ticks = np.logspace(0, 3, num=20, base=10)\n",
    "for k in k_ticks:\n",
    "    tic = tt()\n",
    "    D, I = faiss.knn_gpu(res, xb, xb, int(k))\n",
    "    k_timing = tt()-tic\n",
    "    k_timings.append(k_timing)\n",
    "    print(\"{} neighbours @ {} seconds\".format(k, k_timing))"
   ]
  },
  {
   "cell_type": "code",
   "execution_count": 43,
   "metadata": {},
   "outputs": [
    {
     "data": {
      "image/png": "[encoded data removed]",
      "text/plain": [
       "<Figure size 432x288 with 1 Axes>"
      ]
     },
     "metadata": {
      "needs_background": "light"
     },
     "output_type": "display_data"
    }
   ],
   "source": [
    "plt.scatter(k_ticks, k_timings)\n",
    "plt.plot(k_ticks, k_timings)\n",
    "plt.xscale(\"log\")\n",
    "plt.yscale(\"log\")"
   ]
  },
  {
   "cell_type": "code",
   "execution_count": 44,
   "metadata": {},
   "outputs": [],
   "source": [
    "k_brute_gpu_timings = k_timings"
   ]
  },
  {
   "cell_type": "markdown",
   "metadata": {},
   "source": [
    "So already we're down two orders of magnitude, but we want ONE more order of magnitude speed-up!"
   ]
  }
 ],
 "metadata": {
  "kernelspec": {
   "display_name": "ExatrkxTest",
   "language": "python",
   "name": "exatrkx-test"
  },
  "language_info": {
   "codemirror_mode": {
    "name": "ipython",
    "version": 3
   },
   "file_extension": ".py",
   "mimetype": "text/x-python",
   "name": "python",
   "nbconvert_exporter": "python",
   "pygments_lexer": "ipython3",
   "version": "3.7.7"
  }
 },
 "nbformat": 4,
 "nbformat_minor": 4
}
