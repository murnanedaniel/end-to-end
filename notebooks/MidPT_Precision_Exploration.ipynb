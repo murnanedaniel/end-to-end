{
 "cells": [
  {
   "cell_type": "markdown",
   "metadata": {},
   "source": [
    "# End-to-End Architecture Performance Comparisons"
   ]
  },
  {
   "cell_type": "code",
   "execution_count": 1,
   "metadata": {
    "code_folding": []
   },
   "outputs": [],
   "source": [
    "# System imports\n",
    "import os\n",
    "import sys\n",
    "from pprint import pprint as pp\n",
    "from time import time as tt\n",
    "import inspect\n",
    "import importlib\n",
    "\n",
    "# External imports\n",
    "import matplotlib.pyplot as plt\n",
    "import matplotlib.colors\n",
    "import scipy as sp\n",
    "from sklearn.decomposition import PCA\n",
    "from sklearn.metrics import auc\n",
    "import numpy as np\n",
    "import pandas as pd\n",
    "import seaborn as sns\n",
    "import torch\n",
    "from torch_geometric.data import DataLoader\n",
    "from mpl_toolkits.mplot3d import Axes3D\n",
    "\n",
    "from itertools import chain\n",
    "\n",
    "from torch.nn import Linear\n",
    "import torch.nn.functional as F\n",
    "from torch_scatter import scatter, segment_csr, scatter_add\n",
    "from torch_geometric.nn.conv import MessagePassing\n",
    "from torch_cluster import knn_graph, radius_graph\n",
    "import trackml.dataset\n",
    "import torch_geometric\n",
    "from itertools import permutations\n",
    "\n",
    "import ipywidgets as widgets\n",
    "from ipywidgets import interact, interact_manual\n",
    "\n",
    "from sklearn.cluster import DBSCAN\n",
    "from sklearn import metrics\n",
    "\n",
    "# Limit CPU usage on Jupyter\n",
    "os.environ['OMP_NUM_THREADS'] = '4'\n",
    "\n",
    "# Pick up local packages\n",
    "sys.path.append('..')\n",
    "\n",
    "# Local imports\n",
    "from prepare_utils import prepare_event\n",
    "from toy_utils import *\n",
    "from models import *\n",
    "from trainers import *\n",
    "%matplotlib inline\n",
    "\n",
    "# Get rid of RuntimeWarnings, gross\n",
    "import warnings\n",
    "warnings.filterwarnings(\"ignore\", category=RuntimeWarning)\n",
    "device = 'cuda' if torch.cuda.is_available() else 'cpu'\n",
    "import wandb\n",
    "import faiss\n",
    "props = dict(boxstyle='round', facecolor='wheat', alpha=0.5)\n",
    "torch_seed = 0"
   ]
  },
  {
   "cell_type": "code",
   "execution_count": 2,
   "metadata": {},
   "outputs": [],
   "source": [
    "from apex.parallel import DistributedDataParallel as DDP\n",
    "from apex.fp16_utils import *\n",
    "from apex import amp, optimizers"
   ]
  },
  {
   "cell_type": "code",
   "execution_count": 10,
   "metadata": {},
   "outputs": [],
   "source": [
    "importlib.reload(sys.modules['toy_utils'])\n",
    "from toy_utils import *"
   ]
  },
  {
   "cell_type": "code",
   "execution_count": 10,
   "metadata": {},
   "outputs": [],
   "source": [
    "importlib.reload(sys.modules['models'])\n",
    "from models import *"
   ]
  },
  {
   "cell_type": "markdown",
   "metadata": {},
   "source": [
    "## Data Preparation"
   ]
  },
  {
   "cell_type": "markdown",
   "metadata": {
    "heading_collapsed": true
   },
   "source": [
    "### Load & Save Raw Data"
   ]
  },
  {
   "cell_type": "markdown",
   "metadata": {
    "hidden": true
   },
   "source": [
    "Load events:"
   ]
  },
  {
   "cell_type": "code",
   "execution_count": 55,
   "metadata": {
    "hidden": true
   },
   "outputs": [],
   "source": [
    "input_dir = \"/global/cscratch1/sd/danieltm/ExaTrkX/trackml/train_all/\"\n",
    "save_dir = \"/global/cscratch1/sd/danieltm/ExaTrkX/trackml_processed/\"\n",
    "all_events = os.listdir(input_dir)\n",
    "all_events = [input_dir + event[:14] for event in all_events]\n",
    "np.random.shuffle(all_events)"
   ]
  },
  {
   "cell_type": "code",
   "execution_count": 56,
   "metadata": {
    "hidden": true
   },
   "outputs": [],
   "source": [
    "pt_cut = 0.5\n",
    "train_number = 1000\n",
    "test_number = 100\n",
    "basename = os.path.join(save_dir, str(pt_cut) + \"_pt_cut\")\n",
    "os.makedirs(basename, exist_ok=True)"
   ]
  },
  {
   "cell_type": "code",
   "execution_count": 27,
   "metadata": {
    "hidden": true,
    "scrolled": true
   },
   "outputs": [
    {
     "name": "stdout",
     "output_type": "stream",
     "text": [
      "Preparing /global/cscratch1/sd/danieltm/ExaTrkX/trackml/train_all/event000008103\n",
      "Preparing /global/cscratch1/sd/danieltm/ExaTrkX/trackml/train_all/event000003521\n",
      "Preparing /global/cscratch1/sd/danieltm/ExaTrkX/trackml/train_all/event000008528\n",
      "Preparing /global/cscratch1/sd/danieltm/ExaTrkX/trackml/train_all/event000008498\n",
      "Preparing /global/cscratch1/sd/danieltm/ExaTrkX/trackml/train_all/event000007255\n",
      "Preparing /global/cscratch1/sd/danieltm/ExaTrkX/trackml/train_all/event000002461\n",
      "Preparing /global/cscratch1/sd/danieltm/ExaTrkX/trackml/train_all/event000008676\n",
      "Preparing /global/cscratch1/sd/danieltm/ExaTrkX/trackml/train_all/event000001494\n",
      "Preparing /global/cscratch1/sd/danieltm/ExaTrkX/trackml/train_all/event000004281\n",
      "Preparing /global/cscratch1/sd/danieltm/ExaTrkX/trackml/train_all/event000003996\n",
      "Preparing /global/cscratch1/sd/danieltm/ExaTrkX/trackml/train_all/event000008383\n",
      "Preparing /global/cscratch1/sd/danieltm/ExaTrkX/trackml/train_all/event000009217\n",
      "Preparing /global/cscratch1/sd/danieltm/ExaTrkX/trackml/train_all/event000002346\n",
      "Preparing /global/cscratch1/sd/danieltm/ExaTrkX/trackml/train_all/event000007173\n",
      "Preparing /global/cscratch1/sd/danieltm/ExaTrkX/trackml/train_all/event000005851\n",
      "Preparing /global/cscratch1/sd/danieltm/ExaTrkX/trackml/train_all/event000003851\n",
      "Preparing /global/cscratch1/sd/danieltm/ExaTrkX/trackml/train_all/event000001355\n",
      "Preparing /global/cscratch1/sd/danieltm/ExaTrkX/trackml/train_all/event000006346\n",
      "Preparing /global/cscratch1/sd/danieltm/ExaTrkX/trackml/train_all/event000009935\n",
      "Preparing /global/cscratch1/sd/danieltm/ExaTrkX/trackml/train_all/event000004103\n",
      "Preparing /global/cscratch1/sd/danieltm/ExaTrkX/trackml/train_all/event000006268\n",
      "Preparing /global/cscratch1/sd/danieltm/ExaTrkX/trackml/train_all/event000009886\n",
      "Preparing /global/cscratch1/sd/danieltm/ExaTrkX/trackml/train_all/event000007052\n",
      "Preparing /global/cscratch1/sd/danieltm/ExaTrkX/trackml/train_all/event000009059\n",
      "Preparing /global/cscratch1/sd/danieltm/ExaTrkX/trackml/train_all/event000007269\n",
      "Preparing /global/cscratch1/sd/danieltm/ExaTrkX/trackml/train_all/event000002842\n",
      "Preparing /global/cscratch1/sd/danieltm/ExaTrkX/trackml/train_all/event000009930\n",
      "Preparing /global/cscratch1/sd/danieltm/ExaTrkX/trackml/train_all/event000007066\n",
      "Preparing /global/cscratch1/sd/danieltm/ExaTrkX/trackml/train_all/event000008864\n",
      "Preparing /global/cscratch1/sd/danieltm/ExaTrkX/trackml/train_all/event000004543\n",
      "Preparing /global/cscratch1/sd/danieltm/ExaTrkX/trackml/train_all/event000002087\n",
      "Preparing /global/cscratch1/sd/danieltm/ExaTrkX/trackml/train_all/event000008626\n",
      "Preparing /global/cscratch1/sd/danieltm/ExaTrkX/trackml/train_all/event000009473\n",
      "Preparing /global/cscratch1/sd/danieltm/ExaTrkX/trackml/train_all/event000009308\n",
      "Preparing /global/cscratch1/sd/danieltm/ExaTrkX/trackml/train_all/event000003831\n",
      "Preparing /global/cscratch1/sd/danieltm/ExaTrkX/trackml/train_all/event000003440\n",
      "Preparing /global/cscratch1/sd/danieltm/ExaTrkX/trackml/train_all/event000003770\n",
      "Preparing /global/cscratch1/sd/danieltm/ExaTrkX/trackml/train_all/event000001909\n",
      "Preparing /global/cscratch1/sd/danieltm/ExaTrkX/trackml/train_all/event000004144\n",
      "Preparing /global/cscratch1/sd/danieltm/ExaTrkX/trackml/train_all/event000004219\n",
      "Preparing /global/cscratch1/sd/danieltm/ExaTrkX/trackml/train_all/event000004181\n",
      "Preparing /global/cscratch1/sd/danieltm/ExaTrkX/trackml/train_all/event000004712\n",
      "Preparing /global/cscratch1/sd/danieltm/ExaTrkX/trackml/train_all/event000001021\n",
      "Preparing /global/cscratch1/sd/danieltm/ExaTrkX/trackml/train_all/event000004321\n",
      "Preparing /global/cscratch1/sd/danieltm/ExaTrkX/trackml/train_all/event000005562\n",
      "Preparing /global/cscratch1/sd/danieltm/ExaTrkX/trackml/train_all/event000004369\n",
      "Preparing /global/cscratch1/sd/danieltm/ExaTrkX/trackml/train_all/event000009273\n",
      "Preparing /global/cscratch1/sd/danieltm/ExaTrkX/trackml/train_all/event000008823\n",
      "Preparing /global/cscratch1/sd/danieltm/ExaTrkX/trackml/train_all/event000008209\n",
      "Preparing /global/cscratch1/sd/danieltm/ExaTrkX/trackml/train_all/event000005281\n",
      "Preparing /global/cscratch1/sd/danieltm/ExaTrkX/trackml/train_all/event000009548\n",
      "Preparing /global/cscratch1/sd/danieltm/ExaTrkX/trackml/train_all/event000002118\n",
      "Preparing /global/cscratch1/sd/danieltm/ExaTrkX/trackml/train_all/event000001776\n",
      "Preparing /global/cscratch1/sd/danieltm/ExaTrkX/trackml/train_all/event000008793\n",
      "Preparing /global/cscratch1/sd/danieltm/ExaTrkX/trackml/train_all/event000008322\n",
      "Preparing /global/cscratch1/sd/danieltm/ExaTrkX/trackml/train_all/event000009477\n",
      "Preparing /global/cscratch1/sd/danieltm/ExaTrkX/trackml/train_all/event000005187\n",
      "Preparing /global/cscratch1/sd/danieltm/ExaTrkX/trackml/train_all/event000003988\n",
      "Preparing /global/cscratch1/sd/danieltm/ExaTrkX/trackml/train_all/event000001042\n",
      "Preparing /global/cscratch1/sd/danieltm/ExaTrkX/trackml/train_all/event000009315\n",
      "Preparing /global/cscratch1/sd/danieltm/ExaTrkX/trackml/train_all/event000005464\n",
      "Preparing /global/cscratch1/sd/danieltm/ExaTrkX/trackml/train_all/event000002502\n",
      "Preparing /global/cscratch1/sd/danieltm/ExaTrkX/trackml/train_all/event000001360\n",
      "Preparing /global/cscratch1/sd/danieltm/ExaTrkX/trackml/train_all/event000001775\n",
      "Preparing /global/cscratch1/sd/danieltm/ExaTrkX/trackml/train_all/event000006092\n",
      "Preparing /global/cscratch1/sd/danieltm/ExaTrkX/trackml/train_all/event000008977\n",
      "Preparing /global/cscratch1/sd/danieltm/ExaTrkX/trackml/train_all/event000004527\n",
      "Preparing /global/cscratch1/sd/danieltm/ExaTrkX/trackml/train_all/event000002868\n",
      "Preparing /global/cscratch1/sd/danieltm/ExaTrkX/trackml/train_all/event000005470\n",
      "Preparing /global/cscratch1/sd/danieltm/ExaTrkX/trackml/train_all/event000002365\n",
      "Preparing /global/cscratch1/sd/danieltm/ExaTrkX/trackml/train_all/event000004638\n",
      "Preparing /global/cscratch1/sd/danieltm/ExaTrkX/trackml/train_all/event000008848\n",
      "Preparing /global/cscratch1/sd/danieltm/ExaTrkX/trackml/train_all/event000006711\n",
      "Preparing /global/cscratch1/sd/danieltm/ExaTrkX/trackml/train_all/event000009883\n",
      "Preparing /global/cscratch1/sd/danieltm/ExaTrkX/trackml/train_all/event000008830\n",
      "Preparing /global/cscratch1/sd/danieltm/ExaTrkX/trackml/train_all/event000002685\n",
      "Preparing /global/cscratch1/sd/danieltm/ExaTrkX/trackml/train_all/event000001101\n",
      "Preparing /global/cscratch1/sd/danieltm/ExaTrkX/trackml/train_all/event000004122\n",
      "Preparing /global/cscratch1/sd/danieltm/ExaTrkX/trackml/train_all/event000007325\n",
      "Preparing /global/cscratch1/sd/danieltm/ExaTrkX/trackml/train_all/event000003472\n",
      "Preparing /global/cscratch1/sd/danieltm/ExaTrkX/trackml/train_all/event000004477\n",
      "Preparing /global/cscratch1/sd/danieltm/ExaTrkX/trackml/train_all/event000002458\n",
      "Preparing /global/cscratch1/sd/danieltm/ExaTrkX/trackml/train_all/event000003941\n",
      "Preparing /global/cscratch1/sd/danieltm/ExaTrkX/trackml/train_all/event000003719\n",
      "Preparing /global/cscratch1/sd/danieltm/ExaTrkX/trackml/train_all/event000002342\n",
      "Preparing /global/cscratch1/sd/danieltm/ExaTrkX/trackml/train_all/event000009136\n",
      "Preparing /global/cscratch1/sd/danieltm/ExaTrkX/trackml/train_all/event000003942\n",
      "Preparing /global/cscratch1/sd/danieltm/ExaTrkX/trackml/train_all/event000002471\n",
      "Preparing /global/cscratch1/sd/danieltm/ExaTrkX/trackml/train_all/event000009995\n",
      "Preparing /global/cscratch1/sd/danieltm/ExaTrkX/trackml/train_all/event000003242\n",
      "Preparing /global/cscratch1/sd/danieltm/ExaTrkX/trackml/train_all/event000006044\n",
      "Preparing /global/cscratch1/sd/danieltm/ExaTrkX/trackml/train_all/event000001193\n",
      "Preparing /global/cscratch1/sd/danieltm/ExaTrkX/trackml/train_all/event000002371\n",
      "Preparing /global/cscratch1/sd/danieltm/ExaTrkX/trackml/train_all/event000001205\n",
      "Preparing /global/cscratch1/sd/danieltm/ExaTrkX/trackml/train_all/event000004590\n",
      "Preparing /global/cscratch1/sd/danieltm/ExaTrkX/trackml/train_all/event000004536\n",
      "Preparing /global/cscratch1/sd/danieltm/ExaTrkX/trackml/train_all/event000009225\n",
      "Preparing /global/cscratch1/sd/danieltm/ExaTrkX/trackml/train_all/event000007064\n",
      "Preparing /global/cscratch1/sd/danieltm/ExaTrkX/trackml/train_all/event000006848\n",
      "Preparing /global/cscratch1/sd/danieltm/ExaTrkX/trackml/train_all/event000006572\n",
      "Preparing /global/cscratch1/sd/danieltm/ExaTrkX/trackml/train_all/event000008473\n",
      "Preparing /global/cscratch1/sd/danieltm/ExaTrkX/trackml/train_all/event000002628\n"
     ]
    },
    {
     "name": "stdout",
     "output_type": "stream",
     "text": [
      "Preparing /global/cscratch1/sd/danieltm/ExaTrkX/trackml/train_all/event000009453\n",
      "Preparing /global/cscratch1/sd/danieltm/ExaTrkX/trackml/train_all/event000002679\n",
      "Preparing /global/cscratch1/sd/danieltm/ExaTrkX/trackml/train_all/event000009065\n",
      "Preparing /global/cscratch1/sd/danieltm/ExaTrkX/trackml/train_all/event000004702\n",
      "Preparing /global/cscratch1/sd/danieltm/ExaTrkX/trackml/train_all/event000002612\n",
      "Preparing /global/cscratch1/sd/danieltm/ExaTrkX/trackml/train_all/event000001971\n",
      "Preparing /global/cscratch1/sd/danieltm/ExaTrkX/trackml/train_all/event000004948\n",
      "Preparing /global/cscratch1/sd/danieltm/ExaTrkX/trackml/train_all/event000008267\n",
      "Preparing /global/cscratch1/sd/danieltm/ExaTrkX/trackml/train_all/event000009773\n",
      "Preparing /global/cscratch1/sd/danieltm/ExaTrkX/trackml/train_all/event000003197\n",
      "Preparing /global/cscratch1/sd/danieltm/ExaTrkX/trackml/train_all/event000003105\n",
      "Preparing /global/cscratch1/sd/danieltm/ExaTrkX/trackml/train_all/event000007072\n",
      "Preparing /global/cscratch1/sd/danieltm/ExaTrkX/trackml/train_all/event000006583\n",
      "Preparing /global/cscratch1/sd/danieltm/ExaTrkX/trackml/train_all/event000001772\n",
      "Preparing /global/cscratch1/sd/danieltm/ExaTrkX/trackml/train_all/event000009862\n",
      "Preparing /global/cscratch1/sd/danieltm/ExaTrkX/trackml/train_all/event000007986\n",
      "Preparing /global/cscratch1/sd/danieltm/ExaTrkX/trackml/train_all/event000001322\n",
      "Preparing /global/cscratch1/sd/danieltm/ExaTrkX/trackml/train_all/event000007748\n",
      "Preparing /global/cscratch1/sd/danieltm/ExaTrkX/trackml/train_all/event000006387\n",
      "Preparing /global/cscratch1/sd/danieltm/ExaTrkX/trackml/train_all/event000007899\n",
      "Preparing /global/cscratch1/sd/danieltm/ExaTrkX/trackml/train_all/event000006138\n",
      "Preparing /global/cscratch1/sd/danieltm/ExaTrkX/trackml/train_all/event000006197\n",
      "Preparing /global/cscratch1/sd/danieltm/ExaTrkX/trackml/train_all/event000001566\n",
      "Preparing /global/cscratch1/sd/danieltm/ExaTrkX/trackml/train_all/event000003408\n",
      "Preparing /global/cscratch1/sd/danieltm/ExaTrkX/trackml/train_all/event000005876\n",
      "Preparing /global/cscratch1/sd/danieltm/ExaTrkX/trackml/train_all/event000006485\n",
      "Preparing /global/cscratch1/sd/danieltm/ExaTrkX/trackml/train_all/event000006322\n",
      "Preparing /global/cscratch1/sd/danieltm/ExaTrkX/trackml/train_all/event000001586\n",
      "Preparing /global/cscratch1/sd/danieltm/ExaTrkX/trackml/train_all/event000008093\n",
      "Preparing /global/cscratch1/sd/danieltm/ExaTrkX/trackml/train_all/event000004833\n",
      "Preparing /global/cscratch1/sd/danieltm/ExaTrkX/trackml/train_all/event000006653\n",
      "Preparing /global/cscratch1/sd/danieltm/ExaTrkX/trackml/train_all/event000006134\n",
      "Preparing /global/cscratch1/sd/danieltm/ExaTrkX/trackml/train_all/event000009389\n",
      "Preparing /global/cscratch1/sd/danieltm/ExaTrkX/trackml/train_all/event000003315\n",
      "Preparing /global/cscratch1/sd/danieltm/ExaTrkX/trackml/train_all/event000006200\n",
      "Preparing /global/cscratch1/sd/danieltm/ExaTrkX/trackml/train_all/event000009240\n",
      "Preparing /global/cscratch1/sd/danieltm/ExaTrkX/trackml/train_all/event000003511\n",
      "Preparing /global/cscratch1/sd/danieltm/ExaTrkX/trackml/train_all/event000001236\n",
      "Preparing /global/cscratch1/sd/danieltm/ExaTrkX/trackml/train_all/event000003037\n",
      "Preparing /global/cscratch1/sd/danieltm/ExaTrkX/trackml/train_all/event000002267\n",
      "Preparing /global/cscratch1/sd/danieltm/ExaTrkX/trackml/train_all/event000008531\n",
      "Preparing /global/cscratch1/sd/danieltm/ExaTrkX/trackml/train_all/event000003927\n",
      "Preparing /global/cscratch1/sd/danieltm/ExaTrkX/trackml/train_all/event000004790\n",
      "Preparing /global/cscratch1/sd/danieltm/ExaTrkX/trackml/train_all/event000001055\n",
      "Preparing /global/cscratch1/sd/danieltm/ExaTrkX/trackml/train_all/event000009585\n",
      "Preparing /global/cscratch1/sd/danieltm/ExaTrkX/trackml/train_all/event000002963\n",
      "Preparing /global/cscratch1/sd/danieltm/ExaTrkX/trackml/train_all/event000001023\n",
      "Preparing /global/cscratch1/sd/danieltm/ExaTrkX/trackml/train_all/event000003049\n",
      "Preparing /global/cscratch1/sd/danieltm/ExaTrkX/trackml/train_all/event000001276\n",
      "Preparing /global/cscratch1/sd/danieltm/ExaTrkX/trackml/train_all/event000004765\n",
      "Preparing /global/cscratch1/sd/danieltm/ExaTrkX/trackml/train_all/event000003145\n",
      "Preparing /global/cscratch1/sd/danieltm/ExaTrkX/trackml/train_all/event000009195\n",
      "Preparing /global/cscratch1/sd/danieltm/ExaTrkX/trackml/train_all/event000006126\n",
      "Preparing /global/cscratch1/sd/danieltm/ExaTrkX/trackml/train_all/event000005803\n",
      "Preparing /global/cscratch1/sd/danieltm/ExaTrkX/trackml/train_all/event000006037\n",
      "Preparing /global/cscratch1/sd/danieltm/ExaTrkX/trackml/train_all/event000005470\n",
      "Preparing /global/cscratch1/sd/danieltm/ExaTrkX/trackml/train_all/event000006559\n",
      "Preparing /global/cscratch1/sd/danieltm/ExaTrkX/trackml/train_all/event000004243\n",
      "Preparing /global/cscratch1/sd/danieltm/ExaTrkX/trackml/train_all/event000001215\n",
      "Preparing /global/cscratch1/sd/danieltm/ExaTrkX/trackml/train_all/event000003437\n",
      "Preparing /global/cscratch1/sd/danieltm/ExaTrkX/trackml/train_all/event000004059\n",
      "Preparing /global/cscratch1/sd/danieltm/ExaTrkX/trackml/train_all/event000008306\n",
      "Preparing /global/cscratch1/sd/danieltm/ExaTrkX/trackml/train_all/event000009943\n",
      "Preparing /global/cscratch1/sd/danieltm/ExaTrkX/trackml/train_all/event000003820\n",
      "Preparing /global/cscratch1/sd/danieltm/ExaTrkX/trackml/train_all/event000001222\n",
      "Preparing /global/cscratch1/sd/danieltm/ExaTrkX/trackml/train_all/event000004845\n",
      "Preparing /global/cscratch1/sd/danieltm/ExaTrkX/trackml/train_all/event000004080\n",
      "Preparing /global/cscratch1/sd/danieltm/ExaTrkX/trackml/train_all/event000005613\n",
      "Preparing /global/cscratch1/sd/danieltm/ExaTrkX/trackml/train_all/event000004570\n",
      "Preparing /global/cscratch1/sd/danieltm/ExaTrkX/trackml/train_all/event000004351\n",
      "Preparing /global/cscratch1/sd/danieltm/ExaTrkX/trackml/train_all/event000007112\n",
      "Preparing /global/cscratch1/sd/danieltm/ExaTrkX/trackml/train_all/event000006149\n",
      "Preparing /global/cscratch1/sd/danieltm/ExaTrkX/trackml/train_all/event000002202\n",
      "Preparing /global/cscratch1/sd/danieltm/ExaTrkX/trackml/train_all/event000009343\n",
      "Preparing /global/cscratch1/sd/danieltm/ExaTrkX/trackml/train_all/event000004499\n",
      "Preparing /global/cscratch1/sd/danieltm/ExaTrkX/trackml/train_all/event000004628\n",
      "Preparing /global/cscratch1/sd/danieltm/ExaTrkX/trackml/train_all/event000004094\n",
      "Preparing /global/cscratch1/sd/danieltm/ExaTrkX/trackml/train_all/event000008470\n",
      "Preparing /global/cscratch1/sd/danieltm/ExaTrkX/trackml/train_all/event000004414\n",
      "Preparing /global/cscratch1/sd/danieltm/ExaTrkX/trackml/train_all/event000007381\n",
      "Preparing /global/cscratch1/sd/danieltm/ExaTrkX/trackml/train_all/event000006002\n",
      "Preparing /global/cscratch1/sd/danieltm/ExaTrkX/trackml/train_all/event000003359\n",
      "Preparing /global/cscratch1/sd/danieltm/ExaTrkX/trackml/train_all/event000001008\n",
      "Preparing /global/cscratch1/sd/danieltm/ExaTrkX/trackml/train_all/event000009191\n",
      "Preparing /global/cscratch1/sd/danieltm/ExaTrkX/trackml/train_all/event000004208\n",
      "Preparing /global/cscratch1/sd/danieltm/ExaTrkX/trackml/train_all/event000006647\n",
      "Preparing /global/cscratch1/sd/danieltm/ExaTrkX/trackml/train_all/event000005072\n",
      "Preparing /global/cscratch1/sd/danieltm/ExaTrkX/trackml/train_all/event000002233\n",
      "Preparing /global/cscratch1/sd/danieltm/ExaTrkX/trackml/train_all/event000004118\n",
      "Preparing /global/cscratch1/sd/danieltm/ExaTrkX/trackml/train_all/event000007171\n",
      "Preparing /global/cscratch1/sd/danieltm/ExaTrkX/trackml/train_all/event000008469\n",
      "Preparing /global/cscratch1/sd/danieltm/ExaTrkX/trackml/train_all/event000008575\n",
      "Preparing /global/cscratch1/sd/danieltm/ExaTrkX/trackml/train_all/event000008965\n",
      "Preparing /global/cscratch1/sd/danieltm/ExaTrkX/trackml/train_all/event000006722\n",
      "Preparing /global/cscratch1/sd/danieltm/ExaTrkX/trackml/train_all/event000001181\n",
      "Preparing /global/cscratch1/sd/danieltm/ExaTrkX/trackml/train_all/event000009955\n",
      "Preparing /global/cscratch1/sd/danieltm/ExaTrkX/trackml/train_all/event000002497\n",
      "Preparing /global/cscratch1/sd/danieltm/ExaTrkX/trackml/train_all/event000004032\n",
      "Preparing /global/cscratch1/sd/danieltm/ExaTrkX/trackml/train_all/event000007828\n",
      "Preparing /global/cscratch1/sd/danieltm/ExaTrkX/trackml/train_all/event000009892\n",
      "Preparing /global/cscratch1/sd/danieltm/ExaTrkX/trackml/train_all/event000003417\n",
      "Preparing /global/cscratch1/sd/danieltm/ExaTrkX/trackml/train_all/event000009645\n"
     ]
    },
    {
     "name": "stdout",
     "output_type": "stream",
     "text": [
      "Preparing /global/cscratch1/sd/danieltm/ExaTrkX/trackml/train_all/event000004361\n",
      "Preparing /global/cscratch1/sd/danieltm/ExaTrkX/trackml/train_all/event000006886\n",
      "Preparing /global/cscratch1/sd/danieltm/ExaTrkX/trackml/train_all/event000005598\n",
      "Preparing /global/cscratch1/sd/danieltm/ExaTrkX/trackml/train_all/event000006720\n",
      "Preparing /global/cscratch1/sd/danieltm/ExaTrkX/trackml/train_all/event000004993\n",
      "Preparing /global/cscratch1/sd/danieltm/ExaTrkX/trackml/train_all/event000001258\n",
      "Preparing /global/cscratch1/sd/danieltm/ExaTrkX/trackml/train_all/event000008389\n",
      "Preparing /global/cscratch1/sd/danieltm/ExaTrkX/trackml/train_all/event000009668\n",
      "Preparing /global/cscratch1/sd/danieltm/ExaTrkX/trackml/train_all/event000001250\n",
      "Preparing /global/cscratch1/sd/danieltm/ExaTrkX/trackml/train_all/event000008122\n",
      "Preparing /global/cscratch1/sd/danieltm/ExaTrkX/trackml/train_all/event000004997\n",
      "Preparing /global/cscratch1/sd/danieltm/ExaTrkX/trackml/train_all/event000009723\n",
      "Preparing /global/cscratch1/sd/danieltm/ExaTrkX/trackml/train_all/event000003329\n",
      "Preparing /global/cscratch1/sd/danieltm/ExaTrkX/trackml/train_all/event000003433\n",
      "Preparing /global/cscratch1/sd/danieltm/ExaTrkX/trackml/train_all/event000008770\n",
      "Preparing /global/cscratch1/sd/danieltm/ExaTrkX/trackml/train_all/event000001541\n",
      "Preparing /global/cscratch1/sd/danieltm/ExaTrkX/trackml/train_all/event000005474\n",
      "Preparing /global/cscratch1/sd/danieltm/ExaTrkX/trackml/train_all/event000006583\n",
      "Preparing /global/cscratch1/sd/danieltm/ExaTrkX/trackml/train_all/event000007665\n",
      "Preparing /global/cscratch1/sd/danieltm/ExaTrkX/trackml/train_all/event000008910\n",
      "Preparing /global/cscratch1/sd/danieltm/ExaTrkX/trackml/train_all/event000002788\n",
      "Preparing /global/cscratch1/sd/danieltm/ExaTrkX/trackml/train_all/event000008114\n",
      "Preparing /global/cscratch1/sd/danieltm/ExaTrkX/trackml/train_all/event000008494\n",
      "Preparing /global/cscratch1/sd/danieltm/ExaTrkX/trackml/train_all/event000006600\n",
      "Preparing /global/cscratch1/sd/danieltm/ExaTrkX/trackml/train_all/event000004120\n",
      "Preparing /global/cscratch1/sd/danieltm/ExaTrkX/trackml/train_all/event000003228\n",
      "Preparing /global/cscratch1/sd/danieltm/ExaTrkX/trackml/train_all/event000003508\n",
      "Preparing /global/cscratch1/sd/danieltm/ExaTrkX/trackml/train_all/event000001233\n",
      "Preparing /global/cscratch1/sd/danieltm/ExaTrkX/trackml/train_all/event000004792\n",
      "Preparing /global/cscratch1/sd/danieltm/ExaTrkX/trackml/train_all/event000003307\n",
      "Preparing /global/cscratch1/sd/danieltm/ExaTrkX/trackml/train_all/event000005212\n",
      "Preparing /global/cscratch1/sd/danieltm/ExaTrkX/trackml/train_all/event000007126\n",
      "Preparing /global/cscratch1/sd/danieltm/ExaTrkX/trackml/train_all/event000008551\n",
      "Preparing /global/cscratch1/sd/danieltm/ExaTrkX/trackml/train_all/event000003588\n",
      "Preparing /global/cscratch1/sd/danieltm/ExaTrkX/trackml/train_all/event000004820\n",
      "Preparing /global/cscratch1/sd/danieltm/ExaTrkX/trackml/train_all/event000006265\n",
      "Preparing /global/cscratch1/sd/danieltm/ExaTrkX/trackml/train_all/event000008398\n",
      "Preparing /global/cscratch1/sd/danieltm/ExaTrkX/trackml/train_all/event000008273\n",
      "Preparing /global/cscratch1/sd/danieltm/ExaTrkX/trackml/train_all/event000006371\n",
      "Preparing /global/cscratch1/sd/danieltm/ExaTrkX/trackml/train_all/event000001746\n",
      "Preparing /global/cscratch1/sd/danieltm/ExaTrkX/trackml/train_all/event000009616\n",
      "Preparing /global/cscratch1/sd/danieltm/ExaTrkX/trackml/train_all/event000008372\n",
      "Preparing /global/cscratch1/sd/danieltm/ExaTrkX/trackml/train_all/event000009056\n",
      "Preparing /global/cscratch1/sd/danieltm/ExaTrkX/trackml/train_all/event000001024\n",
      "Preparing /global/cscratch1/sd/danieltm/ExaTrkX/trackml/train_all/event000003573\n",
      "Preparing /global/cscratch1/sd/danieltm/ExaTrkX/trackml/train_all/event000002512\n",
      "Preparing /global/cscratch1/sd/danieltm/ExaTrkX/trackml/train_all/event000004399\n",
      "Preparing /global/cscratch1/sd/danieltm/ExaTrkX/trackml/train_all/event000002651\n",
      "Preparing /global/cscratch1/sd/danieltm/ExaTrkX/trackml/train_all/event000002876\n",
      "Preparing /global/cscratch1/sd/danieltm/ExaTrkX/trackml/train_all/event000009745\n",
      "Preparing /global/cscratch1/sd/danieltm/ExaTrkX/trackml/train_all/event000002188\n",
      "Preparing /global/cscratch1/sd/danieltm/ExaTrkX/trackml/train_all/event000007964\n",
      "Preparing /global/cscratch1/sd/danieltm/ExaTrkX/trackml/train_all/event000007317\n",
      "Preparing /global/cscratch1/sd/danieltm/ExaTrkX/trackml/train_all/event000006071\n",
      "Preparing /global/cscratch1/sd/danieltm/ExaTrkX/trackml/train_all/event000003132\n",
      "Preparing /global/cscratch1/sd/danieltm/ExaTrkX/trackml/train_all/event000002875\n",
      "Preparing /global/cscratch1/sd/danieltm/ExaTrkX/trackml/train_all/event000005667\n",
      "Preparing /global/cscratch1/sd/danieltm/ExaTrkX/trackml/train_all/event000005744\n",
      "Preparing /global/cscratch1/sd/danieltm/ExaTrkX/trackml/train_all/event000001567\n",
      "Preparing /global/cscratch1/sd/danieltm/ExaTrkX/trackml/train_all/event000004087\n",
      "Preparing /global/cscratch1/sd/danieltm/ExaTrkX/trackml/train_all/event000004637\n",
      "Preparing /global/cscratch1/sd/danieltm/ExaTrkX/trackml/train_all/event000006994\n",
      "Preparing /global/cscratch1/sd/danieltm/ExaTrkX/trackml/train_all/event000002789\n",
      "Preparing /global/cscratch1/sd/danieltm/ExaTrkX/trackml/train_all/event000002288\n",
      "Preparing /global/cscratch1/sd/danieltm/ExaTrkX/trackml/train_all/event000008850\n",
      "Preparing /global/cscratch1/sd/danieltm/ExaTrkX/trackml/train_all/event000008437\n",
      "Preparing /global/cscratch1/sd/danieltm/ExaTrkX/trackml/train_all/event000006140\n",
      "Preparing /global/cscratch1/sd/danieltm/ExaTrkX/trackml/train_all/event000002034\n",
      "Preparing /global/cscratch1/sd/danieltm/ExaTrkX/trackml/train_all/event000007291\n",
      "Preparing /global/cscratch1/sd/danieltm/ExaTrkX/trackml/train_all/event000007141\n",
      "Preparing /global/cscratch1/sd/danieltm/ExaTrkX/trackml/train_all/event000008839\n",
      "Preparing /global/cscratch1/sd/danieltm/ExaTrkX/trackml/train_all/event000003696\n",
      "Preparing /global/cscratch1/sd/danieltm/ExaTrkX/trackml/train_all/event000001178\n",
      "Preparing /global/cscratch1/sd/danieltm/ExaTrkX/trackml/train_all/event000002931\n",
      "Preparing /global/cscratch1/sd/danieltm/ExaTrkX/trackml/train_all/event000002559\n",
      "Preparing /global/cscratch1/sd/danieltm/ExaTrkX/trackml/train_all/event000008683\n",
      "Preparing /global/cscratch1/sd/danieltm/ExaTrkX/trackml/train_all/event000008848\n",
      "Preparing /global/cscratch1/sd/danieltm/ExaTrkX/trackml/train_all/event000004848\n",
      "Preparing /global/cscratch1/sd/danieltm/ExaTrkX/trackml/train_all/event000009386\n",
      "Preparing /global/cscratch1/sd/danieltm/ExaTrkX/trackml/train_all/event000009178\n",
      "Preparing /global/cscratch1/sd/danieltm/ExaTrkX/trackml/train_all/event000003993\n",
      "Preparing /global/cscratch1/sd/danieltm/ExaTrkX/trackml/train_all/event000007886\n",
      "Preparing /global/cscratch1/sd/danieltm/ExaTrkX/trackml/train_all/event000003307\n",
      "Preparing /global/cscratch1/sd/danieltm/ExaTrkX/trackml/train_all/event000002195\n",
      "Preparing /global/cscratch1/sd/danieltm/ExaTrkX/trackml/train_all/event000001544\n",
      "Preparing /global/cscratch1/sd/danieltm/ExaTrkX/trackml/train_all/event000007957\n",
      "Preparing /global/cscratch1/sd/danieltm/ExaTrkX/trackml/train_all/event000009409\n",
      "Preparing /global/cscratch1/sd/danieltm/ExaTrkX/trackml/train_all/event000007765\n",
      "Preparing /global/cscratch1/sd/danieltm/ExaTrkX/trackml/train_all/event000006599\n",
      "Preparing /global/cscratch1/sd/danieltm/ExaTrkX/trackml/train_all/event000005337\n",
      "Preparing /global/cscratch1/sd/danieltm/ExaTrkX/trackml/train_all/event000003409\n",
      "Preparing /global/cscratch1/sd/danieltm/ExaTrkX/trackml/train_all/event000005149\n",
      "Preparing /global/cscratch1/sd/danieltm/ExaTrkX/trackml/train_all/event000001565\n",
      "Preparing /global/cscratch1/sd/danieltm/ExaTrkX/trackml/train_all/event000006458\n",
      "Preparing /global/cscratch1/sd/danieltm/ExaTrkX/trackml/train_all/event000004273\n",
      "Preparing /global/cscratch1/sd/danieltm/ExaTrkX/trackml/train_all/event000007153\n",
      "Preparing /global/cscratch1/sd/danieltm/ExaTrkX/trackml/train_all/event000006647\n",
      "Preparing /global/cscratch1/sd/danieltm/ExaTrkX/trackml/train_all/event000003451\n",
      "Preparing /global/cscratch1/sd/danieltm/ExaTrkX/trackml/train_all/event000001892\n",
      "Preparing /global/cscratch1/sd/danieltm/ExaTrkX/trackml/train_all/event000005588\n",
      "Preparing /global/cscratch1/sd/danieltm/ExaTrkX/trackml/train_all/event000004864\n",
      "Preparing /global/cscratch1/sd/danieltm/ExaTrkX/trackml/train_all/event000002244\n"
     ]
    },
    {
     "name": "stdout",
     "output_type": "stream",
     "text": [
      "Preparing /global/cscratch1/sd/danieltm/ExaTrkX/trackml/train_all/event000005280\n",
      "Preparing /global/cscratch1/sd/danieltm/ExaTrkX/trackml/train_all/event000002823\n",
      "Preparing /global/cscratch1/sd/danieltm/ExaTrkX/trackml/train_all/event000002605\n",
      "Preparing /global/cscratch1/sd/danieltm/ExaTrkX/trackml/train_all/event000007290\n",
      "Preparing /global/cscratch1/sd/danieltm/ExaTrkX/trackml/train_all/event000008259\n",
      "Preparing /global/cscratch1/sd/danieltm/ExaTrkX/trackml/train_all/event000009325\n",
      "Preparing /global/cscratch1/sd/danieltm/ExaTrkX/trackml/train_all/event000004206\n",
      "Preparing /global/cscratch1/sd/danieltm/ExaTrkX/trackml/train_all/event000006122\n",
      "Preparing /global/cscratch1/sd/danieltm/ExaTrkX/trackml/train_all/event000008994\n",
      "Preparing /global/cscratch1/sd/danieltm/ExaTrkX/trackml/train_all/event000001533\n",
      "Preparing /global/cscratch1/sd/danieltm/ExaTrkX/trackml/train_all/event000009434\n",
      "Preparing /global/cscratch1/sd/danieltm/ExaTrkX/trackml/train_all/event000009873\n",
      "Preparing /global/cscratch1/sd/danieltm/ExaTrkX/trackml/train_all/event000004164\n",
      "Preparing /global/cscratch1/sd/danieltm/ExaTrkX/trackml/train_all/event000009677\n",
      "Preparing /global/cscratch1/sd/danieltm/ExaTrkX/trackml/train_all/event000007729\n",
      "Preparing /global/cscratch1/sd/danieltm/ExaTrkX/trackml/train_all/event000009150\n",
      "Preparing /global/cscratch1/sd/danieltm/ExaTrkX/trackml/train_all/event000002252\n",
      "Preparing /global/cscratch1/sd/danieltm/ExaTrkX/trackml/train_all/event000005797\n",
      "Preparing /global/cscratch1/sd/danieltm/ExaTrkX/trackml/train_all/event000001246\n",
      "Preparing /global/cscratch1/sd/danieltm/ExaTrkX/trackml/train_all/event000005420\n",
      "Preparing /global/cscratch1/sd/danieltm/ExaTrkX/trackml/train_all/event000002300\n",
      "Preparing /global/cscratch1/sd/danieltm/ExaTrkX/trackml/train_all/event000001422\n",
      "Preparing /global/cscratch1/sd/danieltm/ExaTrkX/trackml/train_all/event000002390\n",
      "Preparing /global/cscratch1/sd/danieltm/ExaTrkX/trackml/train_all/event000004147\n",
      "Preparing /global/cscratch1/sd/danieltm/ExaTrkX/trackml/train_all/event000002636\n",
      "Preparing /global/cscratch1/sd/danieltm/ExaTrkX/trackml/train_all/event000005785\n",
      "Preparing /global/cscratch1/sd/danieltm/ExaTrkX/trackml/train_all/event000003060\n",
      "Preparing /global/cscratch1/sd/danieltm/ExaTrkX/trackml/train_all/event000005806\n",
      "Preparing /global/cscratch1/sd/danieltm/ExaTrkX/trackml/train_all/event000004817\n",
      "Preparing /global/cscratch1/sd/danieltm/ExaTrkX/trackml/train_all/event000008399\n",
      "Preparing /global/cscratch1/sd/danieltm/ExaTrkX/trackml/train_all/event000005855\n",
      "Preparing /global/cscratch1/sd/danieltm/ExaTrkX/trackml/train_all/event000002155\n",
      "Preparing /global/cscratch1/sd/danieltm/ExaTrkX/trackml/train_all/event000003191\n",
      "Preparing /global/cscratch1/sd/danieltm/ExaTrkX/trackml/train_all/event000006758\n",
      "Preparing /global/cscratch1/sd/danieltm/ExaTrkX/trackml/train_all/event000004649\n",
      "Preparing /global/cscratch1/sd/danieltm/ExaTrkX/trackml/train_all/event000001298\n",
      "Preparing /global/cscratch1/sd/danieltm/ExaTrkX/trackml/train_all/event000007497\n",
      "Preparing /global/cscratch1/sd/danieltm/ExaTrkX/trackml/train_all/event000001511\n",
      "Preparing /global/cscratch1/sd/danieltm/ExaTrkX/trackml/train_all/event000002966\n",
      "Preparing /global/cscratch1/sd/danieltm/ExaTrkX/trackml/train_all/event000001106\n",
      "Preparing /global/cscratch1/sd/danieltm/ExaTrkX/trackml/train_all/event000004153\n",
      "Preparing /global/cscratch1/sd/danieltm/ExaTrkX/trackml/train_all/event000004029\n",
      "Preparing /global/cscratch1/sd/danieltm/ExaTrkX/trackml/train_all/event000001357\n",
      "Preparing /global/cscratch1/sd/danieltm/ExaTrkX/trackml/train_all/event000003671\n",
      "Preparing /global/cscratch1/sd/danieltm/ExaTrkX/trackml/train_all/event000006136\n",
      "Preparing /global/cscratch1/sd/danieltm/ExaTrkX/trackml/train_all/event000002694\n",
      "Preparing /global/cscratch1/sd/danieltm/ExaTrkX/trackml/train_all/event000002143\n",
      "Preparing /global/cscratch1/sd/danieltm/ExaTrkX/trackml/train_all/event000006177\n",
      "Preparing /global/cscratch1/sd/danieltm/ExaTrkX/trackml/train_all/event000009884\n",
      "Preparing /global/cscratch1/sd/danieltm/ExaTrkX/trackml/train_all/event000007619\n",
      "Preparing /global/cscratch1/sd/danieltm/ExaTrkX/trackml/train_all/event000007592\n",
      "Preparing /global/cscratch1/sd/danieltm/ExaTrkX/trackml/train_all/event000009598\n",
      "Preparing /global/cscratch1/sd/danieltm/ExaTrkX/trackml/train_all/event000007554\n",
      "Preparing /global/cscratch1/sd/danieltm/ExaTrkX/trackml/train_all/event000009212\n",
      "Preparing /global/cscratch1/sd/danieltm/ExaTrkX/trackml/train_all/event000001622\n",
      "Preparing /global/cscratch1/sd/danieltm/ExaTrkX/trackml/train_all/event000004392\n",
      "Preparing /global/cscratch1/sd/danieltm/ExaTrkX/trackml/train_all/event000006069\n",
      "Preparing /global/cscratch1/sd/danieltm/ExaTrkX/trackml/train_all/event000007409\n",
      "Preparing /global/cscratch1/sd/danieltm/ExaTrkX/trackml/train_all/event000004918\n",
      "Preparing /global/cscratch1/sd/danieltm/ExaTrkX/trackml/train_all/event000007028\n",
      "Preparing /global/cscratch1/sd/danieltm/ExaTrkX/trackml/train_all/event000002851\n",
      "Preparing /global/cscratch1/sd/danieltm/ExaTrkX/trackml/train_all/event000006246\n",
      "Preparing /global/cscratch1/sd/danieltm/ExaTrkX/trackml/train_all/event000002051\n",
      "Preparing /global/cscratch1/sd/danieltm/ExaTrkX/trackml/train_all/event000005611\n",
      "Preparing /global/cscratch1/sd/danieltm/ExaTrkX/trackml/train_all/event000008110\n",
      "Preparing /global/cscratch1/sd/danieltm/ExaTrkX/trackml/train_all/event000001171\n",
      "Preparing /global/cscratch1/sd/danieltm/ExaTrkX/trackml/train_all/event000008786\n",
      "Preparing /global/cscratch1/sd/danieltm/ExaTrkX/trackml/train_all/event000009095\n",
      "Preparing /global/cscratch1/sd/danieltm/ExaTrkX/trackml/train_all/event000002716\n",
      "Preparing /global/cscratch1/sd/danieltm/ExaTrkX/trackml/train_all/event000009859\n",
      "Preparing /global/cscratch1/sd/danieltm/ExaTrkX/trackml/train_all/event000003478\n",
      "Preparing /global/cscratch1/sd/danieltm/ExaTrkX/trackml/train_all/event000006808\n",
      "Preparing /global/cscratch1/sd/danieltm/ExaTrkX/trackml/train_all/event000005808\n",
      "Preparing /global/cscratch1/sd/danieltm/ExaTrkX/trackml/train_all/event000004276\n",
      "Preparing /global/cscratch1/sd/danieltm/ExaTrkX/trackml/train_all/event000001697\n",
      "Preparing /global/cscratch1/sd/danieltm/ExaTrkX/trackml/train_all/event000005839\n",
      "Preparing /global/cscratch1/sd/danieltm/ExaTrkX/trackml/train_all/event000009814\n",
      "Preparing /global/cscratch1/sd/danieltm/ExaTrkX/trackml/train_all/event000007167\n",
      "Preparing /global/cscratch1/sd/danieltm/ExaTrkX/trackml/train_all/event000008079\n",
      "Preparing /global/cscratch1/sd/danieltm/ExaTrkX/trackml/train_all/event000008389\n",
      "Preparing /global/cscratch1/sd/danieltm/ExaTrkX/trackml/train_all/event000009243\n",
      "Preparing /global/cscratch1/sd/danieltm/ExaTrkX/trackml/train_all/event000005311\n",
      "Preparing /global/cscratch1/sd/danieltm/ExaTrkX/trackml/train_all/event000008256\n",
      "Preparing /global/cscratch1/sd/danieltm/ExaTrkX/trackml/train_all/event000008188\n",
      "Preparing /global/cscratch1/sd/danieltm/ExaTrkX/trackml/train_all/event000009231\n",
      "Preparing /global/cscratch1/sd/danieltm/ExaTrkX/trackml/train_all/event000005814\n",
      "Preparing /global/cscratch1/sd/danieltm/ExaTrkX/trackml/train_all/event000008818\n",
      "Preparing /global/cscratch1/sd/danieltm/ExaTrkX/trackml/train_all/event000004108\n",
      "Preparing /global/cscratch1/sd/danieltm/ExaTrkX/trackml/train_all/event000005579\n",
      "Preparing /global/cscratch1/sd/danieltm/ExaTrkX/trackml/train_all/event000006363\n",
      "Preparing /global/cscratch1/sd/danieltm/ExaTrkX/trackml/train_all/event000002345\n",
      "Preparing /global/cscratch1/sd/danieltm/ExaTrkX/trackml/train_all/event000007798\n",
      "Preparing /global/cscratch1/sd/danieltm/ExaTrkX/trackml/train_all/event000002563\n",
      "Preparing /global/cscratch1/sd/danieltm/ExaTrkX/trackml/train_all/event000006517\n",
      "Preparing /global/cscratch1/sd/danieltm/ExaTrkX/trackml/train_all/event000004675\n",
      "Preparing /global/cscratch1/sd/danieltm/ExaTrkX/trackml/train_all/event000007695\n",
      "Preparing /global/cscratch1/sd/danieltm/ExaTrkX/trackml/train_all/event000005009\n",
      "Preparing /global/cscratch1/sd/danieltm/ExaTrkX/trackml/train_all/event000002734\n",
      "Preparing /global/cscratch1/sd/danieltm/ExaTrkX/trackml/train_all/event000009454\n",
      "Preparing /global/cscratch1/sd/danieltm/ExaTrkX/trackml/train_all/event000007457\n",
      "Preparing /global/cscratch1/sd/danieltm/ExaTrkX/trackml/train_all/event000005076\n",
      "Preparing /global/cscratch1/sd/danieltm/ExaTrkX/trackml/train_all/event000006674\n"
     ]
    },
    {
     "name": "stdout",
     "output_type": "stream",
     "text": [
      "Preparing /global/cscratch1/sd/danieltm/ExaTrkX/trackml/train_all/event000004917\n",
      "Preparing /global/cscratch1/sd/danieltm/ExaTrkX/trackml/train_all/event000001301\n",
      "Preparing /global/cscratch1/sd/danieltm/ExaTrkX/trackml/train_all/event000006973\n",
      "Preparing /global/cscratch1/sd/danieltm/ExaTrkX/trackml/train_all/event000001788\n",
      "Preparing /global/cscratch1/sd/danieltm/ExaTrkX/trackml/train_all/event000006463\n",
      "Preparing /global/cscratch1/sd/danieltm/ExaTrkX/trackml/train_all/event000005065\n",
      "Preparing /global/cscratch1/sd/danieltm/ExaTrkX/trackml/train_all/event000005297\n",
      "Preparing /global/cscratch1/sd/danieltm/ExaTrkX/trackml/train_all/event000008876\n",
      "Preparing /global/cscratch1/sd/danieltm/ExaTrkX/trackml/train_all/event000005021\n",
      "Preparing /global/cscratch1/sd/danieltm/ExaTrkX/trackml/train_all/event000005363\n",
      "Preparing /global/cscratch1/sd/danieltm/ExaTrkX/trackml/train_all/event000004996\n",
      "Preparing /global/cscratch1/sd/danieltm/ExaTrkX/trackml/train_all/event000003984\n",
      "Preparing /global/cscratch1/sd/danieltm/ExaTrkX/trackml/train_all/event000005383\n",
      "Preparing /global/cscratch1/sd/danieltm/ExaTrkX/trackml/train_all/event000005993\n",
      "Preparing /global/cscratch1/sd/danieltm/ExaTrkX/trackml/train_all/event000009733\n",
      "Preparing /global/cscratch1/sd/danieltm/ExaTrkX/trackml/train_all/event000003823\n",
      "Preparing /global/cscratch1/sd/danieltm/ExaTrkX/trackml/train_all/event000003591\n",
      "Preparing /global/cscratch1/sd/danieltm/ExaTrkX/trackml/train_all/event000005355\n",
      "Preparing /global/cscratch1/sd/danieltm/ExaTrkX/trackml/train_all/event000004159\n",
      "Preparing /global/cscratch1/sd/danieltm/ExaTrkX/trackml/train_all/event000001175\n",
      "Preparing /global/cscratch1/sd/danieltm/ExaTrkX/trackml/train_all/event000005633\n",
      "Preparing /global/cscratch1/sd/danieltm/ExaTrkX/trackml/train_all/event000002996\n",
      "Preparing /global/cscratch1/sd/danieltm/ExaTrkX/trackml/train_all/event000007925\n",
      "Preparing /global/cscratch1/sd/danieltm/ExaTrkX/trackml/train_all/event000009672\n",
      "Preparing /global/cscratch1/sd/danieltm/ExaTrkX/trackml/train_all/event000002014\n",
      "Preparing /global/cscratch1/sd/danieltm/ExaTrkX/trackml/train_all/event000005383\n",
      "Preparing /global/cscratch1/sd/danieltm/ExaTrkX/trackml/train_all/event000002864\n",
      "Preparing /global/cscratch1/sd/danieltm/ExaTrkX/trackml/train_all/event000006394\n",
      "Preparing /global/cscratch1/sd/danieltm/ExaTrkX/trackml/train_all/event000006551\n",
      "Preparing /global/cscratch1/sd/danieltm/ExaTrkX/trackml/train_all/event000002542\n",
      "Preparing /global/cscratch1/sd/danieltm/ExaTrkX/trackml/train_all/event000004303\n",
      "Preparing /global/cscratch1/sd/danieltm/ExaTrkX/trackml/train_all/event000008342\n",
      "Preparing /global/cscratch1/sd/danieltm/ExaTrkX/trackml/train_all/event000003860\n",
      "Preparing /global/cscratch1/sd/danieltm/ExaTrkX/trackml/train_all/event000004161\n",
      "Preparing /global/cscratch1/sd/danieltm/ExaTrkX/trackml/train_all/event000006181\n",
      "Preparing /global/cscratch1/sd/danieltm/ExaTrkX/trackml/train_all/event000001735\n",
      "Preparing /global/cscratch1/sd/danieltm/ExaTrkX/trackml/train_all/event000003761\n",
      "Preparing /global/cscratch1/sd/danieltm/ExaTrkX/trackml/train_all/event000002867\n",
      "Preparing /global/cscratch1/sd/danieltm/ExaTrkX/trackml/train_all/event000001468\n",
      "Preparing /global/cscratch1/sd/danieltm/ExaTrkX/trackml/train_all/event000009442\n",
      "Preparing /global/cscratch1/sd/danieltm/ExaTrkX/trackml/train_all/event000005775\n",
      "Preparing /global/cscratch1/sd/danieltm/ExaTrkX/trackml/train_all/event000007411\n",
      "Preparing /global/cscratch1/sd/danieltm/ExaTrkX/trackml/train_all/event000001973\n",
      "Preparing /global/cscratch1/sd/danieltm/ExaTrkX/trackml/train_all/event000003918\n",
      "Preparing /global/cscratch1/sd/danieltm/ExaTrkX/trackml/train_all/event000006469\n",
      "Preparing /global/cscratch1/sd/danieltm/ExaTrkX/trackml/train_all/event000002809\n",
      "Preparing /global/cscratch1/sd/danieltm/ExaTrkX/trackml/train_all/event000006979\n",
      "Preparing /global/cscratch1/sd/danieltm/ExaTrkX/trackml/train_all/event000008774\n",
      "Preparing /global/cscratch1/sd/danieltm/ExaTrkX/trackml/train_all/event000008879\n",
      "Preparing /global/cscratch1/sd/danieltm/ExaTrkX/trackml/train_all/event000009776\n",
      "Preparing /global/cscratch1/sd/danieltm/ExaTrkX/trackml/train_all/event000007456\n",
      "Preparing /global/cscratch1/sd/danieltm/ExaTrkX/trackml/train_all/event000008010\n",
      "Preparing /global/cscratch1/sd/danieltm/ExaTrkX/trackml/train_all/event000009002\n",
      "Preparing /global/cscratch1/sd/danieltm/ExaTrkX/trackml/train_all/event000009609\n",
      "Preparing /global/cscratch1/sd/danieltm/ExaTrkX/trackml/train_all/event000001689\n",
      "Preparing /global/cscratch1/sd/danieltm/ExaTrkX/trackml/train_all/event000003642\n",
      "Preparing /global/cscratch1/sd/danieltm/ExaTrkX/trackml/train_all/event000006160\n",
      "Preparing /global/cscratch1/sd/danieltm/ExaTrkX/trackml/train_all/event000002516\n",
      "Preparing /global/cscratch1/sd/danieltm/ExaTrkX/trackml/train_all/event000002880\n",
      "Preparing /global/cscratch1/sd/danieltm/ExaTrkX/trackml/train_all/event000004524\n",
      "Preparing /global/cscratch1/sd/danieltm/ExaTrkX/trackml/train_all/event000005603\n",
      "Preparing /global/cscratch1/sd/danieltm/ExaTrkX/trackml/train_all/event000004738\n",
      "Preparing /global/cscratch1/sd/danieltm/ExaTrkX/trackml/train_all/event000007415\n",
      "Preparing /global/cscratch1/sd/danieltm/ExaTrkX/trackml/train_all/event000005961\n",
      "Preparing /global/cscratch1/sd/danieltm/ExaTrkX/trackml/train_all/event000006713\n",
      "Preparing /global/cscratch1/sd/danieltm/ExaTrkX/trackml/train_all/event000009653\n",
      "Preparing /global/cscratch1/sd/danieltm/ExaTrkX/trackml/train_all/event000001914\n",
      "Preparing /global/cscratch1/sd/danieltm/ExaTrkX/trackml/train_all/event000009685\n",
      "Preparing /global/cscratch1/sd/danieltm/ExaTrkX/trackml/train_all/event000008223\n",
      "Preparing /global/cscratch1/sd/danieltm/ExaTrkX/trackml/train_all/event000001350\n",
      "Preparing /global/cscratch1/sd/danieltm/ExaTrkX/trackml/train_all/event000006435\n",
      "Preparing /global/cscratch1/sd/danieltm/ExaTrkX/trackml/train_all/event000002504\n",
      "Preparing /global/cscratch1/sd/danieltm/ExaTrkX/trackml/train_all/event000003330\n",
      "Preparing /global/cscratch1/sd/danieltm/ExaTrkX/trackml/train_all/event000005978\n",
      "Preparing /global/cscratch1/sd/danieltm/ExaTrkX/trackml/train_all/event000003512\n",
      "Preparing /global/cscratch1/sd/danieltm/ExaTrkX/trackml/train_all/event000003628\n",
      "Preparing /global/cscratch1/sd/danieltm/ExaTrkX/trackml/train_all/event000001656\n",
      "Preparing /global/cscratch1/sd/danieltm/ExaTrkX/trackml/train_all/event000003946\n",
      "Preparing /global/cscratch1/sd/danieltm/ExaTrkX/trackml/train_all/event000006402\n",
      "Preparing /global/cscratch1/sd/danieltm/ExaTrkX/trackml/train_all/event000006544\n",
      "Preparing /global/cscratch1/sd/danieltm/ExaTrkX/trackml/train_all/event000006942\n",
      "Preparing /global/cscratch1/sd/danieltm/ExaTrkX/trackml/train_all/event000006259\n",
      "Preparing /global/cscratch1/sd/danieltm/ExaTrkX/trackml/train_all/event000004928\n",
      "Preparing /global/cscratch1/sd/danieltm/ExaTrkX/trackml/train_all/event000009662\n",
      "Preparing /global/cscratch1/sd/danieltm/ExaTrkX/trackml/train_all/event000008588\n",
      "Preparing /global/cscratch1/sd/danieltm/ExaTrkX/trackml/train_all/event000007925\n",
      "Preparing /global/cscratch1/sd/danieltm/ExaTrkX/trackml/train_all/event000007712\n",
      "Preparing /global/cscratch1/sd/danieltm/ExaTrkX/trackml/train_all/event000008817\n",
      "Preparing /global/cscratch1/sd/danieltm/ExaTrkX/trackml/train_all/event000005820\n",
      "Preparing /global/cscratch1/sd/danieltm/ExaTrkX/trackml/train_all/event000004269\n",
      "Preparing /global/cscratch1/sd/danieltm/ExaTrkX/trackml/train_all/event000001492\n",
      "Preparing /global/cscratch1/sd/danieltm/ExaTrkX/trackml/train_all/event000006180\n",
      "Preparing /global/cscratch1/sd/danieltm/ExaTrkX/trackml/train_all/event000003090\n",
      "Preparing /global/cscratch1/sd/danieltm/ExaTrkX/trackml/train_all/event000003284\n",
      "Preparing /global/cscratch1/sd/danieltm/ExaTrkX/trackml/train_all/event000002344\n",
      "Preparing /global/cscratch1/sd/danieltm/ExaTrkX/trackml/train_all/event000003061\n",
      "Preparing /global/cscratch1/sd/danieltm/ExaTrkX/trackml/train_all/event000009409\n",
      "Preparing /global/cscratch1/sd/danieltm/ExaTrkX/trackml/train_all/event000008694\n",
      "Preparing /global/cscratch1/sd/danieltm/ExaTrkX/trackml/train_all/event000006018\n",
      "Preparing /global/cscratch1/sd/danieltm/ExaTrkX/trackml/train_all/event000009272\n",
      "Preparing /global/cscratch1/sd/danieltm/ExaTrkX/trackml/train_all/event000004121\n",
      "Preparing /global/cscratch1/sd/danieltm/ExaTrkX/trackml/train_all/event000009342\n"
     ]
    },
    {
     "name": "stdout",
     "output_type": "stream",
     "text": [
      "Preparing /global/cscratch1/sd/danieltm/ExaTrkX/trackml/train_all/event000006345\n",
      "Preparing /global/cscratch1/sd/danieltm/ExaTrkX/trackml/train_all/event000006626\n",
      "Preparing /global/cscratch1/sd/danieltm/ExaTrkX/trackml/train_all/event000001976\n",
      "Preparing /global/cscratch1/sd/danieltm/ExaTrkX/trackml/train_all/event000003634\n",
      "Preparing /global/cscratch1/sd/danieltm/ExaTrkX/trackml/train_all/event000009509\n",
      "Preparing /global/cscratch1/sd/danieltm/ExaTrkX/trackml/train_all/event000001924\n",
      "Preparing /global/cscratch1/sd/danieltm/ExaTrkX/trackml/train_all/event000001904\n",
      "Preparing /global/cscratch1/sd/danieltm/ExaTrkX/trackml/train_all/event000006460\n",
      "Preparing /global/cscratch1/sd/danieltm/ExaTrkX/trackml/train_all/event000004522\n",
      "Preparing /global/cscratch1/sd/danieltm/ExaTrkX/trackml/train_all/event000002456\n",
      "Preparing /global/cscratch1/sd/danieltm/ExaTrkX/trackml/train_all/event000005551\n",
      "Preparing /global/cscratch1/sd/danieltm/ExaTrkX/trackml/train_all/event000009676\n",
      "Preparing /global/cscratch1/sd/danieltm/ExaTrkX/trackml/train_all/event000004895\n",
      "Preparing /global/cscratch1/sd/danieltm/ExaTrkX/trackml/train_all/event000005836\n",
      "Preparing /global/cscratch1/sd/danieltm/ExaTrkX/trackml/train_all/event000001385\n",
      "Preparing /global/cscratch1/sd/danieltm/ExaTrkX/trackml/train_all/event000003486\n",
      "Preparing /global/cscratch1/sd/danieltm/ExaTrkX/trackml/train_all/event000008104\n",
      "Preparing /global/cscratch1/sd/danieltm/ExaTrkX/trackml/train_all/event000005244\n",
      "Preparing /global/cscratch1/sd/danieltm/ExaTrkX/trackml/train_all/event000001835\n",
      "Preparing /global/cscratch1/sd/danieltm/ExaTrkX/trackml/train_all/event000006034\n",
      "Preparing /global/cscratch1/sd/danieltm/ExaTrkX/trackml/train_all/event000009021\n",
      "Preparing /global/cscratch1/sd/danieltm/ExaTrkX/trackml/train_all/event000007666\n",
      "Preparing /global/cscratch1/sd/danieltm/ExaTrkX/trackml/train_all/event000009635\n",
      "Preparing /global/cscratch1/sd/danieltm/ExaTrkX/trackml/train_all/event000001907\n",
      "Preparing /global/cscratch1/sd/danieltm/ExaTrkX/trackml/train_all/event000008917\n",
      "Preparing /global/cscratch1/sd/danieltm/ExaTrkX/trackml/train_all/event000008785\n",
      "Preparing /global/cscratch1/sd/danieltm/ExaTrkX/trackml/train_all/event000006300\n",
      "Preparing /global/cscratch1/sd/danieltm/ExaTrkX/trackml/train_all/event000002285\n",
      "Preparing /global/cscratch1/sd/danieltm/ExaTrkX/trackml/train_all/event000002654\n",
      "Preparing /global/cscratch1/sd/danieltm/ExaTrkX/trackml/train_all/event000005201\n",
      "Preparing /global/cscratch1/sd/danieltm/ExaTrkX/trackml/train_all/event000001177\n",
      "Preparing /global/cscratch1/sd/danieltm/ExaTrkX/trackml/train_all/event000001161\n",
      "Preparing /global/cscratch1/sd/danieltm/ExaTrkX/trackml/train_all/event000003613\n",
      "Preparing /global/cscratch1/sd/danieltm/ExaTrkX/trackml/train_all/event000008765\n",
      "Preparing /global/cscratch1/sd/danieltm/ExaTrkX/trackml/train_all/event000003726\n",
      "Preparing /global/cscratch1/sd/danieltm/ExaTrkX/trackml/train_all/event000001771\n",
      "Preparing /global/cscratch1/sd/danieltm/ExaTrkX/trackml/train_all/event000005595\n",
      "Preparing /global/cscratch1/sd/danieltm/ExaTrkX/trackml/train_all/event000001761\n",
      "Preparing /global/cscratch1/sd/danieltm/ExaTrkX/trackml/train_all/event000002205\n",
      "Preparing /global/cscratch1/sd/danieltm/ExaTrkX/trackml/train_all/event000003373\n",
      "Preparing /global/cscratch1/sd/danieltm/ExaTrkX/trackml/train_all/event000006560\n",
      "Preparing /global/cscratch1/sd/danieltm/ExaTrkX/trackml/train_all/event000004428\n",
      "Preparing /global/cscratch1/sd/danieltm/ExaTrkX/trackml/train_all/event000003145\n",
      "Preparing /global/cscratch1/sd/danieltm/ExaTrkX/trackml/train_all/event000006541\n",
      "Preparing /global/cscratch1/sd/danieltm/ExaTrkX/trackml/train_all/event000007795\n",
      "Preparing /global/cscratch1/sd/danieltm/ExaTrkX/trackml/train_all/event000001017\n",
      "Preparing /global/cscratch1/sd/danieltm/ExaTrkX/trackml/train_all/event000002701\n",
      "Preparing /global/cscratch1/sd/danieltm/ExaTrkX/trackml/train_all/event000001061\n",
      "Preparing /global/cscratch1/sd/danieltm/ExaTrkX/trackml/train_all/event000004404\n",
      "Preparing /global/cscratch1/sd/danieltm/ExaTrkX/trackml/train_all/event000007811\n",
      "Preparing /global/cscratch1/sd/danieltm/ExaTrkX/trackml/train_all/event000007662\n",
      "Preparing /global/cscratch1/sd/danieltm/ExaTrkX/trackml/train_all/event000001475\n",
      "Preparing /global/cscratch1/sd/danieltm/ExaTrkX/trackml/train_all/event000009600\n",
      "Preparing /global/cscratch1/sd/danieltm/ExaTrkX/trackml/train_all/event000007091\n",
      "Preparing /global/cscratch1/sd/danieltm/ExaTrkX/trackml/train_all/event000009506\n",
      "Preparing /global/cscratch1/sd/danieltm/ExaTrkX/trackml/train_all/event000004608\n",
      "Preparing /global/cscratch1/sd/danieltm/ExaTrkX/trackml/train_all/event000008696\n",
      "Preparing /global/cscratch1/sd/danieltm/ExaTrkX/trackml/train_all/event000007493\n",
      "Preparing /global/cscratch1/sd/danieltm/ExaTrkX/trackml/train_all/event000002782\n",
      "Preparing /global/cscratch1/sd/danieltm/ExaTrkX/trackml/train_all/event000008767\n",
      "Preparing /global/cscratch1/sd/danieltm/ExaTrkX/trackml/train_all/event000002699\n",
      "Preparing /global/cscratch1/sd/danieltm/ExaTrkX/trackml/train_all/event000001110\n",
      "Preparing /global/cscratch1/sd/danieltm/ExaTrkX/trackml/train_all/event000002562\n",
      "Preparing /global/cscratch1/sd/danieltm/ExaTrkX/trackml/train_all/event000009044\n",
      "Preparing /global/cscratch1/sd/danieltm/ExaTrkX/trackml/train_all/event000007235\n",
      "Preparing /global/cscratch1/sd/danieltm/ExaTrkX/trackml/train_all/event000001920\n",
      "Preparing /global/cscratch1/sd/danieltm/ExaTrkX/trackml/train_all/event000007638\n",
      "Preparing /global/cscratch1/sd/danieltm/ExaTrkX/trackml/train_all/event000006555\n",
      "Preparing /global/cscratch1/sd/danieltm/ExaTrkX/trackml/train_all/event000003512\n",
      "Preparing /global/cscratch1/sd/danieltm/ExaTrkX/trackml/train_all/event000007151\n",
      "Preparing /global/cscratch1/sd/danieltm/ExaTrkX/trackml/train_all/event000005522\n",
      "Preparing /global/cscratch1/sd/danieltm/ExaTrkX/trackml/train_all/event000004292\n",
      "Preparing /global/cscratch1/sd/danieltm/ExaTrkX/trackml/train_all/event000006770\n",
      "Preparing /global/cscratch1/sd/danieltm/ExaTrkX/trackml/train_all/event000003313\n",
      "Preparing /global/cscratch1/sd/danieltm/ExaTrkX/trackml/train_all/event000007750\n",
      "Preparing /global/cscratch1/sd/danieltm/ExaTrkX/trackml/train_all/event000001656\n",
      "Preparing /global/cscratch1/sd/danieltm/ExaTrkX/trackml/train_all/event000009001\n",
      "Preparing /global/cscratch1/sd/danieltm/ExaTrkX/trackml/train_all/event000004176\n",
      "Preparing /global/cscratch1/sd/danieltm/ExaTrkX/trackml/train_all/event000001480\n",
      "Preparing /global/cscratch1/sd/danieltm/ExaTrkX/trackml/train_all/event000008933\n",
      "Preparing /global/cscratch1/sd/danieltm/ExaTrkX/trackml/train_all/event000003032\n",
      "Preparing /global/cscratch1/sd/danieltm/ExaTrkX/trackml/train_all/event000006289\n",
      "Preparing /global/cscratch1/sd/danieltm/ExaTrkX/trackml/train_all/event000009314\n",
      "Preparing /global/cscratch1/sd/danieltm/ExaTrkX/trackml/train_all/event000007207\n",
      "Preparing /global/cscratch1/sd/danieltm/ExaTrkX/trackml/train_all/event000007105\n",
      "Preparing /global/cscratch1/sd/danieltm/ExaTrkX/trackml/train_all/event000003935\n",
      "Preparing /global/cscratch1/sd/danieltm/ExaTrkX/trackml/train_all/event000007701\n",
      "Preparing /global/cscratch1/sd/danieltm/ExaTrkX/trackml/train_all/event000005822\n",
      "Preparing /global/cscratch1/sd/danieltm/ExaTrkX/trackml/train_all/event000004637\n",
      "Preparing /global/cscratch1/sd/danieltm/ExaTrkX/trackml/train_all/event000003897\n",
      "Preparing /global/cscratch1/sd/danieltm/ExaTrkX/trackml/train_all/event000005161\n",
      "Preparing /global/cscratch1/sd/danieltm/ExaTrkX/trackml/train_all/event000001962\n",
      "Preparing /global/cscratch1/sd/danieltm/ExaTrkX/trackml/train_all/event000009118\n",
      "Preparing /global/cscratch1/sd/danieltm/ExaTrkX/trackml/train_all/event000005161\n",
      "Preparing /global/cscratch1/sd/danieltm/ExaTrkX/trackml/train_all/event000008566\n",
      "Preparing /global/cscratch1/sd/danieltm/ExaTrkX/trackml/train_all/event000006420\n",
      "Preparing /global/cscratch1/sd/danieltm/ExaTrkX/trackml/train_all/event000007430\n",
      "Preparing /global/cscratch1/sd/danieltm/ExaTrkX/trackml/train_all/event000001942\n",
      "Preparing /global/cscratch1/sd/danieltm/ExaTrkX/trackml/train_all/event000002364\n",
      "Preparing /global/cscratch1/sd/danieltm/ExaTrkX/trackml/train_all/event000008988\n",
      "Preparing /global/cscratch1/sd/danieltm/ExaTrkX/trackml/train_all/event000002257\n",
      "Preparing /global/cscratch1/sd/danieltm/ExaTrkX/trackml/train_all/event000009137\n"
     ]
    },
    {
     "name": "stdout",
     "output_type": "stream",
     "text": [
      "Preparing /global/cscratch1/sd/danieltm/ExaTrkX/trackml/train_all/event000008557\n",
      "Preparing /global/cscratch1/sd/danieltm/ExaTrkX/trackml/train_all/event000003437\n",
      "Preparing /global/cscratch1/sd/danieltm/ExaTrkX/trackml/train_all/event000009712\n",
      "Preparing /global/cscratch1/sd/danieltm/ExaTrkX/trackml/train_all/event000003269\n",
      "Preparing /global/cscratch1/sd/danieltm/ExaTrkX/trackml/train_all/event000005434\n",
      "Preparing /global/cscratch1/sd/danieltm/ExaTrkX/trackml/train_all/event000006038\n",
      "Preparing /global/cscratch1/sd/danieltm/ExaTrkX/trackml/train_all/event000001512\n",
      "Preparing /global/cscratch1/sd/danieltm/ExaTrkX/trackml/train_all/event000008288\n",
      "Preparing /global/cscratch1/sd/danieltm/ExaTrkX/trackml/train_all/event000004082\n",
      "Preparing /global/cscratch1/sd/danieltm/ExaTrkX/trackml/train_all/event000008028\n",
      "Preparing /global/cscratch1/sd/danieltm/ExaTrkX/trackml/train_all/event000007521\n",
      "Preparing /global/cscratch1/sd/danieltm/ExaTrkX/trackml/train_all/event000009370\n",
      "Preparing /global/cscratch1/sd/danieltm/ExaTrkX/trackml/train_all/event000008567\n",
      "Preparing /global/cscratch1/sd/danieltm/ExaTrkX/trackml/train_all/event000008556\n",
      "Preparing /global/cscratch1/sd/danieltm/ExaTrkX/trackml/train_all/event000007965\n",
      "Preparing /global/cscratch1/sd/danieltm/ExaTrkX/trackml/train_all/event000006244\n",
      "Preparing /global/cscratch1/sd/danieltm/ExaTrkX/trackml/train_all/event000002536\n",
      "Preparing /global/cscratch1/sd/danieltm/ExaTrkX/trackml/train_all/event000009346\n",
      "Preparing /global/cscratch1/sd/danieltm/ExaTrkX/trackml/train_all/event000001262\n",
      "Preparing /global/cscratch1/sd/danieltm/ExaTrkX/trackml/train_all/event000007260\n",
      "Preparing /global/cscratch1/sd/danieltm/ExaTrkX/trackml/train_all/event000001520\n",
      "Preparing /global/cscratch1/sd/danieltm/ExaTrkX/trackml/train_all/event000009981\n",
      "Preparing /global/cscratch1/sd/danieltm/ExaTrkX/trackml/train_all/event000009761\n",
      "Preparing /global/cscratch1/sd/danieltm/ExaTrkX/trackml/train_all/event000008475\n",
      "Preparing /global/cscratch1/sd/danieltm/ExaTrkX/trackml/train_all/event000006708\n",
      "Preparing /global/cscratch1/sd/danieltm/ExaTrkX/trackml/train_all/event000009384\n",
      "Preparing /global/cscratch1/sd/danieltm/ExaTrkX/trackml/train_all/event000005403\n",
      "Preparing /global/cscratch1/sd/danieltm/ExaTrkX/trackml/train_all/event000001250\n",
      "Preparing /global/cscratch1/sd/danieltm/ExaTrkX/trackml/train_all/event000003858\n",
      "Preparing /global/cscratch1/sd/danieltm/ExaTrkX/trackml/train_all/event000008930\n",
      "Preparing /global/cscratch1/sd/danieltm/ExaTrkX/trackml/train_all/event000002923\n",
      "Preparing /global/cscratch1/sd/danieltm/ExaTrkX/trackml/train_all/event000006123\n",
      "Preparing /global/cscratch1/sd/danieltm/ExaTrkX/trackml/train_all/event000002079\n",
      "Preparing /global/cscratch1/sd/danieltm/ExaTrkX/trackml/train_all/event000003380\n",
      "Preparing /global/cscratch1/sd/danieltm/ExaTrkX/trackml/train_all/event000004289\n",
      "Preparing /global/cscratch1/sd/danieltm/ExaTrkX/trackml/train_all/event000005873\n",
      "Preparing /global/cscratch1/sd/danieltm/ExaTrkX/trackml/train_all/event000008640\n",
      "Preparing /global/cscratch1/sd/danieltm/ExaTrkX/trackml/train_all/event000008199\n",
      "Preparing /global/cscratch1/sd/danieltm/ExaTrkX/trackml/train_all/event000005212\n",
      "Preparing /global/cscratch1/sd/danieltm/ExaTrkX/trackml/train_all/event000003190\n",
      "Preparing /global/cscratch1/sd/danieltm/ExaTrkX/trackml/train_all/event000005306\n",
      "Preparing /global/cscratch1/sd/danieltm/ExaTrkX/trackml/train_all/event000003566\n",
      "Preparing /global/cscratch1/sd/danieltm/ExaTrkX/trackml/train_all/event000003637\n",
      "Preparing /global/cscratch1/sd/danieltm/ExaTrkX/trackml/train_all/event000007926\n",
      "Preparing /global/cscratch1/sd/danieltm/ExaTrkX/trackml/train_all/event000006218\n",
      "Preparing /global/cscratch1/sd/danieltm/ExaTrkX/trackml/train_all/event000001639\n",
      "Preparing /global/cscratch1/sd/danieltm/ExaTrkX/trackml/train_all/event000002554\n",
      "Preparing /global/cscratch1/sd/danieltm/ExaTrkX/trackml/train_all/event000008823\n",
      "Preparing /global/cscratch1/sd/danieltm/ExaTrkX/trackml/train_all/event000001937\n",
      "Preparing /global/cscratch1/sd/danieltm/ExaTrkX/trackml/train_all/event000006429\n",
      "Preparing /global/cscratch1/sd/danieltm/ExaTrkX/trackml/train_all/event000006245\n",
      "Preparing /global/cscratch1/sd/danieltm/ExaTrkX/trackml/train_all/event000007010\n",
      "Preparing /global/cscratch1/sd/danieltm/ExaTrkX/trackml/train_all/event000008896\n",
      "Preparing /global/cscratch1/sd/danieltm/ExaTrkX/trackml/train_all/event000001822\n",
      "Preparing /global/cscratch1/sd/danieltm/ExaTrkX/trackml/train_all/event000007195\n",
      "Preparing /global/cscratch1/sd/danieltm/ExaTrkX/trackml/train_all/event000008183\n",
      "Preparing /global/cscratch1/sd/danieltm/ExaTrkX/trackml/train_all/event000006019\n",
      "Preparing /global/cscratch1/sd/danieltm/ExaTrkX/trackml/train_all/event000007850\n",
      "Preparing /global/cscratch1/sd/danieltm/ExaTrkX/trackml/train_all/event000008491\n",
      "Preparing /global/cscratch1/sd/danieltm/ExaTrkX/trackml/train_all/event000008102\n",
      "Preparing /global/cscratch1/sd/danieltm/ExaTrkX/trackml/train_all/event000007182\n",
      "Preparing /global/cscratch1/sd/danieltm/ExaTrkX/trackml/train_all/event000009708\n",
      "Preparing /global/cscratch1/sd/danieltm/ExaTrkX/trackml/train_all/event000005980\n",
      "Preparing /global/cscratch1/sd/danieltm/ExaTrkX/trackml/train_all/event000006352\n",
      "Preparing /global/cscratch1/sd/danieltm/ExaTrkX/trackml/train_all/event000001881\n",
      "Preparing /global/cscratch1/sd/danieltm/ExaTrkX/trackml/train_all/event000005410\n",
      "Preparing /global/cscratch1/sd/danieltm/ExaTrkX/trackml/train_all/event000008592\n",
      "Preparing /global/cscratch1/sd/danieltm/ExaTrkX/trackml/train_all/event000005030\n",
      "Preparing /global/cscratch1/sd/danieltm/ExaTrkX/trackml/train_all/event000004429\n",
      "Preparing /global/cscratch1/sd/danieltm/ExaTrkX/trackml/train_all/event000001624\n",
      "Preparing /global/cscratch1/sd/danieltm/ExaTrkX/trackml/train_all/event000004769\n",
      "Preparing /global/cscratch1/sd/danieltm/ExaTrkX/trackml/train_all/event000003695\n",
      "Preparing /global/cscratch1/sd/danieltm/ExaTrkX/trackml/train_all/event000008383\n",
      "Preparing /global/cscratch1/sd/danieltm/ExaTrkX/trackml/train_all/event000002071\n",
      "Preparing /global/cscratch1/sd/danieltm/ExaTrkX/trackml/train_all/event000009016\n",
      "Preparing /global/cscratch1/sd/danieltm/ExaTrkX/trackml/train_all/event000007745\n",
      "Preparing /global/cscratch1/sd/danieltm/ExaTrkX/trackml/train_all/event000005990\n",
      "Preparing /global/cscratch1/sd/danieltm/ExaTrkX/trackml/train_all/event000003672\n",
      "Preparing /global/cscratch1/sd/danieltm/ExaTrkX/trackml/train_all/event000008584\n",
      "Preparing /global/cscratch1/sd/danieltm/ExaTrkX/trackml/train_all/event000005637\n",
      "Preparing /global/cscratch1/sd/danieltm/ExaTrkX/trackml/train_all/event000001288\n",
      "Preparing /global/cscratch1/sd/danieltm/ExaTrkX/trackml/train_all/event000005654\n",
      "Preparing /global/cscratch1/sd/danieltm/ExaTrkX/trackml/train_all/event000008351\n",
      "Preparing /global/cscratch1/sd/danieltm/ExaTrkX/trackml/train_all/event000008297\n",
      "Preparing /global/cscratch1/sd/danieltm/ExaTrkX/trackml/train_all/event000007823\n",
      "Preparing /global/cscratch1/sd/danieltm/ExaTrkX/trackml/train_all/event000001111\n",
      "Preparing /global/cscratch1/sd/danieltm/ExaTrkX/trackml/train_all/event000009863\n",
      "Preparing /global/cscratch1/sd/danieltm/ExaTrkX/trackml/train_all/event000005406\n",
      "Preparing /global/cscratch1/sd/danieltm/ExaTrkX/trackml/train_all/event000004253\n",
      "Preparing /global/cscratch1/sd/danieltm/ExaTrkX/trackml/train_all/event000005461\n",
      "Preparing /global/cscratch1/sd/danieltm/ExaTrkX/trackml/train_all/event000005156\n",
      "Preparing /global/cscratch1/sd/danieltm/ExaTrkX/trackml/train_all/event000004489\n",
      "Preparing /global/cscratch1/sd/danieltm/ExaTrkX/trackml/train_all/event000007044\n",
      "Preparing /global/cscratch1/sd/danieltm/ExaTrkX/trackml/train_all/event000004710\n",
      "Preparing /global/cscratch1/sd/danieltm/ExaTrkX/trackml/train_all/event000009548\n",
      "Preparing /global/cscratch1/sd/danieltm/ExaTrkX/trackml/train_all/event000004605\n",
      "Preparing /global/cscratch1/sd/danieltm/ExaTrkX/trackml/train_all/event000007200\n",
      "Preparing /global/cscratch1/sd/danieltm/ExaTrkX/trackml/train_all/event000007223\n",
      "Preparing /global/cscratch1/sd/danieltm/ExaTrkX/trackml/train_all/event000007603\n",
      "Preparing /global/cscratch1/sd/danieltm/ExaTrkX/trackml/train_all/event000002792\n",
      "Preparing /global/cscratch1/sd/danieltm/ExaTrkX/trackml/train_all/event000007628\n",
      "Preparing /global/cscratch1/sd/danieltm/ExaTrkX/trackml/train_all/event000002970\n"
     ]
    },
    {
     "name": "stdout",
     "output_type": "stream",
     "text": [
      "Preparing /global/cscratch1/sd/danieltm/ExaTrkX/trackml/train_all/event000005151\n",
      "Preparing /global/cscratch1/sd/danieltm/ExaTrkX/trackml/train_all/event000001306\n",
      "Preparing /global/cscratch1/sd/danieltm/ExaTrkX/trackml/train_all/event000009985\n",
      "Preparing /global/cscratch1/sd/danieltm/ExaTrkX/trackml/train_all/event000001572\n",
      "Preparing /global/cscratch1/sd/danieltm/ExaTrkX/trackml/train_all/event000009227\n",
      "Preparing /global/cscratch1/sd/danieltm/ExaTrkX/trackml/train_all/event000004600\n",
      "Preparing /global/cscratch1/sd/danieltm/ExaTrkX/trackml/train_all/event000004873\n",
      "Preparing /global/cscratch1/sd/danieltm/ExaTrkX/trackml/train_all/event000004163\n",
      "Preparing /global/cscratch1/sd/danieltm/ExaTrkX/trackml/train_all/event000005680\n",
      "Preparing /global/cscratch1/sd/danieltm/ExaTrkX/trackml/train_all/event000006087\n",
      "Preparing /global/cscratch1/sd/danieltm/ExaTrkX/trackml/train_all/event000001600\n",
      "Preparing /global/cscratch1/sd/danieltm/ExaTrkX/trackml/train_all/event000002289\n",
      "Preparing /global/cscratch1/sd/danieltm/ExaTrkX/trackml/train_all/event000008470\n",
      "Preparing /global/cscratch1/sd/danieltm/ExaTrkX/trackml/train_all/event000009563\n",
      "Preparing /global/cscratch1/sd/danieltm/ExaTrkX/trackml/train_all/event000009633\n",
      "Preparing /global/cscratch1/sd/danieltm/ExaTrkX/trackml/train_all/event000003531\n",
      "Preparing /global/cscratch1/sd/danieltm/ExaTrkX/trackml/train_all/event000001999\n",
      "Preparing /global/cscratch1/sd/danieltm/ExaTrkX/trackml/train_all/event000008993\n",
      "Preparing /global/cscratch1/sd/danieltm/ExaTrkX/trackml/train_all/event000002463\n",
      "Preparing /global/cscratch1/sd/danieltm/ExaTrkX/trackml/train_all/event000009629\n",
      "Preparing /global/cscratch1/sd/danieltm/ExaTrkX/trackml/train_all/event000002722\n",
      "Preparing /global/cscratch1/sd/danieltm/ExaTrkX/trackml/train_all/event000005150\n",
      "Preparing /global/cscratch1/sd/danieltm/ExaTrkX/trackml/train_all/event000003038\n",
      "Preparing /global/cscratch1/sd/danieltm/ExaTrkX/trackml/train_all/event000008931\n",
      "Preparing /global/cscratch1/sd/danieltm/ExaTrkX/trackml/train_all/event000003639\n",
      "Preparing /global/cscratch1/sd/danieltm/ExaTrkX/trackml/train_all/event000004436\n",
      "Preparing /global/cscratch1/sd/danieltm/ExaTrkX/trackml/train_all/event000005952\n",
      "Preparing /global/cscratch1/sd/danieltm/ExaTrkX/trackml/train_all/event000005598\n",
      "Preparing /global/cscratch1/sd/danieltm/ExaTrkX/trackml/train_all/event000007520\n",
      "Preparing /global/cscratch1/sd/danieltm/ExaTrkX/trackml/train_all/event000009359\n",
      "Preparing /global/cscratch1/sd/danieltm/ExaTrkX/trackml/train_all/event000008018\n",
      "Preparing /global/cscratch1/sd/danieltm/ExaTrkX/trackml/train_all/event000002109\n",
      "Preparing /global/cscratch1/sd/danieltm/ExaTrkX/trackml/train_all/event000004326\n",
      "Preparing /global/cscratch1/sd/danieltm/ExaTrkX/trackml/train_all/event000005728\n",
      "Preparing /global/cscratch1/sd/danieltm/ExaTrkX/trackml/train_all/event000001074\n",
      "Preparing /global/cscratch1/sd/danieltm/ExaTrkX/trackml/train_all/event000002210\n",
      "Preparing /global/cscratch1/sd/danieltm/ExaTrkX/trackml/train_all/event000001530\n",
      "Preparing /global/cscratch1/sd/danieltm/ExaTrkX/trackml/train_all/event000008132\n",
      "Preparing /global/cscratch1/sd/danieltm/ExaTrkX/trackml/train_all/event000003809\n",
      "Preparing /global/cscratch1/sd/danieltm/ExaTrkX/trackml/train_all/event000008502\n",
      "Preparing /global/cscratch1/sd/danieltm/ExaTrkX/trackml/train_all/event000001189\n",
      "Preparing /global/cscratch1/sd/danieltm/ExaTrkX/trackml/train_all/event000006669\n",
      "Preparing /global/cscratch1/sd/danieltm/ExaTrkX/trackml/train_all/event000007774\n",
      "Preparing /global/cscratch1/sd/danieltm/ExaTrkX/trackml/train_all/event000005643\n",
      "Preparing /global/cscratch1/sd/danieltm/ExaTrkX/trackml/train_all/event000008751\n",
      "Preparing /global/cscratch1/sd/danieltm/ExaTrkX/trackml/train_all/event000003891\n",
      "Preparing /global/cscratch1/sd/danieltm/ExaTrkX/trackml/train_all/event000002812\n",
      "Preparing /global/cscratch1/sd/danieltm/ExaTrkX/trackml/train_all/event000009669\n",
      "Preparing /global/cscratch1/sd/danieltm/ExaTrkX/trackml/train_all/event000007102\n",
      "Preparing /global/cscratch1/sd/danieltm/ExaTrkX/trackml/train_all/event000004199\n",
      "Preparing /global/cscratch1/sd/danieltm/ExaTrkX/trackml/train_all/event000007133\n",
      "Preparing /global/cscratch1/sd/danieltm/ExaTrkX/trackml/train_all/event000003456\n",
      "Preparing /global/cscratch1/sd/danieltm/ExaTrkX/trackml/train_all/event000001124\n",
      "Preparing /global/cscratch1/sd/danieltm/ExaTrkX/trackml/train_all/event000004668\n",
      "Preparing /global/cscratch1/sd/danieltm/ExaTrkX/trackml/train_all/event000009580\n",
      "Preparing /global/cscratch1/sd/danieltm/ExaTrkX/trackml/train_all/event000004914\n",
      "Preparing /global/cscratch1/sd/danieltm/ExaTrkX/trackml/train_all/event000003827\n",
      "Preparing /global/cscratch1/sd/danieltm/ExaTrkX/trackml/train_all/event000004186\n",
      "Preparing /global/cscratch1/sd/danieltm/ExaTrkX/trackml/train_all/event000005033\n",
      "Preparing /global/cscratch1/sd/danieltm/ExaTrkX/trackml/train_all/event000002647\n",
      "Preparing /global/cscratch1/sd/danieltm/ExaTrkX/trackml/train_all/event000007363\n",
      "Preparing /global/cscratch1/sd/danieltm/ExaTrkX/trackml/train_all/event000009419\n",
      "Preparing /global/cscratch1/sd/danieltm/ExaTrkX/trackml/train_all/event000006450\n",
      "Preparing /global/cscratch1/sd/danieltm/ExaTrkX/trackml/train_all/event000002519\n",
      "Preparing /global/cscratch1/sd/danieltm/ExaTrkX/trackml/train_all/event000002655\n",
      "Preparing /global/cscratch1/sd/danieltm/ExaTrkX/trackml/train_all/event000007771\n",
      "Preparing /global/cscratch1/sd/danieltm/ExaTrkX/trackml/train_all/event000001805\n",
      "Preparing /global/cscratch1/sd/danieltm/ExaTrkX/trackml/train_all/event000005130\n",
      "Preparing /global/cscratch1/sd/danieltm/ExaTrkX/trackml/train_all/event000009501\n",
      "Preparing /global/cscratch1/sd/danieltm/ExaTrkX/trackml/train_all/event000005733\n",
      "Preparing /global/cscratch1/sd/danieltm/ExaTrkX/trackml/train_all/event000005481\n",
      "Preparing /global/cscratch1/sd/danieltm/ExaTrkX/trackml/train_all/event000008119\n",
      "Preparing /global/cscratch1/sd/danieltm/ExaTrkX/trackml/train_all/event000008690\n",
      "Preparing /global/cscratch1/sd/danieltm/ExaTrkX/trackml/train_all/event000009391\n",
      "Preparing /global/cscratch1/sd/danieltm/ExaTrkX/trackml/train_all/event000005032\n",
      "Preparing /global/cscratch1/sd/danieltm/ExaTrkX/trackml/train_all/event000005064\n",
      "Preparing /global/cscratch1/sd/danieltm/ExaTrkX/trackml/train_all/event000002196\n",
      "Preparing /global/cscratch1/sd/danieltm/ExaTrkX/trackml/train_all/event000002144\n",
      "Preparing /global/cscratch1/sd/danieltm/ExaTrkX/trackml/train_all/event000003155\n",
      "Preparing /global/cscratch1/sd/danieltm/ExaTrkX/trackml/train_all/event000006549\n",
      "Preparing /global/cscratch1/sd/danieltm/ExaTrkX/trackml/train_all/event000004998\n",
      "Preparing /global/cscratch1/sd/danieltm/ExaTrkX/trackml/train_all/event000007995\n",
      "Preparing /global/cscratch1/sd/danieltm/ExaTrkX/trackml/train_all/event000009809\n",
      "Preparing /global/cscratch1/sd/danieltm/ExaTrkX/trackml/train_all/event000002883\n",
      "Preparing /global/cscratch1/sd/danieltm/ExaTrkX/trackml/train_all/event000001369\n",
      "Preparing /global/cscratch1/sd/danieltm/ExaTrkX/trackml/train_all/event000004929\n",
      "Preparing /global/cscratch1/sd/danieltm/ExaTrkX/trackml/train_all/event000008546\n",
      "Preparing /global/cscratch1/sd/danieltm/ExaTrkX/trackml/train_all/event000002088\n",
      "Preparing /global/cscratch1/sd/danieltm/ExaTrkX/trackml/train_all/event000007490\n",
      "Preparing /global/cscratch1/sd/danieltm/ExaTrkX/trackml/train_all/event000007459\n",
      "Preparing /global/cscratch1/sd/danieltm/ExaTrkX/trackml/train_all/event000004630\n",
      "Preparing /global/cscratch1/sd/danieltm/ExaTrkX/trackml/train_all/event000007276\n",
      "Preparing /global/cscratch1/sd/danieltm/ExaTrkX/trackml/train_all/event000002122\n",
      "Preparing /global/cscratch1/sd/danieltm/ExaTrkX/trackml/train_all/event000006622\n",
      "Preparing /global/cscratch1/sd/danieltm/ExaTrkX/trackml/train_all/event000001717\n",
      "Preparing /global/cscratch1/sd/danieltm/ExaTrkX/trackml/train_all/event000006977\n",
      "Preparing /global/cscratch1/sd/danieltm/ExaTrkX/trackml/train_all/event000006173\n",
      "Preparing /global/cscratch1/sd/danieltm/ExaTrkX/trackml/train_all/event000009966\n",
      "Preparing /global/cscratch1/sd/danieltm/ExaTrkX/trackml/train_all/event000007482\n",
      "Preparing /global/cscratch1/sd/danieltm/ExaTrkX/trackml/train_all/event000009767\n",
      "Preparing /global/cscratch1/sd/danieltm/ExaTrkX/trackml/train_all/event000001642\n",
      "Preparing /global/cscratch1/sd/danieltm/ExaTrkX/trackml/train_all/event000002465\n"
     ]
    },
    {
     "name": "stdout",
     "output_type": "stream",
     "text": [
      "Preparing /global/cscratch1/sd/danieltm/ExaTrkX/trackml/train_all/event000003301\n",
      "Preparing /global/cscratch1/sd/danieltm/ExaTrkX/trackml/train_all/event000004732\n",
      "Preparing /global/cscratch1/sd/danieltm/ExaTrkX/trackml/train_all/event000005438\n",
      "Preparing /global/cscratch1/sd/danieltm/ExaTrkX/trackml/train_all/event000003107\n",
      "Preparing /global/cscratch1/sd/danieltm/ExaTrkX/trackml/train_all/event000009720\n",
      "Preparing /global/cscratch1/sd/danieltm/ExaTrkX/trackml/train_all/event000001539\n",
      "Preparing /global/cscratch1/sd/danieltm/ExaTrkX/trackml/train_all/event000009055\n",
      "Preparing /global/cscratch1/sd/danieltm/ExaTrkX/trackml/train_all/event000005819\n",
      "Preparing /global/cscratch1/sd/danieltm/ExaTrkX/trackml/train_all/event000006688\n",
      "Preparing /global/cscratch1/sd/danieltm/ExaTrkX/trackml/train_all/event000005609\n",
      "Preparing /global/cscratch1/sd/danieltm/ExaTrkX/trackml/train_all/event000003768\n",
      "Preparing /global/cscratch1/sd/danieltm/ExaTrkX/trackml/train_all/event000008846\n",
      "Preparing /global/cscratch1/sd/danieltm/ExaTrkX/trackml/train_all/event000005361\n",
      "Preparing /global/cscratch1/sd/danieltm/ExaTrkX/trackml/train_all/event000004409\n",
      "Preparing /global/cscratch1/sd/danieltm/ExaTrkX/trackml/train_all/event000004759\n",
      "Preparing /global/cscratch1/sd/danieltm/ExaTrkX/trackml/train_all/event000005462\n",
      "Preparing /global/cscratch1/sd/danieltm/ExaTrkX/trackml/train_all/event000005884\n",
      "Preparing /global/cscratch1/sd/danieltm/ExaTrkX/trackml/train_all/event000002966\n",
      "Preparing /global/cscratch1/sd/danieltm/ExaTrkX/trackml/train_all/event000009888\n",
      "Preparing /global/cscratch1/sd/danieltm/ExaTrkX/trackml/train_all/event000006972\n",
      "Preparing /global/cscratch1/sd/danieltm/ExaTrkX/trackml/train_all/event000002484\n",
      "Preparing /global/cscratch1/sd/danieltm/ExaTrkX/trackml/train_all/event000006871\n",
      "Preparing /global/cscratch1/sd/danieltm/ExaTrkX/trackml/train_all/event000009672\n",
      "Preparing /global/cscratch1/sd/danieltm/ExaTrkX/trackml/train_all/event000007611\n",
      "Preparing /global/cscratch1/sd/danieltm/ExaTrkX/trackml/train_all/event000006286\n",
      "Preparing /global/cscratch1/sd/danieltm/ExaTrkX/trackml/train_all/event000006137\n",
      "Preparing /global/cscratch1/sd/danieltm/ExaTrkX/trackml/train_all/event000005391\n",
      "Preparing /global/cscratch1/sd/danieltm/ExaTrkX/trackml/train_all/event000001533\n",
      "Preparing /global/cscratch1/sd/danieltm/ExaTrkX/trackml/train_all/event000001981\n",
      "Preparing /global/cscratch1/sd/danieltm/ExaTrkX/trackml/train_all/event000009961\n",
      "Preparing /global/cscratch1/sd/danieltm/ExaTrkX/trackml/train_all/event000005121\n",
      "Preparing /global/cscratch1/sd/danieltm/ExaTrkX/trackml/train_all/event000002804\n",
      "Preparing /global/cscratch1/sd/danieltm/ExaTrkX/trackml/train_all/event000004719\n",
      "Preparing /global/cscratch1/sd/danieltm/ExaTrkX/trackml/train_all/event000004785\n",
      "Preparing /global/cscratch1/sd/danieltm/ExaTrkX/trackml/train_all/event000002730\n",
      "Preparing /global/cscratch1/sd/danieltm/ExaTrkX/trackml/train_all/event000003169\n",
      "Preparing /global/cscratch1/sd/danieltm/ExaTrkX/trackml/train_all/event000006799\n",
      "Preparing /global/cscratch1/sd/danieltm/ExaTrkX/trackml/train_all/event000003112\n",
      "Preparing /global/cscratch1/sd/danieltm/ExaTrkX/trackml/train_all/event000008353\n",
      "Preparing /global/cscratch1/sd/danieltm/ExaTrkX/trackml/train_all/event000008907\n",
      "Preparing /global/cscratch1/sd/danieltm/ExaTrkX/trackml/train_all/event000009870\n",
      "Preparing /global/cscratch1/sd/danieltm/ExaTrkX/trackml/train_all/event000004645\n",
      "Preparing /global/cscratch1/sd/danieltm/ExaTrkX/trackml/train_all/event000001358\n",
      "Preparing /global/cscratch1/sd/danieltm/ExaTrkX/trackml/train_all/event000007942\n",
      "Preparing /global/cscratch1/sd/danieltm/ExaTrkX/trackml/train_all/event000002192\n",
      "Preparing /global/cscratch1/sd/danieltm/ExaTrkX/trackml/train_all/event000008447\n",
      "Preparing /global/cscratch1/sd/danieltm/ExaTrkX/trackml/train_all/event000005988\n",
      "Preparing /global/cscratch1/sd/danieltm/ExaTrkX/trackml/train_all/event000006590\n",
      "Preparing /global/cscratch1/sd/danieltm/ExaTrkX/trackml/train_all/event000002818\n",
      "Preparing /global/cscratch1/sd/danieltm/ExaTrkX/trackml/train_all/event000004577\n",
      "Preparing /global/cscratch1/sd/danieltm/ExaTrkX/trackml/train_all/event000004890\n",
      "Preparing /global/cscratch1/sd/danieltm/ExaTrkX/trackml/train_all/event000003749\n",
      "Preparing /global/cscratch1/sd/danieltm/ExaTrkX/trackml/train_all/event000004998\n",
      "Preparing /global/cscratch1/sd/danieltm/ExaTrkX/trackml/train_all/event000006491\n",
      "Preparing /global/cscratch1/sd/danieltm/ExaTrkX/trackml/train_all/event000003544\n",
      "Preparing /global/cscratch1/sd/danieltm/ExaTrkX/trackml/train_all/event000003551\n",
      "Preparing /global/cscratch1/sd/danieltm/ExaTrkX/trackml/train_all/event000002657\n",
      "Preparing /global/cscratch1/sd/danieltm/ExaTrkX/trackml/train_all/event000005501\n",
      "Preparing /global/cscratch1/sd/danieltm/ExaTrkX/trackml/train_all/event000003876\n",
      "Preparing /global/cscratch1/sd/danieltm/ExaTrkX/trackml/train_all/event000002176\n",
      "Preparing /global/cscratch1/sd/danieltm/ExaTrkX/trackml/train_all/event000007629\n",
      "Preparing /global/cscratch1/sd/danieltm/ExaTrkX/trackml/train_all/event000003339\n",
      "Preparing /global/cscratch1/sd/danieltm/ExaTrkX/trackml/train_all/event000007788\n",
      "Preparing /global/cscratch1/sd/danieltm/ExaTrkX/trackml/train_all/event000004138\n",
      "Preparing /global/cscratch1/sd/danieltm/ExaTrkX/trackml/train_all/event000009046\n",
      "Preparing /global/cscratch1/sd/danieltm/ExaTrkX/trackml/train_all/event000006907\n",
      "Preparing /global/cscratch1/sd/danieltm/ExaTrkX/trackml/train_all/event000004717\n",
      "Preparing /global/cscratch1/sd/danieltm/ExaTrkX/trackml/train_all/event000008060\n",
      "Preparing /global/cscratch1/sd/danieltm/ExaTrkX/trackml/train_all/event000001865\n",
      "Preparing /global/cscratch1/sd/danieltm/ExaTrkX/trackml/train_all/event000007868\n",
      "Preparing /global/cscratch1/sd/danieltm/ExaTrkX/trackml/train_all/event000009993\n",
      "Preparing /global/cscratch1/sd/danieltm/ExaTrkX/trackml/train_all/event000008281\n",
      "Preparing /global/cscratch1/sd/danieltm/ExaTrkX/trackml/train_all/event000001195\n",
      "Preparing /global/cscratch1/sd/danieltm/ExaTrkX/trackml/train_all/event000009095\n",
      "Preparing /global/cscratch1/sd/danieltm/ExaTrkX/trackml/train_all/event000001177\n",
      "Preparing /global/cscratch1/sd/danieltm/ExaTrkX/trackml/train_all/event000002139\n",
      "Preparing /global/cscratch1/sd/danieltm/ExaTrkX/trackml/train_all/event000009675\n",
      "Preparing /global/cscratch1/sd/danieltm/ExaTrkX/trackml/train_all/event000004937\n",
      "Preparing /global/cscratch1/sd/danieltm/ExaTrkX/trackml/train_all/event000002508\n",
      "Preparing /global/cscratch1/sd/danieltm/ExaTrkX/trackml/train_all/event000002000\n",
      "Preparing /global/cscratch1/sd/danieltm/ExaTrkX/trackml/train_all/event000001682\n",
      "Preparing /global/cscratch1/sd/danieltm/ExaTrkX/trackml/train_all/event000002769\n",
      "Preparing /global/cscratch1/sd/danieltm/ExaTrkX/trackml/train_all/event000007080\n",
      "Preparing /global/cscratch1/sd/danieltm/ExaTrkX/trackml/train_all/event000006877\n",
      "Preparing /global/cscratch1/sd/danieltm/ExaTrkX/trackml/train_all/event000004537\n",
      "Preparing /global/cscratch1/sd/danieltm/ExaTrkX/trackml/train_all/event000006553\n",
      "Preparing /global/cscratch1/sd/danieltm/ExaTrkX/trackml/train_all/event000005757\n",
      "Preparing /global/cscratch1/sd/danieltm/ExaTrkX/trackml/train_all/event000006388\n",
      "Preparing /global/cscratch1/sd/danieltm/ExaTrkX/trackml/train_all/event000009464\n",
      "Preparing /global/cscratch1/sd/danieltm/ExaTrkX/trackml/train_all/event000003267\n",
      "Preparing /global/cscratch1/sd/danieltm/ExaTrkX/trackml/train_all/event000004345\n",
      "Preparing /global/cscratch1/sd/danieltm/ExaTrkX/trackml/train_all/event000002160\n",
      "Preparing /global/cscratch1/sd/danieltm/ExaTrkX/trackml/train_all/event000005815\n",
      "Preparing /global/cscratch1/sd/danieltm/ExaTrkX/trackml/train_all/event000001423\n",
      "Preparing /global/cscratch1/sd/danieltm/ExaTrkX/trackml/train_all/event000001349\n",
      "Preparing /global/cscratch1/sd/danieltm/ExaTrkX/trackml/train_all/event000002862\n",
      "Preparing /global/cscratch1/sd/danieltm/ExaTrkX/trackml/train_all/event000007168\n",
      "Preparing /global/cscratch1/sd/danieltm/ExaTrkX/trackml/train_all/event000008822\n",
      "Preparing /global/cscratch1/sd/danieltm/ExaTrkX/trackml/train_all/event000004639\n",
      "Preparing /global/cscratch1/sd/danieltm/ExaTrkX/trackml/train_all/event000006966\n",
      "Preparing /global/cscratch1/sd/danieltm/ExaTrkX/trackml/train_all/event000001303\n",
      "Preparing /global/cscratch1/sd/danieltm/ExaTrkX/trackml/train_all/event000004346\n"
     ]
    },
    {
     "name": "stdout",
     "output_type": "stream",
     "text": [
      "Preparing /global/cscratch1/sd/danieltm/ExaTrkX/trackml/train_all/event000006757\n",
      "Preparing /global/cscratch1/sd/danieltm/ExaTrkX/trackml/train_all/event000001183\n",
      "Preparing /global/cscratch1/sd/danieltm/ExaTrkX/trackml/train_all/event000002589\n",
      "Preparing /global/cscratch1/sd/danieltm/ExaTrkX/trackml/train_all/event000001825\n",
      "Preparing /global/cscratch1/sd/danieltm/ExaTrkX/trackml/train_all/event000004169\n",
      "Preparing /global/cscratch1/sd/danieltm/ExaTrkX/trackml/train_all/event000008903\n",
      "Preparing /global/cscratch1/sd/danieltm/ExaTrkX/trackml/train_all/event000001674\n",
      "Preparing /global/cscratch1/sd/danieltm/ExaTrkX/trackml/train_all/event000009811\n",
      "Preparing /global/cscratch1/sd/danieltm/ExaTrkX/trackml/train_all/event000009694\n",
      "Preparing /global/cscratch1/sd/danieltm/ExaTrkX/trackml/train_all/event000008140\n",
      "Preparing /global/cscratch1/sd/danieltm/ExaTrkX/trackml/train_all/event000003982\n",
      "Preparing /global/cscratch1/sd/danieltm/ExaTrkX/trackml/train_all/event000002668\n",
      "Preparing /global/cscratch1/sd/danieltm/ExaTrkX/trackml/train_all/event000009423\n",
      "Preparing /global/cscratch1/sd/danieltm/ExaTrkX/trackml/train_all/event000006386\n",
      "Preparing /global/cscratch1/sd/danieltm/ExaTrkX/trackml/train_all/event000002148\n",
      "Preparing /global/cscratch1/sd/danieltm/ExaTrkX/trackml/train_all/event000001582\n",
      "Preparing /global/cscratch1/sd/danieltm/ExaTrkX/trackml/train_all/event000009722\n",
      "Preparing /global/cscratch1/sd/danieltm/ExaTrkX/trackml/train_all/event000009286\n",
      "Preparing /global/cscratch1/sd/danieltm/ExaTrkX/trackml/train_all/event000004906\n",
      "Preparing /global/cscratch1/sd/danieltm/ExaTrkX/trackml/train_all/event000002467\n",
      "Preparing /global/cscratch1/sd/danieltm/ExaTrkX/trackml/train_all/event000007057\n",
      "Preparing /global/cscratch1/sd/danieltm/ExaTrkX/trackml/train_all/event000005840\n",
      "Preparing /global/cscratch1/sd/danieltm/ExaTrkX/trackml/train_all/event000008687\n",
      "Preparing /global/cscratch1/sd/danieltm/ExaTrkX/trackml/train_all/event000003954\n",
      "Preparing /global/cscratch1/sd/danieltm/ExaTrkX/trackml/train_all/event000005788\n",
      "Preparing /global/cscratch1/sd/danieltm/ExaTrkX/trackml/train_all/event000007357\n",
      "Preparing /global/cscratch1/sd/danieltm/ExaTrkX/trackml/train_all/event000006632\n",
      "Preparing /global/cscratch1/sd/danieltm/ExaTrkX/trackml/train_all/event000004449\n",
      "Preparing /global/cscratch1/sd/danieltm/ExaTrkX/trackml/train_all/event000009039\n",
      "Preparing /global/cscratch1/sd/danieltm/ExaTrkX/trackml/train_all/event000004990\n",
      "Preparing /global/cscratch1/sd/danieltm/ExaTrkX/trackml/train_all/event000004544\n",
      "Preparing /global/cscratch1/sd/danieltm/ExaTrkX/trackml/train_all/event000008003\n",
      "Preparing /global/cscratch1/sd/danieltm/ExaTrkX/trackml/train_all/event000005269\n",
      "Preparing /global/cscratch1/sd/danieltm/ExaTrkX/trackml/train_all/event000001124\n",
      "Preparing /global/cscratch1/sd/danieltm/ExaTrkX/trackml/train_all/event000006549\n",
      "Preparing /global/cscratch1/sd/danieltm/ExaTrkX/trackml/train_all/event000007052\n",
      "Preparing /global/cscratch1/sd/danieltm/ExaTrkX/trackml/train_all/event000004588\n",
      "Preparing /global/cscratch1/sd/danieltm/ExaTrkX/trackml/train_all/event000005682\n",
      "Preparing /global/cscratch1/sd/danieltm/ExaTrkX/trackml/train_all/event000009635\n",
      "Preparing /global/cscratch1/sd/danieltm/ExaTrkX/trackml/train_all/event000005008\n",
      "Preparing /global/cscratch1/sd/danieltm/ExaTrkX/trackml/train_all/event000008240\n",
      "Preparing /global/cscratch1/sd/danieltm/ExaTrkX/trackml/train_all/event000005379\n",
      "Preparing /global/cscratch1/sd/danieltm/ExaTrkX/trackml/train_all/event000002751\n",
      "Preparing /global/cscratch1/sd/danieltm/ExaTrkX/trackml/train_all/event000007899\n",
      "Preparing /global/cscratch1/sd/danieltm/ExaTrkX/trackml/train_all/event000001964\n",
      "Preparing /global/cscratch1/sd/danieltm/ExaTrkX/trackml/train_all/event000007089\n",
      "Preparing /global/cscratch1/sd/danieltm/ExaTrkX/trackml/train_all/event000009632\n",
      "Preparing /global/cscratch1/sd/danieltm/ExaTrkX/trackml/train_all/event000005344\n",
      "Preparing /global/cscratch1/sd/danieltm/ExaTrkX/trackml/train_all/event000006913\n",
      "Preparing /global/cscratch1/sd/danieltm/ExaTrkX/trackml/train_all/event000007749\n",
      "Preparing /global/cscratch1/sd/danieltm/ExaTrkX/trackml/train_all/event000007538\n",
      "Preparing /global/cscratch1/sd/danieltm/ExaTrkX/trackml/train_all/event000005399\n",
      "Preparing /global/cscratch1/sd/danieltm/ExaTrkX/trackml/train_all/event000005078\n",
      "Preparing /global/cscratch1/sd/danieltm/ExaTrkX/trackml/train_all/event000005837\n",
      "Preparing /global/cscratch1/sd/danieltm/ExaTrkX/trackml/train_all/event000007926\n",
      "Preparing /global/cscratch1/sd/danieltm/ExaTrkX/trackml/train_all/event000006001\n",
      "Preparing /global/cscratch1/sd/danieltm/ExaTrkX/trackml/train_all/event000009564\n",
      "Preparing /global/cscratch1/sd/danieltm/ExaTrkX/trackml/train_all/event000002500\n",
      "Preparing /global/cscratch1/sd/danieltm/ExaTrkX/trackml/train_all/event000002992\n",
      "Preparing /global/cscratch1/sd/danieltm/ExaTrkX/trackml/train_all/event000004780\n",
      "Preparing /global/cscratch1/sd/danieltm/ExaTrkX/trackml/train_all/event000003443\n",
      "Preparing /global/cscratch1/sd/danieltm/ExaTrkX/trackml/train_all/event000004706\n",
      "Preparing /global/cscratch1/sd/danieltm/ExaTrkX/trackml/train_all/event000001793\n",
      "Preparing /global/cscratch1/sd/danieltm/ExaTrkX/trackml/train_all/event000002114\n",
      "Preparing /global/cscratch1/sd/danieltm/ExaTrkX/trackml/train_all/event000004237\n",
      "Preparing /global/cscratch1/sd/danieltm/ExaTrkX/trackml/train_all/event000009264\n",
      "Preparing /global/cscratch1/sd/danieltm/ExaTrkX/trackml/train_all/event000007608\n",
      "Preparing /global/cscratch1/sd/danieltm/ExaTrkX/trackml/train_all/event000002960\n",
      "Preparing /global/cscratch1/sd/danieltm/ExaTrkX/trackml/train_all/event000002740\n",
      "Preparing /global/cscratch1/sd/danieltm/ExaTrkX/trackml/train_all/event000008195\n",
      "Preparing /global/cscratch1/sd/danieltm/ExaTrkX/trackml/train_all/event000003357\n",
      "Preparing /global/cscratch1/sd/danieltm/ExaTrkX/trackml/train_all/event000002576\n",
      "Preparing /global/cscratch1/sd/danieltm/ExaTrkX/trackml/train_all/event000001601\n",
      "Preparing /global/cscratch1/sd/danieltm/ExaTrkX/trackml/train_all/event000006053\n",
      "Preparing /global/cscratch1/sd/danieltm/ExaTrkX/trackml/train_all/event000003615\n",
      "Preparing /global/cscratch1/sd/danieltm/ExaTrkX/trackml/train_all/event000005653\n",
      "Preparing /global/cscratch1/sd/danieltm/ExaTrkX/trackml/train_all/event000004320\n",
      "Preparing /global/cscratch1/sd/danieltm/ExaTrkX/trackml/train_all/event000008652\n",
      "Preparing /global/cscratch1/sd/danieltm/ExaTrkX/trackml/train_all/event000006966\n",
      "Preparing /global/cscratch1/sd/danieltm/ExaTrkX/trackml/train_all/event000007389\n",
      "Preparing /global/cscratch1/sd/danieltm/ExaTrkX/trackml/train_all/event000005584\n",
      "Preparing /global/cscratch1/sd/danieltm/ExaTrkX/trackml/train_all/event000009696\n",
      "Preparing /global/cscratch1/sd/danieltm/ExaTrkX/trackml/train_all/event000001354\n",
      "Preparing /global/cscratch1/sd/danieltm/ExaTrkX/trackml/train_all/event000007893\n",
      "Preparing /global/cscratch1/sd/danieltm/ExaTrkX/trackml/train_all/event000002960\n",
      "Preparing /global/cscratch1/sd/danieltm/ExaTrkX/trackml/train_all/event000002066\n",
      "Preparing /global/cscratch1/sd/danieltm/ExaTrkX/trackml/train_all/event000003934\n",
      "Preparing /global/cscratch1/sd/danieltm/ExaTrkX/trackml/train_all/event000001903\n",
      "Preparing /global/cscratch1/sd/danieltm/ExaTrkX/trackml/train_all/event000005435\n",
      "Preparing /global/cscratch1/sd/danieltm/ExaTrkX/trackml/train_all/event000001251\n",
      "Preparing /global/cscratch1/sd/danieltm/ExaTrkX/trackml/train_all/event000009889\n",
      "Preparing /global/cscratch1/sd/danieltm/ExaTrkX/trackml/train_all/event000007376\n",
      "Preparing /global/cscratch1/sd/danieltm/ExaTrkX/trackml/train_all/event000008687\n",
      "Preparing /global/cscratch1/sd/danieltm/ExaTrkX/trackml/train_all/event000002088\n",
      "Preparing /global/cscratch1/sd/danieltm/ExaTrkX/trackml/train_all/event000002972\n",
      "Preparing /global/cscratch1/sd/danieltm/ExaTrkX/trackml/train_all/event000009325\n",
      "Preparing /global/cscratch1/sd/danieltm/ExaTrkX/trackml/train_all/event000009203\n",
      "Preparing /global/cscratch1/sd/danieltm/ExaTrkX/trackml/train_all/event000002909\n",
      "Preparing /global/cscratch1/sd/danieltm/ExaTrkX/trackml/train_all/event000001446\n",
      "Preparing /global/cscratch1/sd/danieltm/ExaTrkX/trackml/train_all/event000005413\n",
      "Preparing /global/cscratch1/sd/danieltm/ExaTrkX/trackml/train_all/event000009439\n",
      "Preparing /global/cscratch1/sd/danieltm/ExaTrkX/trackml/train_all/event000003982\n"
     ]
    },
    {
     "name": "stdout",
     "output_type": "stream",
     "text": [
      "Preparing /global/cscratch1/sd/danieltm/ExaTrkX/trackml/train_all/event000007439\n",
      "Preparing /global/cscratch1/sd/danieltm/ExaTrkX/trackml/train_all/event000001171\n",
      "Preparing /global/cscratch1/sd/danieltm/ExaTrkX/trackml/train_all/event000002750\n",
      "Preparing /global/cscratch1/sd/danieltm/ExaTrkX/trackml/train_all/event000001357\n",
      "Preparing /global/cscratch1/sd/danieltm/ExaTrkX/trackml/train_all/event000002867\n",
      "Preparing /global/cscratch1/sd/danieltm/ExaTrkX/trackml/train_all/event000003177\n",
      "Preparing /global/cscratch1/sd/danieltm/ExaTrkX/trackml/train_all/event000002632\n",
      "Preparing /global/cscratch1/sd/danieltm/ExaTrkX/trackml/train_all/event000005171\n",
      "Preparing /global/cscratch1/sd/danieltm/ExaTrkX/trackml/train_all/event000004702\n",
      "Preparing /global/cscratch1/sd/danieltm/ExaTrkX/trackml/train_all/event000006617\n",
      "Preparing /global/cscratch1/sd/danieltm/ExaTrkX/trackml/train_all/event000001038\n",
      "Preparing /global/cscratch1/sd/danieltm/ExaTrkX/trackml/train_all/event000005485\n",
      "Preparing /global/cscratch1/sd/danieltm/ExaTrkX/trackml/train_all/event000001730\n",
      "Preparing /global/cscratch1/sd/danieltm/ExaTrkX/trackml/train_all/event000005576\n",
      "Preparing /global/cscratch1/sd/danieltm/ExaTrkX/trackml/train_all/event000003387\n",
      "Preparing /global/cscratch1/sd/danieltm/ExaTrkX/trackml/train_all/event000005042\n",
      "Preparing /global/cscratch1/sd/danieltm/ExaTrkX/trackml/train_all/event000003684\n",
      "Preparing /global/cscratch1/sd/danieltm/ExaTrkX/trackml/train_all/event000004705\n",
      "Preparing /global/cscratch1/sd/danieltm/ExaTrkX/trackml/train_all/event000004827\n",
      "Preparing /global/cscratch1/sd/danieltm/ExaTrkX/trackml/train_all/event000007932\n",
      "Preparing /global/cscratch1/sd/danieltm/ExaTrkX/trackml/train_all/event000004224\n",
      "Preparing /global/cscratch1/sd/danieltm/ExaTrkX/trackml/train_all/event000004261\n",
      "Preparing /global/cscratch1/sd/danieltm/ExaTrkX/trackml/train_all/event000001195\n",
      "Preparing /global/cscratch1/sd/danieltm/ExaTrkX/trackml/train_all/event000008316\n",
      "Preparing /global/cscratch1/sd/danieltm/ExaTrkX/trackml/train_all/event000007098\n",
      "Preparing /global/cscratch1/sd/danieltm/ExaTrkX/trackml/train_all/event000005359\n",
      "Preparing /global/cscratch1/sd/danieltm/ExaTrkX/trackml/train_all/event000002259\n",
      "Preparing /global/cscratch1/sd/danieltm/ExaTrkX/trackml/train_all/event000007939\n",
      "Preparing /global/cscratch1/sd/danieltm/ExaTrkX/trackml/train_all/event000009228\n",
      "Preparing /global/cscratch1/sd/danieltm/ExaTrkX/trackml/train_all/event000001590\n",
      "Preparing /global/cscratch1/sd/danieltm/ExaTrkX/trackml/train_all/event000006406\n",
      "Preparing /global/cscratch1/sd/danieltm/ExaTrkX/trackml/train_all/event000003874\n",
      "Preparing /global/cscratch1/sd/danieltm/ExaTrkX/trackml/train_all/event000002227\n",
      "Preparing /global/cscratch1/sd/danieltm/ExaTrkX/trackml/train_all/event000005113\n",
      "Preparing /global/cscratch1/sd/danieltm/ExaTrkX/trackml/train_all/event000009535\n",
      "Preparing /global/cscratch1/sd/danieltm/ExaTrkX/trackml/train_all/event000009049\n",
      "Preparing /global/cscratch1/sd/danieltm/ExaTrkX/trackml/train_all/event000009506\n",
      "Preparing /global/cscratch1/sd/danieltm/ExaTrkX/trackml/train_all/event000003027\n",
      "Preparing /global/cscratch1/sd/danieltm/ExaTrkX/trackml/train_all/event000007398\n",
      "Preparing /global/cscratch1/sd/danieltm/ExaTrkX/trackml/train_all/event000007880\n",
      "Preparing /global/cscratch1/sd/danieltm/ExaTrkX/trackml/train_all/event000003807\n",
      "Preparing /global/cscratch1/sd/danieltm/ExaTrkX/trackml/train_all/event000002939\n",
      "Preparing /global/cscratch1/sd/danieltm/ExaTrkX/trackml/train_all/event000002714\n",
      "Preparing /global/cscratch1/sd/danieltm/ExaTrkX/trackml/train_all/event000004521\n",
      "Preparing /global/cscratch1/sd/danieltm/ExaTrkX/trackml/train_all/event000002179\n",
      "Preparing /global/cscratch1/sd/danieltm/ExaTrkX/trackml/train_all/event000002892\n",
      "Preparing /global/cscratch1/sd/danieltm/ExaTrkX/trackml/train_all/event000009885\n",
      "Preparing /global/cscratch1/sd/danieltm/ExaTrkX/trackml/train_all/event000001413\n",
      "Preparing /global/cscratch1/sd/danieltm/ExaTrkX/trackml/train_all/event000007620\n",
      "Preparing /global/cscratch1/sd/danieltm/ExaTrkX/trackml/train_all/event000006210\n",
      "Preparing /global/cscratch1/sd/danieltm/ExaTrkX/trackml/train_all/event000006463\n",
      "Preparing /global/cscratch1/sd/danieltm/ExaTrkX/trackml/train_all/event000006282\n",
      "Preparing /global/cscratch1/sd/danieltm/ExaTrkX/trackml/train_all/event000009355\n",
      "Preparing /global/cscratch1/sd/danieltm/ExaTrkX/trackml/train_all/event000002499\n",
      "Preparing /global/cscratch1/sd/danieltm/ExaTrkX/trackml/train_all/event000008175\n",
      "Preparing /global/cscratch1/sd/danieltm/ExaTrkX/trackml/train_all/event000004926\n",
      "Preparing /global/cscratch1/sd/danieltm/ExaTrkX/trackml/train_all/event000007895\n",
      "Preparing /global/cscratch1/sd/danieltm/ExaTrkX/trackml/train_all/event000002151\n",
      "Preparing /global/cscratch1/sd/danieltm/ExaTrkX/trackml/train_all/event000004316\n",
      "Preparing /global/cscratch1/sd/danieltm/ExaTrkX/trackml/train_all/event000003127\n",
      "Preparing /global/cscratch1/sd/danieltm/ExaTrkX/trackml/train_all/event000004536\n",
      "Preparing /global/cscratch1/sd/danieltm/ExaTrkX/trackml/train_all/event000004413\n",
      "Preparing /global/cscratch1/sd/danieltm/ExaTrkX/trackml/train_all/event000008361\n",
      "Preparing /global/cscratch1/sd/danieltm/ExaTrkX/trackml/train_all/event000001165\n",
      "Preparing /global/cscratch1/sd/danieltm/ExaTrkX/trackml/train_all/event000009056\n",
      "Preparing /global/cscratch1/sd/danieltm/ExaTrkX/trackml/train_all/event000008647\n",
      "Preparing /global/cscratch1/sd/danieltm/ExaTrkX/trackml/train_all/event000007761\n",
      "Preparing /global/cscratch1/sd/danieltm/ExaTrkX/trackml/train_all/event000009817\n",
      "Preparing /global/cscratch1/sd/danieltm/ExaTrkX/trackml/train_all/event000005966\n",
      "Preparing /global/cscratch1/sd/danieltm/ExaTrkX/trackml/train_all/event000007964\n",
      "Preparing /global/cscratch1/sd/danieltm/ExaTrkX/trackml/train_all/event000002170\n",
      "Preparing /global/cscratch1/sd/danieltm/ExaTrkX/trackml/train_all/event000002466\n",
      "Preparing /global/cscratch1/sd/danieltm/ExaTrkX/trackml/train_all/event000005745\n",
      "Preparing /global/cscratch1/sd/danieltm/ExaTrkX/trackml/train_all/event000005338\n",
      "Preparing /global/cscratch1/sd/danieltm/ExaTrkX/trackml/train_all/event000006494\n",
      "Preparing /global/cscratch1/sd/danieltm/ExaTrkX/trackml/train_all/event000009074\n",
      "Preparing /global/cscratch1/sd/danieltm/ExaTrkX/trackml/train_all/event000004695\n",
      "Preparing /global/cscratch1/sd/danieltm/ExaTrkX/trackml/train_all/event000008306\n",
      "Preparing /global/cscratch1/sd/danieltm/ExaTrkX/trackml/train_all/event000002313\n",
      "Preparing /global/cscratch1/sd/danieltm/ExaTrkX/trackml/train_all/event000009702\n",
      "CPU times: user 7min 2s, sys: 39.1 s, total: 7min 41s\n",
      "Wall time: 10min 42s\n"
     ]
    }
   ],
   "source": [
    "%%time\n",
    "train_dataset = [prepare_event(event_file, pt_cut, [1000, np.pi, 1000], True) for event_file in all_events[:train_number]]\n",
    "test_dataset = [prepare_event(event_file, pt_cut, [1000, np.pi, 1000], True) for event_file in all_events[-test_number:]]"
   ]
  },
  {
   "cell_type": "code",
   "execution_count": 28,
   "metadata": {
    "hidden": true
   },
   "outputs": [],
   "source": [
    "with open(os.path.join(basename, str(train_number) + \"_events_train\"), 'wb') as pickle_file:\n",
    "#     pickle.dump(train_dataset, pickle_file)\n",
    "    torch.save(train_dataset, pickle_file)\n",
    "with open(os.path.join(basename, str(test_number) + \"_events_test\"), 'wb') as pickle_file:\n",
    "#     pickle.dump(train_dataset, pickle_file)\n",
    "    torch.save(test_dataset, pickle_file)"
   ]
  },
  {
   "cell_type": "markdown",
   "metadata": {
    "heading_collapsed": true
   },
   "source": [
    "### Load Scrubbed Events"
   ]
  },
  {
   "cell_type": "code",
   "execution_count": 2,
   "metadata": {
    "hidden": true
   },
   "outputs": [],
   "source": [
    "pt_cut = 0.5\n",
    "train_number = 1000\n",
    "test_number = 100\n",
    "load_dir = \"/global/cscratch1/sd/danieltm/ExaTrkX/trackml_processed/\"\n",
    "train_path = os.path.join(load_dir, str(pt_cut) + \"_pt_cut\", str(train_number) + \"_events_train\")\n",
    "test_path = os.path.join(load_dir, str(pt_cut) + \"_pt_cut\", str(test_number) + \"_events_test\")"
   ]
  },
  {
   "cell_type": "code",
   "execution_count": 3,
   "metadata": {
    "hidden": true
   },
   "outputs": [
    {
     "name": "stdout",
     "output_type": "stream",
     "text": [
      "CPU times: user 152 ms, sys: 870 ms, total: 1.02 s\n",
      "Wall time: 1.26 s\n"
     ]
    }
   ],
   "source": [
    "%%time \n",
    "train_dataset = torch.load(train_path)\n",
    "test_dataset = torch.load(test_path)\n",
    "train_loader = DataLoader(train_dataset, batch_size=1, shuffle=True)\n",
    "test_loader = DataLoader(test_dataset, batch_size=1, shuffle=True)"
   ]
  },
  {
   "cell_type": "code",
   "execution_count": 8,
   "metadata": {
    "hidden": true
   },
   "outputs": [
    {
     "data": {
      "text/plain": [
       "Data(layers=[21007], pid=[21007], true_edges=[20692, 2], x=[21007, 3])"
      ]
     },
     "execution_count": 8,
     "metadata": {},
     "output_type": "execute_result"
    }
   ],
   "source": [
    "train_dataset[0]"
   ]
  },
  {
   "cell_type": "markdown",
   "metadata": {
    "heading_collapsed": true
   },
   "source": [
    "### Model Def"
   ]
  },
  {
   "cell_type": "code",
   "execution_count": 44,
   "metadata": {
    "code_folding": [
     0
    ],
    "hidden": true
   },
   "outputs": [],
   "source": [
    "class EdgeNetwork(nn.Module):\n",
    "    \"\"\"\n",
    "    A module which computes weights for edges of the graph.\n",
    "    For each edge, it selects the associated nodes' features\n",
    "    and applies some fully-connected network layers with a final\n",
    "    sigmoid activation.\n",
    "    \"\"\"\n",
    "    def __init__(self, input_dim, nb_layer=4, hidden_dim=8, hidden_activation=torch.nn.Tanh,\n",
    "                 layer_norm=True):\n",
    "        super(EdgeNetwork, self).__init__()\n",
    "        self.network = make_mlp(input_dim*2,\n",
    "                                [hidden_dim]*nb_layer + [1],\n",
    "                                hidden_activation=hidden_activation,\n",
    "                                output_activation=None,\n",
    "                                layer_norm=layer_norm)\n",
    "\n",
    "    def forward(self, x, edge_index):\n",
    "        # Select the features of the associated nodes\n",
    "        start, end = edge_index\n",
    "        x1, x2 = x[start], x[end]\n",
    "        edge_inputs = torch.cat([x[start], x[end]], dim=1)\n",
    "        return self.network(edge_inputs).squeeze(-1)\n",
    "\n",
    "class Edge_MLP(nn.Module):\n",
    "    def __init__(self, in_channels, emb_hidden, nb_layer, emb_dim=3):\n",
    "        super(Edge_MLP, self).__init__()\n",
    "\n",
    "        self.input_layer = nn.Linear(in_channels, emb_hidden)\n",
    "        self.edge_network = EdgeNetwork(emb_hidden, nb_layer, emb_hidden)\n",
    "        self.final_layer = nn.Linear(emb_hidden, 1)\n",
    "        self.norm = torch.nn.LayerNorm(emb_hidden)\n",
    "        \n",
    "    def forward(self, data):\n",
    "        x = self.input_layer(data.x)\n",
    "        x = self.norm(x)\n",
    "        e = self.edge_network(x, data.e)\n",
    "        return e"
   ]
  },
  {
   "cell_type": "code",
   "execution_count": 45,
   "metadata": {
    "code_folding": [
     2,
     27
    ],
    "hidden": true
   },
   "outputs": [],
   "source": [
    "sig = torch.nn.Sigmoid()\n",
    "\n",
    "def train_filter(model, filter_train_loader, optimizer, m_configs):\n",
    "    correct = 0\n",
    "    total = 0\n",
    "    total_loss = 0\n",
    "    for i, batch in enumerate(filter_train_loader):\n",
    "        optimizer.zero_grad()\n",
    "        data = batch.to(device)\n",
    "        pred = model(data)\n",
    "              \n",
    "        y = batch.pid[batch.e[0]] == batch.pid[batch.e[1]]\n",
    "                \n",
    "        loss = F.binary_cross_entropy_with_logits(pred.float(), y.float(), pos_weight=torch.tensor(m_configs[\"weight\"]))\n",
    "        \n",
    "        loss.backward()\n",
    "        optimizer.step()\n",
    "        total_loss += loss.item()\n",
    "        \n",
    "        true, false = y.float() > 0.5, y.float() < 0.5\n",
    "        positive, negative = sig(pred) > 0.5, sig(pred) < 0.5\n",
    "        \n",
    "        correct += ((sig(pred) > 0.5) == (y.float() > 0.5)).sum().item()\n",
    "        total += true.sum().item()\n",
    "    acc = correct/total\n",
    "    return acc, total_loss\n",
    "\n",
    "def evaluate_filter(model, filter_test_loader, m_configs):\n",
    "    correct, total_positive, total_true, true_positive, total, total_loss = 0, 1, 0, 0, 0, 0\n",
    "    \n",
    "    for batch in filter_test_loader:\n",
    "        data = batch.to(device)\n",
    "        pred = model(data)\n",
    "              \n",
    "        y = batch.pid[batch.e[0]] == batch.pid[batch.e[1]]\n",
    "                \n",
    "        loss = F.binary_cross_entropy_with_logits(pred.float(), y.float(), pos_weight=torch.tensor(m_configs[\"weight\"]))\n",
    "        total_loss += loss.item()\n",
    "        \n",
    "        true, false = y.float() > 0.5, y.float() < 0.5\n",
    "        positive, negative = sig(pred) > 0.5, sig(pred) < 0.5\n",
    "        true_positive += (true & positive).sum().item()\n",
    "        total_positive += max(positive.sum().item(), 1)\n",
    "        \n",
    "        correct += ((sig(pred) > 0.5) == (y.float() > 0.5)).sum().item()\n",
    "        total_true += max(true.sum().item(), 1)\n",
    "        \n",
    "#         print(\"True positive:\", (true & positive).sum().item(), \"True:\", true.sum().item(), \"Positive\", positive.sum().item())\n",
    "        \n",
    "        total += len(pred)\n",
    "\n",
    "    eff = (true_positive / total_true)\n",
    "    pur = (true_positive / total_positive)\n",
    "        \n",
    "    return eff, pur, total_loss"
   ]
  },
  {
   "cell_type": "markdown",
   "metadata": {
    "heading_collapsed": true
   },
   "source": [
    "### Train & Evaluate"
   ]
  },
  {
   "cell_type": "code",
   "execution_count": 65,
   "metadata": {
    "hidden": true
   },
   "outputs": [
    {
     "data": {
      "text/html": [
       "\n",
       "                Logging results to <a href=\"https://wandb.com\" target=\"_blank\">Weights & Biases</a> <a href=\"https://docs.wandb.com/integrations/jupyter.html\" target=\"_blank\">(Documentation)</a>.<br/>\n",
       "                Project page: <a href=\"https://app.wandb.ai/murnanedaniel/GravNet\" target=\"_blank\">https://app.wandb.ai/murnanedaniel/GravNet</a><br/>\n",
       "                Run page: <a href=\"https://app.wandb.ai/murnanedaniel/GravNet/runs/j33plvf6\" target=\"_blank\">https://app.wandb.ai/murnanedaniel/GravNet/runs/j33plvf6</a><br/>\n",
       "            "
      ],
      "text/plain": [
       "<IPython.core.display.HTML object>"
      ]
     },
     "metadata": {},
     "output_type": "display_data"
    },
    {
     "name": "stderr",
     "output_type": "stream",
     "text": [
      "Failed to query for notebook name, you can set it manually with the WANDB_NOTEBOOK_NAME environment variable\n",
      "\u001b[34m\u001b[1mwandb\u001b[0m: Wandb version 0.9.1 is available!  To upgrade, please run:\n",
      "\u001b[34m\u001b[1mwandb\u001b[0m:  $ pip install wandb --upgrade\n"
     ]
    }
   ],
   "source": [
    "m_configs = {\"in_channels\": 3, \"emb_hidden\": 128, \"nb_layer\": 3, \"emb_dim\": 8}\n",
    "other_configs = {\"weight\": 1}\n",
    "model = Edge_MLP(**m_configs).to(device)\n",
    "m_configs.update(other_configs)\n",
    "model_name = wandb.init(project=\"GravNet\", group=\"AdjacentEmbedding\", config=m_configs)\n",
    "wandb.watch(model, log='all')\n",
    "optimizer = torch.optim.AdamW(model.parameters(), lr=0.001, weight_decay=1e-3, amsgrad=True)\n",
    "scheduler = torch.optim.lr_scheduler.ReduceLROnPlateau(optimizer, factor=0.3, patience=10)"
   ]
  },
  {
   "cell_type": "code",
   "execution_count": null,
   "metadata": {
    "hidden": true,
    "scrolled": true
   },
   "outputs": [],
   "source": [
    "for epoch in range(100):\n",
    "    tic = tt() \n",
    "    model.train()\n",
    "    pur, train_loss = train_filter(model, filter_train_loader, optimizer, m_configs)\n",
    "    print('Training loss: {:.4f}'.format(train_loss))\n",
    "\n",
    "    model.eval()\n",
    "    with torch.no_grad():\n",
    "        eff, pur, val_loss = evaluate_filter(model, filter_test_loader, m_configs)\n",
    "    wandb.log({\"val_loss\": val_loss, \"train_loss\": train_loss, \"edge_pur\": pur, \"edge_eff\": eff, \"lr\": optimizer.param_groups[0]['lr']})\n",
    "    scheduler.step(val_loss)\n",
    "\n",
    "    save_model(epoch, model, optimizer, scheduler, val_loss, m_configs, 'Embedding/'+model_name._name+'.tar')\n",
    "\n",
    "    print('Epoch: {}, Eff: {:.4f}, Pur: {:.4f}, Loss: {:.4f}, LR: {} in time {}'.format(epoch, eff, pur, val_loss, optimizer.param_groups[0]['lr'], tt()-tic))"
   ]
  },
  {
   "cell_type": "markdown",
   "metadata": {
    "heading_collapsed": true
   },
   "source": [
    "### Results"
   ]
  },
  {
   "cell_type": "code",
   "execution_count": 61,
   "metadata": {
    "code_folding": [],
    "hidden": true,
    "scrolled": true
   },
   "outputs": [],
   "source": [
    "model.eval()\n",
    "\n",
    "total_pred = []\n",
    "total_y = []\n",
    "\n",
    "for batch in filter_test_loader:\n",
    "    data = batch.to(device)\n",
    "    pred = model(data)   \n",
    "    y = batch.pid[batch.e[0]] == batch.pid[batch.e[1]]\n",
    "\n",
    "    total_pred += pred.detach().cpu().numpy().tolist()\n",
    "    total_y += y.cpu().numpy().tolist()"
   ]
  },
  {
   "cell_type": "code",
   "execution_count": 62,
   "metadata": {
    "hidden": true
   },
   "outputs": [],
   "source": [
    "fpr, tpr, _ = metrics.roc_curve(total_y, total_pred)"
   ]
  },
  {
   "cell_type": "code",
   "execution_count": null,
   "metadata": {
    "hidden": true
   },
   "outputs": [],
   "source": [
    "list(zip(fpr[tpr>0.99], tpr[tpr>0.99]))"
   ]
  },
  {
   "cell_type": "code",
   "execution_count": 63,
   "metadata": {
    "hidden": true,
    "scrolled": true
   },
   "outputs": [
    {
     "data": {
      "text/plain": [
       "Text(0.5, 1.0, 'Filter over Biadjacent Embedding')"
      ]
     },
     "execution_count": 63,
     "metadata": {},
     "output_type": "execute_result"
    },
    {
     "data": {
      "image/png": "[encoded data removed]",
      "text/plain": [
       "<Figure size 432x288 with 1 Axes>"
      ]
     },
     "metadata": {
      "needs_background": "light"
     },
     "output_type": "display_data"
    }
   ],
   "source": [
    "fig, ax = plt.subplots()\n",
    "ax.plot(fpr, tpr)\n",
    "ax.text(0.4, 0.95, \"AUC: {:.4f}\".format(metrics.roc_auc_score(total_y, total_pred)), transform=ax.transAxes, fontsize=14,\n",
    "        verticalalignment='top', bbox=props)\n",
    "ax.set_xlabel(\"fpr\"), ax.set_ylabel(\"tpr\")\n",
    "ax.set_title(\"Filter over Biadjacent Embedding\")"
   ]
  },
  {
   "cell_type": "markdown",
   "metadata": {
    "hidden": true
   },
   "source": [
    "For the case of pT>1GeV, filter doesn't seem to have much effect."
   ]
  },
  {
   "cell_type": "markdown",
   "metadata": {},
   "source": [
    "## GNN Edge Classification"
   ]
  },
  {
   "cell_type": "markdown",
   "metadata": {
    "heading_collapsed": true
   },
   "source": [
    "### Prepare Edges from Embedding"
   ]
  },
  {
   "cell_type": "code",
   "execution_count": 15,
   "metadata": {
    "hidden": true
   },
   "outputs": [],
   "source": [
    "@torch.no_grad()\n",
    "def classify_gnn_event(model, batch, r):\n",
    "    model.eval()\n",
    "    data = batch.to(device)\n",
    "    \n",
    "    spatial = model(data.x)\n",
    "        \n",
    "    e_spatial = build_edges(spatial, r, 100, res)\n",
    "    e_adjacent = e_spatial[:, ((batch.layers[e_spatial[1]] - batch.layers[e_spatial[0]]) == 1)]\n",
    "    \n",
    "    e_adjacent = remove_duplicate_edges(data.x.cpu().numpy(), e_adjacent.cpu().numpy()).astype(int)\n",
    "    y = batch.pid[e_adjacent[0]] == batch.pid[e_adjacent[1]]\n",
    "    \n",
    "    data = Data(x = data.x.cpu(), y = y.float().cpu(), emb = spatial.cpu(), pid = data.pid.cpu(), e = torch.from_numpy(e_adjacent).int(), layers = data.layers.cpu(), true_edges = data.true_edges.cpu())\n",
    "    return data"
   ]
  },
  {
   "cell_type": "code",
   "execution_count": 16,
   "metadata": {
    "hidden": true
   },
   "outputs": [
    {
     "data": {
      "text/plain": [
       "<All keys matched successfully>"
      ]
     },
     "execution_count": 16,
     "metadata": {},
     "output_type": "execute_result"
    }
   ],
   "source": [
    "m_configs = {\"in_channels\": 3, \"emb_hidden\": 256, \"nb_layer\": 6, \"emb_dim\": 8}\n",
    "other_configs = {\"r_train\": 1, \"r_val\": 1, \"margin\": 1, 'reduction':'mean'}\n",
    "torch.manual_seed(torch_seed)\n",
    "embedding_model = Embedding(**m_configs).to(device)\n",
    "m_configs.update(other_configs)\n",
    "checkpoint = torch.load('../model_comparisons/Embedding/dry-puddle-502.tar')\n",
    "embedding_model.load_state_dict(checkpoint['model_state_dict'])"
   ]
  },
  {
   "cell_type": "code",
   "execution_count": 17,
   "metadata": {
    "hidden": true
   },
   "outputs": [],
   "source": [
    "r = 1.8\n",
    "# step = int((r-r_min)/r_step)\n",
    "# print(pur[step], eff[step])\n",
    "# cluster_eff = eff[step]"
   ]
  },
  {
   "cell_type": "code",
   "execution_count": 18,
   "metadata": {
    "hidden": true,
    "scrolled": true
   },
   "outputs": [
    {
     "name": "stdout",
     "output_type": "stream",
     "text": [
      "CPU times: user 1min 28s, sys: 7.26 s, total: 1min 36s\n",
      "Wall time: 1min 6s\n"
     ]
    }
   ],
   "source": [
    "%%time\n",
    "gnn_train_dataset = [classify_gnn_event(embedding_model, batch, r=r) for batch in train_loader]\n",
    "gnn_test_dataset = [classify_gnn_event(embedding_model, batch, r=r) for batch in test_loader]"
   ]
  },
  {
   "cell_type": "code",
   "execution_count": 19,
   "metadata": {
    "hidden": true
   },
   "outputs": [],
   "source": [
    "gnn_train_loader = DataLoader(gnn_train_dataset, batch_size=1, shuffle=True)\n",
    "gnn_test_loader = DataLoader(gnn_test_dataset, batch_size=1, shuffle=True)"
   ]
  },
  {
   "cell_type": "code",
   "execution_count": 25,
   "metadata": {
    "hidden": true,
    "scrolled": true
   },
   "outputs": [],
   "source": [
    "del embedding_model\n",
    "del checkpoint"
   ]
  },
  {
   "cell_type": "code",
   "execution_count": 26,
   "metadata": {
    "hidden": true
   },
   "outputs": [
    {
     "name": "stdout",
     "output_type": "stream",
     "text": [
      "0.0 MB\n"
     ]
    }
   ],
   "source": [
    "torch.cuda.empty_cache()\n",
    "print(torch.cuda.memory_allocated(device=device)/(1024**2), \"MB\")"
   ]
  },
  {
   "cell_type": "markdown",
   "metadata": {},
   "source": [
    "### Load Graph Data"
   ]
  },
  {
   "cell_type": "code",
   "execution_count": 7,
   "metadata": {},
   "outputs": [],
   "source": [
    "pt_cut = 0\n",
    "train_number = 1000\n",
    "test_number = 100\n",
    "load_dir = \"/global/cscratch1/sd/danieltm/ExaTrkX/trackml_processed/\"\n",
    "gnn_train_path = os.path.join(load_dir, str(pt_cut) + \"_pt_cut\", str(train_number) + \"_graphs_train\")\n",
    "gnn_test_path = os.path.join(load_dir, str(pt_cut) + \"_pt_cut\", str(test_number) + \"_graphs_test\")"
   ]
  },
  {
   "cell_type": "code",
   "execution_count": 8,
   "metadata": {},
   "outputs": [
    {
     "ename": "FileNotFoundError",
     "evalue": "[Errno 2] No such file or directory: '/global/cscratch1/sd/danieltm/ExaTrkX/trackml_processed/0_pt_cut/1000_graphs_train'",
     "output_type": "error",
     "traceback": [
      "\u001b[0;31m---------------------------------------------------------------------------\u001b[0m",
      "\u001b[0;31mFileNotFoundError\u001b[0m                         Traceback (most recent call last)",
      "\u001b[0;32m<timed exec>\u001b[0m in \u001b[0;36m<module>\u001b[0;34m\u001b[0m\n",
      "\u001b[0;32m~/.local/lib/python3.7/site-packages/torch/serialization.py\u001b[0m in \u001b[0;36mload\u001b[0;34m(f, map_location, pickle_module, **pickle_load_args)\u001b[0m\n\u001b[1;32m    582\u001b[0m         \u001b[0mpickle_load_args\u001b[0m\u001b[0;34m[\u001b[0m\u001b[0;34m'encoding'\u001b[0m\u001b[0;34m]\u001b[0m \u001b[0;34m=\u001b[0m \u001b[0;34m'utf-8'\u001b[0m\u001b[0;34m\u001b[0m\u001b[0;34m\u001b[0m\u001b[0m\n\u001b[1;32m    583\u001b[0m \u001b[0;34m\u001b[0m\u001b[0m\n\u001b[0;32m--> 584\u001b[0;31m     \u001b[0;32mwith\u001b[0m \u001b[0m_open_file_like\u001b[0m\u001b[0;34m(\u001b[0m\u001b[0mf\u001b[0m\u001b[0;34m,\u001b[0m \u001b[0;34m'rb'\u001b[0m\u001b[0;34m)\u001b[0m \u001b[0;32mas\u001b[0m \u001b[0mopened_file\u001b[0m\u001b[0;34m:\u001b[0m\u001b[0;34m\u001b[0m\u001b[0;34m\u001b[0m\u001b[0m\n\u001b[0m\u001b[1;32m    585\u001b[0m         \u001b[0;32mif\u001b[0m \u001b[0m_is_zipfile\u001b[0m\u001b[0;34m(\u001b[0m\u001b[0mopened_file\u001b[0m\u001b[0;34m)\u001b[0m\u001b[0;34m:\u001b[0m\u001b[0;34m\u001b[0m\u001b[0;34m\u001b[0m\u001b[0m\n\u001b[1;32m    586\u001b[0m             \u001b[0;32mwith\u001b[0m \u001b[0m_open_zipfile_reader\u001b[0m\u001b[0;34m(\u001b[0m\u001b[0mf\u001b[0m\u001b[0;34m)\u001b[0m \u001b[0;32mas\u001b[0m \u001b[0mopened_zipfile\u001b[0m\u001b[0;34m:\u001b[0m\u001b[0;34m\u001b[0m\u001b[0;34m\u001b[0m\u001b[0m\n",
      "\u001b[0;32m~/.local/lib/python3.7/site-packages/torch/serialization.py\u001b[0m in \u001b[0;36m_open_file_like\u001b[0;34m(name_or_buffer, mode)\u001b[0m\n\u001b[1;32m    232\u001b[0m \u001b[0;32mdef\u001b[0m \u001b[0m_open_file_like\u001b[0m\u001b[0;34m(\u001b[0m\u001b[0mname_or_buffer\u001b[0m\u001b[0;34m,\u001b[0m \u001b[0mmode\u001b[0m\u001b[0;34m)\u001b[0m\u001b[0;34m:\u001b[0m\u001b[0;34m\u001b[0m\u001b[0;34m\u001b[0m\u001b[0m\n\u001b[1;32m    233\u001b[0m     \u001b[0;32mif\u001b[0m \u001b[0m_is_path\u001b[0m\u001b[0;34m(\u001b[0m\u001b[0mname_or_buffer\u001b[0m\u001b[0;34m)\u001b[0m\u001b[0;34m:\u001b[0m\u001b[0;34m\u001b[0m\u001b[0;34m\u001b[0m\u001b[0m\n\u001b[0;32m--> 234\u001b[0;31m         \u001b[0;32mreturn\u001b[0m \u001b[0m_open_file\u001b[0m\u001b[0;34m(\u001b[0m\u001b[0mname_or_buffer\u001b[0m\u001b[0;34m,\u001b[0m \u001b[0mmode\u001b[0m\u001b[0;34m)\u001b[0m\u001b[0;34m\u001b[0m\u001b[0;34m\u001b[0m\u001b[0m\n\u001b[0m\u001b[1;32m    235\u001b[0m     \u001b[0;32melse\u001b[0m\u001b[0;34m:\u001b[0m\u001b[0;34m\u001b[0m\u001b[0;34m\u001b[0m\u001b[0m\n\u001b[1;32m    236\u001b[0m         \u001b[0;32mif\u001b[0m \u001b[0;34m'w'\u001b[0m \u001b[0;32min\u001b[0m \u001b[0mmode\u001b[0m\u001b[0;34m:\u001b[0m\u001b[0;34m\u001b[0m\u001b[0;34m\u001b[0m\u001b[0m\n",
      "\u001b[0;32m~/.local/lib/python3.7/site-packages/torch/serialization.py\u001b[0m in \u001b[0;36m__init__\u001b[0;34m(self, name, mode)\u001b[0m\n\u001b[1;32m    213\u001b[0m \u001b[0;32mclass\u001b[0m \u001b[0m_open_file\u001b[0m\u001b[0;34m(\u001b[0m\u001b[0m_opener\u001b[0m\u001b[0;34m)\u001b[0m\u001b[0;34m:\u001b[0m\u001b[0;34m\u001b[0m\u001b[0;34m\u001b[0m\u001b[0m\n\u001b[1;32m    214\u001b[0m     \u001b[0;32mdef\u001b[0m \u001b[0m__init__\u001b[0m\u001b[0;34m(\u001b[0m\u001b[0mself\u001b[0m\u001b[0;34m,\u001b[0m \u001b[0mname\u001b[0m\u001b[0;34m,\u001b[0m \u001b[0mmode\u001b[0m\u001b[0;34m)\u001b[0m\u001b[0;34m:\u001b[0m\u001b[0;34m\u001b[0m\u001b[0;34m\u001b[0m\u001b[0m\n\u001b[0;32m--> 215\u001b[0;31m         \u001b[0msuper\u001b[0m\u001b[0;34m(\u001b[0m\u001b[0m_open_file\u001b[0m\u001b[0;34m,\u001b[0m \u001b[0mself\u001b[0m\u001b[0;34m)\u001b[0m\u001b[0;34m.\u001b[0m\u001b[0m__init__\u001b[0m\u001b[0;34m(\u001b[0m\u001b[0mopen\u001b[0m\u001b[0;34m(\u001b[0m\u001b[0mname\u001b[0m\u001b[0;34m,\u001b[0m \u001b[0mmode\u001b[0m\u001b[0;34m)\u001b[0m\u001b[0;34m)\u001b[0m\u001b[0;34m\u001b[0m\u001b[0;34m\u001b[0m\u001b[0m\n\u001b[0m\u001b[1;32m    216\u001b[0m \u001b[0;34m\u001b[0m\u001b[0m\n\u001b[1;32m    217\u001b[0m     \u001b[0;32mdef\u001b[0m \u001b[0m__exit__\u001b[0m\u001b[0;34m(\u001b[0m\u001b[0mself\u001b[0m\u001b[0;34m,\u001b[0m \u001b[0;34m*\u001b[0m\u001b[0margs\u001b[0m\u001b[0;34m)\u001b[0m\u001b[0;34m:\u001b[0m\u001b[0;34m\u001b[0m\u001b[0;34m\u001b[0m\u001b[0m\n",
      "\u001b[0;31mFileNotFoundError\u001b[0m: [Errno 2] No such file or directory: '/global/cscratch1/sd/danieltm/ExaTrkX/trackml_processed/0_pt_cut/1000_graphs_train'"
     ]
    }
   ],
   "source": [
    "%%time\n",
    "gnn_train_dataset = torch.load(gnn_train_path)\n",
    "gnn_test_dataset = torch.load(gnn_test_path)\n",
    "gnn_train_loader = DataLoader(gnn_train_dataset, batch_size=1, shuffle=True)\n",
    "gnn_test_loader = DataLoader(gnn_test_dataset, batch_size=1, shuffle=True)"
   ]
  },
  {
   "cell_type": "code",
   "execution_count": 5,
   "metadata": {},
   "outputs": [],
   "source": [
    "def fix_y_batch(batch):\n",
    "    \n",
    "    data = Data(x = batch.x, y = batch.y, edge_index = batch.e.long())\n",
    "    \n",
    "    return data"
   ]
  },
  {
   "cell_type": "code",
   "execution_count": 6,
   "metadata": {},
   "outputs": [
    {
     "name": "stdout",
     "output_type": "stream",
     "text": [
      "CPU times: user 646 ms, sys: 1.21 s, total: 1.86 s\n",
      "Wall time: 965 ms\n"
     ]
    }
   ],
   "source": [
    "%%time\n",
    "gnn_train_dataset_fix = [fix_y_batch(batch) for batch in gnn_train_dataset]\n",
    "gnn_test_dataset_fix = [fix_y_batch(batch) for batch in gnn_test_dataset]"
   ]
  },
  {
   "cell_type": "code",
   "execution_count": 7,
   "metadata": {},
   "outputs": [
    {
     "name": "stdout",
     "output_type": "stream",
     "text": [
      "CPU times: user 23 µs, sys: 37 µs, total: 60 µs\n",
      "Wall time: 62.5 µs\n"
     ]
    }
   ],
   "source": [
    "%%time\n",
    "gnn_train_loader = DataLoader(gnn_train_dataset_fix, batch_size=1, shuffle=False, num_workers=4)\n",
    "gnn_test_loader = DataLoader(gnn_test_dataset_fix, batch_size=1, shuffle=False, num_workers=4)"
   ]
  },
  {
   "cell_type": "markdown",
   "metadata": {
    "heading_collapsed": true
   },
   "source": [
    "### Train"
   ]
  },
  {
   "cell_type": "markdown",
   "metadata": {
    "hidden": true
   },
   "source": [
    "New model:"
   ]
  },
  {
   "cell_type": "code",
   "execution_count": 13,
   "metadata": {
    "hidden": true
   },
   "outputs": [
    {
     "data": {
      "text/html": [
       "\n",
       "                Logging results to <a href=\"https://wandb.com\" target=\"_blank\">Weights & Biases</a> <a href=\"https://docs.wandb.com/integrations/jupyter.html\" target=\"_blank\">(Documentation)</a>.<br/>\n",
       "                Project page: <a href=\"https://app.wandb.ai/murnanedaniel/GravNet\" target=\"_blank\">https://app.wandb.ai/murnanedaniel/GravNet</a><br/>\n",
       "                Run page: <a href=\"https://app.wandb.ai/murnanedaniel/GravNet/runs/edkif7ke\" target=\"_blank\">https://app.wandb.ai/murnanedaniel/GravNet/runs/edkif7ke</a><br/>\n",
       "            "
      ],
      "text/plain": [
       "<IPython.core.display.HTML object>"
      ]
     },
     "metadata": {},
     "output_type": "display_data"
    },
    {
     "name": "stderr",
     "output_type": "stream",
     "text": [
      "Failed to query for notebook name, you can set it manually with the WANDB_NOTEBOOK_NAME environment variable\n",
      "\u001b[34m\u001b[1mwandb\u001b[0m: Wandb version 0.9.1 is available!  To upgrade, please run:\n",
      "\u001b[34m\u001b[1mwandb\u001b[0m:  $ pip install wandb --upgrade\n"
     ]
    }
   ],
   "source": [
    "m_configs = {\"in_channels\": 3, \"hidden_dim\": 64, \"n_graph_iters\": 6}\n",
    "torch.manual_seed(torch_seed)\n",
    "model = ResAGNN(**m_configs).to(device)\n",
    "other_configs = {\"weight\": 2}\n",
    "m_configs.update(other_configs)\n",
    "model_name = wandb.init(project=\"GravNet\", group=\"ResAGNN\", config=m_configs)\n",
    "wandb.watch(model, log='all')\n",
    "optimizer = torch.optim.AdamW(model.parameters(), lr=0.001, weight_decay=1e-3, amsgrad=True)\n",
    "scheduler = torch.optim.lr_scheduler.ReduceLROnPlateau(optimizer, factor=0.3, patience=10)"
   ]
  },
  {
   "cell_type": "markdown",
   "metadata": {
    "hidden": true
   },
   "source": [
    "...or load model:"
   ]
  },
  {
   "cell_type": "code",
   "execution_count": 14,
   "metadata": {
    "hidden": true
   },
   "outputs": [
    {
     "data": {
      "text/html": [
       "\n",
       "                Logging results to <a href=\"https://wandb.com\" target=\"_blank\">Weights & Biases</a> <a href=\"https://docs.wandb.com/integrations/jupyter.html\" target=\"_blank\">(Documentation)</a>.<br/>\n",
       "                Project page: <a href=\"https://app.wandb.ai/murnanedaniel/GravNet\" target=\"_blank\">https://app.wandb.ai/murnanedaniel/GravNet</a><br/>\n",
       "                Run page: <a href=\"https://app.wandb.ai/murnanedaniel/GravNet/runs/04shu00d\" target=\"_blank\">https://app.wandb.ai/murnanedaniel/GravNet/runs/04shu00d</a><br/>\n",
       "            "
      ],
      "text/plain": [
       "<IPython.core.display.HTML object>"
      ]
     },
     "metadata": {},
     "output_type": "display_data"
    },
    {
     "name": "stderr",
     "output_type": "stream",
     "text": [
      "Failed to query for notebook name, you can set it manually with the WANDB_NOTEBOOK_NAME environment variable\n",
      "\u001b[34m\u001b[1mwandb\u001b[0m: Wandb version 0.9.1 is available!  To upgrade, please run:\n",
      "\u001b[34m\u001b[1mwandb\u001b[0m:  $ pip install wandb --upgrade\n"
     ]
    },
    {
     "data": {
      "text/plain": [
       "[<wandb.wandb_torch.TorchGraph at 0x2aab7ffc7b10>]"
      ]
     },
     "execution_count": 14,
     "metadata": {},
     "output_type": "execute_result"
    }
   ],
   "source": [
    "m_configs = {\"in_channels\": 3, \"hidden_dim\": 64, \"n_graph_iters\": 6}\n",
    "torch.manual_seed(torch_seed)\n",
    "model = ResAGNN(**m_configs).to(device)\n",
    "other_configs = {\"weight\": 2}\n",
    "m_configs.update(other_configs)\n",
    "checkpoint = torch.load('../model_comparisons/ResAGNN/ethereal-wood-503.tar')\n",
    "model.load_state_dict(checkpoint['model_state_dict'])\n",
    "model_name = wandb.init(project=\"GravNet\", group=\"ResAGNN\", config=m_configs)\n",
    "wandb.watch(model, log='all')"
   ]
  },
  {
   "cell_type": "code",
   "execution_count": 15,
   "metadata": {
    "hidden": true
   },
   "outputs": [],
   "source": [
    "optimizer = torch.optim.AdamW(model.parameters(), lr=0.001, weight_decay=1e-3, amsgrad=True)\n",
    "scheduler = torch.optim.lr_scheduler.ReduceLROnPlateau(optimizer, factor=0.3, patience=10)\n",
    "optimizer.load_state_dict(checkpoint['optimizer_state_dict'])\n",
    "scheduler.load_state_dict(checkpoint['scheduler_state_dict'])"
   ]
  },
  {
   "cell_type": "code",
   "execution_count": 16,
   "metadata": {
    "hidden": true,
    "scrolled": true
   },
   "outputs": [
    {
     "name": "stderr",
     "output_type": "stream",
     "text": [
      "Failed to query for notebook name, you can set it manually with the WANDB_NOTEBOOK_NAME environment variable\n",
      "\u001b[34m\u001b[1mwandb\u001b[0m: Wandb version 0.9.1 is available!  To upgrade, please run:\n",
      "\u001b[34m\u001b[1mwandb\u001b[0m:  $ pip install wandb --upgrade\n"
     ]
    },
    {
     "name": "stdout",
     "output_type": "stream",
     "text": [
      "Training loss: 25.063142077997327\n",
      "Epoch: 0, Accuracy: 0.9929, Purity: 0.9604, Efficiency: 0.9898, Loss: 2.3208, LR: 0.001 in time 211.51566171646118\n",
      "Training loss: 24.163852674886584\n",
      "Epoch: 1, Accuracy: 0.9930, Purity: 0.9612, Efficiency: 0.9890, Loss: 2.3506, LR: 0.001 in time 211.6275191307068\n",
      "Training loss: 23.775235688313842\n",
      "Epoch: 2, Accuracy: 0.9937, Purity: 0.9663, Efficiency: 0.9894, Loss: 2.1385, LR: 0.001 in time 211.61263060569763\n",
      "Training loss: 23.52497413009405\n",
      "Epoch: 3, Accuracy: 0.9879, Purity: 0.9304, Efficiency: 0.9864, Loss: 3.7791, LR: 0.001 in time 211.66961789131165\n",
      "Training loss: 23.31285702250898\n",
      "Epoch: 4, Accuracy: 0.9931, Purity: 0.9628, Efficiency: 0.9884, Loss: 2.3456, LR: 0.001 in time 211.37088584899902\n",
      "Training loss: 23.0078675923869\n",
      "Epoch: 5, Accuracy: 0.9938, Purity: 0.9652, Efficiency: 0.9910, Loss: 2.0477, LR: 0.001 in time 211.63346529006958\n",
      "Training loss: 22.563860021531582\n",
      "Epoch: 6, Accuracy: 0.9934, Purity: 0.9631, Efficiency: 0.9901, Loss: 2.2067, LR: 0.001 in time 211.4949290752411\n",
      "Training loss: 22.3869682662189\n",
      "Epoch: 7, Accuracy: 0.9931, Purity: 0.9622, Efficiency: 0.9892, Loss: 2.2784, LR: 0.001 in time 211.50483536720276\n",
      "Training loss: 22.072958749718964\n",
      "Epoch: 8, Accuracy: 0.9935, Purity: 0.9666, Efficiency: 0.9868, Loss: 2.3074, LR: 0.001 in time 211.28554511070251\n",
      "Training loss: 21.767722367309034\n",
      "Epoch: 9, Accuracy: 0.9942, Purity: 0.9693, Efficiency: 0.9894, Loss: 2.0300, LR: 0.001 in time 211.45901703834534\n",
      "Training loss: 21.647122226655483\n",
      "Epoch: 10, Accuracy: 0.9934, Purity: 0.9652, Efficiency: 0.9877, Loss: 2.3058, LR: 0.001 in time 211.45027661323547\n",
      "Training loss: 21.105086783878505\n",
      "Epoch: 11, Accuracy: 0.9941, Purity: 0.9685, Efficiency: 0.9899, Loss: 2.0072, LR: 0.001 in time 211.7552032470703\n",
      "Training loss: 21.231809652410448\n",
      "Epoch: 12, Accuracy: 0.9947, Purity: 0.9735, Efficiency: 0.9889, Loss: 1.9320, LR: 0.001 in time 211.81041741371155\n",
      "Training loss: 20.70195770356804\n",
      "Epoch: 13, Accuracy: 0.9943, Purity: 0.9695, Efficiency: 0.9897, Loss: 1.9904, LR: 0.001 in time 211.91563963890076\n",
      "Training loss: 20.52923735510558\n",
      "Epoch: 14, Accuracy: 0.9939, Purity: 0.9672, Efficiency: 0.9896, Loss: 2.0790, LR: 0.001 in time 211.59614968299866\n",
      "Training loss: 20.49484298657626\n",
      "Epoch: 15, Accuracy: 0.9941, Purity: 0.9688, Efficiency: 0.9892, Loss: 2.0624, LR: 0.001 in time 211.64261937141418\n",
      "Training loss: 20.062509536743164\n",
      "Epoch: 16, Accuracy: 0.9933, Purity: 0.9641, Efficiency: 0.9882, Loss: 2.3058, LR: 0.001 in time 211.45388984680176\n",
      "Training loss: 19.911372325383127\n",
      "Epoch: 17, Accuracy: 0.9940, Purity: 0.9661, Efficiency: 0.9914, Loss: 1.9677, LR: 0.001 in time 211.71480345726013\n",
      "Training loss: 19.436999411322176\n",
      "Epoch: 18, Accuracy: 0.9942, Purity: 0.9687, Efficiency: 0.9898, Loss: 2.0113, LR: 0.001 in time 211.48726558685303\n",
      "Training loss: 19.640552633441985\n",
      "Epoch: 19, Accuracy: 0.9946, Purity: 0.9706, Efficiency: 0.9912, Loss: 1.8197, LR: 0.001 in time 211.3999364376068\n",
      "Training loss: 19.448899035342038\n",
      "Epoch: 20, Accuracy: 0.9948, Purity: 0.9721, Efficiency: 0.9908, Loss: 1.8056, LR: 0.001 in time 211.40052032470703\n",
      "Training loss: 19.07460310868919\n",
      "Epoch: 21, Accuracy: 0.9950, Purity: 0.9727, Efficiency: 0.9915, Loss: 1.7307, LR: 0.001 in time 211.30075311660767\n",
      "Training loss: 18.730561712756753\n",
      "Epoch: 22, Accuracy: 0.9942, Purity: 0.9696, Efficiency: 0.9892, Loss: 2.0238, LR: 0.001 in time 211.33354330062866\n",
      "Training loss: 18.887419553473592\n",
      "Epoch: 23, Accuracy: 0.9946, Purity: 0.9705, Efficiency: 0.9909, Loss: 1.8617, LR: 0.001 in time 211.39725184440613\n",
      "Training loss: 18.53031276445836\n",
      "Epoch: 24, Accuracy: 0.9946, Purity: 0.9705, Efficiency: 0.9910, Loss: 1.8430, LR: 0.001 in time 211.51339149475098\n",
      "Training loss: 18.559652214869857\n",
      "Epoch: 25, Accuracy: 0.9950, Purity: 0.9735, Efficiency: 0.9906, Loss: 1.7442, LR: 0.001 in time 211.46139359474182\n",
      "Training loss: 18.029883097857237\n",
      "Epoch: 26, Accuracy: 0.9951, Purity: 0.9743, Efficiency: 0.9909, Loss: 1.7094, LR: 0.001 in time 211.47259068489075\n",
      "Training loss: 18.277735456824303\n",
      "Epoch: 27, Accuracy: 0.9949, Purity: 0.9727, Efficiency: 0.9907, Loss: 1.7918, LR: 0.001 in time 211.38833904266357\n",
      "Training loss: 18.052422777749598\n",
      "Epoch: 28, Accuracy: 0.9943, Purity: 0.9697, Efficiency: 0.9901, Loss: 1.9260, LR: 0.001 in time 211.42615604400635\n",
      "Training loss: 17.64347195252776\n",
      "Epoch: 29, Accuracy: 0.9945, Purity: 0.9705, Efficiency: 0.9906, Loss: 1.8890, LR: 0.001 in time 211.30760884284973\n",
      "Training loss: 17.858991398476064\n",
      "Epoch: 30, Accuracy: 0.9945, Purity: 0.9709, Efficiency: 0.9902, Loss: 1.8822, LR: 0.001 in time 211.4199938774109\n",
      "Training loss: 17.615839410573244\n",
      "Epoch: 31, Accuracy: 0.9952, Purity: 0.9745, Efficiency: 0.9915, Loss: 1.6651, LR: 0.001 in time 211.45146107673645\n",
      "Training loss: 17.32537085749209\n",
      "Epoch: 32, Accuracy: 0.9954, Purity: 0.9749, Efficiency: 0.9924, Loss: 1.5907, LR: 0.001 in time 214.95112943649292\n",
      "Training loss: 17.663130324333906\n",
      "Epoch: 33, Accuracy: 0.9952, Purity: 0.9745, Efficiency: 0.9912, Loss: 1.6989, LR: 0.001 in time 211.20474791526794\n",
      "Training loss: 17.40852375421673\n",
      "Epoch: 34, Accuracy: 0.9954, Purity: 0.9745, Efficiency: 0.9925, Loss: 1.5797, LR: 0.001 in time 211.363667011261\n",
      "Training loss: 16.993438905104995\n",
      "Epoch: 35, Accuracy: 0.9950, Purity: 0.9728, Efficiency: 0.9913, Loss: 1.7438, LR: 0.001 in time 211.2378273010254\n",
      "Training loss: 16.965738172642887\n",
      "Epoch: 36, Accuracy: 0.9951, Purity: 0.9736, Efficiency: 0.9915, Loss: 1.6841, LR: 0.001 in time 211.10089468955994\n",
      "Training loss: 16.804565113037825\n",
      "Epoch: 37, Accuracy: 0.9955, Purity: 0.9762, Efficiency: 0.9920, Loss: 1.5541, LR: 0.001 in time 211.4029939174652\n",
      "Training loss: 16.476992474868894\n",
      "Epoch: 38, Accuracy: 0.9951, Purity: 0.9737, Efficiency: 0.9918, Loss: 1.6733, LR: 0.001 in time 211.22866868972778\n",
      "Training loss: 16.83181445300579\n",
      "Epoch: 39, Accuracy: 0.9949, Purity: 0.9721, Efficiency: 0.9920, Loss: 1.7281, LR: 0.001 in time 211.26645350456238\n",
      "Training loss: 16.395101345144212\n",
      "Epoch: 40, Accuracy: 0.9953, Purity: 0.9748, Efficiency: 0.9913, Loss: 1.6440, LR: 0.001 in time 211.35136342048645\n",
      "Training loss: 16.44512451160699\n",
      "Epoch: 41, Accuracy: 0.9955, Purity: 0.9749, Efficiency: 0.9927, Loss: 1.5465, LR: 0.001 in time 211.25127911567688\n",
      "Training loss: 16.55293292272836\n",
      "Epoch: 42, Accuracy: 0.9953, Purity: 0.9751, Efficiency: 0.9916, Loss: 1.6587, LR: 0.001 in time 211.18855166435242\n",
      "Training loss: 16.076877303421497\n",
      "Epoch: 43, Accuracy: 0.9956, Purity: 0.9775, Efficiency: 0.9909, Loss: 1.6337, LR: 0.001 in time 211.16777992248535\n",
      "Training loss: 16.22437680605799\n",
      "Epoch: 44, Accuracy: 0.9949, Purity: 0.9726, Efficiency: 0.9911, Loss: 1.7801, LR: 0.001 in time 211.92070770263672\n",
      "Training loss: 16.04494675900787\n",
      "Epoch: 45, Accuracy: 0.9955, Purity: 0.9757, Efficiency: 0.9922, Loss: 1.5595, LR: 0.001 in time 211.2009358406067\n",
      "Training loss: 15.802577206864953\n",
      "Epoch: 46, Accuracy: 0.9955, Purity: 0.9753, Efficiency: 0.9925, Loss: 1.5242, LR: 0.001 in time 211.19397044181824\n",
      "Training loss: 15.65528264734894\n",
      "Epoch: 47, Accuracy: 0.9957, Purity: 0.9766, Efficiency: 0.9927, Loss: 1.4752, LR: 0.001 in time 211.2371904850006\n",
      "Training loss: 15.921709625050426\n",
      "Epoch: 48, Accuracy: 0.9959, Purity: 0.9782, Efficiency: 0.9924, Loss: 1.4442, LR: 0.001 in time 211.12917709350586\n",
      "Training loss: 15.638870569877326\n",
      "Epoch: 49, Accuracy: 0.9955, Purity: 0.9768, Efficiency: 0.9912, Loss: 1.5886, LR: 0.001 in time 211.27532696723938\n",
      "Training loss: 15.880149876698852\n",
      "Epoch: 50, Accuracy: 0.9951, Purity: 0.9729, Efficiency: 0.9926, Loss: 1.6318, LR: 0.001 in time 211.25448608398438\n",
      "Training loss: 15.563544905744493\n",
      "Epoch: 51, Accuracy: 0.9952, Purity: 0.9731, Efficiency: 0.9928, Loss: 1.6028, LR: 0.001 in time 211.26694178581238\n",
      "Training loss: 15.416720042005181\n",
      "Epoch: 52, Accuracy: 0.9958, Purity: 0.9769, Efficiency: 0.9929, Loss: 1.4533, LR: 0.001 in time 211.60607290267944\n"
     ]
    },
    {
     "ename": "KeyboardInterrupt",
     "evalue": "",
     "output_type": "error",
     "traceback": [
      "\u001b[0;31m---------------------------------------------------------------------------\u001b[0m",
      "\u001b[0;31mKeyboardInterrupt\u001b[0m                         Traceback (most recent call last)",
      "\u001b[0;32m<ipython-input-16-8d6e73d47909>\u001b[0m in \u001b[0;36m<module>\u001b[0;34m\u001b[0m\n\u001b[1;32m      2\u001b[0m     \u001b[0mtic\u001b[0m \u001b[0;34m=\u001b[0m \u001b[0mtt\u001b[0m\u001b[0;34m(\u001b[0m\u001b[0;34m)\u001b[0m\u001b[0;34m\u001b[0m\u001b[0;34m\u001b[0m\u001b[0m\n\u001b[1;32m      3\u001b[0m     \u001b[0mmodel\u001b[0m\u001b[0;34m.\u001b[0m\u001b[0mtrain\u001b[0m\u001b[0;34m(\u001b[0m\u001b[0;34m)\u001b[0m\u001b[0;34m\u001b[0m\u001b[0;34m\u001b[0m\u001b[0m\n\u001b[0;32m----> 4\u001b[0;31m     \u001b[0macc\u001b[0m\u001b[0;34m,\u001b[0m \u001b[0mtrain_loss\u001b[0m \u001b[0;34m=\u001b[0m \u001b[0mtrain_gnn\u001b[0m\u001b[0;34m(\u001b[0m\u001b[0mmodel\u001b[0m\u001b[0;34m,\u001b[0m \u001b[0mgnn_train_loader\u001b[0m\u001b[0;34m,\u001b[0m \u001b[0moptimizer\u001b[0m\u001b[0;34m,\u001b[0m \u001b[0mm_configs\u001b[0m\u001b[0;34m)\u001b[0m\u001b[0;34m\u001b[0m\u001b[0;34m\u001b[0m\u001b[0m\n\u001b[0m\u001b[1;32m      5\u001b[0m     \u001b[0mprint\u001b[0m\u001b[0;34m(\u001b[0m\u001b[0;34m\"Training loss:\"\u001b[0m\u001b[0;34m,\u001b[0m \u001b[0mtrain_loss\u001b[0m\u001b[0;34m)\u001b[0m\u001b[0;34m\u001b[0m\u001b[0;34m\u001b[0m\u001b[0m\n\u001b[1;32m      6\u001b[0m \u001b[0;34m\u001b[0m\u001b[0m\n",
      "\u001b[0;32m/global/u2/d/danieltm/ExaTrkX/end-to-end/trainers.py\u001b[0m in \u001b[0;36mtrain_gnn\u001b[0;34m(model, gnn_train_loader, optimizer, m_configs)\u001b[0m\n\u001b[1;32m    320\u001b[0m         \u001b[0moptimizer\u001b[0m\u001b[0;34m.\u001b[0m\u001b[0mzero_grad\u001b[0m\u001b[0;34m(\u001b[0m\u001b[0;34m)\u001b[0m\u001b[0;34m\u001b[0m\u001b[0;34m\u001b[0m\u001b[0m\n\u001b[1;32m    321\u001b[0m         \u001b[0mdata\u001b[0m \u001b[0;34m=\u001b[0m \u001b[0mbatch\u001b[0m\u001b[0;34m.\u001b[0m\u001b[0mto\u001b[0m\u001b[0;34m(\u001b[0m\u001b[0mdevice\u001b[0m\u001b[0;34m)\u001b[0m\u001b[0;34m\u001b[0m\u001b[0;34m\u001b[0m\u001b[0m\n\u001b[0;32m--> 322\u001b[0;31m         \u001b[0mpred\u001b[0m \u001b[0;34m=\u001b[0m \u001b[0mmodel\u001b[0m\u001b[0;34m(\u001b[0m\u001b[0mdata\u001b[0m\u001b[0;34m)\u001b[0m\u001b[0;34m\u001b[0m\u001b[0;34m\u001b[0m\u001b[0m\n\u001b[0m\u001b[1;32m    323\u001b[0m \u001b[0;34m\u001b[0m\u001b[0m\n\u001b[1;32m    324\u001b[0m         \u001b[0my\u001b[0m \u001b[0;34m=\u001b[0m \u001b[0mbatch\u001b[0m\u001b[0;34m.\u001b[0m\u001b[0mpid\u001b[0m\u001b[0;34m[\u001b[0m\u001b[0mbatch\u001b[0m\u001b[0;34m.\u001b[0m\u001b[0me\u001b[0m\u001b[0;34m[\u001b[0m\u001b[0;36m0\u001b[0m\u001b[0;34m]\u001b[0m\u001b[0;34m]\u001b[0m \u001b[0;34m==\u001b[0m \u001b[0mbatch\u001b[0m\u001b[0;34m.\u001b[0m\u001b[0mpid\u001b[0m\u001b[0;34m[\u001b[0m\u001b[0mbatch\u001b[0m\u001b[0;34m.\u001b[0m\u001b[0me\u001b[0m\u001b[0;34m[\u001b[0m\u001b[0;36m1\u001b[0m\u001b[0;34m]\u001b[0m\u001b[0;34m]\u001b[0m\u001b[0;34m\u001b[0m\u001b[0;34m\u001b[0m\u001b[0m\n",
      "\u001b[0;32m~/.local/lib/python3.7/site-packages/torch/nn/modules/module.py\u001b[0m in \u001b[0;36m__call__\u001b[0;34m(self, *input, **kwargs)\u001b[0m\n\u001b[1;32m    548\u001b[0m             \u001b[0mresult\u001b[0m \u001b[0;34m=\u001b[0m \u001b[0mself\u001b[0m\u001b[0;34m.\u001b[0m\u001b[0m_slow_forward\u001b[0m\u001b[0;34m(\u001b[0m\u001b[0;34m*\u001b[0m\u001b[0minput\u001b[0m\u001b[0;34m,\u001b[0m \u001b[0;34m**\u001b[0m\u001b[0mkwargs\u001b[0m\u001b[0;34m)\u001b[0m\u001b[0;34m\u001b[0m\u001b[0;34m\u001b[0m\u001b[0m\n\u001b[1;32m    549\u001b[0m         \u001b[0;32melse\u001b[0m\u001b[0;34m:\u001b[0m\u001b[0;34m\u001b[0m\u001b[0;34m\u001b[0m\u001b[0m\n\u001b[0;32m--> 550\u001b[0;31m             \u001b[0mresult\u001b[0m \u001b[0;34m=\u001b[0m \u001b[0mself\u001b[0m\u001b[0;34m.\u001b[0m\u001b[0mforward\u001b[0m\u001b[0;34m(\u001b[0m\u001b[0;34m*\u001b[0m\u001b[0minput\u001b[0m\u001b[0;34m,\u001b[0m \u001b[0;34m**\u001b[0m\u001b[0mkwargs\u001b[0m\u001b[0;34m)\u001b[0m\u001b[0;34m\u001b[0m\u001b[0;34m\u001b[0m\u001b[0m\n\u001b[0m\u001b[1;32m    551\u001b[0m         \u001b[0;32mfor\u001b[0m \u001b[0mhook\u001b[0m \u001b[0;32min\u001b[0m \u001b[0mself\u001b[0m\u001b[0;34m.\u001b[0m\u001b[0m_forward_hooks\u001b[0m\u001b[0;34m.\u001b[0m\u001b[0mvalues\u001b[0m\u001b[0;34m(\u001b[0m\u001b[0;34m)\u001b[0m\u001b[0;34m:\u001b[0m\u001b[0;34m\u001b[0m\u001b[0;34m\u001b[0m\u001b[0m\n\u001b[1;32m    552\u001b[0m             \u001b[0mhook_result\u001b[0m \u001b[0;34m=\u001b[0m \u001b[0mhook\u001b[0m\u001b[0;34m(\u001b[0m\u001b[0mself\u001b[0m\u001b[0;34m,\u001b[0m \u001b[0minput\u001b[0m\u001b[0;34m,\u001b[0m \u001b[0mresult\u001b[0m\u001b[0;34m)\u001b[0m\u001b[0;34m\u001b[0m\u001b[0;34m\u001b[0m\u001b[0m\n",
      "\u001b[0;32m/global/u2/d/danieltm/ExaTrkX/end-to-end/models.py\u001b[0m in \u001b[0;36mforward\u001b[0;34m(self, inputs)\u001b[0m\n\u001b[1;32m    128\u001b[0m \u001b[0;34m\u001b[0m\u001b[0m\n\u001b[1;32m    129\u001b[0m             \u001b[0;31m# Apply edge network\u001b[0m\u001b[0;34m\u001b[0m\u001b[0;34m\u001b[0m\u001b[0;34m\u001b[0m\u001b[0m\n\u001b[0;32m--> 130\u001b[0;31m             \u001b[0me\u001b[0m \u001b[0;34m=\u001b[0m \u001b[0mtorch\u001b[0m\u001b[0;34m.\u001b[0m\u001b[0msigmoid\u001b[0m\u001b[0;34m(\u001b[0m\u001b[0mself\u001b[0m\u001b[0;34m.\u001b[0m\u001b[0medge_network\u001b[0m\u001b[0;34m(\u001b[0m\u001b[0mx\u001b[0m\u001b[0;34m,\u001b[0m \u001b[0medge_index\u001b[0m\u001b[0;34m)\u001b[0m\u001b[0;34m)\u001b[0m\u001b[0;34m\u001b[0m\u001b[0;34m\u001b[0m\u001b[0m\n\u001b[0m\u001b[1;32m    131\u001b[0m \u001b[0;34m\u001b[0m\u001b[0m\n\u001b[1;32m    132\u001b[0m             \u001b[0;31m# Apply node network\u001b[0m\u001b[0;34m\u001b[0m\u001b[0;34m\u001b[0m\u001b[0;34m\u001b[0m\u001b[0m\n",
      "\u001b[0;32m~/.local/lib/python3.7/site-packages/torch/nn/modules/module.py\u001b[0m in \u001b[0;36m__call__\u001b[0;34m(self, *input, **kwargs)\u001b[0m\n\u001b[1;32m    548\u001b[0m             \u001b[0mresult\u001b[0m \u001b[0;34m=\u001b[0m \u001b[0mself\u001b[0m\u001b[0;34m.\u001b[0m\u001b[0m_slow_forward\u001b[0m\u001b[0;34m(\u001b[0m\u001b[0;34m*\u001b[0m\u001b[0minput\u001b[0m\u001b[0;34m,\u001b[0m \u001b[0;34m**\u001b[0m\u001b[0mkwargs\u001b[0m\u001b[0;34m)\u001b[0m\u001b[0;34m\u001b[0m\u001b[0;34m\u001b[0m\u001b[0m\n\u001b[1;32m    549\u001b[0m         \u001b[0;32melse\u001b[0m\u001b[0;34m:\u001b[0m\u001b[0;34m\u001b[0m\u001b[0;34m\u001b[0m\u001b[0m\n\u001b[0;32m--> 550\u001b[0;31m             \u001b[0mresult\u001b[0m \u001b[0;34m=\u001b[0m \u001b[0mself\u001b[0m\u001b[0;34m.\u001b[0m\u001b[0mforward\u001b[0m\u001b[0;34m(\u001b[0m\u001b[0;34m*\u001b[0m\u001b[0minput\u001b[0m\u001b[0;34m,\u001b[0m \u001b[0;34m**\u001b[0m\u001b[0mkwargs\u001b[0m\u001b[0;34m)\u001b[0m\u001b[0;34m\u001b[0m\u001b[0;34m\u001b[0m\u001b[0m\n\u001b[0m\u001b[1;32m    551\u001b[0m         \u001b[0;32mfor\u001b[0m \u001b[0mhook\u001b[0m \u001b[0;32min\u001b[0m \u001b[0mself\u001b[0m\u001b[0;34m.\u001b[0m\u001b[0m_forward_hooks\u001b[0m\u001b[0;34m.\u001b[0m\u001b[0mvalues\u001b[0m\u001b[0;34m(\u001b[0m\u001b[0;34m)\u001b[0m\u001b[0;34m:\u001b[0m\u001b[0;34m\u001b[0m\u001b[0;34m\u001b[0m\u001b[0m\n\u001b[1;32m    552\u001b[0m             \u001b[0mhook_result\u001b[0m \u001b[0;34m=\u001b[0m \u001b[0mhook\u001b[0m\u001b[0;34m(\u001b[0m\u001b[0mself\u001b[0m\u001b[0;34m,\u001b[0m \u001b[0minput\u001b[0m\u001b[0;34m,\u001b[0m \u001b[0mresult\u001b[0m\u001b[0;34m)\u001b[0m\u001b[0;34m\u001b[0m\u001b[0;34m\u001b[0m\u001b[0m\n",
      "\u001b[0;32m/global/u2/d/danieltm/ExaTrkX/end-to-end/models.py\u001b[0m in \u001b[0;36mforward\u001b[0;34m(self, x, edge_index)\u001b[0m\n\u001b[1;32m     67\u001b[0m         \u001b[0mx1\u001b[0m\u001b[0;34m,\u001b[0m \u001b[0mx2\u001b[0m \u001b[0;34m=\u001b[0m \u001b[0mx\u001b[0m\u001b[0;34m[\u001b[0m\u001b[0mstart\u001b[0m\u001b[0;34m]\u001b[0m\u001b[0;34m,\u001b[0m \u001b[0mx\u001b[0m\u001b[0;34m[\u001b[0m\u001b[0mend\u001b[0m\u001b[0;34m]\u001b[0m\u001b[0;34m\u001b[0m\u001b[0;34m\u001b[0m\u001b[0m\n\u001b[1;32m     68\u001b[0m         \u001b[0medge_inputs\u001b[0m \u001b[0;34m=\u001b[0m \u001b[0mtorch\u001b[0m\u001b[0;34m.\u001b[0m\u001b[0mcat\u001b[0m\u001b[0;34m(\u001b[0m\u001b[0;34m[\u001b[0m\u001b[0mx\u001b[0m\u001b[0;34m[\u001b[0m\u001b[0mstart\u001b[0m\u001b[0;34m]\u001b[0m\u001b[0;34m,\u001b[0m \u001b[0mx\u001b[0m\u001b[0;34m[\u001b[0m\u001b[0mend\u001b[0m\u001b[0;34m]\u001b[0m\u001b[0;34m]\u001b[0m\u001b[0;34m,\u001b[0m \u001b[0mdim\u001b[0m\u001b[0;34m=\u001b[0m\u001b[0;36m1\u001b[0m\u001b[0;34m)\u001b[0m\u001b[0;34m\u001b[0m\u001b[0;34m\u001b[0m\u001b[0m\n\u001b[0;32m---> 69\u001b[0;31m         \u001b[0;32mreturn\u001b[0m \u001b[0mself\u001b[0m\u001b[0;34m.\u001b[0m\u001b[0mnetwork\u001b[0m\u001b[0;34m(\u001b[0m\u001b[0medge_inputs\u001b[0m\u001b[0;34m)\u001b[0m\u001b[0;34m.\u001b[0m\u001b[0msqueeze\u001b[0m\u001b[0;34m(\u001b[0m\u001b[0;34m-\u001b[0m\u001b[0;36m1\u001b[0m\u001b[0;34m)\u001b[0m\u001b[0;34m\u001b[0m\u001b[0;34m\u001b[0m\u001b[0m\n\u001b[0m\u001b[1;32m     70\u001b[0m \u001b[0;34m\u001b[0m\u001b[0m\n\u001b[1;32m     71\u001b[0m \u001b[0;32mclass\u001b[0m \u001b[0mNodeNetwork\u001b[0m\u001b[0;34m(\u001b[0m\u001b[0mnn\u001b[0m\u001b[0;34m.\u001b[0m\u001b[0mModule\u001b[0m\u001b[0;34m)\u001b[0m\u001b[0;34m:\u001b[0m\u001b[0;34m\u001b[0m\u001b[0;34m\u001b[0m\u001b[0m\n",
      "\u001b[0;32m~/.local/lib/python3.7/site-packages/torch/nn/modules/module.py\u001b[0m in \u001b[0;36m__call__\u001b[0;34m(self, *input, **kwargs)\u001b[0m\n\u001b[1;32m    548\u001b[0m             \u001b[0mresult\u001b[0m \u001b[0;34m=\u001b[0m \u001b[0mself\u001b[0m\u001b[0;34m.\u001b[0m\u001b[0m_slow_forward\u001b[0m\u001b[0;34m(\u001b[0m\u001b[0;34m*\u001b[0m\u001b[0minput\u001b[0m\u001b[0;34m,\u001b[0m \u001b[0;34m**\u001b[0m\u001b[0mkwargs\u001b[0m\u001b[0;34m)\u001b[0m\u001b[0;34m\u001b[0m\u001b[0;34m\u001b[0m\u001b[0m\n\u001b[1;32m    549\u001b[0m         \u001b[0;32melse\u001b[0m\u001b[0;34m:\u001b[0m\u001b[0;34m\u001b[0m\u001b[0;34m\u001b[0m\u001b[0m\n\u001b[0;32m--> 550\u001b[0;31m             \u001b[0mresult\u001b[0m \u001b[0;34m=\u001b[0m \u001b[0mself\u001b[0m\u001b[0;34m.\u001b[0m\u001b[0mforward\u001b[0m\u001b[0;34m(\u001b[0m\u001b[0;34m*\u001b[0m\u001b[0minput\u001b[0m\u001b[0;34m,\u001b[0m \u001b[0;34m**\u001b[0m\u001b[0mkwargs\u001b[0m\u001b[0;34m)\u001b[0m\u001b[0;34m\u001b[0m\u001b[0;34m\u001b[0m\u001b[0m\n\u001b[0m\u001b[1;32m    551\u001b[0m         \u001b[0;32mfor\u001b[0m \u001b[0mhook\u001b[0m \u001b[0;32min\u001b[0m \u001b[0mself\u001b[0m\u001b[0;34m.\u001b[0m\u001b[0m_forward_hooks\u001b[0m\u001b[0;34m.\u001b[0m\u001b[0mvalues\u001b[0m\u001b[0;34m(\u001b[0m\u001b[0;34m)\u001b[0m\u001b[0;34m:\u001b[0m\u001b[0;34m\u001b[0m\u001b[0;34m\u001b[0m\u001b[0m\n\u001b[1;32m    552\u001b[0m             \u001b[0mhook_result\u001b[0m \u001b[0;34m=\u001b[0m \u001b[0mhook\u001b[0m\u001b[0;34m(\u001b[0m\u001b[0mself\u001b[0m\u001b[0;34m,\u001b[0m \u001b[0minput\u001b[0m\u001b[0;34m,\u001b[0m \u001b[0mresult\u001b[0m\u001b[0;34m)\u001b[0m\u001b[0;34m\u001b[0m\u001b[0;34m\u001b[0m\u001b[0m\n",
      "\u001b[0;32m~/.local/lib/python3.7/site-packages/torch/nn/modules/container.py\u001b[0m in \u001b[0;36mforward\u001b[0;34m(self, input)\u001b[0m\n\u001b[1;32m     98\u001b[0m     \u001b[0;32mdef\u001b[0m \u001b[0mforward\u001b[0m\u001b[0;34m(\u001b[0m\u001b[0mself\u001b[0m\u001b[0;34m,\u001b[0m \u001b[0minput\u001b[0m\u001b[0;34m)\u001b[0m\u001b[0;34m:\u001b[0m\u001b[0;34m\u001b[0m\u001b[0;34m\u001b[0m\u001b[0m\n\u001b[1;32m     99\u001b[0m         \u001b[0;32mfor\u001b[0m \u001b[0mmodule\u001b[0m \u001b[0;32min\u001b[0m \u001b[0mself\u001b[0m\u001b[0;34m:\u001b[0m\u001b[0;34m\u001b[0m\u001b[0;34m\u001b[0m\u001b[0m\n\u001b[0;32m--> 100\u001b[0;31m             \u001b[0minput\u001b[0m \u001b[0;34m=\u001b[0m \u001b[0mmodule\u001b[0m\u001b[0;34m(\u001b[0m\u001b[0minput\u001b[0m\u001b[0;34m)\u001b[0m\u001b[0;34m\u001b[0m\u001b[0;34m\u001b[0m\u001b[0m\n\u001b[0m\u001b[1;32m    101\u001b[0m         \u001b[0;32mreturn\u001b[0m \u001b[0minput\u001b[0m\u001b[0;34m\u001b[0m\u001b[0;34m\u001b[0m\u001b[0m\n\u001b[1;32m    102\u001b[0m \u001b[0;34m\u001b[0m\u001b[0m\n",
      "\u001b[0;32m~/.local/lib/python3.7/site-packages/torch/nn/modules/module.py\u001b[0m in \u001b[0;36m__call__\u001b[0;34m(self, *input, **kwargs)\u001b[0m\n\u001b[1;32m    548\u001b[0m             \u001b[0mresult\u001b[0m \u001b[0;34m=\u001b[0m \u001b[0mself\u001b[0m\u001b[0;34m.\u001b[0m\u001b[0m_slow_forward\u001b[0m\u001b[0;34m(\u001b[0m\u001b[0;34m*\u001b[0m\u001b[0minput\u001b[0m\u001b[0;34m,\u001b[0m \u001b[0;34m**\u001b[0m\u001b[0mkwargs\u001b[0m\u001b[0;34m)\u001b[0m\u001b[0;34m\u001b[0m\u001b[0;34m\u001b[0m\u001b[0m\n\u001b[1;32m    549\u001b[0m         \u001b[0;32melse\u001b[0m\u001b[0;34m:\u001b[0m\u001b[0;34m\u001b[0m\u001b[0;34m\u001b[0m\u001b[0m\n\u001b[0;32m--> 550\u001b[0;31m             \u001b[0mresult\u001b[0m \u001b[0;34m=\u001b[0m \u001b[0mself\u001b[0m\u001b[0;34m.\u001b[0m\u001b[0mforward\u001b[0m\u001b[0;34m(\u001b[0m\u001b[0;34m*\u001b[0m\u001b[0minput\u001b[0m\u001b[0;34m,\u001b[0m \u001b[0;34m**\u001b[0m\u001b[0mkwargs\u001b[0m\u001b[0;34m)\u001b[0m\u001b[0;34m\u001b[0m\u001b[0;34m\u001b[0m\u001b[0m\n\u001b[0m\u001b[1;32m    551\u001b[0m         \u001b[0;32mfor\u001b[0m \u001b[0mhook\u001b[0m \u001b[0;32min\u001b[0m \u001b[0mself\u001b[0m\u001b[0;34m.\u001b[0m\u001b[0m_forward_hooks\u001b[0m\u001b[0;34m.\u001b[0m\u001b[0mvalues\u001b[0m\u001b[0;34m(\u001b[0m\u001b[0;34m)\u001b[0m\u001b[0;34m:\u001b[0m\u001b[0;34m\u001b[0m\u001b[0;34m\u001b[0m\u001b[0m\n\u001b[1;32m    552\u001b[0m             \u001b[0mhook_result\u001b[0m \u001b[0;34m=\u001b[0m \u001b[0mhook\u001b[0m\u001b[0;34m(\u001b[0m\u001b[0mself\u001b[0m\u001b[0;34m,\u001b[0m \u001b[0minput\u001b[0m\u001b[0;34m,\u001b[0m \u001b[0mresult\u001b[0m\u001b[0;34m)\u001b[0m\u001b[0;34m\u001b[0m\u001b[0;34m\u001b[0m\u001b[0m\n",
      "\u001b[0;32m~/.local/lib/python3.7/site-packages/torch/nn/modules/linear.py\u001b[0m in \u001b[0;36mforward\u001b[0;34m(self, input)\u001b[0m\n\u001b[1;32m     85\u001b[0m \u001b[0;34m\u001b[0m\u001b[0m\n\u001b[1;32m     86\u001b[0m     \u001b[0;32mdef\u001b[0m \u001b[0mforward\u001b[0m\u001b[0;34m(\u001b[0m\u001b[0mself\u001b[0m\u001b[0;34m,\u001b[0m \u001b[0minput\u001b[0m\u001b[0;34m)\u001b[0m\u001b[0;34m:\u001b[0m\u001b[0;34m\u001b[0m\u001b[0;34m\u001b[0m\u001b[0m\n\u001b[0;32m---> 87\u001b[0;31m         \u001b[0;32mreturn\u001b[0m \u001b[0mF\u001b[0m\u001b[0;34m.\u001b[0m\u001b[0mlinear\u001b[0m\u001b[0;34m(\u001b[0m\u001b[0minput\u001b[0m\u001b[0;34m,\u001b[0m \u001b[0mself\u001b[0m\u001b[0;34m.\u001b[0m\u001b[0mweight\u001b[0m\u001b[0;34m,\u001b[0m \u001b[0mself\u001b[0m\u001b[0;34m.\u001b[0m\u001b[0mbias\u001b[0m\u001b[0;34m)\u001b[0m\u001b[0;34m\u001b[0m\u001b[0;34m\u001b[0m\u001b[0m\n\u001b[0m\u001b[1;32m     88\u001b[0m \u001b[0;34m\u001b[0m\u001b[0m\n\u001b[1;32m     89\u001b[0m     \u001b[0;32mdef\u001b[0m \u001b[0mextra_repr\u001b[0m\u001b[0;34m(\u001b[0m\u001b[0mself\u001b[0m\u001b[0;34m)\u001b[0m\u001b[0;34m:\u001b[0m\u001b[0;34m\u001b[0m\u001b[0;34m\u001b[0m\u001b[0m\n",
      "\u001b[0;32m~/.local/lib/python3.7/site-packages/torch/nn/functional.py\u001b[0m in \u001b[0;36mlinear\u001b[0;34m(input, weight, bias)\u001b[0m\n\u001b[1;32m   1608\u001b[0m     \u001b[0;32mif\u001b[0m \u001b[0minput\u001b[0m\u001b[0;34m.\u001b[0m\u001b[0mdim\u001b[0m\u001b[0;34m(\u001b[0m\u001b[0;34m)\u001b[0m \u001b[0;34m==\u001b[0m \u001b[0;36m2\u001b[0m \u001b[0;32mand\u001b[0m \u001b[0mbias\u001b[0m \u001b[0;32mis\u001b[0m \u001b[0;32mnot\u001b[0m \u001b[0;32mNone\u001b[0m\u001b[0;34m:\u001b[0m\u001b[0;34m\u001b[0m\u001b[0;34m\u001b[0m\u001b[0m\n\u001b[1;32m   1609\u001b[0m         \u001b[0;31m# fused op is marginally faster\u001b[0m\u001b[0;34m\u001b[0m\u001b[0;34m\u001b[0m\u001b[0;34m\u001b[0m\u001b[0m\n\u001b[0;32m-> 1610\u001b[0;31m         \u001b[0mret\u001b[0m \u001b[0;34m=\u001b[0m \u001b[0mtorch\u001b[0m\u001b[0;34m.\u001b[0m\u001b[0maddmm\u001b[0m\u001b[0;34m(\u001b[0m\u001b[0mbias\u001b[0m\u001b[0;34m,\u001b[0m \u001b[0minput\u001b[0m\u001b[0;34m,\u001b[0m \u001b[0mweight\u001b[0m\u001b[0;34m.\u001b[0m\u001b[0mt\u001b[0m\u001b[0;34m(\u001b[0m\u001b[0;34m)\u001b[0m\u001b[0;34m)\u001b[0m\u001b[0;34m\u001b[0m\u001b[0;34m\u001b[0m\u001b[0m\n\u001b[0m\u001b[1;32m   1611\u001b[0m     \u001b[0;32melse\u001b[0m\u001b[0;34m:\u001b[0m\u001b[0;34m\u001b[0m\u001b[0;34m\u001b[0m\u001b[0m\n\u001b[1;32m   1612\u001b[0m         \u001b[0moutput\u001b[0m \u001b[0;34m=\u001b[0m \u001b[0minput\u001b[0m\u001b[0;34m.\u001b[0m\u001b[0mmatmul\u001b[0m\u001b[0;34m(\u001b[0m\u001b[0mweight\u001b[0m\u001b[0;34m.\u001b[0m\u001b[0mt\u001b[0m\u001b[0;34m(\u001b[0m\u001b[0;34m)\u001b[0m\u001b[0;34m)\u001b[0m\u001b[0;34m\u001b[0m\u001b[0;34m\u001b[0m\u001b[0m\n",
      "\u001b[0;31mKeyboardInterrupt\u001b[0m: "
     ]
    },
    {
     "name": "stdout",
     "output_type": "stream",
     "text": [
      "Error in callback <function _init_jupyter.<locals>.cleanup at 0x2aab7fe45d40> (for post_run_cell):\n"
     ]
    },
    {
     "ename": "KeyboardInterrupt",
     "evalue": "",
     "output_type": "error",
     "traceback": [
      "\u001b[0;31m---------------------------------------------------------------------------\u001b[0m",
      "\u001b[0;31mKeyboardInterrupt\u001b[0m                         Traceback (most recent call last)",
      "\u001b[0;32m~/.local/lib/python3.7/site-packages/backcall/backcall.py\u001b[0m in \u001b[0;36madapted\u001b[0;34m(*args, **kwargs)\u001b[0m\n\u001b[1;32m    102\u001b[0m                 \u001b[0mkwargs\u001b[0m\u001b[0;34m.\u001b[0m\u001b[0mpop\u001b[0m\u001b[0;34m(\u001b[0m\u001b[0mname\u001b[0m\u001b[0;34m)\u001b[0m\u001b[0;34m\u001b[0m\u001b[0;34m\u001b[0m\u001b[0m\n\u001b[1;32m    103\u001b[0m \u001b[0;31m#            print(args, kwargs, unmatched_pos, cut_positional, unmatched_kw)\u001b[0m\u001b[0;34m\u001b[0m\u001b[0;34m\u001b[0m\u001b[0;34m\u001b[0m\u001b[0m\n\u001b[0;32m--> 104\u001b[0;31m             \u001b[0;32mreturn\u001b[0m \u001b[0mcallback\u001b[0m\u001b[0;34m(\u001b[0m\u001b[0;34m*\u001b[0m\u001b[0margs\u001b[0m\u001b[0;34m,\u001b[0m \u001b[0;34m**\u001b[0m\u001b[0mkwargs\u001b[0m\u001b[0;34m)\u001b[0m\u001b[0;34m\u001b[0m\u001b[0;34m\u001b[0m\u001b[0m\n\u001b[0m\u001b[1;32m    105\u001b[0m \u001b[0;34m\u001b[0m\u001b[0m\n\u001b[1;32m    106\u001b[0m         \u001b[0;32mreturn\u001b[0m \u001b[0madapted\u001b[0m\u001b[0;34m\u001b[0m\u001b[0;34m\u001b[0m\u001b[0m\n",
      "\u001b[0;32m~/.conda/envs/exatrkx-test/lib/python3.7/site-packages/wandb/__init__.py\u001b[0m in \u001b[0;36mcleanup\u001b[0;34m()\u001b[0m\n\u001b[1;32m    504\u001b[0m         \u001b[0;31m# shutdown async logger because _user_process_finished isn't called in jupyter\u001b[0m\u001b[0;34m\u001b[0m\u001b[0;34m\u001b[0m\u001b[0;34m\u001b[0m\u001b[0m\n\u001b[1;32m    505\u001b[0m         \u001b[0mshutdown_async_log_thread\u001b[0m\u001b[0;34m(\u001b[0m\u001b[0;34m)\u001b[0m\u001b[0;34m\u001b[0m\u001b[0;34m\u001b[0m\u001b[0m\n\u001b[0;32m--> 506\u001b[0;31m         \u001b[0mrun\u001b[0m\u001b[0;34m.\u001b[0m\u001b[0m_stop_jupyter_agent\u001b[0m\u001b[0;34m(\u001b[0m\u001b[0;34m)\u001b[0m\u001b[0;34m\u001b[0m\u001b[0;34m\u001b[0m\u001b[0m\n\u001b[0m\u001b[1;32m    507\u001b[0m     \u001b[0;32mif\u001b[0m \u001b[0mhasattr\u001b[0m\u001b[0;34m(\u001b[0m\u001b[0mipython\u001b[0m\u001b[0;34m.\u001b[0m\u001b[0mevents\u001b[0m\u001b[0;34m,\u001b[0m \u001b[0;34m\"_orig_post_run\"\u001b[0m\u001b[0;34m)\u001b[0m\u001b[0;34m:\u001b[0m\u001b[0;34m\u001b[0m\u001b[0;34m\u001b[0m\u001b[0m\n\u001b[1;32m    508\u001b[0m         \u001b[0mipython\u001b[0m\u001b[0;34m.\u001b[0m\u001b[0mevents\u001b[0m\u001b[0;34m.\u001b[0m\u001b[0munregister\u001b[0m\u001b[0;34m(\u001b[0m\u001b[0;34m\"post_run_cell\"\u001b[0m\u001b[0;34m,\u001b[0m \u001b[0mipython\u001b[0m\u001b[0;34m.\u001b[0m\u001b[0mevents\u001b[0m\u001b[0;34m.\u001b[0m\u001b[0m_orig_post_run\u001b[0m\u001b[0;34m)\u001b[0m\u001b[0;34m\u001b[0m\u001b[0;34m\u001b[0m\u001b[0m\n",
      "\u001b[0;32m~/.conda/envs/exatrkx-test/lib/python3.7/site-packages/wandb/wandb_run.py\u001b[0m in \u001b[0;36m_stop_jupyter_agent\u001b[0;34m(self)\u001b[0m\n\u001b[1;32m    198\u001b[0m \u001b[0;34m\u001b[0m\u001b[0m\n\u001b[1;32m    199\u001b[0m     \u001b[0;32mdef\u001b[0m \u001b[0m_stop_jupyter_agent\u001b[0m\u001b[0;34m(\u001b[0m\u001b[0mself\u001b[0m\u001b[0;34m)\u001b[0m\u001b[0;34m:\u001b[0m\u001b[0;34m\u001b[0m\u001b[0;34m\u001b[0m\u001b[0m\n\u001b[0;32m--> 200\u001b[0;31m         \u001b[0mself\u001b[0m\u001b[0;34m.\u001b[0m\u001b[0m_jupyter_agent\u001b[0m\u001b[0;34m.\u001b[0m\u001b[0mstop\u001b[0m\u001b[0;34m(\u001b[0m\u001b[0;34m)\u001b[0m\u001b[0;34m\u001b[0m\u001b[0;34m\u001b[0m\u001b[0m\n\u001b[0m\u001b[1;32m    201\u001b[0m \u001b[0;34m\u001b[0m\u001b[0m\n\u001b[1;32m    202\u001b[0m     \u001b[0;32mdef\u001b[0m \u001b[0msend_message\u001b[0m\u001b[0;34m(\u001b[0m\u001b[0mself\u001b[0m\u001b[0;34m,\u001b[0m \u001b[0moptions\u001b[0m\u001b[0;34m)\u001b[0m\u001b[0;34m:\u001b[0m\u001b[0;34m\u001b[0m\u001b[0;34m\u001b[0m\u001b[0m\n",
      "\u001b[0;32m~/.conda/envs/exatrkx-test/lib/python3.7/site-packages/wandb/jupyter.py\u001b[0m in \u001b[0;36mstop\u001b[0;34m(self)\u001b[0m\n\u001b[1;32m    140\u001b[0m             \u001b[0mself\u001b[0m\u001b[0;34m.\u001b[0m\u001b[0mrm\u001b[0m\u001b[0;34m.\u001b[0m\u001b[0munmirror_stdout_stderr\u001b[0m\u001b[0;34m(\u001b[0m\u001b[0;34m)\u001b[0m\u001b[0;34m\u001b[0m\u001b[0;34m\u001b[0m\u001b[0m\n\u001b[1;32m    141\u001b[0m             \u001b[0mwandb\u001b[0m\u001b[0;34m.\u001b[0m\u001b[0mrun\u001b[0m\u001b[0;34m.\u001b[0m\u001b[0mclose_files\u001b[0m\u001b[0;34m(\u001b[0m\u001b[0;34m)\u001b[0m\u001b[0;34m\u001b[0m\u001b[0;34m\u001b[0m\u001b[0m\n\u001b[0;32m--> 142\u001b[0;31m             \u001b[0mself\u001b[0m\u001b[0;34m.\u001b[0m\u001b[0mrm\u001b[0m\u001b[0;34m.\u001b[0m\u001b[0mshutdown\u001b[0m\u001b[0;34m(\u001b[0m\u001b[0;34m)\u001b[0m\u001b[0;34m\u001b[0m\u001b[0;34m\u001b[0m\u001b[0m\n\u001b[0m\u001b[1;32m    143\u001b[0m             \u001b[0mself\u001b[0m\u001b[0;34m.\u001b[0m\u001b[0mpaused\u001b[0m \u001b[0;34m=\u001b[0m \u001b[0;32mTrue\u001b[0m\u001b[0;34m\u001b[0m\u001b[0;34m\u001b[0m\u001b[0m\n\u001b[1;32m    144\u001b[0m \u001b[0;34m\u001b[0m\u001b[0m\n",
      "\u001b[0;32m~/.conda/envs/exatrkx-test/lib/python3.7/site-packages/wandb/run_manager.py\u001b[0m in \u001b[0;36mshutdown\u001b[0;34m(self, exitcode)\u001b[0m\n\u001b[1;32m   1070\u001b[0m         \u001b[0;34m\"\"\"Stops system stats, streaming handlers, and uploads files without output, used by wandb.monitor\"\"\"\u001b[0m\u001b[0;34m\u001b[0m\u001b[0;34m\u001b[0m\u001b[0m\n\u001b[1;32m   1071\u001b[0m         \u001b[0mlogger\u001b[0m\u001b[0;34m.\u001b[0m\u001b[0minfo\u001b[0m\u001b[0;34m(\u001b[0m\u001b[0;34m\"shutting down system stats and metadata service\"\u001b[0m\u001b[0;34m)\u001b[0m\u001b[0;34m\u001b[0m\u001b[0;34m\u001b[0m\u001b[0m\n\u001b[0;32m-> 1072\u001b[0;31m         \u001b[0mself\u001b[0m\u001b[0;34m.\u001b[0m\u001b[0m_system_stats\u001b[0m\u001b[0;34m.\u001b[0m\u001b[0mshutdown\u001b[0m\u001b[0;34m(\u001b[0m\u001b[0;34m)\u001b[0m\u001b[0;34m\u001b[0m\u001b[0;34m\u001b[0m\u001b[0m\n\u001b[0m\u001b[1;32m   1073\u001b[0m         \u001b[0mself\u001b[0m\u001b[0;34m.\u001b[0m\u001b[0m_meta\u001b[0m\u001b[0;34m.\u001b[0m\u001b[0mshutdown\u001b[0m\u001b[0;34m(\u001b[0m\u001b[0;34m)\u001b[0m\u001b[0;34m\u001b[0m\u001b[0;34m\u001b[0m\u001b[0m\n\u001b[1;32m   1074\u001b[0m         \u001b[0;32mfor\u001b[0m \u001b[0mwatcher\u001b[0m \u001b[0;32min\u001b[0m \u001b[0mself\u001b[0m\u001b[0;34m.\u001b[0m\u001b[0m_tensorboard_watchers\u001b[0m\u001b[0;34m:\u001b[0m\u001b[0;34m\u001b[0m\u001b[0;34m\u001b[0m\u001b[0m\n",
      "\u001b[0;32m~/.conda/envs/exatrkx-test/lib/python3.7/site-packages/wandb/stats.py\u001b[0m in \u001b[0;36mshutdown\u001b[0;34m(self)\u001b[0m\n\u001b[1;32m    110\u001b[0m         \u001b[0mself\u001b[0m\u001b[0;34m.\u001b[0m\u001b[0m_shutdown\u001b[0m \u001b[0;34m=\u001b[0m \u001b[0;32mTrue\u001b[0m\u001b[0;34m\u001b[0m\u001b[0;34m\u001b[0m\u001b[0m\n\u001b[1;32m    111\u001b[0m         \u001b[0;32mtry\u001b[0m\u001b[0;34m:\u001b[0m\u001b[0;34m\u001b[0m\u001b[0;34m\u001b[0m\u001b[0m\n\u001b[0;32m--> 112\u001b[0;31m             \u001b[0mself\u001b[0m\u001b[0;34m.\u001b[0m\u001b[0m_thread\u001b[0m\u001b[0;34m.\u001b[0m\u001b[0mjoin\u001b[0m\u001b[0;34m(\u001b[0m\u001b[0;34m)\u001b[0m\u001b[0;34m\u001b[0m\u001b[0;34m\u001b[0m\u001b[0m\n\u001b[0m\u001b[1;32m    113\u001b[0m         \u001b[0;31m# Incase we never start it\u001b[0m\u001b[0;34m\u001b[0m\u001b[0;34m\u001b[0m\u001b[0;34m\u001b[0m\u001b[0m\n\u001b[1;32m    114\u001b[0m         \u001b[0;32mexcept\u001b[0m \u001b[0mRuntimeError\u001b[0m\u001b[0;34m:\u001b[0m\u001b[0;34m\u001b[0m\u001b[0;34m\u001b[0m\u001b[0m\n",
      "\u001b[0;32m~/.conda/envs/exatrkx-test/lib/python3.7/threading.py\u001b[0m in \u001b[0;36mjoin\u001b[0;34m(self, timeout)\u001b[0m\n\u001b[1;32m   1042\u001b[0m \u001b[0;34m\u001b[0m\u001b[0m\n\u001b[1;32m   1043\u001b[0m         \u001b[0;32mif\u001b[0m \u001b[0mtimeout\u001b[0m \u001b[0;32mis\u001b[0m \u001b[0;32mNone\u001b[0m\u001b[0;34m:\u001b[0m\u001b[0;34m\u001b[0m\u001b[0;34m\u001b[0m\u001b[0m\n\u001b[0;32m-> 1044\u001b[0;31m             \u001b[0mself\u001b[0m\u001b[0;34m.\u001b[0m\u001b[0m_wait_for_tstate_lock\u001b[0m\u001b[0;34m(\u001b[0m\u001b[0;34m)\u001b[0m\u001b[0;34m\u001b[0m\u001b[0;34m\u001b[0m\u001b[0m\n\u001b[0m\u001b[1;32m   1045\u001b[0m         \u001b[0;32melse\u001b[0m\u001b[0;34m:\u001b[0m\u001b[0;34m\u001b[0m\u001b[0;34m\u001b[0m\u001b[0m\n\u001b[1;32m   1046\u001b[0m             \u001b[0;31m# the behavior of a negative timeout isn't documented, but\u001b[0m\u001b[0;34m\u001b[0m\u001b[0;34m\u001b[0m\u001b[0;34m\u001b[0m\u001b[0m\n",
      "\u001b[0;32m~/.conda/envs/exatrkx-test/lib/python3.7/threading.py\u001b[0m in \u001b[0;36m_wait_for_tstate_lock\u001b[0;34m(self, block, timeout)\u001b[0m\n\u001b[1;32m   1058\u001b[0m         \u001b[0;32mif\u001b[0m \u001b[0mlock\u001b[0m \u001b[0;32mis\u001b[0m \u001b[0;32mNone\u001b[0m\u001b[0;34m:\u001b[0m  \u001b[0;31m# already determined that the C code is done\u001b[0m\u001b[0;34m\u001b[0m\u001b[0;34m\u001b[0m\u001b[0m\n\u001b[1;32m   1059\u001b[0m             \u001b[0;32massert\u001b[0m \u001b[0mself\u001b[0m\u001b[0;34m.\u001b[0m\u001b[0m_is_stopped\u001b[0m\u001b[0;34m\u001b[0m\u001b[0;34m\u001b[0m\u001b[0m\n\u001b[0;32m-> 1060\u001b[0;31m         \u001b[0;32melif\u001b[0m \u001b[0mlock\u001b[0m\u001b[0;34m.\u001b[0m\u001b[0macquire\u001b[0m\u001b[0;34m(\u001b[0m\u001b[0mblock\u001b[0m\u001b[0;34m,\u001b[0m \u001b[0mtimeout\u001b[0m\u001b[0;34m)\u001b[0m\u001b[0;34m:\u001b[0m\u001b[0;34m\u001b[0m\u001b[0;34m\u001b[0m\u001b[0m\n\u001b[0m\u001b[1;32m   1061\u001b[0m             \u001b[0mlock\u001b[0m\u001b[0;34m.\u001b[0m\u001b[0mrelease\u001b[0m\u001b[0;34m(\u001b[0m\u001b[0;34m)\u001b[0m\u001b[0;34m\u001b[0m\u001b[0;34m\u001b[0m\u001b[0m\n\u001b[1;32m   1062\u001b[0m             \u001b[0mself\u001b[0m\u001b[0;34m.\u001b[0m\u001b[0m_stop\u001b[0m\u001b[0;34m(\u001b[0m\u001b[0;34m)\u001b[0m\u001b[0;34m\u001b[0m\u001b[0;34m\u001b[0m\u001b[0m\n",
      "\u001b[0;31mKeyboardInterrupt\u001b[0m: "
     ]
    }
   ],
   "source": [
    "for epoch in range(100):\n",
    "    tic = tt()  \n",
    "    model.train()\n",
    "    acc, train_loss = train_gnn(model, gnn_train_loader, optimizer, m_configs)\n",
    "    print(\"Training loss:\", train_loss)\n",
    "\n",
    "    model.eval()\n",
    "    with torch.no_grad():\n",
    "        acc, eff, pur, val_loss = evaluate_gnn(model, gnn_test_loader, m_configs)\n",
    "    scheduler.step(val_loss)\n",
    "    wandb.log({\"val_loss\": val_loss, \"train_loss\": train_loss, \"val_acc\": acc, \"val_pur\": pur, \"val_eff\": eff, \"lr\": scheduler._last_lr[0]})\n",
    "\n",
    "    save_model(epoch, model, optimizer, scheduler, val_loss, m_configs, 'ResAGNN/'+model_name._name+'.tar')\n",
    "\n",
    "    print('Epoch: {}, Accuracy: {:.4f}, Purity: {:.4f}, Efficiency: {:.4f}, Loss: {:.4f}, LR: {} in time {}'.format(epoch, acc, pur, eff, val_loss, scheduler._last_lr[0], tt()-tic))"
   ]
  },
  {
   "cell_type": "markdown",
   "metadata": {
    "heading_collapsed": true
   },
   "source": [
    "### ROC Results"
   ]
  },
  {
   "cell_type": "code",
   "execution_count": 17,
   "metadata": {
    "code_folding": [],
    "hidden": true,
    "scrolled": true
   },
   "outputs": [],
   "source": [
    "model.eval()\n",
    "\n",
    "total_pred = []\n",
    "total_y = []\n",
    "\n",
    "for batch in gnn_test_loader:\n",
    "    data = batch.to(device)\n",
    "    with torch.no_grad():\n",
    "        pred = model(data)   \n",
    "    y = batch.pid[batch.e[0]] == batch.pid[batch.e[1]]\n",
    "\n",
    "    total_pred += pred.detach().cpu().numpy().tolist()\n",
    "    total_y += y.cpu().numpy().tolist()"
   ]
  },
  {
   "cell_type": "code",
   "execution_count": 18,
   "metadata": {
    "hidden": true
   },
   "outputs": [],
   "source": [
    "fpr, tpr, _ = metrics.roc_curve(total_y, total_pred)"
   ]
  },
  {
   "cell_type": "code",
   "execution_count": 19,
   "metadata": {
    "hidden": true,
    "scrolled": true
   },
   "outputs": [
    {
     "data": {
      "text/plain": [
       "Text(0.5, 1.0, 'AGNN over Biadjacent Embedding')"
      ]
     },
     "execution_count": 19,
     "metadata": {},
     "output_type": "execute_result"
    },
    {
     "data": {
      "image/png": "[encoded data removed]",
      "text/plain": [
       "<Figure size 432x288 with 1 Axes>"
      ]
     },
     "metadata": {
      "needs_background": "light"
     },
     "output_type": "display_data"
    }
   ],
   "source": [
    "fig, ax = plt.subplots()\n",
    "ax.plot(fpr, tpr)\n",
    "ax.text(0.4, 0.95, \"AUC: {:.4f}\".format(metrics.roc_auc_score(total_y, total_pred)), transform=ax.transAxes, fontsize=14,\n",
    "        verticalalignment='top', bbox=props)\n",
    "ax.set_xlabel(\"fpr\"), ax.set_ylabel(\"tpr\")\n",
    "ax.set_title(\"AGNN over Biadjacent Embedding\")"
   ]
  },
  {
   "cell_type": "code",
   "execution_count": 20,
   "metadata": {
    "hidden": true,
    "scrolled": true
   },
   "outputs": [
    {
     "data": {
      "text/plain": [
       "Text(0.5, 1.0, 'AGNN over Biadjacent Embedding')"
      ]
     },
     "execution_count": 20,
     "metadata": {},
     "output_type": "execute_result"
    },
    {
     "data": {
      "image/png": "[encoded data removed]",
      "text/plain": [
       "<Figure size 432x288 with 1 Axes>"
      ]
     },
     "metadata": {
      "needs_background": "light"
     },
     "output_type": "display_data"
    }
   ],
   "source": [
    "fig, ax = plt.subplots()\n",
    "ax.plot(fpr, tpr*cluster_eff)\n",
    "ax.text(0.2, 0.8, \"AUC (with cluster eff.): {:.4f}\".format(metrics.roc_auc_score(total_y, total_pred)*cluster_eff), transform=ax.transAxes, fontsize=14,\n",
    "        verticalalignment='top', bbox=props)\n",
    "ax.set_xlabel(\"fpr\"), ax.set_ylabel(\"tpr\")\n",
    "ax.set_title(\"AGNN over Biadjacent Embedding\")"
   ]
  },
  {
   "cell_type": "markdown",
   "metadata": {
    "heading_collapsed": true
   },
   "source": [
    "### F1 Results"
   ]
  },
  {
   "cell_type": "code",
   "execution_count": 124,
   "metadata": {
    "hidden": true,
    "scrolled": true
   },
   "outputs": [
    {
     "data": {
      "text/plain": [
       "[(0.4455550437586366, 0.9999556613115385),\n",
       " (0.445601105481345, 0.9999556613115385),\n",
       " (0.45520497466605253, 0.9999556613115385),\n",
       " (0.45525103638876097, 0.9999556613115385),\n",
       " (0.45794564716720404, 0.9999556613115385),\n",
       " (0.4579917088899125, 0.9999556613115385),\n",
       " (0.46722708429295257, 0.9999556613115385),\n",
       " (0.467273146015661, 0.9999556613115385),\n",
       " (0.48224320589590053, 0.9999556613115385),\n",
       " (0.48224320589590053, 0.9999704408743589),\n",
       " (0.4847305389221557, 0.9999704408743589),\n",
       " (0.4847766006448641, 0.9999704408743589),\n",
       " (0.49456471672040536, 0.9999704408743589),\n",
       " (0.4946107784431138, 0.9999704408743589),\n",
       " (0.5251497005988024, 0.9999704408743589),\n",
       " (0.5251957623215108, 0.9999704408743589),\n",
       " (0.5346614463380931, 0.9999704408743589),\n",
       " (0.5347075080608015, 0.9999704408743589),\n",
       " (0.5854905573468447, 0.9999704408743589),\n",
       " (0.5855366190695532, 0.9999704408743589),\n",
       " (0.5894288346384154, 0.9999704408743589),\n",
       " (0.5894748963611239, 0.9999704408743589),\n",
       " (0.5923767848917549, 0.9999704408743589),\n",
       " (0.5924228466144634, 0.9999704408743589),\n",
       " (0.5979041916167664, 0.9999704408743589),\n",
       " (0.5979502533394749, 0.9999704408743589),\n",
       " (0.6018654997696914, 0.9999704408743589),\n",
       " (0.6019115614923998, 0.9999704408743589),\n",
       " (0.6043528327959465, 0.9999704408743589),\n",
       " (0.604398894518655, 0.9999704408743589),\n",
       " (0.607623215108245, 0.9999704408743589),\n",
       " (0.607623215108245, 0.9999852204371795),\n",
       " (0.6121142330723169, 0.9999852204371795),\n",
       " (0.6121602947950253, 0.9999852204371795),\n",
       " (0.6194610778443114, 0.9999852204371795),\n",
       " (0.6195071395670199, 0.9999852204371795),\n",
       " (0.6223859972362966, 0.9999852204371795),\n",
       " (0.6224320589590051, 0.9999852204371795),\n",
       " (0.6239981575310917, 0.9999852204371795),\n",
       " (0.6240442192538, 0.9999852204371795),\n",
       " (0.6342008291110087, 0.9999852204371795),\n",
       " (0.6342468908337172, 0.9999852204371795),\n",
       " (0.6361354214647628, 0.9999852204371795),\n",
       " (0.6361814831874713, 0.9999852204371795),\n",
       " (0.6370566559189313, 0.9999852204371795),\n",
       " (0.6371027176416398, 0.9999852204371795),\n",
       " (0.6423307231690465, 0.9999852204371795),\n",
       " (0.642376784891755, 0.9999852204371795),\n",
       " (0.6565868263473054, 0.9999852204371795),\n",
       " (0.6566328880700139, 0.9999852204371795),\n",
       " (0.6668585905112852, 0.9999852204371795),\n",
       " (0.6669046522339935, 0.9999852204371795),\n",
       " (0.67081989866421, 0.9999852204371795),\n",
       " (0.6708659603869185, 0.9999852204371795),\n",
       " (0.6725011515430677, 0.9999852204371795),\n",
       " (0.6725472132657762, 0.9999852204371795),\n",
       " (0.6729387379087978, 0.9999852204371795),\n",
       " (0.6729847996315063, 0.9999852204371795),\n",
       " (0.6732151082450484, 0.9999852204371795),\n",
       " (0.6732611699677568, 0.9999852204371795),\n",
       " (0.6792491939198526, 0.9999852204371795),\n",
       " (0.6793182865039152, 0.9999852204371795),\n",
       " (0.6797789037309996, 0.9999852204371795),\n",
       " (0.679824965453708, 0.9999852204371795),\n",
       " (0.6800092123445417, 0.9999852204371795),\n",
       " (0.6800552740672501, 0.9999852204371795),\n",
       " (0.6887379087977891, 0.9999852204371795),\n",
       " (0.6887839705204974, 0.9999852204371795),\n",
       " (0.6891294334408107, 0.9999852204371795),\n",
       " (0.6891754951635192, 0.9999852204371795),\n",
       " (0.6944495624136343, 0.9999852204371795),\n",
       " (0.6944956241363427, 0.9999852204371795),\n",
       " (0.7038461538461539, 0.9999852204371795),\n",
       " (0.7038922155688623, 0.9999852204371795),\n",
       " (0.7085214187010594, 0.9999852204371795),\n",
       " (0.7085674804237678, 0.9999852204371795),\n",
       " (0.711262091202211, 0.9999852204371795),\n",
       " (0.7113081529249194, 0.9999852204371795),\n",
       " (0.718770152003685, 0.9999852204371795),\n",
       " (0.7188162137263934, 0.9999852204371795),\n",
       " (0.7225472132657761, 0.9999852204371795),\n",
       " (0.7225932749884846, 0.9999852204371795),\n",
       " (0.7226623675725472, 0.9999852204371795),\n",
       " (0.7227084292952557, 0.9999852204371795),\n",
       " (0.7241824044219254, 0.9999852204371795),\n",
       " (0.7242284661446338, 0.9999852204371795),\n",
       " (0.7251266697374482, 0.9999852204371795),\n",
       " (0.7251727314601566, 0.9999852204371795),\n",
       " (0.7266236757254722, 0.9999852204371795),\n",
       " (0.7266697374481805, 0.9999852204371795),\n",
       " (0.7271533855366191, 0.9999852204371795),\n",
       " (0.7271994472593275, 0.9999852204371795),\n",
       " (0.7313680331644403, 0.9999852204371795),\n",
       " (0.7313680331644403, 1.0),\n",
       " (0.7332335329341317, 1.0),\n",
       " (0.7332795946568401, 1.0),\n",
       " (0.7347305389221557, 1.0),\n",
       " (0.7347766006448642, 1.0),\n",
       " (0.7583141409488715, 1.0),\n",
       " (0.7583602026715799, 1.0),\n",
       " (0.759649930907416, 1.0),\n",
       " (0.7596959926301243, 1.0),\n",
       " (0.768125287885767, 1.0),\n",
       " (0.7681713496084753, 1.0),\n",
       " (0.7689543988945187, 1.0),\n",
       " (0.769000460617227, 1.0),\n",
       " (0.7741133118378627, 1.0),\n",
       " (0.7741593735605712, 1.0),\n",
       " (0.775103638876094, 1.0),\n",
       " (0.7751497005988024, 1.0),\n",
       " (0.7798710271764164, 1.0),\n",
       " (0.7799170888991248, 1.0),\n",
       " (0.7847996315062183, 1.0),\n",
       " (0.7848456932289267, 1.0),\n",
       " (0.7852372178719484, 1.0),\n",
       " (0.7852832795946568, 1.0),\n",
       " (0.787770612620912, 1.0),\n",
       " (0.7878166743436205, 1.0),\n",
       " (0.7909488714877937, 1.0),\n",
       " (0.7909949332105021, 1.0),\n",
       " (0.8015430677107324, 1.0),\n",
       " (0.8015891294334409, 1.0),\n",
       " (0.8025103638876094, 1.0),\n",
       " (0.8025564256103178, 1.0),\n",
       " (0.8064947029018885, 1.0),\n",
       " (0.806540764624597, 1.0),\n",
       " (0.8179410409949333, 1.0),\n",
       " (0.8179871027176416, 1.0),\n",
       " (0.8196453247351451, 1.0),\n",
       " (0.8196913864578536, 1.0),\n",
       " (0.822201750345463, 1.0),\n",
       " (0.8222478120681713, 1.0),\n",
       " (0.8339705204974666, 1.0),\n",
       " (0.834016582220175, 1.0),\n",
       " (0.8390142791340396, 1.0),\n",
       " (0.8390603408567481, 1.0),\n",
       " (0.8420082911100876, 1.0),\n",
       " (0.842054352832796, 1.0),\n",
       " (0.84398894518655, 1.0),\n",
       " (0.8440350069092584, 1.0),\n",
       " (0.8494933210502073, 1.0),\n",
       " (0.8495393827729157, 1.0),\n",
       " (0.8519115614923998, 1.0),\n",
       " (0.8519576232151083, 1.0),\n",
       " (0.8535237217871948, 1.0),\n",
       " (0.8535697835099033, 1.0),\n",
       " (0.8656149239981575, 1.0),\n",
       " (0.8656609857208659, 1.0),\n",
       " (0.8657070474435744, 1.0),\n",
       " (0.8657531091662828, 1.0),\n",
       " (0.8687931828650391, 1.0),\n",
       " (0.8688392445877475, 1.0),\n",
       " (0.8778673422385997, 1.0),\n",
       " (0.8779134039613081, 1.0),\n",
       " (0.8782358360202671, 1.0),\n",
       " (0.8782818977429756, 1.0),\n",
       " (0.8820128972823583, 1.0),\n",
       " (0.8820589590050668, 1.0),\n",
       " (0.8827959465684017, 1.0),\n",
       " (0.88284200829111, 1.0),\n",
       " (0.8915707047443574, 1.0),\n",
       " (0.8916167664670659, 1.0),\n",
       " (0.8951404882542607, 1.0),\n",
       " (0.8951865499769691, 1.0),\n",
       " (0.8977199447259328, 1.0),\n",
       " (0.8977660064486411, 1.0),\n",
       " (0.8998848456932289, 1.0),\n",
       " (0.8999309074159374, 1.0),\n",
       " (0.9133118378627361, 1.0),\n",
       " (0.9133578995854444, 1.0),\n",
       " (0.9242745278673422, 1.0),\n",
       " (0.9243205895900507, 1.0),\n",
       " (0.9300552740672501, 1.0),\n",
       " (0.9301013357899586, 1.0),\n",
       " (0.9367572547213265, 1.0),\n",
       " (0.936803316444035, 1.0),\n",
       " (0.9386688162137264, 1.0),\n",
       " (0.9387148779364348, 1.0),\n",
       " (0.9478120681713496, 1.0),\n",
       " (0.947858129894058, 1.0),\n",
       " (0.9608245048364809, 1.0),\n",
       " (0.9608705665591893, 1.0),\n",
       " (0.9640948871487793, 1.0),\n",
       " (0.9641409488714878, 1.0),\n",
       " (0.983694150161216, 1.0),\n",
       " (0.9837402118839245, 1.0),\n",
       " (1.0, 1.0)]"
      ]
     },
     "execution_count": 124,
     "metadata": {},
     "output_type": "execute_result"
    }
   ],
   "source": [
    "thresh = 0.4\n",
    "list(zip(fpr[(fpr) > thresh], tpr[fpr > thresh]))"
   ]
  },
  {
   "cell_type": "code",
   "execution_count": 21,
   "metadata": {
    "hidden": true
   },
   "outputs": [],
   "source": [
    "model.eval()\n",
    "\n",
    "total_pred = []\n",
    "total_y = []\n",
    "\n",
    "for batch in gnn_test_loader:\n",
    "    data = batch.to(device)\n",
    "    with torch.no_grad():\n",
    "        pred = model(data)   \n",
    "    y = batch.pid[batch.e[0]] == batch.pid[batch.e[1]]\n",
    "\n",
    "    total_pred += sig(pred).detach().cpu().numpy().tolist()\n",
    "    total_y += y.cpu().numpy().tolist()"
   ]
  },
  {
   "cell_type": "code",
   "execution_count": 27,
   "metadata": {
    "hidden": true
   },
   "outputs": [
    {
     "data": {
      "text/plain": [
       "Text(0.5, 1.0, 'GNN on Biadjacent Embedding')"
      ]
     },
     "execution_count": 27,
     "metadata": {},
     "output_type": "execute_result"
    },
    {
     "data": {
      "image/png": "[encoded data removed]",
      "text/plain": [
       "<Figure size 432x288 with 1 Axes>"
      ]
     },
     "metadata": {
      "needs_background": "light"
     },
     "output_type": "display_data"
    }
   ],
   "source": [
    "fig, ax = plt.subplots()\n",
    "f1 = [metrics.f1_score(total_y, np.array(total_pred)>thresh) for thresh in np.arange(0,1,0.1)]\n",
    "ax.plot(np.arange(0,1,0.1), f1)\n",
    "ax.text(0.4, 0.2, \"Best F1: {:.4f} @ r= {:.2f}\".format(max(f1), 0.1*np.argmax(f1)), transform=ax.transAxes, fontsize=14,\n",
    "        verticalalignment='top', bbox=props)\n",
    "ax.set_xlabel(\"edge score threshold\"), ax.set_ylabel(\"F1 measure\")\n",
    "ax.set_title(\"GNN on Biadjacent Embedding\")"
   ]
  },
  {
   "cell_type": "markdown",
   "metadata": {},
   "source": [
    "## Mixed Precision GNN"
   ]
  },
  {
   "cell_type": "code",
   "execution_count": 8,
   "metadata": {
    "code_folding": []
   },
   "outputs": [],
   "source": [
    "class EdgeNetwork(nn.Module):\n",
    "    \"\"\"\n",
    "    A module which computes weights for edges of the graph.\n",
    "    For each edge, it selects the associated nodes' features\n",
    "    and applies some fully-connected network layers with a final\n",
    "    sigmoid activation.\n",
    "    \"\"\"\n",
    "    def __init__(self, input_dim, hidden_dim=8, hidden_activation='Tanh',\n",
    "                 layer_norm=True):\n",
    "        super(EdgeNetwork, self).__init__()\n",
    "        self.network = make_mlp(input_dim*2,\n",
    "                                [hidden_dim, hidden_dim, hidden_dim, 1],\n",
    "                                hidden_activation=hidden_activation,\n",
    "                                output_activation=None,\n",
    "                                layer_norm=layer_norm)\n",
    "\n",
    "    def forward(self, x, edge_index):\n",
    "        # Select the features of the associated nodes\n",
    "        start, end = edge_index\n",
    "        x1, x2 = x[start], x[end]\n",
    "        edge_inputs = torch.cat([x[start], x[end]], dim=1)\n",
    "        return self.network(edge_inputs).squeeze(-1)\n",
    "\n",
    "class NodeNetwork(nn.Module):\n",
    "    \"\"\"\n",
    "    A module which computes new node features on the graph.\n",
    "    For each node, it aggregates the neighbor node features\n",
    "    (separately on the input and output side), and combines\n",
    "    them with the node's previous features in a fully-connected\n",
    "    network to compute the new features.\n",
    "    \"\"\"\n",
    "    def __init__(self, input_dim, output_dim, hidden_activation='Tanh',\n",
    "                 layer_norm=True):\n",
    "        super(NodeNetwork, self).__init__()\n",
    "        self.network = make_mlp(input_dim*3, [output_dim]*4,\n",
    "                                hidden_activation=hidden_activation,\n",
    "                                output_activation=None,\n",
    "                                layer_norm=layer_norm)\n",
    "\n",
    "    def forward(self, x, e, edge_index):\n",
    "        start, end = edge_index\n",
    "        # Aggregate edge-weighted incoming/outgoing features\n",
    "        mi = scatter_add(e[:, None] * x[start], end, dim=0, dim_size=x.shape[0])\n",
    "        mo = scatter_add(e[:, None] * x[end], start, dim=0, dim_size=x.shape[0])\n",
    "        node_inputs = torch.cat([mi, mo, x], dim=1)\n",
    "        return self.network(node_inputs)\n",
    "    \n",
    "class ResAGNN(nn.Module):\n",
    "    \"\"\"\n",
    "    Segment classification graph neural network model.\n",
    "    Consists of an input network, an edge network, and a node network.\n",
    "    \"\"\"\n",
    "    def __init__(self, in_channels=3, hidden_dim=8, n_graph_iters=3,\n",
    "                 hidden_activation=torch.nn.Tanh, layer_norm=True):\n",
    "        super(ResAGNN, self).__init__()\n",
    "        self.n_graph_iters = n_graph_iters\n",
    "        # Setup the input network\n",
    "        self.input_network = make_mlp(in_channels, [hidden_dim],\n",
    "                                      output_activation=hidden_activation,\n",
    "                                      layer_norm=layer_norm)\n",
    "        # Setup the edge network\n",
    "        self.edge_network = EdgeNetwork(in_channels + hidden_dim, in_channels + hidden_dim,\n",
    "                                        hidden_activation, layer_norm=layer_norm)\n",
    "        # Setup the node layers\n",
    "        self.node_network = NodeNetwork(in_channels + hidden_dim, hidden_dim,\n",
    "                                        hidden_activation, layer_norm=layer_norm)\n",
    "#         self.layerNorm = torch.nn.LayerNorm(in_channels + hidden_dim)\n",
    "        \n",
    "    def forward(self, x, edge_index):\n",
    "        \"\"\"Apply forward pass of the model\"\"\"\n",
    "        x_in = x\n",
    "#         print(x.shape)\n",
    "        x = self.input_network(x)\n",
    "        # Shortcut connect the inputs onto the hidden representation\n",
    "        x = torch.cat([x, x_in], dim=-1)\n",
    "        edge_index = edge_index.long()\n",
    "        # Loop over iterations of edge and node networks\n",
    "        for i in range(self.n_graph_iters):\n",
    "            x_inital = x\n",
    "            \n",
    "            # Apply edge network\n",
    "            e = torch.sigmoid(self.edge_network(x, edge_index))\n",
    "            # Apply node network\n",
    "            x = self.node_network(x, e, edge_index)\n",
    "            \n",
    "            # Shortcut connect the inputs onto the hidden representation\n",
    "            x = torch.cat([x, x_in], dim=-1)  \n",
    "            \n",
    "            x = x_inital + x\n",
    "            \n",
    "        return self.edge_network(x, edge_index)"
   ]
  },
  {
   "cell_type": "code",
   "execution_count": 9,
   "metadata": {
    "code_folding": []
   },
   "outputs": [],
   "source": [
    "def train_mixed_gnn(model, gnn_train_loader, optimizer, m_configs):\n",
    "    correct = 0\n",
    "    total = 0\n",
    "    total_loss = 0\n",
    "    data_time, pred_time, loss_time, loss_back_time, optimizer_step = 0, 0, 0, 0, 0\n",
    "    for i, batch in enumerate(gnn_train_loader):\n",
    "        optimizer.zero_grad()\n",
    "        tic = tt()\n",
    "        data = batch.to(device)\n",
    "        data_time += tt()-tic\n",
    "#         print(\"Edge float\", data.e.max().item(), data.e)\n",
    "#         print(\"Edge long\", data.e.long().max().item(), data.e.long())\n",
    "#         print(\"Edge shape\", data.e.shape)\n",
    "        \n",
    "        tic = tt()\n",
    "        pred = model(data.x, data.edge_index.int())\n",
    "        pred_time += tt()-tic\n",
    "#         print(\"Pred type\", pred.type())\n",
    "        y = batch.y\n",
    "#         print(\"y\", np.isnan(y.cpu().detach().numpy()).sum())\n",
    "#         if (np.isnan(pred.cpu().detach().numpy()).sum() == 0):\n",
    "        tic = tt()\n",
    "        loss = F.binary_cross_entropy_with_logits(pred.float(), y, pos_weight=torch.tensor(m_configs[\"weight\"]))\n",
    "        loss_time += tt()-tic\n",
    "        tic = tt()\n",
    "        with amp.scale_loss(loss, optimizer) as scaled_loss:\n",
    "            scaled_loss.backward()\n",
    "#         loss.backward()\n",
    "        loss_back_time += tt()-tic\n",
    "#         torch.nn.utils.clip_grad_norm_(model.parameters(), m_configs[\"clip\"])\n",
    "        tic = tt()\n",
    "        optimizer.step()\n",
    "        optimizer_step += tt()-tic\n",
    "        \n",
    "        total_loss += loss.item()\n",
    "\n",
    "        true, false = y.float() > 0.5, y.float() < 0.5\n",
    "        positive, negative = sig(pred) > 0.5, sig(pred) < 0.5\n",
    "\n",
    "        correct += ((sig(pred) > 0.5) == (y.float() > 0.5)).sum().item()\n",
    "        total += len(pred)\n",
    "#         else:\n",
    "#             print(\"Broke!\")\n",
    "#         if(i%50==0): print(i, \"batches\")\n",
    "        \n",
    "    acc = correct/max(total, 1)\n",
    "    print(\"data_time, pred_time, loss_time, loss_back_time, optimizer_step\")\n",
    "    print(data_time, pred_time, loss_time, loss_back_time, optimizer_step)\n",
    "    return acc, total_loss\n",
    "\n",
    "def evaluate_mixed_gnn(model, gnn_test_loader, m_configs):\n",
    "    correct, total_positive, total_true, true_positive, total, total_loss = 0, 1, 0, 0, 0, 0\n",
    "    \n",
    "    for batch in gnn_test_loader:\n",
    "        data = batch.to(device)\n",
    "        pred = model(data.x, data.edge_index.int())\n",
    "              \n",
    "        y = batch.y\n",
    "\n",
    "#         print(\"y\", y, \"length\", len(y))\n",
    "#         if (np.isnan(pred.cpu().detach().numpy()).sum() == 0):\n",
    "        loss = F.binary_cross_entropy_with_logits(pred.float(), y.float(), pos_weight=torch.tensor(m_configs[\"weight\"]))\n",
    "        total_loss += loss.item()\n",
    "\n",
    "        true, false = y.float() > 0.5, y.float() < 0.5\n",
    "#         print(\"true\", true, \"sum\", true.float().sum().item())\n",
    "        positive, negative = sig(pred) > 0.5, sig(pred) < 0.5\n",
    "        true_positive += (true & positive).sum().item()\n",
    "        total_positive += max(positive.sum().item(), 1)\n",
    "\n",
    "        correct += ((sig(pred) > 0.5) == (y.float() > 0.5)).sum().item()\n",
    "        total_true += max(true.sum().item(), 1)\n",
    "\n",
    "#         print(\"True positive:\", (true & positive).sum().item(), \"True:\", true.sum().item(), \"Positive\", positive.sum().item())\n",
    "\n",
    "        total += len(pred)\n",
    "\n",
    "    acc = correct/max(total, 1)\n",
    "    eff = (true_positive / max(total_true, 1))\n",
    "    pur = (true_positive / max(total_positive, 1))\n",
    "    \n",
    "#     print(\"Num total_true:\", total_true, \"Num total_positive:\", total_positive, \"Num true_positive:\", true_positive, \"Total edges:\", total)\n",
    "        \n",
    "    return acc, eff, pur, total_loss"
   ]
  },
  {
   "cell_type": "code",
   "execution_count": 10,
   "metadata": {},
   "outputs": [],
   "source": [
    "m_configs = {\"in_channels\": 3, \"hidden_dim\": 64, \"n_graph_iters\": 8}\n",
    "model = ResAGNN(**m_configs).to(device)\n",
    "other_configs = {\"weight\": 3}\n",
    "torch.manual_seed(torch_seed)\n",
    "m_configs.update(other_configs)\n",
    "# model_name = wandb.init(project=\"PrecisionStudy\", group=\"ResAGNN\", config=m_configs)\n",
    "optimizer = torch.optim.Adam(model.parameters(), lr=0.001, weight_decay=1e-3, amsgrad=True)\n",
    "# optimizer = optimizers.FusedAdam(model.parameters(), lr = 0.001, weight_decay=1e-3)\n",
    "scheduler = torch.optim.lr_scheduler.ReduceLROnPlateau(optimizer, factor=0.3, patience=10)\n",
    "train_loss_vec = []\n",
    "val_loss_vec = []\n",
    "val_eff = []\n",
    "val_pur = []"
   ]
  },
  {
   "cell_type": "code",
   "execution_count": 11,
   "metadata": {
    "scrolled": true
   },
   "outputs": [
    {
     "name": "stdout",
     "output_type": "stream",
     "text": [
      "Selected optimization level O2:  FP16 training with FP32 batchnorm and FP32 master weights.\n",
      "\n",
      "Defaults for this optimization level are:\n",
      "enabled                : True\n",
      "opt_level              : O2\n",
      "cast_model_type        : torch.float16\n",
      "patch_torch_functions  : False\n",
      "keep_batchnorm_fp32    : True\n",
      "master_weights         : True\n",
      "loss_scale             : dynamic\n",
      "Processing user overrides (additional kwargs that are not None)...\n",
      "After processing overrides, optimization options are:\n",
      "enabled                : True\n",
      "opt_level              : O2\n",
      "cast_model_type        : torch.float16\n",
      "patch_torch_functions  : False\n",
      "keep_batchnorm_fp32    : True\n",
      "master_weights         : True\n",
      "loss_scale             : dynamic\n"
     ]
    }
   ],
   "source": [
    "model, optimizer = amp.initialize(model, optimizer, opt_level=\"O2\", min_loss_scale=1)#, master_weights=False)"
   ]
  },
  {
   "cell_type": "code",
   "execution_count": 12,
   "metadata": {
    "scrolled": true
   },
   "outputs": [
    {
     "name": "stdout",
     "output_type": "stream",
     "text": [
      "Gradient overflow.  Skipping step, loss scaler 0 reducing loss scale to 32768.0\n",
      "Gradient overflow.  Skipping step, loss scaler 0 reducing loss scale to 16384.0\n",
      "Gradient overflow.  Skipping step, loss scaler 0 reducing loss scale to 8192.0\n",
      "Gradient overflow.  Skipping step, loss scaler 0 reducing loss scale to 4096.0\n",
      "Gradient overflow.  Skipping step, loss scaler 0 reducing loss scale to 2048.0\n",
      "data_time, pred_time, loss_time, loss_back_time, optimizer_step\n",
      "2.2163429260253906 12.864920854568481 0.2551743984222412 258.436194896698 3.318375825881958\n",
      "Training loss: 348.9142432510853\n",
      "End of epoch mem: 0.9072265625 MB\n",
      "Epoch: 0, Accuracy: 0.9457, Purity: 0.7413, Efficiency: 0.9340, Loss: 17.4979, LR: 0.001 in time 287.09330701828003\n",
      "data_time, pred_time, loss_time, loss_back_time, optimizer_step\n",
      "2.3154044151306152 12.24441933631897 0.23364567756652832 258.262330532074 3.3043336868286133\n",
      "Training loss: 167.22985703498125\n",
      "End of epoch mem: 0.9072265625 MB\n",
      "Epoch: 1, Accuracy: 0.9496, Purity: 0.7573, Efficiency: 0.9357, Loss: 16.6744, LR: 0.001 in time 286.2100052833557\n",
      "data_time, pred_time, loss_time, loss_back_time, optimizer_step\n",
      "2.224510431289673 12.38380241394043 0.2350301742553711 258.1029906272888 3.3286006450653076\n",
      "Training loss: 133.18662663549185\n",
      "End of epoch mem: 0.9072265625 MB\n",
      "Epoch: 2, Accuracy: 0.9556, Purity: 0.7785, Efficiency: 0.9492, Loss: 14.9000, LR: 0.001 in time 286.0951883792877\n",
      "data_time, pred_time, loss_time, loss_back_time, optimizer_step\n",
      "2.213390350341797 12.33214259147644 0.23610186576843262 258.1889045238495 3.3486196994781494\n",
      "Training loss: 105.60054860264063\n",
      "End of epoch mem: 0.9072265625 MB\n",
      "Epoch: 3, Accuracy: 0.9721, Purity: 0.8484, Efficiency: 0.9718, Loss: 9.3764, LR: 0.001 in time 286.1552093029022\n",
      "Gradient overflow.  Skipping step, loss scaler 0 reducing loss scale to 4096.0\n",
      "data_time, pred_time, loss_time, loss_back_time, optimizer_step\n",
      "2.2335877418518066 12.438446760177612 0.23412394523620605 258.0610816478729 3.3207921981811523\n",
      "Training loss: 86.27383098378778\n",
      "End of epoch mem: 0.9072265625 MB\n",
      "Epoch: 4, Accuracy: 0.9734, Purity: 0.8492, Efficiency: 0.9820, Loss: 8.4387, LR: 0.001 in time 286.1875784397125\n",
      "data_time, pred_time, loss_time, loss_back_time, optimizer_step\n",
      "2.224520683288574 12.4201500415802 0.23479938507080078 258.0377128124237 3.3163301944732666\n",
      "Training loss: 80.3869644664228\n",
      "End of epoch mem: 0.9072265625 MB\n",
      "Epoch: 5, Accuracy: 0.9814, Purity: 0.8950, Efficiency: 0.9808, Loss: 6.4469, LR: 0.001 in time 286.2964687347412\n",
      "data_time, pred_time, loss_time, loss_back_time, optimizer_step\n",
      "2.2651383876800537 12.015947103500366 0.22759318351745605 258.34757137298584 3.2517154216766357\n",
      "Training loss: 71.97618648037314\n",
      "End of epoch mem: 0.9072265625 MB\n",
      "Epoch: 6, Accuracy: 0.9823, Purity: 0.9025, Efficiency: 0.9775, Loss: 6.5145, LR: 0.001 in time 285.8128685951233\n",
      "data_time, pred_time, loss_time, loss_back_time, optimizer_step\n",
      "2.2707080841064453 12.355330228805542 0.23283076286315918 258.14827489852905 3.3165125846862793\n",
      "Training loss: 65.3054567091167\n",
      "End of epoch mem: 0.9072265625 MB\n",
      "Epoch: 7, Accuracy: 0.9784, Purity: 0.8851, Efficiency: 0.9695, Loss: 7.9914, LR: 0.001 in time 286.2700433731079\n",
      "data_time, pred_time, loss_time, loss_back_time, optimizer_step\n",
      "2.208991289138794 12.423034429550171 0.23650026321411133 258.0203287601471 3.3665080070495605\n",
      "Training loss: 63.458383578807116\n",
      "End of epoch mem: 0.9072265625 MB\n",
      "Epoch: 8, Accuracy: 0.9847, Purity: 0.9153, Efficiency: 0.9799, Loss: 5.7700, LR: 0.001 in time 286.16930961608887\n",
      "Gradient overflow.  Skipping step, loss scaler 0 reducing loss scale to 8192.0\n",
      "data_time, pred_time, loss_time, loss_back_time, optimizer_step\n",
      "2.330144166946411 12.193232297897339 0.22629308700561523 258.1289520263672 3.2659249305725098\n",
      "Training loss: 56.066700007766485\n",
      "End of epoch mem: 0.9072265625 MB\n",
      "Epoch: 9, Accuracy: 0.9874, Purity: 0.9310, Efficiency: 0.9815, Loss: 5.0823, LR: 0.001 in time 285.95156931877136\n",
      "Gradient overflow.  Skipping step, loss scaler 0 reducing loss scale to 4096.0\n",
      "Gradient overflow.  Skipping step, loss scaler 0 reducing loss scale to 2048.0\n",
      "data_time, pred_time, loss_time, loss_back_time, optimizer_step\n",
      "2.279871702194214 12.057351112365723 0.22424745559692383 258.2974829673767 3.270340919494629\n",
      "Training loss: 71.92320409789681\n",
      "End of epoch mem: 0.9072265625 MB\n",
      "Epoch: 10, Accuracy: 0.9863, Purity: 0.9232, Efficiency: 0.9826, Loss: 5.1348, LR: 0.001 in time 286.04478311538696\n",
      "data_time, pred_time, loss_time, loss_back_time, optimizer_step\n",
      "2.263657808303833 12.314422607421875 0.23224878311157227 258.1153326034546 3.332197904586792\n",
      "Training loss: 50.94370934739709\n",
      "End of epoch mem: 0.9072265625 MB\n",
      "Epoch: 11, Accuracy: 0.9876, Purity: 0.9293, Efficiency: 0.9850, Loss: 4.6460, LR: 0.001 in time 286.3267607688904\n",
      "data_time, pred_time, loss_time, loss_back_time, optimizer_step\n",
      "2.2874419689178467 11.982774496078491 0.22655010223388672 258.29559779167175 3.250917673110962\n",
      "Training loss: 49.82748103141785\n",
      "End of epoch mem: 0.9072265625 MB\n",
      "Epoch: 12, Accuracy: 0.9882, Purity: 0.9327, Efficiency: 0.9860, Loss: 4.4053, LR: 0.001 in time 285.8751459121704\n",
      "data_time, pred_time, loss_time, loss_back_time, optimizer_step\n",
      "2.274353265762329 12.083019495010376 0.23061847686767578 258.32249188423157 3.289628267288208\n",
      "Training loss: 49.43966889753938\n",
      "End of epoch mem: 0.9072265625 MB\n",
      "Epoch: 13, Accuracy: 0.9894, Purity: 0.9433, Efficiency: 0.9823, Loss: 4.4959, LR: 0.001 in time 286.15763568878174\n",
      "data_time, pred_time, loss_time, loss_back_time, optimizer_step\n",
      "2.2168118953704834 12.389167308807373 0.23347210884094238 258.0445771217346 3.3315560817718506\n",
      "Training loss: 47.60503561422229\n",
      "End of epoch mem: 0.9072265625 MB\n",
      "Epoch: 14, Accuracy: 0.9883, Purity: 0.9346, Efficiency: 0.9843, Loss: 4.5530, LR: 0.001 in time 286.0889847278595\n",
      "Gradient overflow.  Skipping step, loss scaler 0 reducing loss scale to 4096.0\n",
      "data_time, pred_time, loss_time, loss_back_time, optimizer_step\n",
      "2.226039171218872 12.383715152740479 0.23433709144592285 258.07208943367004 3.356884479522705\n",
      "Training loss: 137.23060050606728\n",
      "End of epoch mem: 0.9072265625 MB\n",
      "Epoch: 15, Accuracy: 0.9773, Purity: 0.8747, Efficiency: 0.9760, Loss: 7.8627, LR: 0.001 in time 286.2511534690857\n",
      "data_time, pred_time, loss_time, loss_back_time, optimizer_step\n",
      "2.2173562049865723 12.391594648361206 0.2343580722808838 258.0393023490906 3.3376758098602295\n",
      "Training loss: 65.4025090187788\n",
      "End of epoch mem: 0.9072265625 MB\n",
      "Epoch: 16, Accuracy: 0.9867, Purity: 0.9274, Efficiency: 0.9805, Loss: 5.4029, LR: 0.001 in time 286.21922492980957\n",
      "data_time, pred_time, loss_time, loss_back_time, optimizer_step\n",
      "2.218141794204712 12.27889347076416 0.23438382148742676 258.2051558494568 3.3409886360168457\n",
      "Training loss: 52.615286473184824\n",
      "End of epoch mem: 0.9072265625 MB\n",
      "Epoch: 17, Accuracy: 0.9861, Purity: 0.9196, Efficiency: 0.9862, Loss: 4.9318, LR: 0.001 in time 286.1752026081085\n",
      "data_time, pred_time, loss_time, loss_back_time, optimizer_step\n",
      "2.2853684425354004 12.193136215209961 0.2319965362548828 258.2406735420227 3.3410704135894775\n",
      "Training loss: 47.03012556582689\n",
      "End of epoch mem: 0.9072265625 MB\n",
      "Epoch: 18, Accuracy: 0.9874, Purity: 0.9293, Efficiency: 0.9838, Loss: 4.7886, LR: 0.001 in time 286.1885998249054\n",
      "Gradient overflow.  Skipping step, loss scaler 0 reducing loss scale to 8192.0\n",
      "data_time, pred_time, loss_time, loss_back_time, optimizer_step\n",
      "2.210080146789551 12.374236822128296 0.23233461380004883 258.00278210639954 3.3385813236236572\n",
      "Training loss: 44.11465707048774\n",
      "End of epoch mem: 0.9072265625 MB\n",
      "Epoch: 19, Accuracy: 0.9897, Purity: 0.9404, Efficiency: 0.9879, Loss: 3.8968, LR: 0.001 in time 285.97119307518005\n",
      "data_time, pred_time, loss_time, loss_back_time, optimizer_step\n",
      "2.2361295223236084 12.30975890159607 0.2331395149230957 258.08230471611023 3.3004748821258545\n",
      "Training loss: 42.463570388033986\n",
      "End of epoch mem: 0.9072265625 MB\n",
      "Epoch: 20, Accuracy: 0.9881, Purity: 0.9319, Efficiency: 0.9860, Loss: 4.4595, LR: 0.001 in time 285.9533669948578\n"
     ]
    }
   ],
   "source": [
    "# torch.backends.cudnn.benchmark = True\n",
    "for epoch in range(21):\n",
    "    tic = tt()  \n",
    "    model.train()\n",
    "    acc, train_loss = train_mixed_gnn(model, gnn_train_loader, optimizer, m_configs)\n",
    "    print(\"Training loss:\", train_loss)\n",
    "\n",
    "    model.eval()\n",
    "    with torch.no_grad():\n",
    "        acc, eff, pur, val_loss = evaluate_mixed_gnn(model, gnn_test_loader, m_configs)\n",
    "    scheduler.step(val_loss)\n",
    "#     wandb.log({\"val_loss\": val_loss, \"train_loss\": train_loss, \"val_acc\": acc, \"val_pur\": pur, \"val_eff\": eff, \"lr\": scheduler._last_lr[0]})\n",
    "\n",
    "#     save_model(epoch, model, optimizer, scheduler, val_loss, m_configs, 'ResAGNN/'+model_name._name+'.tar')\n",
    "    print(\"End of epoch mem:\", torch.cuda.memory_allocated(device=device)/(1024**2), \"MB\")\n",
    "    print('Epoch: {}, Accuracy: {:.4f}, Purity: {:.4f}, Efficiency: {:.4f}, Loss: {:.4f}, LR: {} in time {}'.format(epoch, acc, pur, eff, val_loss, scheduler._last_lr[0], tt()-tic))\n",
    "    \n",
    "    train_loss_vec.append(train_loss)\n",
    "    val_loss_vec.append(val_loss)\n",
    "    val_eff.append(eff)\n",
    "    val_pur.append(pur)"
   ]
  },
  {
   "cell_type": "code",
   "execution_count": 13,
   "metadata": {},
   "outputs": [],
   "source": [
    "np.savez(\"logs/mixed_precision_wide.np\", train_loss_vec, val_loss_vec, val_eff, val_pur)"
   ]
  },
  {
   "cell_type": "code",
   "execution_count": 14,
   "metadata": {},
   "outputs": [
    {
     "data": {
      "text/plain": [
       "[<matplotlib.lines.Line2D at 0x2aab80df20d0>]"
      ]
     },
     "execution_count": 14,
     "metadata": {},
     "output_type": "execute_result"
    },
    {
     "data": {
      "image/png": "[encoded data removed]",
      "text/plain": [
       "<Figure size 432x288 with 1 Axes>"
      ]
     },
     "metadata": {
      "needs_background": "light"
     },
     "output_type": "display_data"
    }
   ],
   "source": [
    "plt.plot(val_eff)\n",
    "plt.plot(val_pur)"
   ]
  },
  {
   "cell_type": "markdown",
   "metadata": {},
   "source": [
    "### Compare Mixed vs. Full Precision Performance"
   ]
  },
  {
   "cell_type": "code",
   "execution_count": 15,
   "metadata": {},
   "outputs": [],
   "source": [
    "full_perf = np.load(\"logs/full_precision.np.npz\")\n",
    "mixed_perf = np.load(\"logs/mixed_precision.np.npz\")\n",
    "mixed_perf_wide = np.load(\"logs/mixed_precision_wide.np.npz\")"
   ]
  },
  {
   "cell_type": "code",
   "execution_count": 16,
   "metadata": {},
   "outputs": [],
   "source": [
    "full_train_loss_vec, full_val_loss_vec, full_val_eff, full_val_pur = full_perf['arr_0'], full_perf['arr_1'], full_perf['arr_2'], full_perf['arr_3']\n",
    "mixed_train_loss_vec, mixed_val_loss_vec, mixed_val_eff, mixed_val_pur = mixed_perf['arr_0'], mixed_perf['arr_1'], mixed_perf['arr_2'], mixed_perf['arr_3']\n",
    "mixed_wide_train_loss_vec, mixed_wide_val_loss_vec, mixed_wide_val_eff, mixed_wide_val_pur = mixed_perf_wide['arr_0'], mixed_perf_wide['arr_1'], mixed_perf_wide['arr_2'], mixed_perf_wide['arr_3']"
   ]
  },
  {
   "cell_type": "code",
   "execution_count": 32,
   "metadata": {},
   "outputs": [
    {
     "data": {
      "text/plain": [
       "<matplotlib.legend.Legend at 0x2aab82fb0cd0>"
      ]
     },
     "execution_count": 32,
     "metadata": {},
     "output_type": "execute_result"
    },
    {
     "data": {
      "image/png": "[encoded data removed]",
      "text/plain": [
       "<Figure size 1440x720 with 1 Axes>"
      ]
     },
     "metadata": {
      "needs_background": "light"
     },
     "output_type": "display_data"
    }
   ],
   "source": [
    "ax = plt.figure(figsize=(20,10))\n",
    "plt.plot(full_val_eff, 'bx-', linewidth=3)\n",
    "plt.plot(mixed_val_eff, 'bx--', linewidth=3)\n",
    "plt.plot(mixed_wide_val_eff, 'bx:', linewidth=3)\n",
    "plt.plot(full_val_pur, 'rx-', linewidth=3)\n",
    "plt.plot(mixed_val_pur, 'rx--', linewidth=3)\n",
    "plt.plot(mixed_wide_val_pur, 'rx:', linewidth=3)\n",
    "ax.legend(['Full precision efficiency', 'Mixed precision efficiency', 'Double-width mixed precision efficiency', 'Full precision purity', 'Mixed precision purity', 'Double-width mixed precision purity'], bbox_to_anchor=(0.7, 0.4), fontsize='xx-large', fancybox=True)"
   ]
  },
  {
   "cell_type": "code",
   "execution_count": 25,
   "metadata": {},
   "outputs": [
    {
     "data": {
      "text/plain": [
       "<matplotlib.legend.Legend at 0x2aab80bc8d90>"
      ]
     },
     "execution_count": 25,
     "metadata": {},
     "output_type": "execute_result"
    },
    {
     "data": {
      "image/png": "[encoded data removed]",
      "text/plain": [
       "<Figure size 1440x720 with 1 Axes>"
      ]
     },
     "metadata": {
      "needs_background": "light"
     },
     "output_type": "display_data"
    }
   ],
   "source": [
    "ax = plt.figure(figsize=(20,10))\n",
    "plt.yscale('log')\n",
    "plt.plot(full_train_loss_vec, 'gx-', linewidth=3)\n",
    "plt.plot(mixed_train_loss_vec, 'gx--', linewidth=3)\n",
    "plt.plot(mixed_wide_train_loss_vec, 'gx:', linewidth=3)\n",
    "ax.legend(['Full precision training loss', 'Mixed precision training loss', 'Double-width mixed precision training loss'], bbox_to_anchor=(0.7, 0.7), fontsize='xx-large', fancybox=True)"
   ]
  },
  {
   "cell_type": "code",
   "execution_count": 28,
   "metadata": {},
   "outputs": [
    {
     "data": {
      "text/plain": [
       "<matplotlib.legend.Legend at 0x2aab8268af10>"
      ]
     },
     "execution_count": 28,
     "metadata": {},
     "output_type": "execute_result"
    },
    {
     "data": {
      "image/png": "[encoded data removed]",
      "text/plain": [
       "<Figure size 1440x720 with 1 Axes>"
      ]
     },
     "metadata": {
      "needs_background": "light"
     },
     "output_type": "display_data"
    }
   ],
   "source": [
    "ax = plt.figure(figsize=(20,10))\n",
    "plt.yscale('log')\n",
    "plt.plot(full_val_loss_vec, 'mx-', linewidth=3)\n",
    "plt.plot(mixed_val_loss_vec, 'mx--', linewidth=3)\n",
    "plt.plot(mixed_wide_val_loss_vec, 'mx:', linewidth=3)\n",
    "ax.legend(['Full precision validation loss', 'Mixed precision validation loss', 'Double-width mixed precision validation loss'], bbox_to_anchor=(0.7, 0.7), fontsize='xx-large', fancybox=True)"
   ]
  },
  {
   "cell_type": "code",
   "execution_count": 38,
   "metadata": {},
   "outputs": [
    {
     "data": {
      "text/plain": [
       "[<matplotlib.lines.Line2D at 0x2aab80983250>]"
      ]
     },
     "execution_count": 38,
     "metadata": {},
     "output_type": "execute_result"
    },
    {
     "data": {
      "image/png": "[encoded data removed]",
      "text/plain": [
       "<Figure size 432x288 with 1 Axes>"
      ]
     },
     "metadata": {
      "needs_background": "light"
     },
     "output_type": "display_data"
    }
   ],
   "source": [
    "plt.plot(full_val_pur)\n",
    "plt.plot(mixed_val_pur)"
   ]
  },
  {
   "cell_type": "markdown",
   "metadata": {},
   "source": [
    "### Memory Report"
   ]
  },
  {
   "cell_type": "code",
   "execution_count": 5,
   "metadata": {},
   "outputs": [
    {
     "name": "stdout",
     "output_type": "stream",
     "text": [
      "|===========================================================================|\n",
      "|                  PyTorch CUDA memory summary, device ID 0                 |\n",
      "|---------------------------------------------------------------------------|\n",
      "|            CUDA OOMs: 0            |        cudaMalloc retries: 0         |\n",
      "|===========================================================================|\n",
      "|        Metric         | Cur Usage  | Peak Usage | Tot Alloc  | Tot Freed  |\n",
      "|---------------------------------------------------------------------------|\n",
      "| Allocated memory      |       0 B  |       0 B  |       0 B  |       0 B  |\n",
      "|---------------------------------------------------------------------------|\n",
      "| Active memory         |       0 B  |       0 B  |       0 B  |       0 B  |\n",
      "|---------------------------------------------------------------------------|\n",
      "| GPU reserved memory   |       0 B  |       0 B  |       0 B  |       0 B  |\n",
      "|---------------------------------------------------------------------------|\n",
      "| Non-releasable memory |       0 B  |       0 B  |       0 B  |       0 B  |\n",
      "|---------------------------------------------------------------------------|\n",
      "| Allocations           |       0    |       0    |       0    |       0    |\n",
      "|---------------------------------------------------------------------------|\n",
      "| Active allocs         |       0    |       0    |       0    |       0    |\n",
      "|---------------------------------------------------------------------------|\n",
      "| GPU reserved segments |       0    |       0    |       0    |       0    |\n",
      "|---------------------------------------------------------------------------|\n",
      "| Non-releasable allocs |       0    |       0    |       0    |       0    |\n",
      "|===========================================================================|\n",
      "\n"
     ]
    }
   ],
   "source": [
    "print(torch.cuda.memory_summary(device=device, abbreviated=True))"
   ]
  },
  {
   "cell_type": "code",
   "execution_count": 4,
   "metadata": {},
   "outputs": [],
   "source": [
    "torch.cuda.reset_max_memory_cached(device=device)"
   ]
  },
  {
   "cell_type": "code",
   "execution_count": 6,
   "metadata": {},
   "outputs": [
    {
     "name": "stdout",
     "output_type": "stream",
     "text": [
      "0.0 MB\n"
     ]
    }
   ],
   "source": [
    "# torch.cuda.empty_cache()\n",
    "print(torch.cuda.memory_allocated(device=device)/(1024**2), \"MB\")"
   ]
  },
  {
   "cell_type": "markdown",
   "metadata": {},
   "source": [
    "### Test Batch Memory"
   ]
  },
  {
   "cell_type": "code",
   "execution_count": 5,
   "metadata": {},
   "outputs": [
    {
     "data": {
      "text/plain": [
       "Data(e=[2, 179362], emb=[22780, 8], layers=[22780], pid=[22780], true_edges=[22302, 2], x=[22780, 3], y=[179362])"
      ]
     },
     "execution_count": 5,
     "metadata": {},
     "output_type": "execute_result"
    }
   ],
   "source": [
    "gnn_train_dataset[0]"
   ]
  },
  {
   "cell_type": "code",
   "execution_count": 27,
   "metadata": {},
   "outputs": [
    {
     "name": "stdout",
     "output_type": "stream",
     "text": [
      "0 samples evaluated\n",
      "CPU times: user 31.3 s, sys: 11.4 s, total: 42.7 s\n",
      "Wall time: 43.7 s\n"
     ]
    }
   ],
   "source": [
    "%%time\n",
    "model.eval()\n",
    "with torch.no_grad():\n",
    "    for i, batch in enumerate(gnn_train_loader):            \n",
    "#             print(batch)\n",
    "            data = batch.to(device)\n",
    "            pred = model(data.x, data.edge_index.int())\n",
    "            if(i%100==0): print(i, \"samples evaluated\")"
   ]
  }
 ],
 "metadata": {
  "kernelspec": {
   "display_name": "ExatrkxTest",
   "language": "python",
   "name": "exatrkx-test"
  },
  "language_info": {
   "codemirror_mode": {
    "name": "ipython",
    "version": 3
   },
   "file_extension": ".py",
   "mimetype": "text/x-python",
   "name": "python",
   "nbconvert_exporter": "python",
   "pygments_lexer": "ipython3",
   "version": "3.7.7"
  }
 },
 "nbformat": 4,
 "nbformat_minor": 4
}
