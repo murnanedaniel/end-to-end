{
 "cells": [
  {
   "cell_type": "markdown",
   "metadata": {},
   "source": [
    "# Track Parameter Regression with Pooling"
   ]
  },
  {
   "cell_type": "markdown",
   "metadata": {},
   "source": [
    "This is a notebook exploring track regression with edge contraction pooling from the paper https://graphreason.github.io/papers/17.pdf"
   ]
  },
  {
   "cell_type": "code",
   "execution_count": 1,
   "metadata": {},
   "outputs": [],
   "source": [
    "%load_ext autoreload\n",
    "%autoreload 2"
   ]
  },
  {
   "cell_type": "code",
   "execution_count": 2,
   "metadata": {},
   "outputs": [],
   "source": [
    "import sys\n",
    "import yaml\n",
    "\n",
    "import numpy as np\n",
    "import torch\n",
    "import torch.nn.functional as F\n",
    "from torch_scatter import scatter_add\n",
    "from torch_sparse import coalesce\n",
    "from torch_geometric.utils import softmax\n",
    "from pytorch_lightning import Trainer\n",
    "\n",
    "sys.path.append(\"../..\")\n",
    "sys.path.append(\"/global/homes/d/danieltm/ExaTrkX/Tracking-ML-Exa.TrkX/src/Pipelines/TrackML_Example/\")\n",
    "device = \"cuda\" if torch.cuda.is_available() else \"cpu\""
   ]
  },
  {
   "cell_type": "code",
   "execution_count": 3,
   "metadata": {},
   "outputs": [],
   "source": [
    "from lightning_modules.utils import make_mlp\n",
    "from torch_scatter import scatter_mean"
   ]
  },
  {
   "cell_type": "markdown",
   "metadata": {},
   "source": [
    "## Roadmap"
   ]
  },
  {
   "cell_type": "markdown",
   "metadata": {},
   "source": [
    "We would like to try to regress at least one track parameter - let's pick pT\n",
    "\n",
    "1. Set up toy graph, from TrackML 1pT cut\n",
    "2. Run it through AGNN training\n",
    "3. Add PyG pooling step\n",
    "4. See what comes out!\n",
    "\n",
    "Then see if the regular AGNN can do track parameter regression\n",
    "\n",
    "5. Adapt base class to include pT regression L1 / L2 loss function\n",
    "6. Try to train on node feature --> pT\n",
    "7. Try to train on edge feature --> pT\n",
    "\n",
    "Then compare pooling behaviour\n",
    "\n",
    "8. Try to train on pooled node feature --> pT"
   ]
  },
  {
   "cell_type": "markdown",
   "metadata": {},
   "source": [
    "### 1. Set up toy graph"
   ]
  },
  {
   "cell_type": "code",
   "execution_count": 21,
   "metadata": {},
   "outputs": [],
   "source": [
    "from lightning_modules.GNN.Models.agnn import ResAGNN"
   ]
  },
  {
   "cell_type": "code",
   "execution_count": 22,
   "metadata": {},
   "outputs": [],
   "source": [
    "with open(\"example_gnn.yaml\") as f:\n",
    "        hparams = yaml.load(f, Loader=yaml.FullLoader)"
   ]
  },
  {
   "cell_type": "code",
   "execution_count": 23,
   "metadata": {},
   "outputs": [
    {
     "name": "stdout",
     "output_type": "stream",
     "text": [
      "CPU times: user 186 ms, sys: 165 ms, total: 352 ms\n",
      "Wall time: 1.68 s\n"
     ]
    }
   ],
   "source": [
    "%%time\n",
    "model = ResAGNN(hparams)\n",
    "model.setup(stage=\"fit\")"
   ]
  },
  {
   "cell_type": "markdown",
   "metadata": {},
   "source": [
    "### 2. Train AGNN"
   ]
  },
  {
   "cell_type": "code",
   "execution_count": 24,
   "metadata": {},
   "outputs": [
    {
     "name": "stderr",
     "output_type": "stream",
     "text": [
      "GPU available: True, used: True\n",
      "INFO:lightning:GPU available: True, used: True\n",
      "TPU available: None, using: 0 TPU cores\n",
      "INFO:lightning:TPU available: None, using: 0 TPU cores\n",
      "Set SLURM handle signals.\n",
      "INFO:lightning:Set SLURM handle signals.\n",
      "\n",
      "  | Name          | Type        | Params\n",
      "----------------------------------------------\n",
      "0 | input_network | Sequential  | 9.0 K \n",
      "1 | edge_network  | EdgeNetwork | 18.6 K\n",
      "2 | node_network  | NodeNetwork | 17.2 K\n",
      "----------------------------------------------\n",
      "44.8 K    Trainable params\n",
      "0         Non-trainable params\n",
      "44.8 K    Total params\n",
      "0.179     Total estimated model params size (MB)\n",
      "INFO:lightning:\n",
      "  | Name          | Type        | Params\n",
      "----------------------------------------------\n",
      "0 | input_network | Sequential  | 9.0 K \n",
      "1 | edge_network  | EdgeNetwork | 18.6 K\n",
      "2 | node_network  | NodeNetwork | 17.2 K\n",
      "----------------------------------------------\n",
      "44.8 K    Trainable params\n",
      "0         Non-trainable params\n",
      "44.8 K    Total params\n",
      "0.179     Total estimated model params size (MB)\n"
     ]
    },
    {
     "data": {
      "application/vnd.jupyter.widget-view+json": {
       "model_id": "",
       "version_major": 2,
       "version_minor": 0
      },
      "text/plain": [
       "HBox(children=(FloatProgress(value=1.0, bar_style='info', description='Validation sanity check', layout=Layout…"
      ]
     },
     "metadata": {},
     "output_type": "display_data"
    },
    {
     "name": "stdout",
     "output_type": "stream",
     "text": [
      "\r"
     ]
    },
    {
     "data": {
      "application/vnd.jupyter.widget-view+json": {
       "model_id": "b38ad6675afc4deda99c7c04ae1c4bd2",
       "version_major": 2,
       "version_minor": 0
      },
      "text/plain": [
       "HBox(children=(FloatProgress(value=1.0, bar_style='info', description='Training', layout=Layout(flex='2'), max…"
      ]
     },
     "metadata": {},
     "output_type": "display_data"
    },
    {
     "data": {
      "application/vnd.jupyter.widget-view+json": {
       "model_id": "",
       "version_major": 2,
       "version_minor": 0
      },
      "text/plain": [
       "HBox(children=(FloatProgress(value=1.0, bar_style='info', description='Validating', layout=Layout(flex='2'), m…"
      ]
     },
     "metadata": {},
     "output_type": "display_data"
    },
    {
     "data": {
      "application/vnd.jupyter.widget-view+json": {
       "model_id": "",
       "version_major": 2,
       "version_minor": 0
      },
      "text/plain": [
       "HBox(children=(FloatProgress(value=1.0, bar_style='info', description='Validating', layout=Layout(flex='2'), m…"
      ]
     },
     "metadata": {},
     "output_type": "display_data"
    },
    {
     "data": {
      "application/vnd.jupyter.widget-view+json": {
       "model_id": "",
       "version_major": 2,
       "version_minor": 0
      },
      "text/plain": [
       "HBox(children=(FloatProgress(value=1.0, bar_style='info', description='Validating', layout=Layout(flex='2'), m…"
      ]
     },
     "metadata": {},
     "output_type": "display_data"
    },
    {
     "data": {
      "application/vnd.jupyter.widget-view+json": {
       "model_id": "",
       "version_major": 2,
       "version_minor": 0
      },
      "text/plain": [
       "HBox(children=(FloatProgress(value=1.0, bar_style='info', description='Validating', layout=Layout(flex='2'), m…"
      ]
     },
     "metadata": {},
     "output_type": "display_data"
    },
    {
     "data": {
      "application/vnd.jupyter.widget-view+json": {
       "model_id": "",
       "version_major": 2,
       "version_minor": 0
      },
      "text/plain": [
       "HBox(children=(FloatProgress(value=1.0, bar_style='info', description='Validating', layout=Layout(flex='2'), m…"
      ]
     },
     "metadata": {},
     "output_type": "display_data"
    },
    {
     "data": {
      "application/vnd.jupyter.widget-view+json": {
       "model_id": "",
       "version_major": 2,
       "version_minor": 0
      },
      "text/plain": [
       "HBox(children=(FloatProgress(value=1.0, bar_style='info', description='Validating', layout=Layout(flex='2'), m…"
      ]
     },
     "metadata": {},
     "output_type": "display_data"
    },
    {
     "data": {
      "application/vnd.jupyter.widget-view+json": {
       "model_id": "",
       "version_major": 2,
       "version_minor": 0
      },
      "text/plain": [
       "HBox(children=(FloatProgress(value=1.0, bar_style='info', description='Validating', layout=Layout(flex='2'), m…"
      ]
     },
     "metadata": {},
     "output_type": "display_data"
    },
    {
     "data": {
      "application/vnd.jupyter.widget-view+json": {
       "model_id": "",
       "version_major": 2,
       "version_minor": 0
      },
      "text/plain": [
       "HBox(children=(FloatProgress(value=1.0, bar_style='info', description='Validating', layout=Layout(flex='2'), m…"
      ]
     },
     "metadata": {},
     "output_type": "display_data"
    },
    {
     "data": {
      "application/vnd.jupyter.widget-view+json": {
       "model_id": "",
       "version_major": 2,
       "version_minor": 0
      },
      "text/plain": [
       "HBox(children=(FloatProgress(value=1.0, bar_style='info', description='Validating', layout=Layout(flex='2'), m…"
      ]
     },
     "metadata": {},
     "output_type": "display_data"
    },
    {
     "data": {
      "application/vnd.jupyter.widget-view+json": {
       "model_id": "",
       "version_major": 2,
       "version_minor": 0
      },
      "text/plain": [
       "HBox(children=(FloatProgress(value=1.0, bar_style='info', description='Validating', layout=Layout(flex='2'), m…"
      ]
     },
     "metadata": {},
     "output_type": "display_data"
    },
    {
     "name": "stdout",
     "output_type": "stream",
     "text": [
      "\n"
     ]
    },
    {
     "data": {
      "text/plain": [
       "1"
      ]
     },
     "execution_count": 24,
     "metadata": {},
     "output_type": "execute_result"
    }
   ],
   "source": [
    "trainer = Trainer(gpus=1, max_epochs=10)\n",
    "trainer.fit(model)"
   ]
  },
  {
   "cell_type": "markdown",
   "metadata": {},
   "source": [
    "### 3. Edge Pooling Step"
   ]
  },
  {
   "cell_type": "code",
   "execution_count": 25,
   "metadata": {},
   "outputs": [],
   "source": [
    "from collections import namedtuple"
   ]
  },
  {
   "cell_type": "code",
   "execution_count": 28,
   "metadata": {
    "code_folding": [
     52
    ],
    "scrolled": true
   },
   "outputs": [],
   "source": [
    "class EdgePooling(torch.nn.Module):\n",
    "\n",
    "    unpool_description = namedtuple(\n",
    "        \"UnpoolDescription\",\n",
    "        [\"edge_index\", \"cluster\", \"batch\", \"new_edge_score\"])\n",
    "\n",
    "    def __init__(self, in_channels, edge_score_method=None, dropout=0,\n",
    "                 add_to_edge_score=0.5):\n",
    "        super(EdgePooling, self).__init__()\n",
    "        self.in_channels = in_channels\n",
    "        if edge_score_method is None:\n",
    "            edge_score_method = self.compute_edge_score_softmax\n",
    "        self.compute_edge_score = edge_score_method\n",
    "        self.add_to_edge_score = add_to_edge_score\n",
    "        self.dropout = dropout\n",
    "\n",
    "        self.lin = torch.nn.Linear(2 * in_channels, 1)\n",
    "\n",
    "        self.reset_parameters()\n",
    "\n",
    "    def reset_parameters(self):\n",
    "        self.lin.reset_parameters()\n",
    "\n",
    "\n",
    "    @staticmethod\n",
    "    def compute_edge_score_softmax(raw_edge_score, edge_index, num_nodes):\n",
    "        return softmax(raw_edge_score, edge_index[1], num_nodes=num_nodes)\n",
    "\n",
    "\n",
    "    @staticmethod\n",
    "    def compute_edge_score_tanh(raw_edge_score, edge_index, num_nodes):\n",
    "        return torch.tanh(raw_edge_score)\n",
    "\n",
    "\n",
    "    @staticmethod\n",
    "    def compute_edge_score_sigmoid(raw_edge_score, edge_index, num_nodes):\n",
    "        return torch.sigmoid(raw_edge_score)\n",
    "\n",
    "\n",
    "    def forward(self, x, edge_index, batch):\n",
    "        e = torch.cat([x[edge_index[0]], x[edge_index[1]]], dim=-1)\n",
    "        e = self.lin(e).view(-1)\n",
    "        e = F.dropout(e, p=self.dropout, training=self.training)\n",
    "        e = self.compute_edge_score(e, edge_index, x.size(0))\n",
    "        e = e + self.add_to_edge_score\n",
    "\n",
    "        x, edge_index, batch, unpool_info = self.__merge_edges__(\n",
    "            x, edge_index, batch, e)\n",
    "\n",
    "        return x, edge_index, batch, unpool_info\n",
    "\n",
    "\n",
    "    def __merge_edges__(self, x, edge_index, batch, edge_score):\n",
    "        nodes_remaining = set(range(x.size(0)))\n",
    "\n",
    "        cluster = torch.empty_like(batch, device=torch.device('cpu'))\n",
    "        edge_argsort = torch.argsort(edge_score, descending=True)\n",
    "\n",
    "        # Iterate through all edges, selecting it if it is not incident to\n",
    "        # another already chosen edge.\n",
    "        i = 0\n",
    "        new_edge_indices = []\n",
    "        edge_index_cpu = edge_index.cpu()\n",
    "        for edge_idx in edge_argsort.tolist():\n",
    "            source = edge_index_cpu[0, edge_idx].item()\n",
    "            if source not in nodes_remaining:\n",
    "                continue\n",
    "\n",
    "            target = edge_index_cpu[1, edge_idx].item()\n",
    "            if target not in nodes_remaining:\n",
    "                continue\n",
    "\n",
    "            new_edge_indices.append(edge_idx)\n",
    "\n",
    "            cluster[source] = i\n",
    "            nodes_remaining.remove(source)\n",
    "\n",
    "            if source != target:\n",
    "                cluster[target] = i\n",
    "                nodes_remaining.remove(target)\n",
    "\n",
    "            i += 1\n",
    "\n",
    "        # The remaining nodes are simply kept.\n",
    "        for node_idx in nodes_remaining:\n",
    "            cluster[node_idx] = i\n",
    "            i += 1\n",
    "        cluster = cluster.to(x.device)\n",
    "\n",
    "        # We compute the new features as an addition of the old ones.\n",
    "        new_x = scatter_add(x, cluster, dim=0, dim_size=i)\n",
    "        new_edge_score = edge_score[new_edge_indices]\n",
    "        if len(nodes_remaining) > 0:\n",
    "            remaining_score = x.new_ones(\n",
    "                (new_x.size(0) - len(new_edge_indices), ))\n",
    "            new_edge_score = torch.cat([new_edge_score, remaining_score])\n",
    "        new_x = new_x * new_edge_score.view(-1, 1)\n",
    "\n",
    "        N = new_x.size(0)\n",
    "        new_edge_index, _ = coalesce(cluster[edge_index], None, N, N)\n",
    "\n",
    "        new_batch = x.new_empty(new_x.size(0), dtype=torch.long)\n",
    "        new_batch = new_batch.scatter_(0, cluster, batch)\n",
    "\n",
    "        unpool_info = self.unpool_description(edge_index=edge_index,\n",
    "                                              cluster=cluster, batch=batch,\n",
    "                                              new_edge_score=new_edge_score)\n",
    "\n",
    "        return new_x, new_edge_index, new_batch, unpool_info\n",
    "\n",
    "    def unpool(self, x, unpool_info):\n",
    "        new_x = x / unpool_info.new_edge_score.view(-1, 1)\n",
    "        new_x = new_x[unpool_info.cluster]\n",
    "        return new_x, unpool_info.edge_index, unpool_info.batch\n",
    "\n",
    "\n",
    "    def __repr__(self):\n",
    "        return '{}({})'.format(self.__class__.__name__, self.in_channels)"
   ]
  },
  {
   "cell_type": "code",
   "execution_count": 32,
   "metadata": {},
   "outputs": [],
   "source": [
    "pool = EdgePooling(3, edge_score_method=EdgePooling.compute_edge_score_sigmoid, dropout=0,\n",
    "                 add_to_edge_score=0.)"
   ]
  },
  {
   "cell_type": "markdown",
   "metadata": {},
   "source": [
    "### 4. Test pool step"
   ]
  },
  {
   "cell_type": "code",
   "execution_count": 34,
   "metadata": {},
   "outputs": [],
   "source": [
    "test_data = model.trainset[0]"
   ]
  },
  {
   "cell_type": "code",
   "execution_count": 35,
   "metadata": {},
   "outputs": [
    {
     "data": {
      "text/plain": [
       "Data(cell_data=[8766, 9], edge_index=[2, 49050], event_file=\"/global/cscratch1/sd/danieltm/ExaTrkX/trackml-codalab/train_all/event000021394\", hid=[8766], layerless_true_edges=[2, 10529], layers=[8766], pid=[8766], pt=[8766], true_weights=[10529], weights=[10529], x=[8766, 3], y=[49050])"
      ]
     },
     "execution_count": 35,
     "metadata": {},
     "output_type": "execute_result"
    }
   ],
   "source": [
    "test_data"
   ]
  },
  {
   "cell_type": "code",
   "execution_count": 47,
   "metadata": {},
   "outputs": [],
   "source": [
    "pooled_test = pool(test_data.x, test_data.edge_index, torch.zeros(len(test_data.x)).long())"
   ]
  },
  {
   "cell_type": "code",
   "execution_count": 49,
   "metadata": {},
   "outputs": [],
   "source": [
    "pooled_x, pooled_edge_index, _, unpool_info = pooled_test"
   ]
  },
  {
   "cell_type": "markdown",
   "metadata": {},
   "source": [
    "Compare nodes"
   ]
  },
  {
   "cell_type": "code",
   "execution_count": 53,
   "metadata": {},
   "outputs": [
    {
     "data": {
      "text/plain": [
       "torch.Size([8766, 3])"
      ]
     },
     "execution_count": 53,
     "metadata": {},
     "output_type": "execute_result"
    }
   ],
   "source": [
    "test_data.x.shape"
   ]
  },
  {
   "cell_type": "code",
   "execution_count": 54,
   "metadata": {},
   "outputs": [
    {
     "data": {
      "text/plain": [
       "torch.Size([4505, 3])"
      ]
     },
     "execution_count": 54,
     "metadata": {},
     "output_type": "execute_result"
    }
   ],
   "source": [
    "pooled_x.shape"
   ]
  },
  {
   "cell_type": "code",
   "execution_count": 55,
   "metadata": {},
   "outputs": [
    {
     "data": {
      "text/plain": [
       "torch.Size([2, 49050])"
      ]
     },
     "execution_count": 55,
     "metadata": {},
     "output_type": "execute_result"
    }
   ],
   "source": [
    "test_data.edge_index.shape"
   ]
  },
  {
   "cell_type": "code",
   "execution_count": 56,
   "metadata": {},
   "outputs": [
    {
     "data": {
      "text/plain": [
       "torch.Size([2, 32291])"
      ]
     },
     "execution_count": 56,
     "metadata": {},
     "output_type": "execute_result"
    }
   ],
   "source": [
    "pooled_edge_index.shape"
   ]
  },
  {
   "cell_type": "code",
   "execution_count": null,
   "metadata": {},
   "outputs": [],
   "source": []
  }
 ],
 "metadata": {
  "kernelspec": {
   "display_name": "ExatrkxTest",
   "language": "python",
   "name": "exatrkx-test"
  },
  "language_info": {
   "codemirror_mode": {
    "name": "ipython",
    "version": 3
   },
   "file_extension": ".py",
   "mimetype": "text/x-python",
   "name": "python",
   "nbconvert_exporter": "python",
   "pygments_lexer": "ipython3",
   "version": "3.7.7"
  }
 },
 "nbformat": 4,
 "nbformat_minor": 4
}
