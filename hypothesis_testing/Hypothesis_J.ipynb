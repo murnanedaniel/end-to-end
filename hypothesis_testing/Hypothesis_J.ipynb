{
 "cells": [
  {
   "cell_type": "markdown",
   "metadata": {},
   "source": [
    "# Testing of Hypothesis J"
   ]
  },
  {
   "cell_type": "markdown",
   "metadata": {},
   "source": [
    "This is the hypothesis that a message passing benefits both global and local embedding quality (albeit not straightforwardly)"
   ]
  },
  {
   "cell_type": "code",
   "execution_count": 1,
   "metadata": {},
   "outputs": [],
   "source": [
    "%load_ext autoreload\n",
    "%autoreload 2"
   ]
  },
  {
   "cell_type": "code",
   "execution_count": 3,
   "metadata": {
    "code_folding": []
   },
   "outputs": [],
   "source": [
    "# System imports\n",
    "import os\n",
    "import sys\n",
    "from pprint import pprint as pp\n",
    "from time import time as tt\n",
    "import inspect\n",
    "import logging\n",
    "import copy\n",
    "\n",
    "# External imports\n",
    "import matplotlib.pyplot as plt\n",
    "import matplotlib.colors\n",
    "from sklearn.decomposition import PCA\n",
    "from sklearn.metrics import auc, f1_score \n",
    "import numpy as np\n",
    "import pandas as pd\n",
    "import seaborn as sns\n",
    "import torch\n",
    "from torch_geometric.data import Data\n",
    "from torch_geometric.data import DataLoader\n",
    "from mpl_toolkits.mplot3d import Axes3D\n",
    "from itertools import permutations, combinations\n",
    "from itertools import chain\n",
    "\n",
    "from torch.nn import Linear\n",
    "from torch_scatter import scatter, segment_csr, scatter_add\n",
    "from torch_geometric.nn.conv import MessagePassing\n",
    "from torch_cluster import knn_graph, radius_graph\n",
    "from trackml.dataset import load_event\n",
    "from trackml.score import _analyze_tracks, score_event\n",
    "\n",
    "import yaml\n",
    "\n",
    "import pytorch_lightning as pl\n",
    "from pytorch_lightning import LightningModule, Trainer\n",
    "from pytorch_lightning.loggers import WandbLogger\n",
    "from torch.utils.checkpoint import checkpoint\n",
    "\n",
    "# Limit CPU usage on Jupyter\n",
    "os.environ['OMP_NUM_THREADS'] = '4'\n",
    "\n",
    "# Pick up local packages\n",
    "sys.path.append('..')\n",
    "\n",
    "# Local imports\n",
    "from lightning_modules.utils import evaluate_set_metrics, get_metrics, build_edges, graph_intersection\n",
    "from lightning_modules.Filter.utils import edge_model_evaluation\n",
    "from pytorch_lightning.loggers import WandbLogger\n",
    "%matplotlib inline\n",
    "\n",
    "# Get rid of RuntimeWarnings, gross\n",
    "import warnings\n",
    "warnings.filterwarnings(\"ignore\", category=RuntimeWarning)"
   ]
  },
  {
   "cell_type": "code",
   "execution_count": 4,
   "metadata": {},
   "outputs": [],
   "source": [
    "logging.basicConfig(level=logging.INFO)"
   ]
  },
  {
   "cell_type": "code",
   "execution_count": 63,
   "metadata": {},
   "outputs": [],
   "source": [
    "logging.basicConfig(level=logging.WARNING)"
   ]
  },
  {
   "cell_type": "markdown",
   "metadata": {},
   "source": [
    "# Train Connected Jet Model"
   ]
  },
  {
   "cell_type": "markdown",
   "metadata": {},
   "source": [
    "## GNN Models"
   ]
  },
  {
   "cell_type": "code",
   "execution_count": 5,
   "metadata": {},
   "outputs": [],
   "source": [
    "from lightning_modules.GNNEmbedding.Models.agnn import LocalAttentionNodeEmbedding"
   ]
  },
  {
   "cell_type": "markdown",
   "metadata": {
    "heading_collapsed": true
   },
   "source": [
    "### Preload Model"
   ]
  },
  {
   "cell_type": "code",
   "execution_count": 5,
   "metadata": {
    "hidden": true
   },
   "outputs": [],
   "source": [
    "ckpnt_path = \"End2End-JetNodeEmbedding/jl96feyq/checkpoints/epoch=93.ckpt\"\n",
    "ckpnt = torch.load(ckpnt_path)"
   ]
  },
  {
   "cell_type": "code",
   "execution_count": 6,
   "metadata": {
    "hidden": true
   },
   "outputs": [],
   "source": [
    "model = LocalAttentionNodeEmbedding(ckpnt[\"hyper_parameters\"])"
   ]
  },
  {
   "cell_type": "code",
   "execution_count": 7,
   "metadata": {
    "hidden": true
   },
   "outputs": [
    {
     "data": {
      "text/plain": [
       "<All keys matched successfully>"
      ]
     },
     "execution_count": 7,
     "metadata": {},
     "output_type": "execute_result"
    }
   ],
   "source": [
    "model.load_state_dict(ckpnt[\"state_dict\"])"
   ]
  },
  {
   "cell_type": "code",
   "execution_count": 8,
   "metadata": {
    "hidden": true
   },
   "outputs": [
    {
     "name": "stderr",
     "output_type": "stream",
     "text": [
      "GPU available: True, used: True\n",
      "INFO:lightning:GPU available: True, used: True\n",
      "TPU available: False, using: 0 TPU cores\n",
      "INFO:lightning:TPU available: False, using: 0 TPU cores\n",
      "LOCAL_RANK: 0 - CUDA_VISIBLE_DEVICES: [0]\n",
      "INFO:lightning:LOCAL_RANK: 0 - CUDA_VISIBLE_DEVICES: [0]\n"
     ]
    }
   ],
   "source": [
    "trainer = Trainer(gpus=1, max_epochs=ckpnt[\"epoch\"], num_sanity_val_steps=0, accumulate_grad_batches=1, resume_from_checkpoint=ckpnt_path)"
   ]
  },
  {
   "cell_type": "code",
   "execution_count": 140,
   "metadata": {
    "hidden": true
   },
   "outputs": [],
   "source": [
    "model.setup(stage=\"fit\")"
   ]
  },
  {
   "cell_type": "code",
   "execution_count": 9,
   "metadata": {
    "hidden": true,
    "scrolled": true
   },
   "outputs": [
    {
     "name": "stderr",
     "output_type": "stream",
     "text": [
      "/global/homes/d/danieltm/.conda/envs/exatrkx-test/lib/python3.7/site-packages/pytorch_lightning/core/saving.py:383: UserWarning: Skipping 'model_type' parameter because it is not possible to safely dump to YAML.\n",
      "  warn(f\"Skipping '{k}' parameter because it is not possible to safely dump to YAML.\")\n",
      "Set SLURM handle signals.\n",
      "INFO:lightning:Set SLURM handle signals.\n",
      "\n",
      "  | Name              | Type           | Params\n",
      "-----------------------------------------------------\n",
      "0 | input_network     | Sequential     | 8 K   \n",
      "1 | edge_network      | EdgeNetwork    | 18 K  \n",
      "2 | node_network      | NodeNetwork    | 16 K  \n",
      "3 | embedding_network | Sequential     | 13 K  \n",
      "4 | multi_loss        | MultiNoiseLoss | 0     \n",
      "INFO:lightning:\n",
      "  | Name              | Type           | Params\n",
      "-----------------------------------------------------\n",
      "0 | input_network     | Sequential     | 8 K   \n",
      "1 | edge_network      | EdgeNetwork    | 18 K  \n",
      "2 | node_network      | NodeNetwork    | 16 K  \n",
      "3 | embedding_network | Sequential     | 13 K  \n",
      "4 | multi_loss        | MultiNoiseLoss | 0     \n",
      "/global/homes/d/danieltm/.conda/envs/exatrkx-test/lib/python3.7/site-packages/pytorch_lightning/utilities/distributed.py:45: UserWarning: The dataloader, train dataloader, does not have many workers which may be a bottleneck. Consider increasing the value of the `num_workers` argument` (try 80 which is the number of cpus on this machine) in the `DataLoader` init to improve performance.\n",
      "  warnings.warn(*args, **kwargs)\n",
      "/global/homes/d/danieltm/.conda/envs/exatrkx-test/lib/python3.7/site-packages/pytorch_lightning/utilities/distributed.py:45: UserWarning: The dataloader, val dataloader 0, does not have many workers which may be a bottleneck. Consider increasing the value of the `num_workers` argument` (try 80 which is the number of cpus on this machine) in the `DataLoader` init to improve performance.\n",
      "  warnings.warn(*args, **kwargs)\n"
     ]
    },
    {
     "data": {
      "application/vnd.jupyter.widget-view+json": {
       "model_id": "edc00434713f441e976b5757047021f6",
       "version_major": 2,
       "version_minor": 0
      },
      "text/plain": [
       "HBox(children=(FloatProgress(value=1.0, bar_style='info', description='Training', layout=Layout(flex='2'), max…"
      ]
     },
     "metadata": {},
     "output_type": "display_data"
    },
    {
     "name": "stdout",
     "output_type": "stream",
     "text": [
      "\n"
     ]
    },
    {
     "data": {
      "text/plain": [
       "1"
      ]
     },
     "execution_count": 9,
     "metadata": {},
     "output_type": "execute_result"
    }
   ],
   "source": [
    "trainer.fit(model)"
   ]
  },
  {
   "cell_type": "markdown",
   "metadata": {},
   "source": [
    "### Train Model"
   ]
  },
  {
   "cell_type": "code",
   "execution_count": 6,
   "metadata": {},
   "outputs": [],
   "source": [
    "with open(\"../lightning_modules/GNNEmbedding/train_jet_gnn.yaml\") as f:\n",
    "        hparams = yaml.load(f, Loader=yaml.FullLoader)"
   ]
  },
  {
   "cell_type": "code",
   "execution_count": 7,
   "metadata": {
    "scrolled": true
   },
   "outputs": [
    {
     "name": "stderr",
     "output_type": "stream",
     "text": [
      "\u001b[34m\u001b[1mwandb\u001b[0m: Currently logged in as: \u001b[33mmurnanedaniel\u001b[0m (use `wandb login --relogin` to force relogin)\n",
      "\u001b[34m\u001b[1mwandb\u001b[0m: wandb version 0.10.30 is available!  To upgrade, please run:\n",
      "\u001b[34m\u001b[1mwandb\u001b[0m:  $ pip install wandb --upgrade\n"
     ]
    },
    {
     "data": {
      "text/html": [
       "\n",
       "                Tracking run with wandb version 0.10.9<br/>\n",
       "                Syncing run <strong style=\"color:#cdcd00\">peachy-sunset-50</strong> to <a href=\"https://wandb.ai\" target=\"_blank\">Weights & Biases</a> <a href=\"https://docs.wandb.com/integrations/jupyter.html\" target=\"_blank\">(Documentation)</a>.<br/>\n",
       "                Project page: <a href=\"https://wandb.ai/murnanedaniel/End2End-ConnectedJetNodeEmbedding\" target=\"_blank\">https://wandb.ai/murnanedaniel/End2End-ConnectedJetNodeEmbedding</a><br/>\n",
       "                Run page: <a href=\"https://wandb.ai/murnanedaniel/End2End-ConnectedJetNodeEmbedding/runs/p6x7zapp\" target=\"_blank\">https://wandb.ai/murnanedaniel/End2End-ConnectedJetNodeEmbedding/runs/p6x7zapp</a><br/>\n",
       "                Run data is saved locally in <code>wandb/run-20210525_171217-p6x7zapp</code><br/><br/>\n",
       "            "
      ],
      "text/plain": [
       "<IPython.core.display.HTML object>"
      ]
     },
     "metadata": {},
     "output_type": "display_data"
    },
    {
     "name": "stderr",
     "output_type": "stream",
     "text": [
      "GPU available: True, used: True\n",
      "INFO:lightning:GPU available: True, used: True\n",
      "TPU available: None, using: 0 TPU cores\n",
      "INFO:lightning:TPU available: None, using: 0 TPU cores\n"
     ]
    }
   ],
   "source": [
    "model = LocalAttentionNodeEmbedding(hparams)\n",
    "wandb_logger = WandbLogger(project='End2End-ConnectedJetNodeEmbedding')\n",
    "wandb_logger.watch(model)\n",
    "wandb_logger.log_hyperparams({\"model\": type(model)})\n",
    "trainer = Trainer(gpus=1, max_epochs=hparams[\"max_epochs\"], logger=wandb_logger, num_sanity_val_steps=0, accumulate_grad_batches=1)"
   ]
  },
  {
   "cell_type": "markdown",
   "metadata": {},
   "source": [
    "### Training"
   ]
  },
  {
   "cell_type": "code",
   "execution_count": 8,
   "metadata": {
    "scrolled": true
   },
   "outputs": [
    {
     "name": "stderr",
     "output_type": "stream",
     "text": [
      "Set SLURM handle signals.\n",
      "INFO:lightning:Set SLURM handle signals.\n",
      "\n",
      "  | Name              | Type           | Params\n",
      "-----------------------------------------------------\n",
      "0 | input_network     | Sequential     | 9.0 K \n",
      "1 | edge_network      | EdgeNetwork    | 18.2 K\n",
      "2 | node_network      | NodeNetwork    | 16.8 K\n",
      "3 | embedding_network | Sequential     | 13.0 K\n",
      "4 | multi_loss        | MultiNoiseLoss | 0     \n",
      "-----------------------------------------------------\n",
      "57.0 K    Trainable params\n",
      "0         Non-trainable params\n",
      "57.0 K    Total params\n",
      "0.228     Total estimated model params size (MB)\n",
      "INFO:lightning:\n",
      "  | Name              | Type           | Params\n",
      "-----------------------------------------------------\n",
      "0 | input_network     | Sequential     | 9.0 K \n",
      "1 | edge_network      | EdgeNetwork    | 18.2 K\n",
      "2 | node_network      | NodeNetwork    | 16.8 K\n",
      "3 | embedding_network | Sequential     | 13.0 K\n",
      "4 | multi_loss        | MultiNoiseLoss | 0     \n",
      "-----------------------------------------------------\n",
      "57.0 K    Trainable params\n",
      "0         Non-trainable params\n",
      "57.0 K    Total params\n",
      "0.228     Total estimated model params size (MB)\n",
      "/global/homes/d/danieltm/.conda/envs/exatrkx-test/lib/python3.7/site-packages/pytorch_lightning/utilities/distributed.py:50: UserWarning: The dataloader, train dataloader, does not have many workers which may be a bottleneck. Consider increasing the value of the `num_workers` argument` (try 80 which is the number of cpus on this machine) in the `DataLoader` init to improve performance.\n",
      "  warnings.warn(*args, **kwargs)\n",
      "/global/homes/d/danieltm/.conda/envs/exatrkx-test/lib/python3.7/site-packages/pytorch_lightning/utilities/distributed.py:50: UserWarning: The dataloader, val dataloader 0, does not have many workers which may be a bottleneck. Consider increasing the value of the `num_workers` argument` (try 80 which is the number of cpus on this machine) in the `DataLoader` init to improve performance.\n",
      "  warnings.warn(*args, **kwargs)\n"
     ]
    },
    {
     "data": {
      "application/vnd.jupyter.widget-view+json": {
       "model_id": "53e824ab7dae40f9897ce5ec8d55ecce",
       "version_major": 2,
       "version_minor": 0
      },
      "text/plain": [
       "HBox(children=(FloatProgress(value=1.0, bar_style='info', description='Training', layout=Layout(flex='2'), max…"
      ]
     },
     "metadata": {},
     "output_type": "display_data"
    },
    {
     "data": {
      "application/vnd.jupyter.widget-view+json": {
       "model_id": "",
       "version_major": 2,
       "version_minor": 0
      },
      "text/plain": [
       "HBox(children=(FloatProgress(value=1.0, bar_style='info', description='Validating', layout=Layout(flex='2'), m…"
      ]
     },
     "metadata": {},
     "output_type": "display_data"
    },
    {
     "data": {
      "application/vnd.jupyter.widget-view+json": {
       "model_id": "",
       "version_major": 2,
       "version_minor": 0
      },
      "text/plain": [
       "HBox(children=(FloatProgress(value=1.0, bar_style='info', description='Validating', layout=Layout(flex='2'), m…"
      ]
     },
     "metadata": {},
     "output_type": "display_data"
    },
    {
     "data": {
      "application/vnd.jupyter.widget-view+json": {
       "model_id": "",
       "version_major": 2,
       "version_minor": 0
      },
      "text/plain": [
       "HBox(children=(FloatProgress(value=1.0, bar_style='info', description='Validating', layout=Layout(flex='2'), m…"
      ]
     },
     "metadata": {},
     "output_type": "display_data"
    },
    {
     "data": {
      "application/vnd.jupyter.widget-view+json": {
       "model_id": "",
       "version_major": 2,
       "version_minor": 0
      },
      "text/plain": [
       "HBox(children=(FloatProgress(value=1.0, bar_style='info', description='Validating', layout=Layout(flex='2'), m…"
      ]
     },
     "metadata": {},
     "output_type": "display_data"
    },
    {
     "data": {
      "application/vnd.jupyter.widget-view+json": {
       "model_id": "",
       "version_major": 2,
       "version_minor": 0
      },
      "text/plain": [
       "HBox(children=(FloatProgress(value=1.0, bar_style='info', description='Validating', layout=Layout(flex='2'), m…"
      ]
     },
     "metadata": {},
     "output_type": "display_data"
    },
    {
     "data": {
      "application/vnd.jupyter.widget-view+json": {
       "model_id": "",
       "version_major": 2,
       "version_minor": 0
      },
      "text/plain": [
       "HBox(children=(FloatProgress(value=1.0, bar_style='info', description='Validating', layout=Layout(flex='2'), m…"
      ]
     },
     "metadata": {},
     "output_type": "display_data"
    },
    {
     "data": {
      "application/vnd.jupyter.widget-view+json": {
       "model_id": "",
       "version_major": 2,
       "version_minor": 0
      },
      "text/plain": [
       "HBox(children=(FloatProgress(value=1.0, bar_style='info', description='Validating', layout=Layout(flex='2'), m…"
      ]
     },
     "metadata": {},
     "output_type": "display_data"
    },
    {
     "data": {
      "application/vnd.jupyter.widget-view+json": {
       "model_id": "",
       "version_major": 2,
       "version_minor": 0
      },
      "text/plain": [
       "HBox(children=(FloatProgress(value=1.0, bar_style='info', description='Validating', layout=Layout(flex='2'), m…"
      ]
     },
     "metadata": {},
     "output_type": "display_data"
    },
    {
     "data": {
      "application/vnd.jupyter.widget-view+json": {
       "model_id": "",
       "version_major": 2,
       "version_minor": 0
      },
      "text/plain": [
       "HBox(children=(FloatProgress(value=1.0, bar_style='info', description='Validating', layout=Layout(flex='2'), m…"
      ]
     },
     "metadata": {},
     "output_type": "display_data"
    },
    {
     "data": {
      "application/vnd.jupyter.widget-view+json": {
       "model_id": "",
       "version_major": 2,
       "version_minor": 0
      },
      "text/plain": [
       "HBox(children=(FloatProgress(value=1.0, bar_style='info', description='Validating', layout=Layout(flex='2'), m…"
      ]
     },
     "metadata": {},
     "output_type": "display_data"
    },
    {
     "data": {
      "application/vnd.jupyter.widget-view+json": {
       "model_id": "",
       "version_major": 2,
       "version_minor": 0
      },
      "text/plain": [
       "HBox(children=(FloatProgress(value=1.0, bar_style='info', description='Validating', layout=Layout(flex='2'), m…"
      ]
     },
     "metadata": {},
     "output_type": "display_data"
    },
    {
     "data": {
      "application/vnd.jupyter.widget-view+json": {
       "model_id": "",
       "version_major": 2,
       "version_minor": 0
      },
      "text/plain": [
       "HBox(children=(FloatProgress(value=1.0, bar_style='info', description='Validating', layout=Layout(flex='2'), m…"
      ]
     },
     "metadata": {},
     "output_type": "display_data"
    },
    {
     "data": {
      "application/vnd.jupyter.widget-view+json": {
       "model_id": "",
       "version_major": 2,
       "version_minor": 0
      },
      "text/plain": [
       "HBox(children=(FloatProgress(value=1.0, bar_style='info', description='Validating', layout=Layout(flex='2'), m…"
      ]
     },
     "metadata": {},
     "output_type": "display_data"
    },
    {
     "data": {
      "application/vnd.jupyter.widget-view+json": {
       "model_id": "",
       "version_major": 2,
       "version_minor": 0
      },
      "text/plain": [
       "HBox(children=(FloatProgress(value=1.0, bar_style='info', description='Validating', layout=Layout(flex='2'), m…"
      ]
     },
     "metadata": {},
     "output_type": "display_data"
    },
    {
     "data": {
      "application/vnd.jupyter.widget-view+json": {
       "model_id": "",
       "version_major": 2,
       "version_minor": 0
      },
      "text/plain": [
       "HBox(children=(FloatProgress(value=1.0, bar_style='info', description='Validating', layout=Layout(flex='2'), m…"
      ]
     },
     "metadata": {},
     "output_type": "display_data"
    },
    {
     "data": {
      "application/vnd.jupyter.widget-view+json": {
       "model_id": "",
       "version_major": 2,
       "version_minor": 0
      },
      "text/plain": [
       "HBox(children=(FloatProgress(value=1.0, bar_style='info', description='Validating', layout=Layout(flex='2'), m…"
      ]
     },
     "metadata": {},
     "output_type": "display_data"
    },
    {
     "data": {
      "application/vnd.jupyter.widget-view+json": {
       "model_id": "",
       "version_major": 2,
       "version_minor": 0
      },
      "text/plain": [
       "HBox(children=(FloatProgress(value=1.0, bar_style='info', description='Validating', layout=Layout(flex='2'), m…"
      ]
     },
     "metadata": {},
     "output_type": "display_data"
    },
    {
     "data": {
      "application/vnd.jupyter.widget-view+json": {
       "model_id": "",
       "version_major": 2,
       "version_minor": 0
      },
      "text/plain": [
       "HBox(children=(FloatProgress(value=1.0, bar_style='info', description='Validating', layout=Layout(flex='2'), m…"
      ]
     },
     "metadata": {},
     "output_type": "display_data"
    },
    {
     "data": {
      "application/vnd.jupyter.widget-view+json": {
       "model_id": "",
       "version_major": 2,
       "version_minor": 0
      },
      "text/plain": [
       "HBox(children=(FloatProgress(value=1.0, bar_style='info', description='Validating', layout=Layout(flex='2'), m…"
      ]
     },
     "metadata": {},
     "output_type": "display_data"
    },
    {
     "data": {
      "application/vnd.jupyter.widget-view+json": {
       "model_id": "",
       "version_major": 2,
       "version_minor": 0
      },
      "text/plain": [
       "HBox(children=(FloatProgress(value=1.0, bar_style='info', description='Validating', layout=Layout(flex='2'), m…"
      ]
     },
     "metadata": {},
     "output_type": "display_data"
    },
    {
     "data": {
      "application/vnd.jupyter.widget-view+json": {
       "model_id": "",
       "version_major": 2,
       "version_minor": 0
      },
      "text/plain": [
       "HBox(children=(FloatProgress(value=1.0, bar_style='info', description='Validating', layout=Layout(flex='2'), m…"
      ]
     },
     "metadata": {},
     "output_type": "display_data"
    },
    {
     "data": {
      "application/vnd.jupyter.widget-view+json": {
       "model_id": "",
       "version_major": 2,
       "version_minor": 0
      },
      "text/plain": [
       "HBox(children=(FloatProgress(value=1.0, bar_style='info', description='Validating', layout=Layout(flex='2'), m…"
      ]
     },
     "metadata": {},
     "output_type": "display_data"
    },
    {
     "data": {
      "application/vnd.jupyter.widget-view+json": {
       "model_id": "",
       "version_major": 2,
       "version_minor": 0
      },
      "text/plain": [
       "HBox(children=(FloatProgress(value=1.0, bar_style='info', description='Validating', layout=Layout(flex='2'), m…"
      ]
     },
     "metadata": {},
     "output_type": "display_data"
    },
    {
     "data": {
      "application/vnd.jupyter.widget-view+json": {
       "model_id": "",
       "version_major": 2,
       "version_minor": 0
      },
      "text/plain": [
       "HBox(children=(FloatProgress(value=1.0, bar_style='info', description='Validating', layout=Layout(flex='2'), m…"
      ]
     },
     "metadata": {},
     "output_type": "display_data"
    },
    {
     "data": {
      "application/vnd.jupyter.widget-view+json": {
       "model_id": "",
       "version_major": 2,
       "version_minor": 0
      },
      "text/plain": [
       "HBox(children=(FloatProgress(value=1.0, bar_style='info', description='Validating', layout=Layout(flex='2'), m…"
      ]
     },
     "metadata": {},
     "output_type": "display_data"
    },
    {
     "data": {
      "application/vnd.jupyter.widget-view+json": {
       "model_id": "",
       "version_major": 2,
       "version_minor": 0
      },
      "text/plain": [
       "HBox(children=(FloatProgress(value=1.0, bar_style='info', description='Validating', layout=Layout(flex='2'), m…"
      ]
     },
     "metadata": {},
     "output_type": "display_data"
    },
    {
     "data": {
      "application/vnd.jupyter.widget-view+json": {
       "model_id": "",
       "version_major": 2,
       "version_minor": 0
      },
      "text/plain": [
       "HBox(children=(FloatProgress(value=1.0, bar_style='info', description='Validating', layout=Layout(flex='2'), m…"
      ]
     },
     "metadata": {},
     "output_type": "display_data"
    },
    {
     "data": {
      "application/vnd.jupyter.widget-view+json": {
       "model_id": "",
       "version_major": 2,
       "version_minor": 0
      },
      "text/plain": [
       "HBox(children=(FloatProgress(value=1.0, bar_style='info', description='Validating', layout=Layout(flex='2'), m…"
      ]
     },
     "metadata": {},
     "output_type": "display_data"
    },
    {
     "data": {
      "application/vnd.jupyter.widget-view+json": {
       "model_id": "",
       "version_major": 2,
       "version_minor": 0
      },
      "text/plain": [
       "HBox(children=(FloatProgress(value=1.0, bar_style='info', description='Validating', layout=Layout(flex='2'), m…"
      ]
     },
     "metadata": {},
     "output_type": "display_data"
    },
    {
     "data": {
      "application/vnd.jupyter.widget-view+json": {
       "model_id": "",
       "version_major": 2,
       "version_minor": 0
      },
      "text/plain": [
       "HBox(children=(FloatProgress(value=1.0, bar_style='info', description='Validating', layout=Layout(flex='2'), m…"
      ]
     },
     "metadata": {},
     "output_type": "display_data"
    },
    {
     "data": {
      "application/vnd.jupyter.widget-view+json": {
       "model_id": "",
       "version_major": 2,
       "version_minor": 0
      },
      "text/plain": [
       "HBox(children=(FloatProgress(value=1.0, bar_style='info', description='Validating', layout=Layout(flex='2'), m…"
      ]
     },
     "metadata": {},
     "output_type": "display_data"
    },
    {
     "data": {
      "application/vnd.jupyter.widget-view+json": {
       "model_id": "",
       "version_major": 2,
       "version_minor": 0
      },
      "text/plain": [
       "HBox(children=(FloatProgress(value=1.0, bar_style='info', description='Validating', layout=Layout(flex='2'), m…"
      ]
     },
     "metadata": {},
     "output_type": "display_data"
    },
    {
     "data": {
      "application/vnd.jupyter.widget-view+json": {
       "model_id": "",
       "version_major": 2,
       "version_minor": 0
      },
      "text/plain": [
       "HBox(children=(FloatProgress(value=1.0, bar_style='info', description='Validating', layout=Layout(flex='2'), m…"
      ]
     },
     "metadata": {},
     "output_type": "display_data"
    },
    {
     "data": {
      "application/vnd.jupyter.widget-view+json": {
       "model_id": "",
       "version_major": 2,
       "version_minor": 0
      },
      "text/plain": [
       "HBox(children=(FloatProgress(value=1.0, bar_style='info', description='Validating', layout=Layout(flex='2'), m…"
      ]
     },
     "metadata": {},
     "output_type": "display_data"
    },
    {
     "data": {
      "application/vnd.jupyter.widget-view+json": {
       "model_id": "",
       "version_major": 2,
       "version_minor": 0
      },
      "text/plain": [
       "HBox(children=(FloatProgress(value=1.0, bar_style='info', description='Validating', layout=Layout(flex='2'), m…"
      ]
     },
     "metadata": {},
     "output_type": "display_data"
    },
    {
     "data": {
      "application/vnd.jupyter.widget-view+json": {
       "model_id": "",
       "version_major": 2,
       "version_minor": 0
      },
      "text/plain": [
       "HBox(children=(FloatProgress(value=1.0, bar_style='info', description='Validating', layout=Layout(flex='2'), m…"
      ]
     },
     "metadata": {},
     "output_type": "display_data"
    },
    {
     "data": {
      "application/vnd.jupyter.widget-view+json": {
       "model_id": "",
       "version_major": 2,
       "version_minor": 0
      },
      "text/plain": [
       "HBox(children=(FloatProgress(value=1.0, bar_style='info', description='Validating', layout=Layout(flex='2'), m…"
      ]
     },
     "metadata": {},
     "output_type": "display_data"
    },
    {
     "data": {
      "application/vnd.jupyter.widget-view+json": {
       "model_id": "",
       "version_major": 2,
       "version_minor": 0
      },
      "text/plain": [
       "HBox(children=(FloatProgress(value=1.0, bar_style='info', description='Validating', layout=Layout(flex='2'), m…"
      ]
     },
     "metadata": {},
     "output_type": "display_data"
    },
    {
     "data": {
      "application/vnd.jupyter.widget-view+json": {
       "model_id": "",
       "version_major": 2,
       "version_minor": 0
      },
      "text/plain": [
       "HBox(children=(FloatProgress(value=1.0, bar_style='info', description='Validating', layout=Layout(flex='2'), m…"
      ]
     },
     "metadata": {},
     "output_type": "display_data"
    },
    {
     "data": {
      "application/vnd.jupyter.widget-view+json": {
       "model_id": "",
       "version_major": 2,
       "version_minor": 0
      },
      "text/plain": [
       "HBox(children=(FloatProgress(value=1.0, bar_style='info', description='Validating', layout=Layout(flex='2'), m…"
      ]
     },
     "metadata": {},
     "output_type": "display_data"
    },
    {
     "data": {
      "application/vnd.jupyter.widget-view+json": {
       "model_id": "",
       "version_major": 2,
       "version_minor": 0
      },
      "text/plain": [
       "HBox(children=(FloatProgress(value=1.0, bar_style='info', description='Validating', layout=Layout(flex='2'), m…"
      ]
     },
     "metadata": {},
     "output_type": "display_data"
    },
    {
     "data": {
      "application/vnd.jupyter.widget-view+json": {
       "model_id": "",
       "version_major": 2,
       "version_minor": 0
      },
      "text/plain": [
       "HBox(children=(FloatProgress(value=1.0, bar_style='info', description='Validating', layout=Layout(flex='2'), m…"
      ]
     },
     "metadata": {},
     "output_type": "display_data"
    },
    {
     "data": {
      "application/vnd.jupyter.widget-view+json": {
       "model_id": "",
       "version_major": 2,
       "version_minor": 0
      },
      "text/plain": [
       "HBox(children=(FloatProgress(value=1.0, bar_style='info', description='Validating', layout=Layout(flex='2'), m…"
      ]
     },
     "metadata": {},
     "output_type": "display_data"
    },
    {
     "data": {
      "application/vnd.jupyter.widget-view+json": {
       "model_id": "",
       "version_major": 2,
       "version_minor": 0
      },
      "text/plain": [
       "HBox(children=(FloatProgress(value=1.0, bar_style='info', description='Validating', layout=Layout(flex='2'), m…"
      ]
     },
     "metadata": {},
     "output_type": "display_data"
    },
    {
     "data": {
      "application/vnd.jupyter.widget-view+json": {
       "model_id": "",
       "version_major": 2,
       "version_minor": 0
      },
      "text/plain": [
       "HBox(children=(FloatProgress(value=1.0, bar_style='info', description='Validating', layout=Layout(flex='2'), m…"
      ]
     },
     "metadata": {},
     "output_type": "display_data"
    },
    {
     "data": {
      "application/vnd.jupyter.widget-view+json": {
       "model_id": "",
       "version_major": 2,
       "version_minor": 0
      },
      "text/plain": [
       "HBox(children=(FloatProgress(value=1.0, bar_style='info', description='Validating', layout=Layout(flex='2'), m…"
      ]
     },
     "metadata": {},
     "output_type": "display_data"
    },
    {
     "data": {
      "application/vnd.jupyter.widget-view+json": {
       "model_id": "",
       "version_major": 2,
       "version_minor": 0
      },
      "text/plain": [
       "HBox(children=(FloatProgress(value=1.0, bar_style='info', description='Validating', layout=Layout(flex='2'), m…"
      ]
     },
     "metadata": {},
     "output_type": "display_data"
    },
    {
     "data": {
      "application/vnd.jupyter.widget-view+json": {
       "model_id": "",
       "version_major": 2,
       "version_minor": 0
      },
      "text/plain": [
       "HBox(children=(FloatProgress(value=1.0, bar_style='info', description='Validating', layout=Layout(flex='2'), m…"
      ]
     },
     "metadata": {},
     "output_type": "display_data"
    },
    {
     "data": {
      "application/vnd.jupyter.widget-view+json": {
       "model_id": "",
       "version_major": 2,
       "version_minor": 0
      },
      "text/plain": [
       "HBox(children=(FloatProgress(value=1.0, bar_style='info', description='Validating', layout=Layout(flex='2'), m…"
      ]
     },
     "metadata": {},
     "output_type": "display_data"
    },
    {
     "data": {
      "application/vnd.jupyter.widget-view+json": {
       "model_id": "",
       "version_major": 2,
       "version_minor": 0
      },
      "text/plain": [
       "HBox(children=(FloatProgress(value=1.0, bar_style='info', description='Validating', layout=Layout(flex='2'), m…"
      ]
     },
     "metadata": {},
     "output_type": "display_data"
    },
    {
     "name": "stdout",
     "output_type": "stream",
     "text": [
      "\n"
     ]
    },
    {
     "data": {
      "text/plain": [
       "1"
      ]
     },
     "execution_count": 8,
     "metadata": {},
     "output_type": "execute_result"
    }
   ],
   "source": [
    "trainer.fit(model)"
   ]
  },
  {
   "cell_type": "markdown",
   "metadata": {},
   "source": [
    "### Testing"
   ]
  },
  {
   "cell_type": "code",
   "execution_count": 9,
   "metadata": {},
   "outputs": [],
   "source": [
    "from lightning_modules.utils import get_metrics, embedding_model_evaluation"
   ]
  },
  {
   "cell_type": "code",
   "execution_count": 148,
   "metadata": {
    "scrolled": true
   },
   "outputs": [
    {
     "name": "stderr",
     "output_type": "stream",
     "text": [
      "Set SLURM handle signals.\n",
      "INFO:lightning:Set SLURM handle signals.\n"
     ]
    },
    {
     "data": {
      "application/vnd.jupyter.widget-view+json": {
       "model_id": "04d78c3e1dc3479d88470bd0ec18ef6e",
       "version_major": 2,
       "version_minor": 0
      },
      "text/plain": [
       "HBox(children=(FloatProgress(value=1.0, bar_style='info', description='Testing', layout=Layout(flex='2'), max=…"
      ]
     },
     "metadata": {},
     "output_type": "display_data"
    },
    {
     "name": "stdout",
     "output_type": "stream",
     "text": [
      "--------------------------------------------------------------------------------\n",
      "DATALOADER:0 TEST RESULTS\n",
      "{'edge_eff': tensor(0.9620, device='cuda:0'),\n",
      " 'edge_pur': tensor(0.9563, device='cuda:0'),\n",
      " 'loss': tensor(0.4085, device='cuda:0'),\n",
      " 'truth': array([ True,  True,  True, ..., False, False, False]),\n",
      " 'truth_graph': array([[ 7055,  7055,  7055, ...,  6760,  6760,  6760],\n",
      "       [ 3856, 10637,  9096, ...,  5876,  5047,  6720]])}\n",
      "--------------------------------------------------------------------------------\n",
      "DATALOADER:1 TEST RESULTS\n",
      "{'edge_eff': tensor(0.9572, device='cuda:0'),\n",
      " 'edge_pur': tensor(0.9555, device='cuda:0'),\n",
      " 'loss': tensor(0.3724, device='cuda:0'),\n",
      " 'truth': array([ True,  True,  True, ..., False, False, False]),\n",
      " 'truth_graph': array([[10276, 10276, 10276, ...,  2371,  2371,  2371],\n",
      "       [ 7138, 11519,  4065, ...,  2419,   482, 11538]])}\n",
      "--------------------------------------------------------------------------------\n",
      "DATALOADER:2 TEST RESULTS\n",
      "{'edge_eff': tensor(0.9729, device='cuda:0'),\n",
      " 'edge_pur': tensor(0.9787, device='cuda:0'),\n",
      " 'loss': tensor(0.2924, device='cuda:0'),\n",
      " 'truth': array([False,  True,  True, ...,  True,  True,  True]),\n",
      " 'truth_graph': array([[ 1182,  1182,  1182, ...,  1078,  1078,  1078],\n",
      "       [ 4215,  8663,  8740, ..., 12634,  2514,  9195]])}\n",
      "--------------------------------------------------------------------------------\n",
      "DATALOADER:3 TEST RESULTS\n",
      "{'edge_eff': tensor(0.9516, device='cuda:0'),\n",
      " 'edge_pur': tensor(0.9523, device='cuda:0'),\n",
      " 'loss': tensor(0.4042, device='cuda:0'),\n",
      " 'truth': array([ True,  True,  True, ...,  True,  True, False]),\n",
      " 'truth_graph': array([[9453, 9453, 9453, ..., 1274, 1274, 1274],\n",
      "       [1984, 1144, 3900, ...,  388, 5153, 2120]])}\n",
      "--------------------------------------------------------------------------------\n",
      "DATALOADER:4 TEST RESULTS\n",
      "{'edge_eff': tensor(0.9545, device='cuda:0'),\n",
      " 'edge_pur': tensor(0.9478, device='cuda:0'),\n",
      " 'loss': tensor(0.4380, device='cuda:0'),\n",
      " 'truth': array([ True,  True,  True, ...,  True,  True,  True]),\n",
      " 'truth_graph': array([[8095, 8095, 8095, ..., 6398, 6398, 6398],\n",
      "       [1934, 2703, 4187, ..., 7320, 6366, 6373]])}\n",
      "--------------------------------------------------------------------------------\n",
      "DATALOADER:5 TEST RESULTS\n",
      "{'edge_eff': tensor(0.9519, device='cuda:0'),\n",
      " 'edge_pur': tensor(0.9458, device='cuda:0'),\n",
      " 'loss': tensor(0.4545, device='cuda:0'),\n",
      " 'truth': array([ True,  True,  True, ..., False, False, False]),\n",
      " 'truth_graph': array([[5505, 5505, 5505, ..., 5276, 5276, 5276],\n",
      "       [7176, 2538, 3556, ..., 8267, 6694, 9751]])}\n",
      "--------------------------------------------------------------------------------\n",
      "DATALOADER:6 TEST RESULTS\n",
      "{'edge_eff': tensor(0.9722, device='cuda:0'),\n",
      " 'edge_pur': tensor(0.9712, device='cuda:0'),\n",
      " 'loss': tensor(0.3304, device='cuda:0'),\n",
      " 'truth': array([ True,  True,  True, ..., False, False, False]),\n",
      " 'truth_graph': array([[ 3283,  3283,  3283, ...,  9727,  9727,  9727],\n",
      "       [ 5477,   488,  4393, ..., 11972,  8391,  8386]])}\n",
      "--------------------------------------------------------------------------------\n",
      "DATALOADER:7 TEST RESULTS\n",
      "{'edge_eff': tensor(0.9703, device='cuda:0'),\n",
      " 'edge_pur': tensor(0.9603, device='cuda:0'),\n",
      " 'loss': tensor(0.3382, device='cuda:0'),\n",
      " 'truth': array([ True,  True,  True, ...,  True,  True,  True]),\n",
      " 'truth_graph': array([[ 8891,  8891,  8891, ...,  9576,  9576,  9576],\n",
      "       [12726, 12756, 11571, ...,   158, 11450,  1693]])}\n",
      "--------------------------------------------------------------------------------\n",
      "DATALOADER:8 TEST RESULTS\n",
      "{'edge_eff': tensor(0.9679, device='cuda:0'),\n",
      " 'edge_pur': tensor(0.9676, device='cuda:0'),\n",
      " 'loss': tensor(0.3566, device='cuda:0'),\n",
      " 'truth': array([ True,  True,  True, ...,  True,  True,  True]),\n",
      " 'truth_graph': array([[ 8874,  8874,  8874, ..., 12822, 12822, 12822],\n",
      "       [ 3362,  5450, 11720, ...,  5299, 13316, 12263]])}\n",
      "--------------------------------------------------------------------------------\n",
      "DATALOADER:9 TEST RESULTS\n",
      "{'edge_eff': tensor(0.9626, device='cuda:0'),\n",
      " 'edge_pur': tensor(0.9601, device='cuda:0'),\n",
      " 'loss': tensor(0.3603, device='cuda:0'),\n",
      " 'truth': array([ True,  True,  True, ..., False, False, False]),\n",
      " 'truth_graph': array([[ 2328,  2328,  2328, ...,  4607,  4607,  4607],\n",
      "       [  879,   223,  1550, ..., 11526,  5371,  9663]])}\n",
      "--------------------------------------------------------------------------------\n",
      "DATALOADER:10 TEST RESULTS\n",
      "{'edge_eff': tensor(0.9721, device='cuda:0'),\n",
      " 'edge_pur': tensor(0.9736, device='cuda:0'),\n",
      " 'loss': tensor(0.3055, device='cuda:0'),\n",
      " 'truth': array([ True,  True,  True, ..., False, False, False]),\n",
      " 'truth_graph': array([[2996, 2996, 2996, ...,  658,  658,  658],\n",
      "       [4062, 5781, 8650, ..., 5211,  185, 6373]])}\n",
      "--------------------------------------------------------------------------------\n",
      "DATALOADER:11 TEST RESULTS\n",
      "{'edge_eff': tensor(0.9769, device='cuda:0'),\n",
      " 'edge_pur': tensor(0.9716, device='cuda:0'),\n",
      " 'loss': tensor(0.3088, device='cuda:0'),\n",
      " 'truth': array([ True,  True,  True, ..., False, False,  True]),\n",
      " 'truth_graph': array([[ 5152,  5152,  5152, ..., 12185, 12185, 12185],\n",
      "       [  908,  6814,  8537, ...,  8216,  8227, 10501]])}\n",
      "--------------------------------------------------------------------------------\n",
      "DATALOADER:12 TEST RESULTS\n",
      "{'edge_eff': tensor(0.9513, device='cuda:0'),\n",
      " 'edge_pur': tensor(0.9544, device='cuda:0'),\n",
      " 'loss': tensor(0.4085, device='cuda:0'),\n",
      " 'truth': array([ True,  True,  True, ...,  True,  True,  True]),\n",
      " 'truth_graph': array([[5165, 5165, 5165, ..., 5578, 5578, 5578],\n",
      "       [3944, 2599, 2555, ...,  400, 3312, 8026]])}\n",
      "--------------------------------------------------------------------------------\n",
      "DATALOADER:13 TEST RESULTS\n",
      "{'edge_eff': tensor(0.9674, device='cuda:0'),\n",
      " 'edge_pur': tensor(0.9620, device='cuda:0'),\n",
      " 'loss': tensor(0.3417, device='cuda:0'),\n",
      " 'truth': array([ True,  True,  True, ...,  True,  True,  True]),\n",
      " 'truth_graph': array([[ 2835,  2835,  2835, ...,  9689,  9689,  9689],\n",
      "       [11525, 11559,  1850, ..., 12012, 11985,  9648]])}\n",
      "--------------------------------------------------------------------------------\n",
      "DATALOADER:14 TEST RESULTS\n",
      "{'edge_eff': tensor(0.9631, device='cuda:0'),\n",
      " 'edge_pur': tensor(0.9659, device='cuda:0'),\n",
      " 'loss': tensor(0.3327, device='cuda:0'),\n",
      " 'truth': array([ True,  True,  True, ...,  True, False, False]),\n",
      " 'truth_graph': array([[ 669,  669,  669, ..., 6207, 6207, 6207],\n",
      "       [1649, 8279, 8272, ..., 5456, 5483, 7545]])}\n",
      "--------------------------------------------------------------------------------\n",
      "DATALOADER:15 TEST RESULTS\n",
      "{'edge_eff': tensor(0.9607, device='cuda:0'),\n",
      " 'edge_pur': tensor(0.9489, device='cuda:0'),\n",
      " 'loss': tensor(0.3816, device='cuda:0'),\n",
      " 'truth': array([ True,  True, False, ..., False, False, False]),\n",
      " 'truth_graph': array([[14466, 14466, 14466, ...,  4280,  4280,  4280],\n",
      "       [ 5280,  5264, 13247, ..., 10946, 10882, 12714]])}\n",
      "--------------------------------------------------------------------------------\n",
      "DATALOADER:16 TEST RESULTS\n",
      "{'edge_eff': tensor(0.9637, device='cuda:0'),\n",
      " 'edge_pur': tensor(0.9682, device='cuda:0'),\n",
      " 'loss': tensor(0.3151, device='cuda:0'),\n",
      " 'truth': array([ True,  True,  True, ...,  True,  True,  True]),\n",
      " 'truth_graph': array([[ 5824,  5824,  5824, ...,  5188,  5188,  5188],\n",
      "       [ 6808, 11300, 12529, ..., 11896,  2834, 14511]])}\n",
      "--------------------------------------------------------------------------------\n",
      "DATALOADER:17 TEST RESULTS\n",
      "{'edge_eff': tensor(0.9599, device='cuda:0'),\n",
      " 'edge_pur': tensor(0.9657, device='cuda:0'),\n",
      " 'loss': tensor(0.3468, device='cuda:0'),\n",
      " 'truth': array([ True,  True,  True, ..., False, False, False]),\n",
      " 'truth_graph': array([[8306, 8306, 8306, ..., 6682, 6682, 6682],\n",
      "       [7033, 3441,  141, ..., 4816, 9312, 2586]])}\n",
      "--------------------------------------------------------------------------------\n",
      "DATALOADER:18 TEST RESULTS\n",
      "{'edge_eff': tensor(0.9644, device='cuda:0'),\n",
      " 'edge_pur': tensor(0.9648, device='cuda:0'),\n",
      " 'loss': tensor(0.3822, device='cuda:0'),\n",
      " 'truth': array([ True,  True,  True, ...,  True,  True, False]),\n",
      " 'truth_graph': array([[10781, 10781, 10781, ...,  5296,  5296,  5296],\n",
      "       [  425,  6828,  2232, ..., 12077,  4366,  6852]])}\n",
      "--------------------------------------------------------------------------------\n",
      "DATALOADER:19 TEST RESULTS\n",
      "{'edge_eff': tensor(0.9558, device='cuda:0'),\n",
      " 'edge_pur': tensor(0.9538, device='cuda:0'),\n",
      " 'loss': tensor(0.3878, device='cuda:0'),\n",
      " 'truth': array([ True,  True,  True, ...,  True, False,  True]),\n",
      " 'truth_graph': array([[ 2973,  2973,  2973, ...,  2514,  2514,  2514],\n",
      "       [15325,  1286, 13484, ...,  1051, 13489, 12510]])}\n",
      "--------------------------------------------------------------------------------\n",
      "\n"
     ]
    }
   ],
   "source": [
    "results = trainer.test(ckpt_path=None)"
   ]
  },
  {
   "cell_type": "code",
   "execution_count": 151,
   "metadata": {
    "collapsed": true
   },
   "outputs": [
    {
     "name": "stderr",
     "output_type": "stream",
     "text": [
      "Set SLURM handle signals.\n",
      "INFO:lightning:Set SLURM handle signals.\n"
     ]
    },
    {
     "data": {
      "application/vnd.jupyter.widget-view+json": {
       "model_id": "21547b6fb85843afb70760b924aeb55d",
       "version_major": 2,
       "version_minor": 0
      },
      "text/plain": [
       "HBox(children=(FloatProgress(value=1.0, bar_style='info', description='Testing', layout=Layout(flex='2'), max=…"
      ]
     },
     "metadata": {},
     "output_type": "display_data"
    },
    {
     "name": "stdout",
     "output_type": "stream",
     "text": [
      "--------------------------------------------------------------------------------\n",
      "DATALOADER:0 TEST RESULTS\n",
      "{'edge_eff': tensor(0.9620, device='cuda:0'),\n",
      " 'edge_pur': tensor(0.9563, device='cuda:0'),\n",
      " 'loss': tensor(0.3497, device='cuda:0'),\n",
      " 'truth': array([ True,  True,  True, ..., False, False, False]),\n",
      " 'truth_graph': array([[ 7055,  7055,  7055, ...,  6760,  6760,  6760],\n",
      "       [ 3856, 10637,  9096, ...,  5876,  5047,  6720]])}\n",
      "--------------------------------------------------------------------------------\n",
      "DATALOADER:1 TEST RESULTS\n",
      "{'edge_eff': tensor(0.9572, device='cuda:0'),\n",
      " 'edge_pur': tensor(0.9555, device='cuda:0'),\n",
      " 'loss': tensor(0.3102, device='cuda:0'),\n",
      " 'truth': array([ True,  True,  True, ...,  True,  True, False]),\n",
      " 'truth_graph': array([[10276, 10276, 10276, ...,  2371,  2371,  2371],\n",
      "       [ 7138, 11519,  4065, ...,  2419,   482, 11538]])}\n",
      "--------------------------------------------------------------------------------\n",
      "DATALOADER:2 TEST RESULTS\n",
      "{'edge_eff': tensor(0.9729, device='cuda:0'),\n",
      " 'edge_pur': tensor(0.9787, device='cuda:0'),\n",
      " 'loss': tensor(0.2342, device='cuda:0'),\n",
      " 'truth': array([False,  True,  True, ...,  True,  True,  True]),\n",
      " 'truth_graph': array([[ 1182,  1182,  1182, ...,  1078,  1078,  1078],\n",
      "       [ 4215,  8663,  8740, ..., 12634,  2514,  9195]])}\n",
      "--------------------------------------------------------------------------------\n",
      "DATALOADER:3 TEST RESULTS\n",
      "{'edge_eff': tensor(0.9516, device='cuda:0'),\n",
      " 'edge_pur': tensor(0.9523, device='cuda:0'),\n",
      " 'loss': tensor(0.3459, device='cuda:0'),\n",
      " 'truth': array([ True,  True,  True, ...,  True,  True,  True]),\n",
      " 'truth_graph': array([[9453, 9453, 9453, ..., 1274, 1274, 1274],\n",
      "       [1984, 1144, 3900, ...,  388, 5153, 2120]])}\n",
      "--------------------------------------------------------------------------------\n",
      "DATALOADER:4 TEST RESULTS\n",
      "{'edge_eff': tensor(0.9545, device='cuda:0'),\n",
      " 'edge_pur': tensor(0.9478, device='cuda:0'),\n",
      " 'loss': tensor(0.3798, device='cuda:0'),\n",
      " 'truth': array([ True,  True,  True, ...,  True,  True,  True]),\n",
      " 'truth_graph': array([[8095, 8095, 8095, ..., 6398, 6398, 6398],\n",
      "       [1934, 2703, 4187, ..., 7320, 6366, 6373]])}\n",
      "--------------------------------------------------------------------------------\n",
      "DATALOADER:5 TEST RESULTS\n",
      "{'edge_eff': tensor(0.9519, device='cuda:0'),\n",
      " 'edge_pur': tensor(0.9458, device='cuda:0'),\n",
      " 'loss': tensor(0.4055, device='cuda:0'),\n",
      " 'truth': array([ True,  True,  True, ..., False, False, False]),\n",
      " 'truth_graph': array([[5505, 5505, 5505, ..., 5276, 5276, 5276],\n",
      "       [7176, 2538, 3556, ..., 8267, 6694, 9751]])}\n",
      "--------------------------------------------------------------------------------\n",
      "DATALOADER:6 TEST RESULTS\n",
      "{'edge_eff': tensor(0.9722, device='cuda:0'),\n",
      " 'edge_pur': tensor(0.9712, device='cuda:0'),\n",
      " 'loss': tensor(0.2582, device='cuda:0'),\n",
      " 'truth': array([ True,  True,  True, ..., False, False, False]),\n",
      " 'truth_graph': array([[ 3283,  3283,  3283, ...,  9727,  9727,  9727],\n",
      "       [ 5477,   488,  4393, ..., 11972,  8391,  8386]])}\n",
      "--------------------------------------------------------------------------------\n",
      "DATALOADER:7 TEST RESULTS\n",
      "{'edge_eff': tensor(0.9703, device='cuda:0'),\n",
      " 'edge_pur': tensor(0.9603, device='cuda:0'),\n",
      " 'loss': tensor(0.2838, device='cuda:0'),\n",
      " 'truth': array([ True,  True,  True, ...,  True,  True,  True]),\n",
      " 'truth_graph': array([[ 8891,  8891,  8891, ...,  9576,  9576,  9576],\n",
      "       [12726, 12756, 11571, ...,   158, 11450,  1693]])}\n",
      "--------------------------------------------------------------------------------\n",
      "DATALOADER:8 TEST RESULTS\n",
      "{'edge_eff': tensor(0.9679, device='cuda:0'),\n",
      " 'edge_pur': tensor(0.9676, device='cuda:0'),\n",
      " 'loss': tensor(0.2981, device='cuda:0'),\n",
      " 'truth': array([ True,  True,  True, ...,  True,  True,  True]),\n",
      " 'truth_graph': array([[ 8874,  8874,  8874, ..., 12822, 12822, 12822],\n",
      "       [ 3362,  5450, 11720, ...,  5299, 13316, 12263]])}\n",
      "--------------------------------------------------------------------------------\n",
      "DATALOADER:9 TEST RESULTS\n",
      "{'edge_eff': tensor(0.9626, device='cuda:0'),\n",
      " 'edge_pur': tensor(0.9601, device='cuda:0'),\n",
      " 'loss': tensor(0.3059, device='cuda:0'),\n",
      " 'truth': array([ True,  True,  True, ..., False, False, False]),\n",
      " 'truth_graph': array([[ 2328,  2328,  2328, ...,  4607,  4607,  4607],\n",
      "       [  879,   223,  1550, ..., 11526,  5371,  9663]])}\n",
      "--------------------------------------------------------------------------------\n",
      "DATALOADER:10 TEST RESULTS\n",
      "{'edge_eff': tensor(0.9721, device='cuda:0'),\n",
      " 'edge_pur': tensor(0.9736, device='cuda:0'),\n",
      " 'loss': tensor(0.2369, device='cuda:0'),\n",
      " 'truth': array([ True,  True,  True, ...,  True,  True,  True]),\n",
      " 'truth_graph': array([[2996, 2996, 2996, ...,  658,  658,  658],\n",
      "       [4062, 5781, 8650, ..., 5211,  185, 6373]])}\n",
      "--------------------------------------------------------------------------------\n",
      "DATALOADER:11 TEST RESULTS\n",
      "{'edge_eff': tensor(0.9769, device='cuda:0'),\n",
      " 'edge_pur': tensor(0.9716, device='cuda:0'),\n",
      " 'loss': tensor(0.2483, device='cuda:0'),\n",
      " 'truth': array([ True,  True,  True, ..., False, False, False]),\n",
      " 'truth_graph': array([[ 5152,  5152,  5152, ..., 12185, 12185, 12185],\n",
      "       [  908,  6814,  8537, ...,  8216,  8227, 10501]])}\n",
      "--------------------------------------------------------------------------------\n",
      "DATALOADER:12 TEST RESULTS\n",
      "{'edge_eff': tensor(0.9513, device='cuda:0'),\n",
      " 'edge_pur': tensor(0.9544, device='cuda:0'),\n",
      " 'loss': tensor(0.3479, device='cuda:0'),\n",
      " 'truth': array([ True,  True,  True, ...,  True,  True,  True]),\n",
      " 'truth_graph': array([[5165, 5165, 5165, ..., 5578, 5578, 5578],\n",
      "       [3944, 2599, 2555, ...,  400, 3312, 8026]])}\n",
      "--------------------------------------------------------------------------------\n",
      "DATALOADER:13 TEST RESULTS\n",
      "{'edge_eff': tensor(0.9674, device='cuda:0'),\n",
      " 'edge_pur': tensor(0.9620, device='cuda:0'),\n",
      " 'loss': tensor(0.2811, device='cuda:0'),\n",
      " 'truth': array([ True,  True,  True, ...,  True,  True,  True]),\n",
      " 'truth_graph': array([[ 2835,  2835,  2835, ...,  9689,  9689,  9689],\n",
      "       [11525, 11559,  1850, ..., 12012, 11985,  9648]])}\n",
      "--------------------------------------------------------------------------------\n",
      "DATALOADER:14 TEST RESULTS\n",
      "{'edge_eff': tensor(0.9631, device='cuda:0'),\n",
      " 'edge_pur': tensor(0.9659, device='cuda:0'),\n",
      " 'loss': tensor(0.2802, device='cuda:0'),\n",
      " 'truth': array([ True,  True,  True, ...,  True,  True,  True]),\n",
      " 'truth_graph': array([[ 669,  669,  669, ..., 6207, 6207, 6207],\n",
      "       [1649, 8279, 8272, ..., 5456, 5483, 7545]])}\n",
      "--------------------------------------------------------------------------------\n",
      "DATALOADER:15 TEST RESULTS\n",
      "{'edge_eff': tensor(0.9607, device='cuda:0'),\n",
      " 'edge_pur': tensor(0.9489, device='cuda:0'),\n",
      " 'loss': tensor(0.3304, device='cuda:0'),\n",
      " 'truth': array([ True,  True, False, ...,  True,  True, False]),\n",
      " 'truth_graph': array([[14466, 14466, 14466, ...,  4280,  4280,  4280],\n",
      "       [ 5280,  5264, 13247, ..., 10946, 10882, 12714]])}\n",
      "--------------------------------------------------------------------------------\n",
      "DATALOADER:16 TEST RESULTS\n",
      "{'edge_eff': tensor(0.9637, device='cuda:0'),\n",
      " 'edge_pur': tensor(0.9682, device='cuda:0'),\n",
      " 'loss': tensor(0.2567, device='cuda:0'),\n",
      " 'truth': array([ True,  True,  True, ...,  True,  True,  True]),\n",
      " 'truth_graph': array([[ 5824,  5824,  5824, ...,  5188,  5188,  5188],\n",
      "       [ 6808, 11300, 12529, ..., 11896,  2834, 14511]])}\n",
      "--------------------------------------------------------------------------------\n",
      "DATALOADER:17 TEST RESULTS\n",
      "{'edge_eff': tensor(0.9599, device='cuda:0'),\n",
      " 'edge_pur': tensor(0.9657, device='cuda:0'),\n",
      " 'loss': tensor(0.2945, device='cuda:0'),\n",
      " 'truth': array([ True,  True,  True, ...,  True,  True,  True]),\n",
      " 'truth_graph': array([[8306, 8306, 8306, ..., 6682, 6682, 6682],\n",
      "       [7033, 3441,  141, ..., 4816, 9312, 2586]])}\n",
      "--------------------------------------------------------------------------------\n",
      "DATALOADER:18 TEST RESULTS\n",
      "{'edge_eff': tensor(0.9644, device='cuda:0'),\n",
      " 'edge_pur': tensor(0.9648, device='cuda:0'),\n",
      " 'loss': tensor(0.3339, device='cuda:0'),\n",
      " 'truth': array([ True,  True,  True, ...,  True,  True, False]),\n",
      " 'truth_graph': array([[10781, 10781, 10781, ...,  5296,  5296,  5296],\n",
      "       [  425,  6828,  2232, ..., 12077,  4366,  6852]])}\n",
      "--------------------------------------------------------------------------------\n",
      "DATALOADER:19 TEST RESULTS\n",
      "{'edge_eff': tensor(0.9558, device='cuda:0'),\n",
      " 'edge_pur': tensor(0.9538, device='cuda:0'),\n",
      " 'loss': tensor(0.3292, device='cuda:0'),\n",
      " 'truth': array([ True,  True,  True, ...,  True, False,  True]),\n",
      " 'truth_graph': array([[ 2973,  2973,  2973, ...,  2514,  2514,  2514],\n",
      "       [15325,  1286, 13484, ...,  1051, 13489, 12510]])}\n",
      "--------------------------------------------------------------------------------\n",
      "\n",
      "0.8348995895036453 0.912290145891439\n"
     ]
    },
    {
     "name": "stderr",
     "output_type": "stream",
     "text": [
      "Set SLURM handle signals.\n",
      "INFO:lightning:Set SLURM handle signals.\n"
     ]
    },
    {
     "data": {
      "application/vnd.jupyter.widget-view+json": {
       "model_id": "c1be9c2890ee4b3296b3c5aae7109f25",
       "version_major": 2,
       "version_minor": 0
      },
      "text/plain": [
       "HBox(children=(FloatProgress(value=1.0, bar_style='info', description='Testing', layout=Layout(flex='2'), max=…"
      ]
     },
     "metadata": {},
     "output_type": "display_data"
    },
    {
     "name": "stderr",
     "output_type": "stream",
     "text": [
      "Set SLURM handle signals.\n",
      "INFO:lightning:Set SLURM handle signals.\n"
     ]
    },
    {
     "name": "stdout",
     "output_type": "stream",
     "text": [
      "--------------------------------------------------------------------------------\n",
      "DATALOADER:0 TEST RESULTS\n",
      "{'edge_eff': tensor(0.9620, device='cuda:0'),\n",
      " 'edge_pur': tensor(0.9563, device='cuda:0'),\n",
      " 'loss': tensor(0.3927, device='cuda:0'),\n",
      " 'truth': array([ True,  True,  True, ..., False,  True,  True]),\n",
      " 'truth_graph': array([[ 7055,  7055,  7055, ...,  6760,  6760,  6760],\n",
      "       [ 3856, 10637,  9096, ...,  5876,  5047,  6720]])}\n",
      "--------------------------------------------------------------------------------\n",
      "DATALOADER:1 TEST RESULTS\n",
      "{'edge_eff': tensor(0.9572, device='cuda:0'),\n",
      " 'edge_pur': tensor(0.9555, device='cuda:0'),\n",
      " 'loss': tensor(0.3599, device='cuda:0'),\n",
      " 'truth': array([ True,  True,  True, ..., False, False, False]),\n",
      " 'truth_graph': array([[10276, 10276, 10276, ...,  2371,  2371,  2371],\n",
      "       [ 7138, 11519,  4065, ...,  2419,   482, 11538]])}\n",
      "--------------------------------------------------------------------------------\n",
      "DATALOADER:2 TEST RESULTS\n",
      "{'edge_eff': tensor(0.9729, device='cuda:0'),\n",
      " 'edge_pur': tensor(0.9787, device='cuda:0'),\n",
      " 'loss': tensor(0.2817, device='cuda:0'),\n",
      " 'truth': array([False,  True,  True, ...,  True,  True,  True]),\n",
      " 'truth_graph': array([[ 1182,  1182,  1182, ...,  1078,  1078,  1078],\n",
      "       [ 4215,  8663,  8740, ..., 12634,  2514,  9195]])}\n",
      "--------------------------------------------------------------------------------\n",
      "DATALOADER:3 TEST RESULTS\n",
      "{'edge_eff': tensor(0.9516, device='cuda:0'),\n",
      " 'edge_pur': tensor(0.9523, device='cuda:0'),\n",
      " 'loss': tensor(0.3831, device='cuda:0'),\n",
      " 'truth': array([ True,  True,  True, ...,  True,  True, False]),\n",
      " 'truth_graph': array([[9453, 9453, 9453, ..., 1274, 1274, 1274],\n",
      "       [1984, 1144, 3900, ...,  388, 5153, 2120]])}\n",
      "--------------------------------------------------------------------------------\n",
      "DATALOADER:4 TEST RESULTS\n",
      "{'edge_eff': tensor(0.9545, device='cuda:0'),\n",
      " 'edge_pur': tensor(0.9478, device='cuda:0'),\n",
      " 'loss': tensor(0.4237, device='cuda:0'),\n",
      " 'truth': array([ True,  True,  True, ...,  True,  True,  True]),\n",
      " 'truth_graph': array([[8095, 8095, 8095, ..., 6398, 6398, 6398],\n",
      "       [1934, 2703, 4187, ..., 7320, 6366, 6373]])}\n",
      "--------------------------------------------------------------------------------\n",
      "DATALOADER:5 TEST RESULTS\n",
      "{'edge_eff': tensor(0.9519, device='cuda:0'),\n",
      " 'edge_pur': tensor(0.9458, device='cuda:0'),\n",
      " 'loss': tensor(0.4339, device='cuda:0'),\n",
      " 'truth': array([ True,  True,  True, ..., False, False, False]),\n",
      " 'truth_graph': array([[5505, 5505, 5505, ..., 5276, 5276, 5276],\n",
      "       [7176, 2538, 3556, ..., 8267, 6694, 9751]])}\n",
      "--------------------------------------------------------------------------------\n",
      "DATALOADER:6 TEST RESULTS\n",
      "{'edge_eff': tensor(0.9722, device='cuda:0'),\n",
      " 'edge_pur': tensor(0.9712, device='cuda:0'),\n",
      " 'loss': tensor(0.3181, device='cuda:0'),\n",
      " 'truth': array([ True,  True,  True, ..., False, False, False]),\n",
      " 'truth_graph': array([[ 3283,  3283,  3283, ...,  9727,  9727,  9727],\n",
      "       [ 5477,   488,  4393, ..., 11972,  8391,  8386]])}\n",
      "--------------------------------------------------------------------------------\n",
      "DATALOADER:7 TEST RESULTS\n",
      "{'edge_eff': tensor(0.9703, device='cuda:0'),\n",
      " 'edge_pur': tensor(0.9603, device='cuda:0'),\n",
      " 'loss': tensor(0.3268, device='cuda:0'),\n",
      " 'truth': array([ True,  True,  True, ...,  True,  True,  True]),\n",
      " 'truth_graph': array([[ 8891,  8891,  8891, ...,  9576,  9576,  9576],\n",
      "       [12726, 12756, 11571, ...,   158, 11450,  1693]])}\n",
      "--------------------------------------------------------------------------------\n",
      "DATALOADER:8 TEST RESULTS\n",
      "{'edge_eff': tensor(0.9679, device='cuda:0'),\n",
      " 'edge_pur': tensor(0.9676, device='cuda:0'),\n",
      " 'loss': tensor(0.3433, device='cuda:0'),\n",
      " 'truth': array([ True,  True,  True, ...,  True,  True,  True]),\n",
      " 'truth_graph': array([[ 8874,  8874,  8874, ..., 12822, 12822, 12822],\n",
      "       [ 3362,  5450, 11720, ...,  5299, 13316, 12263]])}\n",
      "--------------------------------------------------------------------------------\n",
      "DATALOADER:9 TEST RESULTS\n",
      "{'edge_eff': tensor(0.9626, device='cuda:0'),\n",
      " 'edge_pur': tensor(0.9601, device='cuda:0'),\n",
      " 'loss': tensor(0.3478, device='cuda:0'),\n",
      " 'truth': array([ True,  True,  True, ..., False, False, False]),\n",
      " 'truth_graph': array([[ 2328,  2328,  2328, ...,  4607,  4607,  4607],\n",
      "       [  879,   223,  1550, ..., 11526,  5371,  9663]])}\n",
      "--------------------------------------------------------------------------------\n",
      "DATALOADER:10 TEST RESULTS\n",
      "{'edge_eff': tensor(0.9721, device='cuda:0'),\n",
      " 'edge_pur': tensor(0.9736, device='cuda:0'),\n",
      " 'loss': tensor(0.2960, device='cuda:0'),\n",
      " 'truth': array([ True,  True,  True, ..., False, False, False]),\n",
      " 'truth_graph': array([[2996, 2996, 2996, ...,  658,  658,  658],\n",
      "       [4062, 5781, 8650, ..., 5211,  185, 6373]])}\n",
      "--------------------------------------------------------------------------------\n",
      "DATALOADER:11 TEST RESULTS\n",
      "{'edge_eff': tensor(0.9769, device='cuda:0'),\n",
      " 'edge_pur': tensor(0.9716, device='cuda:0'),\n",
      " 'loss': tensor(0.2984, device='cuda:0'),\n",
      " 'truth': array([ True,  True,  True, ..., False, False, False]),\n",
      " 'truth_graph': array([[ 5152,  5152,  5152, ..., 12185, 12185, 12185],\n",
      "       [  908,  6814,  8537, ...,  8216,  8227, 10501]])}\n",
      "--------------------------------------------------------------------------------\n",
      "DATALOADER:12 TEST RESULTS\n",
      "{'edge_eff': tensor(0.9513, device='cuda:0'),\n",
      " 'edge_pur': tensor(0.9544, device='cuda:0'),\n",
      " 'loss': tensor(0.3928, device='cuda:0'),\n",
      " 'truth': array([ True,  True,  True, ...,  True,  True, False]),\n",
      " 'truth_graph': array([[5165, 5165, 5165, ..., 5578, 5578, 5578],\n",
      "       [3944, 2599, 2555, ...,  400, 3312, 8026]])}\n",
      "--------------------------------------------------------------------------------\n",
      "DATALOADER:13 TEST RESULTS\n",
      "{'edge_eff': tensor(0.9674, device='cuda:0'),\n",
      " 'edge_pur': tensor(0.9620, device='cuda:0'),\n",
      " 'loss': tensor(0.3355, device='cuda:0'),\n",
      " 'truth': array([ True,  True,  True, ...,  True,  True,  True]),\n",
      " 'truth_graph': array([[ 2835,  2835,  2835, ...,  9689,  9689,  9689],\n",
      "       [11525, 11559,  1850, ..., 12012, 11985,  9648]])}\n",
      "--------------------------------------------------------------------------------\n",
      "DATALOADER:14 TEST RESULTS\n",
      "{'edge_eff': tensor(0.9631, device='cuda:0'),\n",
      " 'edge_pur': tensor(0.9659, device='cuda:0'),\n",
      " 'loss': tensor(0.3255, device='cuda:0'),\n",
      " 'truth': array([ True,  True,  True, ..., False, False,  True]),\n",
      " 'truth_graph': array([[ 669,  669,  669, ..., 6207, 6207, 6207],\n",
      "       [1649, 8279, 8272, ..., 5456, 5483, 7545]])}\n",
      "--------------------------------------------------------------------------------\n",
      "DATALOADER:15 TEST RESULTS\n",
      "{'edge_eff': tensor(0.9607, device='cuda:0'),\n",
      " 'edge_pur': tensor(0.9489, device='cuda:0'),\n",
      " 'loss': tensor(0.3663, device='cuda:0'),\n",
      " 'truth': array([ True,  True, False, ..., False, False, False]),\n",
      " 'truth_graph': array([[14466, 14466, 14466, ...,  4280,  4280,  4280],\n",
      "       [ 5280,  5264, 13247, ..., 10946, 10882, 12714]])}\n",
      "--------------------------------------------------------------------------------\n",
      "DATALOADER:16 TEST RESULTS\n",
      "{'edge_eff': tensor(0.9637, device='cuda:0'),\n",
      " 'edge_pur': tensor(0.9682, device='cuda:0'),\n",
      " 'loss': tensor(0.3060, device='cuda:0'),\n",
      " 'truth': array([ True,  True,  True, ...,  True,  True,  True]),\n",
      " 'truth_graph': array([[ 5824,  5824,  5824, ...,  5188,  5188,  5188],\n",
      "       [ 6808, 11300, 12529, ..., 11896,  2834, 14511]])}\n",
      "--------------------------------------------------------------------------------\n",
      "DATALOADER:17 TEST RESULTS\n",
      "{'edge_eff': tensor(0.9599, device='cuda:0'),\n",
      " 'edge_pur': tensor(0.9657, device='cuda:0'),\n",
      " 'loss': tensor(0.3355, device='cuda:0'),\n",
      " 'truth': array([ True,  True,  True, ..., False, False, False]),\n",
      " 'truth_graph': array([[8306, 8306, 8306, ..., 6682, 6682, 6682],\n",
      "       [7033, 3441,  141, ..., 4816, 9312, 2586]])}\n",
      "--------------------------------------------------------------------------------\n",
      "DATALOADER:18 TEST RESULTS\n",
      "{'edge_eff': tensor(0.9644, device='cuda:0'),\n",
      " 'edge_pur': tensor(0.9648, device='cuda:0'),\n",
      " 'loss': tensor(0.3676, device='cuda:0'),\n",
      " 'truth': array([ True,  True,  True, ...,  True,  True, False]),\n",
      " 'truth_graph': array([[10781, 10781, 10781, ...,  5296,  5296,  5296],\n",
      "       [  425,  6828,  2232, ..., 12077,  4366,  6852]])}\n",
      "--------------------------------------------------------------------------------\n",
      "DATALOADER:19 TEST RESULTS\n",
      "{'edge_eff': tensor(0.9558, device='cuda:0'),\n",
      " 'edge_pur': tensor(0.9538, device='cuda:0'),\n",
      " 'loss': tensor(0.3744, device='cuda:0'),\n",
      " 'truth': array([ True,  True,  True, ...,  True, False,  True]),\n",
      " 'truth_graph': array([[ 2973,  2973,  2973, ...,  2514,  2514,  2514],\n",
      "       [15325,  1286, 13484, ...,  1051, 13489, 12510]])}\n",
      "--------------------------------------------------------------------------------\n",
      "\n",
      "0.5862881180921539 0.9692585639549938\n"
     ]
    },
    {
     "data": {
      "application/vnd.jupyter.widget-view+json": {
       "model_id": "213eafaa0cfb4fa4a2a1ec554ac22663",
       "version_major": 2,
       "version_minor": 0
      },
      "text/plain": [
       "HBox(children=(FloatProgress(value=1.0, bar_style='info', description='Testing', layout=Layout(flex='2'), max=…"
      ]
     },
     "metadata": {},
     "output_type": "display_data"
    },
    {
     "name": "stdout",
     "output_type": "stream",
     "text": [
      "--------------------------------------------------------------------------------\n",
      "DATALOADER:0 TEST RESULTS\n",
      "{'edge_eff': tensor(0.9620, device='cuda:0'),\n",
      " 'edge_pur': tensor(0.9563, device='cuda:0'),\n",
      " 'loss': tensor(0.3573, device='cuda:0'),\n",
      " 'truth': array([ True,  True,  True, ..., False, False, False]),\n",
      " 'truth_graph': array([[ 7055,  7055,  7055, ...,  6760,  6760,  6760],\n",
      "       [ 3856, 10637,  9096, ...,  5876,  5047,  6720]])}\n",
      "--------------------------------------------------------------------------------\n",
      "DATALOADER:1 TEST RESULTS\n",
      "{'edge_eff': tensor(0.9572, device='cuda:0'),\n",
      " 'edge_pur': tensor(0.9555, device='cuda:0'),\n",
      " 'loss': tensor(0.3294, device='cuda:0'),\n",
      " 'truth': array([ True,  True,  True, ..., False, False, False]),\n",
      " 'truth_graph': array([[10276, 10276, 10276, ...,  2371,  2371,  2371],\n",
      "       [ 7138, 11519,  4065, ...,  2419,   482, 11538]])}\n",
      "--------------------------------------------------------------------------------\n",
      "DATALOADER:2 TEST RESULTS\n",
      "{'edge_eff': tensor(0.9729, device='cuda:0'),\n",
      " 'edge_pur': tensor(0.9787, device='cuda:0'),\n",
      " 'loss': tensor(0.2473, device='cuda:0'),\n",
      " 'truth': array([False,  True,  True, ...,  True,  True, False]),\n",
      " 'truth_graph': array([[ 1182,  1182,  1182, ...,  1078,  1078,  1078],\n",
      "       [ 4215,  8663,  8740, ..., 12634,  2514,  9195]])}\n",
      "--------------------------------------------------------------------------------\n",
      "DATALOADER:3 TEST RESULTS\n",
      "{'edge_eff': tensor(0.9516, device='cuda:0'),\n",
      " 'edge_pur': tensor(0.9523, device='cuda:0'),\n",
      " 'loss': tensor(0.3462, device='cuda:0'),\n",
      " 'truth': array([ True,  True,  True, ..., False, False, False]),\n",
      " 'truth_graph': array([[9453, 9453, 9453, ..., 1274, 1274, 1274],\n",
      "       [1984, 1144, 3900, ...,  388, 5153, 2120]])}\n",
      "--------------------------------------------------------------------------------\n",
      "DATALOADER:4 TEST RESULTS\n",
      "{'edge_eff': tensor(0.9545, device='cuda:0'),\n",
      " 'edge_pur': tensor(0.9478, device='cuda:0'),\n",
      " 'loss': tensor(0.3937, device='cuda:0'),\n",
      " 'truth': array([ True,  True,  True, ...,  True,  True,  True]),\n",
      " 'truth_graph': array([[8095, 8095, 8095, ..., 6398, 6398, 6398],\n",
      "       [1934, 2703, 4187, ..., 7320, 6366, 6373]])}\n",
      "--------------------------------------------------------------------------------\n",
      "DATALOADER:5 TEST RESULTS\n",
      "{'edge_eff': tensor(0.9519, device='cuda:0'),\n",
      " 'edge_pur': tensor(0.9458, device='cuda:0'),\n",
      " 'loss': tensor(0.4011, device='cuda:0'),\n",
      " 'truth': array([ True,  True,  True, ..., False, False, False]),\n",
      " 'truth_graph': array([[5505, 5505, 5505, ..., 5276, 5276, 5276],\n",
      "       [7176, 2538, 3556, ..., 8267, 6694, 9751]])}\n",
      "--------------------------------------------------------------------------------\n",
      "DATALOADER:6 TEST RESULTS\n",
      "{'edge_eff': tensor(0.9722, device='cuda:0'),\n",
      " 'edge_pur': tensor(0.9712, device='cuda:0'),\n",
      " 'loss': tensor(0.2847, device='cuda:0'),\n",
      " 'truth': array([ True,  True,  True, ..., False, False, False]),\n",
      " 'truth_graph': array([[ 3283,  3283,  3283, ...,  9727,  9727,  9727],\n",
      "       [ 5477,   488,  4393, ..., 11972,  8391,  8386]])}\n",
      "--------------------------------------------------------------------------------\n",
      "DATALOADER:7 TEST RESULTS\n",
      "{'edge_eff': tensor(0.9703, device='cuda:0'),\n",
      " 'edge_pur': tensor(0.9603, device='cuda:0'),\n",
      " 'loss': tensor(0.2907, device='cuda:0'),\n",
      " 'truth': array([ True,  True,  True, ...,  True,  True,  True]),\n",
      " 'truth_graph': array([[ 8891,  8891,  8891, ...,  9576,  9576,  9576],\n",
      "       [12726, 12756, 11571, ...,   158, 11450,  1693]])}\n",
      "--------------------------------------------------------------------------------\n",
      "DATALOADER:8 TEST RESULTS\n",
      "{'edge_eff': tensor(0.9679, device='cuda:0'),\n",
      " 'edge_pur': tensor(0.9676, device='cuda:0'),\n",
      " 'loss': tensor(0.3048, device='cuda:0'),\n",
      " 'truth': array([ True,  True,  True, ...,  True,  True,  True]),\n",
      " 'truth_graph': array([[ 8874,  8874,  8874, ..., 12822, 12822, 12822],\n",
      "       [ 3362,  5450, 11720, ...,  5299, 13316, 12263]])}\n",
      "--------------------------------------------------------------------------------\n",
      "DATALOADER:9 TEST RESULTS\n",
      "{'edge_eff': tensor(0.9626, device='cuda:0'),\n",
      " 'edge_pur': tensor(0.9601, device='cuda:0'),\n",
      " 'loss': tensor(0.3157, device='cuda:0'),\n",
      " 'truth': array([ True,  True,  True, ..., False, False, False]),\n",
      " 'truth_graph': array([[ 2328,  2328,  2328, ...,  4607,  4607,  4607],\n",
      "       [  879,   223,  1550, ..., 11526,  5371,  9663]])}\n",
      "--------------------------------------------------------------------------------\n",
      "DATALOADER:10 TEST RESULTS\n",
      "{'edge_eff': tensor(0.9721, device='cuda:0'),\n",
      " 'edge_pur': tensor(0.9736, device='cuda:0'),\n",
      " 'loss': tensor(0.2682, device='cuda:0'),\n",
      " 'truth': array([ True,  True,  True, ..., False,  True, False]),\n",
      " 'truth_graph': array([[2996, 2996, 2996, ...,  658,  658,  658],\n",
      "       [4062, 5781, 8650, ..., 5211,  185, 6373]])}\n",
      "--------------------------------------------------------------------------------\n",
      "DATALOADER:11 TEST RESULTS\n",
      "{'edge_eff': tensor(0.9769, device='cuda:0'),\n",
      " 'edge_pur': tensor(0.9716, device='cuda:0'),\n",
      " 'loss': tensor(0.2649, device='cuda:0'),\n",
      " 'truth': array([ True,  True,  True, ..., False, False, False]),\n",
      " 'truth_graph': array([[ 5152,  5152,  5152, ..., 12185, 12185, 12185],\n",
      "       [  908,  6814,  8537, ...,  8216,  8227, 10501]])}\n",
      "--------------------------------------------------------------------------------\n",
      "DATALOADER:12 TEST RESULTS\n",
      "{'edge_eff': tensor(0.9513, device='cuda:0'),\n",
      " 'edge_pur': tensor(0.9544, device='cuda:0'),\n",
      " 'loss': tensor(0.3565, device='cuda:0'),\n",
      " 'truth': array([ True,  True,  True, ..., False, False, False]),\n",
      " 'truth_graph': array([[5165, 5165, 5165, ..., 5578, 5578, 5578],\n",
      "       [3944, 2599, 2555, ...,  400, 3312, 8026]])}\n",
      "--------------------------------------------------------------------------------\n",
      "DATALOADER:13 TEST RESULTS\n",
      "{'edge_eff': tensor(0.9674, device='cuda:0'),\n",
      " 'edge_pur': tensor(0.9620, device='cuda:0'),\n",
      " 'loss': tensor(0.3022, device='cuda:0'),\n",
      " 'truth': array([ True,  True,  True, ..., False, False, False]),\n",
      " 'truth_graph': array([[ 2835,  2835,  2835, ...,  9689,  9689,  9689],\n",
      "       [11525, 11559,  1850, ..., 12012, 11985,  9648]])}\n",
      "--------------------------------------------------------------------------------\n",
      "DATALOADER:14 TEST RESULTS\n",
      "{'edge_eff': tensor(0.9631, device='cuda:0'),\n",
      " 'edge_pur': tensor(0.9659, device='cuda:0'),\n",
      " 'loss': tensor(0.2968, device='cuda:0'),\n",
      " 'truth': array([ True,  True,  True, ..., False, False, False]),\n",
      " 'truth_graph': array([[ 669,  669,  669, ..., 6207, 6207, 6207],\n",
      "       [1649, 8279, 8272, ..., 5456, 5483, 7545]])}\n",
      "--------------------------------------------------------------------------------\n",
      "DATALOADER:15 TEST RESULTS\n",
      "{'edge_eff': tensor(0.9607, device='cuda:0'),\n",
      " 'edge_pur': tensor(0.9489, device='cuda:0'),\n",
      " 'loss': tensor(0.3338, device='cuda:0'),\n",
      " 'truth': array([ True,  True, False, ..., False, False, False]),\n",
      " 'truth_graph': array([[14466, 14466, 14466, ...,  4280,  4280,  4280],\n",
      "       [ 5280,  5264, 13247, ..., 10946, 10882, 12714]])}\n",
      "--------------------------------------------------------------------------------\n",
      "DATALOADER:16 TEST RESULTS\n",
      "{'edge_eff': tensor(0.9637, device='cuda:0'),\n",
      " 'edge_pur': tensor(0.9682, device='cuda:0'),\n",
      " 'loss': tensor(0.2765, device='cuda:0'),\n",
      " 'truth': array([ True,  True,  True, ...,  True,  True,  True]),\n",
      " 'truth_graph': array([[ 5824,  5824,  5824, ...,  5188,  5188,  5188],\n",
      "       [ 6808, 11300, 12529, ..., 11896,  2834, 14511]])}\n",
      "--------------------------------------------------------------------------------\n",
      "DATALOADER:17 TEST RESULTS\n",
      "{'edge_eff': tensor(0.9599, device='cuda:0'),\n",
      " 'edge_pur': tensor(0.9657, device='cuda:0'),\n",
      " 'loss': tensor(0.2990, device='cuda:0'),\n",
      " 'truth': array([ True,  True,  True, ..., False, False, False]),\n",
      " 'truth_graph': array([[8306, 8306, 8306, ..., 6682, 6682, 6682],\n",
      "       [7033, 3441,  141, ..., 4816, 9312, 2586]])}\n",
      "--------------------------------------------------------------------------------\n",
      "DATALOADER:18 TEST RESULTS\n",
      "{'edge_eff': tensor(0.9644, device='cuda:0'),\n",
      " 'edge_pur': tensor(0.9648, device='cuda:0'),\n",
      " 'loss': tensor(0.3284, device='cuda:0'),\n",
      " 'truth': array([ True,  True,  True, ...,  True,  True, False]),\n",
      " 'truth_graph': array([[10781, 10781, 10781, ...,  5296,  5296,  5296],\n",
      "       [  425,  6828,  2232, ..., 12077,  4366,  6852]])}\n",
      "--------------------------------------------------------------------------------\n",
      "DATALOADER:19 TEST RESULTS\n",
      "{'edge_eff': tensor(0.9558, device='cuda:0'),\n",
      " 'edge_pur': tensor(0.9538, device='cuda:0'),\n",
      " 'loss': tensor(0.3461, device='cuda:0'),\n",
      " 'truth': array([ True,  True,  True, ..., False, False, False]),\n",
      " 'truth_graph': array([[ 2973,  2973,  2973, ...,  2514,  2514,  2514],\n",
      "       [15325,  1286, 13484, ...,  1051, 13489, 12510]])}\n",
      "--------------------------------------------------------------------------------\n",
      "\n",
      "0.4895450674322509 0.9809372034293933\n"
     ]
    },
    {
     "name": "stderr",
     "output_type": "stream",
     "text": [
      "Set SLURM handle signals.\n",
      "INFO:lightning:Set SLURM handle signals.\n"
     ]
    },
    {
     "data": {
      "application/vnd.jupyter.widget-view+json": {
       "model_id": "38db9652ddf64f87aba90b4709931554",
       "version_major": 2,
       "version_minor": 0
      },
      "text/plain": [
       "HBox(children=(FloatProgress(value=1.0, bar_style='info', description='Testing', layout=Layout(flex='2'), max=…"
      ]
     },
     "metadata": {},
     "output_type": "display_data"
    },
    {
     "name": "stdout",
     "output_type": "stream",
     "text": [
      "--------------------------------------------------------------------------------\n",
      "DATALOADER:0 TEST RESULTS\n",
      "{'edge_eff': tensor(0.9620, device='cuda:0'),\n",
      " 'edge_pur': tensor(0.9563, device='cuda:0'),\n",
      " 'loss': tensor(0.3602, device='cuda:0'),\n",
      " 'truth': array([ True,  True,  True, ..., False, False, False]),\n",
      " 'truth_graph': array([[ 7055,  7055,  7055, ...,  6760,  6760,  6760],\n",
      "       [ 3856, 10637,  9096, ...,  5876,  5047,  6720]])}\n",
      "--------------------------------------------------------------------------------\n",
      "DATALOADER:1 TEST RESULTS\n",
      "{'edge_eff': tensor(0.9572, device='cuda:0'),\n",
      " 'edge_pur': tensor(0.9555, device='cuda:0'),\n",
      " 'loss': tensor(0.3322, device='cuda:0'),\n",
      " 'truth': array([ True,  True,  True, ..., False, False, False]),\n",
      " 'truth_graph': array([[10276, 10276, 10276, ...,  2371,  2371,  2371],\n",
      "       [ 7138, 11519,  4065, ...,  2419,   482, 11538]])}\n",
      "--------------------------------------------------------------------------------\n",
      "DATALOADER:2 TEST RESULTS\n",
      "{'edge_eff': tensor(0.9729, device='cuda:0'),\n",
      " 'edge_pur': tensor(0.9787, device='cuda:0'),\n",
      " 'loss': tensor(0.2503, device='cuda:0'),\n",
      " 'truth': array([False,  True,  True, ...,  True,  True, False]),\n",
      " 'truth_graph': array([[ 1182,  1182,  1182, ...,  1078,  1078,  1078],\n",
      "       [ 4215,  8663,  8740, ..., 12634,  2514,  9195]])}\n",
      "--------------------------------------------------------------------------------\n",
      "DATALOADER:3 TEST RESULTS\n",
      "{'edge_eff': tensor(0.9516, device='cuda:0'),\n",
      " 'edge_pur': tensor(0.9523, device='cuda:0'),\n",
      " 'loss': tensor(0.3491, device='cuda:0'),\n",
      " 'truth': array([ True,  True,  True, ..., False, False, False]),\n",
      " 'truth_graph': array([[9453, 9453, 9453, ..., 1274, 1274, 1274],\n",
      "       [1984, 1144, 3900, ...,  388, 5153, 2120]])}\n",
      "--------------------------------------------------------------------------------\n",
      "DATALOADER:4 TEST RESULTS\n",
      "{'edge_eff': tensor(0.9545, device='cuda:0'),\n",
      " 'edge_pur': tensor(0.9478, device='cuda:0'),\n",
      " 'loss': tensor(0.3963, device='cuda:0'),\n",
      " 'truth': array([ True,  True,  True, ...,  True,  True,  True]),\n",
      " 'truth_graph': array([[8095, 8095, 8095, ..., 6398, 6398, 6398],\n",
      "       [1934, 2703, 4187, ..., 7320, 6366, 6373]])}\n",
      "--------------------------------------------------------------------------------\n",
      "DATALOADER:5 TEST RESULTS\n",
      "{'edge_eff': tensor(0.9519, device='cuda:0'),\n",
      " 'edge_pur': tensor(0.9458, device='cuda:0'),\n",
      " 'loss': tensor(0.4039, device='cuda:0'),\n",
      " 'truth': array([ True,  True,  True, ..., False, False, False]),\n",
      " 'truth_graph': array([[5505, 5505, 5505, ..., 5276, 5276, 5276],\n",
      "       [7176, 2538, 3556, ..., 8267, 6694, 9751]])}\n",
      "--------------------------------------------------------------------------------\n",
      "DATALOADER:6 TEST RESULTS\n",
      "{'edge_eff': tensor(0.9722, device='cuda:0'),\n",
      " 'edge_pur': tensor(0.9712, device='cuda:0'),\n",
      " 'loss': tensor(0.2881, device='cuda:0'),\n",
      " 'truth': array([ True,  True,  True, ..., False, False, False]),\n",
      " 'truth_graph': array([[ 3283,  3283,  3283, ...,  9727,  9727,  9727],\n",
      "       [ 5477,   488,  4393, ..., 11972,  8391,  8386]])}\n",
      "--------------------------------------------------------------------------------\n",
      "DATALOADER:7 TEST RESULTS\n",
      "{'edge_eff': tensor(0.9703, device='cuda:0'),\n",
      " 'edge_pur': tensor(0.9603, device='cuda:0'),\n",
      " 'loss': tensor(0.2936, device='cuda:0'),\n",
      " 'truth': array([ True,  True,  True, ...,  True,  True,  True]),\n",
      " 'truth_graph': array([[ 8891,  8891,  8891, ...,  9576,  9576,  9576],\n",
      "       [12726, 12756, 11571, ...,   158, 11450,  1693]])}\n",
      "--------------------------------------------------------------------------------\n",
      "DATALOADER:8 TEST RESULTS\n",
      "{'edge_eff': tensor(0.9679, device='cuda:0'),\n",
      " 'edge_pur': tensor(0.9676, device='cuda:0'),\n",
      " 'loss': tensor(0.3080, device='cuda:0'),\n",
      " 'truth': array([ True,  True,  True, ...,  True,  True,  True]),\n",
      " 'truth_graph': array([[ 8874,  8874,  8874, ..., 12822, 12822, 12822],\n",
      "       [ 3362,  5450, 11720, ...,  5299, 13316, 12263]])}\n",
      "--------------------------------------------------------------------------------\n",
      "DATALOADER:9 TEST RESULTS\n",
      "{'edge_eff': tensor(0.9626, device='cuda:0'),\n",
      " 'edge_pur': tensor(0.9601, device='cuda:0'),\n",
      " 'loss': tensor(0.3191, device='cuda:0'),\n",
      " 'truth': array([ True,  True,  True, ..., False, False, False]),\n",
      " 'truth_graph': array([[ 2328,  2328,  2328, ...,  4607,  4607,  4607],\n",
      "       [  879,   223,  1550, ..., 11526,  5371,  9663]])}\n",
      "--------------------------------------------------------------------------------\n",
      "DATALOADER:10 TEST RESULTS\n",
      "{'edge_eff': tensor(0.9721, device='cuda:0'),\n",
      " 'edge_pur': tensor(0.9736, device='cuda:0'),\n",
      " 'loss': tensor(0.2707, device='cuda:0'),\n",
      " 'truth': array([ True,  True,  True, ..., False, False,  True]),\n",
      " 'truth_graph': array([[2996, 2996, 2996, ...,  658,  658,  658],\n",
      "       [4062, 5781, 8650, ..., 5211,  185, 6373]])}\n",
      "--------------------------------------------------------------------------------\n",
      "DATALOADER:11 TEST RESULTS\n",
      "{'edge_eff': tensor(0.9769, device='cuda:0'),\n",
      " 'edge_pur': tensor(0.9716, device='cuda:0'),\n",
      " 'loss': tensor(0.2675, device='cuda:0'),\n",
      " 'truth': array([ True,  True,  True, ..., False, False, False]),\n",
      " 'truth_graph': array([[ 5152,  5152,  5152, ..., 12185, 12185, 12185],\n",
      "       [  908,  6814,  8537, ...,  8216,  8227, 10501]])}\n",
      "--------------------------------------------------------------------------------\n",
      "DATALOADER:12 TEST RESULTS\n",
      "{'edge_eff': tensor(0.9513, device='cuda:0'),\n",
      " 'edge_pur': tensor(0.9544, device='cuda:0'),\n",
      " 'loss': tensor(0.3598, device='cuda:0'),\n",
      " 'truth': array([ True,  True,  True, ..., False, False, False]),\n",
      " 'truth_graph': array([[5165, 5165, 5165, ..., 5578, 5578, 5578],\n",
      "       [3944, 2599, 2555, ...,  400, 3312, 8026]])}\n",
      "--------------------------------------------------------------------------------\n",
      "DATALOADER:13 TEST RESULTS\n",
      "{'edge_eff': tensor(0.9674, device='cuda:0'),\n",
      " 'edge_pur': tensor(0.9620, device='cuda:0'),\n",
      " 'loss': tensor(0.3049, device='cuda:0'),\n",
      " 'truth': array([ True,  True,  True, ..., False, False, False]),\n",
      " 'truth_graph': array([[ 2835,  2835,  2835, ...,  9689,  9689,  9689],\n",
      "       [11525, 11559,  1850, ..., 12012, 11985,  9648]])}\n",
      "--------------------------------------------------------------------------------\n",
      "DATALOADER:14 TEST RESULTS\n",
      "{'edge_eff': tensor(0.9631, device='cuda:0'),\n",
      " 'edge_pur': tensor(0.9659, device='cuda:0'),\n",
      " 'loss': tensor(0.2996, device='cuda:0'),\n",
      " 'truth': array([ True,  True,  True, ..., False, False, False]),\n",
      " 'truth_graph': array([[ 669,  669,  669, ..., 6207, 6207, 6207],\n",
      "       [1649, 8279, 8272, ..., 5456, 5483, 7545]])}\n",
      "--------------------------------------------------------------------------------\n",
      "DATALOADER:15 TEST RESULTS\n",
      "{'edge_eff': tensor(0.9607, device='cuda:0'),\n",
      " 'edge_pur': tensor(0.9489, device='cuda:0'),\n",
      " 'loss': tensor(0.3364, device='cuda:0'),\n",
      " 'truth': array([ True,  True, False, ..., False, False, False]),\n",
      " 'truth_graph': array([[14466, 14466, 14466, ...,  4280,  4280,  4280],\n",
      "       [ 5280,  5264, 13247, ..., 10946, 10882, 12714]])}\n",
      "--------------------------------------------------------------------------------\n",
      "DATALOADER:16 TEST RESULTS\n",
      "{'edge_eff': tensor(0.9637, device='cuda:0'),\n",
      " 'edge_pur': tensor(0.9682, device='cuda:0'),\n",
      " 'loss': tensor(0.2793, device='cuda:0'),\n",
      " 'truth': array([ True,  True,  True, ...,  True,  True,  True]),\n",
      " 'truth_graph': array([[ 5824,  5824,  5824, ...,  5188,  5188,  5188],\n",
      "       [ 6808, 11300, 12529, ..., 11896,  2834, 14511]])}\n",
      "--------------------------------------------------------------------------------\n",
      "DATALOADER:17 TEST RESULTS\n",
      "{'edge_eff': tensor(0.9599, device='cuda:0'),\n",
      " 'edge_pur': tensor(0.9657, device='cuda:0'),\n",
      " 'loss': tensor(0.3028, device='cuda:0'),\n",
      " 'truth': array([ True,  True,  True, ..., False, False, False]),\n",
      " 'truth_graph': array([[8306, 8306, 8306, ..., 6682, 6682, 6682],\n",
      "       [7033, 3441,  141, ..., 4816, 9312, 2586]])}\n",
      "--------------------------------------------------------------------------------\n",
      "DATALOADER:18 TEST RESULTS\n",
      "{'edge_eff': tensor(0.9644, device='cuda:0'),\n",
      " 'edge_pur': tensor(0.9648, device='cuda:0'),\n",
      " 'loss': tensor(0.3315, device='cuda:0'),\n",
      " 'truth': array([ True,  True,  True, ...,  True,  True, False]),\n",
      " 'truth_graph': array([[10781, 10781, 10781, ...,  5296,  5296,  5296],\n",
      "       [  425,  6828,  2232, ..., 12077,  4366,  6852]])}\n",
      "--------------------------------------------------------------------------------\n",
      "DATALOADER:19 TEST RESULTS\n",
      "{'edge_eff': tensor(0.9558, device='cuda:0'),\n",
      " 'edge_pur': tensor(0.9538, device='cuda:0'),\n",
      " 'loss': tensor(0.3487, device='cuda:0'),\n",
      " 'truth': array([ True,  True,  True, ..., False, False, False]),\n",
      " 'truth_graph': array([[ 2973,  2973,  2973, ...,  2514,  2514,  2514],\n",
      "       [15325,  1286, 13484, ...,  1051, 13489, 12510]])}\n",
      "--------------------------------------------------------------------------------\n",
      "\n",
      "0.4978397043357622 0.980059741929875\n",
      "Seed solver complete, radius: 1.0684876976490727\n"
     ]
    },
    {
     "name": "stderr",
     "output_type": "stream",
     "text": [
      "Set SLURM handle signals.\n",
      "INFO:lightning:Set SLURM handle signals.\n"
     ]
    },
    {
     "data": {
      "application/vnd.jupyter.widget-view+json": {
       "model_id": "b4b01f31c7704223a2b465f32dc1b80f",
       "version_major": 2,
       "version_minor": 0
      },
      "text/plain": [
       "HBox(children=(FloatProgress(value=1.0, bar_style='info', description='Testing', layout=Layout(flex='2'), max=…"
      ]
     },
     "metadata": {},
     "output_type": "display_data"
    },
    {
     "name": "stdout",
     "output_type": "stream",
     "text": [
      "--------------------------------------------------------------------------------\n",
      "DATALOADER:0 TEST RESULTS\n",
      "{'edge_eff': tensor(0.9620, device='cuda:0'),\n",
      " 'edge_pur': tensor(0.9563, device='cuda:0'),\n",
      " 'loss': tensor(0.3605, device='cuda:0'),\n",
      " 'truth': array([ True,  True,  True, ..., False, False, False]),\n",
      " 'truth_graph': array([[ 7055,  7055,  7055, ...,  6760,  6760,  6760],\n",
      "       [ 3856, 10637,  9096, ...,  5876,  5047,  6720]])}\n",
      "--------------------------------------------------------------------------------\n",
      "DATALOADER:1 TEST RESULTS\n",
      "{'edge_eff': tensor(0.9572, device='cuda:0'),\n",
      " 'edge_pur': tensor(0.9555, device='cuda:0'),\n",
      " 'loss': tensor(0.3323, device='cuda:0'),\n",
      " 'truth': array([ True,  True,  True, ..., False, False, False]),\n",
      " 'truth_graph': array([[10276, 10276, 10276, ...,  2371,  2371,  2371],\n",
      "       [ 7138, 11519,  4065, ...,  2419,   482, 11538]])}\n",
      "--------------------------------------------------------------------------------\n",
      "DATALOADER:2 TEST RESULTS\n",
      "{'edge_eff': tensor(0.9729, device='cuda:0'),\n",
      " 'edge_pur': tensor(0.9787, device='cuda:0'),\n",
      " 'loss': tensor(0.2505, device='cuda:0'),\n",
      " 'truth': array([False,  True,  True, ...,  True,  True, False]),\n",
      " 'truth_graph': array([[ 1182,  1182,  1182, ...,  1078,  1078,  1078],\n",
      "       [ 4215,  8663,  8740, ..., 12634,  2514,  9195]])}\n",
      "--------------------------------------------------------------------------------\n",
      "DATALOADER:3 TEST RESULTS\n",
      "{'edge_eff': tensor(0.9516, device='cuda:0'),\n",
      " 'edge_pur': tensor(0.9523, device='cuda:0'),\n",
      " 'loss': tensor(0.3493, device='cuda:0'),\n",
      " 'truth': array([ True,  True,  True, ..., False, False, False]),\n",
      " 'truth_graph': array([[9453, 9453, 9453, ..., 1274, 1274, 1274],\n",
      "       [1984, 1144, 3900, ...,  388, 5153, 2120]])}\n",
      "--------------------------------------------------------------------------------\n",
      "DATALOADER:4 TEST RESULTS\n",
      "{'edge_eff': tensor(0.9545, device='cuda:0'),\n",
      " 'edge_pur': tensor(0.9478, device='cuda:0'),\n",
      " 'loss': tensor(0.3965, device='cuda:0'),\n",
      " 'truth': array([ True,  True,  True, ...,  True,  True,  True]),\n",
      " 'truth_graph': array([[8095, 8095, 8095, ..., 6398, 6398, 6398],\n",
      "       [1934, 2703, 4187, ..., 7320, 6366, 6373]])}\n",
      "--------------------------------------------------------------------------------\n",
      "DATALOADER:5 TEST RESULTS\n",
      "{'edge_eff': tensor(0.9519, device='cuda:0'),\n",
      " 'edge_pur': tensor(0.9458, device='cuda:0'),\n",
      " 'loss': tensor(0.4041, device='cuda:0'),\n",
      " 'truth': array([ True,  True,  True, ..., False, False, False]),\n",
      " 'truth_graph': array([[5505, 5505, 5505, ..., 5276, 5276, 5276],\n",
      "       [7176, 2538, 3556, ..., 8267, 6694, 9751]])}\n",
      "--------------------------------------------------------------------------------\n",
      "DATALOADER:6 TEST RESULTS\n",
      "{'edge_eff': tensor(0.9722, device='cuda:0'),\n",
      " 'edge_pur': tensor(0.9712, device='cuda:0'),\n",
      " 'loss': tensor(0.2883, device='cuda:0'),\n",
      " 'truth': array([ True,  True,  True, ..., False, False, False]),\n",
      " 'truth_graph': array([[ 3283,  3283,  3283, ...,  9727,  9727,  9727],\n",
      "       [ 5477,   488,  4393, ..., 11972,  8391,  8386]])}\n",
      "--------------------------------------------------------------------------------\n",
      "DATALOADER:7 TEST RESULTS\n",
      "{'edge_eff': tensor(0.9703, device='cuda:0'),\n",
      " 'edge_pur': tensor(0.9603, device='cuda:0'),\n",
      " 'loss': tensor(0.2937, device='cuda:0'),\n",
      " 'truth': array([ True,  True,  True, ...,  True,  True,  True]),\n",
      " 'truth_graph': array([[ 8891,  8891,  8891, ...,  9576,  9576,  9576],\n",
      "       [12726, 12756, 11571, ...,   158, 11450,  1693]])}\n",
      "--------------------------------------------------------------------------------\n",
      "DATALOADER:8 TEST RESULTS\n",
      "{'edge_eff': tensor(0.9679, device='cuda:0'),\n",
      " 'edge_pur': tensor(0.9676, device='cuda:0'),\n",
      " 'loss': tensor(0.3083, device='cuda:0'),\n",
      " 'truth': array([ True,  True,  True, ...,  True,  True,  True]),\n",
      " 'truth_graph': array([[ 8874,  8874,  8874, ..., 12822, 12822, 12822],\n",
      "       [ 3362,  5450, 11720, ...,  5299, 13316, 12263]])}\n",
      "--------------------------------------------------------------------------------\n",
      "DATALOADER:9 TEST RESULTS\n",
      "{'edge_eff': tensor(0.9626, device='cuda:0'),\n",
      " 'edge_pur': tensor(0.9601, device='cuda:0'),\n",
      " 'loss': tensor(0.3195, device='cuda:0'),\n",
      " 'truth': array([ True,  True,  True, ..., False, False, False]),\n",
      " 'truth_graph': array([[ 2328,  2328,  2328, ...,  4607,  4607,  4607],\n",
      "       [  879,   223,  1550, ..., 11526,  5371,  9663]])}\n",
      "--------------------------------------------------------------------------------\n",
      "DATALOADER:10 TEST RESULTS\n",
      "{'edge_eff': tensor(0.9721, device='cuda:0'),\n",
      " 'edge_pur': tensor(0.9736, device='cuda:0'),\n",
      " 'loss': tensor(0.2708, device='cuda:0'),\n",
      " 'truth': array([ True,  True,  True, ..., False, False,  True]),\n",
      " 'truth_graph': array([[2996, 2996, 2996, ...,  658,  658,  658],\n",
      "       [4062, 5781, 8650, ..., 5211,  185, 6373]])}\n",
      "--------------------------------------------------------------------------------\n",
      "DATALOADER:11 TEST RESULTS\n",
      "{'edge_eff': tensor(0.9769, device='cuda:0'),\n",
      " 'edge_pur': tensor(0.9716, device='cuda:0'),\n",
      " 'loss': tensor(0.2675, device='cuda:0'),\n",
      " 'truth': array([ True,  True,  True, ..., False, False, False]),\n",
      " 'truth_graph': array([[ 5152,  5152,  5152, ..., 12185, 12185, 12185],\n",
      "       [  908,  6814,  8537, ...,  8216,  8227, 10501]])}\n",
      "--------------------------------------------------------------------------------\n",
      "DATALOADER:12 TEST RESULTS\n",
      "{'edge_eff': tensor(0.9513, device='cuda:0'),\n",
      " 'edge_pur': tensor(0.9544, device='cuda:0'),\n",
      " 'loss': tensor(0.3600, device='cuda:0'),\n",
      " 'truth': array([ True,  True,  True, ..., False, False, False]),\n",
      " 'truth_graph': array([[5165, 5165, 5165, ..., 5578, 5578, 5578],\n",
      "       [3944, 2599, 2555, ...,  400, 3312, 8026]])}\n",
      "--------------------------------------------------------------------------------\n",
      "DATALOADER:13 TEST RESULTS\n",
      "{'edge_eff': tensor(0.9674, device='cuda:0'),\n",
      " 'edge_pur': tensor(0.9620, device='cuda:0'),\n",
      " 'loss': tensor(0.3052, device='cuda:0'),\n",
      " 'truth': array([ True,  True,  True, ..., False, False, False]),\n",
      " 'truth_graph': array([[ 2835,  2835,  2835, ...,  9689,  9689,  9689],\n",
      "       [11525, 11559,  1850, ..., 12012, 11985,  9648]])}\n",
      "--------------------------------------------------------------------------------\n",
      "DATALOADER:14 TEST RESULTS\n",
      "{'edge_eff': tensor(0.9631, device='cuda:0'),\n",
      " 'edge_pur': tensor(0.9659, device='cuda:0'),\n",
      " 'loss': tensor(0.2998, device='cuda:0'),\n",
      " 'truth': array([ True,  True,  True, ..., False, False, False]),\n",
      " 'truth_graph': array([[ 669,  669,  669, ..., 6207, 6207, 6207],\n",
      "       [1649, 8279, 8272, ..., 5456, 5483, 7545]])}\n",
      "--------------------------------------------------------------------------------\n",
      "DATALOADER:15 TEST RESULTS\n",
      "{'edge_eff': tensor(0.9607, device='cuda:0'),\n",
      " 'edge_pur': tensor(0.9489, device='cuda:0'),\n",
      " 'loss': tensor(0.3366, device='cuda:0'),\n",
      " 'truth': array([ True,  True, False, ..., False, False, False]),\n",
      " 'truth_graph': array([[14466, 14466, 14466, ...,  4280,  4280,  4280],\n",
      "       [ 5280,  5264, 13247, ..., 10946, 10882, 12714]])}\n",
      "--------------------------------------------------------------------------------\n",
      "DATALOADER:16 TEST RESULTS\n",
      "{'edge_eff': tensor(0.9637, device='cuda:0'),\n",
      " 'edge_pur': tensor(0.9682, device='cuda:0'),\n",
      " 'loss': tensor(0.2795, device='cuda:0'),\n",
      " 'truth': array([ True,  True,  True, ...,  True,  True,  True]),\n",
      " 'truth_graph': array([[ 5824,  5824,  5824, ...,  5188,  5188,  5188],\n",
      "       [ 6808, 11300, 12529, ..., 11896,  2834, 14511]])}\n",
      "--------------------------------------------------------------------------------\n",
      "DATALOADER:17 TEST RESULTS\n",
      "{'edge_eff': tensor(0.9599, device='cuda:0'),\n",
      " 'edge_pur': tensor(0.9657, device='cuda:0'),\n",
      " 'loss': tensor(0.3031, device='cuda:0'),\n",
      " 'truth': array([ True,  True,  True, ..., False, False, False]),\n",
      " 'truth_graph': array([[8306, 8306, 8306, ..., 6682, 6682, 6682],\n",
      "       [7033, 3441,  141, ..., 4816, 9312, 2586]])}\n",
      "--------------------------------------------------------------------------------\n",
      "DATALOADER:18 TEST RESULTS\n",
      "{'edge_eff': tensor(0.9644, device='cuda:0'),\n",
      " 'edge_pur': tensor(0.9648, device='cuda:0'),\n",
      " 'loss': tensor(0.3318, device='cuda:0'),\n",
      " 'truth': array([ True,  True,  True, ...,  True,  True, False]),\n",
      " 'truth_graph': array([[10781, 10781, 10781, ...,  5296,  5296,  5296],\n",
      "       [  425,  6828,  2232, ..., 12077,  4366,  6852]])}\n",
      "--------------------------------------------------------------------------------\n",
      "DATALOADER:19 TEST RESULTS\n",
      "{'edge_eff': tensor(0.9558, device='cuda:0'),\n",
      " 'edge_pur': tensor(0.9538, device='cuda:0'),\n",
      " 'loss': tensor(0.3489, device='cuda:0'),\n",
      " 'truth': array([ True,  True,  True, ..., False, False, False]),\n",
      " 'truth_graph': array([[ 2973,  2973,  2973, ...,  2514,  2514,  2514],\n",
      "       [15325,  1286, 13484, ...,  1051, 13489, 12510]])}\n",
      "--------------------------------------------------------------------------------\n",
      "\n",
      "0.4984457079042242 0.9800002405026307\n"
     ]
    },
    {
     "data": {
      "text/plain": [
       "((0.9800002405026307, 0.4984457079042242), 1.0684876976490727)"
      ]
     },
     "execution_count": 151,
     "metadata": {},
     "output_type": "execute_result"
    }
   ],
   "source": [
    "embedding_model_evaluation(model, trainer, \"eff\", 0.98)"
   ]
  },
  {
   "cell_type": "code",
   "execution_count": null,
   "metadata": {},
   "outputs": [],
   "source": []
  }
 ],
 "metadata": {
  "kernelspec": {
   "display_name": "ExatrkxTest",
   "language": "python",
   "name": "exatrkx-test"
  }
 },
 "nbformat": 4,
 "nbformat_minor": 4
}
